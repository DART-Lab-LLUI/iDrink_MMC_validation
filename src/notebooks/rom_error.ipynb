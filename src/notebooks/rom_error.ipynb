{
 "cells": [
  {
   "cell_type": "code",
   "id": "initial_id",
   "metadata": {
    "collapsed": true,
    "ExecuteTime": {
     "end_time": "2024-12-29T21:50:47.428901Z",
     "start_time": "2024-12-29T21:50:45.776724Z"
    }
   },
   "source": [
    "import os\n",
    "import sys\n",
    "import glob\n",
    "from operator import index\n",
    "from os import write\n",
    "\n",
    "from tqdm import tqdm\n",
    "import pandas as pd\n",
    "import numpy as np\n",
    "import ast\n",
    "\n",
    "import plotly as py\n",
    "import plotly.express as px\n",
    "import plotly.graph_objects as go\n",
    "from plotly.subplots import make_subplots\n",
    "from traitsui.examples.demo.Advanced.Tabular_editor_with_context_menu_demo import columns\n",
    "\n",
    "sys.path.append(os.path.realpath(os.path.abspath('..')))\n",
    "from iDrink import iDrinkUtilities\n",
    "from iDrink.iDrinkUtilities import get_title_measure_name, get_unit, get_cad, get_setting_axis_name"
   ],
   "outputs": [],
   "execution_count": 1
  },
  {
   "metadata": {
    "ExecuteTime": {
     "end_time": "2024-12-29T21:50:51.363453Z",
     "start_time": "2024-12-29T21:50:51.152266Z"
    }
   },
   "cell_type": "code",
   "source": [
    "drive = iDrinkUtilities.get_drivepath()\n",
    "\n",
    "root_iDrink = os.path.join(drive, 'iDrink')\n",
    "root_val = os.path.join(root_iDrink, \"validation_root\")\n",
    "root_stat = os.path.join(root_val, '04_Statistics')\n",
    "root_omc = os.path.join(root_val, '03_data', 'OMC_new', 'S15133')\n",
    "root_data = os.path.join(root_val, \"03_data\")\n",
    "root_logs = os.path.join(root_val, \"05_logs\")\n",
    "\n",
    "csv_val_trials = os.path.join(root_logs, 'validation_trials.csv')\n",
    "df_val_trials = pd.read_csv(csv_val_trials, sep=';')\n",
    "\n",
    "csv_settings = os.path.join(root_logs, 'validation_settings.csv')\n",
    "df_settings = pd.read_csv(csv_settings, sep=';')\n",
    "\n",
    "csv_calib_error = os.path.join(root_logs, 'calib_errors.csv')\n",
    "df_calib_error = pd.read_csv(csv_calib_error, sep=';')\n",
    "\n",
    "csv_murphy = os.path.join(root_stat, '02_categorical', 'murphy_measures.csv')\n",
    "df_murphy = pd.read_csv(csv_murphy, sep=';')\n",
    "\n",
    "csv_failed_trials = os.path.join(root_stat, '04_failed_trials', 'failed_trials.csv')\n",
    "df_failed_trials = pd.read_csv(csv_failed_trials, sep=';')\n",
    "\n",
    "\n",
    "csv_cad = os.path.join(root_stat, '02_categorical', 'clinically_acceptable_difference.csv')\n",
    "\n",
    "df_cad = pd.read_csv(csv_cad, sep=',')\n",
    "\n",
    "list_identifier = sorted(df_val_trials['identifier'].tolist())\n",
    "\n",
    "ignore_id_p = ['P11', 'P19']\n",
    "idx_s_singlecam_full = ['S017', 'S018', 'S019', 'S020', 'S021', 'S022', 'S023', 'S024', 'S025', 'S026']\n",
    "idx_s_singlecam = ['S017', 'S018']\n",
    "idx_s_multicam = ['S001', 'S002', 'S003', 'S004', 'S005', 'S006', 'S007', 'S008', 'S009', 'S010', 'S011', 'S012', 'S013', 'S014', 'S015', 'S016']\n",
    "idx_s_multicam_reduced = ['S001', 'S002']\n",
    "idx_s_reduced = idx_s_multicam_reduced + idx_s_singlecam\n",
    "idx_s = idx_s_multicam + idx_s_singlecam"
   ],
   "id": "36db9321baf743a8",
   "outputs": [],
   "execution_count": 2
  },
  {
   "metadata": {},
   "cell_type": "markdown",
   "source": [
    "# Range of Motion Error\n",
    "## Time-Series"
   ],
   "id": "9ed845150dfc3ba0"
  },
  {
   "metadata": {
    "ExecuteTime": {
     "end_time": "2024-12-29T21:50:57.192377Z",
     "start_time": "2024-12-29T21:50:55.127903Z"
    }
   },
   "cell_type": "code",
   "source": [
    "from scipy import stats\n",
    "\n",
    "dir_stat_cont = os.path.join(root_stat, '01_continuous')\n",
    "dir_results = os.path.join(dir_stat_cont, '01_results')\n",
    "dir_plots = os.path.join(dir_stat_cont, '02_plots')\n",
    "\n",
    "csv_rom = os.path.join(dir_results, 'omc_mmc_rom.csv')\n",
    "df_rom = pd.read_csv(csv_rom, sep=';')\n",
    "df_rom.dropna(axis=1, inplace=True)\n",
    "dir_boxplots_rom_error = os.path.join(dir_plots, '04_rom', '01_rom_error_boxplots')\n",
    "\n",
    "df_rom = df_rom[(df_rom['id_s'].isin(idx_s_reduced)) & (~df_rom['id_p'].isin(ignore_id_p))]\n",
    "\n",
    "# Detect outlier for ROM errors\n",
    "cols_error = ['hand_vel_rom_error', 'elbow_vel_rom_error', 'trunk_disp_rom_error', 'elbow_flex_pos_rom_error', 'shoulder_flex_pos_rom_error', 'shoulder_abduction_pos_rom_error']\n",
    "df_rom = df_rom[(np.abs(stats.zscore(df_rom[cols_error])) < 3).all(axis=1)]\n",
    "\n",
    "\n",
    "#metrics = ['hand_vel', 'elbow_vel', 'trunk_disp', 'trunk_ang', 'elbow_flex_pos', 'shoulder_flex_pos', 'shoulder_abduction_pos']\n",
    "metrics = ['hand_vel', 'elbow_vel', 'trunk_disp', 'elbow_flex_pos', 'shoulder_flex_pos', 'shoulder_abduction_pos']\n",
    "\n",
    "df_filtered = df_rom[~df_rom['id_p'].isin(ignore_id_p)].sort_values(by='id_p')\n",
    "df_filtered = df_filtered[df_filtered['dynamic'] == 'fixed']\n",
    "df_filtered_rom_errors = df_filtered.groupby(['id_s', 'id_t']).median(numeric_only=True).filter(like='error')\n",
    "\n",
    "df_for_plot = pd.DataFrame(columns=['id_s', 'id_s_name', 'id_t', 'measure', 'error'])\n",
    "joint_metrics = ['elbow_flex_pos', 'shoulder_flex_pos', 'shoulder_abduction_pos']\n",
    "\n",
    "for id in df_filtered_rom_errors.index.to_list():\n",
    "    id_s = id[0]\n",
    "    id_t = id[1]\n",
    "    id_s_name = get_setting_axis_name(id_s)\n",
    "    for metric in metrics:\n",
    "        error = df_filtered_rom_errors.loc[id, f'{metric}_rom_error']\n",
    "        df_for_plot = pd.concat([df_for_plot, pd.DataFrame({'id_s': id_s, 'id_s_name': id_s_name, 'id_t': id_t, 'measure': metric, 'error': error}, index=[0])], ignore_index=True)\n",
    "    "
   ],
   "id": "dbbdf8da65d0f9c3",
   "outputs": [],
   "execution_count": 3
  },
  {
   "metadata": {
    "ExecuteTime": {
     "end_time": "2024-12-29T22:08:42.732215Z",
     "start_time": "2024-12-29T22:08:40.690137Z"
    }
   },
   "cell_type": "code",
   "source": [
    "os.makedirs(dir_boxplots_rom_error, exist_ok=True)\n",
    "\n",
    "for measure in metrics:\n",
    "    unit = get_unit(measure)\n",
    "    title_name = get_title_measure_name(measure)\n",
    "        \n",
    "    cad = get_cad(df_cad, measure)\n",
    "    cad_neg = -cad\n",
    "    \n",
    "    fig = px.box(df_for_plot[df_for_plot['measure'] == measure].sort_values(by='id_s'), x='id_s_name', y='error', title=f'{title_name} ROM error, cad = {cad}', template='plotly', hover_name='id_t', width=650, height=650)\n",
    "    \n",
    "\n",
    "    \n",
    "    fig.add_hline(y=cad, line_dash='dash', line_color='red', name='CAD')\n",
    "    fig.add_hline(y=cad_neg, line_dash='dash', line_color='red', name='CAD')\n",
    "    \n",
    "    fig.update_layout(title= dict(text=f'<b>{title_name} ROM error<br>cad = {cad} {unit}<b>', font=dict(size=26)),\n",
    "                      xaxis_title=dict(text=f'<b>Settings<b>', font=dict(size=22)),\n",
    "                      yaxis_title=dict(text=f'<b>ROM error [{unit}]<b>', font=dict(size=22)),\n",
    "                      xaxis=dict(tickfont=dict(size=20))\n",
    "                  )\n",
    "    \n",
    "    #fig.show()\n",
    "\n",
    "    os.makedirs(os.path.join(dir_boxplots_rom_error, 'png'), exist_ok=True)\n",
    "    \n",
    "    filepath = os.path.join(dir_boxplots_rom_error, f'{measure}_rom_error_boxplot.html')\n",
    "    fig.write_html(filepath)\n",
    "    \n",
    "    filepath = os.path.join(dir_boxplots_rom_error, 'png', f'0304_{measure}_rom_error_boxplot.png')\n",
    "    fig.write_image(filepath, scale=5)\n",
    "    \n",
    "    filepath = os.path.join(dir_boxplots_rom_error, f'{measure}_rom_error_boxplot.svg')\n",
    "    fig.write_image(filepath)\n",
    "    "
   ],
   "id": "555c7821156234fb",
   "outputs": [],
   "execution_count": 16
  },
  {
   "metadata": {
    "ExecuteTime": {
     "end_time": "2024-12-23T15:29:40.137481Z",
     "start_time": "2024-12-23T15:29:40.135584Z"
    }
   },
   "cell_type": "code",
   "source": "",
   "id": "b77d7b3a0fd3d786",
   "outputs": [],
   "execution_count": null
  },
  {
   "metadata": {
    "ExecuteTime": {
     "end_time": "2024-12-29T21:51:59.584218Z",
     "start_time": "2024-12-29T21:51:59.580050Z"
    }
   },
   "cell_type": "code",
   "source": "ignore_id_s = ['S003', 'S005', 'S006', 'S007', 'S008']",
   "id": "e10df9068b90b434",
   "outputs": [],
   "execution_count": 5
  },
  {
   "metadata": {
    "ExecuteTime": {
     "end_time": "2024-12-29T21:52:04.219533Z",
     "start_time": "2024-12-29T21:52:03.045917Z"
    }
   },
   "cell_type": "code",
   "source": [
    "df_filtered = df_rom[~df_rom['id_p'].isin(ignore_id_p)].sort_values(by='id_p')\n",
    "df_filtered = df_filtered[~df_filtered['id_s'].isin(ignore_id_s)].sort_values(by='id_p')\n",
    "\n",
    "\n",
    "df_filtered = df_filtered[df_filtered['dynamic'] == 'fixed']\n",
    "df_filtered_rom_errors = df_filtered.groupby(['id_s', 'id_t']).mean(numeric_only=True).filter(like='error')\n",
    "\n",
    "df_for_plot_corr = pd.DataFrame(columns=['id_s', 'id_s_name', 'id_t', 'measure', 'error'])\n",
    "joint_metrics = ['elbow_flex_pos', 'shoulder_flex_pos', 'shoulder_abduction_pos']\n",
    "\n",
    "for id in df_filtered_rom_errors.index.to_list():\n",
    "    id_s = id[0]\n",
    "    id_t = id[1]\n",
    "    id_s_name = get_setting_axis_name(id_s)\n",
    "    for metric in metrics:\n",
    "        error = df_filtered_rom_errors.loc[id, f'{metric}_rom_error']\n",
    "        df_for_plot_corr = pd.concat([df_for_plot_corr, pd.DataFrame({'id_s': id_s, 'id_s_name': id_s_name, 'id_t': id_t, 'measure': metric, 'error': error}, index=[0])], ignore_index=True)\n",
    "    "
   ],
   "id": "35fb2d5011f949af",
   "outputs": [],
   "execution_count": 6
  },
  {
   "metadata": {
    "ExecuteTime": {
     "end_time": "2024-12-23T15:29:40.916205Z",
     "start_time": "2024-12-23T15:29:40.911286Z"
    }
   },
   "cell_type": "code",
   "source": "df_checkup = df_for_plot.groupby(['id_s', 'measure']).median(numeric_only=True)",
   "id": "fb144e868829a4cc",
   "outputs": [],
   "execution_count": 115
  },
  {
   "metadata": {
    "ExecuteTime": {
     "end_time": "2024-12-23T15:29:41.458631Z",
     "start_time": "2024-12-23T15:29:40.956863Z"
    }
   },
   "cell_type": "code",
   "source": [
    "os.makedirs(dir_boxplots_rom_error, exist_ok=True)\n",
    "\n",
    "for measure in metrics:\n",
    "    unit = get_unit(measure)\n",
    "    title_name = get_title_measure_name(measure)\n",
    "    \n",
    "    cad = get_cad(df_cad, measure)\n",
    "    cad_minus = -cad\n",
    "    \n",
    "    fig = px.box(df_for_plot_corr[df_for_plot_corr['measure'] == measure], x='id_s_name', y='error', title=f'{title_name} ROM error, cad = {cad} {unit}',\n",
    "                 template='plotly')\n",
    "    \n",
    "\n",
    "    \n",
    "    fig.add_hline(y=cad, line_dash='dash', line_color='red', name='CAD')\n",
    "    fig.add_hline(y=-cad, line_dash='dash', line_color='red', name='CAD')\n",
    "    \n",
    "    fig.update_layout(title= f'{title_name} ROM error, cad = {cad} {unit}',\n",
    "                  xaxis_title=f'Settings',\n",
    "                  yaxis_title=f'ROM error [{unit}]',\n",
    "                  )\n",
    "    \n",
    "    #fig.show()\n",
    "    \n",
    "    \"\"\"filepath = os.path.join(dir_boxplots_rom_error, f'{measure}_rom_error_boxplot_corr.html')\n",
    "    fig.write_html(filepath)\n",
    "    \n",
    "    filepath = os.path.join(dir_boxplots_rom_error, f'{measure}_rom_error_boxplot_corr.png')\n",
    "    fig.write_image(filepath)\"\"\""
   ],
   "id": "1dd4fe5657816c92",
   "outputs": [
    {
     "data": {
      "application/vnd.plotly.v1+json": {
       "data": [
        {
         "alignmentgroup": "True",
         "hovertemplate": "id_s_name=%{x}<br>error=%{y}<extra></extra>",
         "legendgroup": "",
         "marker": {
          "color": "#636efa"
         },
         "name": "",
         "notched": false,
         "offsetgroup": "",
         "orientation": "v",
         "showlegend": false,
         "x": [
          "SimCC, Cams: 1,2,3,4,5",
          "SimCC, Cams: 1,2,3,4,5",
          "SimCC, Cams: 1,2,3,4,5",
          "SimCC, Cams: 1,2,3,4,5",
          "SimCC, Cams: 1,2,3,4,5",
          "SimCC, Cams: 1,2,3,4,5",
          "SimCC, Cams: 1,2,3,4,5",
          "SimCC, Cams: 1,2,3,4,5",
          "SimCC, Cams: 1,2,3,4,5",
          "SimCC, Cams: 1,2,3,4,5",
          "SimCC, Cams: 1,2,3,4,5",
          "SimCC, Cams: 1,2,3,4,5",
          "SimCC, Cams: 1,2,3,4,5",
          "SimCC, Cams: 1,2,3,4,5",
          "SimCC, Cams: 1,2,3,4,5",
          "SimCC, Cams: 1,2,3,4,5",
          "SimCC, Cams: 1,2,3,4,5",
          "SimCC, Cams: 1,2,3,4,5",
          "SimCC, Cams: 1,2,3,4,5",
          "SimCC, Cams: 1,2,3,4,5",
          "SimCC, Cams: 1,2,3,4,5",
          "SimCC, Cams: 1,2,3,4,5",
          "SimCC, Cams: 1,2,3,4,5",
          "SimCC, Cams: 1,2,3,4,5",
          "SimCC, Cams: 1,2,3,4,5",
          "SimCC, Cams: 1,2,3,4,5",
          "SimCC, Cams: 1,2,3,4,5",
          "SimCC, Cams: 1,2,3,4,5",
          "SimCC, Cams: 1,2,3,4,5",
          "SimCC, Cams: 1,2,3,4,5",
          "SimCC, Cams: 1,2,3,4,5",
          "SimCC, Cams: 1,2,3,4,5",
          "SimCC, Cams: 1,2,3,4,5",
          "SimCC, Cams: 1,2,3,4,5",
          "SimCC, Cams: 1,2,3,4,5",
          "SimCC, Cams: 1,2,3,4,5",
          "SimCC, Cams: 1,2,3,4,5",
          "SimCC, Cams: 1,2,3,4,5",
          "SimCC, Cams: 1,2,3,4,5",
          "SimCC, Cams: 1,2,3,4,5",
          "SimCC, Cams: 1,2,3,4,5",
          "SimCC, Cams: 1,2,3,4,5",
          "SimCC, Cams: 1,2,3,4,5",
          "SimCC, Cams: 1,2,3,4,5",
          "SimCC, Cams: 1,2,3,4,5",
          "SimCC, Cams: 1,2,3,4,5",
          "SimCC, Cams: 1,2,3,4,5",
          "SimCC, Cams: 1,2,3,4,5",
          "SimCC, Cams: 1,2,3,4,5",
          "SimCC, Cams: 1,2,3,4,5",
          "SimCC, Cams: 1,2,3,4,5",
          "SimCC, Cams: 1,2,3,4,5",
          "SimCC, Cams: 1,2,3,4,5",
          "SimCC, Cams: 1,2,3,4,5",
          "SimCC, Cams: 1,2,3,4,5",
          "SimCC, Cams: 1,2,3,4,5",
          "SimCC, Cams: 1,2,3,4,5",
          "SimCC, Cams: 1,2,3,4,5",
          "SimCC, Cams: 1,2,3,4,5",
          "SimCC, Cams: 1,2,3,4,5",
          "SimCC, Cams: 1,2,3,4,5",
          "SimCC, Cams: 1,2,3,4,5",
          "SimCC, Cams: 1,2,3,4,5",
          "SimCC, Cams: 1,2,3,4,5",
          "SimCC, Cams: 1,2,3,4,5",
          "SimCC, Cams: 1,2,3,4,5",
          "SimCC, Cams: 1,2,3,4,5",
          "SimCC, Cams: 1,2,3,4,5",
          "SimCC, Cams: 1,2,3,4,5",
          "SimCC, Cams: 1,2,3,4,5",
          "SimCC, Cams: 1,2,3,4,5",
          "SimCC, Cams: 1,2,3,4,5",
          "SimCC, Cams: 1,2,3,4,5",
          "SimCC, Cams: 1,2,3,4,5",
          "SimCC, Cams: 1,2,3,4,5",
          "SimCC, Cams: 1,2,3,4,5",
          "SimCC, Cams: 1,2,3,4,5",
          "SimCC, Cams: 1,2,3,4,5",
          "SimCC, Cams: 1,2,3,4,5",
          "SimCC, Cams: 1,2,3,4,5",
          "SimCC, Cams: 1,2,3,4,5",
          "SimCC, Cams: 1,2,3,4,5",
          "SimCC, Cams: 1,2,3,4,5",
          "SimCC, Cams: 1,2,3,4,5",
          "SimCC, Cams: 1,2,3,4,5",
          "SimCC, Cams: 1,2,3,4,5",
          "SimCC, Cams: 1,2,3,4,5",
          "SimCC, Cams: 1,2,3,4,5",
          "SimCC, Cams: 1,2,3,4,5",
          "Metrabs, Cams: 1,2,3,4,5",
          "Metrabs, Cams: 1,2,3,4,5",
          "Metrabs, Cams: 1,2,3,4,5",
          "Metrabs, Cams: 1,2,3,4,5",
          "Metrabs, Cams: 1,2,3,4,5",
          "Metrabs, Cams: 1,2,3,4,5",
          "Metrabs, Cams: 1,2,3,4,5",
          "Metrabs, Cams: 1,2,3,4,5",
          "Metrabs, Cams: 1,2,3,4,5",
          "Metrabs, Cams: 1,2,3,4,5",
          "Metrabs, Cams: 1,2,3,4,5",
          "Metrabs, Cams: 1,2,3,4,5",
          "Metrabs, Cams: 1,2,3,4,5",
          "Metrabs, Cams: 1,2,3,4,5",
          "Metrabs, Cams: 1,2,3,4,5",
          "Metrabs, Cams: 1,2,3,4,5",
          "Metrabs, Cams: 1,2,3,4,5",
          "Metrabs, Cams: 1,2,3,4,5",
          "Metrabs, Cams: 1,2,3,4,5",
          "Metrabs, Cams: 1,2,3,4,5",
          "Metrabs, Cams: 1,2,3,4,5",
          "Metrabs, Cams: 1,2,3,4,5",
          "Metrabs, Cams: 1,2,3,4,5",
          "Metrabs, Cams: 1,2,3,4,5",
          "Metrabs, Cams: 1,2,3,4,5",
          "Metrabs, Cams: 1,2,3,4,5",
          "Metrabs, Cams: 1,2,3,4,5",
          "Metrabs, Cams: 1,2,3,4,5",
          "Metrabs, Cams: 1,2,3,4,5",
          "Metrabs, Cams: 1,2,3,4,5",
          "Metrabs, Cams: 1,2,3,4,5",
          "Metrabs, Cams: 1,2,3,4,5",
          "Metrabs, Cams: 1,2,3,4,5",
          "Metrabs, Cams: 1,2,3,4,5",
          "Metrabs, Cams: 1,2,3,4,5",
          "Metrabs, Cams: 1,2,3,4,5",
          "Metrabs, Cams: 1,2,3,4,5",
          "Metrabs, Cams: 1,2,3,4,5",
          "Metrabs, Cams: 1,2,3,4,5",
          "Metrabs, Cams: 1,2,3,4,5",
          "Metrabs, Cams: 1,2,3,4,5",
          "Metrabs, Cams: 1,2,3,4,5",
          "Metrabs, Cams: 1,2,3,4,5",
          "Metrabs, Cams: 1,2,3,4,5",
          "Metrabs, Cams: 1,2,3,4,5",
          "Metrabs, Cams: 1,2,3,4,5",
          "Metrabs, Cams: 1,2,3,4,5",
          "Metrabs, Cams: 1,2,3,4,5",
          "Metrabs, Cams: 1,2,3,4,5",
          "Metrabs, Cams: 1,2,3,4,5",
          "Metrabs, Cams: 1,2,3,4,5",
          "Metrabs, Cams: 1,2,3,4,5",
          "Metrabs, Cams: 1,2,3,4,5",
          "Metrabs, Cams: 1,2,3,4,5",
          "Metrabs, Cams: 1,2,3,4,5",
          "Metrabs, Cams: 1,2,3,4,5",
          "Metrabs, Cams: 1,2,3,4,5",
          "Metrabs, Cams: 1,2,3,4,5",
          "Metrabs, Cams: 1,2,3,4,5",
          "Metrabs, Cams: 1,2,3,4,5",
          "Metrabs, Cams: 1,2,3,4,5",
          "Metrabs, Cams: 1,2,3,4,5",
          "Metrabs, Cams: 1,2,3,4,5",
          "Metrabs, Cams: 1,2,3,4,5",
          "Metrabs, Cams: 1,2,3,4,5",
          "Metrabs, Cams: 1,2,3,4,5",
          "Metrabs, Cams: 1,2,3,4,5",
          "Metrabs, Cams: 1,2,3,4,5",
          "Metrabs, Cams: 1,2,3,4,5",
          "Metrabs, Cams: 1,2,3,4,5",
          "Metrabs, Cams: 1,2,3,4,5",
          "Metrabs, Cams: 1,2,3,4,5",
          "Metrabs, Cams: 1,2,3,4,5",
          "Metrabs, Cams: 1,2,3,4,5",
          "Metrabs, Cams: 1,2,3,4,5",
          "Metrabs, Cams: 1,2,3,4,5",
          "Metrabs, Cams: 1,2,3,4,5",
          "Metrabs, Cams: 1,2,3,4,5",
          "Metrabs, Cams: 1,2,3,4,5",
          "Metrabs, Cams: 1,2,3,4,5",
          "Metrabs, Cams: 1,2,3,4,5",
          "Metrabs, Cams: 1,2,3,4,5",
          "Metrabs, Cams: 1,2,3,4,5",
          "Metrabs, Cams: 1,2,3,4,5",
          "Metrabs, Cams: 1,2,3,4,5",
          "Metrabs, Cams: 1,2,3,4,5",
          "Metrabs, Cams: 1,2,3,4,5",
          "Metrabs, Cams: 1,2,3,4,5",
          "Metrabs, Cams: 1,2,3,4,5",
          "Metrabs, Cams: 1,2,3,4,5",
          "Single, Cam: 1, filt",
          "Single, Cam: 1, filt",
          "Single, Cam: 1, filt",
          "Single, Cam: 1, filt",
          "Single, Cam: 1, filt",
          "Single, Cam: 1, filt",
          "Single, Cam: 1, filt",
          "Single, Cam: 1, filt",
          "Single, Cam: 1, filt",
          "Single, Cam: 1, filt",
          "Single, Cam: 1, filt",
          "Single, Cam: 1, filt",
          "Single, Cam: 1, filt",
          "Single, Cam: 1, filt",
          "Single, Cam: 1, filt",
          "Single, Cam: 1, filt",
          "Single, Cam: 1, filt",
          "Single, Cam: 1, filt",
          "Single, Cam: 1, filt",
          "Single, Cam: 1, filt",
          "Single, Cam: 1, filt",
          "Single, Cam: 1, filt",
          "Single, Cam: 1, filt",
          "Single, Cam: 1, filt",
          "Single, Cam: 1, filt",
          "Single, Cam: 1, filt",
          "Single, Cam: 1, filt",
          "Single, Cam: 1, filt",
          "Single, Cam: 1, filt",
          "Single, Cam: 1, filt",
          "Single, Cam: 1, filt",
          "Single, Cam: 1, filt",
          "Single, Cam: 1, filt",
          "Single, Cam: 1, filt",
          "Single, Cam: 1, filt",
          "Single, Cam: 1, filt",
          "Single, Cam: 1, filt",
          "Single, Cam: 1, filt",
          "Single, Cam: 1, filt",
          "Single, Cam: 1, filt",
          "Single, Cam: 1, filt",
          "Single, Cam: 1, filt",
          "Single, Cam: 1, filt",
          "Single, Cam: 1, filt",
          "Single, Cam: 1, filt",
          "Single, Cam: 1, filt",
          "Single, Cam: 1, filt",
          "Single, Cam: 1, filt",
          "Single, Cam: 1, filt",
          "Single, Cam: 1, filt",
          "Single, Cam: 1, filt",
          "Single, Cam: 1, filt",
          "Single, Cam: 1, filt",
          "Single, Cam: 1, filt",
          "Single, Cam: 1, filt",
          "Single, Cam: 1, filt",
          "Single, Cam: 1, filt",
          "Single, Cam: 1, filt",
          "Single, Cam: 1, filt",
          "Single, Cam: 1, filt",
          "Single, Cam: 1, filt",
          "Single, Cam: 1, filt",
          "Single, Cam: 1, filt",
          "Single, Cam: 1, filt",
          "Single, Cam: 1, filt",
          "Single, Cam: 1, filt",
          "Single, Cam: 1, filt",
          "Single, Cam: 1, filt",
          "Single, Cam: 1, filt",
          "Single, Cam: 1, filt",
          "Single, Cam: 1, filt",
          "Single, Cam: 1, filt",
          "Single, Cam: 1, filt",
          "Single, Cam: 1, filt",
          "Single, Cam: 1, filt",
          "Single, Cam: 1, filt",
          "Single, Cam: 1, filt",
          "Single, Cam: 1, filt",
          "Single, Cam: 1, filt",
          "Single, Cam: 1, filt",
          "Single, Cam: 1, filt",
          "Single, Cam: 1, filt",
          "Single, Cam: 1, filt",
          "Single, Cam: 1, filt",
          "Single, Cam: 1, filt",
          "Single, Cam: 1, filt",
          "Single, Cam: 1, filt",
          "Single, Cam: 1, filt",
          "Single, Cam: 1, filt",
          "Single, Cam: 1, filt",
          "Single, Cam: 1, unfilt",
          "Single, Cam: 1, unfilt",
          "Single, Cam: 1, unfilt",
          "Single, Cam: 1, unfilt",
          "Single, Cam: 1, unfilt",
          "Single, Cam: 1, unfilt",
          "Single, Cam: 1, unfilt",
          "Single, Cam: 1, unfilt",
          "Single, Cam: 1, unfilt",
          "Single, Cam: 1, unfilt",
          "Single, Cam: 1, unfilt",
          "Single, Cam: 1, unfilt",
          "Single, Cam: 1, unfilt",
          "Single, Cam: 1, unfilt",
          "Single, Cam: 1, unfilt",
          "Single, Cam: 1, unfilt",
          "Single, Cam: 1, unfilt",
          "Single, Cam: 1, unfilt",
          "Single, Cam: 1, unfilt",
          "Single, Cam: 1, unfilt",
          "Single, Cam: 1, unfilt",
          "Single, Cam: 1, unfilt",
          "Single, Cam: 1, unfilt",
          "Single, Cam: 1, unfilt",
          "Single, Cam: 1, unfilt",
          "Single, Cam: 1, unfilt",
          "Single, Cam: 1, unfilt",
          "Single, Cam: 1, unfilt",
          "Single, Cam: 1, unfilt",
          "Single, Cam: 1, unfilt",
          "Single, Cam: 1, unfilt",
          "Single, Cam: 1, unfilt",
          "Single, Cam: 1, unfilt",
          "Single, Cam: 1, unfilt",
          "Single, Cam: 1, unfilt",
          "Single, Cam: 1, unfilt",
          "Single, Cam: 1, unfilt",
          "Single, Cam: 1, unfilt",
          "Single, Cam: 1, unfilt",
          "Single, Cam: 1, unfilt",
          "Single, Cam: 1, unfilt",
          "Single, Cam: 1, unfilt",
          "Single, Cam: 1, unfilt",
          "Single, Cam: 1, unfilt",
          "Single, Cam: 1, unfilt",
          "Single, Cam: 1, unfilt",
          "Single, Cam: 1, unfilt",
          "Single, Cam: 1, unfilt",
          "Single, Cam: 1, unfilt",
          "Single, Cam: 1, unfilt",
          "Single, Cam: 1, unfilt",
          "Single, Cam: 1, unfilt",
          "Single, Cam: 1, unfilt",
          "Single, Cam: 1, unfilt",
          "Single, Cam: 1, unfilt",
          "Single, Cam: 1, unfilt",
          "Single, Cam: 1, unfilt",
          "Single, Cam: 1, unfilt",
          "Single, Cam: 1, unfilt",
          "Single, Cam: 1, unfilt",
          "Single, Cam: 1, unfilt",
          "Single, Cam: 1, unfilt",
          "Single, Cam: 1, unfilt",
          "Single, Cam: 1, unfilt",
          "Single, Cam: 1, unfilt",
          "Single, Cam: 1, unfilt",
          "Single, Cam: 1, unfilt",
          "Single, Cam: 1, unfilt",
          "Single, Cam: 1, unfilt",
          "Single, Cam: 1, unfilt",
          "Single, Cam: 1, unfilt",
          "Single, Cam: 1, unfilt",
          "Single, Cam: 1, unfilt",
          "Single, Cam: 1, unfilt",
          "Single, Cam: 1, unfilt",
          "Single, Cam: 1, unfilt",
          "Single, Cam: 1, unfilt",
          "Single, Cam: 1, unfilt",
          "Single, Cam: 1, unfilt",
          "Single, Cam: 1, unfilt",
          "Single, Cam: 1, unfilt",
          "Single, Cam: 1, unfilt",
          "Single, Cam: 1, unfilt",
          "Single, Cam: 1, unfilt",
          "Single, Cam: 1, unfilt",
          "Single, Cam: 1, unfilt",
          "Single, Cam: 1, unfilt",
          "Single, Cam: 1, unfilt",
          "Single, Cam: 1, unfilt",
          "Single, Cam: 1, unfilt"
         ],
         "x0": " ",
         "xaxis": "x",
         "y": [
          467.1673280912133,
          6.71314954887814,
          80.09489384343304,
          -0.3421317294580502,
          -124.08428647884345,
          -40.11135376237546,
          966.1422425878336,
          1265.877391013836,
          1139.660184481348,
          -11.302501015120953,
          -9.894363840773062,
          21.234280163407657,
          41.47194767849394,
          625.4339500844214,
          146.23219537989263,
          858.9725279512197,
          -24.505184129537675,
          37.31851064256453,
          5.77502846500868,
          -7.744143258565238,
          -28.86252641440907,
          0.4771449098516882,
          -34.142083971479416,
          58.11225113605901,
          43.06618926083983,
          -26.240748574865528,
          18.74708721111868,
          31.993736948192595,
          -18.62560121569034,
          11.524051389939318,
          -42.205190362384464,
          4.191750704115283,
          -11.156579222264165,
          64.83823913779646,
          44.07232050749217,
          -69.90031498998655,
          86.00290205532436,
          78.68938857120752,
          83.23121706431985,
          134.175905674783,
          11.559828676655851,
          -0.18070263714029502,
          89.58084236512362,
          98.63514623297502,
          61.387412026629285,
          73.51844385606758,
          48.84933912340934,
          62.09033547393319,
          92.20285095159083,
          31.92443015842152,
          249.77677610344838,
          62.66430077404777,
          56.05600579638321,
          107.21566480754332,
          -11.370279569584294,
          9.686949187409747,
          98.46451364576744,
          94.46640672976885,
          36.259441263435406,
          121.41274270323976,
          35.49245403114522,
          9.457381061076738,
          19.008212700959007,
          10.530669389040574,
          105.60661457942145,
          250.14879648126922,
          68.21772994448273,
          135.8541226650518,
          68.66857628548996,
          -181.3654156561101,
          31.284571230866675,
          113.37470914530347,
          68.55462279538831,
          89.61425457887596,
          25.394677864883477,
          78.94832831169384,
          111.57162300669444,
          39.49966526882394,
          -309.54026935217985,
          31.095265107145696,
          39.716412941569125,
          -40.32702790197326,
          47.658712640301175,
          64.72096086652721,
          -32.77649655281812,
          -12.299557138986302,
          3.774307069278507,
          -50.50406413430039,
          -111.64159031787858,
          9.539983648572914,
          -6.796709596498867,
          38.10898571047332,
          13.661529621236554,
          -47.71027654846166,
          49.33838602048427,
          37.48717045771842,
          24.52646304665375,
          51.298512364436114,
          80.46882969850847,
          55.35062301038696,
          64.21998906661987,
          9.03881258412043,
          225.84891831306336,
          269.5302506852083,
          6.795047552210103,
          28.360261900258894,
          74.41465646707833,
          33.54533914082011,
          11.797072611958242,
          -5.905465642425099,
          583.7429903670168,
          29.388830508588455,
          59.48328704991508,
          191.73693912688535,
          26.848423755094178,
          43.86538355084955,
          53.29243195458108,
          45.83590349435476,
          161.83325740986794,
          -62.603452196318585,
          31.333214792675506,
          41.63930658560192,
          88.86160050839858,
          43.396753038924125,
          -92.97423499538627,
          207.41667361792338,
          45.74751218568391,
          73.47050705524076,
          480.57997925217194,
          21.066200529080145,
          25.682724910960587,
          40.210879665587186,
          72.47652346644009,
          117.00876104907158,
          94.79006391746908,
          101.8135619858623,
          420.7347715846517,
          731.4674938736727,
          529.1995793612314,
          359.9432636103856,
          1963.8510572231583,
          1032.501333790962,
          495.0845677156759,
          755.0772783182283,
          527.1603940570599,
          632.8138328599119,
          521.4649726873498,
          336.07465071939026,
          424.2691166059481,
          570.4245873818811,
          325.45900632938475,
          120.86201781541756,
          426.2709116640619,
          594.2350369540756,
          708.2217926232107,
          104.8145748804932,
          592.7655136026068,
          1099.9450111935469,
          444.3041141882575,
          82.87385955689336,
          98.75548501034018,
          481.25866980603655,
          511.69679230700643,
          575.4172407760922,
          551.8054949815693,
          619.7319380737417,
          929.4820606182028,
          194.4903396341903,
          578.5422352474542,
          442.72215882149743,
          322.8295841349044,
          632.1442735357997,
          2763.7269947664067,
          2703.794524678801,
          -30.252524911444425,
          1549.475581360947,
          6245.250528501661,
          1419.3880413889067,
          2807.452851095948,
          185.8713440830586,
          179.44976598200523,
          190.0486101702738,
          188.27433157167462,
          206.35440300953724,
          97.72224698577745,
          173.00060899865133,
          -34.9464264790409,
          169.96133213971893,
          176.58080330460575,
          97.42236735577977,
          173.6141960073957,
          200.089715450346,
          142.5929618382987,
          198.8334533767092,
          141.7285378245762,
          111.95976767890113,
          207.70066164524067,
          137.29713946593,
          189.60461778127285,
          95.84526072624537,
          218.4273813317063,
          92.06772772952601,
          140.38790486612652,
          155.34968313705946,
          98.20409735914473,
          112.04623374474295,
          151.78220470465257,
          113.95329457099297,
          86.30057380282288,
          81.4461177508003,
          149.3973058972565,
          120.09373627542486,
          213.84453337233816,
          135.74442206746303,
          61.42468872213816,
          163.85099248534965,
          153.47403559855442,
          136.18660361741667,
          126.32648041377192,
          119.49090313109176,
          119.53051276611326,
          144.56490321089944,
          165.78260935610223,
          123.11098194130163,
          88.80296255042168,
          4617.785827800355,
          100.89486800914167,
          130.58464487480202,
          137.75259542192018,
          124.30859998328874,
          155.49967881956368,
          122.68700155691226,
          100.28665533305318,
          69.76219401607,
          98.10433352740623,
          92.71986152032719,
          124.12635423261892,
          103.44791033144053,
          106.26432474876769,
          88.6935801776785,
          78.35813745030569,
          109.78084211325805,
          90.921372327569,
          89.46960356362902,
          107.95871449453958,
          113.60640055473634,
          77.54264662331481,
          55.74038794160744,
          -201.90216721542458,
          18.480529829379105,
          87.35087465851568,
          68.73048238300058,
          60.46951523696588,
          32.34771976922072,
          91.8366023374059,
          52.32256266090409,
          97.79726172748144,
          -225.1369597901539,
          75.85436370869472,
          42.385729100659695,
          31.182946531852785,
          -12.914618103544187,
          173.90835333152177,
          99.66349419049817,
          166.84279493161205,
          144.129648403339,
          245.25851052717582,
          92.48800069669073,
          247.2881340229128,
          463.3318850849006,
          1802.9833990316977,
          642.3208584239621,
          906.863556282958,
          1436.4005572421604,
          687.6874700787572,
          4880.153576157177,
          141.72571018049618,
          1035.849082585216,
          543.4852918507215,
          476.3868128207484,
          711.6754819689717,
          819.998151878781,
          1108.9889069410663,
          670.9237060743036,
          618.2241462062591,
          580.186883242773,
          1010.9079512137617,
          5965.061120189622,
          623.4684352102674,
          647.3289462884313,
          1774.7146959398399,
          694.511302794694,
          656.7106938827534,
          893.4899352662658,
          773.595930454902,
          5143.372856972237,
          993.818339128351,
          685.9623563804807,
          872.0465542972346,
          734.4586779821457,
          1107.89658647834,
          694.8263837797585,
          861.6081603290329,
          755.7249522767978,
          5099.251013860606,
          869.015073982953,
          573.269412758004,
          873.2759721795419,
          791.3817407167851,
          957.8085001554306,
          5808.883533931293,
          692.3008864524273,
          650.7391838049227,
          562.1511328139559,
          5821.532344221593,
          559.5087343794399,
          684.4253664772349,
          592.2752267680982,
          893.2442510075889,
          680.3925009636406,
          534.379022106257,
          632.7757638149549,
          421.3927103728385,
          793.8643580290874,
          768.9780914192809,
          979.8043501646198,
          637.795144758197,
          764.5844008294116,
          675.3781883594789,
          580.382914997465,
          490.3935135398165,
          518.5377537978147,
          822.2788348778329,
          714.007719933735,
          684.6920157721614,
          545.9329328133001,
          883.0045423531059,
          504.1481507251493,
          194.87284727327219,
          432.20173076572047,
          699.5701095036835,
          357.90413957391627,
          460.95035283695296,
          408.78818063770086,
          1185.3437945989263,
          514.5709697039414,
          474.15838957445067,
          139.14092706183652,
          492.7006404736142,
          360.21214248032067,
          704.9314789414274,
          508.06129476269535,
          619.1285598710668,
          752.1370859114486,
          601.4291157571258,
          1349.6143118387167,
          538.3756834505157,
          643.6163553828688,
          761.2753013217168
         ],
         "y0": " ",
         "yaxis": "y",
         "type": "box"
        }
       ],
       "layout": {
        "template": {
         "data": {
          "barpolar": [
           {
            "marker": {
             "line": {
              "color": "#E5ECF6",
              "width": 0.5
             },
             "pattern": {
              "fillmode": "overlay",
              "size": 10,
              "solidity": 0.2
             }
            },
            "type": "barpolar"
           }
          ],
          "bar": [
           {
            "error_x": {
             "color": "#2a3f5f"
            },
            "error_y": {
             "color": "#2a3f5f"
            },
            "marker": {
             "line": {
              "color": "#E5ECF6",
              "width": 0.5
             },
             "pattern": {
              "fillmode": "overlay",
              "size": 10,
              "solidity": 0.2
             }
            },
            "type": "bar"
           }
          ],
          "carpet": [
           {
            "aaxis": {
             "endlinecolor": "#2a3f5f",
             "gridcolor": "white",
             "linecolor": "white",
             "minorgridcolor": "white",
             "startlinecolor": "#2a3f5f"
            },
            "baxis": {
             "endlinecolor": "#2a3f5f",
             "gridcolor": "white",
             "linecolor": "white",
             "minorgridcolor": "white",
             "startlinecolor": "#2a3f5f"
            },
            "type": "carpet"
           }
          ],
          "choropleth": [
           {
            "colorbar": {
             "outlinewidth": 0,
             "ticks": ""
            },
            "type": "choropleth"
           }
          ],
          "contourcarpet": [
           {
            "colorbar": {
             "outlinewidth": 0,
             "ticks": ""
            },
            "type": "contourcarpet"
           }
          ],
          "contour": [
           {
            "colorbar": {
             "outlinewidth": 0,
             "ticks": ""
            },
            "colorscale": [
             [
              0.0,
              "#0d0887"
             ],
             [
              0.1111111111111111,
              "#46039f"
             ],
             [
              0.2222222222222222,
              "#7201a8"
             ],
             [
              0.3333333333333333,
              "#9c179e"
             ],
             [
              0.4444444444444444,
              "#bd3786"
             ],
             [
              0.5555555555555556,
              "#d8576b"
             ],
             [
              0.6666666666666666,
              "#ed7953"
             ],
             [
              0.7777777777777778,
              "#fb9f3a"
             ],
             [
              0.8888888888888888,
              "#fdca26"
             ],
             [
              1.0,
              "#f0f921"
             ]
            ],
            "type": "contour"
           }
          ],
          "heatmapgl": [
           {
            "colorbar": {
             "outlinewidth": 0,
             "ticks": ""
            },
            "colorscale": [
             [
              0.0,
              "#0d0887"
             ],
             [
              0.1111111111111111,
              "#46039f"
             ],
             [
              0.2222222222222222,
              "#7201a8"
             ],
             [
              0.3333333333333333,
              "#9c179e"
             ],
             [
              0.4444444444444444,
              "#bd3786"
             ],
             [
              0.5555555555555556,
              "#d8576b"
             ],
             [
              0.6666666666666666,
              "#ed7953"
             ],
             [
              0.7777777777777778,
              "#fb9f3a"
             ],
             [
              0.8888888888888888,
              "#fdca26"
             ],
             [
              1.0,
              "#f0f921"
             ]
            ],
            "type": "heatmapgl"
           }
          ],
          "heatmap": [
           {
            "colorbar": {
             "outlinewidth": 0,
             "ticks": ""
            },
            "colorscale": [
             [
              0.0,
              "#0d0887"
             ],
             [
              0.1111111111111111,
              "#46039f"
             ],
             [
              0.2222222222222222,
              "#7201a8"
             ],
             [
              0.3333333333333333,
              "#9c179e"
             ],
             [
              0.4444444444444444,
              "#bd3786"
             ],
             [
              0.5555555555555556,
              "#d8576b"
             ],
             [
              0.6666666666666666,
              "#ed7953"
             ],
             [
              0.7777777777777778,
              "#fb9f3a"
             ],
             [
              0.8888888888888888,
              "#fdca26"
             ],
             [
              1.0,
              "#f0f921"
             ]
            ],
            "type": "heatmap"
           }
          ],
          "histogram2dcontour": [
           {
            "colorbar": {
             "outlinewidth": 0,
             "ticks": ""
            },
            "colorscale": [
             [
              0.0,
              "#0d0887"
             ],
             [
              0.1111111111111111,
              "#46039f"
             ],
             [
              0.2222222222222222,
              "#7201a8"
             ],
             [
              0.3333333333333333,
              "#9c179e"
             ],
             [
              0.4444444444444444,
              "#bd3786"
             ],
             [
              0.5555555555555556,
              "#d8576b"
             ],
             [
              0.6666666666666666,
              "#ed7953"
             ],
             [
              0.7777777777777778,
              "#fb9f3a"
             ],
             [
              0.8888888888888888,
              "#fdca26"
             ],
             [
              1.0,
              "#f0f921"
             ]
            ],
            "type": "histogram2dcontour"
           }
          ],
          "histogram2d": [
           {
            "colorbar": {
             "outlinewidth": 0,
             "ticks": ""
            },
            "colorscale": [
             [
              0.0,
              "#0d0887"
             ],
             [
              0.1111111111111111,
              "#46039f"
             ],
             [
              0.2222222222222222,
              "#7201a8"
             ],
             [
              0.3333333333333333,
              "#9c179e"
             ],
             [
              0.4444444444444444,
              "#bd3786"
             ],
             [
              0.5555555555555556,
              "#d8576b"
             ],
             [
              0.6666666666666666,
              "#ed7953"
             ],
             [
              0.7777777777777778,
              "#fb9f3a"
             ],
             [
              0.8888888888888888,
              "#fdca26"
             ],
             [
              1.0,
              "#f0f921"
             ]
            ],
            "type": "histogram2d"
           }
          ],
          "histogram": [
           {
            "marker": {
             "pattern": {
              "fillmode": "overlay",
              "size": 10,
              "solidity": 0.2
             }
            },
            "type": "histogram"
           }
          ],
          "mesh3d": [
           {
            "colorbar": {
             "outlinewidth": 0,
             "ticks": ""
            },
            "type": "mesh3d"
           }
          ],
          "parcoords": [
           {
            "line": {
             "colorbar": {
              "outlinewidth": 0,
              "ticks": ""
             }
            },
            "type": "parcoords"
           }
          ],
          "pie": [
           {
            "automargin": true,
            "type": "pie"
           }
          ],
          "scatter3d": [
           {
            "line": {
             "colorbar": {
              "outlinewidth": 0,
              "ticks": ""
             }
            },
            "marker": {
             "colorbar": {
              "outlinewidth": 0,
              "ticks": ""
             }
            },
            "type": "scatter3d"
           }
          ],
          "scattercarpet": [
           {
            "marker": {
             "colorbar": {
              "outlinewidth": 0,
              "ticks": ""
             }
            },
            "type": "scattercarpet"
           }
          ],
          "scattergeo": [
           {
            "marker": {
             "colorbar": {
              "outlinewidth": 0,
              "ticks": ""
             }
            },
            "type": "scattergeo"
           }
          ],
          "scattergl": [
           {
            "marker": {
             "colorbar": {
              "outlinewidth": 0,
              "ticks": ""
             }
            },
            "type": "scattergl"
           }
          ],
          "scattermapbox": [
           {
            "marker": {
             "colorbar": {
              "outlinewidth": 0,
              "ticks": ""
             }
            },
            "type": "scattermapbox"
           }
          ],
          "scatterpolargl": [
           {
            "marker": {
             "colorbar": {
              "outlinewidth": 0,
              "ticks": ""
             }
            },
            "type": "scatterpolargl"
           }
          ],
          "scatterpolar": [
           {
            "marker": {
             "colorbar": {
              "outlinewidth": 0,
              "ticks": ""
             }
            },
            "type": "scatterpolar"
           }
          ],
          "scatter": [
           {
            "fillpattern": {
             "fillmode": "overlay",
             "size": 10,
             "solidity": 0.2
            },
            "type": "scatter"
           }
          ],
          "scatterternary": [
           {
            "marker": {
             "colorbar": {
              "outlinewidth": 0,
              "ticks": ""
             }
            },
            "type": "scatterternary"
           }
          ],
          "surface": [
           {
            "colorbar": {
             "outlinewidth": 0,
             "ticks": ""
            },
            "colorscale": [
             [
              0.0,
              "#0d0887"
             ],
             [
              0.1111111111111111,
              "#46039f"
             ],
             [
              0.2222222222222222,
              "#7201a8"
             ],
             [
              0.3333333333333333,
              "#9c179e"
             ],
             [
              0.4444444444444444,
              "#bd3786"
             ],
             [
              0.5555555555555556,
              "#d8576b"
             ],
             [
              0.6666666666666666,
              "#ed7953"
             ],
             [
              0.7777777777777778,
              "#fb9f3a"
             ],
             [
              0.8888888888888888,
              "#fdca26"
             ],
             [
              1.0,
              "#f0f921"
             ]
            ],
            "type": "surface"
           }
          ],
          "table": [
           {
            "cells": {
             "fill": {
              "color": "#EBF0F8"
             },
             "line": {
              "color": "white"
             }
            },
            "header": {
             "fill": {
              "color": "#C8D4E3"
             },
             "line": {
              "color": "white"
             }
            },
            "type": "table"
           }
          ]
         },
         "layout": {
          "annotationdefaults": {
           "arrowcolor": "#2a3f5f",
           "arrowhead": 0,
           "arrowwidth": 1
          },
          "autotypenumbers": "strict",
          "coloraxis": {
           "colorbar": {
            "outlinewidth": 0,
            "ticks": ""
           }
          },
          "colorscale": {
           "diverging": [
            [
             0,
             "#8e0152"
            ],
            [
             0.1,
             "#c51b7d"
            ],
            [
             0.2,
             "#de77ae"
            ],
            [
             0.3,
             "#f1b6da"
            ],
            [
             0.4,
             "#fde0ef"
            ],
            [
             0.5,
             "#f7f7f7"
            ],
            [
             0.6,
             "#e6f5d0"
            ],
            [
             0.7,
             "#b8e186"
            ],
            [
             0.8,
             "#7fbc41"
            ],
            [
             0.9,
             "#4d9221"
            ],
            [
             1,
             "#276419"
            ]
           ],
           "sequential": [
            [
             0.0,
             "#0d0887"
            ],
            [
             0.1111111111111111,
             "#46039f"
            ],
            [
             0.2222222222222222,
             "#7201a8"
            ],
            [
             0.3333333333333333,
             "#9c179e"
            ],
            [
             0.4444444444444444,
             "#bd3786"
            ],
            [
             0.5555555555555556,
             "#d8576b"
            ],
            [
             0.6666666666666666,
             "#ed7953"
            ],
            [
             0.7777777777777778,
             "#fb9f3a"
            ],
            [
             0.8888888888888888,
             "#fdca26"
            ],
            [
             1.0,
             "#f0f921"
            ]
           ],
           "sequentialminus": [
            [
             0.0,
             "#0d0887"
            ],
            [
             0.1111111111111111,
             "#46039f"
            ],
            [
             0.2222222222222222,
             "#7201a8"
            ],
            [
             0.3333333333333333,
             "#9c179e"
            ],
            [
             0.4444444444444444,
             "#bd3786"
            ],
            [
             0.5555555555555556,
             "#d8576b"
            ],
            [
             0.6666666666666666,
             "#ed7953"
            ],
            [
             0.7777777777777778,
             "#fb9f3a"
            ],
            [
             0.8888888888888888,
             "#fdca26"
            ],
            [
             1.0,
             "#f0f921"
            ]
           ]
          },
          "colorway": [
           "#636efa",
           "#EF553B",
           "#00cc96",
           "#ab63fa",
           "#FFA15A",
           "#19d3f3",
           "#FF6692",
           "#B6E880",
           "#FF97FF",
           "#FECB52"
          ],
          "font": {
           "color": "#2a3f5f"
          },
          "geo": {
           "bgcolor": "white",
           "lakecolor": "white",
           "landcolor": "#E5ECF6",
           "showlakes": true,
           "showland": true,
           "subunitcolor": "white"
          },
          "hoverlabel": {
           "align": "left"
          },
          "hovermode": "closest",
          "mapbox": {
           "style": "light"
          },
          "paper_bgcolor": "white",
          "plot_bgcolor": "#E5ECF6",
          "polar": {
           "angularaxis": {
            "gridcolor": "white",
            "linecolor": "white",
            "ticks": ""
           },
           "bgcolor": "#E5ECF6",
           "radialaxis": {
            "gridcolor": "white",
            "linecolor": "white",
            "ticks": ""
           }
          },
          "scene": {
           "xaxis": {
            "backgroundcolor": "#E5ECF6",
            "gridcolor": "white",
            "gridwidth": 2,
            "linecolor": "white",
            "showbackground": true,
            "ticks": "",
            "zerolinecolor": "white"
           },
           "yaxis": {
            "backgroundcolor": "#E5ECF6",
            "gridcolor": "white",
            "gridwidth": 2,
            "linecolor": "white",
            "showbackground": true,
            "ticks": "",
            "zerolinecolor": "white"
           },
           "zaxis": {
            "backgroundcolor": "#E5ECF6",
            "gridcolor": "white",
            "gridwidth": 2,
            "linecolor": "white",
            "showbackground": true,
            "ticks": "",
            "zerolinecolor": "white"
           }
          },
          "shapedefaults": {
           "line": {
            "color": "#2a3f5f"
           }
          },
          "ternary": {
           "aaxis": {
            "gridcolor": "white",
            "linecolor": "white",
            "ticks": ""
           },
           "baxis": {
            "gridcolor": "white",
            "linecolor": "white",
            "ticks": ""
           },
           "bgcolor": "#E5ECF6",
           "caxis": {
            "gridcolor": "white",
            "linecolor": "white",
            "ticks": ""
           }
          },
          "title": {
           "x": 0.05
          },
          "xaxis": {
           "automargin": true,
           "gridcolor": "white",
           "linecolor": "white",
           "ticks": "",
           "title": {
            "standoff": 15
           },
           "zerolinecolor": "white",
           "zerolinewidth": 2
          },
          "yaxis": {
           "automargin": true,
           "gridcolor": "white",
           "linecolor": "white",
           "ticks": "",
           "title": {
            "standoff": 15
           },
           "zerolinecolor": "white",
           "zerolinewidth": 2
          }
         }
        },
        "xaxis": {
         "anchor": "y",
         "domain": [
          0.0,
          1.0
         ],
         "title": {
          "text": "Settings"
         }
        },
        "yaxis": {
         "anchor": "x",
         "domain": [
          0.0,
          1.0
         ],
         "title": {
          "text": "ROM error [mm/s]"
         }
        },
        "legend": {
         "tracegroupgap": 0
        },
        "title": {
         "text": "Hand Velocity ROM error, cad = 78.96 mm/s"
        },
        "boxmode": "group",
        "shapes": [
         {
          "line": {
           "color": "red",
           "dash": "dash"
          },
          "name": "CAD",
          "type": "line",
          "x0": 0,
          "x1": 1,
          "xref": "x domain",
          "y0": 78.96,
          "y1": 78.96,
          "yref": "y"
         },
         {
          "line": {
           "color": "red",
           "dash": "dash"
          },
          "name": "CAD",
          "type": "line",
          "x0": 0,
          "x1": 1,
          "xref": "x domain",
          "y0": -78.96,
          "y1": -78.96,
          "yref": "y"
         }
        ]
       },
       "config": {
        "plotlyServerURL": "https://plot.ly"
       }
      },
      "text/html": [
       "<div>                            <div id=\"fbc33887-10e5-44f2-bdda-db6ff310d8dd\" class=\"plotly-graph-div\" style=\"height:525px; width:100%;\"></div>            <script type=\"text/javascript\">                require([\"plotly\"], function(Plotly) {                    window.PLOTLYENV=window.PLOTLYENV || {};                                    if (document.getElementById(\"fbc33887-10e5-44f2-bdda-db6ff310d8dd\")) {                    Plotly.newPlot(                        \"fbc33887-10e5-44f2-bdda-db6ff310d8dd\",                        [{\"alignmentgroup\":\"True\",\"hovertemplate\":\"id_s_name=%{x}\\u003cbr\\u003eerror=%{y}\\u003cextra\\u003e\\u003c\\u002fextra\\u003e\",\"legendgroup\":\"\",\"marker\":{\"color\":\"#636efa\"},\"name\":\"\",\"notched\":false,\"offsetgroup\":\"\",\"orientation\":\"v\",\"showlegend\":false,\"x\":[\"SimCC, Cams: 1,2,3,4,5\",\"SimCC, Cams: 1,2,3,4,5\",\"SimCC, Cams: 1,2,3,4,5\",\"SimCC, Cams: 1,2,3,4,5\",\"SimCC, Cams: 1,2,3,4,5\",\"SimCC, Cams: 1,2,3,4,5\",\"SimCC, Cams: 1,2,3,4,5\",\"SimCC, Cams: 1,2,3,4,5\",\"SimCC, Cams: 1,2,3,4,5\",\"SimCC, Cams: 1,2,3,4,5\",\"SimCC, Cams: 1,2,3,4,5\",\"SimCC, Cams: 1,2,3,4,5\",\"SimCC, Cams: 1,2,3,4,5\",\"SimCC, Cams: 1,2,3,4,5\",\"SimCC, Cams: 1,2,3,4,5\",\"SimCC, Cams: 1,2,3,4,5\",\"SimCC, Cams: 1,2,3,4,5\",\"SimCC, Cams: 1,2,3,4,5\",\"SimCC, Cams: 1,2,3,4,5\",\"SimCC, Cams: 1,2,3,4,5\",\"SimCC, Cams: 1,2,3,4,5\",\"SimCC, Cams: 1,2,3,4,5\",\"SimCC, Cams: 1,2,3,4,5\",\"SimCC, Cams: 1,2,3,4,5\",\"SimCC, Cams: 1,2,3,4,5\",\"SimCC, Cams: 1,2,3,4,5\",\"SimCC, Cams: 1,2,3,4,5\",\"SimCC, Cams: 1,2,3,4,5\",\"SimCC, Cams: 1,2,3,4,5\",\"SimCC, Cams: 1,2,3,4,5\",\"SimCC, Cams: 1,2,3,4,5\",\"SimCC, Cams: 1,2,3,4,5\",\"SimCC, Cams: 1,2,3,4,5\",\"SimCC, Cams: 1,2,3,4,5\",\"SimCC, Cams: 1,2,3,4,5\",\"SimCC, Cams: 1,2,3,4,5\",\"SimCC, Cams: 1,2,3,4,5\",\"SimCC, Cams: 1,2,3,4,5\",\"SimCC, Cams: 1,2,3,4,5\",\"SimCC, Cams: 1,2,3,4,5\",\"SimCC, Cams: 1,2,3,4,5\",\"SimCC, Cams: 1,2,3,4,5\",\"SimCC, Cams: 1,2,3,4,5\",\"SimCC, Cams: 1,2,3,4,5\",\"SimCC, Cams: 1,2,3,4,5\",\"SimCC, Cams: 1,2,3,4,5\",\"SimCC, Cams: 1,2,3,4,5\",\"SimCC, Cams: 1,2,3,4,5\",\"SimCC, Cams: 1,2,3,4,5\",\"SimCC, Cams: 1,2,3,4,5\",\"SimCC, Cams: 1,2,3,4,5\",\"SimCC, Cams: 1,2,3,4,5\",\"SimCC, Cams: 1,2,3,4,5\",\"SimCC, Cams: 1,2,3,4,5\",\"SimCC, Cams: 1,2,3,4,5\",\"SimCC, Cams: 1,2,3,4,5\",\"SimCC, Cams: 1,2,3,4,5\",\"SimCC, Cams: 1,2,3,4,5\",\"SimCC, Cams: 1,2,3,4,5\",\"SimCC, Cams: 1,2,3,4,5\",\"SimCC, Cams: 1,2,3,4,5\",\"SimCC, Cams: 1,2,3,4,5\",\"SimCC, Cams: 1,2,3,4,5\",\"SimCC, Cams: 1,2,3,4,5\",\"SimCC, Cams: 1,2,3,4,5\",\"SimCC, Cams: 1,2,3,4,5\",\"SimCC, Cams: 1,2,3,4,5\",\"SimCC, Cams: 1,2,3,4,5\",\"SimCC, Cams: 1,2,3,4,5\",\"SimCC, Cams: 1,2,3,4,5\",\"SimCC, Cams: 1,2,3,4,5\",\"SimCC, Cams: 1,2,3,4,5\",\"SimCC, Cams: 1,2,3,4,5\",\"SimCC, Cams: 1,2,3,4,5\",\"SimCC, Cams: 1,2,3,4,5\",\"SimCC, Cams: 1,2,3,4,5\",\"SimCC, Cams: 1,2,3,4,5\",\"SimCC, Cams: 1,2,3,4,5\",\"SimCC, Cams: 1,2,3,4,5\",\"SimCC, Cams: 1,2,3,4,5\",\"SimCC, Cams: 1,2,3,4,5\",\"SimCC, Cams: 1,2,3,4,5\",\"SimCC, Cams: 1,2,3,4,5\",\"SimCC, Cams: 1,2,3,4,5\",\"SimCC, Cams: 1,2,3,4,5\",\"SimCC, Cams: 1,2,3,4,5\",\"SimCC, Cams: 1,2,3,4,5\",\"SimCC, Cams: 1,2,3,4,5\",\"SimCC, Cams: 1,2,3,4,5\",\"Metrabs, Cams: 1,2,3,4,5\",\"Metrabs, Cams: 1,2,3,4,5\",\"Metrabs, Cams: 1,2,3,4,5\",\"Metrabs, Cams: 1,2,3,4,5\",\"Metrabs, Cams: 1,2,3,4,5\",\"Metrabs, Cams: 1,2,3,4,5\",\"Metrabs, Cams: 1,2,3,4,5\",\"Metrabs, Cams: 1,2,3,4,5\",\"Metrabs, Cams: 1,2,3,4,5\",\"Metrabs, Cams: 1,2,3,4,5\",\"Metrabs, Cams: 1,2,3,4,5\",\"Metrabs, Cams: 1,2,3,4,5\",\"Metrabs, Cams: 1,2,3,4,5\",\"Metrabs, Cams: 1,2,3,4,5\",\"Metrabs, Cams: 1,2,3,4,5\",\"Metrabs, Cams: 1,2,3,4,5\",\"Metrabs, Cams: 1,2,3,4,5\",\"Metrabs, Cams: 1,2,3,4,5\",\"Metrabs, Cams: 1,2,3,4,5\",\"Metrabs, Cams: 1,2,3,4,5\",\"Metrabs, Cams: 1,2,3,4,5\",\"Metrabs, Cams: 1,2,3,4,5\",\"Metrabs, Cams: 1,2,3,4,5\",\"Metrabs, Cams: 1,2,3,4,5\",\"Metrabs, Cams: 1,2,3,4,5\",\"Metrabs, Cams: 1,2,3,4,5\",\"Metrabs, Cams: 1,2,3,4,5\",\"Metrabs, Cams: 1,2,3,4,5\",\"Metrabs, Cams: 1,2,3,4,5\",\"Metrabs, Cams: 1,2,3,4,5\",\"Metrabs, Cams: 1,2,3,4,5\",\"Metrabs, Cams: 1,2,3,4,5\",\"Metrabs, Cams: 1,2,3,4,5\",\"Metrabs, Cams: 1,2,3,4,5\",\"Metrabs, Cams: 1,2,3,4,5\",\"Metrabs, Cams: 1,2,3,4,5\",\"Metrabs, Cams: 1,2,3,4,5\",\"Metrabs, Cams: 1,2,3,4,5\",\"Metrabs, Cams: 1,2,3,4,5\",\"Metrabs, Cams: 1,2,3,4,5\",\"Metrabs, Cams: 1,2,3,4,5\",\"Metrabs, Cams: 1,2,3,4,5\",\"Metrabs, Cams: 1,2,3,4,5\",\"Metrabs, Cams: 1,2,3,4,5\",\"Metrabs, Cams: 1,2,3,4,5\",\"Metrabs, Cams: 1,2,3,4,5\",\"Metrabs, Cams: 1,2,3,4,5\",\"Metrabs, Cams: 1,2,3,4,5\",\"Metrabs, Cams: 1,2,3,4,5\",\"Metrabs, Cams: 1,2,3,4,5\",\"Metrabs, Cams: 1,2,3,4,5\",\"Metrabs, Cams: 1,2,3,4,5\",\"Metrabs, Cams: 1,2,3,4,5\",\"Metrabs, Cams: 1,2,3,4,5\",\"Metrabs, Cams: 1,2,3,4,5\",\"Metrabs, Cams: 1,2,3,4,5\",\"Metrabs, Cams: 1,2,3,4,5\",\"Metrabs, Cams: 1,2,3,4,5\",\"Metrabs, Cams: 1,2,3,4,5\",\"Metrabs, Cams: 1,2,3,4,5\",\"Metrabs, Cams: 1,2,3,4,5\",\"Metrabs, Cams: 1,2,3,4,5\",\"Metrabs, Cams: 1,2,3,4,5\",\"Metrabs, Cams: 1,2,3,4,5\",\"Metrabs, Cams: 1,2,3,4,5\",\"Metrabs, Cams: 1,2,3,4,5\",\"Metrabs, Cams: 1,2,3,4,5\",\"Metrabs, Cams: 1,2,3,4,5\",\"Metrabs, Cams: 1,2,3,4,5\",\"Metrabs, Cams: 1,2,3,4,5\",\"Metrabs, Cams: 1,2,3,4,5\",\"Metrabs, Cams: 1,2,3,4,5\",\"Metrabs, Cams: 1,2,3,4,5\",\"Metrabs, Cams: 1,2,3,4,5\",\"Metrabs, Cams: 1,2,3,4,5\",\"Metrabs, Cams: 1,2,3,4,5\",\"Metrabs, Cams: 1,2,3,4,5\",\"Metrabs, Cams: 1,2,3,4,5\",\"Metrabs, Cams: 1,2,3,4,5\",\"Metrabs, Cams: 1,2,3,4,5\",\"Metrabs, Cams: 1,2,3,4,5\",\"Metrabs, Cams: 1,2,3,4,5\",\"Metrabs, Cams: 1,2,3,4,5\",\"Metrabs, Cams: 1,2,3,4,5\",\"Metrabs, Cams: 1,2,3,4,5\",\"Metrabs, Cams: 1,2,3,4,5\",\"Metrabs, Cams: 1,2,3,4,5\",\"Metrabs, Cams: 1,2,3,4,5\",\"Metrabs, Cams: 1,2,3,4,5\",\"Metrabs, Cams: 1,2,3,4,5\",\"Single, Cam: 1, filt\",\"Single, Cam: 1, filt\",\"Single, Cam: 1, filt\",\"Single, Cam: 1, filt\",\"Single, Cam: 1, filt\",\"Single, Cam: 1, filt\",\"Single, Cam: 1, filt\",\"Single, Cam: 1, filt\",\"Single, Cam: 1, filt\",\"Single, Cam: 1, filt\",\"Single, Cam: 1, filt\",\"Single, Cam: 1, filt\",\"Single, Cam: 1, filt\",\"Single, Cam: 1, filt\",\"Single, Cam: 1, filt\",\"Single, Cam: 1, filt\",\"Single, Cam: 1, filt\",\"Single, Cam: 1, filt\",\"Single, Cam: 1, filt\",\"Single, Cam: 1, filt\",\"Single, Cam: 1, filt\",\"Single, Cam: 1, filt\",\"Single, Cam: 1, filt\",\"Single, Cam: 1, filt\",\"Single, Cam: 1, filt\",\"Single, Cam: 1, filt\",\"Single, Cam: 1, filt\",\"Single, Cam: 1, filt\",\"Single, Cam: 1, filt\",\"Single, Cam: 1, filt\",\"Single, Cam: 1, filt\",\"Single, Cam: 1, filt\",\"Single, Cam: 1, filt\",\"Single, Cam: 1, filt\",\"Single, Cam: 1, filt\",\"Single, Cam: 1, filt\",\"Single, Cam: 1, filt\",\"Single, Cam: 1, filt\",\"Single, Cam: 1, filt\",\"Single, Cam: 1, filt\",\"Single, Cam: 1, filt\",\"Single, Cam: 1, filt\",\"Single, Cam: 1, filt\",\"Single, Cam: 1, filt\",\"Single, Cam: 1, filt\",\"Single, Cam: 1, filt\",\"Single, Cam: 1, filt\",\"Single, Cam: 1, filt\",\"Single, Cam: 1, filt\",\"Single, Cam: 1, filt\",\"Single, Cam: 1, filt\",\"Single, Cam: 1, filt\",\"Single, Cam: 1, filt\",\"Single, Cam: 1, filt\",\"Single, Cam: 1, filt\",\"Single, Cam: 1, filt\",\"Single, Cam: 1, filt\",\"Single, Cam: 1, filt\",\"Single, Cam: 1, filt\",\"Single, Cam: 1, filt\",\"Single, Cam: 1, filt\",\"Single, Cam: 1, filt\",\"Single, Cam: 1, filt\",\"Single, Cam: 1, filt\",\"Single, Cam: 1, filt\",\"Single, Cam: 1, filt\",\"Single, Cam: 1, filt\",\"Single, Cam: 1, filt\",\"Single, Cam: 1, filt\",\"Single, Cam: 1, filt\",\"Single, Cam: 1, filt\",\"Single, Cam: 1, filt\",\"Single, Cam: 1, filt\",\"Single, Cam: 1, filt\",\"Single, Cam: 1, filt\",\"Single, Cam: 1, filt\",\"Single, Cam: 1, filt\",\"Single, Cam: 1, filt\",\"Single, Cam: 1, filt\",\"Single, Cam: 1, filt\",\"Single, Cam: 1, filt\",\"Single, Cam: 1, filt\",\"Single, Cam: 1, filt\",\"Single, Cam: 1, filt\",\"Single, Cam: 1, filt\",\"Single, Cam: 1, filt\",\"Single, Cam: 1, filt\",\"Single, Cam: 1, filt\",\"Single, Cam: 1, filt\",\"Single, Cam: 1, filt\",\"Single, Cam: 1, unfilt\",\"Single, Cam: 1, unfilt\",\"Single, Cam: 1, unfilt\",\"Single, Cam: 1, unfilt\",\"Single, Cam: 1, unfilt\",\"Single, Cam: 1, unfilt\",\"Single, Cam: 1, unfilt\",\"Single, Cam: 1, unfilt\",\"Single, Cam: 1, unfilt\",\"Single, Cam: 1, unfilt\",\"Single, Cam: 1, unfilt\",\"Single, Cam: 1, unfilt\",\"Single, Cam: 1, unfilt\",\"Single, Cam: 1, unfilt\",\"Single, Cam: 1, unfilt\",\"Single, Cam: 1, unfilt\",\"Single, Cam: 1, unfilt\",\"Single, Cam: 1, unfilt\",\"Single, Cam: 1, unfilt\",\"Single, Cam: 1, unfilt\",\"Single, Cam: 1, unfilt\",\"Single, Cam: 1, unfilt\",\"Single, Cam: 1, unfilt\",\"Single, Cam: 1, unfilt\",\"Single, Cam: 1, unfilt\",\"Single, Cam: 1, unfilt\",\"Single, Cam: 1, unfilt\",\"Single, Cam: 1, unfilt\",\"Single, Cam: 1, unfilt\",\"Single, Cam: 1, unfilt\",\"Single, Cam: 1, unfilt\",\"Single, Cam: 1, unfilt\",\"Single, Cam: 1, unfilt\",\"Single, Cam: 1, unfilt\",\"Single, Cam: 1, unfilt\",\"Single, Cam: 1, unfilt\",\"Single, Cam: 1, unfilt\",\"Single, Cam: 1, unfilt\",\"Single, Cam: 1, unfilt\",\"Single, Cam: 1, unfilt\",\"Single, Cam: 1, unfilt\",\"Single, Cam: 1, unfilt\",\"Single, Cam: 1, unfilt\",\"Single, Cam: 1, unfilt\",\"Single, Cam: 1, unfilt\",\"Single, Cam: 1, unfilt\",\"Single, Cam: 1, unfilt\",\"Single, Cam: 1, unfilt\",\"Single, Cam: 1, unfilt\",\"Single, Cam: 1, unfilt\",\"Single, Cam: 1, unfilt\",\"Single, Cam: 1, unfilt\",\"Single, Cam: 1, unfilt\",\"Single, Cam: 1, unfilt\",\"Single, Cam: 1, unfilt\",\"Single, Cam: 1, unfilt\",\"Single, Cam: 1, unfilt\",\"Single, Cam: 1, unfilt\",\"Single, Cam: 1, unfilt\",\"Single, Cam: 1, unfilt\",\"Single, Cam: 1, unfilt\",\"Single, Cam: 1, unfilt\",\"Single, Cam: 1, unfilt\",\"Single, Cam: 1, unfilt\",\"Single, Cam: 1, unfilt\",\"Single, Cam: 1, unfilt\",\"Single, Cam: 1, unfilt\",\"Single, Cam: 1, unfilt\",\"Single, Cam: 1, unfilt\",\"Single, Cam: 1, unfilt\",\"Single, Cam: 1, unfilt\",\"Single, Cam: 1, unfilt\",\"Single, Cam: 1, unfilt\",\"Single, Cam: 1, unfilt\",\"Single, Cam: 1, unfilt\",\"Single, Cam: 1, unfilt\",\"Single, Cam: 1, unfilt\",\"Single, Cam: 1, unfilt\",\"Single, Cam: 1, unfilt\",\"Single, Cam: 1, unfilt\",\"Single, Cam: 1, unfilt\",\"Single, Cam: 1, unfilt\",\"Single, Cam: 1, unfilt\",\"Single, Cam: 1, unfilt\",\"Single, Cam: 1, unfilt\",\"Single, Cam: 1, unfilt\",\"Single, Cam: 1, unfilt\",\"Single, Cam: 1, unfilt\",\"Single, Cam: 1, unfilt\",\"Single, Cam: 1, unfilt\"],\"x0\":\" \",\"xaxis\":\"x\",\"y\":[467.1673280912133,6.71314954887814,80.09489384343304,-0.3421317294580502,-124.08428647884345,-40.11135376237546,966.1422425878336,1265.877391013836,1139.660184481348,-11.302501015120953,-9.894363840773062,21.234280163407657,41.47194767849394,625.4339500844214,146.23219537989263,858.9725279512197,-24.505184129537675,37.31851064256453,5.77502846500868,-7.744143258565238,-28.86252641440907,0.4771449098516882,-34.142083971479416,58.11225113605901,43.06618926083983,-26.240748574865528,18.74708721111868,31.993736948192595,-18.62560121569034,11.524051389939318,-42.205190362384464,4.191750704115283,-11.156579222264165,64.83823913779646,44.07232050749217,-69.90031498998655,86.00290205532436,78.68938857120752,83.23121706431985,134.175905674783,11.559828676655851,-0.18070263714029502,89.58084236512362,98.63514623297502,61.387412026629285,73.51844385606758,48.84933912340934,62.09033547393319,92.20285095159083,31.92443015842152,249.77677610344838,62.66430077404777,56.05600579638321,107.21566480754332,-11.370279569584294,9.686949187409747,98.46451364576744,94.46640672976885,36.259441263435406,121.41274270323976,35.49245403114522,9.457381061076738,19.008212700959007,10.530669389040574,105.60661457942145,250.14879648126922,68.21772994448273,135.8541226650518,68.66857628548996,-181.3654156561101,31.284571230866675,113.37470914530347,68.55462279538831,89.61425457887596,25.394677864883477,78.94832831169384,111.57162300669444,39.49966526882394,-309.54026935217985,31.095265107145696,39.716412941569125,-40.32702790197326,47.658712640301175,64.72096086652721,-32.77649655281812,-12.299557138986302,3.774307069278507,-50.50406413430039,-111.64159031787858,9.539983648572914,-6.796709596498867,38.10898571047332,13.661529621236554,-47.71027654846166,49.33838602048427,37.48717045771842,24.52646304665375,51.298512364436114,80.46882969850847,55.35062301038696,64.21998906661987,9.03881258412043,225.84891831306336,269.5302506852083,6.795047552210103,28.360261900258894,74.41465646707833,33.54533914082011,11.797072611958242,-5.905465642425099,583.7429903670168,29.388830508588455,59.48328704991508,191.73693912688535,26.848423755094178,43.86538355084955,53.29243195458108,45.83590349435476,161.83325740986794,-62.603452196318585,31.333214792675506,41.63930658560192,88.86160050839858,43.396753038924125,-92.97423499538627,207.41667361792338,45.74751218568391,73.47050705524076,480.57997925217194,21.066200529080145,25.682724910960587,40.210879665587186,72.47652346644009,117.00876104907158,94.79006391746908,101.8135619858623,420.7347715846517,731.4674938736727,529.1995793612314,359.9432636103856,1963.8510572231583,1032.501333790962,495.0845677156759,755.0772783182283,527.1603940570599,632.8138328599119,521.4649726873498,336.07465071939026,424.2691166059481,570.4245873818811,325.45900632938475,120.86201781541756,426.2709116640619,594.2350369540756,708.2217926232107,104.8145748804932,592.7655136026068,1099.9450111935469,444.3041141882575,82.87385955689336,98.75548501034018,481.25866980603655,511.69679230700643,575.4172407760922,551.8054949815693,619.7319380737417,929.4820606182028,194.4903396341903,578.5422352474542,442.72215882149743,322.8295841349044,632.1442735357997,2763.7269947664067,2703.794524678801,-30.252524911444425,1549.475581360947,6245.250528501661,1419.3880413889067,2807.452851095948,185.8713440830586,179.44976598200523,190.0486101702738,188.27433157167462,206.35440300953724,97.72224698577745,173.00060899865133,-34.9464264790409,169.96133213971893,176.58080330460575,97.42236735577977,173.6141960073957,200.089715450346,142.5929618382987,198.8334533767092,141.7285378245762,111.95976767890113,207.70066164524067,137.29713946593,189.60461778127285,95.84526072624537,218.4273813317063,92.06772772952601,140.38790486612652,155.34968313705946,98.20409735914473,112.04623374474295,151.78220470465257,113.95329457099297,86.30057380282288,81.4461177508003,149.3973058972565,120.09373627542486,213.84453337233816,135.74442206746303,61.42468872213816,163.85099248534965,153.47403559855442,136.18660361741667,126.32648041377192,119.49090313109176,119.53051276611326,144.56490321089944,165.78260935610223,123.11098194130163,88.80296255042168,4617.785827800355,100.89486800914167,130.58464487480202,137.75259542192018,124.30859998328874,155.49967881956368,122.68700155691226,100.28665533305318,69.76219401607,98.10433352740623,92.71986152032719,124.12635423261892,103.44791033144053,106.26432474876769,88.6935801776785,78.35813745030569,109.78084211325805,90.921372327569,89.46960356362902,107.95871449453958,113.60640055473634,77.54264662331481,55.74038794160744,-201.90216721542458,18.480529829379105,87.35087465851568,68.73048238300058,60.46951523696588,32.34771976922072,91.8366023374059,52.32256266090409,97.79726172748144,-225.1369597901539,75.85436370869472,42.385729100659695,31.182946531852785,-12.914618103544187,173.90835333152177,99.66349419049817,166.84279493161205,144.129648403339,245.25851052717582,92.48800069669073,247.2881340229128,463.3318850849006,1802.9833990316977,642.3208584239621,906.863556282958,1436.4005572421604,687.6874700787572,4880.153576157177,141.72571018049618,1035.849082585216,543.4852918507215,476.3868128207484,711.6754819689717,819.998151878781,1108.9889069410663,670.9237060743036,618.2241462062591,580.186883242773,1010.9079512137617,5965.061120189622,623.4684352102674,647.3289462884313,1774.7146959398399,694.511302794694,656.7106938827534,893.4899352662658,773.595930454902,5143.372856972237,993.818339128351,685.9623563804807,872.0465542972346,734.4586779821457,1107.89658647834,694.8263837797585,861.6081603290329,755.7249522767978,5099.251013860606,869.015073982953,573.269412758004,873.2759721795419,791.3817407167851,957.8085001554306,5808.883533931293,692.3008864524273,650.7391838049227,562.1511328139559,5821.532344221593,559.5087343794399,684.4253664772349,592.2752267680982,893.2442510075889,680.3925009636406,534.379022106257,632.7757638149549,421.3927103728385,793.8643580290874,768.9780914192809,979.8043501646198,637.795144758197,764.5844008294116,675.3781883594789,580.382914997465,490.3935135398165,518.5377537978147,822.2788348778329,714.007719933735,684.6920157721614,545.9329328133001,883.0045423531059,504.1481507251493,194.87284727327219,432.20173076572047,699.5701095036835,357.90413957391627,460.95035283695296,408.78818063770086,1185.3437945989263,514.5709697039414,474.15838957445067,139.14092706183652,492.7006404736142,360.21214248032067,704.9314789414274,508.06129476269535,619.1285598710668,752.1370859114486,601.4291157571258,1349.6143118387167,538.3756834505157,643.6163553828688,761.2753013217168],\"y0\":\" \",\"yaxis\":\"y\",\"type\":\"box\"}],                        {\"template\":{\"data\":{\"barpolar\":[{\"marker\":{\"line\":{\"color\":\"#E5ECF6\",\"width\":0.5},\"pattern\":{\"fillmode\":\"overlay\",\"size\":10,\"solidity\":0.2}},\"type\":\"barpolar\"}],\"bar\":[{\"error_x\":{\"color\":\"#2a3f5f\"},\"error_y\":{\"color\":\"#2a3f5f\"},\"marker\":{\"line\":{\"color\":\"#E5ECF6\",\"width\":0.5},\"pattern\":{\"fillmode\":\"overlay\",\"size\":10,\"solidity\":0.2}},\"type\":\"bar\"}],\"carpet\":[{\"aaxis\":{\"endlinecolor\":\"#2a3f5f\",\"gridcolor\":\"white\",\"linecolor\":\"white\",\"minorgridcolor\":\"white\",\"startlinecolor\":\"#2a3f5f\"},\"baxis\":{\"endlinecolor\":\"#2a3f5f\",\"gridcolor\":\"white\",\"linecolor\":\"white\",\"minorgridcolor\":\"white\",\"startlinecolor\":\"#2a3f5f\"},\"type\":\"carpet\"}],\"choropleth\":[{\"colorbar\":{\"outlinewidth\":0,\"ticks\":\"\"},\"type\":\"choropleth\"}],\"contourcarpet\":[{\"colorbar\":{\"outlinewidth\":0,\"ticks\":\"\"},\"type\":\"contourcarpet\"}],\"contour\":[{\"colorbar\":{\"outlinewidth\":0,\"ticks\":\"\"},\"colorscale\":[[0.0,\"#0d0887\"],[0.1111111111111111,\"#46039f\"],[0.2222222222222222,\"#7201a8\"],[0.3333333333333333,\"#9c179e\"],[0.4444444444444444,\"#bd3786\"],[0.5555555555555556,\"#d8576b\"],[0.6666666666666666,\"#ed7953\"],[0.7777777777777778,\"#fb9f3a\"],[0.8888888888888888,\"#fdca26\"],[1.0,\"#f0f921\"]],\"type\":\"contour\"}],\"heatmapgl\":[{\"colorbar\":{\"outlinewidth\":0,\"ticks\":\"\"},\"colorscale\":[[0.0,\"#0d0887\"],[0.1111111111111111,\"#46039f\"],[0.2222222222222222,\"#7201a8\"],[0.3333333333333333,\"#9c179e\"],[0.4444444444444444,\"#bd3786\"],[0.5555555555555556,\"#d8576b\"],[0.6666666666666666,\"#ed7953\"],[0.7777777777777778,\"#fb9f3a\"],[0.8888888888888888,\"#fdca26\"],[1.0,\"#f0f921\"]],\"type\":\"heatmapgl\"}],\"heatmap\":[{\"colorbar\":{\"outlinewidth\":0,\"ticks\":\"\"},\"colorscale\":[[0.0,\"#0d0887\"],[0.1111111111111111,\"#46039f\"],[0.2222222222222222,\"#7201a8\"],[0.3333333333333333,\"#9c179e\"],[0.4444444444444444,\"#bd3786\"],[0.5555555555555556,\"#d8576b\"],[0.6666666666666666,\"#ed7953\"],[0.7777777777777778,\"#fb9f3a\"],[0.8888888888888888,\"#fdca26\"],[1.0,\"#f0f921\"]],\"type\":\"heatmap\"}],\"histogram2dcontour\":[{\"colorbar\":{\"outlinewidth\":0,\"ticks\":\"\"},\"colorscale\":[[0.0,\"#0d0887\"],[0.1111111111111111,\"#46039f\"],[0.2222222222222222,\"#7201a8\"],[0.3333333333333333,\"#9c179e\"],[0.4444444444444444,\"#bd3786\"],[0.5555555555555556,\"#d8576b\"],[0.6666666666666666,\"#ed7953\"],[0.7777777777777778,\"#fb9f3a\"],[0.8888888888888888,\"#fdca26\"],[1.0,\"#f0f921\"]],\"type\":\"histogram2dcontour\"}],\"histogram2d\":[{\"colorbar\":{\"outlinewidth\":0,\"ticks\":\"\"},\"colorscale\":[[0.0,\"#0d0887\"],[0.1111111111111111,\"#46039f\"],[0.2222222222222222,\"#7201a8\"],[0.3333333333333333,\"#9c179e\"],[0.4444444444444444,\"#bd3786\"],[0.5555555555555556,\"#d8576b\"],[0.6666666666666666,\"#ed7953\"],[0.7777777777777778,\"#fb9f3a\"],[0.8888888888888888,\"#fdca26\"],[1.0,\"#f0f921\"]],\"type\":\"histogram2d\"}],\"histogram\":[{\"marker\":{\"pattern\":{\"fillmode\":\"overlay\",\"size\":10,\"solidity\":0.2}},\"type\":\"histogram\"}],\"mesh3d\":[{\"colorbar\":{\"outlinewidth\":0,\"ticks\":\"\"},\"type\":\"mesh3d\"}],\"parcoords\":[{\"line\":{\"colorbar\":{\"outlinewidth\":0,\"ticks\":\"\"}},\"type\":\"parcoords\"}],\"pie\":[{\"automargin\":true,\"type\":\"pie\"}],\"scatter3d\":[{\"line\":{\"colorbar\":{\"outlinewidth\":0,\"ticks\":\"\"}},\"marker\":{\"colorbar\":{\"outlinewidth\":0,\"ticks\":\"\"}},\"type\":\"scatter3d\"}],\"scattercarpet\":[{\"marker\":{\"colorbar\":{\"outlinewidth\":0,\"ticks\":\"\"}},\"type\":\"scattercarpet\"}],\"scattergeo\":[{\"marker\":{\"colorbar\":{\"outlinewidth\":0,\"ticks\":\"\"}},\"type\":\"scattergeo\"}],\"scattergl\":[{\"marker\":{\"colorbar\":{\"outlinewidth\":0,\"ticks\":\"\"}},\"type\":\"scattergl\"}],\"scattermapbox\":[{\"marker\":{\"colorbar\":{\"outlinewidth\":0,\"ticks\":\"\"}},\"type\":\"scattermapbox\"}],\"scatterpolargl\":[{\"marker\":{\"colorbar\":{\"outlinewidth\":0,\"ticks\":\"\"}},\"type\":\"scatterpolargl\"}],\"scatterpolar\":[{\"marker\":{\"colorbar\":{\"outlinewidth\":0,\"ticks\":\"\"}},\"type\":\"scatterpolar\"}],\"scatter\":[{\"fillpattern\":{\"fillmode\":\"overlay\",\"size\":10,\"solidity\":0.2},\"type\":\"scatter\"}],\"scatterternary\":[{\"marker\":{\"colorbar\":{\"outlinewidth\":0,\"ticks\":\"\"}},\"type\":\"scatterternary\"}],\"surface\":[{\"colorbar\":{\"outlinewidth\":0,\"ticks\":\"\"},\"colorscale\":[[0.0,\"#0d0887\"],[0.1111111111111111,\"#46039f\"],[0.2222222222222222,\"#7201a8\"],[0.3333333333333333,\"#9c179e\"],[0.4444444444444444,\"#bd3786\"],[0.5555555555555556,\"#d8576b\"],[0.6666666666666666,\"#ed7953\"],[0.7777777777777778,\"#fb9f3a\"],[0.8888888888888888,\"#fdca26\"],[1.0,\"#f0f921\"]],\"type\":\"surface\"}],\"table\":[{\"cells\":{\"fill\":{\"color\":\"#EBF0F8\"},\"line\":{\"color\":\"white\"}},\"header\":{\"fill\":{\"color\":\"#C8D4E3\"},\"line\":{\"color\":\"white\"}},\"type\":\"table\"}]},\"layout\":{\"annotationdefaults\":{\"arrowcolor\":\"#2a3f5f\",\"arrowhead\":0,\"arrowwidth\":1},\"autotypenumbers\":\"strict\",\"coloraxis\":{\"colorbar\":{\"outlinewidth\":0,\"ticks\":\"\"}},\"colorscale\":{\"diverging\":[[0,\"#8e0152\"],[0.1,\"#c51b7d\"],[0.2,\"#de77ae\"],[0.3,\"#f1b6da\"],[0.4,\"#fde0ef\"],[0.5,\"#f7f7f7\"],[0.6,\"#e6f5d0\"],[0.7,\"#b8e186\"],[0.8,\"#7fbc41\"],[0.9,\"#4d9221\"],[1,\"#276419\"]],\"sequential\":[[0.0,\"#0d0887\"],[0.1111111111111111,\"#46039f\"],[0.2222222222222222,\"#7201a8\"],[0.3333333333333333,\"#9c179e\"],[0.4444444444444444,\"#bd3786\"],[0.5555555555555556,\"#d8576b\"],[0.6666666666666666,\"#ed7953\"],[0.7777777777777778,\"#fb9f3a\"],[0.8888888888888888,\"#fdca26\"],[1.0,\"#f0f921\"]],\"sequentialminus\":[[0.0,\"#0d0887\"],[0.1111111111111111,\"#46039f\"],[0.2222222222222222,\"#7201a8\"],[0.3333333333333333,\"#9c179e\"],[0.4444444444444444,\"#bd3786\"],[0.5555555555555556,\"#d8576b\"],[0.6666666666666666,\"#ed7953\"],[0.7777777777777778,\"#fb9f3a\"],[0.8888888888888888,\"#fdca26\"],[1.0,\"#f0f921\"]]},\"colorway\":[\"#636efa\",\"#EF553B\",\"#00cc96\",\"#ab63fa\",\"#FFA15A\",\"#19d3f3\",\"#FF6692\",\"#B6E880\",\"#FF97FF\",\"#FECB52\"],\"font\":{\"color\":\"#2a3f5f\"},\"geo\":{\"bgcolor\":\"white\",\"lakecolor\":\"white\",\"landcolor\":\"#E5ECF6\",\"showlakes\":true,\"showland\":true,\"subunitcolor\":\"white\"},\"hoverlabel\":{\"align\":\"left\"},\"hovermode\":\"closest\",\"mapbox\":{\"style\":\"light\"},\"paper_bgcolor\":\"white\",\"plot_bgcolor\":\"#E5ECF6\",\"polar\":{\"angularaxis\":{\"gridcolor\":\"white\",\"linecolor\":\"white\",\"ticks\":\"\"},\"bgcolor\":\"#E5ECF6\",\"radialaxis\":{\"gridcolor\":\"white\",\"linecolor\":\"white\",\"ticks\":\"\"}},\"scene\":{\"xaxis\":{\"backgroundcolor\":\"#E5ECF6\",\"gridcolor\":\"white\",\"gridwidth\":2,\"linecolor\":\"white\",\"showbackground\":true,\"ticks\":\"\",\"zerolinecolor\":\"white\"},\"yaxis\":{\"backgroundcolor\":\"#E5ECF6\",\"gridcolor\":\"white\",\"gridwidth\":2,\"linecolor\":\"white\",\"showbackground\":true,\"ticks\":\"\",\"zerolinecolor\":\"white\"},\"zaxis\":{\"backgroundcolor\":\"#E5ECF6\",\"gridcolor\":\"white\",\"gridwidth\":2,\"linecolor\":\"white\",\"showbackground\":true,\"ticks\":\"\",\"zerolinecolor\":\"white\"}},\"shapedefaults\":{\"line\":{\"color\":\"#2a3f5f\"}},\"ternary\":{\"aaxis\":{\"gridcolor\":\"white\",\"linecolor\":\"white\",\"ticks\":\"\"},\"baxis\":{\"gridcolor\":\"white\",\"linecolor\":\"white\",\"ticks\":\"\"},\"bgcolor\":\"#E5ECF6\",\"caxis\":{\"gridcolor\":\"white\",\"linecolor\":\"white\",\"ticks\":\"\"}},\"title\":{\"x\":0.05},\"xaxis\":{\"automargin\":true,\"gridcolor\":\"white\",\"linecolor\":\"white\",\"ticks\":\"\",\"title\":{\"standoff\":15},\"zerolinecolor\":\"white\",\"zerolinewidth\":2},\"yaxis\":{\"automargin\":true,\"gridcolor\":\"white\",\"linecolor\":\"white\",\"ticks\":\"\",\"title\":{\"standoff\":15},\"zerolinecolor\":\"white\",\"zerolinewidth\":2}}},\"xaxis\":{\"anchor\":\"y\",\"domain\":[0.0,1.0],\"title\":{\"text\":\"Settings\"}},\"yaxis\":{\"anchor\":\"x\",\"domain\":[0.0,1.0],\"title\":{\"text\":\"ROM error [mm\\u002fs]\"}},\"legend\":{\"tracegroupgap\":0},\"title\":{\"text\":\"Hand Velocity ROM error, cad = 78.96 mm\\u002fs\"},\"boxmode\":\"group\",\"shapes\":[{\"line\":{\"color\":\"red\",\"dash\":\"dash\"},\"name\":\"CAD\",\"type\":\"line\",\"x0\":0,\"x1\":1,\"xref\":\"x domain\",\"y0\":78.96,\"y1\":78.96,\"yref\":\"y\"},{\"line\":{\"color\":\"red\",\"dash\":\"dash\"},\"name\":\"CAD\",\"type\":\"line\",\"x0\":0,\"x1\":1,\"xref\":\"x domain\",\"y0\":-78.96,\"y1\":-78.96,\"yref\":\"y\"}]},                        {\"responsive\": true}                    ).then(function(){\n",
       "                            \n",
       "var gd = document.getElementById('fbc33887-10e5-44f2-bdda-db6ff310d8dd');\n",
       "var x = new MutationObserver(function (mutations, observer) {{\n",
       "        var display = window.getComputedStyle(gd).display;\n",
       "        if (!display || display === 'none') {{\n",
       "            console.log([gd, 'removed!']);\n",
       "            Plotly.purge(gd);\n",
       "            observer.disconnect();\n",
       "        }}\n",
       "}});\n",
       "\n",
       "// Listen for the removal of the full notebook cells\n",
       "var notebookContainer = gd.closest('#notebook-container');\n",
       "if (notebookContainer) {{\n",
       "    x.observe(notebookContainer, {childList: true});\n",
       "}}\n",
       "\n",
       "// Listen for the clearing of the current output cell\n",
       "var outputEl = gd.closest('.output');\n",
       "if (outputEl) {{\n",
       "    x.observe(outputEl, {childList: true});\n",
       "}}\n",
       "\n",
       "                        })                };                });            </script>        </div>"
      ]
     },
     "metadata": {},
     "output_type": "display_data"
    },
    {
     "data": {
      "application/vnd.plotly.v1+json": {
       "data": [
        {
         "alignmentgroup": "True",
         "hovertemplate": "id_s_name=%{x}<br>error=%{y}<extra></extra>",
         "legendgroup": "",
         "marker": {
          "color": "#636efa"
         },
         "name": "",
         "notched": false,
         "offsetgroup": "",
         "orientation": "v",
         "showlegend": false,
         "x": [
          "SimCC, Cams: 1,2,3,4,5",
          "SimCC, Cams: 1,2,3,4,5",
          "SimCC, Cams: 1,2,3,4,5",
          "SimCC, Cams: 1,2,3,4,5",
          "SimCC, Cams: 1,2,3,4,5",
          "SimCC, Cams: 1,2,3,4,5",
          "SimCC, Cams: 1,2,3,4,5",
          "SimCC, Cams: 1,2,3,4,5",
          "SimCC, Cams: 1,2,3,4,5",
          "SimCC, Cams: 1,2,3,4,5",
          "SimCC, Cams: 1,2,3,4,5",
          "SimCC, Cams: 1,2,3,4,5",
          "SimCC, Cams: 1,2,3,4,5",
          "SimCC, Cams: 1,2,3,4,5",
          "SimCC, Cams: 1,2,3,4,5",
          "SimCC, Cams: 1,2,3,4,5",
          "SimCC, Cams: 1,2,3,4,5",
          "SimCC, Cams: 1,2,3,4,5",
          "SimCC, Cams: 1,2,3,4,5",
          "SimCC, Cams: 1,2,3,4,5",
          "SimCC, Cams: 1,2,3,4,5",
          "SimCC, Cams: 1,2,3,4,5",
          "SimCC, Cams: 1,2,3,4,5",
          "SimCC, Cams: 1,2,3,4,5",
          "SimCC, Cams: 1,2,3,4,5",
          "SimCC, Cams: 1,2,3,4,5",
          "SimCC, Cams: 1,2,3,4,5",
          "SimCC, Cams: 1,2,3,4,5",
          "SimCC, Cams: 1,2,3,4,5",
          "SimCC, Cams: 1,2,3,4,5",
          "SimCC, Cams: 1,2,3,4,5",
          "SimCC, Cams: 1,2,3,4,5",
          "SimCC, Cams: 1,2,3,4,5",
          "SimCC, Cams: 1,2,3,4,5",
          "SimCC, Cams: 1,2,3,4,5",
          "SimCC, Cams: 1,2,3,4,5",
          "SimCC, Cams: 1,2,3,4,5",
          "SimCC, Cams: 1,2,3,4,5",
          "SimCC, Cams: 1,2,3,4,5",
          "SimCC, Cams: 1,2,3,4,5",
          "SimCC, Cams: 1,2,3,4,5",
          "SimCC, Cams: 1,2,3,4,5",
          "SimCC, Cams: 1,2,3,4,5",
          "SimCC, Cams: 1,2,3,4,5",
          "SimCC, Cams: 1,2,3,4,5",
          "SimCC, Cams: 1,2,3,4,5",
          "SimCC, Cams: 1,2,3,4,5",
          "SimCC, Cams: 1,2,3,4,5",
          "SimCC, Cams: 1,2,3,4,5",
          "SimCC, Cams: 1,2,3,4,5",
          "SimCC, Cams: 1,2,3,4,5",
          "SimCC, Cams: 1,2,3,4,5",
          "SimCC, Cams: 1,2,3,4,5",
          "SimCC, Cams: 1,2,3,4,5",
          "SimCC, Cams: 1,2,3,4,5",
          "SimCC, Cams: 1,2,3,4,5",
          "SimCC, Cams: 1,2,3,4,5",
          "SimCC, Cams: 1,2,3,4,5",
          "SimCC, Cams: 1,2,3,4,5",
          "SimCC, Cams: 1,2,3,4,5",
          "SimCC, Cams: 1,2,3,4,5",
          "SimCC, Cams: 1,2,3,4,5",
          "SimCC, Cams: 1,2,3,4,5",
          "SimCC, Cams: 1,2,3,4,5",
          "SimCC, Cams: 1,2,3,4,5",
          "SimCC, Cams: 1,2,3,4,5",
          "SimCC, Cams: 1,2,3,4,5",
          "SimCC, Cams: 1,2,3,4,5",
          "SimCC, Cams: 1,2,3,4,5",
          "SimCC, Cams: 1,2,3,4,5",
          "SimCC, Cams: 1,2,3,4,5",
          "SimCC, Cams: 1,2,3,4,5",
          "SimCC, Cams: 1,2,3,4,5",
          "SimCC, Cams: 1,2,3,4,5",
          "SimCC, Cams: 1,2,3,4,5",
          "SimCC, Cams: 1,2,3,4,5",
          "SimCC, Cams: 1,2,3,4,5",
          "SimCC, Cams: 1,2,3,4,5",
          "SimCC, Cams: 1,2,3,4,5",
          "SimCC, Cams: 1,2,3,4,5",
          "SimCC, Cams: 1,2,3,4,5",
          "SimCC, Cams: 1,2,3,4,5",
          "SimCC, Cams: 1,2,3,4,5",
          "SimCC, Cams: 1,2,3,4,5",
          "SimCC, Cams: 1,2,3,4,5",
          "SimCC, Cams: 1,2,3,4,5",
          "SimCC, Cams: 1,2,3,4,5",
          "SimCC, Cams: 1,2,3,4,5",
          "SimCC, Cams: 1,2,3,4,5",
          "Metrabs, Cams: 1,2,3,4,5",
          "Metrabs, Cams: 1,2,3,4,5",
          "Metrabs, Cams: 1,2,3,4,5",
          "Metrabs, Cams: 1,2,3,4,5",
          "Metrabs, Cams: 1,2,3,4,5",
          "Metrabs, Cams: 1,2,3,4,5",
          "Metrabs, Cams: 1,2,3,4,5",
          "Metrabs, Cams: 1,2,3,4,5",
          "Metrabs, Cams: 1,2,3,4,5",
          "Metrabs, Cams: 1,2,3,4,5",
          "Metrabs, Cams: 1,2,3,4,5",
          "Metrabs, Cams: 1,2,3,4,5",
          "Metrabs, Cams: 1,2,3,4,5",
          "Metrabs, Cams: 1,2,3,4,5",
          "Metrabs, Cams: 1,2,3,4,5",
          "Metrabs, Cams: 1,2,3,4,5",
          "Metrabs, Cams: 1,2,3,4,5",
          "Metrabs, Cams: 1,2,3,4,5",
          "Metrabs, Cams: 1,2,3,4,5",
          "Metrabs, Cams: 1,2,3,4,5",
          "Metrabs, Cams: 1,2,3,4,5",
          "Metrabs, Cams: 1,2,3,4,5",
          "Metrabs, Cams: 1,2,3,4,5",
          "Metrabs, Cams: 1,2,3,4,5",
          "Metrabs, Cams: 1,2,3,4,5",
          "Metrabs, Cams: 1,2,3,4,5",
          "Metrabs, Cams: 1,2,3,4,5",
          "Metrabs, Cams: 1,2,3,4,5",
          "Metrabs, Cams: 1,2,3,4,5",
          "Metrabs, Cams: 1,2,3,4,5",
          "Metrabs, Cams: 1,2,3,4,5",
          "Metrabs, Cams: 1,2,3,4,5",
          "Metrabs, Cams: 1,2,3,4,5",
          "Metrabs, Cams: 1,2,3,4,5",
          "Metrabs, Cams: 1,2,3,4,5",
          "Metrabs, Cams: 1,2,3,4,5",
          "Metrabs, Cams: 1,2,3,4,5",
          "Metrabs, Cams: 1,2,3,4,5",
          "Metrabs, Cams: 1,2,3,4,5",
          "Metrabs, Cams: 1,2,3,4,5",
          "Metrabs, Cams: 1,2,3,4,5",
          "Metrabs, Cams: 1,2,3,4,5",
          "Metrabs, Cams: 1,2,3,4,5",
          "Metrabs, Cams: 1,2,3,4,5",
          "Metrabs, Cams: 1,2,3,4,5",
          "Metrabs, Cams: 1,2,3,4,5",
          "Metrabs, Cams: 1,2,3,4,5",
          "Metrabs, Cams: 1,2,3,4,5",
          "Metrabs, Cams: 1,2,3,4,5",
          "Metrabs, Cams: 1,2,3,4,5",
          "Metrabs, Cams: 1,2,3,4,5",
          "Metrabs, Cams: 1,2,3,4,5",
          "Metrabs, Cams: 1,2,3,4,5",
          "Metrabs, Cams: 1,2,3,4,5",
          "Metrabs, Cams: 1,2,3,4,5",
          "Metrabs, Cams: 1,2,3,4,5",
          "Metrabs, Cams: 1,2,3,4,5",
          "Metrabs, Cams: 1,2,3,4,5",
          "Metrabs, Cams: 1,2,3,4,5",
          "Metrabs, Cams: 1,2,3,4,5",
          "Metrabs, Cams: 1,2,3,4,5",
          "Metrabs, Cams: 1,2,3,4,5",
          "Metrabs, Cams: 1,2,3,4,5",
          "Metrabs, Cams: 1,2,3,4,5",
          "Metrabs, Cams: 1,2,3,4,5",
          "Metrabs, Cams: 1,2,3,4,5",
          "Metrabs, Cams: 1,2,3,4,5",
          "Metrabs, Cams: 1,2,3,4,5",
          "Metrabs, Cams: 1,2,3,4,5",
          "Metrabs, Cams: 1,2,3,4,5",
          "Metrabs, Cams: 1,2,3,4,5",
          "Metrabs, Cams: 1,2,3,4,5",
          "Metrabs, Cams: 1,2,3,4,5",
          "Metrabs, Cams: 1,2,3,4,5",
          "Metrabs, Cams: 1,2,3,4,5",
          "Metrabs, Cams: 1,2,3,4,5",
          "Metrabs, Cams: 1,2,3,4,5",
          "Metrabs, Cams: 1,2,3,4,5",
          "Metrabs, Cams: 1,2,3,4,5",
          "Metrabs, Cams: 1,2,3,4,5",
          "Metrabs, Cams: 1,2,3,4,5",
          "Metrabs, Cams: 1,2,3,4,5",
          "Metrabs, Cams: 1,2,3,4,5",
          "Metrabs, Cams: 1,2,3,4,5",
          "Metrabs, Cams: 1,2,3,4,5",
          "Metrabs, Cams: 1,2,3,4,5",
          "Metrabs, Cams: 1,2,3,4,5",
          "Metrabs, Cams: 1,2,3,4,5",
          "Metrabs, Cams: 1,2,3,4,5",
          "Metrabs, Cams: 1,2,3,4,5",
          "Single, Cam: 1, filt",
          "Single, Cam: 1, filt",
          "Single, Cam: 1, filt",
          "Single, Cam: 1, filt",
          "Single, Cam: 1, filt",
          "Single, Cam: 1, filt",
          "Single, Cam: 1, filt",
          "Single, Cam: 1, filt",
          "Single, Cam: 1, filt",
          "Single, Cam: 1, filt",
          "Single, Cam: 1, filt",
          "Single, Cam: 1, filt",
          "Single, Cam: 1, filt",
          "Single, Cam: 1, filt",
          "Single, Cam: 1, filt",
          "Single, Cam: 1, filt",
          "Single, Cam: 1, filt",
          "Single, Cam: 1, filt",
          "Single, Cam: 1, filt",
          "Single, Cam: 1, filt",
          "Single, Cam: 1, filt",
          "Single, Cam: 1, filt",
          "Single, Cam: 1, filt",
          "Single, Cam: 1, filt",
          "Single, Cam: 1, filt",
          "Single, Cam: 1, filt",
          "Single, Cam: 1, filt",
          "Single, Cam: 1, filt",
          "Single, Cam: 1, filt",
          "Single, Cam: 1, filt",
          "Single, Cam: 1, filt",
          "Single, Cam: 1, filt",
          "Single, Cam: 1, filt",
          "Single, Cam: 1, filt",
          "Single, Cam: 1, filt",
          "Single, Cam: 1, filt",
          "Single, Cam: 1, filt",
          "Single, Cam: 1, filt",
          "Single, Cam: 1, filt",
          "Single, Cam: 1, filt",
          "Single, Cam: 1, filt",
          "Single, Cam: 1, filt",
          "Single, Cam: 1, filt",
          "Single, Cam: 1, filt",
          "Single, Cam: 1, filt",
          "Single, Cam: 1, filt",
          "Single, Cam: 1, filt",
          "Single, Cam: 1, filt",
          "Single, Cam: 1, filt",
          "Single, Cam: 1, filt",
          "Single, Cam: 1, filt",
          "Single, Cam: 1, filt",
          "Single, Cam: 1, filt",
          "Single, Cam: 1, filt",
          "Single, Cam: 1, filt",
          "Single, Cam: 1, filt",
          "Single, Cam: 1, filt",
          "Single, Cam: 1, filt",
          "Single, Cam: 1, filt",
          "Single, Cam: 1, filt",
          "Single, Cam: 1, filt",
          "Single, Cam: 1, filt",
          "Single, Cam: 1, filt",
          "Single, Cam: 1, filt",
          "Single, Cam: 1, filt",
          "Single, Cam: 1, filt",
          "Single, Cam: 1, filt",
          "Single, Cam: 1, filt",
          "Single, Cam: 1, filt",
          "Single, Cam: 1, filt",
          "Single, Cam: 1, filt",
          "Single, Cam: 1, filt",
          "Single, Cam: 1, filt",
          "Single, Cam: 1, filt",
          "Single, Cam: 1, filt",
          "Single, Cam: 1, filt",
          "Single, Cam: 1, filt",
          "Single, Cam: 1, filt",
          "Single, Cam: 1, filt",
          "Single, Cam: 1, filt",
          "Single, Cam: 1, filt",
          "Single, Cam: 1, filt",
          "Single, Cam: 1, filt",
          "Single, Cam: 1, filt",
          "Single, Cam: 1, filt",
          "Single, Cam: 1, filt",
          "Single, Cam: 1, filt",
          "Single, Cam: 1, filt",
          "Single, Cam: 1, filt",
          "Single, Cam: 1, filt",
          "Single, Cam: 1, unfilt",
          "Single, Cam: 1, unfilt",
          "Single, Cam: 1, unfilt",
          "Single, Cam: 1, unfilt",
          "Single, Cam: 1, unfilt",
          "Single, Cam: 1, unfilt",
          "Single, Cam: 1, unfilt",
          "Single, Cam: 1, unfilt",
          "Single, Cam: 1, unfilt",
          "Single, Cam: 1, unfilt",
          "Single, Cam: 1, unfilt",
          "Single, Cam: 1, unfilt",
          "Single, Cam: 1, unfilt",
          "Single, Cam: 1, unfilt",
          "Single, Cam: 1, unfilt",
          "Single, Cam: 1, unfilt",
          "Single, Cam: 1, unfilt",
          "Single, Cam: 1, unfilt",
          "Single, Cam: 1, unfilt",
          "Single, Cam: 1, unfilt",
          "Single, Cam: 1, unfilt",
          "Single, Cam: 1, unfilt",
          "Single, Cam: 1, unfilt",
          "Single, Cam: 1, unfilt",
          "Single, Cam: 1, unfilt",
          "Single, Cam: 1, unfilt",
          "Single, Cam: 1, unfilt",
          "Single, Cam: 1, unfilt",
          "Single, Cam: 1, unfilt",
          "Single, Cam: 1, unfilt",
          "Single, Cam: 1, unfilt",
          "Single, Cam: 1, unfilt",
          "Single, Cam: 1, unfilt",
          "Single, Cam: 1, unfilt",
          "Single, Cam: 1, unfilt",
          "Single, Cam: 1, unfilt",
          "Single, Cam: 1, unfilt",
          "Single, Cam: 1, unfilt",
          "Single, Cam: 1, unfilt",
          "Single, Cam: 1, unfilt",
          "Single, Cam: 1, unfilt",
          "Single, Cam: 1, unfilt",
          "Single, Cam: 1, unfilt",
          "Single, Cam: 1, unfilt",
          "Single, Cam: 1, unfilt",
          "Single, Cam: 1, unfilt",
          "Single, Cam: 1, unfilt",
          "Single, Cam: 1, unfilt",
          "Single, Cam: 1, unfilt",
          "Single, Cam: 1, unfilt",
          "Single, Cam: 1, unfilt",
          "Single, Cam: 1, unfilt",
          "Single, Cam: 1, unfilt",
          "Single, Cam: 1, unfilt",
          "Single, Cam: 1, unfilt",
          "Single, Cam: 1, unfilt",
          "Single, Cam: 1, unfilt",
          "Single, Cam: 1, unfilt",
          "Single, Cam: 1, unfilt",
          "Single, Cam: 1, unfilt",
          "Single, Cam: 1, unfilt",
          "Single, Cam: 1, unfilt",
          "Single, Cam: 1, unfilt",
          "Single, Cam: 1, unfilt",
          "Single, Cam: 1, unfilt",
          "Single, Cam: 1, unfilt",
          "Single, Cam: 1, unfilt",
          "Single, Cam: 1, unfilt",
          "Single, Cam: 1, unfilt",
          "Single, Cam: 1, unfilt",
          "Single, Cam: 1, unfilt",
          "Single, Cam: 1, unfilt",
          "Single, Cam: 1, unfilt",
          "Single, Cam: 1, unfilt",
          "Single, Cam: 1, unfilt",
          "Single, Cam: 1, unfilt",
          "Single, Cam: 1, unfilt",
          "Single, Cam: 1, unfilt",
          "Single, Cam: 1, unfilt",
          "Single, Cam: 1, unfilt",
          "Single, Cam: 1, unfilt",
          "Single, Cam: 1, unfilt",
          "Single, Cam: 1, unfilt",
          "Single, Cam: 1, unfilt",
          "Single, Cam: 1, unfilt",
          "Single, Cam: 1, unfilt",
          "Single, Cam: 1, unfilt",
          "Single, Cam: 1, unfilt",
          "Single, Cam: 1, unfilt",
          "Single, Cam: 1, unfilt"
         ],
         "x0": " ",
         "xaxis": "x",
         "y": [
          3.6550909604647703,
          1.0221629807539914,
          1.8038494022889158,
          1.3939707138912254,
          1.4444604250943764,
          0.9459117644732793,
          1.194002540363063,
          0.8996773698633276,
          1.3572649892757658,
          1.202899900390755,
          1.0144125322130353,
          1.0680041724790732,
          1.1731279835271777,
          1.1999964748505358,
          1.2917218066220058,
          1.0124007995997633,
          1.2617600676330518,
          0.9189262697833437,
          1.4723522443985797,
          1.654471894405412,
          0.8882546973097936,
          1.0354627486090646,
          1.3652465099640458,
          1.1914818763095805,
          1.129655480929947,
          1.17546261888103,
          1.2454009760480884,
          1.0968723194977466,
          1.0543573856953008,
          1.0537530704258744,
          1.010286559906137,
          1.1976992773299835,
          1.064629850400545,
          1.183092859098535,
          1.073969516566804,
          0.9951653813509134,
          1.6962611410826491,
          1.2713578635924263,
          1.495337837867728,
          0.961414279036577,
          1.0875403569976403,
          1.4580141456171678,
          1.3089548893852108,
          1.1053980071992973,
          1.1033655678734735,
          1.0776252168958178,
          1.4996533200153397,
          1.2453268472367174,
          1.3395441408194912,
          1.2955327208420633,
          1.413232981607436,
          1.1750973144198373,
          1.0425518111193177,
          1.0644807945341055,
          1.0331715349601533,
          1.1683088773758301,
          1.0835465652546685,
          1.0760846569344087,
          1.1285804252284835,
          1.2413083149051927,
          0.9058203547678471,
          1.0832105477742833,
          1.1610327031281615,
          1.1196995789096487,
          1.435576576060356,
          1.4949756858629961,
          1.013578221515823,
          1.0336559907303957,
          1.112161962401182,
          1.0399832054348441,
          1.1420714270207117,
          1.0541740233111097,
          1.1299707709415625,
          0.9994904997651292,
          1.1196695774589438,
          0.9992049646299336,
          1.5859687588503846,
          0.9101344070979677,
          1.0556251401878083,
          0.8859972370361545,
          1.0128281285274123,
          0.8937153307928627,
          0.9374576926247098,
          0.8875920793268085,
          0.4314364947406439,
          0.5781479410480703,
          0.6421893333966742,
          0.6714262962736237,
          0.6374054222452641,
          1.2540279158486245,
          1.4569401183549526,
          1.4599994359462967,
          1.3344408122884126,
          1.255915799692626,
          1.3812516222786062,
          1.4162027294394297,
          1.4871367690375406,
          1.5425481166742023,
          1.4199078745658174,
          1.3360016033387694,
          1.4886610952312003,
          1.3679963853672612,
          1.602191787711593,
          1.6272888367153076,
          1.3046295355825348,
          1.4340139485819599,
          1.3753251609761792,
          1.2307962235860905,
          1.258695738744239,
          1.1270492038341953,
          1.366282275678147,
          1.353511257994577,
          1.357188682895573,
          1.3331952379918295,
          1.3316586361066953,
          1.2010220764101256,
          1.3172041191245498,
          1.2998172516330178,
          1.2521545075275973,
          1.0426046521770755,
          1.3437407898507483,
          1.334100441041915,
          1.5394040442096932,
          1.2335262514141172,
          1.3228308599755325,
          1.3760561737425239,
          1.4360745158796488,
          1.2991555065582066,
          1.5054971321445565,
          1.2360666084943228,
          1.4431945474525887,
          1.1615325838316581,
          1.3870118553948068,
          1.442292765642668,
          1.3717341513268873,
          1.347537811616755,
          2.0638802841534853,
          1.881024963474859,
          2.222154940018653,
          1.6819412205620996,
          1.9531380853889768,
          2.6512601861978973,
          1.9857227854752413,
          1.9338993142731755,
          2.242689095810863,
          2.062999588231457,
          1.5817831331843766,
          1.906087975065647,
          1.611851816130826,
          1.5505996431108418,
          1.9110913115740564,
          1.4266554911880176,
          2.9189760587254447,
          2.6057431996974287,
          2.3481136521418455,
          1.2555854735934355,
          2.267745419362927,
          2.0882793655232663,
          1.7468324539572242,
          1.596867330649397,
          1.2711495998434235,
          1.8023274974765477,
          1.959516488176553,
          2.327049401544161,
          2.1984234420095836,
          2.3829947063520334,
          1.7659723828565126,
          1.3919058928442318,
          2.1917838359764192,
          2.1540054251964804,
          1.6643835725833305,
          2.3141347803406966,
          3.776716953181165,
          4.534703015984131,
          0.9761386032923308,
          5.233611530467782,
          4.569843470122503,
          4.0462143134450805,
          9.291690349667642,
          1.417050302466423,
          1.535831855840959,
          1.4688276633298256,
          1.510834222415955,
          1.6622779411490756,
          1.429504079965838,
          1.5704700753943481,
          1.6569206912094874,
          1.4410956346874835,
          1.4874717543915097,
          1.309453445252616,
          1.7357507769745437,
          1.5279138921025959,
          1.5305288080983888,
          1.5102442881832148,
          1.5849970751122822,
          1.4436712470409556,
          1.5292787378387405,
          1.5230579263268778,
          1.6921598644252722,
          1.4588680390398157,
          1.5892847977467648,
          1.36832412476275,
          1.2820084216540653,
          1.3233665733685385,
          1.2763713016100122,
          1.3482421888561433,
          1.323715062483066,
          1.38911986287676,
          1.1697206279986412,
          1.1634844466473058,
          1.4307705461851334,
          1.2307352250347974,
          1.3742975471619876,
          1.2955622518718013,
          1.3831521933142306,
          1.4640390307264972,
          1.3445076608466502,
          1.3224280547062062,
          1.253843596150582,
          1.3793565858073014,
          1.3515120980584874,
          1.3649997979810196,
          1.4548458311413839,
          1.434364848129583,
          1.2057002956497092,
          1.4468852939408146,
          1.3982771532446967,
          1.3313988528491867,
          1.3577099232981127,
          1.2085147958033864,
          1.3311079670683275,
          1.461314945409965,
          1.3624794762560437,
          1.302335267916986,
          1.3816088856889566,
          1.3184810196943364,
          1.3122788982772005,
          1.2862917633595388,
          1.3569955386397663,
          1.2893892242741016,
          1.254430743180207,
          1.2951117813956288,
          1.3329185471103318,
          1.1579099616734905,
          1.2651093703117025,
          1.0533495244922173,
          1.040404598645427,
          1.144051606746759,
          1.1947544902242793,
          1.2140736884793626,
          0.9819640558487924,
          1.0676280493614965,
          1.1304170141055991,
          1.1410895596336734,
          1.0325256686955906,
          0.9833630801127018,
          1.2125876504908468,
          1.2880582735209158,
          0.9817532888025943,
          1.0019130524184945,
          1.154204921198231,
          0.9873179531899331,
          1.0157132806793963,
          1.4067182253303936,
          1.0999381286637346,
          1.3510353044778152,
          1.305330100404292,
          1.0839955560745964,
          1.3536097037409862,
          1.415103185100199,
          1.6948608965819814,
          1.4727060759306174,
          1.5139596371448025,
          1.8204233110072454,
          1.4022016052174582,
          1.597444933940649,
          1.705155630865102,
          1.4339292419871856,
          1.4760427318437255,
          1.305133221869752,
          1.764019047038481,
          1.4924776605483252,
          1.5433024598561451,
          1.4870431096440082,
          1.5871594043665282,
          1.3923527936728393,
          1.4812934843298986,
          1.5128213902316343,
          1.64963783307391,
          1.3749904888554314,
          1.5953211548535018,
          1.371282280535627,
          1.2703896203538492,
          1.4437867431447424,
          1.2761525496417951,
          1.328757197125675,
          1.348583495606316,
          1.4046623696444194,
          1.1537265045734664,
          1.1343493213949378,
          1.4263887006335663,
          1.2431406388568487,
          1.4188897325476262,
          1.2942808413329614,
          1.3781892015435986,
          1.4511221811452308,
          1.349672562299661,
          1.3386601395832023,
          1.2702321932758405,
          1.3781519251717451,
          1.3608222064091529,
          1.3622975457910054,
          1.4950905019595873,
          1.4505719080526827,
          1.2157384237758075,
          1.4712848046289622,
          1.3937187605168724,
          1.3411502537538122,
          1.3616114332949623,
          1.2040007056937594,
          1.3398772471873066,
          1.4676844237401916,
          1.3964648783579185,
          1.3034946547000605,
          1.4276491995138225,
          1.3330769930026503,
          1.3169193557528736,
          1.2676442052389238,
          1.342149899652641,
          1.3268152004662659,
          1.242072007374985,
          1.2991327102754808,
          1.3732803052137366,
          1.1779105095282734,
          1.3708029756707394,
          1.024166517106049,
          1.0398613026470325,
          1.1215947548565448,
          1.2191087222661485,
          1.2502096538376166,
          0.9844153111690519,
          1.0672728791902413,
          1.1243540512992685,
          1.1493265490280657,
          1.0300349447244195,
          0.9971295286265952,
          1.2468931953362692,
          1.313994775549436,
          0.9870163728519249,
          0.9909228031771161,
          1.1512121599949003,
          0.9690694599297696,
          0.9963568878619461,
          1.4506005077254034,
          1.1102948165833557,
          1.3790215179989302,
          1.3213976390436428,
          1.0861971789730789,
          1.3385046192974797
         ],
         "y0": " ",
         "yaxis": "y",
         "type": "box"
        }
       ],
       "layout": {
        "template": {
         "data": {
          "barpolar": [
           {
            "marker": {
             "line": {
              "color": "#E5ECF6",
              "width": 0.5
             },
             "pattern": {
              "fillmode": "overlay",
              "size": 10,
              "solidity": 0.2
             }
            },
            "type": "barpolar"
           }
          ],
          "bar": [
           {
            "error_x": {
             "color": "#2a3f5f"
            },
            "error_y": {
             "color": "#2a3f5f"
            },
            "marker": {
             "line": {
              "color": "#E5ECF6",
              "width": 0.5
             },
             "pattern": {
              "fillmode": "overlay",
              "size": 10,
              "solidity": 0.2
             }
            },
            "type": "bar"
           }
          ],
          "carpet": [
           {
            "aaxis": {
             "endlinecolor": "#2a3f5f",
             "gridcolor": "white",
             "linecolor": "white",
             "minorgridcolor": "white",
             "startlinecolor": "#2a3f5f"
            },
            "baxis": {
             "endlinecolor": "#2a3f5f",
             "gridcolor": "white",
             "linecolor": "white",
             "minorgridcolor": "white",
             "startlinecolor": "#2a3f5f"
            },
            "type": "carpet"
           }
          ],
          "choropleth": [
           {
            "colorbar": {
             "outlinewidth": 0,
             "ticks": ""
            },
            "type": "choropleth"
           }
          ],
          "contourcarpet": [
           {
            "colorbar": {
             "outlinewidth": 0,
             "ticks": ""
            },
            "type": "contourcarpet"
           }
          ],
          "contour": [
           {
            "colorbar": {
             "outlinewidth": 0,
             "ticks": ""
            },
            "colorscale": [
             [
              0.0,
              "#0d0887"
             ],
             [
              0.1111111111111111,
              "#46039f"
             ],
             [
              0.2222222222222222,
              "#7201a8"
             ],
             [
              0.3333333333333333,
              "#9c179e"
             ],
             [
              0.4444444444444444,
              "#bd3786"
             ],
             [
              0.5555555555555556,
              "#d8576b"
             ],
             [
              0.6666666666666666,
              "#ed7953"
             ],
             [
              0.7777777777777778,
              "#fb9f3a"
             ],
             [
              0.8888888888888888,
              "#fdca26"
             ],
             [
              1.0,
              "#f0f921"
             ]
            ],
            "type": "contour"
           }
          ],
          "heatmapgl": [
           {
            "colorbar": {
             "outlinewidth": 0,
             "ticks": ""
            },
            "colorscale": [
             [
              0.0,
              "#0d0887"
             ],
             [
              0.1111111111111111,
              "#46039f"
             ],
             [
              0.2222222222222222,
              "#7201a8"
             ],
             [
              0.3333333333333333,
              "#9c179e"
             ],
             [
              0.4444444444444444,
              "#bd3786"
             ],
             [
              0.5555555555555556,
              "#d8576b"
             ],
             [
              0.6666666666666666,
              "#ed7953"
             ],
             [
              0.7777777777777778,
              "#fb9f3a"
             ],
             [
              0.8888888888888888,
              "#fdca26"
             ],
             [
              1.0,
              "#f0f921"
             ]
            ],
            "type": "heatmapgl"
           }
          ],
          "heatmap": [
           {
            "colorbar": {
             "outlinewidth": 0,
             "ticks": ""
            },
            "colorscale": [
             [
              0.0,
              "#0d0887"
             ],
             [
              0.1111111111111111,
              "#46039f"
             ],
             [
              0.2222222222222222,
              "#7201a8"
             ],
             [
              0.3333333333333333,
              "#9c179e"
             ],
             [
              0.4444444444444444,
              "#bd3786"
             ],
             [
              0.5555555555555556,
              "#d8576b"
             ],
             [
              0.6666666666666666,
              "#ed7953"
             ],
             [
              0.7777777777777778,
              "#fb9f3a"
             ],
             [
              0.8888888888888888,
              "#fdca26"
             ],
             [
              1.0,
              "#f0f921"
             ]
            ],
            "type": "heatmap"
           }
          ],
          "histogram2dcontour": [
           {
            "colorbar": {
             "outlinewidth": 0,
             "ticks": ""
            },
            "colorscale": [
             [
              0.0,
              "#0d0887"
             ],
             [
              0.1111111111111111,
              "#46039f"
             ],
             [
              0.2222222222222222,
              "#7201a8"
             ],
             [
              0.3333333333333333,
              "#9c179e"
             ],
             [
              0.4444444444444444,
              "#bd3786"
             ],
             [
              0.5555555555555556,
              "#d8576b"
             ],
             [
              0.6666666666666666,
              "#ed7953"
             ],
             [
              0.7777777777777778,
              "#fb9f3a"
             ],
             [
              0.8888888888888888,
              "#fdca26"
             ],
             [
              1.0,
              "#f0f921"
             ]
            ],
            "type": "histogram2dcontour"
           }
          ],
          "histogram2d": [
           {
            "colorbar": {
             "outlinewidth": 0,
             "ticks": ""
            },
            "colorscale": [
             [
              0.0,
              "#0d0887"
             ],
             [
              0.1111111111111111,
              "#46039f"
             ],
             [
              0.2222222222222222,
              "#7201a8"
             ],
             [
              0.3333333333333333,
              "#9c179e"
             ],
             [
              0.4444444444444444,
              "#bd3786"
             ],
             [
              0.5555555555555556,
              "#d8576b"
             ],
             [
              0.6666666666666666,
              "#ed7953"
             ],
             [
              0.7777777777777778,
              "#fb9f3a"
             ],
             [
              0.8888888888888888,
              "#fdca26"
             ],
             [
              1.0,
              "#f0f921"
             ]
            ],
            "type": "histogram2d"
           }
          ],
          "histogram": [
           {
            "marker": {
             "pattern": {
              "fillmode": "overlay",
              "size": 10,
              "solidity": 0.2
             }
            },
            "type": "histogram"
           }
          ],
          "mesh3d": [
           {
            "colorbar": {
             "outlinewidth": 0,
             "ticks": ""
            },
            "type": "mesh3d"
           }
          ],
          "parcoords": [
           {
            "line": {
             "colorbar": {
              "outlinewidth": 0,
              "ticks": ""
             }
            },
            "type": "parcoords"
           }
          ],
          "pie": [
           {
            "automargin": true,
            "type": "pie"
           }
          ],
          "scatter3d": [
           {
            "line": {
             "colorbar": {
              "outlinewidth": 0,
              "ticks": ""
             }
            },
            "marker": {
             "colorbar": {
              "outlinewidth": 0,
              "ticks": ""
             }
            },
            "type": "scatter3d"
           }
          ],
          "scattercarpet": [
           {
            "marker": {
             "colorbar": {
              "outlinewidth": 0,
              "ticks": ""
             }
            },
            "type": "scattercarpet"
           }
          ],
          "scattergeo": [
           {
            "marker": {
             "colorbar": {
              "outlinewidth": 0,
              "ticks": ""
             }
            },
            "type": "scattergeo"
           }
          ],
          "scattergl": [
           {
            "marker": {
             "colorbar": {
              "outlinewidth": 0,
              "ticks": ""
             }
            },
            "type": "scattergl"
           }
          ],
          "scattermapbox": [
           {
            "marker": {
             "colorbar": {
              "outlinewidth": 0,
              "ticks": ""
             }
            },
            "type": "scattermapbox"
           }
          ],
          "scatterpolargl": [
           {
            "marker": {
             "colorbar": {
              "outlinewidth": 0,
              "ticks": ""
             }
            },
            "type": "scatterpolargl"
           }
          ],
          "scatterpolar": [
           {
            "marker": {
             "colorbar": {
              "outlinewidth": 0,
              "ticks": ""
             }
            },
            "type": "scatterpolar"
           }
          ],
          "scatter": [
           {
            "fillpattern": {
             "fillmode": "overlay",
             "size": 10,
             "solidity": 0.2
            },
            "type": "scatter"
           }
          ],
          "scatterternary": [
           {
            "marker": {
             "colorbar": {
              "outlinewidth": 0,
              "ticks": ""
             }
            },
            "type": "scatterternary"
           }
          ],
          "surface": [
           {
            "colorbar": {
             "outlinewidth": 0,
             "ticks": ""
            },
            "colorscale": [
             [
              0.0,
              "#0d0887"
             ],
             [
              0.1111111111111111,
              "#46039f"
             ],
             [
              0.2222222222222222,
              "#7201a8"
             ],
             [
              0.3333333333333333,
              "#9c179e"
             ],
             [
              0.4444444444444444,
              "#bd3786"
             ],
             [
              0.5555555555555556,
              "#d8576b"
             ],
             [
              0.6666666666666666,
              "#ed7953"
             ],
             [
              0.7777777777777778,
              "#fb9f3a"
             ],
             [
              0.8888888888888888,
              "#fdca26"
             ],
             [
              1.0,
              "#f0f921"
             ]
            ],
            "type": "surface"
           }
          ],
          "table": [
           {
            "cells": {
             "fill": {
              "color": "#EBF0F8"
             },
             "line": {
              "color": "white"
             }
            },
            "header": {
             "fill": {
              "color": "#C8D4E3"
             },
             "line": {
              "color": "white"
             }
            },
            "type": "table"
           }
          ]
         },
         "layout": {
          "annotationdefaults": {
           "arrowcolor": "#2a3f5f",
           "arrowhead": 0,
           "arrowwidth": 1
          },
          "autotypenumbers": "strict",
          "coloraxis": {
           "colorbar": {
            "outlinewidth": 0,
            "ticks": ""
           }
          },
          "colorscale": {
           "diverging": [
            [
             0,
             "#8e0152"
            ],
            [
             0.1,
             "#c51b7d"
            ],
            [
             0.2,
             "#de77ae"
            ],
            [
             0.3,
             "#f1b6da"
            ],
            [
             0.4,
             "#fde0ef"
            ],
            [
             0.5,
             "#f7f7f7"
            ],
            [
             0.6,
             "#e6f5d0"
            ],
            [
             0.7,
             "#b8e186"
            ],
            [
             0.8,
             "#7fbc41"
            ],
            [
             0.9,
             "#4d9221"
            ],
            [
             1,
             "#276419"
            ]
           ],
           "sequential": [
            [
             0.0,
             "#0d0887"
            ],
            [
             0.1111111111111111,
             "#46039f"
            ],
            [
             0.2222222222222222,
             "#7201a8"
            ],
            [
             0.3333333333333333,
             "#9c179e"
            ],
            [
             0.4444444444444444,
             "#bd3786"
            ],
            [
             0.5555555555555556,
             "#d8576b"
            ],
            [
             0.6666666666666666,
             "#ed7953"
            ],
            [
             0.7777777777777778,
             "#fb9f3a"
            ],
            [
             0.8888888888888888,
             "#fdca26"
            ],
            [
             1.0,
             "#f0f921"
            ]
           ],
           "sequentialminus": [
            [
             0.0,
             "#0d0887"
            ],
            [
             0.1111111111111111,
             "#46039f"
            ],
            [
             0.2222222222222222,
             "#7201a8"
            ],
            [
             0.3333333333333333,
             "#9c179e"
            ],
            [
             0.4444444444444444,
             "#bd3786"
            ],
            [
             0.5555555555555556,
             "#d8576b"
            ],
            [
             0.6666666666666666,
             "#ed7953"
            ],
            [
             0.7777777777777778,
             "#fb9f3a"
            ],
            [
             0.8888888888888888,
             "#fdca26"
            ],
            [
             1.0,
             "#f0f921"
            ]
           ]
          },
          "colorway": [
           "#636efa",
           "#EF553B",
           "#00cc96",
           "#ab63fa",
           "#FFA15A",
           "#19d3f3",
           "#FF6692",
           "#B6E880",
           "#FF97FF",
           "#FECB52"
          ],
          "font": {
           "color": "#2a3f5f"
          },
          "geo": {
           "bgcolor": "white",
           "lakecolor": "white",
           "landcolor": "#E5ECF6",
           "showlakes": true,
           "showland": true,
           "subunitcolor": "white"
          },
          "hoverlabel": {
           "align": "left"
          },
          "hovermode": "closest",
          "mapbox": {
           "style": "light"
          },
          "paper_bgcolor": "white",
          "plot_bgcolor": "#E5ECF6",
          "polar": {
           "angularaxis": {
            "gridcolor": "white",
            "linecolor": "white",
            "ticks": ""
           },
           "bgcolor": "#E5ECF6",
           "radialaxis": {
            "gridcolor": "white",
            "linecolor": "white",
            "ticks": ""
           }
          },
          "scene": {
           "xaxis": {
            "backgroundcolor": "#E5ECF6",
            "gridcolor": "white",
            "gridwidth": 2,
            "linecolor": "white",
            "showbackground": true,
            "ticks": "",
            "zerolinecolor": "white"
           },
           "yaxis": {
            "backgroundcolor": "#E5ECF6",
            "gridcolor": "white",
            "gridwidth": 2,
            "linecolor": "white",
            "showbackground": true,
            "ticks": "",
            "zerolinecolor": "white"
           },
           "zaxis": {
            "backgroundcolor": "#E5ECF6",
            "gridcolor": "white",
            "gridwidth": 2,
            "linecolor": "white",
            "showbackground": true,
            "ticks": "",
            "zerolinecolor": "white"
           }
          },
          "shapedefaults": {
           "line": {
            "color": "#2a3f5f"
           }
          },
          "ternary": {
           "aaxis": {
            "gridcolor": "white",
            "linecolor": "white",
            "ticks": ""
           },
           "baxis": {
            "gridcolor": "white",
            "linecolor": "white",
            "ticks": ""
           },
           "bgcolor": "#E5ECF6",
           "caxis": {
            "gridcolor": "white",
            "linecolor": "white",
            "ticks": ""
           }
          },
          "title": {
           "x": 0.05
          },
          "xaxis": {
           "automargin": true,
           "gridcolor": "white",
           "linecolor": "white",
           "ticks": "",
           "title": {
            "standoff": 15
           },
           "zerolinecolor": "white",
           "zerolinewidth": 2
          },
          "yaxis": {
           "automargin": true,
           "gridcolor": "white",
           "linecolor": "white",
           "ticks": "",
           "title": {
            "standoff": 15
           },
           "zerolinecolor": "white",
           "zerolinewidth": 2
          }
         }
        },
        "xaxis": {
         "anchor": "y",
         "domain": [
          0.0,
          1.0
         ],
         "title": {
          "text": "Settings"
         }
        },
        "yaxis": {
         "anchor": "x",
         "domain": [
          0.0,
          1.0
         ],
         "title": {
          "text": "ROM error [deg/s]"
         }
        },
        "legend": {
         "tracegroupgap": 0
        },
        "title": {
         "text": "Elbow Velocity ROM error, cad = 21.71 deg/s"
        },
        "boxmode": "group",
        "shapes": [
         {
          "line": {
           "color": "red",
           "dash": "dash"
          },
          "name": "CAD",
          "type": "line",
          "x0": 0,
          "x1": 1,
          "xref": "x domain",
          "y0": 21.71,
          "y1": 21.71,
          "yref": "y"
         },
         {
          "line": {
           "color": "red",
           "dash": "dash"
          },
          "name": "CAD",
          "type": "line",
          "x0": 0,
          "x1": 1,
          "xref": "x domain",
          "y0": -21.71,
          "y1": -21.71,
          "yref": "y"
         }
        ]
       },
       "config": {
        "plotlyServerURL": "https://plot.ly"
       }
      },
      "text/html": [
       "<div>                            <div id=\"93ea2bf9-8a18-4606-9a2c-312c25a8c192\" class=\"plotly-graph-div\" style=\"height:525px; width:100%;\"></div>            <script type=\"text/javascript\">                require([\"plotly\"], function(Plotly) {                    window.PLOTLYENV=window.PLOTLYENV || {};                                    if (document.getElementById(\"93ea2bf9-8a18-4606-9a2c-312c25a8c192\")) {                    Plotly.newPlot(                        \"93ea2bf9-8a18-4606-9a2c-312c25a8c192\",                        [{\"alignmentgroup\":\"True\",\"hovertemplate\":\"id_s_name=%{x}\\u003cbr\\u003eerror=%{y}\\u003cextra\\u003e\\u003c\\u002fextra\\u003e\",\"legendgroup\":\"\",\"marker\":{\"color\":\"#636efa\"},\"name\":\"\",\"notched\":false,\"offsetgroup\":\"\",\"orientation\":\"v\",\"showlegend\":false,\"x\":[\"SimCC, Cams: 1,2,3,4,5\",\"SimCC, Cams: 1,2,3,4,5\",\"SimCC, Cams: 1,2,3,4,5\",\"SimCC, Cams: 1,2,3,4,5\",\"SimCC, Cams: 1,2,3,4,5\",\"SimCC, Cams: 1,2,3,4,5\",\"SimCC, Cams: 1,2,3,4,5\",\"SimCC, Cams: 1,2,3,4,5\",\"SimCC, Cams: 1,2,3,4,5\",\"SimCC, Cams: 1,2,3,4,5\",\"SimCC, Cams: 1,2,3,4,5\",\"SimCC, Cams: 1,2,3,4,5\",\"SimCC, Cams: 1,2,3,4,5\",\"SimCC, Cams: 1,2,3,4,5\",\"SimCC, Cams: 1,2,3,4,5\",\"SimCC, Cams: 1,2,3,4,5\",\"SimCC, Cams: 1,2,3,4,5\",\"SimCC, Cams: 1,2,3,4,5\",\"SimCC, Cams: 1,2,3,4,5\",\"SimCC, Cams: 1,2,3,4,5\",\"SimCC, Cams: 1,2,3,4,5\",\"SimCC, Cams: 1,2,3,4,5\",\"SimCC, Cams: 1,2,3,4,5\",\"SimCC, Cams: 1,2,3,4,5\",\"SimCC, Cams: 1,2,3,4,5\",\"SimCC, Cams: 1,2,3,4,5\",\"SimCC, Cams: 1,2,3,4,5\",\"SimCC, Cams: 1,2,3,4,5\",\"SimCC, Cams: 1,2,3,4,5\",\"SimCC, Cams: 1,2,3,4,5\",\"SimCC, Cams: 1,2,3,4,5\",\"SimCC, Cams: 1,2,3,4,5\",\"SimCC, Cams: 1,2,3,4,5\",\"SimCC, Cams: 1,2,3,4,5\",\"SimCC, Cams: 1,2,3,4,5\",\"SimCC, Cams: 1,2,3,4,5\",\"SimCC, Cams: 1,2,3,4,5\",\"SimCC, Cams: 1,2,3,4,5\",\"SimCC, Cams: 1,2,3,4,5\",\"SimCC, Cams: 1,2,3,4,5\",\"SimCC, Cams: 1,2,3,4,5\",\"SimCC, Cams: 1,2,3,4,5\",\"SimCC, Cams: 1,2,3,4,5\",\"SimCC, Cams: 1,2,3,4,5\",\"SimCC, Cams: 1,2,3,4,5\",\"SimCC, Cams: 1,2,3,4,5\",\"SimCC, Cams: 1,2,3,4,5\",\"SimCC, Cams: 1,2,3,4,5\",\"SimCC, Cams: 1,2,3,4,5\",\"SimCC, Cams: 1,2,3,4,5\",\"SimCC, Cams: 1,2,3,4,5\",\"SimCC, Cams: 1,2,3,4,5\",\"SimCC, Cams: 1,2,3,4,5\",\"SimCC, Cams: 1,2,3,4,5\",\"SimCC, Cams: 1,2,3,4,5\",\"SimCC, Cams: 1,2,3,4,5\",\"SimCC, Cams: 1,2,3,4,5\",\"SimCC, Cams: 1,2,3,4,5\",\"SimCC, Cams: 1,2,3,4,5\",\"SimCC, Cams: 1,2,3,4,5\",\"SimCC, Cams: 1,2,3,4,5\",\"SimCC, Cams: 1,2,3,4,5\",\"SimCC, Cams: 1,2,3,4,5\",\"SimCC, Cams: 1,2,3,4,5\",\"SimCC, Cams: 1,2,3,4,5\",\"SimCC, Cams: 1,2,3,4,5\",\"SimCC, Cams: 1,2,3,4,5\",\"SimCC, Cams: 1,2,3,4,5\",\"SimCC, Cams: 1,2,3,4,5\",\"SimCC, Cams: 1,2,3,4,5\",\"SimCC, Cams: 1,2,3,4,5\",\"SimCC, Cams: 1,2,3,4,5\",\"SimCC, Cams: 1,2,3,4,5\",\"SimCC, Cams: 1,2,3,4,5\",\"SimCC, Cams: 1,2,3,4,5\",\"SimCC, Cams: 1,2,3,4,5\",\"SimCC, Cams: 1,2,3,4,5\",\"SimCC, Cams: 1,2,3,4,5\",\"SimCC, Cams: 1,2,3,4,5\",\"SimCC, Cams: 1,2,3,4,5\",\"SimCC, Cams: 1,2,3,4,5\",\"SimCC, Cams: 1,2,3,4,5\",\"SimCC, Cams: 1,2,3,4,5\",\"SimCC, Cams: 1,2,3,4,5\",\"SimCC, Cams: 1,2,3,4,5\",\"SimCC, Cams: 1,2,3,4,5\",\"SimCC, Cams: 1,2,3,4,5\",\"SimCC, Cams: 1,2,3,4,5\",\"SimCC, Cams: 1,2,3,4,5\",\"Metrabs, Cams: 1,2,3,4,5\",\"Metrabs, Cams: 1,2,3,4,5\",\"Metrabs, Cams: 1,2,3,4,5\",\"Metrabs, Cams: 1,2,3,4,5\",\"Metrabs, Cams: 1,2,3,4,5\",\"Metrabs, Cams: 1,2,3,4,5\",\"Metrabs, Cams: 1,2,3,4,5\",\"Metrabs, Cams: 1,2,3,4,5\",\"Metrabs, Cams: 1,2,3,4,5\",\"Metrabs, Cams: 1,2,3,4,5\",\"Metrabs, Cams: 1,2,3,4,5\",\"Metrabs, Cams: 1,2,3,4,5\",\"Metrabs, Cams: 1,2,3,4,5\",\"Metrabs, Cams: 1,2,3,4,5\",\"Metrabs, Cams: 1,2,3,4,5\",\"Metrabs, Cams: 1,2,3,4,5\",\"Metrabs, Cams: 1,2,3,4,5\",\"Metrabs, Cams: 1,2,3,4,5\",\"Metrabs, Cams: 1,2,3,4,5\",\"Metrabs, Cams: 1,2,3,4,5\",\"Metrabs, Cams: 1,2,3,4,5\",\"Metrabs, Cams: 1,2,3,4,5\",\"Metrabs, Cams: 1,2,3,4,5\",\"Metrabs, Cams: 1,2,3,4,5\",\"Metrabs, Cams: 1,2,3,4,5\",\"Metrabs, Cams: 1,2,3,4,5\",\"Metrabs, Cams: 1,2,3,4,5\",\"Metrabs, Cams: 1,2,3,4,5\",\"Metrabs, Cams: 1,2,3,4,5\",\"Metrabs, Cams: 1,2,3,4,5\",\"Metrabs, Cams: 1,2,3,4,5\",\"Metrabs, Cams: 1,2,3,4,5\",\"Metrabs, Cams: 1,2,3,4,5\",\"Metrabs, Cams: 1,2,3,4,5\",\"Metrabs, Cams: 1,2,3,4,5\",\"Metrabs, Cams: 1,2,3,4,5\",\"Metrabs, Cams: 1,2,3,4,5\",\"Metrabs, Cams: 1,2,3,4,5\",\"Metrabs, Cams: 1,2,3,4,5\",\"Metrabs, Cams: 1,2,3,4,5\",\"Metrabs, Cams: 1,2,3,4,5\",\"Metrabs, Cams: 1,2,3,4,5\",\"Metrabs, Cams: 1,2,3,4,5\",\"Metrabs, Cams: 1,2,3,4,5\",\"Metrabs, Cams: 1,2,3,4,5\",\"Metrabs, Cams: 1,2,3,4,5\",\"Metrabs, Cams: 1,2,3,4,5\",\"Metrabs, Cams: 1,2,3,4,5\",\"Metrabs, Cams: 1,2,3,4,5\",\"Metrabs, Cams: 1,2,3,4,5\",\"Metrabs, Cams: 1,2,3,4,5\",\"Metrabs, Cams: 1,2,3,4,5\",\"Metrabs, Cams: 1,2,3,4,5\",\"Metrabs, Cams: 1,2,3,4,5\",\"Metrabs, Cams: 1,2,3,4,5\",\"Metrabs, Cams: 1,2,3,4,5\",\"Metrabs, Cams: 1,2,3,4,5\",\"Metrabs, Cams: 1,2,3,4,5\",\"Metrabs, Cams: 1,2,3,4,5\",\"Metrabs, Cams: 1,2,3,4,5\",\"Metrabs, Cams: 1,2,3,4,5\",\"Metrabs, Cams: 1,2,3,4,5\",\"Metrabs, Cams: 1,2,3,4,5\",\"Metrabs, Cams: 1,2,3,4,5\",\"Metrabs, Cams: 1,2,3,4,5\",\"Metrabs, Cams: 1,2,3,4,5\",\"Metrabs, Cams: 1,2,3,4,5\",\"Metrabs, Cams: 1,2,3,4,5\",\"Metrabs, Cams: 1,2,3,4,5\",\"Metrabs, Cams: 1,2,3,4,5\",\"Metrabs, Cams: 1,2,3,4,5\",\"Metrabs, Cams: 1,2,3,4,5\",\"Metrabs, Cams: 1,2,3,4,5\",\"Metrabs, Cams: 1,2,3,4,5\",\"Metrabs, Cams: 1,2,3,4,5\",\"Metrabs, Cams: 1,2,3,4,5\",\"Metrabs, Cams: 1,2,3,4,5\",\"Metrabs, Cams: 1,2,3,4,5\",\"Metrabs, Cams: 1,2,3,4,5\",\"Metrabs, Cams: 1,2,3,4,5\",\"Metrabs, Cams: 1,2,3,4,5\",\"Metrabs, Cams: 1,2,3,4,5\",\"Metrabs, Cams: 1,2,3,4,5\",\"Metrabs, Cams: 1,2,3,4,5\",\"Metrabs, Cams: 1,2,3,4,5\",\"Metrabs, Cams: 1,2,3,4,5\",\"Metrabs, Cams: 1,2,3,4,5\",\"Metrabs, Cams: 1,2,3,4,5\",\"Metrabs, Cams: 1,2,3,4,5\",\"Metrabs, Cams: 1,2,3,4,5\",\"Single, Cam: 1, filt\",\"Single, Cam: 1, filt\",\"Single, Cam: 1, filt\",\"Single, Cam: 1, filt\",\"Single, Cam: 1, filt\",\"Single, Cam: 1, filt\",\"Single, Cam: 1, filt\",\"Single, Cam: 1, filt\",\"Single, Cam: 1, filt\",\"Single, Cam: 1, filt\",\"Single, Cam: 1, filt\",\"Single, Cam: 1, filt\",\"Single, Cam: 1, filt\",\"Single, Cam: 1, filt\",\"Single, Cam: 1, filt\",\"Single, Cam: 1, filt\",\"Single, Cam: 1, filt\",\"Single, Cam: 1, filt\",\"Single, Cam: 1, filt\",\"Single, Cam: 1, filt\",\"Single, Cam: 1, filt\",\"Single, Cam: 1, filt\",\"Single, Cam: 1, filt\",\"Single, Cam: 1, filt\",\"Single, Cam: 1, filt\",\"Single, Cam: 1, filt\",\"Single, Cam: 1, filt\",\"Single, Cam: 1, filt\",\"Single, Cam: 1, filt\",\"Single, Cam: 1, filt\",\"Single, Cam: 1, filt\",\"Single, Cam: 1, filt\",\"Single, Cam: 1, filt\",\"Single, Cam: 1, filt\",\"Single, Cam: 1, filt\",\"Single, Cam: 1, filt\",\"Single, Cam: 1, filt\",\"Single, Cam: 1, filt\",\"Single, Cam: 1, filt\",\"Single, Cam: 1, filt\",\"Single, Cam: 1, filt\",\"Single, Cam: 1, filt\",\"Single, Cam: 1, filt\",\"Single, Cam: 1, filt\",\"Single, Cam: 1, filt\",\"Single, Cam: 1, filt\",\"Single, Cam: 1, filt\",\"Single, Cam: 1, filt\",\"Single, Cam: 1, filt\",\"Single, Cam: 1, filt\",\"Single, Cam: 1, filt\",\"Single, Cam: 1, filt\",\"Single, Cam: 1, filt\",\"Single, Cam: 1, filt\",\"Single, Cam: 1, filt\",\"Single, Cam: 1, filt\",\"Single, Cam: 1, filt\",\"Single, Cam: 1, filt\",\"Single, Cam: 1, filt\",\"Single, Cam: 1, filt\",\"Single, Cam: 1, filt\",\"Single, Cam: 1, filt\",\"Single, Cam: 1, filt\",\"Single, Cam: 1, filt\",\"Single, Cam: 1, filt\",\"Single, Cam: 1, filt\",\"Single, Cam: 1, filt\",\"Single, Cam: 1, filt\",\"Single, Cam: 1, filt\",\"Single, Cam: 1, filt\",\"Single, Cam: 1, filt\",\"Single, Cam: 1, filt\",\"Single, Cam: 1, filt\",\"Single, Cam: 1, filt\",\"Single, Cam: 1, filt\",\"Single, Cam: 1, filt\",\"Single, Cam: 1, filt\",\"Single, Cam: 1, filt\",\"Single, Cam: 1, filt\",\"Single, Cam: 1, filt\",\"Single, Cam: 1, filt\",\"Single, Cam: 1, filt\",\"Single, Cam: 1, filt\",\"Single, Cam: 1, filt\",\"Single, Cam: 1, filt\",\"Single, Cam: 1, filt\",\"Single, Cam: 1, filt\",\"Single, Cam: 1, filt\",\"Single, Cam: 1, filt\",\"Single, Cam: 1, filt\",\"Single, Cam: 1, unfilt\",\"Single, Cam: 1, unfilt\",\"Single, Cam: 1, unfilt\",\"Single, Cam: 1, unfilt\",\"Single, Cam: 1, unfilt\",\"Single, Cam: 1, unfilt\",\"Single, Cam: 1, unfilt\",\"Single, Cam: 1, unfilt\",\"Single, Cam: 1, unfilt\",\"Single, Cam: 1, unfilt\",\"Single, Cam: 1, unfilt\",\"Single, Cam: 1, unfilt\",\"Single, Cam: 1, unfilt\",\"Single, Cam: 1, unfilt\",\"Single, Cam: 1, unfilt\",\"Single, Cam: 1, unfilt\",\"Single, Cam: 1, unfilt\",\"Single, Cam: 1, unfilt\",\"Single, Cam: 1, unfilt\",\"Single, Cam: 1, unfilt\",\"Single, Cam: 1, unfilt\",\"Single, Cam: 1, unfilt\",\"Single, Cam: 1, unfilt\",\"Single, Cam: 1, unfilt\",\"Single, Cam: 1, unfilt\",\"Single, Cam: 1, unfilt\",\"Single, Cam: 1, unfilt\",\"Single, Cam: 1, unfilt\",\"Single, Cam: 1, unfilt\",\"Single, Cam: 1, unfilt\",\"Single, Cam: 1, unfilt\",\"Single, Cam: 1, unfilt\",\"Single, Cam: 1, unfilt\",\"Single, Cam: 1, unfilt\",\"Single, Cam: 1, unfilt\",\"Single, Cam: 1, unfilt\",\"Single, Cam: 1, unfilt\",\"Single, Cam: 1, unfilt\",\"Single, Cam: 1, unfilt\",\"Single, Cam: 1, unfilt\",\"Single, Cam: 1, unfilt\",\"Single, Cam: 1, unfilt\",\"Single, Cam: 1, unfilt\",\"Single, Cam: 1, unfilt\",\"Single, Cam: 1, unfilt\",\"Single, Cam: 1, unfilt\",\"Single, Cam: 1, unfilt\",\"Single, Cam: 1, unfilt\",\"Single, Cam: 1, unfilt\",\"Single, Cam: 1, unfilt\",\"Single, Cam: 1, unfilt\",\"Single, Cam: 1, unfilt\",\"Single, Cam: 1, unfilt\",\"Single, Cam: 1, unfilt\",\"Single, Cam: 1, unfilt\",\"Single, Cam: 1, unfilt\",\"Single, Cam: 1, unfilt\",\"Single, Cam: 1, unfilt\",\"Single, Cam: 1, unfilt\",\"Single, Cam: 1, unfilt\",\"Single, Cam: 1, unfilt\",\"Single, Cam: 1, unfilt\",\"Single, Cam: 1, unfilt\",\"Single, Cam: 1, unfilt\",\"Single, Cam: 1, unfilt\",\"Single, Cam: 1, unfilt\",\"Single, Cam: 1, unfilt\",\"Single, Cam: 1, unfilt\",\"Single, Cam: 1, unfilt\",\"Single, Cam: 1, unfilt\",\"Single, Cam: 1, unfilt\",\"Single, Cam: 1, unfilt\",\"Single, Cam: 1, unfilt\",\"Single, Cam: 1, unfilt\",\"Single, Cam: 1, unfilt\",\"Single, Cam: 1, unfilt\",\"Single, Cam: 1, unfilt\",\"Single, Cam: 1, unfilt\",\"Single, Cam: 1, unfilt\",\"Single, Cam: 1, unfilt\",\"Single, Cam: 1, unfilt\",\"Single, Cam: 1, unfilt\",\"Single, Cam: 1, unfilt\",\"Single, Cam: 1, unfilt\",\"Single, Cam: 1, unfilt\",\"Single, Cam: 1, unfilt\",\"Single, Cam: 1, unfilt\",\"Single, Cam: 1, unfilt\",\"Single, Cam: 1, unfilt\",\"Single, Cam: 1, unfilt\"],\"x0\":\" \",\"xaxis\":\"x\",\"y\":[3.6550909604647703,1.0221629807539914,1.8038494022889158,1.3939707138912254,1.4444604250943764,0.9459117644732793,1.194002540363063,0.8996773698633276,1.3572649892757658,1.202899900390755,1.0144125322130353,1.0680041724790732,1.1731279835271777,1.1999964748505358,1.2917218066220058,1.0124007995997633,1.2617600676330518,0.9189262697833437,1.4723522443985797,1.654471894405412,0.8882546973097936,1.0354627486090646,1.3652465099640458,1.1914818763095805,1.129655480929947,1.17546261888103,1.2454009760480884,1.0968723194977466,1.0543573856953008,1.0537530704258744,1.010286559906137,1.1976992773299835,1.064629850400545,1.183092859098535,1.073969516566804,0.9951653813509134,1.6962611410826491,1.2713578635924263,1.495337837867728,0.961414279036577,1.0875403569976403,1.4580141456171678,1.3089548893852108,1.1053980071992973,1.1033655678734735,1.0776252168958178,1.4996533200153397,1.2453268472367174,1.3395441408194912,1.2955327208420633,1.413232981607436,1.1750973144198373,1.0425518111193177,1.0644807945341055,1.0331715349601533,1.1683088773758301,1.0835465652546685,1.0760846569344087,1.1285804252284835,1.2413083149051927,0.9058203547678471,1.0832105477742833,1.1610327031281615,1.1196995789096487,1.435576576060356,1.4949756858629961,1.013578221515823,1.0336559907303957,1.112161962401182,1.0399832054348441,1.1420714270207117,1.0541740233111097,1.1299707709415625,0.9994904997651292,1.1196695774589438,0.9992049646299336,1.5859687588503846,0.9101344070979677,1.0556251401878083,0.8859972370361545,1.0128281285274123,0.8937153307928627,0.9374576926247098,0.8875920793268085,0.4314364947406439,0.5781479410480703,0.6421893333966742,0.6714262962736237,0.6374054222452641,1.2540279158486245,1.4569401183549526,1.4599994359462967,1.3344408122884126,1.255915799692626,1.3812516222786062,1.4162027294394297,1.4871367690375406,1.5425481166742023,1.4199078745658174,1.3360016033387694,1.4886610952312003,1.3679963853672612,1.602191787711593,1.6272888367153076,1.3046295355825348,1.4340139485819599,1.3753251609761792,1.2307962235860905,1.258695738744239,1.1270492038341953,1.366282275678147,1.353511257994577,1.357188682895573,1.3331952379918295,1.3316586361066953,1.2010220764101256,1.3172041191245498,1.2998172516330178,1.2521545075275973,1.0426046521770755,1.3437407898507483,1.334100441041915,1.5394040442096932,1.2335262514141172,1.3228308599755325,1.3760561737425239,1.4360745158796488,1.2991555065582066,1.5054971321445565,1.2360666084943228,1.4431945474525887,1.1615325838316581,1.3870118553948068,1.442292765642668,1.3717341513268873,1.347537811616755,2.0638802841534853,1.881024963474859,2.222154940018653,1.6819412205620996,1.9531380853889768,2.6512601861978973,1.9857227854752413,1.9338993142731755,2.242689095810863,2.062999588231457,1.5817831331843766,1.906087975065647,1.611851816130826,1.5505996431108418,1.9110913115740564,1.4266554911880176,2.9189760587254447,2.6057431996974287,2.3481136521418455,1.2555854735934355,2.267745419362927,2.0882793655232663,1.7468324539572242,1.596867330649397,1.2711495998434235,1.8023274974765477,1.959516488176553,2.327049401544161,2.1984234420095836,2.3829947063520334,1.7659723828565126,1.3919058928442318,2.1917838359764192,2.1540054251964804,1.6643835725833305,2.3141347803406966,3.776716953181165,4.534703015984131,0.9761386032923308,5.233611530467782,4.569843470122503,4.0462143134450805,9.291690349667642,1.417050302466423,1.535831855840959,1.4688276633298256,1.510834222415955,1.6622779411490756,1.429504079965838,1.5704700753943481,1.6569206912094874,1.4410956346874835,1.4874717543915097,1.309453445252616,1.7357507769745437,1.5279138921025959,1.5305288080983888,1.5102442881832148,1.5849970751122822,1.4436712470409556,1.5292787378387405,1.5230579263268778,1.6921598644252722,1.4588680390398157,1.5892847977467648,1.36832412476275,1.2820084216540653,1.3233665733685385,1.2763713016100122,1.3482421888561433,1.323715062483066,1.38911986287676,1.1697206279986412,1.1634844466473058,1.4307705461851334,1.2307352250347974,1.3742975471619876,1.2955622518718013,1.3831521933142306,1.4640390307264972,1.3445076608466502,1.3224280547062062,1.253843596150582,1.3793565858073014,1.3515120980584874,1.3649997979810196,1.4548458311413839,1.434364848129583,1.2057002956497092,1.4468852939408146,1.3982771532446967,1.3313988528491867,1.3577099232981127,1.2085147958033864,1.3311079670683275,1.461314945409965,1.3624794762560437,1.302335267916986,1.3816088856889566,1.3184810196943364,1.3122788982772005,1.2862917633595388,1.3569955386397663,1.2893892242741016,1.254430743180207,1.2951117813956288,1.3329185471103318,1.1579099616734905,1.2651093703117025,1.0533495244922173,1.040404598645427,1.144051606746759,1.1947544902242793,1.2140736884793626,0.9819640558487924,1.0676280493614965,1.1304170141055991,1.1410895596336734,1.0325256686955906,0.9833630801127018,1.2125876504908468,1.2880582735209158,0.9817532888025943,1.0019130524184945,1.154204921198231,0.9873179531899331,1.0157132806793963,1.4067182253303936,1.0999381286637346,1.3510353044778152,1.305330100404292,1.0839955560745964,1.3536097037409862,1.415103185100199,1.6948608965819814,1.4727060759306174,1.5139596371448025,1.8204233110072454,1.4022016052174582,1.597444933940649,1.705155630865102,1.4339292419871856,1.4760427318437255,1.305133221869752,1.764019047038481,1.4924776605483252,1.5433024598561451,1.4870431096440082,1.5871594043665282,1.3923527936728393,1.4812934843298986,1.5128213902316343,1.64963783307391,1.3749904888554314,1.5953211548535018,1.371282280535627,1.2703896203538492,1.4437867431447424,1.2761525496417951,1.328757197125675,1.348583495606316,1.4046623696444194,1.1537265045734664,1.1343493213949378,1.4263887006335663,1.2431406388568487,1.4188897325476262,1.2942808413329614,1.3781892015435986,1.4511221811452308,1.349672562299661,1.3386601395832023,1.2702321932758405,1.3781519251717451,1.3608222064091529,1.3622975457910054,1.4950905019595873,1.4505719080526827,1.2157384237758075,1.4712848046289622,1.3937187605168724,1.3411502537538122,1.3616114332949623,1.2040007056937594,1.3398772471873066,1.4676844237401916,1.3964648783579185,1.3034946547000605,1.4276491995138225,1.3330769930026503,1.3169193557528736,1.2676442052389238,1.342149899652641,1.3268152004662659,1.242072007374985,1.2991327102754808,1.3732803052137366,1.1779105095282734,1.3708029756707394,1.024166517106049,1.0398613026470325,1.1215947548565448,1.2191087222661485,1.2502096538376166,0.9844153111690519,1.0672728791902413,1.1243540512992685,1.1493265490280657,1.0300349447244195,0.9971295286265952,1.2468931953362692,1.313994775549436,0.9870163728519249,0.9909228031771161,1.1512121599949003,0.9690694599297696,0.9963568878619461,1.4506005077254034,1.1102948165833557,1.3790215179989302,1.3213976390436428,1.0861971789730789,1.3385046192974797],\"y0\":\" \",\"yaxis\":\"y\",\"type\":\"box\"}],                        {\"template\":{\"data\":{\"barpolar\":[{\"marker\":{\"line\":{\"color\":\"#E5ECF6\",\"width\":0.5},\"pattern\":{\"fillmode\":\"overlay\",\"size\":10,\"solidity\":0.2}},\"type\":\"barpolar\"}],\"bar\":[{\"error_x\":{\"color\":\"#2a3f5f\"},\"error_y\":{\"color\":\"#2a3f5f\"},\"marker\":{\"line\":{\"color\":\"#E5ECF6\",\"width\":0.5},\"pattern\":{\"fillmode\":\"overlay\",\"size\":10,\"solidity\":0.2}},\"type\":\"bar\"}],\"carpet\":[{\"aaxis\":{\"endlinecolor\":\"#2a3f5f\",\"gridcolor\":\"white\",\"linecolor\":\"white\",\"minorgridcolor\":\"white\",\"startlinecolor\":\"#2a3f5f\"},\"baxis\":{\"endlinecolor\":\"#2a3f5f\",\"gridcolor\":\"white\",\"linecolor\":\"white\",\"minorgridcolor\":\"white\",\"startlinecolor\":\"#2a3f5f\"},\"type\":\"carpet\"}],\"choropleth\":[{\"colorbar\":{\"outlinewidth\":0,\"ticks\":\"\"},\"type\":\"choropleth\"}],\"contourcarpet\":[{\"colorbar\":{\"outlinewidth\":0,\"ticks\":\"\"},\"type\":\"contourcarpet\"}],\"contour\":[{\"colorbar\":{\"outlinewidth\":0,\"ticks\":\"\"},\"colorscale\":[[0.0,\"#0d0887\"],[0.1111111111111111,\"#46039f\"],[0.2222222222222222,\"#7201a8\"],[0.3333333333333333,\"#9c179e\"],[0.4444444444444444,\"#bd3786\"],[0.5555555555555556,\"#d8576b\"],[0.6666666666666666,\"#ed7953\"],[0.7777777777777778,\"#fb9f3a\"],[0.8888888888888888,\"#fdca26\"],[1.0,\"#f0f921\"]],\"type\":\"contour\"}],\"heatmapgl\":[{\"colorbar\":{\"outlinewidth\":0,\"ticks\":\"\"},\"colorscale\":[[0.0,\"#0d0887\"],[0.1111111111111111,\"#46039f\"],[0.2222222222222222,\"#7201a8\"],[0.3333333333333333,\"#9c179e\"],[0.4444444444444444,\"#bd3786\"],[0.5555555555555556,\"#d8576b\"],[0.6666666666666666,\"#ed7953\"],[0.7777777777777778,\"#fb9f3a\"],[0.8888888888888888,\"#fdca26\"],[1.0,\"#f0f921\"]],\"type\":\"heatmapgl\"}],\"heatmap\":[{\"colorbar\":{\"outlinewidth\":0,\"ticks\":\"\"},\"colorscale\":[[0.0,\"#0d0887\"],[0.1111111111111111,\"#46039f\"],[0.2222222222222222,\"#7201a8\"],[0.3333333333333333,\"#9c179e\"],[0.4444444444444444,\"#bd3786\"],[0.5555555555555556,\"#d8576b\"],[0.6666666666666666,\"#ed7953\"],[0.7777777777777778,\"#fb9f3a\"],[0.8888888888888888,\"#fdca26\"],[1.0,\"#f0f921\"]],\"type\":\"heatmap\"}],\"histogram2dcontour\":[{\"colorbar\":{\"outlinewidth\":0,\"ticks\":\"\"},\"colorscale\":[[0.0,\"#0d0887\"],[0.1111111111111111,\"#46039f\"],[0.2222222222222222,\"#7201a8\"],[0.3333333333333333,\"#9c179e\"],[0.4444444444444444,\"#bd3786\"],[0.5555555555555556,\"#d8576b\"],[0.6666666666666666,\"#ed7953\"],[0.7777777777777778,\"#fb9f3a\"],[0.8888888888888888,\"#fdca26\"],[1.0,\"#f0f921\"]],\"type\":\"histogram2dcontour\"}],\"histogram2d\":[{\"colorbar\":{\"outlinewidth\":0,\"ticks\":\"\"},\"colorscale\":[[0.0,\"#0d0887\"],[0.1111111111111111,\"#46039f\"],[0.2222222222222222,\"#7201a8\"],[0.3333333333333333,\"#9c179e\"],[0.4444444444444444,\"#bd3786\"],[0.5555555555555556,\"#d8576b\"],[0.6666666666666666,\"#ed7953\"],[0.7777777777777778,\"#fb9f3a\"],[0.8888888888888888,\"#fdca26\"],[1.0,\"#f0f921\"]],\"type\":\"histogram2d\"}],\"histogram\":[{\"marker\":{\"pattern\":{\"fillmode\":\"overlay\",\"size\":10,\"solidity\":0.2}},\"type\":\"histogram\"}],\"mesh3d\":[{\"colorbar\":{\"outlinewidth\":0,\"ticks\":\"\"},\"type\":\"mesh3d\"}],\"parcoords\":[{\"line\":{\"colorbar\":{\"outlinewidth\":0,\"ticks\":\"\"}},\"type\":\"parcoords\"}],\"pie\":[{\"automargin\":true,\"type\":\"pie\"}],\"scatter3d\":[{\"line\":{\"colorbar\":{\"outlinewidth\":0,\"ticks\":\"\"}},\"marker\":{\"colorbar\":{\"outlinewidth\":0,\"ticks\":\"\"}},\"type\":\"scatter3d\"}],\"scattercarpet\":[{\"marker\":{\"colorbar\":{\"outlinewidth\":0,\"ticks\":\"\"}},\"type\":\"scattercarpet\"}],\"scattergeo\":[{\"marker\":{\"colorbar\":{\"outlinewidth\":0,\"ticks\":\"\"}},\"type\":\"scattergeo\"}],\"scattergl\":[{\"marker\":{\"colorbar\":{\"outlinewidth\":0,\"ticks\":\"\"}},\"type\":\"scattergl\"}],\"scattermapbox\":[{\"marker\":{\"colorbar\":{\"outlinewidth\":0,\"ticks\":\"\"}},\"type\":\"scattermapbox\"}],\"scatterpolargl\":[{\"marker\":{\"colorbar\":{\"outlinewidth\":0,\"ticks\":\"\"}},\"type\":\"scatterpolargl\"}],\"scatterpolar\":[{\"marker\":{\"colorbar\":{\"outlinewidth\":0,\"ticks\":\"\"}},\"type\":\"scatterpolar\"}],\"scatter\":[{\"fillpattern\":{\"fillmode\":\"overlay\",\"size\":10,\"solidity\":0.2},\"type\":\"scatter\"}],\"scatterternary\":[{\"marker\":{\"colorbar\":{\"outlinewidth\":0,\"ticks\":\"\"}},\"type\":\"scatterternary\"}],\"surface\":[{\"colorbar\":{\"outlinewidth\":0,\"ticks\":\"\"},\"colorscale\":[[0.0,\"#0d0887\"],[0.1111111111111111,\"#46039f\"],[0.2222222222222222,\"#7201a8\"],[0.3333333333333333,\"#9c179e\"],[0.4444444444444444,\"#bd3786\"],[0.5555555555555556,\"#d8576b\"],[0.6666666666666666,\"#ed7953\"],[0.7777777777777778,\"#fb9f3a\"],[0.8888888888888888,\"#fdca26\"],[1.0,\"#f0f921\"]],\"type\":\"surface\"}],\"table\":[{\"cells\":{\"fill\":{\"color\":\"#EBF0F8\"},\"line\":{\"color\":\"white\"}},\"header\":{\"fill\":{\"color\":\"#C8D4E3\"},\"line\":{\"color\":\"white\"}},\"type\":\"table\"}]},\"layout\":{\"annotationdefaults\":{\"arrowcolor\":\"#2a3f5f\",\"arrowhead\":0,\"arrowwidth\":1},\"autotypenumbers\":\"strict\",\"coloraxis\":{\"colorbar\":{\"outlinewidth\":0,\"ticks\":\"\"}},\"colorscale\":{\"diverging\":[[0,\"#8e0152\"],[0.1,\"#c51b7d\"],[0.2,\"#de77ae\"],[0.3,\"#f1b6da\"],[0.4,\"#fde0ef\"],[0.5,\"#f7f7f7\"],[0.6,\"#e6f5d0\"],[0.7,\"#b8e186\"],[0.8,\"#7fbc41\"],[0.9,\"#4d9221\"],[1,\"#276419\"]],\"sequential\":[[0.0,\"#0d0887\"],[0.1111111111111111,\"#46039f\"],[0.2222222222222222,\"#7201a8\"],[0.3333333333333333,\"#9c179e\"],[0.4444444444444444,\"#bd3786\"],[0.5555555555555556,\"#d8576b\"],[0.6666666666666666,\"#ed7953\"],[0.7777777777777778,\"#fb9f3a\"],[0.8888888888888888,\"#fdca26\"],[1.0,\"#f0f921\"]],\"sequentialminus\":[[0.0,\"#0d0887\"],[0.1111111111111111,\"#46039f\"],[0.2222222222222222,\"#7201a8\"],[0.3333333333333333,\"#9c179e\"],[0.4444444444444444,\"#bd3786\"],[0.5555555555555556,\"#d8576b\"],[0.6666666666666666,\"#ed7953\"],[0.7777777777777778,\"#fb9f3a\"],[0.8888888888888888,\"#fdca26\"],[1.0,\"#f0f921\"]]},\"colorway\":[\"#636efa\",\"#EF553B\",\"#00cc96\",\"#ab63fa\",\"#FFA15A\",\"#19d3f3\",\"#FF6692\",\"#B6E880\",\"#FF97FF\",\"#FECB52\"],\"font\":{\"color\":\"#2a3f5f\"},\"geo\":{\"bgcolor\":\"white\",\"lakecolor\":\"white\",\"landcolor\":\"#E5ECF6\",\"showlakes\":true,\"showland\":true,\"subunitcolor\":\"white\"},\"hoverlabel\":{\"align\":\"left\"},\"hovermode\":\"closest\",\"mapbox\":{\"style\":\"light\"},\"paper_bgcolor\":\"white\",\"plot_bgcolor\":\"#E5ECF6\",\"polar\":{\"angularaxis\":{\"gridcolor\":\"white\",\"linecolor\":\"white\",\"ticks\":\"\"},\"bgcolor\":\"#E5ECF6\",\"radialaxis\":{\"gridcolor\":\"white\",\"linecolor\":\"white\",\"ticks\":\"\"}},\"scene\":{\"xaxis\":{\"backgroundcolor\":\"#E5ECF6\",\"gridcolor\":\"white\",\"gridwidth\":2,\"linecolor\":\"white\",\"showbackground\":true,\"ticks\":\"\",\"zerolinecolor\":\"white\"},\"yaxis\":{\"backgroundcolor\":\"#E5ECF6\",\"gridcolor\":\"white\",\"gridwidth\":2,\"linecolor\":\"white\",\"showbackground\":true,\"ticks\":\"\",\"zerolinecolor\":\"white\"},\"zaxis\":{\"backgroundcolor\":\"#E5ECF6\",\"gridcolor\":\"white\",\"gridwidth\":2,\"linecolor\":\"white\",\"showbackground\":true,\"ticks\":\"\",\"zerolinecolor\":\"white\"}},\"shapedefaults\":{\"line\":{\"color\":\"#2a3f5f\"}},\"ternary\":{\"aaxis\":{\"gridcolor\":\"white\",\"linecolor\":\"white\",\"ticks\":\"\"},\"baxis\":{\"gridcolor\":\"white\",\"linecolor\":\"white\",\"ticks\":\"\"},\"bgcolor\":\"#E5ECF6\",\"caxis\":{\"gridcolor\":\"white\",\"linecolor\":\"white\",\"ticks\":\"\"}},\"title\":{\"x\":0.05},\"xaxis\":{\"automargin\":true,\"gridcolor\":\"white\",\"linecolor\":\"white\",\"ticks\":\"\",\"title\":{\"standoff\":15},\"zerolinecolor\":\"white\",\"zerolinewidth\":2},\"yaxis\":{\"automargin\":true,\"gridcolor\":\"white\",\"linecolor\":\"white\",\"ticks\":\"\",\"title\":{\"standoff\":15},\"zerolinecolor\":\"white\",\"zerolinewidth\":2}}},\"xaxis\":{\"anchor\":\"y\",\"domain\":[0.0,1.0],\"title\":{\"text\":\"Settings\"}},\"yaxis\":{\"anchor\":\"x\",\"domain\":[0.0,1.0],\"title\":{\"text\":\"ROM error [deg\\u002fs]\"}},\"legend\":{\"tracegroupgap\":0},\"title\":{\"text\":\"Elbow Velocity ROM error, cad = 21.71 deg\\u002fs\"},\"boxmode\":\"group\",\"shapes\":[{\"line\":{\"color\":\"red\",\"dash\":\"dash\"},\"name\":\"CAD\",\"type\":\"line\",\"x0\":0,\"x1\":1,\"xref\":\"x domain\",\"y0\":21.71,\"y1\":21.71,\"yref\":\"y\"},{\"line\":{\"color\":\"red\",\"dash\":\"dash\"},\"name\":\"CAD\",\"type\":\"line\",\"x0\":0,\"x1\":1,\"xref\":\"x domain\",\"y0\":-21.71,\"y1\":-21.71,\"yref\":\"y\"}]},                        {\"responsive\": true}                    ).then(function(){\n",
       "                            \n",
       "var gd = document.getElementById('93ea2bf9-8a18-4606-9a2c-312c25a8c192');\n",
       "var x = new MutationObserver(function (mutations, observer) {{\n",
       "        var display = window.getComputedStyle(gd).display;\n",
       "        if (!display || display === 'none') {{\n",
       "            console.log([gd, 'removed!']);\n",
       "            Plotly.purge(gd);\n",
       "            observer.disconnect();\n",
       "        }}\n",
       "}});\n",
       "\n",
       "// Listen for the removal of the full notebook cells\n",
       "var notebookContainer = gd.closest('#notebook-container');\n",
       "if (notebookContainer) {{\n",
       "    x.observe(notebookContainer, {childList: true});\n",
       "}}\n",
       "\n",
       "// Listen for the clearing of the current output cell\n",
       "var outputEl = gd.closest('.output');\n",
       "if (outputEl) {{\n",
       "    x.observe(outputEl, {childList: true});\n",
       "}}\n",
       "\n",
       "                        })                };                });            </script>        </div>"
      ]
     },
     "metadata": {},
     "output_type": "display_data"
    },
    {
     "data": {
      "application/vnd.plotly.v1+json": {
       "data": [
        {
         "alignmentgroup": "True",
         "hovertemplate": "id_s_name=%{x}<br>error=%{y}<extra></extra>",
         "legendgroup": "",
         "marker": {
          "color": "#636efa"
         },
         "name": "",
         "notched": false,
         "offsetgroup": "",
         "orientation": "v",
         "showlegend": false,
         "x": [
          "SimCC, Cams: 1,2,3,4,5",
          "SimCC, Cams: 1,2,3,4,5",
          "SimCC, Cams: 1,2,3,4,5",
          "SimCC, Cams: 1,2,3,4,5",
          "SimCC, Cams: 1,2,3,4,5",
          "SimCC, Cams: 1,2,3,4,5",
          "SimCC, Cams: 1,2,3,4,5",
          "SimCC, Cams: 1,2,3,4,5",
          "SimCC, Cams: 1,2,3,4,5",
          "SimCC, Cams: 1,2,3,4,5",
          "SimCC, Cams: 1,2,3,4,5",
          "SimCC, Cams: 1,2,3,4,5",
          "SimCC, Cams: 1,2,3,4,5",
          "SimCC, Cams: 1,2,3,4,5",
          "SimCC, Cams: 1,2,3,4,5",
          "SimCC, Cams: 1,2,3,4,5",
          "SimCC, Cams: 1,2,3,4,5",
          "SimCC, Cams: 1,2,3,4,5",
          "SimCC, Cams: 1,2,3,4,5",
          "SimCC, Cams: 1,2,3,4,5",
          "SimCC, Cams: 1,2,3,4,5",
          "SimCC, Cams: 1,2,3,4,5",
          "SimCC, Cams: 1,2,3,4,5",
          "SimCC, Cams: 1,2,3,4,5",
          "SimCC, Cams: 1,2,3,4,5",
          "SimCC, Cams: 1,2,3,4,5",
          "SimCC, Cams: 1,2,3,4,5",
          "SimCC, Cams: 1,2,3,4,5",
          "SimCC, Cams: 1,2,3,4,5",
          "SimCC, Cams: 1,2,3,4,5",
          "SimCC, Cams: 1,2,3,4,5",
          "SimCC, Cams: 1,2,3,4,5",
          "SimCC, Cams: 1,2,3,4,5",
          "SimCC, Cams: 1,2,3,4,5",
          "SimCC, Cams: 1,2,3,4,5",
          "SimCC, Cams: 1,2,3,4,5",
          "SimCC, Cams: 1,2,3,4,5",
          "SimCC, Cams: 1,2,3,4,5",
          "SimCC, Cams: 1,2,3,4,5",
          "SimCC, Cams: 1,2,3,4,5",
          "SimCC, Cams: 1,2,3,4,5",
          "SimCC, Cams: 1,2,3,4,5",
          "SimCC, Cams: 1,2,3,4,5",
          "SimCC, Cams: 1,2,3,4,5",
          "SimCC, Cams: 1,2,3,4,5",
          "SimCC, Cams: 1,2,3,4,5",
          "SimCC, Cams: 1,2,3,4,5",
          "SimCC, Cams: 1,2,3,4,5",
          "SimCC, Cams: 1,2,3,4,5",
          "SimCC, Cams: 1,2,3,4,5",
          "SimCC, Cams: 1,2,3,4,5",
          "SimCC, Cams: 1,2,3,4,5",
          "SimCC, Cams: 1,2,3,4,5",
          "SimCC, Cams: 1,2,3,4,5",
          "SimCC, Cams: 1,2,3,4,5",
          "SimCC, Cams: 1,2,3,4,5",
          "SimCC, Cams: 1,2,3,4,5",
          "SimCC, Cams: 1,2,3,4,5",
          "SimCC, Cams: 1,2,3,4,5",
          "SimCC, Cams: 1,2,3,4,5",
          "SimCC, Cams: 1,2,3,4,5",
          "SimCC, Cams: 1,2,3,4,5",
          "SimCC, Cams: 1,2,3,4,5",
          "SimCC, Cams: 1,2,3,4,5",
          "SimCC, Cams: 1,2,3,4,5",
          "SimCC, Cams: 1,2,3,4,5",
          "SimCC, Cams: 1,2,3,4,5",
          "SimCC, Cams: 1,2,3,4,5",
          "SimCC, Cams: 1,2,3,4,5",
          "SimCC, Cams: 1,2,3,4,5",
          "SimCC, Cams: 1,2,3,4,5",
          "SimCC, Cams: 1,2,3,4,5",
          "SimCC, Cams: 1,2,3,4,5",
          "SimCC, Cams: 1,2,3,4,5",
          "SimCC, Cams: 1,2,3,4,5",
          "SimCC, Cams: 1,2,3,4,5",
          "SimCC, Cams: 1,2,3,4,5",
          "SimCC, Cams: 1,2,3,4,5",
          "SimCC, Cams: 1,2,3,4,5",
          "SimCC, Cams: 1,2,3,4,5",
          "SimCC, Cams: 1,2,3,4,5",
          "SimCC, Cams: 1,2,3,4,5",
          "SimCC, Cams: 1,2,3,4,5",
          "SimCC, Cams: 1,2,3,4,5",
          "SimCC, Cams: 1,2,3,4,5",
          "SimCC, Cams: 1,2,3,4,5",
          "SimCC, Cams: 1,2,3,4,5",
          "SimCC, Cams: 1,2,3,4,5",
          "SimCC, Cams: 1,2,3,4,5",
          "Metrabs, Cams: 1,2,3,4,5",
          "Metrabs, Cams: 1,2,3,4,5",
          "Metrabs, Cams: 1,2,3,4,5",
          "Metrabs, Cams: 1,2,3,4,5",
          "Metrabs, Cams: 1,2,3,4,5",
          "Metrabs, Cams: 1,2,3,4,5",
          "Metrabs, Cams: 1,2,3,4,5",
          "Metrabs, Cams: 1,2,3,4,5",
          "Metrabs, Cams: 1,2,3,4,5",
          "Metrabs, Cams: 1,2,3,4,5",
          "Metrabs, Cams: 1,2,3,4,5",
          "Metrabs, Cams: 1,2,3,4,5",
          "Metrabs, Cams: 1,2,3,4,5",
          "Metrabs, Cams: 1,2,3,4,5",
          "Metrabs, Cams: 1,2,3,4,5",
          "Metrabs, Cams: 1,2,3,4,5",
          "Metrabs, Cams: 1,2,3,4,5",
          "Metrabs, Cams: 1,2,3,4,5",
          "Metrabs, Cams: 1,2,3,4,5",
          "Metrabs, Cams: 1,2,3,4,5",
          "Metrabs, Cams: 1,2,3,4,5",
          "Metrabs, Cams: 1,2,3,4,5",
          "Metrabs, Cams: 1,2,3,4,5",
          "Metrabs, Cams: 1,2,3,4,5",
          "Metrabs, Cams: 1,2,3,4,5",
          "Metrabs, Cams: 1,2,3,4,5",
          "Metrabs, Cams: 1,2,3,4,5",
          "Metrabs, Cams: 1,2,3,4,5",
          "Metrabs, Cams: 1,2,3,4,5",
          "Metrabs, Cams: 1,2,3,4,5",
          "Metrabs, Cams: 1,2,3,4,5",
          "Metrabs, Cams: 1,2,3,4,5",
          "Metrabs, Cams: 1,2,3,4,5",
          "Metrabs, Cams: 1,2,3,4,5",
          "Metrabs, Cams: 1,2,3,4,5",
          "Metrabs, Cams: 1,2,3,4,5",
          "Metrabs, Cams: 1,2,3,4,5",
          "Metrabs, Cams: 1,2,3,4,5",
          "Metrabs, Cams: 1,2,3,4,5",
          "Metrabs, Cams: 1,2,3,4,5",
          "Metrabs, Cams: 1,2,3,4,5",
          "Metrabs, Cams: 1,2,3,4,5",
          "Metrabs, Cams: 1,2,3,4,5",
          "Metrabs, Cams: 1,2,3,4,5",
          "Metrabs, Cams: 1,2,3,4,5",
          "Metrabs, Cams: 1,2,3,4,5",
          "Metrabs, Cams: 1,2,3,4,5",
          "Metrabs, Cams: 1,2,3,4,5",
          "Metrabs, Cams: 1,2,3,4,5",
          "Metrabs, Cams: 1,2,3,4,5",
          "Metrabs, Cams: 1,2,3,4,5",
          "Metrabs, Cams: 1,2,3,4,5",
          "Metrabs, Cams: 1,2,3,4,5",
          "Metrabs, Cams: 1,2,3,4,5",
          "Metrabs, Cams: 1,2,3,4,5",
          "Metrabs, Cams: 1,2,3,4,5",
          "Metrabs, Cams: 1,2,3,4,5",
          "Metrabs, Cams: 1,2,3,4,5",
          "Metrabs, Cams: 1,2,3,4,5",
          "Metrabs, Cams: 1,2,3,4,5",
          "Metrabs, Cams: 1,2,3,4,5",
          "Metrabs, Cams: 1,2,3,4,5",
          "Metrabs, Cams: 1,2,3,4,5",
          "Metrabs, Cams: 1,2,3,4,5",
          "Metrabs, Cams: 1,2,3,4,5",
          "Metrabs, Cams: 1,2,3,4,5",
          "Metrabs, Cams: 1,2,3,4,5",
          "Metrabs, Cams: 1,2,3,4,5",
          "Metrabs, Cams: 1,2,3,4,5",
          "Metrabs, Cams: 1,2,3,4,5",
          "Metrabs, Cams: 1,2,3,4,5",
          "Metrabs, Cams: 1,2,3,4,5",
          "Metrabs, Cams: 1,2,3,4,5",
          "Metrabs, Cams: 1,2,3,4,5",
          "Metrabs, Cams: 1,2,3,4,5",
          "Metrabs, Cams: 1,2,3,4,5",
          "Metrabs, Cams: 1,2,3,4,5",
          "Metrabs, Cams: 1,2,3,4,5",
          "Metrabs, Cams: 1,2,3,4,5",
          "Metrabs, Cams: 1,2,3,4,5",
          "Metrabs, Cams: 1,2,3,4,5",
          "Metrabs, Cams: 1,2,3,4,5",
          "Metrabs, Cams: 1,2,3,4,5",
          "Metrabs, Cams: 1,2,3,4,5",
          "Metrabs, Cams: 1,2,3,4,5",
          "Metrabs, Cams: 1,2,3,4,5",
          "Metrabs, Cams: 1,2,3,4,5",
          "Metrabs, Cams: 1,2,3,4,5",
          "Metrabs, Cams: 1,2,3,4,5",
          "Metrabs, Cams: 1,2,3,4,5",
          "Single, Cam: 1, filt",
          "Single, Cam: 1, filt",
          "Single, Cam: 1, filt",
          "Single, Cam: 1, filt",
          "Single, Cam: 1, filt",
          "Single, Cam: 1, filt",
          "Single, Cam: 1, filt",
          "Single, Cam: 1, filt",
          "Single, Cam: 1, filt",
          "Single, Cam: 1, filt",
          "Single, Cam: 1, filt",
          "Single, Cam: 1, filt",
          "Single, Cam: 1, filt",
          "Single, Cam: 1, filt",
          "Single, Cam: 1, filt",
          "Single, Cam: 1, filt",
          "Single, Cam: 1, filt",
          "Single, Cam: 1, filt",
          "Single, Cam: 1, filt",
          "Single, Cam: 1, filt",
          "Single, Cam: 1, filt",
          "Single, Cam: 1, filt",
          "Single, Cam: 1, filt",
          "Single, Cam: 1, filt",
          "Single, Cam: 1, filt",
          "Single, Cam: 1, filt",
          "Single, Cam: 1, filt",
          "Single, Cam: 1, filt",
          "Single, Cam: 1, filt",
          "Single, Cam: 1, filt",
          "Single, Cam: 1, filt",
          "Single, Cam: 1, filt",
          "Single, Cam: 1, filt",
          "Single, Cam: 1, filt",
          "Single, Cam: 1, filt",
          "Single, Cam: 1, filt",
          "Single, Cam: 1, filt",
          "Single, Cam: 1, filt",
          "Single, Cam: 1, filt",
          "Single, Cam: 1, filt",
          "Single, Cam: 1, filt",
          "Single, Cam: 1, filt",
          "Single, Cam: 1, filt",
          "Single, Cam: 1, filt",
          "Single, Cam: 1, filt",
          "Single, Cam: 1, filt",
          "Single, Cam: 1, filt",
          "Single, Cam: 1, filt",
          "Single, Cam: 1, filt",
          "Single, Cam: 1, filt",
          "Single, Cam: 1, filt",
          "Single, Cam: 1, filt",
          "Single, Cam: 1, filt",
          "Single, Cam: 1, filt",
          "Single, Cam: 1, filt",
          "Single, Cam: 1, filt",
          "Single, Cam: 1, filt",
          "Single, Cam: 1, filt",
          "Single, Cam: 1, filt",
          "Single, Cam: 1, filt",
          "Single, Cam: 1, filt",
          "Single, Cam: 1, filt",
          "Single, Cam: 1, filt",
          "Single, Cam: 1, filt",
          "Single, Cam: 1, filt",
          "Single, Cam: 1, filt",
          "Single, Cam: 1, filt",
          "Single, Cam: 1, filt",
          "Single, Cam: 1, filt",
          "Single, Cam: 1, filt",
          "Single, Cam: 1, filt",
          "Single, Cam: 1, filt",
          "Single, Cam: 1, filt",
          "Single, Cam: 1, filt",
          "Single, Cam: 1, filt",
          "Single, Cam: 1, filt",
          "Single, Cam: 1, filt",
          "Single, Cam: 1, filt",
          "Single, Cam: 1, filt",
          "Single, Cam: 1, filt",
          "Single, Cam: 1, filt",
          "Single, Cam: 1, filt",
          "Single, Cam: 1, filt",
          "Single, Cam: 1, filt",
          "Single, Cam: 1, filt",
          "Single, Cam: 1, filt",
          "Single, Cam: 1, filt",
          "Single, Cam: 1, filt",
          "Single, Cam: 1, filt",
          "Single, Cam: 1, filt",
          "Single, Cam: 1, unfilt",
          "Single, Cam: 1, unfilt",
          "Single, Cam: 1, unfilt",
          "Single, Cam: 1, unfilt",
          "Single, Cam: 1, unfilt",
          "Single, Cam: 1, unfilt",
          "Single, Cam: 1, unfilt",
          "Single, Cam: 1, unfilt",
          "Single, Cam: 1, unfilt",
          "Single, Cam: 1, unfilt",
          "Single, Cam: 1, unfilt",
          "Single, Cam: 1, unfilt",
          "Single, Cam: 1, unfilt",
          "Single, Cam: 1, unfilt",
          "Single, Cam: 1, unfilt",
          "Single, Cam: 1, unfilt",
          "Single, Cam: 1, unfilt",
          "Single, Cam: 1, unfilt",
          "Single, Cam: 1, unfilt",
          "Single, Cam: 1, unfilt",
          "Single, Cam: 1, unfilt",
          "Single, Cam: 1, unfilt",
          "Single, Cam: 1, unfilt",
          "Single, Cam: 1, unfilt",
          "Single, Cam: 1, unfilt",
          "Single, Cam: 1, unfilt",
          "Single, Cam: 1, unfilt",
          "Single, Cam: 1, unfilt",
          "Single, Cam: 1, unfilt",
          "Single, Cam: 1, unfilt",
          "Single, Cam: 1, unfilt",
          "Single, Cam: 1, unfilt",
          "Single, Cam: 1, unfilt",
          "Single, Cam: 1, unfilt",
          "Single, Cam: 1, unfilt",
          "Single, Cam: 1, unfilt",
          "Single, Cam: 1, unfilt",
          "Single, Cam: 1, unfilt",
          "Single, Cam: 1, unfilt",
          "Single, Cam: 1, unfilt",
          "Single, Cam: 1, unfilt",
          "Single, Cam: 1, unfilt",
          "Single, Cam: 1, unfilt",
          "Single, Cam: 1, unfilt",
          "Single, Cam: 1, unfilt",
          "Single, Cam: 1, unfilt",
          "Single, Cam: 1, unfilt",
          "Single, Cam: 1, unfilt",
          "Single, Cam: 1, unfilt",
          "Single, Cam: 1, unfilt",
          "Single, Cam: 1, unfilt",
          "Single, Cam: 1, unfilt",
          "Single, Cam: 1, unfilt",
          "Single, Cam: 1, unfilt",
          "Single, Cam: 1, unfilt",
          "Single, Cam: 1, unfilt",
          "Single, Cam: 1, unfilt",
          "Single, Cam: 1, unfilt",
          "Single, Cam: 1, unfilt",
          "Single, Cam: 1, unfilt",
          "Single, Cam: 1, unfilt",
          "Single, Cam: 1, unfilt",
          "Single, Cam: 1, unfilt",
          "Single, Cam: 1, unfilt",
          "Single, Cam: 1, unfilt",
          "Single, Cam: 1, unfilt",
          "Single, Cam: 1, unfilt",
          "Single, Cam: 1, unfilt",
          "Single, Cam: 1, unfilt",
          "Single, Cam: 1, unfilt",
          "Single, Cam: 1, unfilt",
          "Single, Cam: 1, unfilt",
          "Single, Cam: 1, unfilt",
          "Single, Cam: 1, unfilt",
          "Single, Cam: 1, unfilt",
          "Single, Cam: 1, unfilt",
          "Single, Cam: 1, unfilt",
          "Single, Cam: 1, unfilt",
          "Single, Cam: 1, unfilt",
          "Single, Cam: 1, unfilt",
          "Single, Cam: 1, unfilt",
          "Single, Cam: 1, unfilt",
          "Single, Cam: 1, unfilt",
          "Single, Cam: 1, unfilt",
          "Single, Cam: 1, unfilt",
          "Single, Cam: 1, unfilt",
          "Single, Cam: 1, unfilt",
          "Single, Cam: 1, unfilt",
          "Single, Cam: 1, unfilt",
          "Single, Cam: 1, unfilt"
         ],
         "x0": " ",
         "xaxis": "x",
         "y": [
          6.459855095986891,
          -0.08860650885904267,
          5.289688189720372,
          2.526986230183732,
          4.184393368485027,
          1.4460137322082003,
          24.983686466144057,
          22.703361529232126,
          23.772582338020953,
          -0.09970109562361396,
          -1.1494871069029355,
          1.3457988323274446,
          -0.2901552349649368,
          22.020595733147765,
          0.844349973931795,
          24.13156672953196,
          -0.11464143572674157,
          0.2007271276377196,
          -1.9813704995987003,
          2.4045380902790856,
          -2.377522278738092,
          6.555893473608475,
          -4.974791040997785,
          -1.1173299991669245,
          -1.828477805905694,
          -0.9830538424664316,
          -1.2181500508067356,
          1.0061008816313317,
          -0.15203983489462272,
          -2.914773267253109,
          8.0383581619523,
          -0.09652289622394379,
          3.398176002312693,
          4.171512953686531,
          -3.458235968017355,
          -0.09314820936886216,
          -0.6307007423189381,
          7.517153543684216,
          1.3108566550825873,
          9.660172488175467,
          4.131581006311732,
          1.7817877845543066,
          3.4224939272602484,
          7.8678560418956485,
          2.4260954985240875,
          -0.21332949459001987,
          -0.4797244449610858,
          1.491570112987683,
          6.7751206987476005,
          -1.00340388212955,
          5.312988782698953,
          -3.6439100691281365,
          -0.83912805042006,
          -2.8020645318348087,
          -0.2799629120822743,
          -0.9975858488007286,
          0.8315752259950027,
          6.96286501840958,
          -0.021723349019239297,
          0.27768643874135296,
          7.4508523632819115,
          -1.8740652653392509,
          -1.1100442335478202,
          6.21544177312141,
          -2.8430880916083487,
          1.5425010071303735,
          4.774313860555175,
          5.103523033126696,
          8.350983223734664,
          5.869719913525826,
          6.587562986055496,
          7.436716286244596,
          2.328616147009289,
          -0.9395523807775437,
          -1.1804574131128582,
          -0.5856579513896171,
          6.203396618986836,
          3.88101115444179,
          1.1809438574727238,
          3.04957000620195,
          3.5636288979021327,
          2.6235826583873525,
          -1.573034334957707,
          1.0803186328652252,
          9.480300541857524,
          7.274355097376837,
          9.305830133003036,
          7.383710266668263,
          6.033904070903002,
          6.503938903252422,
          7.025347717982901,
          4.898014009096564,
          5.19836449709481,
          4.364568343783867,
          6.1466033295006595,
          6.892362556451618,
          5.4685844590635995,
          8.347003942230756,
          7.340344215319971,
          8.325270315370528,
          7.5519477351762845,
          6.841228262258492,
          4.421934784793939,
          6.48625416944548,
          5.930619971833456,
          8.042134960832863,
          6.918790462353705,
          7.183529153966451,
          10.012162585878452,
          6.902588665960159,
          12.392281679757776,
          -1.0416572943818587,
          5.720812268599673,
          5.7385051338785,
          4.594987305268046,
          8.04633333330027,
          9.724394435065134,
          6.006815175191272,
          4.354725432658502,
          12.371004603359951,
          5.637166503366837,
          5.587860820735824,
          11.629372454228886,
          3.8430631646658022,
          6.420652173413262,
          6.1613163205731025,
          6.563397507522567,
          7.800902304798151,
          18.3333484335024,
          4.874593772328241,
          2.787952136544851,
          2.1714106281927354,
          5.479835342003118,
          1.9583235586313492,
          4.731319687146201,
          4.382109055540778,
          6.171333050891486,
          33.861189737500524,
          10.143476462836222,
          10.155510086791711,
          13.033659131054675,
          9.20323791244074,
          9.576937753149938,
          8.01866583848982,
          7.270104339679022,
          8.282936687160378,
          6.488614546184345,
          7.864715050177453,
          6.505558480578657,
          8.004963717055206,
          5.856250226519852,
          3.9821995329166064,
          8.271841251152198,
          7.235862845795272,
          9.395943649080266,
          1.5759274975332982,
          9.830317582877116,
          5.523719974366958,
          7.913300659500437,
          3.6488180059000137,
          5.0338674003716095,
          12.756621988893308,
          8.457059615186834,
          5.999952818340001,
          5.276823643477733,
          7.917428523343141,
          9.353929049824602,
          4.101705579423158,
          7.455556969234111,
          6.903649074699023,
          6.751452500942699,
          6.575824307618846,
          5.039132639014788,
          26.441012998349755,
          12.679833105856371,
          20.83570685329857,
          23.724737307538923,
          22.306125331717183,
          33.084459395028084,
          4.2655578612965215,
          20.97347316435685,
          17.254433374100078,
          14.719291023047633,
          19.665435494353414,
          18.479453766813577,
          17.991314815622655,
          20.29577906049658,
          23.899582261730195,
          18.448496999740904,
          20.00220378128302,
          23.989379907236046,
          17.027327419495595,
          16.43867377920755,
          21.1947447582572,
          20.434133235233087,
          27.560576894721684,
          19.20485299213959,
          22.627713676409538,
          27.055226024924576,
          16.61117516246078,
          26.87513027201078,
          23.437427875970055,
          17.245356518088567,
          25.224791408749322,
          24.291263355033056,
          28.430185429735765,
          17.85582645780636,
          27.893241959792984,
          33.61420989644794,
          32.36928880413902,
          21.24876619804846,
          19.18094000622873,
          22.482283009624194,
          21.70906623476244,
          17.743930056940922,
          19.307283746091645,
          21.79231453534241,
          20.575694780847737,
          10.704996211575912,
          20.225985528361747,
          26.003164299188004,
          13.19431102276334,
          12.725000330153659,
          18.358034579954754,
          10.374446047209917,
          15.634847220422898,
          17.81769235530652,
          16.328935161323084,
          27.560727820587182,
          22.00515691908937,
          22.025098726258584,
          24.898961221124797,
          26.84982690042356,
          21.964706315169664,
          26.079929555497586,
          24.843282293997053,
          19.810619844060227,
          22.478092953682232,
          19.733647800716422,
          24.162878263908578,
          24.113560329242038,
          21.02776488526077,
          22.538250452207894,
          23.2052104704125,
          25.86236524106284,
          21.507286877744587,
          24.89752396422494,
          34.91494056274856,
          16.1783195803114,
          18.014678391839283,
          24.33305566732185,
          14.605758649005375,
          16.561578172009863,
          16.931400503128824,
          19.892326804769493,
          23.622023810595937,
          16.90386289451351,
          16.83160044895056,
          20.045284529041513,
          21.071321114757158,
          16.428857862693622,
          15.684324859373357,
          18.822035613319265,
          47.93308802735362,
          40.64743621683782,
          47.22940316361857,
          51.81763495873538,
          54.537943143230365,
          31.11580674274488,
          4.350146366085655,
          22.45664205855631,
          17.40649526193541,
          14.896787450199088,
          20.043738522967313,
          18.84409506213964,
          18.166323464283355,
          19.49405023892858,
          24.045872847484564,
          18.678164698941057,
          20.13151272238341,
          24.201632148927118,
          17.3088407927518,
          16.728561221900524,
          21.444170527715475,
          20.75466821468221,
          28.714832895914217,
          20.284492212185956,
          22.74653658627064,
          29.546497728100235,
          16.52649402787391,
          26.922198364711736,
          23.67663669149521,
          17.334021049989108,
          31.05525487541407,
          24.396811680413464,
          28.616479439601815,
          18.06651818873306,
          28.24303730381366,
          34.086936066488946,
          33.276990975128776,
          21.55218153891943,
          19.322573072446144,
          22.800029932326044,
          22.057582243588723,
          18.034859950489853,
          19.55665496450688,
          22.257704554116454,
          20.870610713524695,
          11.337400260893483,
          20.709018376202867,
          26.26072413480324,
          13.524735908636114,
          12.774520710374063,
          18.367458947411034,
          10.466397963377696,
          15.89948283444754,
          18.073203597395857,
          16.445241166811133,
          27.76215159078018,
          22.30168438514252,
          22.19873987404966,
          24.98814501171433,
          27.015263724456975,
          22.14031615330707,
          26.352676262260623,
          25.25203734804387,
          20.17413645150203,
          22.4382175947652,
          19.845685228335757,
          24.354327027988923,
          24.26819259178293,
          21.175928881887423,
          22.74342368952322,
          23.265278082025706,
          25.905641497192516,
          21.535029029134368,
          24.98986590583047,
          35.07492336410657,
          16.247600746941004,
          18.182692756521675,
          24.614784939635804,
          14.864587627405342,
          16.719365985100634,
          17.35020055501411,
          20.09559826858177,
          23.781888960577053,
          17.22351115432782,
          17.293853180067085,
          20.342496441378582,
          21.285232158022446,
          16.745330553442408,
          15.84060454777394,
          19.081978982035185,
          48.671329665082666,
          41.743048170129846,
          47.430613201266915,
          52.1643501913402,
          54.92503695052535,
          31.218680785534765
         ],
         "y0": " ",
         "yaxis": "y",
         "type": "box"
        }
       ],
       "layout": {
        "template": {
         "data": {
          "barpolar": [
           {
            "marker": {
             "line": {
              "color": "#E5ECF6",
              "width": 0.5
             },
             "pattern": {
              "fillmode": "overlay",
              "size": 10,
              "solidity": 0.2
             }
            },
            "type": "barpolar"
           }
          ],
          "bar": [
           {
            "error_x": {
             "color": "#2a3f5f"
            },
            "error_y": {
             "color": "#2a3f5f"
            },
            "marker": {
             "line": {
              "color": "#E5ECF6",
              "width": 0.5
             },
             "pattern": {
              "fillmode": "overlay",
              "size": 10,
              "solidity": 0.2
             }
            },
            "type": "bar"
           }
          ],
          "carpet": [
           {
            "aaxis": {
             "endlinecolor": "#2a3f5f",
             "gridcolor": "white",
             "linecolor": "white",
             "minorgridcolor": "white",
             "startlinecolor": "#2a3f5f"
            },
            "baxis": {
             "endlinecolor": "#2a3f5f",
             "gridcolor": "white",
             "linecolor": "white",
             "minorgridcolor": "white",
             "startlinecolor": "#2a3f5f"
            },
            "type": "carpet"
           }
          ],
          "choropleth": [
           {
            "colorbar": {
             "outlinewidth": 0,
             "ticks": ""
            },
            "type": "choropleth"
           }
          ],
          "contourcarpet": [
           {
            "colorbar": {
             "outlinewidth": 0,
             "ticks": ""
            },
            "type": "contourcarpet"
           }
          ],
          "contour": [
           {
            "colorbar": {
             "outlinewidth": 0,
             "ticks": ""
            },
            "colorscale": [
             [
              0.0,
              "#0d0887"
             ],
             [
              0.1111111111111111,
              "#46039f"
             ],
             [
              0.2222222222222222,
              "#7201a8"
             ],
             [
              0.3333333333333333,
              "#9c179e"
             ],
             [
              0.4444444444444444,
              "#bd3786"
             ],
             [
              0.5555555555555556,
              "#d8576b"
             ],
             [
              0.6666666666666666,
              "#ed7953"
             ],
             [
              0.7777777777777778,
              "#fb9f3a"
             ],
             [
              0.8888888888888888,
              "#fdca26"
             ],
             [
              1.0,
              "#f0f921"
             ]
            ],
            "type": "contour"
           }
          ],
          "heatmapgl": [
           {
            "colorbar": {
             "outlinewidth": 0,
             "ticks": ""
            },
            "colorscale": [
             [
              0.0,
              "#0d0887"
             ],
             [
              0.1111111111111111,
              "#46039f"
             ],
             [
              0.2222222222222222,
              "#7201a8"
             ],
             [
              0.3333333333333333,
              "#9c179e"
             ],
             [
              0.4444444444444444,
              "#bd3786"
             ],
             [
              0.5555555555555556,
              "#d8576b"
             ],
             [
              0.6666666666666666,
              "#ed7953"
             ],
             [
              0.7777777777777778,
              "#fb9f3a"
             ],
             [
              0.8888888888888888,
              "#fdca26"
             ],
             [
              1.0,
              "#f0f921"
             ]
            ],
            "type": "heatmapgl"
           }
          ],
          "heatmap": [
           {
            "colorbar": {
             "outlinewidth": 0,
             "ticks": ""
            },
            "colorscale": [
             [
              0.0,
              "#0d0887"
             ],
             [
              0.1111111111111111,
              "#46039f"
             ],
             [
              0.2222222222222222,
              "#7201a8"
             ],
             [
              0.3333333333333333,
              "#9c179e"
             ],
             [
              0.4444444444444444,
              "#bd3786"
             ],
             [
              0.5555555555555556,
              "#d8576b"
             ],
             [
              0.6666666666666666,
              "#ed7953"
             ],
             [
              0.7777777777777778,
              "#fb9f3a"
             ],
             [
              0.8888888888888888,
              "#fdca26"
             ],
             [
              1.0,
              "#f0f921"
             ]
            ],
            "type": "heatmap"
           }
          ],
          "histogram2dcontour": [
           {
            "colorbar": {
             "outlinewidth": 0,
             "ticks": ""
            },
            "colorscale": [
             [
              0.0,
              "#0d0887"
             ],
             [
              0.1111111111111111,
              "#46039f"
             ],
             [
              0.2222222222222222,
              "#7201a8"
             ],
             [
              0.3333333333333333,
              "#9c179e"
             ],
             [
              0.4444444444444444,
              "#bd3786"
             ],
             [
              0.5555555555555556,
              "#d8576b"
             ],
             [
              0.6666666666666666,
              "#ed7953"
             ],
             [
              0.7777777777777778,
              "#fb9f3a"
             ],
             [
              0.8888888888888888,
              "#fdca26"
             ],
             [
              1.0,
              "#f0f921"
             ]
            ],
            "type": "histogram2dcontour"
           }
          ],
          "histogram2d": [
           {
            "colorbar": {
             "outlinewidth": 0,
             "ticks": ""
            },
            "colorscale": [
             [
              0.0,
              "#0d0887"
             ],
             [
              0.1111111111111111,
              "#46039f"
             ],
             [
              0.2222222222222222,
              "#7201a8"
             ],
             [
              0.3333333333333333,
              "#9c179e"
             ],
             [
              0.4444444444444444,
              "#bd3786"
             ],
             [
              0.5555555555555556,
              "#d8576b"
             ],
             [
              0.6666666666666666,
              "#ed7953"
             ],
             [
              0.7777777777777778,
              "#fb9f3a"
             ],
             [
              0.8888888888888888,
              "#fdca26"
             ],
             [
              1.0,
              "#f0f921"
             ]
            ],
            "type": "histogram2d"
           }
          ],
          "histogram": [
           {
            "marker": {
             "pattern": {
              "fillmode": "overlay",
              "size": 10,
              "solidity": 0.2
             }
            },
            "type": "histogram"
           }
          ],
          "mesh3d": [
           {
            "colorbar": {
             "outlinewidth": 0,
             "ticks": ""
            },
            "type": "mesh3d"
           }
          ],
          "parcoords": [
           {
            "line": {
             "colorbar": {
              "outlinewidth": 0,
              "ticks": ""
             }
            },
            "type": "parcoords"
           }
          ],
          "pie": [
           {
            "automargin": true,
            "type": "pie"
           }
          ],
          "scatter3d": [
           {
            "line": {
             "colorbar": {
              "outlinewidth": 0,
              "ticks": ""
             }
            },
            "marker": {
             "colorbar": {
              "outlinewidth": 0,
              "ticks": ""
             }
            },
            "type": "scatter3d"
           }
          ],
          "scattercarpet": [
           {
            "marker": {
             "colorbar": {
              "outlinewidth": 0,
              "ticks": ""
             }
            },
            "type": "scattercarpet"
           }
          ],
          "scattergeo": [
           {
            "marker": {
             "colorbar": {
              "outlinewidth": 0,
              "ticks": ""
             }
            },
            "type": "scattergeo"
           }
          ],
          "scattergl": [
           {
            "marker": {
             "colorbar": {
              "outlinewidth": 0,
              "ticks": ""
             }
            },
            "type": "scattergl"
           }
          ],
          "scattermapbox": [
           {
            "marker": {
             "colorbar": {
              "outlinewidth": 0,
              "ticks": ""
             }
            },
            "type": "scattermapbox"
           }
          ],
          "scatterpolargl": [
           {
            "marker": {
             "colorbar": {
              "outlinewidth": 0,
              "ticks": ""
             }
            },
            "type": "scatterpolargl"
           }
          ],
          "scatterpolar": [
           {
            "marker": {
             "colorbar": {
              "outlinewidth": 0,
              "ticks": ""
             }
            },
            "type": "scatterpolar"
           }
          ],
          "scatter": [
           {
            "fillpattern": {
             "fillmode": "overlay",
             "size": 10,
             "solidity": 0.2
            },
            "type": "scatter"
           }
          ],
          "scatterternary": [
           {
            "marker": {
             "colorbar": {
              "outlinewidth": 0,
              "ticks": ""
             }
            },
            "type": "scatterternary"
           }
          ],
          "surface": [
           {
            "colorbar": {
             "outlinewidth": 0,
             "ticks": ""
            },
            "colorscale": [
             [
              0.0,
              "#0d0887"
             ],
             [
              0.1111111111111111,
              "#46039f"
             ],
             [
              0.2222222222222222,
              "#7201a8"
             ],
             [
              0.3333333333333333,
              "#9c179e"
             ],
             [
              0.4444444444444444,
              "#bd3786"
             ],
             [
              0.5555555555555556,
              "#d8576b"
             ],
             [
              0.6666666666666666,
              "#ed7953"
             ],
             [
              0.7777777777777778,
              "#fb9f3a"
             ],
             [
              0.8888888888888888,
              "#fdca26"
             ],
             [
              1.0,
              "#f0f921"
             ]
            ],
            "type": "surface"
           }
          ],
          "table": [
           {
            "cells": {
             "fill": {
              "color": "#EBF0F8"
             },
             "line": {
              "color": "white"
             }
            },
            "header": {
             "fill": {
              "color": "#C8D4E3"
             },
             "line": {
              "color": "white"
             }
            },
            "type": "table"
           }
          ]
         },
         "layout": {
          "annotationdefaults": {
           "arrowcolor": "#2a3f5f",
           "arrowhead": 0,
           "arrowwidth": 1
          },
          "autotypenumbers": "strict",
          "coloraxis": {
           "colorbar": {
            "outlinewidth": 0,
            "ticks": ""
           }
          },
          "colorscale": {
           "diverging": [
            [
             0,
             "#8e0152"
            ],
            [
             0.1,
             "#c51b7d"
            ],
            [
             0.2,
             "#de77ae"
            ],
            [
             0.3,
             "#f1b6da"
            ],
            [
             0.4,
             "#fde0ef"
            ],
            [
             0.5,
             "#f7f7f7"
            ],
            [
             0.6,
             "#e6f5d0"
            ],
            [
             0.7,
             "#b8e186"
            ],
            [
             0.8,
             "#7fbc41"
            ],
            [
             0.9,
             "#4d9221"
            ],
            [
             1,
             "#276419"
            ]
           ],
           "sequential": [
            [
             0.0,
             "#0d0887"
            ],
            [
             0.1111111111111111,
             "#46039f"
            ],
            [
             0.2222222222222222,
             "#7201a8"
            ],
            [
             0.3333333333333333,
             "#9c179e"
            ],
            [
             0.4444444444444444,
             "#bd3786"
            ],
            [
             0.5555555555555556,
             "#d8576b"
            ],
            [
             0.6666666666666666,
             "#ed7953"
            ],
            [
             0.7777777777777778,
             "#fb9f3a"
            ],
            [
             0.8888888888888888,
             "#fdca26"
            ],
            [
             1.0,
             "#f0f921"
            ]
           ],
           "sequentialminus": [
            [
             0.0,
             "#0d0887"
            ],
            [
             0.1111111111111111,
             "#46039f"
            ],
            [
             0.2222222222222222,
             "#7201a8"
            ],
            [
             0.3333333333333333,
             "#9c179e"
            ],
            [
             0.4444444444444444,
             "#bd3786"
            ],
            [
             0.5555555555555556,
             "#d8576b"
            ],
            [
             0.6666666666666666,
             "#ed7953"
            ],
            [
             0.7777777777777778,
             "#fb9f3a"
            ],
            [
             0.8888888888888888,
             "#fdca26"
            ],
            [
             1.0,
             "#f0f921"
            ]
           ]
          },
          "colorway": [
           "#636efa",
           "#EF553B",
           "#00cc96",
           "#ab63fa",
           "#FFA15A",
           "#19d3f3",
           "#FF6692",
           "#B6E880",
           "#FF97FF",
           "#FECB52"
          ],
          "font": {
           "color": "#2a3f5f"
          },
          "geo": {
           "bgcolor": "white",
           "lakecolor": "white",
           "landcolor": "#E5ECF6",
           "showlakes": true,
           "showland": true,
           "subunitcolor": "white"
          },
          "hoverlabel": {
           "align": "left"
          },
          "hovermode": "closest",
          "mapbox": {
           "style": "light"
          },
          "paper_bgcolor": "white",
          "plot_bgcolor": "#E5ECF6",
          "polar": {
           "angularaxis": {
            "gridcolor": "white",
            "linecolor": "white",
            "ticks": ""
           },
           "bgcolor": "#E5ECF6",
           "radialaxis": {
            "gridcolor": "white",
            "linecolor": "white",
            "ticks": ""
           }
          },
          "scene": {
           "xaxis": {
            "backgroundcolor": "#E5ECF6",
            "gridcolor": "white",
            "gridwidth": 2,
            "linecolor": "white",
            "showbackground": true,
            "ticks": "",
            "zerolinecolor": "white"
           },
           "yaxis": {
            "backgroundcolor": "#E5ECF6",
            "gridcolor": "white",
            "gridwidth": 2,
            "linecolor": "white",
            "showbackground": true,
            "ticks": "",
            "zerolinecolor": "white"
           },
           "zaxis": {
            "backgroundcolor": "#E5ECF6",
            "gridcolor": "white",
            "gridwidth": 2,
            "linecolor": "white",
            "showbackground": true,
            "ticks": "",
            "zerolinecolor": "white"
           }
          },
          "shapedefaults": {
           "line": {
            "color": "#2a3f5f"
           }
          },
          "ternary": {
           "aaxis": {
            "gridcolor": "white",
            "linecolor": "white",
            "ticks": ""
           },
           "baxis": {
            "gridcolor": "white",
            "linecolor": "white",
            "ticks": ""
           },
           "bgcolor": "#E5ECF6",
           "caxis": {
            "gridcolor": "white",
            "linecolor": "white",
            "ticks": ""
           }
          },
          "title": {
           "x": 0.05
          },
          "xaxis": {
           "automargin": true,
           "gridcolor": "white",
           "linecolor": "white",
           "ticks": "",
           "title": {
            "standoff": 15
           },
           "zerolinecolor": "white",
           "zerolinewidth": 2
          },
          "yaxis": {
           "automargin": true,
           "gridcolor": "white",
           "linecolor": "white",
           "ticks": "",
           "title": {
            "standoff": 15
           },
           "zerolinecolor": "white",
           "zerolinewidth": 2
          }
         }
        },
        "xaxis": {
         "anchor": "y",
         "domain": [
          0.0,
          1.0
         ],
         "title": {
          "text": "Settings"
         }
        },
        "yaxis": {
         "anchor": "x",
         "domain": [
          0.0,
          1.0
         ],
         "title": {
          "text": "ROM error [mm]"
         }
        },
        "legend": {
         "tracegroupgap": 0
        },
        "title": {
         "text": "Trunk Displacement ROM error, cad = 31.89 mm"
        },
        "boxmode": "group",
        "shapes": [
         {
          "line": {
           "color": "red",
           "dash": "dash"
          },
          "name": "CAD",
          "type": "line",
          "x0": 0,
          "x1": 1,
          "xref": "x domain",
          "y0": 31.89,
          "y1": 31.89,
          "yref": "y"
         },
         {
          "line": {
           "color": "red",
           "dash": "dash"
          },
          "name": "CAD",
          "type": "line",
          "x0": 0,
          "x1": 1,
          "xref": "x domain",
          "y0": -31.89,
          "y1": -31.89,
          "yref": "y"
         }
        ]
       },
       "config": {
        "plotlyServerURL": "https://plot.ly"
       }
      },
      "text/html": [
       "<div>                            <div id=\"9b7b19fb-4742-4dae-8988-a7a7ec62dbfb\" class=\"plotly-graph-div\" style=\"height:525px; width:100%;\"></div>            <script type=\"text/javascript\">                require([\"plotly\"], function(Plotly) {                    window.PLOTLYENV=window.PLOTLYENV || {};                                    if (document.getElementById(\"9b7b19fb-4742-4dae-8988-a7a7ec62dbfb\")) {                    Plotly.newPlot(                        \"9b7b19fb-4742-4dae-8988-a7a7ec62dbfb\",                        [{\"alignmentgroup\":\"True\",\"hovertemplate\":\"id_s_name=%{x}\\u003cbr\\u003eerror=%{y}\\u003cextra\\u003e\\u003c\\u002fextra\\u003e\",\"legendgroup\":\"\",\"marker\":{\"color\":\"#636efa\"},\"name\":\"\",\"notched\":false,\"offsetgroup\":\"\",\"orientation\":\"v\",\"showlegend\":false,\"x\":[\"SimCC, Cams: 1,2,3,4,5\",\"SimCC, Cams: 1,2,3,4,5\",\"SimCC, Cams: 1,2,3,4,5\",\"SimCC, Cams: 1,2,3,4,5\",\"SimCC, Cams: 1,2,3,4,5\",\"SimCC, Cams: 1,2,3,4,5\",\"SimCC, Cams: 1,2,3,4,5\",\"SimCC, Cams: 1,2,3,4,5\",\"SimCC, Cams: 1,2,3,4,5\",\"SimCC, Cams: 1,2,3,4,5\",\"SimCC, Cams: 1,2,3,4,5\",\"SimCC, Cams: 1,2,3,4,5\",\"SimCC, Cams: 1,2,3,4,5\",\"SimCC, Cams: 1,2,3,4,5\",\"SimCC, Cams: 1,2,3,4,5\",\"SimCC, Cams: 1,2,3,4,5\",\"SimCC, Cams: 1,2,3,4,5\",\"SimCC, Cams: 1,2,3,4,5\",\"SimCC, Cams: 1,2,3,4,5\",\"SimCC, Cams: 1,2,3,4,5\",\"SimCC, Cams: 1,2,3,4,5\",\"SimCC, Cams: 1,2,3,4,5\",\"SimCC, Cams: 1,2,3,4,5\",\"SimCC, Cams: 1,2,3,4,5\",\"SimCC, Cams: 1,2,3,4,5\",\"SimCC, Cams: 1,2,3,4,5\",\"SimCC, Cams: 1,2,3,4,5\",\"SimCC, Cams: 1,2,3,4,5\",\"SimCC, Cams: 1,2,3,4,5\",\"SimCC, Cams: 1,2,3,4,5\",\"SimCC, Cams: 1,2,3,4,5\",\"SimCC, Cams: 1,2,3,4,5\",\"SimCC, Cams: 1,2,3,4,5\",\"SimCC, Cams: 1,2,3,4,5\",\"SimCC, Cams: 1,2,3,4,5\",\"SimCC, Cams: 1,2,3,4,5\",\"SimCC, Cams: 1,2,3,4,5\",\"SimCC, Cams: 1,2,3,4,5\",\"SimCC, Cams: 1,2,3,4,5\",\"SimCC, Cams: 1,2,3,4,5\",\"SimCC, Cams: 1,2,3,4,5\",\"SimCC, Cams: 1,2,3,4,5\",\"SimCC, Cams: 1,2,3,4,5\",\"SimCC, Cams: 1,2,3,4,5\",\"SimCC, Cams: 1,2,3,4,5\",\"SimCC, Cams: 1,2,3,4,5\",\"SimCC, Cams: 1,2,3,4,5\",\"SimCC, Cams: 1,2,3,4,5\",\"SimCC, Cams: 1,2,3,4,5\",\"SimCC, Cams: 1,2,3,4,5\",\"SimCC, Cams: 1,2,3,4,5\",\"SimCC, Cams: 1,2,3,4,5\",\"SimCC, Cams: 1,2,3,4,5\",\"SimCC, Cams: 1,2,3,4,5\",\"SimCC, Cams: 1,2,3,4,5\",\"SimCC, Cams: 1,2,3,4,5\",\"SimCC, Cams: 1,2,3,4,5\",\"SimCC, Cams: 1,2,3,4,5\",\"SimCC, Cams: 1,2,3,4,5\",\"SimCC, Cams: 1,2,3,4,5\",\"SimCC, Cams: 1,2,3,4,5\",\"SimCC, Cams: 1,2,3,4,5\",\"SimCC, Cams: 1,2,3,4,5\",\"SimCC, Cams: 1,2,3,4,5\",\"SimCC, Cams: 1,2,3,4,5\",\"SimCC, Cams: 1,2,3,4,5\",\"SimCC, Cams: 1,2,3,4,5\",\"SimCC, Cams: 1,2,3,4,5\",\"SimCC, Cams: 1,2,3,4,5\",\"SimCC, Cams: 1,2,3,4,5\",\"SimCC, Cams: 1,2,3,4,5\",\"SimCC, Cams: 1,2,3,4,5\",\"SimCC, Cams: 1,2,3,4,5\",\"SimCC, Cams: 1,2,3,4,5\",\"SimCC, Cams: 1,2,3,4,5\",\"SimCC, Cams: 1,2,3,4,5\",\"SimCC, Cams: 1,2,3,4,5\",\"SimCC, Cams: 1,2,3,4,5\",\"SimCC, Cams: 1,2,3,4,5\",\"SimCC, Cams: 1,2,3,4,5\",\"SimCC, Cams: 1,2,3,4,5\",\"SimCC, Cams: 1,2,3,4,5\",\"SimCC, Cams: 1,2,3,4,5\",\"SimCC, Cams: 1,2,3,4,5\",\"SimCC, Cams: 1,2,3,4,5\",\"SimCC, Cams: 1,2,3,4,5\",\"SimCC, Cams: 1,2,3,4,5\",\"SimCC, Cams: 1,2,3,4,5\",\"SimCC, Cams: 1,2,3,4,5\",\"Metrabs, Cams: 1,2,3,4,5\",\"Metrabs, Cams: 1,2,3,4,5\",\"Metrabs, Cams: 1,2,3,4,5\",\"Metrabs, Cams: 1,2,3,4,5\",\"Metrabs, Cams: 1,2,3,4,5\",\"Metrabs, Cams: 1,2,3,4,5\",\"Metrabs, Cams: 1,2,3,4,5\",\"Metrabs, Cams: 1,2,3,4,5\",\"Metrabs, Cams: 1,2,3,4,5\",\"Metrabs, Cams: 1,2,3,4,5\",\"Metrabs, Cams: 1,2,3,4,5\",\"Metrabs, Cams: 1,2,3,4,5\",\"Metrabs, Cams: 1,2,3,4,5\",\"Metrabs, Cams: 1,2,3,4,5\",\"Metrabs, Cams: 1,2,3,4,5\",\"Metrabs, Cams: 1,2,3,4,5\",\"Metrabs, Cams: 1,2,3,4,5\",\"Metrabs, Cams: 1,2,3,4,5\",\"Metrabs, Cams: 1,2,3,4,5\",\"Metrabs, Cams: 1,2,3,4,5\",\"Metrabs, Cams: 1,2,3,4,5\",\"Metrabs, Cams: 1,2,3,4,5\",\"Metrabs, Cams: 1,2,3,4,5\",\"Metrabs, Cams: 1,2,3,4,5\",\"Metrabs, Cams: 1,2,3,4,5\",\"Metrabs, Cams: 1,2,3,4,5\",\"Metrabs, Cams: 1,2,3,4,5\",\"Metrabs, Cams: 1,2,3,4,5\",\"Metrabs, Cams: 1,2,3,4,5\",\"Metrabs, Cams: 1,2,3,4,5\",\"Metrabs, Cams: 1,2,3,4,5\",\"Metrabs, Cams: 1,2,3,4,5\",\"Metrabs, Cams: 1,2,3,4,5\",\"Metrabs, Cams: 1,2,3,4,5\",\"Metrabs, Cams: 1,2,3,4,5\",\"Metrabs, Cams: 1,2,3,4,5\",\"Metrabs, Cams: 1,2,3,4,5\",\"Metrabs, Cams: 1,2,3,4,5\",\"Metrabs, Cams: 1,2,3,4,5\",\"Metrabs, Cams: 1,2,3,4,5\",\"Metrabs, Cams: 1,2,3,4,5\",\"Metrabs, Cams: 1,2,3,4,5\",\"Metrabs, Cams: 1,2,3,4,5\",\"Metrabs, Cams: 1,2,3,4,5\",\"Metrabs, Cams: 1,2,3,4,5\",\"Metrabs, Cams: 1,2,3,4,5\",\"Metrabs, Cams: 1,2,3,4,5\",\"Metrabs, Cams: 1,2,3,4,5\",\"Metrabs, Cams: 1,2,3,4,5\",\"Metrabs, Cams: 1,2,3,4,5\",\"Metrabs, Cams: 1,2,3,4,5\",\"Metrabs, Cams: 1,2,3,4,5\",\"Metrabs, Cams: 1,2,3,4,5\",\"Metrabs, Cams: 1,2,3,4,5\",\"Metrabs, Cams: 1,2,3,4,5\",\"Metrabs, Cams: 1,2,3,4,5\",\"Metrabs, Cams: 1,2,3,4,5\",\"Metrabs, Cams: 1,2,3,4,5\",\"Metrabs, Cams: 1,2,3,4,5\",\"Metrabs, Cams: 1,2,3,4,5\",\"Metrabs, Cams: 1,2,3,4,5\",\"Metrabs, Cams: 1,2,3,4,5\",\"Metrabs, Cams: 1,2,3,4,5\",\"Metrabs, Cams: 1,2,3,4,5\",\"Metrabs, Cams: 1,2,3,4,5\",\"Metrabs, Cams: 1,2,3,4,5\",\"Metrabs, Cams: 1,2,3,4,5\",\"Metrabs, Cams: 1,2,3,4,5\",\"Metrabs, Cams: 1,2,3,4,5\",\"Metrabs, Cams: 1,2,3,4,5\",\"Metrabs, Cams: 1,2,3,4,5\",\"Metrabs, Cams: 1,2,3,4,5\",\"Metrabs, Cams: 1,2,3,4,5\",\"Metrabs, Cams: 1,2,3,4,5\",\"Metrabs, Cams: 1,2,3,4,5\",\"Metrabs, Cams: 1,2,3,4,5\",\"Metrabs, Cams: 1,2,3,4,5\",\"Metrabs, Cams: 1,2,3,4,5\",\"Metrabs, Cams: 1,2,3,4,5\",\"Metrabs, Cams: 1,2,3,4,5\",\"Metrabs, Cams: 1,2,3,4,5\",\"Metrabs, Cams: 1,2,3,4,5\",\"Metrabs, Cams: 1,2,3,4,5\",\"Metrabs, Cams: 1,2,3,4,5\",\"Metrabs, Cams: 1,2,3,4,5\",\"Metrabs, Cams: 1,2,3,4,5\",\"Metrabs, Cams: 1,2,3,4,5\",\"Metrabs, Cams: 1,2,3,4,5\",\"Metrabs, Cams: 1,2,3,4,5\",\"Metrabs, Cams: 1,2,3,4,5\",\"Single, Cam: 1, filt\",\"Single, Cam: 1, filt\",\"Single, Cam: 1, filt\",\"Single, Cam: 1, filt\",\"Single, Cam: 1, filt\",\"Single, Cam: 1, filt\",\"Single, Cam: 1, filt\",\"Single, Cam: 1, filt\",\"Single, Cam: 1, filt\",\"Single, Cam: 1, filt\",\"Single, Cam: 1, filt\",\"Single, Cam: 1, filt\",\"Single, Cam: 1, filt\",\"Single, Cam: 1, filt\",\"Single, Cam: 1, filt\",\"Single, Cam: 1, filt\",\"Single, Cam: 1, filt\",\"Single, Cam: 1, filt\",\"Single, Cam: 1, filt\",\"Single, Cam: 1, filt\",\"Single, Cam: 1, filt\",\"Single, Cam: 1, filt\",\"Single, Cam: 1, filt\",\"Single, Cam: 1, filt\",\"Single, Cam: 1, filt\",\"Single, Cam: 1, filt\",\"Single, Cam: 1, filt\",\"Single, Cam: 1, filt\",\"Single, Cam: 1, filt\",\"Single, Cam: 1, filt\",\"Single, Cam: 1, filt\",\"Single, Cam: 1, filt\",\"Single, Cam: 1, filt\",\"Single, Cam: 1, filt\",\"Single, Cam: 1, filt\",\"Single, Cam: 1, filt\",\"Single, Cam: 1, filt\",\"Single, Cam: 1, filt\",\"Single, Cam: 1, filt\",\"Single, Cam: 1, filt\",\"Single, Cam: 1, filt\",\"Single, Cam: 1, filt\",\"Single, Cam: 1, filt\",\"Single, Cam: 1, filt\",\"Single, Cam: 1, filt\",\"Single, Cam: 1, filt\",\"Single, Cam: 1, filt\",\"Single, Cam: 1, filt\",\"Single, Cam: 1, filt\",\"Single, Cam: 1, filt\",\"Single, Cam: 1, filt\",\"Single, Cam: 1, filt\",\"Single, Cam: 1, filt\",\"Single, Cam: 1, filt\",\"Single, Cam: 1, filt\",\"Single, Cam: 1, filt\",\"Single, Cam: 1, filt\",\"Single, Cam: 1, filt\",\"Single, Cam: 1, filt\",\"Single, Cam: 1, filt\",\"Single, Cam: 1, filt\",\"Single, Cam: 1, filt\",\"Single, Cam: 1, filt\",\"Single, Cam: 1, filt\",\"Single, Cam: 1, filt\",\"Single, Cam: 1, filt\",\"Single, Cam: 1, filt\",\"Single, Cam: 1, filt\",\"Single, Cam: 1, filt\",\"Single, Cam: 1, filt\",\"Single, Cam: 1, filt\",\"Single, Cam: 1, filt\",\"Single, Cam: 1, filt\",\"Single, Cam: 1, filt\",\"Single, Cam: 1, filt\",\"Single, Cam: 1, filt\",\"Single, Cam: 1, filt\",\"Single, Cam: 1, filt\",\"Single, Cam: 1, filt\",\"Single, Cam: 1, filt\",\"Single, Cam: 1, filt\",\"Single, Cam: 1, filt\",\"Single, Cam: 1, filt\",\"Single, Cam: 1, filt\",\"Single, Cam: 1, filt\",\"Single, Cam: 1, filt\",\"Single, Cam: 1, filt\",\"Single, Cam: 1, filt\",\"Single, Cam: 1, filt\",\"Single, Cam: 1, filt\",\"Single, Cam: 1, unfilt\",\"Single, Cam: 1, unfilt\",\"Single, Cam: 1, unfilt\",\"Single, Cam: 1, unfilt\",\"Single, Cam: 1, unfilt\",\"Single, Cam: 1, unfilt\",\"Single, Cam: 1, unfilt\",\"Single, Cam: 1, unfilt\",\"Single, Cam: 1, unfilt\",\"Single, Cam: 1, unfilt\",\"Single, Cam: 1, unfilt\",\"Single, Cam: 1, unfilt\",\"Single, Cam: 1, unfilt\",\"Single, Cam: 1, unfilt\",\"Single, Cam: 1, unfilt\",\"Single, Cam: 1, unfilt\",\"Single, Cam: 1, unfilt\",\"Single, Cam: 1, unfilt\",\"Single, Cam: 1, unfilt\",\"Single, Cam: 1, unfilt\",\"Single, Cam: 1, unfilt\",\"Single, Cam: 1, unfilt\",\"Single, Cam: 1, unfilt\",\"Single, Cam: 1, unfilt\",\"Single, Cam: 1, unfilt\",\"Single, Cam: 1, unfilt\",\"Single, Cam: 1, unfilt\",\"Single, Cam: 1, unfilt\",\"Single, Cam: 1, unfilt\",\"Single, Cam: 1, unfilt\",\"Single, Cam: 1, unfilt\",\"Single, Cam: 1, unfilt\",\"Single, Cam: 1, unfilt\",\"Single, Cam: 1, unfilt\",\"Single, Cam: 1, unfilt\",\"Single, Cam: 1, unfilt\",\"Single, Cam: 1, unfilt\",\"Single, Cam: 1, unfilt\",\"Single, Cam: 1, unfilt\",\"Single, Cam: 1, unfilt\",\"Single, Cam: 1, unfilt\",\"Single, Cam: 1, unfilt\",\"Single, Cam: 1, unfilt\",\"Single, Cam: 1, unfilt\",\"Single, Cam: 1, unfilt\",\"Single, Cam: 1, unfilt\",\"Single, Cam: 1, unfilt\",\"Single, Cam: 1, unfilt\",\"Single, Cam: 1, unfilt\",\"Single, Cam: 1, unfilt\",\"Single, Cam: 1, unfilt\",\"Single, Cam: 1, unfilt\",\"Single, Cam: 1, unfilt\",\"Single, Cam: 1, unfilt\",\"Single, Cam: 1, unfilt\",\"Single, Cam: 1, unfilt\",\"Single, Cam: 1, unfilt\",\"Single, Cam: 1, unfilt\",\"Single, Cam: 1, unfilt\",\"Single, Cam: 1, unfilt\",\"Single, Cam: 1, unfilt\",\"Single, Cam: 1, unfilt\",\"Single, Cam: 1, unfilt\",\"Single, Cam: 1, unfilt\",\"Single, Cam: 1, unfilt\",\"Single, Cam: 1, unfilt\",\"Single, Cam: 1, unfilt\",\"Single, Cam: 1, unfilt\",\"Single, Cam: 1, unfilt\",\"Single, Cam: 1, unfilt\",\"Single, Cam: 1, unfilt\",\"Single, Cam: 1, unfilt\",\"Single, Cam: 1, unfilt\",\"Single, Cam: 1, unfilt\",\"Single, Cam: 1, unfilt\",\"Single, Cam: 1, unfilt\",\"Single, Cam: 1, unfilt\",\"Single, Cam: 1, unfilt\",\"Single, Cam: 1, unfilt\",\"Single, Cam: 1, unfilt\",\"Single, Cam: 1, unfilt\",\"Single, Cam: 1, unfilt\",\"Single, Cam: 1, unfilt\",\"Single, Cam: 1, unfilt\",\"Single, Cam: 1, unfilt\",\"Single, Cam: 1, unfilt\",\"Single, Cam: 1, unfilt\",\"Single, Cam: 1, unfilt\",\"Single, Cam: 1, unfilt\",\"Single, Cam: 1, unfilt\"],\"x0\":\" \",\"xaxis\":\"x\",\"y\":[6.459855095986891,-0.08860650885904267,5.289688189720372,2.526986230183732,4.184393368485027,1.4460137322082003,24.983686466144057,22.703361529232126,23.772582338020953,-0.09970109562361396,-1.1494871069029355,1.3457988323274446,-0.2901552349649368,22.020595733147765,0.844349973931795,24.13156672953196,-0.11464143572674157,0.2007271276377196,-1.9813704995987003,2.4045380902790856,-2.377522278738092,6.555893473608475,-4.974791040997785,-1.1173299991669245,-1.828477805905694,-0.9830538424664316,-1.2181500508067356,1.0061008816313317,-0.15203983489462272,-2.914773267253109,8.0383581619523,-0.09652289622394379,3.398176002312693,4.171512953686531,-3.458235968017355,-0.09314820936886216,-0.6307007423189381,7.517153543684216,1.3108566550825873,9.660172488175467,4.131581006311732,1.7817877845543066,3.4224939272602484,7.8678560418956485,2.4260954985240875,-0.21332949459001987,-0.4797244449610858,1.491570112987683,6.7751206987476005,-1.00340388212955,5.312988782698953,-3.6439100691281365,-0.83912805042006,-2.8020645318348087,-0.2799629120822743,-0.9975858488007286,0.8315752259950027,6.96286501840958,-0.021723349019239297,0.27768643874135296,7.4508523632819115,-1.8740652653392509,-1.1100442335478202,6.21544177312141,-2.8430880916083487,1.5425010071303735,4.774313860555175,5.103523033126696,8.350983223734664,5.869719913525826,6.587562986055496,7.436716286244596,2.328616147009289,-0.9395523807775437,-1.1804574131128582,-0.5856579513896171,6.203396618986836,3.88101115444179,1.1809438574727238,3.04957000620195,3.5636288979021327,2.6235826583873525,-1.573034334957707,1.0803186328652252,9.480300541857524,7.274355097376837,9.305830133003036,7.383710266668263,6.033904070903002,6.503938903252422,7.025347717982901,4.898014009096564,5.19836449709481,4.364568343783867,6.1466033295006595,6.892362556451618,5.4685844590635995,8.347003942230756,7.340344215319971,8.325270315370528,7.5519477351762845,6.841228262258492,4.421934784793939,6.48625416944548,5.930619971833456,8.042134960832863,6.918790462353705,7.183529153966451,10.012162585878452,6.902588665960159,12.392281679757776,-1.0416572943818587,5.720812268599673,5.7385051338785,4.594987305268046,8.04633333330027,9.724394435065134,6.006815175191272,4.354725432658502,12.371004603359951,5.637166503366837,5.587860820735824,11.629372454228886,3.8430631646658022,6.420652173413262,6.1613163205731025,6.563397507522567,7.800902304798151,18.3333484335024,4.874593772328241,2.787952136544851,2.1714106281927354,5.479835342003118,1.9583235586313492,4.731319687146201,4.382109055540778,6.171333050891486,33.861189737500524,10.143476462836222,10.155510086791711,13.033659131054675,9.20323791244074,9.576937753149938,8.01866583848982,7.270104339679022,8.282936687160378,6.488614546184345,7.864715050177453,6.505558480578657,8.004963717055206,5.856250226519852,3.9821995329166064,8.271841251152198,7.235862845795272,9.395943649080266,1.5759274975332982,9.830317582877116,5.523719974366958,7.913300659500437,3.6488180059000137,5.0338674003716095,12.756621988893308,8.457059615186834,5.999952818340001,5.276823643477733,7.917428523343141,9.353929049824602,4.101705579423158,7.455556969234111,6.903649074699023,6.751452500942699,6.575824307618846,5.039132639014788,26.441012998349755,12.679833105856371,20.83570685329857,23.724737307538923,22.306125331717183,33.084459395028084,4.2655578612965215,20.97347316435685,17.254433374100078,14.719291023047633,19.665435494353414,18.479453766813577,17.991314815622655,20.29577906049658,23.899582261730195,18.448496999740904,20.00220378128302,23.989379907236046,17.027327419495595,16.43867377920755,21.1947447582572,20.434133235233087,27.560576894721684,19.20485299213959,22.627713676409538,27.055226024924576,16.61117516246078,26.87513027201078,23.437427875970055,17.245356518088567,25.224791408749322,24.291263355033056,28.430185429735765,17.85582645780636,27.893241959792984,33.61420989644794,32.36928880413902,21.24876619804846,19.18094000622873,22.482283009624194,21.70906623476244,17.743930056940922,19.307283746091645,21.79231453534241,20.575694780847737,10.704996211575912,20.225985528361747,26.003164299188004,13.19431102276334,12.725000330153659,18.358034579954754,10.374446047209917,15.634847220422898,17.81769235530652,16.328935161323084,27.560727820587182,22.00515691908937,22.025098726258584,24.898961221124797,26.84982690042356,21.964706315169664,26.079929555497586,24.843282293997053,19.810619844060227,22.478092953682232,19.733647800716422,24.162878263908578,24.113560329242038,21.02776488526077,22.538250452207894,23.2052104704125,25.86236524106284,21.507286877744587,24.89752396422494,34.91494056274856,16.1783195803114,18.014678391839283,24.33305566732185,14.605758649005375,16.561578172009863,16.931400503128824,19.892326804769493,23.622023810595937,16.90386289451351,16.83160044895056,20.045284529041513,21.071321114757158,16.428857862693622,15.684324859373357,18.822035613319265,47.93308802735362,40.64743621683782,47.22940316361857,51.81763495873538,54.537943143230365,31.11580674274488,4.350146366085655,22.45664205855631,17.40649526193541,14.896787450199088,20.043738522967313,18.84409506213964,18.166323464283355,19.49405023892858,24.045872847484564,18.678164698941057,20.13151272238341,24.201632148927118,17.3088407927518,16.728561221900524,21.444170527715475,20.75466821468221,28.714832895914217,20.284492212185956,22.74653658627064,29.546497728100235,16.52649402787391,26.922198364711736,23.67663669149521,17.334021049989108,31.05525487541407,24.396811680413464,28.616479439601815,18.06651818873306,28.24303730381366,34.086936066488946,33.276990975128776,21.55218153891943,19.322573072446144,22.800029932326044,22.057582243588723,18.034859950489853,19.55665496450688,22.257704554116454,20.870610713524695,11.337400260893483,20.709018376202867,26.26072413480324,13.524735908636114,12.774520710374063,18.367458947411034,10.466397963377696,15.89948283444754,18.073203597395857,16.445241166811133,27.76215159078018,22.30168438514252,22.19873987404966,24.98814501171433,27.015263724456975,22.14031615330707,26.352676262260623,25.25203734804387,20.17413645150203,22.4382175947652,19.845685228335757,24.354327027988923,24.26819259178293,21.175928881887423,22.74342368952322,23.265278082025706,25.905641497192516,21.535029029134368,24.98986590583047,35.07492336410657,16.247600746941004,18.182692756521675,24.614784939635804,14.864587627405342,16.719365985100634,17.35020055501411,20.09559826858177,23.781888960577053,17.22351115432782,17.293853180067085,20.342496441378582,21.285232158022446,16.745330553442408,15.84060454777394,19.081978982035185,48.671329665082666,41.743048170129846,47.430613201266915,52.1643501913402,54.92503695052535,31.218680785534765],\"y0\":\" \",\"yaxis\":\"y\",\"type\":\"box\"}],                        {\"template\":{\"data\":{\"barpolar\":[{\"marker\":{\"line\":{\"color\":\"#E5ECF6\",\"width\":0.5},\"pattern\":{\"fillmode\":\"overlay\",\"size\":10,\"solidity\":0.2}},\"type\":\"barpolar\"}],\"bar\":[{\"error_x\":{\"color\":\"#2a3f5f\"},\"error_y\":{\"color\":\"#2a3f5f\"},\"marker\":{\"line\":{\"color\":\"#E5ECF6\",\"width\":0.5},\"pattern\":{\"fillmode\":\"overlay\",\"size\":10,\"solidity\":0.2}},\"type\":\"bar\"}],\"carpet\":[{\"aaxis\":{\"endlinecolor\":\"#2a3f5f\",\"gridcolor\":\"white\",\"linecolor\":\"white\",\"minorgridcolor\":\"white\",\"startlinecolor\":\"#2a3f5f\"},\"baxis\":{\"endlinecolor\":\"#2a3f5f\",\"gridcolor\":\"white\",\"linecolor\":\"white\",\"minorgridcolor\":\"white\",\"startlinecolor\":\"#2a3f5f\"},\"type\":\"carpet\"}],\"choropleth\":[{\"colorbar\":{\"outlinewidth\":0,\"ticks\":\"\"},\"type\":\"choropleth\"}],\"contourcarpet\":[{\"colorbar\":{\"outlinewidth\":0,\"ticks\":\"\"},\"type\":\"contourcarpet\"}],\"contour\":[{\"colorbar\":{\"outlinewidth\":0,\"ticks\":\"\"},\"colorscale\":[[0.0,\"#0d0887\"],[0.1111111111111111,\"#46039f\"],[0.2222222222222222,\"#7201a8\"],[0.3333333333333333,\"#9c179e\"],[0.4444444444444444,\"#bd3786\"],[0.5555555555555556,\"#d8576b\"],[0.6666666666666666,\"#ed7953\"],[0.7777777777777778,\"#fb9f3a\"],[0.8888888888888888,\"#fdca26\"],[1.0,\"#f0f921\"]],\"type\":\"contour\"}],\"heatmapgl\":[{\"colorbar\":{\"outlinewidth\":0,\"ticks\":\"\"},\"colorscale\":[[0.0,\"#0d0887\"],[0.1111111111111111,\"#46039f\"],[0.2222222222222222,\"#7201a8\"],[0.3333333333333333,\"#9c179e\"],[0.4444444444444444,\"#bd3786\"],[0.5555555555555556,\"#d8576b\"],[0.6666666666666666,\"#ed7953\"],[0.7777777777777778,\"#fb9f3a\"],[0.8888888888888888,\"#fdca26\"],[1.0,\"#f0f921\"]],\"type\":\"heatmapgl\"}],\"heatmap\":[{\"colorbar\":{\"outlinewidth\":0,\"ticks\":\"\"},\"colorscale\":[[0.0,\"#0d0887\"],[0.1111111111111111,\"#46039f\"],[0.2222222222222222,\"#7201a8\"],[0.3333333333333333,\"#9c179e\"],[0.4444444444444444,\"#bd3786\"],[0.5555555555555556,\"#d8576b\"],[0.6666666666666666,\"#ed7953\"],[0.7777777777777778,\"#fb9f3a\"],[0.8888888888888888,\"#fdca26\"],[1.0,\"#f0f921\"]],\"type\":\"heatmap\"}],\"histogram2dcontour\":[{\"colorbar\":{\"outlinewidth\":0,\"ticks\":\"\"},\"colorscale\":[[0.0,\"#0d0887\"],[0.1111111111111111,\"#46039f\"],[0.2222222222222222,\"#7201a8\"],[0.3333333333333333,\"#9c179e\"],[0.4444444444444444,\"#bd3786\"],[0.5555555555555556,\"#d8576b\"],[0.6666666666666666,\"#ed7953\"],[0.7777777777777778,\"#fb9f3a\"],[0.8888888888888888,\"#fdca26\"],[1.0,\"#f0f921\"]],\"type\":\"histogram2dcontour\"}],\"histogram2d\":[{\"colorbar\":{\"outlinewidth\":0,\"ticks\":\"\"},\"colorscale\":[[0.0,\"#0d0887\"],[0.1111111111111111,\"#46039f\"],[0.2222222222222222,\"#7201a8\"],[0.3333333333333333,\"#9c179e\"],[0.4444444444444444,\"#bd3786\"],[0.5555555555555556,\"#d8576b\"],[0.6666666666666666,\"#ed7953\"],[0.7777777777777778,\"#fb9f3a\"],[0.8888888888888888,\"#fdca26\"],[1.0,\"#f0f921\"]],\"type\":\"histogram2d\"}],\"histogram\":[{\"marker\":{\"pattern\":{\"fillmode\":\"overlay\",\"size\":10,\"solidity\":0.2}},\"type\":\"histogram\"}],\"mesh3d\":[{\"colorbar\":{\"outlinewidth\":0,\"ticks\":\"\"},\"type\":\"mesh3d\"}],\"parcoords\":[{\"line\":{\"colorbar\":{\"outlinewidth\":0,\"ticks\":\"\"}},\"type\":\"parcoords\"}],\"pie\":[{\"automargin\":true,\"type\":\"pie\"}],\"scatter3d\":[{\"line\":{\"colorbar\":{\"outlinewidth\":0,\"ticks\":\"\"}},\"marker\":{\"colorbar\":{\"outlinewidth\":0,\"ticks\":\"\"}},\"type\":\"scatter3d\"}],\"scattercarpet\":[{\"marker\":{\"colorbar\":{\"outlinewidth\":0,\"ticks\":\"\"}},\"type\":\"scattercarpet\"}],\"scattergeo\":[{\"marker\":{\"colorbar\":{\"outlinewidth\":0,\"ticks\":\"\"}},\"type\":\"scattergeo\"}],\"scattergl\":[{\"marker\":{\"colorbar\":{\"outlinewidth\":0,\"ticks\":\"\"}},\"type\":\"scattergl\"}],\"scattermapbox\":[{\"marker\":{\"colorbar\":{\"outlinewidth\":0,\"ticks\":\"\"}},\"type\":\"scattermapbox\"}],\"scatterpolargl\":[{\"marker\":{\"colorbar\":{\"outlinewidth\":0,\"ticks\":\"\"}},\"type\":\"scatterpolargl\"}],\"scatterpolar\":[{\"marker\":{\"colorbar\":{\"outlinewidth\":0,\"ticks\":\"\"}},\"type\":\"scatterpolar\"}],\"scatter\":[{\"fillpattern\":{\"fillmode\":\"overlay\",\"size\":10,\"solidity\":0.2},\"type\":\"scatter\"}],\"scatterternary\":[{\"marker\":{\"colorbar\":{\"outlinewidth\":0,\"ticks\":\"\"}},\"type\":\"scatterternary\"}],\"surface\":[{\"colorbar\":{\"outlinewidth\":0,\"ticks\":\"\"},\"colorscale\":[[0.0,\"#0d0887\"],[0.1111111111111111,\"#46039f\"],[0.2222222222222222,\"#7201a8\"],[0.3333333333333333,\"#9c179e\"],[0.4444444444444444,\"#bd3786\"],[0.5555555555555556,\"#d8576b\"],[0.6666666666666666,\"#ed7953\"],[0.7777777777777778,\"#fb9f3a\"],[0.8888888888888888,\"#fdca26\"],[1.0,\"#f0f921\"]],\"type\":\"surface\"}],\"table\":[{\"cells\":{\"fill\":{\"color\":\"#EBF0F8\"},\"line\":{\"color\":\"white\"}},\"header\":{\"fill\":{\"color\":\"#C8D4E3\"},\"line\":{\"color\":\"white\"}},\"type\":\"table\"}]},\"layout\":{\"annotationdefaults\":{\"arrowcolor\":\"#2a3f5f\",\"arrowhead\":0,\"arrowwidth\":1},\"autotypenumbers\":\"strict\",\"coloraxis\":{\"colorbar\":{\"outlinewidth\":0,\"ticks\":\"\"}},\"colorscale\":{\"diverging\":[[0,\"#8e0152\"],[0.1,\"#c51b7d\"],[0.2,\"#de77ae\"],[0.3,\"#f1b6da\"],[0.4,\"#fde0ef\"],[0.5,\"#f7f7f7\"],[0.6,\"#e6f5d0\"],[0.7,\"#b8e186\"],[0.8,\"#7fbc41\"],[0.9,\"#4d9221\"],[1,\"#276419\"]],\"sequential\":[[0.0,\"#0d0887\"],[0.1111111111111111,\"#46039f\"],[0.2222222222222222,\"#7201a8\"],[0.3333333333333333,\"#9c179e\"],[0.4444444444444444,\"#bd3786\"],[0.5555555555555556,\"#d8576b\"],[0.6666666666666666,\"#ed7953\"],[0.7777777777777778,\"#fb9f3a\"],[0.8888888888888888,\"#fdca26\"],[1.0,\"#f0f921\"]],\"sequentialminus\":[[0.0,\"#0d0887\"],[0.1111111111111111,\"#46039f\"],[0.2222222222222222,\"#7201a8\"],[0.3333333333333333,\"#9c179e\"],[0.4444444444444444,\"#bd3786\"],[0.5555555555555556,\"#d8576b\"],[0.6666666666666666,\"#ed7953\"],[0.7777777777777778,\"#fb9f3a\"],[0.8888888888888888,\"#fdca26\"],[1.0,\"#f0f921\"]]},\"colorway\":[\"#636efa\",\"#EF553B\",\"#00cc96\",\"#ab63fa\",\"#FFA15A\",\"#19d3f3\",\"#FF6692\",\"#B6E880\",\"#FF97FF\",\"#FECB52\"],\"font\":{\"color\":\"#2a3f5f\"},\"geo\":{\"bgcolor\":\"white\",\"lakecolor\":\"white\",\"landcolor\":\"#E5ECF6\",\"showlakes\":true,\"showland\":true,\"subunitcolor\":\"white\"},\"hoverlabel\":{\"align\":\"left\"},\"hovermode\":\"closest\",\"mapbox\":{\"style\":\"light\"},\"paper_bgcolor\":\"white\",\"plot_bgcolor\":\"#E5ECF6\",\"polar\":{\"angularaxis\":{\"gridcolor\":\"white\",\"linecolor\":\"white\",\"ticks\":\"\"},\"bgcolor\":\"#E5ECF6\",\"radialaxis\":{\"gridcolor\":\"white\",\"linecolor\":\"white\",\"ticks\":\"\"}},\"scene\":{\"xaxis\":{\"backgroundcolor\":\"#E5ECF6\",\"gridcolor\":\"white\",\"gridwidth\":2,\"linecolor\":\"white\",\"showbackground\":true,\"ticks\":\"\",\"zerolinecolor\":\"white\"},\"yaxis\":{\"backgroundcolor\":\"#E5ECF6\",\"gridcolor\":\"white\",\"gridwidth\":2,\"linecolor\":\"white\",\"showbackground\":true,\"ticks\":\"\",\"zerolinecolor\":\"white\"},\"zaxis\":{\"backgroundcolor\":\"#E5ECF6\",\"gridcolor\":\"white\",\"gridwidth\":2,\"linecolor\":\"white\",\"showbackground\":true,\"ticks\":\"\",\"zerolinecolor\":\"white\"}},\"shapedefaults\":{\"line\":{\"color\":\"#2a3f5f\"}},\"ternary\":{\"aaxis\":{\"gridcolor\":\"white\",\"linecolor\":\"white\",\"ticks\":\"\"},\"baxis\":{\"gridcolor\":\"white\",\"linecolor\":\"white\",\"ticks\":\"\"},\"bgcolor\":\"#E5ECF6\",\"caxis\":{\"gridcolor\":\"white\",\"linecolor\":\"white\",\"ticks\":\"\"}},\"title\":{\"x\":0.05},\"xaxis\":{\"automargin\":true,\"gridcolor\":\"white\",\"linecolor\":\"white\",\"ticks\":\"\",\"title\":{\"standoff\":15},\"zerolinecolor\":\"white\",\"zerolinewidth\":2},\"yaxis\":{\"automargin\":true,\"gridcolor\":\"white\",\"linecolor\":\"white\",\"ticks\":\"\",\"title\":{\"standoff\":15},\"zerolinecolor\":\"white\",\"zerolinewidth\":2}}},\"xaxis\":{\"anchor\":\"y\",\"domain\":[0.0,1.0],\"title\":{\"text\":\"Settings\"}},\"yaxis\":{\"anchor\":\"x\",\"domain\":[0.0,1.0],\"title\":{\"text\":\"ROM error [mm]\"}},\"legend\":{\"tracegroupgap\":0},\"title\":{\"text\":\"Trunk Displacement ROM error, cad = 31.89 mm\"},\"boxmode\":\"group\",\"shapes\":[{\"line\":{\"color\":\"red\",\"dash\":\"dash\"},\"name\":\"CAD\",\"type\":\"line\",\"x0\":0,\"x1\":1,\"xref\":\"x domain\",\"y0\":31.89,\"y1\":31.89,\"yref\":\"y\"},{\"line\":{\"color\":\"red\",\"dash\":\"dash\"},\"name\":\"CAD\",\"type\":\"line\",\"x0\":0,\"x1\":1,\"xref\":\"x domain\",\"y0\":-31.89,\"y1\":-31.89,\"yref\":\"y\"}]},                        {\"responsive\": true}                    ).then(function(){\n",
       "                            \n",
       "var gd = document.getElementById('9b7b19fb-4742-4dae-8988-a7a7ec62dbfb');\n",
       "var x = new MutationObserver(function (mutations, observer) {{\n",
       "        var display = window.getComputedStyle(gd).display;\n",
       "        if (!display || display === 'none') {{\n",
       "            console.log([gd, 'removed!']);\n",
       "            Plotly.purge(gd);\n",
       "            observer.disconnect();\n",
       "        }}\n",
       "}});\n",
       "\n",
       "// Listen for the removal of the full notebook cells\n",
       "var notebookContainer = gd.closest('#notebook-container');\n",
       "if (notebookContainer) {{\n",
       "    x.observe(notebookContainer, {childList: true});\n",
       "}}\n",
       "\n",
       "// Listen for the clearing of the current output cell\n",
       "var outputEl = gd.closest('.output');\n",
       "if (outputEl) {{\n",
       "    x.observe(outputEl, {childList: true});\n",
       "}}\n",
       "\n",
       "                        })                };                });            </script>        </div>"
      ]
     },
     "metadata": {},
     "output_type": "display_data"
    },
    {
     "data": {
      "application/vnd.plotly.v1+json": {
       "data": [
        {
         "alignmentgroup": "True",
         "hovertemplate": "id_s_name=%{x}<br>error=%{y}<extra></extra>",
         "legendgroup": "",
         "marker": {
          "color": "#636efa"
         },
         "name": "",
         "notched": false,
         "offsetgroup": "",
         "orientation": "v",
         "showlegend": false,
         "x": [
          "SimCC, Cams: 1,2,3,4,5",
          "SimCC, Cams: 1,2,3,4,5",
          "SimCC, Cams: 1,2,3,4,5",
          "SimCC, Cams: 1,2,3,4,5",
          "SimCC, Cams: 1,2,3,4,5",
          "SimCC, Cams: 1,2,3,4,5",
          "SimCC, Cams: 1,2,3,4,5",
          "SimCC, Cams: 1,2,3,4,5",
          "SimCC, Cams: 1,2,3,4,5",
          "SimCC, Cams: 1,2,3,4,5",
          "SimCC, Cams: 1,2,3,4,5",
          "SimCC, Cams: 1,2,3,4,5",
          "SimCC, Cams: 1,2,3,4,5",
          "SimCC, Cams: 1,2,3,4,5",
          "SimCC, Cams: 1,2,3,4,5",
          "SimCC, Cams: 1,2,3,4,5",
          "SimCC, Cams: 1,2,3,4,5",
          "SimCC, Cams: 1,2,3,4,5",
          "SimCC, Cams: 1,2,3,4,5",
          "SimCC, Cams: 1,2,3,4,5",
          "SimCC, Cams: 1,2,3,4,5",
          "SimCC, Cams: 1,2,3,4,5",
          "SimCC, Cams: 1,2,3,4,5",
          "SimCC, Cams: 1,2,3,4,5",
          "SimCC, Cams: 1,2,3,4,5",
          "SimCC, Cams: 1,2,3,4,5",
          "SimCC, Cams: 1,2,3,4,5",
          "SimCC, Cams: 1,2,3,4,5",
          "SimCC, Cams: 1,2,3,4,5",
          "SimCC, Cams: 1,2,3,4,5",
          "SimCC, Cams: 1,2,3,4,5",
          "SimCC, Cams: 1,2,3,4,5",
          "SimCC, Cams: 1,2,3,4,5",
          "SimCC, Cams: 1,2,3,4,5",
          "SimCC, Cams: 1,2,3,4,5",
          "SimCC, Cams: 1,2,3,4,5",
          "SimCC, Cams: 1,2,3,4,5",
          "SimCC, Cams: 1,2,3,4,5",
          "SimCC, Cams: 1,2,3,4,5",
          "SimCC, Cams: 1,2,3,4,5",
          "SimCC, Cams: 1,2,3,4,5",
          "SimCC, Cams: 1,2,3,4,5",
          "SimCC, Cams: 1,2,3,4,5",
          "SimCC, Cams: 1,2,3,4,5",
          "SimCC, Cams: 1,2,3,4,5",
          "SimCC, Cams: 1,2,3,4,5",
          "SimCC, Cams: 1,2,3,4,5",
          "SimCC, Cams: 1,2,3,4,5",
          "SimCC, Cams: 1,2,3,4,5",
          "SimCC, Cams: 1,2,3,4,5",
          "SimCC, Cams: 1,2,3,4,5",
          "SimCC, Cams: 1,2,3,4,5",
          "SimCC, Cams: 1,2,3,4,5",
          "SimCC, Cams: 1,2,3,4,5",
          "SimCC, Cams: 1,2,3,4,5",
          "SimCC, Cams: 1,2,3,4,5",
          "SimCC, Cams: 1,2,3,4,5",
          "SimCC, Cams: 1,2,3,4,5",
          "SimCC, Cams: 1,2,3,4,5",
          "SimCC, Cams: 1,2,3,4,5",
          "SimCC, Cams: 1,2,3,4,5",
          "SimCC, Cams: 1,2,3,4,5",
          "SimCC, Cams: 1,2,3,4,5",
          "SimCC, Cams: 1,2,3,4,5",
          "SimCC, Cams: 1,2,3,4,5",
          "SimCC, Cams: 1,2,3,4,5",
          "SimCC, Cams: 1,2,3,4,5",
          "SimCC, Cams: 1,2,3,4,5",
          "SimCC, Cams: 1,2,3,4,5",
          "SimCC, Cams: 1,2,3,4,5",
          "SimCC, Cams: 1,2,3,4,5",
          "SimCC, Cams: 1,2,3,4,5",
          "SimCC, Cams: 1,2,3,4,5",
          "SimCC, Cams: 1,2,3,4,5",
          "SimCC, Cams: 1,2,3,4,5",
          "SimCC, Cams: 1,2,3,4,5",
          "SimCC, Cams: 1,2,3,4,5",
          "SimCC, Cams: 1,2,3,4,5",
          "SimCC, Cams: 1,2,3,4,5",
          "SimCC, Cams: 1,2,3,4,5",
          "SimCC, Cams: 1,2,3,4,5",
          "SimCC, Cams: 1,2,3,4,5",
          "SimCC, Cams: 1,2,3,4,5",
          "SimCC, Cams: 1,2,3,4,5",
          "SimCC, Cams: 1,2,3,4,5",
          "SimCC, Cams: 1,2,3,4,5",
          "SimCC, Cams: 1,2,3,4,5",
          "SimCC, Cams: 1,2,3,4,5",
          "SimCC, Cams: 1,2,3,4,5",
          "Metrabs, Cams: 1,2,3,4,5",
          "Metrabs, Cams: 1,2,3,4,5",
          "Metrabs, Cams: 1,2,3,4,5",
          "Metrabs, Cams: 1,2,3,4,5",
          "Metrabs, Cams: 1,2,3,4,5",
          "Metrabs, Cams: 1,2,3,4,5",
          "Metrabs, Cams: 1,2,3,4,5",
          "Metrabs, Cams: 1,2,3,4,5",
          "Metrabs, Cams: 1,2,3,4,5",
          "Metrabs, Cams: 1,2,3,4,5",
          "Metrabs, Cams: 1,2,3,4,5",
          "Metrabs, Cams: 1,2,3,4,5",
          "Metrabs, Cams: 1,2,3,4,5",
          "Metrabs, Cams: 1,2,3,4,5",
          "Metrabs, Cams: 1,2,3,4,5",
          "Metrabs, Cams: 1,2,3,4,5",
          "Metrabs, Cams: 1,2,3,4,5",
          "Metrabs, Cams: 1,2,3,4,5",
          "Metrabs, Cams: 1,2,3,4,5",
          "Metrabs, Cams: 1,2,3,4,5",
          "Metrabs, Cams: 1,2,3,4,5",
          "Metrabs, Cams: 1,2,3,4,5",
          "Metrabs, Cams: 1,2,3,4,5",
          "Metrabs, Cams: 1,2,3,4,5",
          "Metrabs, Cams: 1,2,3,4,5",
          "Metrabs, Cams: 1,2,3,4,5",
          "Metrabs, Cams: 1,2,3,4,5",
          "Metrabs, Cams: 1,2,3,4,5",
          "Metrabs, Cams: 1,2,3,4,5",
          "Metrabs, Cams: 1,2,3,4,5",
          "Metrabs, Cams: 1,2,3,4,5",
          "Metrabs, Cams: 1,2,3,4,5",
          "Metrabs, Cams: 1,2,3,4,5",
          "Metrabs, Cams: 1,2,3,4,5",
          "Metrabs, Cams: 1,2,3,4,5",
          "Metrabs, Cams: 1,2,3,4,5",
          "Metrabs, Cams: 1,2,3,4,5",
          "Metrabs, Cams: 1,2,3,4,5",
          "Metrabs, Cams: 1,2,3,4,5",
          "Metrabs, Cams: 1,2,3,4,5",
          "Metrabs, Cams: 1,2,3,4,5",
          "Metrabs, Cams: 1,2,3,4,5",
          "Metrabs, Cams: 1,2,3,4,5",
          "Metrabs, Cams: 1,2,3,4,5",
          "Metrabs, Cams: 1,2,3,4,5",
          "Metrabs, Cams: 1,2,3,4,5",
          "Metrabs, Cams: 1,2,3,4,5",
          "Metrabs, Cams: 1,2,3,4,5",
          "Metrabs, Cams: 1,2,3,4,5",
          "Metrabs, Cams: 1,2,3,4,5",
          "Metrabs, Cams: 1,2,3,4,5",
          "Metrabs, Cams: 1,2,3,4,5",
          "Metrabs, Cams: 1,2,3,4,5",
          "Metrabs, Cams: 1,2,3,4,5",
          "Metrabs, Cams: 1,2,3,4,5",
          "Metrabs, Cams: 1,2,3,4,5",
          "Metrabs, Cams: 1,2,3,4,5",
          "Metrabs, Cams: 1,2,3,4,5",
          "Metrabs, Cams: 1,2,3,4,5",
          "Metrabs, Cams: 1,2,3,4,5",
          "Metrabs, Cams: 1,2,3,4,5",
          "Metrabs, Cams: 1,2,3,4,5",
          "Metrabs, Cams: 1,2,3,4,5",
          "Metrabs, Cams: 1,2,3,4,5",
          "Metrabs, Cams: 1,2,3,4,5",
          "Metrabs, Cams: 1,2,3,4,5",
          "Metrabs, Cams: 1,2,3,4,5",
          "Metrabs, Cams: 1,2,3,4,5",
          "Metrabs, Cams: 1,2,3,4,5",
          "Metrabs, Cams: 1,2,3,4,5",
          "Metrabs, Cams: 1,2,3,4,5",
          "Metrabs, Cams: 1,2,3,4,5",
          "Metrabs, Cams: 1,2,3,4,5",
          "Metrabs, Cams: 1,2,3,4,5",
          "Metrabs, Cams: 1,2,3,4,5",
          "Metrabs, Cams: 1,2,3,4,5",
          "Metrabs, Cams: 1,2,3,4,5",
          "Metrabs, Cams: 1,2,3,4,5",
          "Metrabs, Cams: 1,2,3,4,5",
          "Metrabs, Cams: 1,2,3,4,5",
          "Metrabs, Cams: 1,2,3,4,5",
          "Metrabs, Cams: 1,2,3,4,5",
          "Metrabs, Cams: 1,2,3,4,5",
          "Metrabs, Cams: 1,2,3,4,5",
          "Metrabs, Cams: 1,2,3,4,5",
          "Metrabs, Cams: 1,2,3,4,5",
          "Metrabs, Cams: 1,2,3,4,5",
          "Metrabs, Cams: 1,2,3,4,5",
          "Metrabs, Cams: 1,2,3,4,5",
          "Metrabs, Cams: 1,2,3,4,5",
          "Single, Cam: 1, filt",
          "Single, Cam: 1, filt",
          "Single, Cam: 1, filt",
          "Single, Cam: 1, filt",
          "Single, Cam: 1, filt",
          "Single, Cam: 1, filt",
          "Single, Cam: 1, filt",
          "Single, Cam: 1, filt",
          "Single, Cam: 1, filt",
          "Single, Cam: 1, filt",
          "Single, Cam: 1, filt",
          "Single, Cam: 1, filt",
          "Single, Cam: 1, filt",
          "Single, Cam: 1, filt",
          "Single, Cam: 1, filt",
          "Single, Cam: 1, filt",
          "Single, Cam: 1, filt",
          "Single, Cam: 1, filt",
          "Single, Cam: 1, filt",
          "Single, Cam: 1, filt",
          "Single, Cam: 1, filt",
          "Single, Cam: 1, filt",
          "Single, Cam: 1, filt",
          "Single, Cam: 1, filt",
          "Single, Cam: 1, filt",
          "Single, Cam: 1, filt",
          "Single, Cam: 1, filt",
          "Single, Cam: 1, filt",
          "Single, Cam: 1, filt",
          "Single, Cam: 1, filt",
          "Single, Cam: 1, filt",
          "Single, Cam: 1, filt",
          "Single, Cam: 1, filt",
          "Single, Cam: 1, filt",
          "Single, Cam: 1, filt",
          "Single, Cam: 1, filt",
          "Single, Cam: 1, filt",
          "Single, Cam: 1, filt",
          "Single, Cam: 1, filt",
          "Single, Cam: 1, filt",
          "Single, Cam: 1, filt",
          "Single, Cam: 1, filt",
          "Single, Cam: 1, filt",
          "Single, Cam: 1, filt",
          "Single, Cam: 1, filt",
          "Single, Cam: 1, filt",
          "Single, Cam: 1, filt",
          "Single, Cam: 1, filt",
          "Single, Cam: 1, filt",
          "Single, Cam: 1, filt",
          "Single, Cam: 1, filt",
          "Single, Cam: 1, filt",
          "Single, Cam: 1, filt",
          "Single, Cam: 1, filt",
          "Single, Cam: 1, filt",
          "Single, Cam: 1, filt",
          "Single, Cam: 1, filt",
          "Single, Cam: 1, filt",
          "Single, Cam: 1, filt",
          "Single, Cam: 1, filt",
          "Single, Cam: 1, filt",
          "Single, Cam: 1, filt",
          "Single, Cam: 1, filt",
          "Single, Cam: 1, filt",
          "Single, Cam: 1, filt",
          "Single, Cam: 1, filt",
          "Single, Cam: 1, filt",
          "Single, Cam: 1, filt",
          "Single, Cam: 1, filt",
          "Single, Cam: 1, filt",
          "Single, Cam: 1, filt",
          "Single, Cam: 1, filt",
          "Single, Cam: 1, filt",
          "Single, Cam: 1, filt",
          "Single, Cam: 1, filt",
          "Single, Cam: 1, filt",
          "Single, Cam: 1, filt",
          "Single, Cam: 1, filt",
          "Single, Cam: 1, filt",
          "Single, Cam: 1, filt",
          "Single, Cam: 1, filt",
          "Single, Cam: 1, filt",
          "Single, Cam: 1, filt",
          "Single, Cam: 1, filt",
          "Single, Cam: 1, filt",
          "Single, Cam: 1, filt",
          "Single, Cam: 1, filt",
          "Single, Cam: 1, filt",
          "Single, Cam: 1, filt",
          "Single, Cam: 1, filt",
          "Single, Cam: 1, unfilt",
          "Single, Cam: 1, unfilt",
          "Single, Cam: 1, unfilt",
          "Single, Cam: 1, unfilt",
          "Single, Cam: 1, unfilt",
          "Single, Cam: 1, unfilt",
          "Single, Cam: 1, unfilt",
          "Single, Cam: 1, unfilt",
          "Single, Cam: 1, unfilt",
          "Single, Cam: 1, unfilt",
          "Single, Cam: 1, unfilt",
          "Single, Cam: 1, unfilt",
          "Single, Cam: 1, unfilt",
          "Single, Cam: 1, unfilt",
          "Single, Cam: 1, unfilt",
          "Single, Cam: 1, unfilt",
          "Single, Cam: 1, unfilt",
          "Single, Cam: 1, unfilt",
          "Single, Cam: 1, unfilt",
          "Single, Cam: 1, unfilt",
          "Single, Cam: 1, unfilt",
          "Single, Cam: 1, unfilt",
          "Single, Cam: 1, unfilt",
          "Single, Cam: 1, unfilt",
          "Single, Cam: 1, unfilt",
          "Single, Cam: 1, unfilt",
          "Single, Cam: 1, unfilt",
          "Single, Cam: 1, unfilt",
          "Single, Cam: 1, unfilt",
          "Single, Cam: 1, unfilt",
          "Single, Cam: 1, unfilt",
          "Single, Cam: 1, unfilt",
          "Single, Cam: 1, unfilt",
          "Single, Cam: 1, unfilt",
          "Single, Cam: 1, unfilt",
          "Single, Cam: 1, unfilt",
          "Single, Cam: 1, unfilt",
          "Single, Cam: 1, unfilt",
          "Single, Cam: 1, unfilt",
          "Single, Cam: 1, unfilt",
          "Single, Cam: 1, unfilt",
          "Single, Cam: 1, unfilt",
          "Single, Cam: 1, unfilt",
          "Single, Cam: 1, unfilt",
          "Single, Cam: 1, unfilt",
          "Single, Cam: 1, unfilt",
          "Single, Cam: 1, unfilt",
          "Single, Cam: 1, unfilt",
          "Single, Cam: 1, unfilt",
          "Single, Cam: 1, unfilt",
          "Single, Cam: 1, unfilt",
          "Single, Cam: 1, unfilt",
          "Single, Cam: 1, unfilt",
          "Single, Cam: 1, unfilt",
          "Single, Cam: 1, unfilt",
          "Single, Cam: 1, unfilt",
          "Single, Cam: 1, unfilt",
          "Single, Cam: 1, unfilt",
          "Single, Cam: 1, unfilt",
          "Single, Cam: 1, unfilt",
          "Single, Cam: 1, unfilt",
          "Single, Cam: 1, unfilt",
          "Single, Cam: 1, unfilt",
          "Single, Cam: 1, unfilt",
          "Single, Cam: 1, unfilt",
          "Single, Cam: 1, unfilt",
          "Single, Cam: 1, unfilt",
          "Single, Cam: 1, unfilt",
          "Single, Cam: 1, unfilt",
          "Single, Cam: 1, unfilt",
          "Single, Cam: 1, unfilt",
          "Single, Cam: 1, unfilt",
          "Single, Cam: 1, unfilt",
          "Single, Cam: 1, unfilt",
          "Single, Cam: 1, unfilt",
          "Single, Cam: 1, unfilt",
          "Single, Cam: 1, unfilt",
          "Single, Cam: 1, unfilt",
          "Single, Cam: 1, unfilt",
          "Single, Cam: 1, unfilt",
          "Single, Cam: 1, unfilt",
          "Single, Cam: 1, unfilt",
          "Single, Cam: 1, unfilt",
          "Single, Cam: 1, unfilt",
          "Single, Cam: 1, unfilt",
          "Single, Cam: 1, unfilt",
          "Single, Cam: 1, unfilt",
          "Single, Cam: 1, unfilt",
          "Single, Cam: 1, unfilt",
          "Single, Cam: 1, unfilt"
         ],
         "x0": " ",
         "xaxis": "x",
         "y": [
          1.427806743937662,
          -1.7004304851896381,
          0.6115055210739959,
          1.7357260986701195,
          0.1054981970059978,
          0.34096913850851657,
          -0.1875474958916996,
          -0.5587062521514294,
          -0.4422006089531667,
          1.328117328572059,
          -0.29374573071142357,
          0.9944598825158147,
          1.5047892074391334,
          1.2450217280448257,
          3.7318110243342257,
          -0.09330640584659199,
          1.3727752386157204,
          -0.1870463568105001,
          1.1717142312937219,
          3.403565975874462,
          -0.868212717123017,
          0.18812295026326828,
          2.208769818195886,
          -1.4493728658022726,
          0.33596350847610434,
          1.1212244236011242,
          0.8519853999555684,
          -0.07033090018357362,
          0.16610715812081858,
          -0.33502957025755603,
          -0.18126596435844128,
          1.27072522241854,
          0.7690402937240931,
          0.7568437275064456,
          -0.00677083674273961,
          0.7928876607560408,
          -0.29480607310658924,
          -0.8094502766249759,
          1.5369256684348473,
          -1.6441360681213801,
          0.9462254548173762,
          3.234245805811367,
          4.705173193711794,
          5.291582909678659,
          4.028258570583932,
          4.0881855408854095,
          6.187582030477908,
          6.194247557406115,
          5.478394146128234,
          5.357651019208191,
          6.052705755118034,
          4.727171265855,
          5.996397158660506,
          4.512483888579389,
          2.653466124638788,
          4.985963399593203,
          4.028352067173259,
          2.8965007881500164,
          4.411436233031151,
          2.442965224139163,
          3.588615261075468,
          4.371020877599446,
          1.956113286347943,
          1.3592154243689265,
          2.236277861348472,
          2.4644912940808745,
          1.3424084516110968,
          2.1074725982703484,
          2.3029596510040045,
          1.6895455380060185,
          0.7665178985189675,
          2.2567633708865977,
          3.8010095834330073,
          4.018541470603388,
          2.9218226804612137,
          2.835623882034421,
          1.4251729831589561,
          0.45467529004881396,
          1.144604657530844,
          1.43434979560773,
          1.434637425511518,
          1.9972076941463968,
          1.1729683917760636,
          -1.825149978494899,
          -2.112186321943028,
          -1.8170483052522428,
          -2.636007908976083,
          -1.3989765980483213,
          -2.884461290449167,
          2.4040474084045975,
          2.548760910938275,
          4.258528653156655,
          3.30339213881602,
          3.2217854501562164,
          4.869908164147195,
          4.541748161885849,
          4.269708378652044,
          4.570486453688505,
          6.017322893169651,
          4.856637579619073,
          4.528373436700886,
          4.671202722865211,
          4.253203879779321,
          4.559082254869862,
          2.893505393807196,
          3.6399559896095233,
          2.7513112442772893,
          3.0004055067406057,
          3.5871578987780395,
          1.2628643545683549,
          4.136895029323983,
          2.2937533670471004,
          3.0073290444522414,
          5.15463235443885,
          3.2988341585490013,
          4.31095887097251,
          4.027579062032383,
          3.076874155690311,
          3.2556869900717715,
          3.623837502765312,
          3.8733998215557164,
          3.3474729099663563,
          5.1437292762939135,
          5.049065923811509,
          4.758376642089289,
          4.040455540083218,
          3.6032716196679835,
          4.692662929635252,
          3.821480886694893,
          4.766340183624844,
          6.697359478699781,
          8.997671763127935,
          8.989416848068055,
          7.782720679530141,
          7.795441838972141,
          9.57312567235215,
          8.302675335190177,
          1.9776063918296038,
          6.481163034800896,
          8.993888553169441,
          10.957665076125434,
          10.14249089870552,
          10.300226300432282,
          6.02058005623829,
          8.174734840417432,
          7.249417981182016,
          6.994764825791823,
          7.735981554281348,
          6.852195880951167,
          9.034098608718583,
          8.49994340143893,
          6.676989015528936,
          8.222628609399674,
          7.320876190392589,
          7.636207836612495,
          6.557380820468751,
          7.9603979844156685,
          7.329366900727505,
          9.035822249353878,
          7.072332557227227,
          5.504411423927681,
          10.021698995337582,
          8.216465321153999,
          7.7131772287184,
          7.891735351671266,
          5.1689104128337595,
          5.546111814595477,
          5.974084817132946,
          7.310301005403967,
          7.612472321079011,
          7.333148163604024,
          8.69751996875631,
          9.104271581524145,
          12.410842095536616,
          4.017815114063993,
          13.096489139434226,
          15.324417428951264,
          12.199086506553293,
          34.274237929360595,
          9.266843312458377,
          5.89968831944436,
          8.807598471165681,
          9.466951423796115,
          11.615261878134588,
          8.988029809355394,
          7.831636457037517,
          7.299262341927668,
          7.078925046073205,
          8.457176911517122,
          7.281158568383096,
          9.376605286602718,
          6.787309266401912,
          7.173398559399997,
          7.8659774334685455,
          7.023886645478874,
          7.383878244042167,
          8.159304913871992,
          8.568975565895645,
          6.394001127452005,
          5.470218913524811,
          6.761534294742852,
          5.56030493791834,
          5.183483842535921,
          5.891403281798266,
          6.131731809724284,
          7.668311819580974,
          5.911261748548152,
          5.768803940519717,
          5.4773351274652065,
          5.09234166099762,
          7.106615877618421,
          5.427150754986755,
          7.108550920274082,
          7.749886972717131,
          6.432678092522197,
          5.622143033423399,
          5.433172633391002,
          6.83308292760474,
          4.804497922364746,
          4.793124143363519,
          6.947451573172269,
          7.557175119154083,
          6.563494209850355,
          3.786099985205913,
          6.780039274384425,
          7.1576840298275615,
          5.191660180569522,
          6.4429533671911,
          3.7914033705513583,
          3.137228191082879,
          3.7761923778317543,
          2.866676997720723,
          1.9989510931033272,
          3.2464060588729,
          3.7528834591055107,
          2.8633482656840124,
          2.57458314834076,
          4.170531713472577,
          3.4345406574506763,
          2.5960828397469293,
          2.6533965237943096,
          1.2924201240581719,
          1.310930613025791,
          0.692845532904613,
          1.3498488871736742,
          0.5100281096154597,
          2.276324125842893,
          1.232031432478745,
          1.075599182170149,
          3.133231596301622,
          0.1410332472639563,
          1.440683408134299,
          1.6659553217758116,
          2.1185169180551457,
          2.4517912205365087,
          -0.38802338056310604,
          0.5144587447167075,
          1.26939309797001,
          1.4263707000670334,
          1.1027346466159798,
          2.0622171986768154,
          2.367531462153913,
          -0.763096799876602,
          -1.5540306362025333,
          -1.6580130607561188,
          -2.701979124754601,
          5.896069217884815,
          -0.6057861005628737,
          -6.471417481084757,
          9.34645277275986,
          8.230226669384095,
          8.815779626320111,
          9.435799606006782,
          11.619436450577298,
          9.010231433907437,
          7.867039605629856,
          5.68261668430863,
          7.110191682825395,
          8.494895281551438,
          7.277375455081739,
          9.37992814479285,
          6.803103567479373,
          7.189701789701808,
          7.853583508577303,
          7.018694716582443,
          5.18401455111884,
          5.760151268447596,
          8.55989204653888,
          3.3497884327637903,
          2.761064430708013,
          6.788846688173376,
          5.609217506517715,
          2.869048927739558,
          3.2169758335717544,
          6.1707161851930135,
          7.693123851974993,
          5.878741631602123,
          5.8163540315933675,
          5.531610625730089,
          5.098887027341115,
          7.156470970059551,
          5.432909010682453,
          7.10542300747377,
          7.741590087560029,
          6.4119689143337135,
          5.646802483849939,
          5.489515446614924,
          6.865756103416956,
          4.815374672507448,
          4.801018726922917,
          6.956467222133244,
          7.612168021888321,
          6.543467801075077,
          3.823825220504603,
          6.796111787596078,
          7.186014509145051,
          5.256963198839435,
          6.486209400046958,
          3.861680149720428,
          3.1454288558177774,
          3.852085303725744,
          2.9261401353591907,
          1.9962677668163795,
          3.3053009435770826,
          3.825735933788323,
          2.9231291201616654,
          2.611238950277442,
          4.1293068550781395,
          3.4043286034529268,
          2.6291527992431463,
          2.6833514201694766,
          1.357784830245219,
          1.3412282561398645,
          0.7261202442979392,
          1.3494543319135812,
          0.5277649910777212,
          2.3446352912341206,
          1.2757732348212483,
          1.1434613738691626,
          3.0772052112030672,
          0.17156223828985975,
          1.4341172697520566,
          1.663529712933896,
          2.1580321986076774,
          2.453624229657101,
          -0.38203122533051975,
          0.5572929605221901,
          1.3285134756684198,
          1.4323594767576455,
          1.1160972119318526,
          2.118431085750546,
          2.383193019240546,
          -0.7948807381536227,
          -1.5433054119108431,
          -1.6689697507676797,
          -2.7256881225806353,
          5.996671505137628,
          -0.6299155348735466,
          -6.513837757634292
         ],
         "y0": " ",
         "yaxis": "y",
         "type": "box"
        }
       ],
       "layout": {
        "template": {
         "data": {
          "barpolar": [
           {
            "marker": {
             "line": {
              "color": "#E5ECF6",
              "width": 0.5
             },
             "pattern": {
              "fillmode": "overlay",
              "size": 10,
              "solidity": 0.2
             }
            },
            "type": "barpolar"
           }
          ],
          "bar": [
           {
            "error_x": {
             "color": "#2a3f5f"
            },
            "error_y": {
             "color": "#2a3f5f"
            },
            "marker": {
             "line": {
              "color": "#E5ECF6",
              "width": 0.5
             },
             "pattern": {
              "fillmode": "overlay",
              "size": 10,
              "solidity": 0.2
             }
            },
            "type": "bar"
           }
          ],
          "carpet": [
           {
            "aaxis": {
             "endlinecolor": "#2a3f5f",
             "gridcolor": "white",
             "linecolor": "white",
             "minorgridcolor": "white",
             "startlinecolor": "#2a3f5f"
            },
            "baxis": {
             "endlinecolor": "#2a3f5f",
             "gridcolor": "white",
             "linecolor": "white",
             "minorgridcolor": "white",
             "startlinecolor": "#2a3f5f"
            },
            "type": "carpet"
           }
          ],
          "choropleth": [
           {
            "colorbar": {
             "outlinewidth": 0,
             "ticks": ""
            },
            "type": "choropleth"
           }
          ],
          "contourcarpet": [
           {
            "colorbar": {
             "outlinewidth": 0,
             "ticks": ""
            },
            "type": "contourcarpet"
           }
          ],
          "contour": [
           {
            "colorbar": {
             "outlinewidth": 0,
             "ticks": ""
            },
            "colorscale": [
             [
              0.0,
              "#0d0887"
             ],
             [
              0.1111111111111111,
              "#46039f"
             ],
             [
              0.2222222222222222,
              "#7201a8"
             ],
             [
              0.3333333333333333,
              "#9c179e"
             ],
             [
              0.4444444444444444,
              "#bd3786"
             ],
             [
              0.5555555555555556,
              "#d8576b"
             ],
             [
              0.6666666666666666,
              "#ed7953"
             ],
             [
              0.7777777777777778,
              "#fb9f3a"
             ],
             [
              0.8888888888888888,
              "#fdca26"
             ],
             [
              1.0,
              "#f0f921"
             ]
            ],
            "type": "contour"
           }
          ],
          "heatmapgl": [
           {
            "colorbar": {
             "outlinewidth": 0,
             "ticks": ""
            },
            "colorscale": [
             [
              0.0,
              "#0d0887"
             ],
             [
              0.1111111111111111,
              "#46039f"
             ],
             [
              0.2222222222222222,
              "#7201a8"
             ],
             [
              0.3333333333333333,
              "#9c179e"
             ],
             [
              0.4444444444444444,
              "#bd3786"
             ],
             [
              0.5555555555555556,
              "#d8576b"
             ],
             [
              0.6666666666666666,
              "#ed7953"
             ],
             [
              0.7777777777777778,
              "#fb9f3a"
             ],
             [
              0.8888888888888888,
              "#fdca26"
             ],
             [
              1.0,
              "#f0f921"
             ]
            ],
            "type": "heatmapgl"
           }
          ],
          "heatmap": [
           {
            "colorbar": {
             "outlinewidth": 0,
             "ticks": ""
            },
            "colorscale": [
             [
              0.0,
              "#0d0887"
             ],
             [
              0.1111111111111111,
              "#46039f"
             ],
             [
              0.2222222222222222,
              "#7201a8"
             ],
             [
              0.3333333333333333,
              "#9c179e"
             ],
             [
              0.4444444444444444,
              "#bd3786"
             ],
             [
              0.5555555555555556,
              "#d8576b"
             ],
             [
              0.6666666666666666,
              "#ed7953"
             ],
             [
              0.7777777777777778,
              "#fb9f3a"
             ],
             [
              0.8888888888888888,
              "#fdca26"
             ],
             [
              1.0,
              "#f0f921"
             ]
            ],
            "type": "heatmap"
           }
          ],
          "histogram2dcontour": [
           {
            "colorbar": {
             "outlinewidth": 0,
             "ticks": ""
            },
            "colorscale": [
             [
              0.0,
              "#0d0887"
             ],
             [
              0.1111111111111111,
              "#46039f"
             ],
             [
              0.2222222222222222,
              "#7201a8"
             ],
             [
              0.3333333333333333,
              "#9c179e"
             ],
             [
              0.4444444444444444,
              "#bd3786"
             ],
             [
              0.5555555555555556,
              "#d8576b"
             ],
             [
              0.6666666666666666,
              "#ed7953"
             ],
             [
              0.7777777777777778,
              "#fb9f3a"
             ],
             [
              0.8888888888888888,
              "#fdca26"
             ],
             [
              1.0,
              "#f0f921"
             ]
            ],
            "type": "histogram2dcontour"
           }
          ],
          "histogram2d": [
           {
            "colorbar": {
             "outlinewidth": 0,
             "ticks": ""
            },
            "colorscale": [
             [
              0.0,
              "#0d0887"
             ],
             [
              0.1111111111111111,
              "#46039f"
             ],
             [
              0.2222222222222222,
              "#7201a8"
             ],
             [
              0.3333333333333333,
              "#9c179e"
             ],
             [
              0.4444444444444444,
              "#bd3786"
             ],
             [
              0.5555555555555556,
              "#d8576b"
             ],
             [
              0.6666666666666666,
              "#ed7953"
             ],
             [
              0.7777777777777778,
              "#fb9f3a"
             ],
             [
              0.8888888888888888,
              "#fdca26"
             ],
             [
              1.0,
              "#f0f921"
             ]
            ],
            "type": "histogram2d"
           }
          ],
          "histogram": [
           {
            "marker": {
             "pattern": {
              "fillmode": "overlay",
              "size": 10,
              "solidity": 0.2
             }
            },
            "type": "histogram"
           }
          ],
          "mesh3d": [
           {
            "colorbar": {
             "outlinewidth": 0,
             "ticks": ""
            },
            "type": "mesh3d"
           }
          ],
          "parcoords": [
           {
            "line": {
             "colorbar": {
              "outlinewidth": 0,
              "ticks": ""
             }
            },
            "type": "parcoords"
           }
          ],
          "pie": [
           {
            "automargin": true,
            "type": "pie"
           }
          ],
          "scatter3d": [
           {
            "line": {
             "colorbar": {
              "outlinewidth": 0,
              "ticks": ""
             }
            },
            "marker": {
             "colorbar": {
              "outlinewidth": 0,
              "ticks": ""
             }
            },
            "type": "scatter3d"
           }
          ],
          "scattercarpet": [
           {
            "marker": {
             "colorbar": {
              "outlinewidth": 0,
              "ticks": ""
             }
            },
            "type": "scattercarpet"
           }
          ],
          "scattergeo": [
           {
            "marker": {
             "colorbar": {
              "outlinewidth": 0,
              "ticks": ""
             }
            },
            "type": "scattergeo"
           }
          ],
          "scattergl": [
           {
            "marker": {
             "colorbar": {
              "outlinewidth": 0,
              "ticks": ""
             }
            },
            "type": "scattergl"
           }
          ],
          "scattermapbox": [
           {
            "marker": {
             "colorbar": {
              "outlinewidth": 0,
              "ticks": ""
             }
            },
            "type": "scattermapbox"
           }
          ],
          "scatterpolargl": [
           {
            "marker": {
             "colorbar": {
              "outlinewidth": 0,
              "ticks": ""
             }
            },
            "type": "scatterpolargl"
           }
          ],
          "scatterpolar": [
           {
            "marker": {
             "colorbar": {
              "outlinewidth": 0,
              "ticks": ""
             }
            },
            "type": "scatterpolar"
           }
          ],
          "scatter": [
           {
            "fillpattern": {
             "fillmode": "overlay",
             "size": 10,
             "solidity": 0.2
            },
            "type": "scatter"
           }
          ],
          "scatterternary": [
           {
            "marker": {
             "colorbar": {
              "outlinewidth": 0,
              "ticks": ""
             }
            },
            "type": "scatterternary"
           }
          ],
          "surface": [
           {
            "colorbar": {
             "outlinewidth": 0,
             "ticks": ""
            },
            "colorscale": [
             [
              0.0,
              "#0d0887"
             ],
             [
              0.1111111111111111,
              "#46039f"
             ],
             [
              0.2222222222222222,
              "#7201a8"
             ],
             [
              0.3333333333333333,
              "#9c179e"
             ],
             [
              0.4444444444444444,
              "#bd3786"
             ],
             [
              0.5555555555555556,
              "#d8576b"
             ],
             [
              0.6666666666666666,
              "#ed7953"
             ],
             [
              0.7777777777777778,
              "#fb9f3a"
             ],
             [
              0.8888888888888888,
              "#fdca26"
             ],
             [
              1.0,
              "#f0f921"
             ]
            ],
            "type": "surface"
           }
          ],
          "table": [
           {
            "cells": {
             "fill": {
              "color": "#EBF0F8"
             },
             "line": {
              "color": "white"
             }
            },
            "header": {
             "fill": {
              "color": "#C8D4E3"
             },
             "line": {
              "color": "white"
             }
            },
            "type": "table"
           }
          ]
         },
         "layout": {
          "annotationdefaults": {
           "arrowcolor": "#2a3f5f",
           "arrowhead": 0,
           "arrowwidth": 1
          },
          "autotypenumbers": "strict",
          "coloraxis": {
           "colorbar": {
            "outlinewidth": 0,
            "ticks": ""
           }
          },
          "colorscale": {
           "diverging": [
            [
             0,
             "#8e0152"
            ],
            [
             0.1,
             "#c51b7d"
            ],
            [
             0.2,
             "#de77ae"
            ],
            [
             0.3,
             "#f1b6da"
            ],
            [
             0.4,
             "#fde0ef"
            ],
            [
             0.5,
             "#f7f7f7"
            ],
            [
             0.6,
             "#e6f5d0"
            ],
            [
             0.7,
             "#b8e186"
            ],
            [
             0.8,
             "#7fbc41"
            ],
            [
             0.9,
             "#4d9221"
            ],
            [
             1,
             "#276419"
            ]
           ],
           "sequential": [
            [
             0.0,
             "#0d0887"
            ],
            [
             0.1111111111111111,
             "#46039f"
            ],
            [
             0.2222222222222222,
             "#7201a8"
            ],
            [
             0.3333333333333333,
             "#9c179e"
            ],
            [
             0.4444444444444444,
             "#bd3786"
            ],
            [
             0.5555555555555556,
             "#d8576b"
            ],
            [
             0.6666666666666666,
             "#ed7953"
            ],
            [
             0.7777777777777778,
             "#fb9f3a"
            ],
            [
             0.8888888888888888,
             "#fdca26"
            ],
            [
             1.0,
             "#f0f921"
            ]
           ],
           "sequentialminus": [
            [
             0.0,
             "#0d0887"
            ],
            [
             0.1111111111111111,
             "#46039f"
            ],
            [
             0.2222222222222222,
             "#7201a8"
            ],
            [
             0.3333333333333333,
             "#9c179e"
            ],
            [
             0.4444444444444444,
             "#bd3786"
            ],
            [
             0.5555555555555556,
             "#d8576b"
            ],
            [
             0.6666666666666666,
             "#ed7953"
            ],
            [
             0.7777777777777778,
             "#fb9f3a"
            ],
            [
             0.8888888888888888,
             "#fdca26"
            ],
            [
             1.0,
             "#f0f921"
            ]
           ]
          },
          "colorway": [
           "#636efa",
           "#EF553B",
           "#00cc96",
           "#ab63fa",
           "#FFA15A",
           "#19d3f3",
           "#FF6692",
           "#B6E880",
           "#FF97FF",
           "#FECB52"
          ],
          "font": {
           "color": "#2a3f5f"
          },
          "geo": {
           "bgcolor": "white",
           "lakecolor": "white",
           "landcolor": "#E5ECF6",
           "showlakes": true,
           "showland": true,
           "subunitcolor": "white"
          },
          "hoverlabel": {
           "align": "left"
          },
          "hovermode": "closest",
          "mapbox": {
           "style": "light"
          },
          "paper_bgcolor": "white",
          "plot_bgcolor": "#E5ECF6",
          "polar": {
           "angularaxis": {
            "gridcolor": "white",
            "linecolor": "white",
            "ticks": ""
           },
           "bgcolor": "#E5ECF6",
           "radialaxis": {
            "gridcolor": "white",
            "linecolor": "white",
            "ticks": ""
           }
          },
          "scene": {
           "xaxis": {
            "backgroundcolor": "#E5ECF6",
            "gridcolor": "white",
            "gridwidth": 2,
            "linecolor": "white",
            "showbackground": true,
            "ticks": "",
            "zerolinecolor": "white"
           },
           "yaxis": {
            "backgroundcolor": "#E5ECF6",
            "gridcolor": "white",
            "gridwidth": 2,
            "linecolor": "white",
            "showbackground": true,
            "ticks": "",
            "zerolinecolor": "white"
           },
           "zaxis": {
            "backgroundcolor": "#E5ECF6",
            "gridcolor": "white",
            "gridwidth": 2,
            "linecolor": "white",
            "showbackground": true,
            "ticks": "",
            "zerolinecolor": "white"
           }
          },
          "shapedefaults": {
           "line": {
            "color": "#2a3f5f"
           }
          },
          "ternary": {
           "aaxis": {
            "gridcolor": "white",
            "linecolor": "white",
            "ticks": ""
           },
           "baxis": {
            "gridcolor": "white",
            "linecolor": "white",
            "ticks": ""
           },
           "bgcolor": "#E5ECF6",
           "caxis": {
            "gridcolor": "white",
            "linecolor": "white",
            "ticks": ""
           }
          },
          "title": {
           "x": 0.05
          },
          "xaxis": {
           "automargin": true,
           "gridcolor": "white",
           "linecolor": "white",
           "ticks": "",
           "title": {
            "standoff": 15
           },
           "zerolinecolor": "white",
           "zerolinewidth": 2
          },
          "yaxis": {
           "automargin": true,
           "gridcolor": "white",
           "linecolor": "white",
           "ticks": "",
           "title": {
            "standoff": 15
           },
           "zerolinecolor": "white",
           "zerolinewidth": 2
          }
         }
        },
        "xaxis": {
         "anchor": "y",
         "domain": [
          0.0,
          1.0
         ],
         "title": {
          "text": "Settings"
         }
        },
        "yaxis": {
         "anchor": "x",
         "domain": [
          0.0,
          1.0
         ],
         "title": {
          "text": "ROM error [deg]"
         }
        },
        "legend": {
         "tracegroupgap": 0
        },
        "title": {
         "text": "Elbow Flexion ROM error, cad = 4.48 deg"
        },
        "boxmode": "group",
        "shapes": [
         {
          "line": {
           "color": "red",
           "dash": "dash"
          },
          "name": "CAD",
          "type": "line",
          "x0": 0,
          "x1": 1,
          "xref": "x domain",
          "y0": 4.48,
          "y1": 4.48,
          "yref": "y"
         },
         {
          "line": {
           "color": "red",
           "dash": "dash"
          },
          "name": "CAD",
          "type": "line",
          "x0": 0,
          "x1": 1,
          "xref": "x domain",
          "y0": -4.48,
          "y1": -4.48,
          "yref": "y"
         }
        ]
       },
       "config": {
        "plotlyServerURL": "https://plot.ly"
       }
      },
      "text/html": [
       "<div>                            <div id=\"f2b48cbe-a6f2-4b2b-ad32-95651efc9acc\" class=\"plotly-graph-div\" style=\"height:525px; width:100%;\"></div>            <script type=\"text/javascript\">                require([\"plotly\"], function(Plotly) {                    window.PLOTLYENV=window.PLOTLYENV || {};                                    if (document.getElementById(\"f2b48cbe-a6f2-4b2b-ad32-95651efc9acc\")) {                    Plotly.newPlot(                        \"f2b48cbe-a6f2-4b2b-ad32-95651efc9acc\",                        [{\"alignmentgroup\":\"True\",\"hovertemplate\":\"id_s_name=%{x}\\u003cbr\\u003eerror=%{y}\\u003cextra\\u003e\\u003c\\u002fextra\\u003e\",\"legendgroup\":\"\",\"marker\":{\"color\":\"#636efa\"},\"name\":\"\",\"notched\":false,\"offsetgroup\":\"\",\"orientation\":\"v\",\"showlegend\":false,\"x\":[\"SimCC, Cams: 1,2,3,4,5\",\"SimCC, Cams: 1,2,3,4,5\",\"SimCC, Cams: 1,2,3,4,5\",\"SimCC, Cams: 1,2,3,4,5\",\"SimCC, Cams: 1,2,3,4,5\",\"SimCC, Cams: 1,2,3,4,5\",\"SimCC, Cams: 1,2,3,4,5\",\"SimCC, Cams: 1,2,3,4,5\",\"SimCC, Cams: 1,2,3,4,5\",\"SimCC, Cams: 1,2,3,4,5\",\"SimCC, Cams: 1,2,3,4,5\",\"SimCC, Cams: 1,2,3,4,5\",\"SimCC, Cams: 1,2,3,4,5\",\"SimCC, Cams: 1,2,3,4,5\",\"SimCC, Cams: 1,2,3,4,5\",\"SimCC, Cams: 1,2,3,4,5\",\"SimCC, Cams: 1,2,3,4,5\",\"SimCC, Cams: 1,2,3,4,5\",\"SimCC, Cams: 1,2,3,4,5\",\"SimCC, Cams: 1,2,3,4,5\",\"SimCC, Cams: 1,2,3,4,5\",\"SimCC, Cams: 1,2,3,4,5\",\"SimCC, Cams: 1,2,3,4,5\",\"SimCC, Cams: 1,2,3,4,5\",\"SimCC, Cams: 1,2,3,4,5\",\"SimCC, Cams: 1,2,3,4,5\",\"SimCC, Cams: 1,2,3,4,5\",\"SimCC, Cams: 1,2,3,4,5\",\"SimCC, Cams: 1,2,3,4,5\",\"SimCC, Cams: 1,2,3,4,5\",\"SimCC, Cams: 1,2,3,4,5\",\"SimCC, Cams: 1,2,3,4,5\",\"SimCC, Cams: 1,2,3,4,5\",\"SimCC, Cams: 1,2,3,4,5\",\"SimCC, Cams: 1,2,3,4,5\",\"SimCC, Cams: 1,2,3,4,5\",\"SimCC, Cams: 1,2,3,4,5\",\"SimCC, Cams: 1,2,3,4,5\",\"SimCC, Cams: 1,2,3,4,5\",\"SimCC, Cams: 1,2,3,4,5\",\"SimCC, Cams: 1,2,3,4,5\",\"SimCC, Cams: 1,2,3,4,5\",\"SimCC, Cams: 1,2,3,4,5\",\"SimCC, Cams: 1,2,3,4,5\",\"SimCC, Cams: 1,2,3,4,5\",\"SimCC, Cams: 1,2,3,4,5\",\"SimCC, Cams: 1,2,3,4,5\",\"SimCC, Cams: 1,2,3,4,5\",\"SimCC, Cams: 1,2,3,4,5\",\"SimCC, Cams: 1,2,3,4,5\",\"SimCC, Cams: 1,2,3,4,5\",\"SimCC, Cams: 1,2,3,4,5\",\"SimCC, Cams: 1,2,3,4,5\",\"SimCC, Cams: 1,2,3,4,5\",\"SimCC, Cams: 1,2,3,4,5\",\"SimCC, Cams: 1,2,3,4,5\",\"SimCC, Cams: 1,2,3,4,5\",\"SimCC, Cams: 1,2,3,4,5\",\"SimCC, Cams: 1,2,3,4,5\",\"SimCC, Cams: 1,2,3,4,5\",\"SimCC, Cams: 1,2,3,4,5\",\"SimCC, Cams: 1,2,3,4,5\",\"SimCC, Cams: 1,2,3,4,5\",\"SimCC, Cams: 1,2,3,4,5\",\"SimCC, Cams: 1,2,3,4,5\",\"SimCC, Cams: 1,2,3,4,5\",\"SimCC, Cams: 1,2,3,4,5\",\"SimCC, Cams: 1,2,3,4,5\",\"SimCC, Cams: 1,2,3,4,5\",\"SimCC, Cams: 1,2,3,4,5\",\"SimCC, Cams: 1,2,3,4,5\",\"SimCC, Cams: 1,2,3,4,5\",\"SimCC, Cams: 1,2,3,4,5\",\"SimCC, Cams: 1,2,3,4,5\",\"SimCC, Cams: 1,2,3,4,5\",\"SimCC, Cams: 1,2,3,4,5\",\"SimCC, Cams: 1,2,3,4,5\",\"SimCC, Cams: 1,2,3,4,5\",\"SimCC, Cams: 1,2,3,4,5\",\"SimCC, Cams: 1,2,3,4,5\",\"SimCC, Cams: 1,2,3,4,5\",\"SimCC, Cams: 1,2,3,4,5\",\"SimCC, Cams: 1,2,3,4,5\",\"SimCC, Cams: 1,2,3,4,5\",\"SimCC, Cams: 1,2,3,4,5\",\"SimCC, Cams: 1,2,3,4,5\",\"SimCC, Cams: 1,2,3,4,5\",\"SimCC, Cams: 1,2,3,4,5\",\"SimCC, Cams: 1,2,3,4,5\",\"Metrabs, Cams: 1,2,3,4,5\",\"Metrabs, Cams: 1,2,3,4,5\",\"Metrabs, Cams: 1,2,3,4,5\",\"Metrabs, Cams: 1,2,3,4,5\",\"Metrabs, Cams: 1,2,3,4,5\",\"Metrabs, Cams: 1,2,3,4,5\",\"Metrabs, Cams: 1,2,3,4,5\",\"Metrabs, Cams: 1,2,3,4,5\",\"Metrabs, Cams: 1,2,3,4,5\",\"Metrabs, Cams: 1,2,3,4,5\",\"Metrabs, Cams: 1,2,3,4,5\",\"Metrabs, Cams: 1,2,3,4,5\",\"Metrabs, Cams: 1,2,3,4,5\",\"Metrabs, Cams: 1,2,3,4,5\",\"Metrabs, Cams: 1,2,3,4,5\",\"Metrabs, Cams: 1,2,3,4,5\",\"Metrabs, Cams: 1,2,3,4,5\",\"Metrabs, Cams: 1,2,3,4,5\",\"Metrabs, Cams: 1,2,3,4,5\",\"Metrabs, Cams: 1,2,3,4,5\",\"Metrabs, Cams: 1,2,3,4,5\",\"Metrabs, Cams: 1,2,3,4,5\",\"Metrabs, Cams: 1,2,3,4,5\",\"Metrabs, Cams: 1,2,3,4,5\",\"Metrabs, Cams: 1,2,3,4,5\",\"Metrabs, Cams: 1,2,3,4,5\",\"Metrabs, Cams: 1,2,3,4,5\",\"Metrabs, Cams: 1,2,3,4,5\",\"Metrabs, Cams: 1,2,3,4,5\",\"Metrabs, Cams: 1,2,3,4,5\",\"Metrabs, Cams: 1,2,3,4,5\",\"Metrabs, Cams: 1,2,3,4,5\",\"Metrabs, Cams: 1,2,3,4,5\",\"Metrabs, Cams: 1,2,3,4,5\",\"Metrabs, Cams: 1,2,3,4,5\",\"Metrabs, Cams: 1,2,3,4,5\",\"Metrabs, Cams: 1,2,3,4,5\",\"Metrabs, Cams: 1,2,3,4,5\",\"Metrabs, Cams: 1,2,3,4,5\",\"Metrabs, Cams: 1,2,3,4,5\",\"Metrabs, Cams: 1,2,3,4,5\",\"Metrabs, Cams: 1,2,3,4,5\",\"Metrabs, Cams: 1,2,3,4,5\",\"Metrabs, Cams: 1,2,3,4,5\",\"Metrabs, Cams: 1,2,3,4,5\",\"Metrabs, Cams: 1,2,3,4,5\",\"Metrabs, Cams: 1,2,3,4,5\",\"Metrabs, Cams: 1,2,3,4,5\",\"Metrabs, Cams: 1,2,3,4,5\",\"Metrabs, Cams: 1,2,3,4,5\",\"Metrabs, Cams: 1,2,3,4,5\",\"Metrabs, Cams: 1,2,3,4,5\",\"Metrabs, Cams: 1,2,3,4,5\",\"Metrabs, Cams: 1,2,3,4,5\",\"Metrabs, Cams: 1,2,3,4,5\",\"Metrabs, Cams: 1,2,3,4,5\",\"Metrabs, Cams: 1,2,3,4,5\",\"Metrabs, Cams: 1,2,3,4,5\",\"Metrabs, Cams: 1,2,3,4,5\",\"Metrabs, Cams: 1,2,3,4,5\",\"Metrabs, Cams: 1,2,3,4,5\",\"Metrabs, Cams: 1,2,3,4,5\",\"Metrabs, Cams: 1,2,3,4,5\",\"Metrabs, Cams: 1,2,3,4,5\",\"Metrabs, Cams: 1,2,3,4,5\",\"Metrabs, Cams: 1,2,3,4,5\",\"Metrabs, Cams: 1,2,3,4,5\",\"Metrabs, Cams: 1,2,3,4,5\",\"Metrabs, Cams: 1,2,3,4,5\",\"Metrabs, Cams: 1,2,3,4,5\",\"Metrabs, Cams: 1,2,3,4,5\",\"Metrabs, Cams: 1,2,3,4,5\",\"Metrabs, Cams: 1,2,3,4,5\",\"Metrabs, Cams: 1,2,3,4,5\",\"Metrabs, Cams: 1,2,3,4,5\",\"Metrabs, Cams: 1,2,3,4,5\",\"Metrabs, Cams: 1,2,3,4,5\",\"Metrabs, Cams: 1,2,3,4,5\",\"Metrabs, Cams: 1,2,3,4,5\",\"Metrabs, Cams: 1,2,3,4,5\",\"Metrabs, Cams: 1,2,3,4,5\",\"Metrabs, Cams: 1,2,3,4,5\",\"Metrabs, Cams: 1,2,3,4,5\",\"Metrabs, Cams: 1,2,3,4,5\",\"Metrabs, Cams: 1,2,3,4,5\",\"Metrabs, Cams: 1,2,3,4,5\",\"Metrabs, Cams: 1,2,3,4,5\",\"Metrabs, Cams: 1,2,3,4,5\",\"Metrabs, Cams: 1,2,3,4,5\",\"Metrabs, Cams: 1,2,3,4,5\",\"Single, Cam: 1, filt\",\"Single, Cam: 1, filt\",\"Single, Cam: 1, filt\",\"Single, Cam: 1, filt\",\"Single, Cam: 1, filt\",\"Single, Cam: 1, filt\",\"Single, Cam: 1, filt\",\"Single, Cam: 1, filt\",\"Single, Cam: 1, filt\",\"Single, Cam: 1, filt\",\"Single, Cam: 1, filt\",\"Single, Cam: 1, filt\",\"Single, Cam: 1, filt\",\"Single, Cam: 1, filt\",\"Single, Cam: 1, filt\",\"Single, Cam: 1, filt\",\"Single, Cam: 1, filt\",\"Single, Cam: 1, filt\",\"Single, Cam: 1, filt\",\"Single, Cam: 1, filt\",\"Single, Cam: 1, filt\",\"Single, Cam: 1, filt\",\"Single, Cam: 1, filt\",\"Single, Cam: 1, filt\",\"Single, Cam: 1, filt\",\"Single, Cam: 1, filt\",\"Single, Cam: 1, filt\",\"Single, Cam: 1, filt\",\"Single, Cam: 1, filt\",\"Single, Cam: 1, filt\",\"Single, Cam: 1, filt\",\"Single, Cam: 1, filt\",\"Single, Cam: 1, filt\",\"Single, Cam: 1, filt\",\"Single, Cam: 1, filt\",\"Single, Cam: 1, filt\",\"Single, Cam: 1, filt\",\"Single, Cam: 1, filt\",\"Single, Cam: 1, filt\",\"Single, Cam: 1, filt\",\"Single, Cam: 1, filt\",\"Single, Cam: 1, filt\",\"Single, Cam: 1, filt\",\"Single, Cam: 1, filt\",\"Single, Cam: 1, filt\",\"Single, Cam: 1, filt\",\"Single, Cam: 1, filt\",\"Single, Cam: 1, filt\",\"Single, Cam: 1, filt\",\"Single, Cam: 1, filt\",\"Single, Cam: 1, filt\",\"Single, Cam: 1, filt\",\"Single, Cam: 1, filt\",\"Single, Cam: 1, filt\",\"Single, Cam: 1, filt\",\"Single, Cam: 1, filt\",\"Single, Cam: 1, filt\",\"Single, Cam: 1, filt\",\"Single, Cam: 1, filt\",\"Single, Cam: 1, filt\",\"Single, Cam: 1, filt\",\"Single, Cam: 1, filt\",\"Single, Cam: 1, filt\",\"Single, Cam: 1, filt\",\"Single, Cam: 1, filt\",\"Single, Cam: 1, filt\",\"Single, Cam: 1, filt\",\"Single, Cam: 1, filt\",\"Single, Cam: 1, filt\",\"Single, Cam: 1, filt\",\"Single, Cam: 1, filt\",\"Single, Cam: 1, filt\",\"Single, Cam: 1, filt\",\"Single, Cam: 1, filt\",\"Single, Cam: 1, filt\",\"Single, Cam: 1, filt\",\"Single, Cam: 1, filt\",\"Single, Cam: 1, filt\",\"Single, Cam: 1, filt\",\"Single, Cam: 1, filt\",\"Single, Cam: 1, filt\",\"Single, Cam: 1, filt\",\"Single, Cam: 1, filt\",\"Single, Cam: 1, filt\",\"Single, Cam: 1, filt\",\"Single, Cam: 1, filt\",\"Single, Cam: 1, filt\",\"Single, Cam: 1, filt\",\"Single, Cam: 1, filt\",\"Single, Cam: 1, filt\",\"Single, Cam: 1, unfilt\",\"Single, Cam: 1, unfilt\",\"Single, Cam: 1, unfilt\",\"Single, Cam: 1, unfilt\",\"Single, Cam: 1, unfilt\",\"Single, Cam: 1, unfilt\",\"Single, Cam: 1, unfilt\",\"Single, Cam: 1, unfilt\",\"Single, Cam: 1, unfilt\",\"Single, Cam: 1, unfilt\",\"Single, Cam: 1, unfilt\",\"Single, Cam: 1, unfilt\",\"Single, Cam: 1, unfilt\",\"Single, Cam: 1, unfilt\",\"Single, Cam: 1, unfilt\",\"Single, Cam: 1, unfilt\",\"Single, Cam: 1, unfilt\",\"Single, Cam: 1, unfilt\",\"Single, Cam: 1, unfilt\",\"Single, Cam: 1, unfilt\",\"Single, Cam: 1, unfilt\",\"Single, Cam: 1, unfilt\",\"Single, Cam: 1, unfilt\",\"Single, Cam: 1, unfilt\",\"Single, Cam: 1, unfilt\",\"Single, Cam: 1, unfilt\",\"Single, Cam: 1, unfilt\",\"Single, Cam: 1, unfilt\",\"Single, Cam: 1, unfilt\",\"Single, Cam: 1, unfilt\",\"Single, Cam: 1, unfilt\",\"Single, Cam: 1, unfilt\",\"Single, Cam: 1, unfilt\",\"Single, Cam: 1, unfilt\",\"Single, Cam: 1, unfilt\",\"Single, Cam: 1, unfilt\",\"Single, Cam: 1, unfilt\",\"Single, Cam: 1, unfilt\",\"Single, Cam: 1, unfilt\",\"Single, Cam: 1, unfilt\",\"Single, Cam: 1, unfilt\",\"Single, Cam: 1, unfilt\",\"Single, Cam: 1, unfilt\",\"Single, Cam: 1, unfilt\",\"Single, Cam: 1, unfilt\",\"Single, Cam: 1, unfilt\",\"Single, Cam: 1, unfilt\",\"Single, Cam: 1, unfilt\",\"Single, Cam: 1, unfilt\",\"Single, Cam: 1, unfilt\",\"Single, Cam: 1, unfilt\",\"Single, Cam: 1, unfilt\",\"Single, Cam: 1, unfilt\",\"Single, Cam: 1, unfilt\",\"Single, Cam: 1, unfilt\",\"Single, Cam: 1, unfilt\",\"Single, Cam: 1, unfilt\",\"Single, Cam: 1, unfilt\",\"Single, Cam: 1, unfilt\",\"Single, Cam: 1, unfilt\",\"Single, Cam: 1, unfilt\",\"Single, Cam: 1, unfilt\",\"Single, Cam: 1, unfilt\",\"Single, Cam: 1, unfilt\",\"Single, Cam: 1, unfilt\",\"Single, Cam: 1, unfilt\",\"Single, Cam: 1, unfilt\",\"Single, Cam: 1, unfilt\",\"Single, Cam: 1, unfilt\",\"Single, Cam: 1, unfilt\",\"Single, Cam: 1, unfilt\",\"Single, Cam: 1, unfilt\",\"Single, Cam: 1, unfilt\",\"Single, Cam: 1, unfilt\",\"Single, Cam: 1, unfilt\",\"Single, Cam: 1, unfilt\",\"Single, Cam: 1, unfilt\",\"Single, Cam: 1, unfilt\",\"Single, Cam: 1, unfilt\",\"Single, Cam: 1, unfilt\",\"Single, Cam: 1, unfilt\",\"Single, Cam: 1, unfilt\",\"Single, Cam: 1, unfilt\",\"Single, Cam: 1, unfilt\",\"Single, Cam: 1, unfilt\",\"Single, Cam: 1, unfilt\",\"Single, Cam: 1, unfilt\",\"Single, Cam: 1, unfilt\",\"Single, Cam: 1, unfilt\",\"Single, Cam: 1, unfilt\"],\"x0\":\" \",\"xaxis\":\"x\",\"y\":[1.427806743937662,-1.7004304851896381,0.6115055210739959,1.7357260986701195,0.1054981970059978,0.34096913850851657,-0.1875474958916996,-0.5587062521514294,-0.4422006089531667,1.328117328572059,-0.29374573071142357,0.9944598825158147,1.5047892074391334,1.2450217280448257,3.7318110243342257,-0.09330640584659199,1.3727752386157204,-0.1870463568105001,1.1717142312937219,3.403565975874462,-0.868212717123017,0.18812295026326828,2.208769818195886,-1.4493728658022726,0.33596350847610434,1.1212244236011242,0.8519853999555684,-0.07033090018357362,0.16610715812081858,-0.33502957025755603,-0.18126596435844128,1.27072522241854,0.7690402937240931,0.7568437275064456,-0.00677083674273961,0.7928876607560408,-0.29480607310658924,-0.8094502766249759,1.5369256684348473,-1.6441360681213801,0.9462254548173762,3.234245805811367,4.705173193711794,5.291582909678659,4.028258570583932,4.0881855408854095,6.187582030477908,6.194247557406115,5.478394146128234,5.357651019208191,6.052705755118034,4.727171265855,5.996397158660506,4.512483888579389,2.653466124638788,4.985963399593203,4.028352067173259,2.8965007881500164,4.411436233031151,2.442965224139163,3.588615261075468,4.371020877599446,1.956113286347943,1.3592154243689265,2.236277861348472,2.4644912940808745,1.3424084516110968,2.1074725982703484,2.3029596510040045,1.6895455380060185,0.7665178985189675,2.2567633708865977,3.8010095834330073,4.018541470603388,2.9218226804612137,2.835623882034421,1.4251729831589561,0.45467529004881396,1.144604657530844,1.43434979560773,1.434637425511518,1.9972076941463968,1.1729683917760636,-1.825149978494899,-2.112186321943028,-1.8170483052522428,-2.636007908976083,-1.3989765980483213,-2.884461290449167,2.4040474084045975,2.548760910938275,4.258528653156655,3.30339213881602,3.2217854501562164,4.869908164147195,4.541748161885849,4.269708378652044,4.570486453688505,6.017322893169651,4.856637579619073,4.528373436700886,4.671202722865211,4.253203879779321,4.559082254869862,2.893505393807196,3.6399559896095233,2.7513112442772893,3.0004055067406057,3.5871578987780395,1.2628643545683549,4.136895029323983,2.2937533670471004,3.0073290444522414,5.15463235443885,3.2988341585490013,4.31095887097251,4.027579062032383,3.076874155690311,3.2556869900717715,3.623837502765312,3.8733998215557164,3.3474729099663563,5.1437292762939135,5.049065923811509,4.758376642089289,4.040455540083218,3.6032716196679835,4.692662929635252,3.821480886694893,4.766340183624844,6.697359478699781,8.997671763127935,8.989416848068055,7.782720679530141,7.795441838972141,9.57312567235215,8.302675335190177,1.9776063918296038,6.481163034800896,8.993888553169441,10.957665076125434,10.14249089870552,10.300226300432282,6.02058005623829,8.174734840417432,7.249417981182016,6.994764825791823,7.735981554281348,6.852195880951167,9.034098608718583,8.49994340143893,6.676989015528936,8.222628609399674,7.320876190392589,7.636207836612495,6.557380820468751,7.9603979844156685,7.329366900727505,9.035822249353878,7.072332557227227,5.504411423927681,10.021698995337582,8.216465321153999,7.7131772287184,7.891735351671266,5.1689104128337595,5.546111814595477,5.974084817132946,7.310301005403967,7.612472321079011,7.333148163604024,8.69751996875631,9.104271581524145,12.410842095536616,4.017815114063993,13.096489139434226,15.324417428951264,12.199086506553293,34.274237929360595,9.266843312458377,5.89968831944436,8.807598471165681,9.466951423796115,11.615261878134588,8.988029809355394,7.831636457037517,7.299262341927668,7.078925046073205,8.457176911517122,7.281158568383096,9.376605286602718,6.787309266401912,7.173398559399997,7.8659774334685455,7.023886645478874,7.383878244042167,8.159304913871992,8.568975565895645,6.394001127452005,5.470218913524811,6.761534294742852,5.56030493791834,5.183483842535921,5.891403281798266,6.131731809724284,7.668311819580974,5.911261748548152,5.768803940519717,5.4773351274652065,5.09234166099762,7.106615877618421,5.427150754986755,7.108550920274082,7.749886972717131,6.432678092522197,5.622143033423399,5.433172633391002,6.83308292760474,4.804497922364746,4.793124143363519,6.947451573172269,7.557175119154083,6.563494209850355,3.786099985205913,6.780039274384425,7.1576840298275615,5.191660180569522,6.4429533671911,3.7914033705513583,3.137228191082879,3.7761923778317543,2.866676997720723,1.9989510931033272,3.2464060588729,3.7528834591055107,2.8633482656840124,2.57458314834076,4.170531713472577,3.4345406574506763,2.5960828397469293,2.6533965237943096,1.2924201240581719,1.310930613025791,0.692845532904613,1.3498488871736742,0.5100281096154597,2.276324125842893,1.232031432478745,1.075599182170149,3.133231596301622,0.1410332472639563,1.440683408134299,1.6659553217758116,2.1185169180551457,2.4517912205365087,-0.38802338056310604,0.5144587447167075,1.26939309797001,1.4263707000670334,1.1027346466159798,2.0622171986768154,2.367531462153913,-0.763096799876602,-1.5540306362025333,-1.6580130607561188,-2.701979124754601,5.896069217884815,-0.6057861005628737,-6.471417481084757,9.34645277275986,8.230226669384095,8.815779626320111,9.435799606006782,11.619436450577298,9.010231433907437,7.867039605629856,5.68261668430863,7.110191682825395,8.494895281551438,7.277375455081739,9.37992814479285,6.803103567479373,7.189701789701808,7.853583508577303,7.018694716582443,5.18401455111884,5.760151268447596,8.55989204653888,3.3497884327637903,2.761064430708013,6.788846688173376,5.609217506517715,2.869048927739558,3.2169758335717544,6.1707161851930135,7.693123851974993,5.878741631602123,5.8163540315933675,5.531610625730089,5.098887027341115,7.156470970059551,5.432909010682453,7.10542300747377,7.741590087560029,6.4119689143337135,5.646802483849939,5.489515446614924,6.865756103416956,4.815374672507448,4.801018726922917,6.956467222133244,7.612168021888321,6.543467801075077,3.823825220504603,6.796111787596078,7.186014509145051,5.256963198839435,6.486209400046958,3.861680149720428,3.1454288558177774,3.852085303725744,2.9261401353591907,1.9962677668163795,3.3053009435770826,3.825735933788323,2.9231291201616654,2.611238950277442,4.1293068550781395,3.4043286034529268,2.6291527992431463,2.6833514201694766,1.357784830245219,1.3412282561398645,0.7261202442979392,1.3494543319135812,0.5277649910777212,2.3446352912341206,1.2757732348212483,1.1434613738691626,3.0772052112030672,0.17156223828985975,1.4341172697520566,1.663529712933896,2.1580321986076774,2.453624229657101,-0.38203122533051975,0.5572929605221901,1.3285134756684198,1.4323594767576455,1.1160972119318526,2.118431085750546,2.383193019240546,-0.7948807381536227,-1.5433054119108431,-1.6689697507676797,-2.7256881225806353,5.996671505137628,-0.6299155348735466,-6.513837757634292],\"y0\":\" \",\"yaxis\":\"y\",\"type\":\"box\"}],                        {\"template\":{\"data\":{\"barpolar\":[{\"marker\":{\"line\":{\"color\":\"#E5ECF6\",\"width\":0.5},\"pattern\":{\"fillmode\":\"overlay\",\"size\":10,\"solidity\":0.2}},\"type\":\"barpolar\"}],\"bar\":[{\"error_x\":{\"color\":\"#2a3f5f\"},\"error_y\":{\"color\":\"#2a3f5f\"},\"marker\":{\"line\":{\"color\":\"#E5ECF6\",\"width\":0.5},\"pattern\":{\"fillmode\":\"overlay\",\"size\":10,\"solidity\":0.2}},\"type\":\"bar\"}],\"carpet\":[{\"aaxis\":{\"endlinecolor\":\"#2a3f5f\",\"gridcolor\":\"white\",\"linecolor\":\"white\",\"minorgridcolor\":\"white\",\"startlinecolor\":\"#2a3f5f\"},\"baxis\":{\"endlinecolor\":\"#2a3f5f\",\"gridcolor\":\"white\",\"linecolor\":\"white\",\"minorgridcolor\":\"white\",\"startlinecolor\":\"#2a3f5f\"},\"type\":\"carpet\"}],\"choropleth\":[{\"colorbar\":{\"outlinewidth\":0,\"ticks\":\"\"},\"type\":\"choropleth\"}],\"contourcarpet\":[{\"colorbar\":{\"outlinewidth\":0,\"ticks\":\"\"},\"type\":\"contourcarpet\"}],\"contour\":[{\"colorbar\":{\"outlinewidth\":0,\"ticks\":\"\"},\"colorscale\":[[0.0,\"#0d0887\"],[0.1111111111111111,\"#46039f\"],[0.2222222222222222,\"#7201a8\"],[0.3333333333333333,\"#9c179e\"],[0.4444444444444444,\"#bd3786\"],[0.5555555555555556,\"#d8576b\"],[0.6666666666666666,\"#ed7953\"],[0.7777777777777778,\"#fb9f3a\"],[0.8888888888888888,\"#fdca26\"],[1.0,\"#f0f921\"]],\"type\":\"contour\"}],\"heatmapgl\":[{\"colorbar\":{\"outlinewidth\":0,\"ticks\":\"\"},\"colorscale\":[[0.0,\"#0d0887\"],[0.1111111111111111,\"#46039f\"],[0.2222222222222222,\"#7201a8\"],[0.3333333333333333,\"#9c179e\"],[0.4444444444444444,\"#bd3786\"],[0.5555555555555556,\"#d8576b\"],[0.6666666666666666,\"#ed7953\"],[0.7777777777777778,\"#fb9f3a\"],[0.8888888888888888,\"#fdca26\"],[1.0,\"#f0f921\"]],\"type\":\"heatmapgl\"}],\"heatmap\":[{\"colorbar\":{\"outlinewidth\":0,\"ticks\":\"\"},\"colorscale\":[[0.0,\"#0d0887\"],[0.1111111111111111,\"#46039f\"],[0.2222222222222222,\"#7201a8\"],[0.3333333333333333,\"#9c179e\"],[0.4444444444444444,\"#bd3786\"],[0.5555555555555556,\"#d8576b\"],[0.6666666666666666,\"#ed7953\"],[0.7777777777777778,\"#fb9f3a\"],[0.8888888888888888,\"#fdca26\"],[1.0,\"#f0f921\"]],\"type\":\"heatmap\"}],\"histogram2dcontour\":[{\"colorbar\":{\"outlinewidth\":0,\"ticks\":\"\"},\"colorscale\":[[0.0,\"#0d0887\"],[0.1111111111111111,\"#46039f\"],[0.2222222222222222,\"#7201a8\"],[0.3333333333333333,\"#9c179e\"],[0.4444444444444444,\"#bd3786\"],[0.5555555555555556,\"#d8576b\"],[0.6666666666666666,\"#ed7953\"],[0.7777777777777778,\"#fb9f3a\"],[0.8888888888888888,\"#fdca26\"],[1.0,\"#f0f921\"]],\"type\":\"histogram2dcontour\"}],\"histogram2d\":[{\"colorbar\":{\"outlinewidth\":0,\"ticks\":\"\"},\"colorscale\":[[0.0,\"#0d0887\"],[0.1111111111111111,\"#46039f\"],[0.2222222222222222,\"#7201a8\"],[0.3333333333333333,\"#9c179e\"],[0.4444444444444444,\"#bd3786\"],[0.5555555555555556,\"#d8576b\"],[0.6666666666666666,\"#ed7953\"],[0.7777777777777778,\"#fb9f3a\"],[0.8888888888888888,\"#fdca26\"],[1.0,\"#f0f921\"]],\"type\":\"histogram2d\"}],\"histogram\":[{\"marker\":{\"pattern\":{\"fillmode\":\"overlay\",\"size\":10,\"solidity\":0.2}},\"type\":\"histogram\"}],\"mesh3d\":[{\"colorbar\":{\"outlinewidth\":0,\"ticks\":\"\"},\"type\":\"mesh3d\"}],\"parcoords\":[{\"line\":{\"colorbar\":{\"outlinewidth\":0,\"ticks\":\"\"}},\"type\":\"parcoords\"}],\"pie\":[{\"automargin\":true,\"type\":\"pie\"}],\"scatter3d\":[{\"line\":{\"colorbar\":{\"outlinewidth\":0,\"ticks\":\"\"}},\"marker\":{\"colorbar\":{\"outlinewidth\":0,\"ticks\":\"\"}},\"type\":\"scatter3d\"}],\"scattercarpet\":[{\"marker\":{\"colorbar\":{\"outlinewidth\":0,\"ticks\":\"\"}},\"type\":\"scattercarpet\"}],\"scattergeo\":[{\"marker\":{\"colorbar\":{\"outlinewidth\":0,\"ticks\":\"\"}},\"type\":\"scattergeo\"}],\"scattergl\":[{\"marker\":{\"colorbar\":{\"outlinewidth\":0,\"ticks\":\"\"}},\"type\":\"scattergl\"}],\"scattermapbox\":[{\"marker\":{\"colorbar\":{\"outlinewidth\":0,\"ticks\":\"\"}},\"type\":\"scattermapbox\"}],\"scatterpolargl\":[{\"marker\":{\"colorbar\":{\"outlinewidth\":0,\"ticks\":\"\"}},\"type\":\"scatterpolargl\"}],\"scatterpolar\":[{\"marker\":{\"colorbar\":{\"outlinewidth\":0,\"ticks\":\"\"}},\"type\":\"scatterpolar\"}],\"scatter\":[{\"fillpattern\":{\"fillmode\":\"overlay\",\"size\":10,\"solidity\":0.2},\"type\":\"scatter\"}],\"scatterternary\":[{\"marker\":{\"colorbar\":{\"outlinewidth\":0,\"ticks\":\"\"}},\"type\":\"scatterternary\"}],\"surface\":[{\"colorbar\":{\"outlinewidth\":0,\"ticks\":\"\"},\"colorscale\":[[0.0,\"#0d0887\"],[0.1111111111111111,\"#46039f\"],[0.2222222222222222,\"#7201a8\"],[0.3333333333333333,\"#9c179e\"],[0.4444444444444444,\"#bd3786\"],[0.5555555555555556,\"#d8576b\"],[0.6666666666666666,\"#ed7953\"],[0.7777777777777778,\"#fb9f3a\"],[0.8888888888888888,\"#fdca26\"],[1.0,\"#f0f921\"]],\"type\":\"surface\"}],\"table\":[{\"cells\":{\"fill\":{\"color\":\"#EBF0F8\"},\"line\":{\"color\":\"white\"}},\"header\":{\"fill\":{\"color\":\"#C8D4E3\"},\"line\":{\"color\":\"white\"}},\"type\":\"table\"}]},\"layout\":{\"annotationdefaults\":{\"arrowcolor\":\"#2a3f5f\",\"arrowhead\":0,\"arrowwidth\":1},\"autotypenumbers\":\"strict\",\"coloraxis\":{\"colorbar\":{\"outlinewidth\":0,\"ticks\":\"\"}},\"colorscale\":{\"diverging\":[[0,\"#8e0152\"],[0.1,\"#c51b7d\"],[0.2,\"#de77ae\"],[0.3,\"#f1b6da\"],[0.4,\"#fde0ef\"],[0.5,\"#f7f7f7\"],[0.6,\"#e6f5d0\"],[0.7,\"#b8e186\"],[0.8,\"#7fbc41\"],[0.9,\"#4d9221\"],[1,\"#276419\"]],\"sequential\":[[0.0,\"#0d0887\"],[0.1111111111111111,\"#46039f\"],[0.2222222222222222,\"#7201a8\"],[0.3333333333333333,\"#9c179e\"],[0.4444444444444444,\"#bd3786\"],[0.5555555555555556,\"#d8576b\"],[0.6666666666666666,\"#ed7953\"],[0.7777777777777778,\"#fb9f3a\"],[0.8888888888888888,\"#fdca26\"],[1.0,\"#f0f921\"]],\"sequentialminus\":[[0.0,\"#0d0887\"],[0.1111111111111111,\"#46039f\"],[0.2222222222222222,\"#7201a8\"],[0.3333333333333333,\"#9c179e\"],[0.4444444444444444,\"#bd3786\"],[0.5555555555555556,\"#d8576b\"],[0.6666666666666666,\"#ed7953\"],[0.7777777777777778,\"#fb9f3a\"],[0.8888888888888888,\"#fdca26\"],[1.0,\"#f0f921\"]]},\"colorway\":[\"#636efa\",\"#EF553B\",\"#00cc96\",\"#ab63fa\",\"#FFA15A\",\"#19d3f3\",\"#FF6692\",\"#B6E880\",\"#FF97FF\",\"#FECB52\"],\"font\":{\"color\":\"#2a3f5f\"},\"geo\":{\"bgcolor\":\"white\",\"lakecolor\":\"white\",\"landcolor\":\"#E5ECF6\",\"showlakes\":true,\"showland\":true,\"subunitcolor\":\"white\"},\"hoverlabel\":{\"align\":\"left\"},\"hovermode\":\"closest\",\"mapbox\":{\"style\":\"light\"},\"paper_bgcolor\":\"white\",\"plot_bgcolor\":\"#E5ECF6\",\"polar\":{\"angularaxis\":{\"gridcolor\":\"white\",\"linecolor\":\"white\",\"ticks\":\"\"},\"bgcolor\":\"#E5ECF6\",\"radialaxis\":{\"gridcolor\":\"white\",\"linecolor\":\"white\",\"ticks\":\"\"}},\"scene\":{\"xaxis\":{\"backgroundcolor\":\"#E5ECF6\",\"gridcolor\":\"white\",\"gridwidth\":2,\"linecolor\":\"white\",\"showbackground\":true,\"ticks\":\"\",\"zerolinecolor\":\"white\"},\"yaxis\":{\"backgroundcolor\":\"#E5ECF6\",\"gridcolor\":\"white\",\"gridwidth\":2,\"linecolor\":\"white\",\"showbackground\":true,\"ticks\":\"\",\"zerolinecolor\":\"white\"},\"zaxis\":{\"backgroundcolor\":\"#E5ECF6\",\"gridcolor\":\"white\",\"gridwidth\":2,\"linecolor\":\"white\",\"showbackground\":true,\"ticks\":\"\",\"zerolinecolor\":\"white\"}},\"shapedefaults\":{\"line\":{\"color\":\"#2a3f5f\"}},\"ternary\":{\"aaxis\":{\"gridcolor\":\"white\",\"linecolor\":\"white\",\"ticks\":\"\"},\"baxis\":{\"gridcolor\":\"white\",\"linecolor\":\"white\",\"ticks\":\"\"},\"bgcolor\":\"#E5ECF6\",\"caxis\":{\"gridcolor\":\"white\",\"linecolor\":\"white\",\"ticks\":\"\"}},\"title\":{\"x\":0.05},\"xaxis\":{\"automargin\":true,\"gridcolor\":\"white\",\"linecolor\":\"white\",\"ticks\":\"\",\"title\":{\"standoff\":15},\"zerolinecolor\":\"white\",\"zerolinewidth\":2},\"yaxis\":{\"automargin\":true,\"gridcolor\":\"white\",\"linecolor\":\"white\",\"ticks\":\"\",\"title\":{\"standoff\":15},\"zerolinecolor\":\"white\",\"zerolinewidth\":2}}},\"xaxis\":{\"anchor\":\"y\",\"domain\":[0.0,1.0],\"title\":{\"text\":\"Settings\"}},\"yaxis\":{\"anchor\":\"x\",\"domain\":[0.0,1.0],\"title\":{\"text\":\"ROM error [deg]\"}},\"legend\":{\"tracegroupgap\":0},\"title\":{\"text\":\"Elbow Flexion ROM error, cad = 4.48 deg\"},\"boxmode\":\"group\",\"shapes\":[{\"line\":{\"color\":\"red\",\"dash\":\"dash\"},\"name\":\"CAD\",\"type\":\"line\",\"x0\":0,\"x1\":1,\"xref\":\"x domain\",\"y0\":4.48,\"y1\":4.48,\"yref\":\"y\"},{\"line\":{\"color\":\"red\",\"dash\":\"dash\"},\"name\":\"CAD\",\"type\":\"line\",\"x0\":0,\"x1\":1,\"xref\":\"x domain\",\"y0\":-4.48,\"y1\":-4.48,\"yref\":\"y\"}]},                        {\"responsive\": true}                    ).then(function(){\n",
       "                            \n",
       "var gd = document.getElementById('f2b48cbe-a6f2-4b2b-ad32-95651efc9acc');\n",
       "var x = new MutationObserver(function (mutations, observer) {{\n",
       "        var display = window.getComputedStyle(gd).display;\n",
       "        if (!display || display === 'none') {{\n",
       "            console.log([gd, 'removed!']);\n",
       "            Plotly.purge(gd);\n",
       "            observer.disconnect();\n",
       "        }}\n",
       "}});\n",
       "\n",
       "// Listen for the removal of the full notebook cells\n",
       "var notebookContainer = gd.closest('#notebook-container');\n",
       "if (notebookContainer) {{\n",
       "    x.observe(notebookContainer, {childList: true});\n",
       "}}\n",
       "\n",
       "// Listen for the clearing of the current output cell\n",
       "var outputEl = gd.closest('.output');\n",
       "if (outputEl) {{\n",
       "    x.observe(outputEl, {childList: true});\n",
       "}}\n",
       "\n",
       "                        })                };                });            </script>        </div>"
      ]
     },
     "metadata": {},
     "output_type": "display_data"
    },
    {
     "data": {
      "application/vnd.plotly.v1+json": {
       "data": [
        {
         "alignmentgroup": "True",
         "hovertemplate": "id_s_name=%{x}<br>error=%{y}<extra></extra>",
         "legendgroup": "",
         "marker": {
          "color": "#636efa"
         },
         "name": "",
         "notched": false,
         "offsetgroup": "",
         "orientation": "v",
         "showlegend": false,
         "x": [
          "SimCC, Cams: 1,2,3,4,5",
          "SimCC, Cams: 1,2,3,4,5",
          "SimCC, Cams: 1,2,3,4,5",
          "SimCC, Cams: 1,2,3,4,5",
          "SimCC, Cams: 1,2,3,4,5",
          "SimCC, Cams: 1,2,3,4,5",
          "SimCC, Cams: 1,2,3,4,5",
          "SimCC, Cams: 1,2,3,4,5",
          "SimCC, Cams: 1,2,3,4,5",
          "SimCC, Cams: 1,2,3,4,5",
          "SimCC, Cams: 1,2,3,4,5",
          "SimCC, Cams: 1,2,3,4,5",
          "SimCC, Cams: 1,2,3,4,5",
          "SimCC, Cams: 1,2,3,4,5",
          "SimCC, Cams: 1,2,3,4,5",
          "SimCC, Cams: 1,2,3,4,5",
          "SimCC, Cams: 1,2,3,4,5",
          "SimCC, Cams: 1,2,3,4,5",
          "SimCC, Cams: 1,2,3,4,5",
          "SimCC, Cams: 1,2,3,4,5",
          "SimCC, Cams: 1,2,3,4,5",
          "SimCC, Cams: 1,2,3,4,5",
          "SimCC, Cams: 1,2,3,4,5",
          "SimCC, Cams: 1,2,3,4,5",
          "SimCC, Cams: 1,2,3,4,5",
          "SimCC, Cams: 1,2,3,4,5",
          "SimCC, Cams: 1,2,3,4,5",
          "SimCC, Cams: 1,2,3,4,5",
          "SimCC, Cams: 1,2,3,4,5",
          "SimCC, Cams: 1,2,3,4,5",
          "SimCC, Cams: 1,2,3,4,5",
          "SimCC, Cams: 1,2,3,4,5",
          "SimCC, Cams: 1,2,3,4,5",
          "SimCC, Cams: 1,2,3,4,5",
          "SimCC, Cams: 1,2,3,4,5",
          "SimCC, Cams: 1,2,3,4,5",
          "SimCC, Cams: 1,2,3,4,5",
          "SimCC, Cams: 1,2,3,4,5",
          "SimCC, Cams: 1,2,3,4,5",
          "SimCC, Cams: 1,2,3,4,5",
          "SimCC, Cams: 1,2,3,4,5",
          "SimCC, Cams: 1,2,3,4,5",
          "SimCC, Cams: 1,2,3,4,5",
          "SimCC, Cams: 1,2,3,4,5",
          "SimCC, Cams: 1,2,3,4,5",
          "SimCC, Cams: 1,2,3,4,5",
          "SimCC, Cams: 1,2,3,4,5",
          "SimCC, Cams: 1,2,3,4,5",
          "SimCC, Cams: 1,2,3,4,5",
          "SimCC, Cams: 1,2,3,4,5",
          "SimCC, Cams: 1,2,3,4,5",
          "SimCC, Cams: 1,2,3,4,5",
          "SimCC, Cams: 1,2,3,4,5",
          "SimCC, Cams: 1,2,3,4,5",
          "SimCC, Cams: 1,2,3,4,5",
          "SimCC, Cams: 1,2,3,4,5",
          "SimCC, Cams: 1,2,3,4,5",
          "SimCC, Cams: 1,2,3,4,5",
          "SimCC, Cams: 1,2,3,4,5",
          "SimCC, Cams: 1,2,3,4,5",
          "SimCC, Cams: 1,2,3,4,5",
          "SimCC, Cams: 1,2,3,4,5",
          "SimCC, Cams: 1,2,3,4,5",
          "SimCC, Cams: 1,2,3,4,5",
          "SimCC, Cams: 1,2,3,4,5",
          "SimCC, Cams: 1,2,3,4,5",
          "SimCC, Cams: 1,2,3,4,5",
          "SimCC, Cams: 1,2,3,4,5",
          "SimCC, Cams: 1,2,3,4,5",
          "SimCC, Cams: 1,2,3,4,5",
          "SimCC, Cams: 1,2,3,4,5",
          "SimCC, Cams: 1,2,3,4,5",
          "SimCC, Cams: 1,2,3,4,5",
          "SimCC, Cams: 1,2,3,4,5",
          "SimCC, Cams: 1,2,3,4,5",
          "SimCC, Cams: 1,2,3,4,5",
          "SimCC, Cams: 1,2,3,4,5",
          "SimCC, Cams: 1,2,3,4,5",
          "SimCC, Cams: 1,2,3,4,5",
          "SimCC, Cams: 1,2,3,4,5",
          "SimCC, Cams: 1,2,3,4,5",
          "SimCC, Cams: 1,2,3,4,5",
          "SimCC, Cams: 1,2,3,4,5",
          "SimCC, Cams: 1,2,3,4,5",
          "SimCC, Cams: 1,2,3,4,5",
          "SimCC, Cams: 1,2,3,4,5",
          "SimCC, Cams: 1,2,3,4,5",
          "SimCC, Cams: 1,2,3,4,5",
          "SimCC, Cams: 1,2,3,4,5",
          "Metrabs, Cams: 1,2,3,4,5",
          "Metrabs, Cams: 1,2,3,4,5",
          "Metrabs, Cams: 1,2,3,4,5",
          "Metrabs, Cams: 1,2,3,4,5",
          "Metrabs, Cams: 1,2,3,4,5",
          "Metrabs, Cams: 1,2,3,4,5",
          "Metrabs, Cams: 1,2,3,4,5",
          "Metrabs, Cams: 1,2,3,4,5",
          "Metrabs, Cams: 1,2,3,4,5",
          "Metrabs, Cams: 1,2,3,4,5",
          "Metrabs, Cams: 1,2,3,4,5",
          "Metrabs, Cams: 1,2,3,4,5",
          "Metrabs, Cams: 1,2,3,4,5",
          "Metrabs, Cams: 1,2,3,4,5",
          "Metrabs, Cams: 1,2,3,4,5",
          "Metrabs, Cams: 1,2,3,4,5",
          "Metrabs, Cams: 1,2,3,4,5",
          "Metrabs, Cams: 1,2,3,4,5",
          "Metrabs, Cams: 1,2,3,4,5",
          "Metrabs, Cams: 1,2,3,4,5",
          "Metrabs, Cams: 1,2,3,4,5",
          "Metrabs, Cams: 1,2,3,4,5",
          "Metrabs, Cams: 1,2,3,4,5",
          "Metrabs, Cams: 1,2,3,4,5",
          "Metrabs, Cams: 1,2,3,4,5",
          "Metrabs, Cams: 1,2,3,4,5",
          "Metrabs, Cams: 1,2,3,4,5",
          "Metrabs, Cams: 1,2,3,4,5",
          "Metrabs, Cams: 1,2,3,4,5",
          "Metrabs, Cams: 1,2,3,4,5",
          "Metrabs, Cams: 1,2,3,4,5",
          "Metrabs, Cams: 1,2,3,4,5",
          "Metrabs, Cams: 1,2,3,4,5",
          "Metrabs, Cams: 1,2,3,4,5",
          "Metrabs, Cams: 1,2,3,4,5",
          "Metrabs, Cams: 1,2,3,4,5",
          "Metrabs, Cams: 1,2,3,4,5",
          "Metrabs, Cams: 1,2,3,4,5",
          "Metrabs, Cams: 1,2,3,4,5",
          "Metrabs, Cams: 1,2,3,4,5",
          "Metrabs, Cams: 1,2,3,4,5",
          "Metrabs, Cams: 1,2,3,4,5",
          "Metrabs, Cams: 1,2,3,4,5",
          "Metrabs, Cams: 1,2,3,4,5",
          "Metrabs, Cams: 1,2,3,4,5",
          "Metrabs, Cams: 1,2,3,4,5",
          "Metrabs, Cams: 1,2,3,4,5",
          "Metrabs, Cams: 1,2,3,4,5",
          "Metrabs, Cams: 1,2,3,4,5",
          "Metrabs, Cams: 1,2,3,4,5",
          "Metrabs, Cams: 1,2,3,4,5",
          "Metrabs, Cams: 1,2,3,4,5",
          "Metrabs, Cams: 1,2,3,4,5",
          "Metrabs, Cams: 1,2,3,4,5",
          "Metrabs, Cams: 1,2,3,4,5",
          "Metrabs, Cams: 1,2,3,4,5",
          "Metrabs, Cams: 1,2,3,4,5",
          "Metrabs, Cams: 1,2,3,4,5",
          "Metrabs, Cams: 1,2,3,4,5",
          "Metrabs, Cams: 1,2,3,4,5",
          "Metrabs, Cams: 1,2,3,4,5",
          "Metrabs, Cams: 1,2,3,4,5",
          "Metrabs, Cams: 1,2,3,4,5",
          "Metrabs, Cams: 1,2,3,4,5",
          "Metrabs, Cams: 1,2,3,4,5",
          "Metrabs, Cams: 1,2,3,4,5",
          "Metrabs, Cams: 1,2,3,4,5",
          "Metrabs, Cams: 1,2,3,4,5",
          "Metrabs, Cams: 1,2,3,4,5",
          "Metrabs, Cams: 1,2,3,4,5",
          "Metrabs, Cams: 1,2,3,4,5",
          "Metrabs, Cams: 1,2,3,4,5",
          "Metrabs, Cams: 1,2,3,4,5",
          "Metrabs, Cams: 1,2,3,4,5",
          "Metrabs, Cams: 1,2,3,4,5",
          "Metrabs, Cams: 1,2,3,4,5",
          "Metrabs, Cams: 1,2,3,4,5",
          "Metrabs, Cams: 1,2,3,4,5",
          "Metrabs, Cams: 1,2,3,4,5",
          "Metrabs, Cams: 1,2,3,4,5",
          "Metrabs, Cams: 1,2,3,4,5",
          "Metrabs, Cams: 1,2,3,4,5",
          "Metrabs, Cams: 1,2,3,4,5",
          "Metrabs, Cams: 1,2,3,4,5",
          "Metrabs, Cams: 1,2,3,4,5",
          "Metrabs, Cams: 1,2,3,4,5",
          "Metrabs, Cams: 1,2,3,4,5",
          "Metrabs, Cams: 1,2,3,4,5",
          "Metrabs, Cams: 1,2,3,4,5",
          "Metrabs, Cams: 1,2,3,4,5",
          "Single, Cam: 1, filt",
          "Single, Cam: 1, filt",
          "Single, Cam: 1, filt",
          "Single, Cam: 1, filt",
          "Single, Cam: 1, filt",
          "Single, Cam: 1, filt",
          "Single, Cam: 1, filt",
          "Single, Cam: 1, filt",
          "Single, Cam: 1, filt",
          "Single, Cam: 1, filt",
          "Single, Cam: 1, filt",
          "Single, Cam: 1, filt",
          "Single, Cam: 1, filt",
          "Single, Cam: 1, filt",
          "Single, Cam: 1, filt",
          "Single, Cam: 1, filt",
          "Single, Cam: 1, filt",
          "Single, Cam: 1, filt",
          "Single, Cam: 1, filt",
          "Single, Cam: 1, filt",
          "Single, Cam: 1, filt",
          "Single, Cam: 1, filt",
          "Single, Cam: 1, filt",
          "Single, Cam: 1, filt",
          "Single, Cam: 1, filt",
          "Single, Cam: 1, filt",
          "Single, Cam: 1, filt",
          "Single, Cam: 1, filt",
          "Single, Cam: 1, filt",
          "Single, Cam: 1, filt",
          "Single, Cam: 1, filt",
          "Single, Cam: 1, filt",
          "Single, Cam: 1, filt",
          "Single, Cam: 1, filt",
          "Single, Cam: 1, filt",
          "Single, Cam: 1, filt",
          "Single, Cam: 1, filt",
          "Single, Cam: 1, filt",
          "Single, Cam: 1, filt",
          "Single, Cam: 1, filt",
          "Single, Cam: 1, filt",
          "Single, Cam: 1, filt",
          "Single, Cam: 1, filt",
          "Single, Cam: 1, filt",
          "Single, Cam: 1, filt",
          "Single, Cam: 1, filt",
          "Single, Cam: 1, filt",
          "Single, Cam: 1, filt",
          "Single, Cam: 1, filt",
          "Single, Cam: 1, filt",
          "Single, Cam: 1, filt",
          "Single, Cam: 1, filt",
          "Single, Cam: 1, filt",
          "Single, Cam: 1, filt",
          "Single, Cam: 1, filt",
          "Single, Cam: 1, filt",
          "Single, Cam: 1, filt",
          "Single, Cam: 1, filt",
          "Single, Cam: 1, filt",
          "Single, Cam: 1, filt",
          "Single, Cam: 1, filt",
          "Single, Cam: 1, filt",
          "Single, Cam: 1, filt",
          "Single, Cam: 1, filt",
          "Single, Cam: 1, filt",
          "Single, Cam: 1, filt",
          "Single, Cam: 1, filt",
          "Single, Cam: 1, filt",
          "Single, Cam: 1, filt",
          "Single, Cam: 1, filt",
          "Single, Cam: 1, filt",
          "Single, Cam: 1, filt",
          "Single, Cam: 1, filt",
          "Single, Cam: 1, filt",
          "Single, Cam: 1, filt",
          "Single, Cam: 1, filt",
          "Single, Cam: 1, filt",
          "Single, Cam: 1, filt",
          "Single, Cam: 1, filt",
          "Single, Cam: 1, filt",
          "Single, Cam: 1, filt",
          "Single, Cam: 1, filt",
          "Single, Cam: 1, filt",
          "Single, Cam: 1, filt",
          "Single, Cam: 1, filt",
          "Single, Cam: 1, filt",
          "Single, Cam: 1, filt",
          "Single, Cam: 1, filt",
          "Single, Cam: 1, filt",
          "Single, Cam: 1, filt",
          "Single, Cam: 1, unfilt",
          "Single, Cam: 1, unfilt",
          "Single, Cam: 1, unfilt",
          "Single, Cam: 1, unfilt",
          "Single, Cam: 1, unfilt",
          "Single, Cam: 1, unfilt",
          "Single, Cam: 1, unfilt",
          "Single, Cam: 1, unfilt",
          "Single, Cam: 1, unfilt",
          "Single, Cam: 1, unfilt",
          "Single, Cam: 1, unfilt",
          "Single, Cam: 1, unfilt",
          "Single, Cam: 1, unfilt",
          "Single, Cam: 1, unfilt",
          "Single, Cam: 1, unfilt",
          "Single, Cam: 1, unfilt",
          "Single, Cam: 1, unfilt",
          "Single, Cam: 1, unfilt",
          "Single, Cam: 1, unfilt",
          "Single, Cam: 1, unfilt",
          "Single, Cam: 1, unfilt",
          "Single, Cam: 1, unfilt",
          "Single, Cam: 1, unfilt",
          "Single, Cam: 1, unfilt",
          "Single, Cam: 1, unfilt",
          "Single, Cam: 1, unfilt",
          "Single, Cam: 1, unfilt",
          "Single, Cam: 1, unfilt",
          "Single, Cam: 1, unfilt",
          "Single, Cam: 1, unfilt",
          "Single, Cam: 1, unfilt",
          "Single, Cam: 1, unfilt",
          "Single, Cam: 1, unfilt",
          "Single, Cam: 1, unfilt",
          "Single, Cam: 1, unfilt",
          "Single, Cam: 1, unfilt",
          "Single, Cam: 1, unfilt",
          "Single, Cam: 1, unfilt",
          "Single, Cam: 1, unfilt",
          "Single, Cam: 1, unfilt",
          "Single, Cam: 1, unfilt",
          "Single, Cam: 1, unfilt",
          "Single, Cam: 1, unfilt",
          "Single, Cam: 1, unfilt",
          "Single, Cam: 1, unfilt",
          "Single, Cam: 1, unfilt",
          "Single, Cam: 1, unfilt",
          "Single, Cam: 1, unfilt",
          "Single, Cam: 1, unfilt",
          "Single, Cam: 1, unfilt",
          "Single, Cam: 1, unfilt",
          "Single, Cam: 1, unfilt",
          "Single, Cam: 1, unfilt",
          "Single, Cam: 1, unfilt",
          "Single, Cam: 1, unfilt",
          "Single, Cam: 1, unfilt",
          "Single, Cam: 1, unfilt",
          "Single, Cam: 1, unfilt",
          "Single, Cam: 1, unfilt",
          "Single, Cam: 1, unfilt",
          "Single, Cam: 1, unfilt",
          "Single, Cam: 1, unfilt",
          "Single, Cam: 1, unfilt",
          "Single, Cam: 1, unfilt",
          "Single, Cam: 1, unfilt",
          "Single, Cam: 1, unfilt",
          "Single, Cam: 1, unfilt",
          "Single, Cam: 1, unfilt",
          "Single, Cam: 1, unfilt",
          "Single, Cam: 1, unfilt",
          "Single, Cam: 1, unfilt",
          "Single, Cam: 1, unfilt",
          "Single, Cam: 1, unfilt",
          "Single, Cam: 1, unfilt",
          "Single, Cam: 1, unfilt",
          "Single, Cam: 1, unfilt",
          "Single, Cam: 1, unfilt",
          "Single, Cam: 1, unfilt",
          "Single, Cam: 1, unfilt",
          "Single, Cam: 1, unfilt",
          "Single, Cam: 1, unfilt",
          "Single, Cam: 1, unfilt",
          "Single, Cam: 1, unfilt",
          "Single, Cam: 1, unfilt",
          "Single, Cam: 1, unfilt",
          "Single, Cam: 1, unfilt",
          "Single, Cam: 1, unfilt",
          "Single, Cam: 1, unfilt",
          "Single, Cam: 1, unfilt",
          "Single, Cam: 1, unfilt"
         ],
         "x0": " ",
         "xaxis": "x",
         "y": [
          1.1268114982438195,
          1.026373983364938,
          1.0531592818029805,
          2.8708861945461726,
          1.6024078676317137,
          2.640264046046596,
          2.9595494757274503,
          3.488883664795246,
          2.3905799199106488,
          3.041925326999322,
          0.9204009057798805,
          0.08362518119049156,
          -0.43467844379646536,
          1.9967425059867498,
          1.6962171202698801,
          -0.38568287999369044,
          -0.2808929139968472,
          -0.3366808586245296,
          1.870489875558715,
          -2.9174379076991754,
          -1.4269676351038325,
          1.5311439808382847,
          0.04006864663143566,
          2.173422038364613,
          0.64789503629086,
          -0.014926256779835358,
          1.5760499296760742,
          -0.6063199962326128,
          1.2100135304111308,
          -1.880002226357836,
          1.1270900565620363,
          0.4135543268469521,
          2.3909425456452604,
          2.7483842766984288,
          2.991851509379388,
          2.1245437359549473,
          2.3118323145598034,
          0.8292424700046084,
          2.198125637979738,
          3.380974712981237,
          0.7720019900471493,
          -0.4278530823336411,
          4.046257733365138,
          -3.3966407258775098,
          -3.6484338563383303,
          -2.47541279842157,
          -1.695309938283611,
          1.7683174718770402,
          -0.705303826098047,
          -0.8800500500479599,
          -1.069673190137411,
          -1.4806953043062643,
          -2.3642876629094567,
          -0.021711800780896812,
          -2.153135212364252,
          0.07971760002781177,
          -0.8231324110851368,
          -1.8482020979165041,
          -1.986630737685096,
          -0.08548089362909879,
          0.4264035412205421,
          0.23607827490745115,
          2.0167556617111893,
          -0.26352356598028503,
          1.1916110129790385,
          4.10426742631141,
          0.9472455123118652,
          0.8450731016455763,
          1.9715925026233763,
          -1.0516358535514172,
          -0.014835249135874307,
          -1.2018249784197579,
          -0.3455852561186899,
          0.39274138785399487,
          0.8316432693503337,
          -0.5068947082360155,
          -0.3920817323581846,
          0.8215428599441464,
          -1.874031669140809,
          -0.23767763064470385,
          -2.0166631752317543,
          -1.8639196288641935,
          0.39139302037224405,
          3.6228198779291247,
          3.1597829039969483,
          2.372898868463857,
          4.457165501370021,
          1.9624225366990653,
          0.3063980969005726,
          -0.6263651188911386,
          -1.3944712284473937,
          -1.4109490983743609,
          -0.5850498648569875,
          -1.860691176625848,
          -0.024247402466690732,
          -0.16564793642357198,
          -0.9780012052479108,
          -2.5110712821946803,
          -2.395696475387946,
          -2.0221825158704805,
          -2.774774824515204,
          -3.2692811552820182,
          -1.378517276577765,
          -2.879552653475424,
          -3.598607424206591,
          -3.9810603207559474,
          -2.118891595051821,
          -2.8796005102616946,
          -3.777580714985878,
          -3.5660049757930388,
          -1.1233748373782675,
          -0.3386704375702199,
          -0.763832872916943,
          -2.070971829827316,
          -1.3601499763425255,
          -1.3238595081423024,
          -1.9007778244926488,
          0.3424002412378756,
          -2.306929751937578,
          0.7939567958705176,
          -3.4548296773209017,
          -0.3170218710860079,
          0.500220126405233,
          0.26695008959420613,
          0.2938225527588425,
          -0.5590287464715328,
          0.22041545450594077,
          -1.1305212074551665,
          0.8088211159811641,
          -0.32714884250019965,
          -0.15656591016712623,
          2.2151351482199346,
          -3.3101287720213493,
          -3.6831419998355246,
          -1.4572987922682943,
          -1.0544118303028955,
          -1.4256156559863182,
          -1.248008082069255,
          -0.2779425160873946,
          -1.9344562770117335,
          -0.8306106363520451,
          3.279726363550328,
          -2.475423921524267,
          -2.564491632390982,
          -2.1412097718253653,
          -0.698754257844971,
          -3.116606756008284,
          -4.117177484671244,
          -2.647858189763735,
          -1.0140765110161496,
          -2.092847464624637,
          -1.6488088444386324,
          -0.05472484470008559,
          -3.0051500623562064,
          2.071675553851288,
          1.0553288860329282,
          -0.5095093979212725,
          3.057951185394318,
          -0.6820746906337748,
          0.003391916095812538,
          -0.827668174449863,
          -1.1560182398392567,
          -0.010344270033291383,
          0.09723346759313804,
          -1.0176734095852527,
          -0.22704605332242725,
          -0.04554415325679072,
          -1.9107761331996136,
          -1.5144793284797782,
          -1.173841006558834,
          -2.4219024552419435,
          -1.7855118394778948,
          9.364693447326617,
          15.586590357204901,
          -0.3397099431569543,
          -0.6090108763641524,
          -4.146746786518385,
          1.823898189428558,
          -2.349672423587755,
          3.170991696469578,
          -2.3715969190541344,
          -1.1637754935388327,
          -1.7898336712817533,
          -2.3806184166822972,
          0.8621964909705591,
          -0.4905596522048003,
          -1.8656373497836483,
          -2.1133309513966405,
          -3.3204783219306586,
          -2.3486383388466856,
          -3.9613554307932937,
          -4.138453413527602,
          -2.7159797904499094,
          -2.883908965064847,
          -2.2394475022541362,
          -4.1117326294820264,
          -1.6490070875031435,
          -2.6087640024613736,
          -3.0582278881105616,
          -2.3094589926680484,
          -3.1038014124537363,
          -2.0518921203447342,
          -2.22271093485886,
          -3.3791717770198235,
          -3.21440851926577,
          -3.0529129407016384,
          -3.250420029001352,
          -1.3863511935762733,
          -3.7109734548562194,
          -2.3386944590487744,
          -4.150019851502001,
          -2.407066643888465,
          -1.6138734786546738,
          -1.0899834863553468,
          -1.7702894706262586,
          -3.377163920702873,
          -2.3901086199162913,
          -1.5895341344123952,
          -0.7761573351152492,
          -2.4213737954354326,
          -4.505618943642706,
          -1.081756951126053,
          -6.002226519700277,
          -5.547257713551357,
          -3.737917012543157,
          -2.930925979359325,
          -3.309843619487412,
          -3.897268514568028,
          -2.1953499167265096,
          -3.032329167718018,
          -3.058756389028491,
          -4.246570413221153,
          -1.800116658078014,
          -3.9120024200736445,
          -2.440684619433938,
          -2.629933638584631,
          -4.064963578431005,
          -3.7768057231622527,
          -3.829528202184076,
          -1.9605519408732914,
          -3.4019578634332013,
          -2.169195723190769,
          -2.05754367170358,
          -3.4857250938654025,
          -0.5773631204970654,
          -1.3814178321972912,
          -1.406226551290194,
          -1.3500332325783648,
          -1.5139718926411507,
          -1.6372683295102455,
          -2.0469319453663033,
          -2.7463524373708714,
          -3.1407744394528976,
          -3.0010676977610364,
          -5.059072868521396,
          -4.36683051413253,
          -2.202580874554527,
          -2.5532221511128634,
          -3.0703408257679095,
          -3.1823371647891157,
          -3.354808085322017,
          -3.590262846776126,
          -0.8088688604598033,
          -0.06843121524546095,
          -0.34337464769609516,
          -0.6408468076551195,
          -1.9183364493014352,
          -0.2484973983280802,
          -1.6144584953277672,
          3.219213938488222,
          -3.086231243482024,
          -1.0483157109909707,
          -1.7342860309840102,
          -2.3488912031004516,
          0.8787838974407955,
          -0.5209401855552643,
          -0.772653689537106,
          -2.1153501308701093,
          -3.30725606190212,
          -2.315873516322258,
          -3.9471443433018756,
          -4.170363663500331,
          -2.735293240574202,
          -2.8658841848783205,
          -2.1619417998025208,
          -3.5215544941534453,
          -0.9771657641307622,
          -2.608346065597977,
          -2.5274569107653106,
          -1.2457514197439086,
          -3.105330115479829,
          -2.061734761830297,
          -1.4751141387095974,
          -2.4810397708283274,
          -3.166695372073445,
          -3.010816690649791,
          -3.2005380840387017,
          -1.362516661845433,
          -3.732385872632168,
          -2.3041399574646255,
          -4.1054552922963365,
          -2.400831213215688,
          -1.6524827145965253,
          -1.0608443992433163,
          -1.7377246849321761,
          -3.3560049097236537,
          -2.390122487152216,
          -1.5934965697704209,
          -0.7747825391194653,
          -2.4061114406494446,
          -4.464206484807753,
          -1.0768309639647902,
          -5.942866804723713,
          -5.535450970372225,
          -3.639630790733308,
          -2.895542141261785,
          -3.2958516398898174,
          -3.7792834345362443,
          -2.151765397086445,
          -2.862334369862746,
          -2.99229427984574,
          -4.139135228150349,
          -1.74549172890509,
          -3.8762645712166504,
          -2.4328724910177795,
          -2.6004651198579003,
          -4.016076948006663,
          -3.714744403611801,
          -3.742765746305483,
          -1.8703370520649645,
          -3.3424036712017346,
          -2.126382342345632,
          -2.0355914590137445,
          -3.4541763963261576,
          -0.5773132023242715,
          -1.3057515101772807,
          -1.3479269310890571,
          -1.2701276286852914,
          -1.4776388537776413,
          -1.560053161834631,
          -2.02861198199514,
          -2.68761147972648,
          -3.0508686788428045,
          -2.98948901592003,
          -5.022781753401626,
          -4.278754310810975,
          -2.1545621242772612,
          -2.4874245180860095,
          -3.0183685418753887,
          -3.10909949204391,
          -3.3108937568346826,
          -3.526752191090743,
          -0.7456915261556061,
          -0.038493441581127996,
          -0.36818248686409305,
          -0.5252366981879852,
          -1.9455084915184955,
          -0.1744724862840279,
          -1.5150138075357091
         ],
         "y0": " ",
         "yaxis": "y",
         "type": "box"
        }
       ],
       "layout": {
        "template": {
         "data": {
          "barpolar": [
           {
            "marker": {
             "line": {
              "color": "#E5ECF6",
              "width": 0.5
             },
             "pattern": {
              "fillmode": "overlay",
              "size": 10,
              "solidity": 0.2
             }
            },
            "type": "barpolar"
           }
          ],
          "bar": [
           {
            "error_x": {
             "color": "#2a3f5f"
            },
            "error_y": {
             "color": "#2a3f5f"
            },
            "marker": {
             "line": {
              "color": "#E5ECF6",
              "width": 0.5
             },
             "pattern": {
              "fillmode": "overlay",
              "size": 10,
              "solidity": 0.2
             }
            },
            "type": "bar"
           }
          ],
          "carpet": [
           {
            "aaxis": {
             "endlinecolor": "#2a3f5f",
             "gridcolor": "white",
             "linecolor": "white",
             "minorgridcolor": "white",
             "startlinecolor": "#2a3f5f"
            },
            "baxis": {
             "endlinecolor": "#2a3f5f",
             "gridcolor": "white",
             "linecolor": "white",
             "minorgridcolor": "white",
             "startlinecolor": "#2a3f5f"
            },
            "type": "carpet"
           }
          ],
          "choropleth": [
           {
            "colorbar": {
             "outlinewidth": 0,
             "ticks": ""
            },
            "type": "choropleth"
           }
          ],
          "contourcarpet": [
           {
            "colorbar": {
             "outlinewidth": 0,
             "ticks": ""
            },
            "type": "contourcarpet"
           }
          ],
          "contour": [
           {
            "colorbar": {
             "outlinewidth": 0,
             "ticks": ""
            },
            "colorscale": [
             [
              0.0,
              "#0d0887"
             ],
             [
              0.1111111111111111,
              "#46039f"
             ],
             [
              0.2222222222222222,
              "#7201a8"
             ],
             [
              0.3333333333333333,
              "#9c179e"
             ],
             [
              0.4444444444444444,
              "#bd3786"
             ],
             [
              0.5555555555555556,
              "#d8576b"
             ],
             [
              0.6666666666666666,
              "#ed7953"
             ],
             [
              0.7777777777777778,
              "#fb9f3a"
             ],
             [
              0.8888888888888888,
              "#fdca26"
             ],
             [
              1.0,
              "#f0f921"
             ]
            ],
            "type": "contour"
           }
          ],
          "heatmapgl": [
           {
            "colorbar": {
             "outlinewidth": 0,
             "ticks": ""
            },
            "colorscale": [
             [
              0.0,
              "#0d0887"
             ],
             [
              0.1111111111111111,
              "#46039f"
             ],
             [
              0.2222222222222222,
              "#7201a8"
             ],
             [
              0.3333333333333333,
              "#9c179e"
             ],
             [
              0.4444444444444444,
              "#bd3786"
             ],
             [
              0.5555555555555556,
              "#d8576b"
             ],
             [
              0.6666666666666666,
              "#ed7953"
             ],
             [
              0.7777777777777778,
              "#fb9f3a"
             ],
             [
              0.8888888888888888,
              "#fdca26"
             ],
             [
              1.0,
              "#f0f921"
             ]
            ],
            "type": "heatmapgl"
           }
          ],
          "heatmap": [
           {
            "colorbar": {
             "outlinewidth": 0,
             "ticks": ""
            },
            "colorscale": [
             [
              0.0,
              "#0d0887"
             ],
             [
              0.1111111111111111,
              "#46039f"
             ],
             [
              0.2222222222222222,
              "#7201a8"
             ],
             [
              0.3333333333333333,
              "#9c179e"
             ],
             [
              0.4444444444444444,
              "#bd3786"
             ],
             [
              0.5555555555555556,
              "#d8576b"
             ],
             [
              0.6666666666666666,
              "#ed7953"
             ],
             [
              0.7777777777777778,
              "#fb9f3a"
             ],
             [
              0.8888888888888888,
              "#fdca26"
             ],
             [
              1.0,
              "#f0f921"
             ]
            ],
            "type": "heatmap"
           }
          ],
          "histogram2dcontour": [
           {
            "colorbar": {
             "outlinewidth": 0,
             "ticks": ""
            },
            "colorscale": [
             [
              0.0,
              "#0d0887"
             ],
             [
              0.1111111111111111,
              "#46039f"
             ],
             [
              0.2222222222222222,
              "#7201a8"
             ],
             [
              0.3333333333333333,
              "#9c179e"
             ],
             [
              0.4444444444444444,
              "#bd3786"
             ],
             [
              0.5555555555555556,
              "#d8576b"
             ],
             [
              0.6666666666666666,
              "#ed7953"
             ],
             [
              0.7777777777777778,
              "#fb9f3a"
             ],
             [
              0.8888888888888888,
              "#fdca26"
             ],
             [
              1.0,
              "#f0f921"
             ]
            ],
            "type": "histogram2dcontour"
           }
          ],
          "histogram2d": [
           {
            "colorbar": {
             "outlinewidth": 0,
             "ticks": ""
            },
            "colorscale": [
             [
              0.0,
              "#0d0887"
             ],
             [
              0.1111111111111111,
              "#46039f"
             ],
             [
              0.2222222222222222,
              "#7201a8"
             ],
             [
              0.3333333333333333,
              "#9c179e"
             ],
             [
              0.4444444444444444,
              "#bd3786"
             ],
             [
              0.5555555555555556,
              "#d8576b"
             ],
             [
              0.6666666666666666,
              "#ed7953"
             ],
             [
              0.7777777777777778,
              "#fb9f3a"
             ],
             [
              0.8888888888888888,
              "#fdca26"
             ],
             [
              1.0,
              "#f0f921"
             ]
            ],
            "type": "histogram2d"
           }
          ],
          "histogram": [
           {
            "marker": {
             "pattern": {
              "fillmode": "overlay",
              "size": 10,
              "solidity": 0.2
             }
            },
            "type": "histogram"
           }
          ],
          "mesh3d": [
           {
            "colorbar": {
             "outlinewidth": 0,
             "ticks": ""
            },
            "type": "mesh3d"
           }
          ],
          "parcoords": [
           {
            "line": {
             "colorbar": {
              "outlinewidth": 0,
              "ticks": ""
             }
            },
            "type": "parcoords"
           }
          ],
          "pie": [
           {
            "automargin": true,
            "type": "pie"
           }
          ],
          "scatter3d": [
           {
            "line": {
             "colorbar": {
              "outlinewidth": 0,
              "ticks": ""
             }
            },
            "marker": {
             "colorbar": {
              "outlinewidth": 0,
              "ticks": ""
             }
            },
            "type": "scatter3d"
           }
          ],
          "scattercarpet": [
           {
            "marker": {
             "colorbar": {
              "outlinewidth": 0,
              "ticks": ""
             }
            },
            "type": "scattercarpet"
           }
          ],
          "scattergeo": [
           {
            "marker": {
             "colorbar": {
              "outlinewidth": 0,
              "ticks": ""
             }
            },
            "type": "scattergeo"
           }
          ],
          "scattergl": [
           {
            "marker": {
             "colorbar": {
              "outlinewidth": 0,
              "ticks": ""
             }
            },
            "type": "scattergl"
           }
          ],
          "scattermapbox": [
           {
            "marker": {
             "colorbar": {
              "outlinewidth": 0,
              "ticks": ""
             }
            },
            "type": "scattermapbox"
           }
          ],
          "scatterpolargl": [
           {
            "marker": {
             "colorbar": {
              "outlinewidth": 0,
              "ticks": ""
             }
            },
            "type": "scatterpolargl"
           }
          ],
          "scatterpolar": [
           {
            "marker": {
             "colorbar": {
              "outlinewidth": 0,
              "ticks": ""
             }
            },
            "type": "scatterpolar"
           }
          ],
          "scatter": [
           {
            "fillpattern": {
             "fillmode": "overlay",
             "size": 10,
             "solidity": 0.2
            },
            "type": "scatter"
           }
          ],
          "scatterternary": [
           {
            "marker": {
             "colorbar": {
              "outlinewidth": 0,
              "ticks": ""
             }
            },
            "type": "scatterternary"
           }
          ],
          "surface": [
           {
            "colorbar": {
             "outlinewidth": 0,
             "ticks": ""
            },
            "colorscale": [
             [
              0.0,
              "#0d0887"
             ],
             [
              0.1111111111111111,
              "#46039f"
             ],
             [
              0.2222222222222222,
              "#7201a8"
             ],
             [
              0.3333333333333333,
              "#9c179e"
             ],
             [
              0.4444444444444444,
              "#bd3786"
             ],
             [
              0.5555555555555556,
              "#d8576b"
             ],
             [
              0.6666666666666666,
              "#ed7953"
             ],
             [
              0.7777777777777778,
              "#fb9f3a"
             ],
             [
              0.8888888888888888,
              "#fdca26"
             ],
             [
              1.0,
              "#f0f921"
             ]
            ],
            "type": "surface"
           }
          ],
          "table": [
           {
            "cells": {
             "fill": {
              "color": "#EBF0F8"
             },
             "line": {
              "color": "white"
             }
            },
            "header": {
             "fill": {
              "color": "#C8D4E3"
             },
             "line": {
              "color": "white"
             }
            },
            "type": "table"
           }
          ]
         },
         "layout": {
          "annotationdefaults": {
           "arrowcolor": "#2a3f5f",
           "arrowhead": 0,
           "arrowwidth": 1
          },
          "autotypenumbers": "strict",
          "coloraxis": {
           "colorbar": {
            "outlinewidth": 0,
            "ticks": ""
           }
          },
          "colorscale": {
           "diverging": [
            [
             0,
             "#8e0152"
            ],
            [
             0.1,
             "#c51b7d"
            ],
            [
             0.2,
             "#de77ae"
            ],
            [
             0.3,
             "#f1b6da"
            ],
            [
             0.4,
             "#fde0ef"
            ],
            [
             0.5,
             "#f7f7f7"
            ],
            [
             0.6,
             "#e6f5d0"
            ],
            [
             0.7,
             "#b8e186"
            ],
            [
             0.8,
             "#7fbc41"
            ],
            [
             0.9,
             "#4d9221"
            ],
            [
             1,
             "#276419"
            ]
           ],
           "sequential": [
            [
             0.0,
             "#0d0887"
            ],
            [
             0.1111111111111111,
             "#46039f"
            ],
            [
             0.2222222222222222,
             "#7201a8"
            ],
            [
             0.3333333333333333,
             "#9c179e"
            ],
            [
             0.4444444444444444,
             "#bd3786"
            ],
            [
             0.5555555555555556,
             "#d8576b"
            ],
            [
             0.6666666666666666,
             "#ed7953"
            ],
            [
             0.7777777777777778,
             "#fb9f3a"
            ],
            [
             0.8888888888888888,
             "#fdca26"
            ],
            [
             1.0,
             "#f0f921"
            ]
           ],
           "sequentialminus": [
            [
             0.0,
             "#0d0887"
            ],
            [
             0.1111111111111111,
             "#46039f"
            ],
            [
             0.2222222222222222,
             "#7201a8"
            ],
            [
             0.3333333333333333,
             "#9c179e"
            ],
            [
             0.4444444444444444,
             "#bd3786"
            ],
            [
             0.5555555555555556,
             "#d8576b"
            ],
            [
             0.6666666666666666,
             "#ed7953"
            ],
            [
             0.7777777777777778,
             "#fb9f3a"
            ],
            [
             0.8888888888888888,
             "#fdca26"
            ],
            [
             1.0,
             "#f0f921"
            ]
           ]
          },
          "colorway": [
           "#636efa",
           "#EF553B",
           "#00cc96",
           "#ab63fa",
           "#FFA15A",
           "#19d3f3",
           "#FF6692",
           "#B6E880",
           "#FF97FF",
           "#FECB52"
          ],
          "font": {
           "color": "#2a3f5f"
          },
          "geo": {
           "bgcolor": "white",
           "lakecolor": "white",
           "landcolor": "#E5ECF6",
           "showlakes": true,
           "showland": true,
           "subunitcolor": "white"
          },
          "hoverlabel": {
           "align": "left"
          },
          "hovermode": "closest",
          "mapbox": {
           "style": "light"
          },
          "paper_bgcolor": "white",
          "plot_bgcolor": "#E5ECF6",
          "polar": {
           "angularaxis": {
            "gridcolor": "white",
            "linecolor": "white",
            "ticks": ""
           },
           "bgcolor": "#E5ECF6",
           "radialaxis": {
            "gridcolor": "white",
            "linecolor": "white",
            "ticks": ""
           }
          },
          "scene": {
           "xaxis": {
            "backgroundcolor": "#E5ECF6",
            "gridcolor": "white",
            "gridwidth": 2,
            "linecolor": "white",
            "showbackground": true,
            "ticks": "",
            "zerolinecolor": "white"
           },
           "yaxis": {
            "backgroundcolor": "#E5ECF6",
            "gridcolor": "white",
            "gridwidth": 2,
            "linecolor": "white",
            "showbackground": true,
            "ticks": "",
            "zerolinecolor": "white"
           },
           "zaxis": {
            "backgroundcolor": "#E5ECF6",
            "gridcolor": "white",
            "gridwidth": 2,
            "linecolor": "white",
            "showbackground": true,
            "ticks": "",
            "zerolinecolor": "white"
           }
          },
          "shapedefaults": {
           "line": {
            "color": "#2a3f5f"
           }
          },
          "ternary": {
           "aaxis": {
            "gridcolor": "white",
            "linecolor": "white",
            "ticks": ""
           },
           "baxis": {
            "gridcolor": "white",
            "linecolor": "white",
            "ticks": ""
           },
           "bgcolor": "#E5ECF6",
           "caxis": {
            "gridcolor": "white",
            "linecolor": "white",
            "ticks": ""
           }
          },
          "title": {
           "x": 0.05
          },
          "xaxis": {
           "automargin": true,
           "gridcolor": "white",
           "linecolor": "white",
           "ticks": "",
           "title": {
            "standoff": 15
           },
           "zerolinecolor": "white",
           "zerolinewidth": 2
          },
          "yaxis": {
           "automargin": true,
           "gridcolor": "white",
           "linecolor": "white",
           "ticks": "",
           "title": {
            "standoff": 15
           },
           "zerolinecolor": "white",
           "zerolinewidth": 2
          }
         }
        },
        "xaxis": {
         "anchor": "y",
         "domain": [
          0.0,
          1.0
         ],
         "title": {
          "text": "Settings"
         }
        },
        "yaxis": {
         "anchor": "x",
         "domain": [
          0.0,
          1.0
         ],
         "title": {
          "text": "ROM error [deg]"
         }
        },
        "legend": {
         "tracegroupgap": 0
        },
        "title": {
         "text": "Shoulder Flexion ROM error, cad = 7.82 deg"
        },
        "boxmode": "group",
        "shapes": [
         {
          "line": {
           "color": "red",
           "dash": "dash"
          },
          "name": "CAD",
          "type": "line",
          "x0": 0,
          "x1": 1,
          "xref": "x domain",
          "y0": 7.82,
          "y1": 7.82,
          "yref": "y"
         },
         {
          "line": {
           "color": "red",
           "dash": "dash"
          },
          "name": "CAD",
          "type": "line",
          "x0": 0,
          "x1": 1,
          "xref": "x domain",
          "y0": -7.82,
          "y1": -7.82,
          "yref": "y"
         }
        ]
       },
       "config": {
        "plotlyServerURL": "https://plot.ly"
       }
      },
      "text/html": [
       "<div>                            <div id=\"e388b0c2-0258-433b-b486-2ea018ca1211\" class=\"plotly-graph-div\" style=\"height:525px; width:100%;\"></div>            <script type=\"text/javascript\">                require([\"plotly\"], function(Plotly) {                    window.PLOTLYENV=window.PLOTLYENV || {};                                    if (document.getElementById(\"e388b0c2-0258-433b-b486-2ea018ca1211\")) {                    Plotly.newPlot(                        \"e388b0c2-0258-433b-b486-2ea018ca1211\",                        [{\"alignmentgroup\":\"True\",\"hovertemplate\":\"id_s_name=%{x}\\u003cbr\\u003eerror=%{y}\\u003cextra\\u003e\\u003c\\u002fextra\\u003e\",\"legendgroup\":\"\",\"marker\":{\"color\":\"#636efa\"},\"name\":\"\",\"notched\":false,\"offsetgroup\":\"\",\"orientation\":\"v\",\"showlegend\":false,\"x\":[\"SimCC, Cams: 1,2,3,4,5\",\"SimCC, Cams: 1,2,3,4,5\",\"SimCC, Cams: 1,2,3,4,5\",\"SimCC, Cams: 1,2,3,4,5\",\"SimCC, Cams: 1,2,3,4,5\",\"SimCC, Cams: 1,2,3,4,5\",\"SimCC, Cams: 1,2,3,4,5\",\"SimCC, Cams: 1,2,3,4,5\",\"SimCC, Cams: 1,2,3,4,5\",\"SimCC, Cams: 1,2,3,4,5\",\"SimCC, Cams: 1,2,3,4,5\",\"SimCC, Cams: 1,2,3,4,5\",\"SimCC, Cams: 1,2,3,4,5\",\"SimCC, Cams: 1,2,3,4,5\",\"SimCC, Cams: 1,2,3,4,5\",\"SimCC, Cams: 1,2,3,4,5\",\"SimCC, Cams: 1,2,3,4,5\",\"SimCC, Cams: 1,2,3,4,5\",\"SimCC, Cams: 1,2,3,4,5\",\"SimCC, Cams: 1,2,3,4,5\",\"SimCC, Cams: 1,2,3,4,5\",\"SimCC, Cams: 1,2,3,4,5\",\"SimCC, Cams: 1,2,3,4,5\",\"SimCC, Cams: 1,2,3,4,5\",\"SimCC, Cams: 1,2,3,4,5\",\"SimCC, Cams: 1,2,3,4,5\",\"SimCC, Cams: 1,2,3,4,5\",\"SimCC, Cams: 1,2,3,4,5\",\"SimCC, Cams: 1,2,3,4,5\",\"SimCC, Cams: 1,2,3,4,5\",\"SimCC, Cams: 1,2,3,4,5\",\"SimCC, Cams: 1,2,3,4,5\",\"SimCC, Cams: 1,2,3,4,5\",\"SimCC, Cams: 1,2,3,4,5\",\"SimCC, Cams: 1,2,3,4,5\",\"SimCC, Cams: 1,2,3,4,5\",\"SimCC, Cams: 1,2,3,4,5\",\"SimCC, Cams: 1,2,3,4,5\",\"SimCC, Cams: 1,2,3,4,5\",\"SimCC, Cams: 1,2,3,4,5\",\"SimCC, Cams: 1,2,3,4,5\",\"SimCC, Cams: 1,2,3,4,5\",\"SimCC, Cams: 1,2,3,4,5\",\"SimCC, Cams: 1,2,3,4,5\",\"SimCC, Cams: 1,2,3,4,5\",\"SimCC, Cams: 1,2,3,4,5\",\"SimCC, Cams: 1,2,3,4,5\",\"SimCC, Cams: 1,2,3,4,5\",\"SimCC, Cams: 1,2,3,4,5\",\"SimCC, Cams: 1,2,3,4,5\",\"SimCC, Cams: 1,2,3,4,5\",\"SimCC, Cams: 1,2,3,4,5\",\"SimCC, Cams: 1,2,3,4,5\",\"SimCC, Cams: 1,2,3,4,5\",\"SimCC, Cams: 1,2,3,4,5\",\"SimCC, Cams: 1,2,3,4,5\",\"SimCC, Cams: 1,2,3,4,5\",\"SimCC, Cams: 1,2,3,4,5\",\"SimCC, Cams: 1,2,3,4,5\",\"SimCC, Cams: 1,2,3,4,5\",\"SimCC, Cams: 1,2,3,4,5\",\"SimCC, Cams: 1,2,3,4,5\",\"SimCC, Cams: 1,2,3,4,5\",\"SimCC, Cams: 1,2,3,4,5\",\"SimCC, Cams: 1,2,3,4,5\",\"SimCC, Cams: 1,2,3,4,5\",\"SimCC, Cams: 1,2,3,4,5\",\"SimCC, Cams: 1,2,3,4,5\",\"SimCC, Cams: 1,2,3,4,5\",\"SimCC, Cams: 1,2,3,4,5\",\"SimCC, Cams: 1,2,3,4,5\",\"SimCC, Cams: 1,2,3,4,5\",\"SimCC, Cams: 1,2,3,4,5\",\"SimCC, Cams: 1,2,3,4,5\",\"SimCC, Cams: 1,2,3,4,5\",\"SimCC, Cams: 1,2,3,4,5\",\"SimCC, Cams: 1,2,3,4,5\",\"SimCC, Cams: 1,2,3,4,5\",\"SimCC, Cams: 1,2,3,4,5\",\"SimCC, Cams: 1,2,3,4,5\",\"SimCC, Cams: 1,2,3,4,5\",\"SimCC, Cams: 1,2,3,4,5\",\"SimCC, Cams: 1,2,3,4,5\",\"SimCC, Cams: 1,2,3,4,5\",\"SimCC, Cams: 1,2,3,4,5\",\"SimCC, Cams: 1,2,3,4,5\",\"SimCC, Cams: 1,2,3,4,5\",\"SimCC, Cams: 1,2,3,4,5\",\"SimCC, Cams: 1,2,3,4,5\",\"Metrabs, Cams: 1,2,3,4,5\",\"Metrabs, Cams: 1,2,3,4,5\",\"Metrabs, Cams: 1,2,3,4,5\",\"Metrabs, Cams: 1,2,3,4,5\",\"Metrabs, Cams: 1,2,3,4,5\",\"Metrabs, Cams: 1,2,3,4,5\",\"Metrabs, Cams: 1,2,3,4,5\",\"Metrabs, Cams: 1,2,3,4,5\",\"Metrabs, Cams: 1,2,3,4,5\",\"Metrabs, Cams: 1,2,3,4,5\",\"Metrabs, Cams: 1,2,3,4,5\",\"Metrabs, Cams: 1,2,3,4,5\",\"Metrabs, Cams: 1,2,3,4,5\",\"Metrabs, Cams: 1,2,3,4,5\",\"Metrabs, Cams: 1,2,3,4,5\",\"Metrabs, Cams: 1,2,3,4,5\",\"Metrabs, Cams: 1,2,3,4,5\",\"Metrabs, Cams: 1,2,3,4,5\",\"Metrabs, Cams: 1,2,3,4,5\",\"Metrabs, Cams: 1,2,3,4,5\",\"Metrabs, Cams: 1,2,3,4,5\",\"Metrabs, Cams: 1,2,3,4,5\",\"Metrabs, Cams: 1,2,3,4,5\",\"Metrabs, Cams: 1,2,3,4,5\",\"Metrabs, Cams: 1,2,3,4,5\",\"Metrabs, Cams: 1,2,3,4,5\",\"Metrabs, Cams: 1,2,3,4,5\",\"Metrabs, Cams: 1,2,3,4,5\",\"Metrabs, Cams: 1,2,3,4,5\",\"Metrabs, Cams: 1,2,3,4,5\",\"Metrabs, Cams: 1,2,3,4,5\",\"Metrabs, Cams: 1,2,3,4,5\",\"Metrabs, Cams: 1,2,3,4,5\",\"Metrabs, Cams: 1,2,3,4,5\",\"Metrabs, Cams: 1,2,3,4,5\",\"Metrabs, Cams: 1,2,3,4,5\",\"Metrabs, Cams: 1,2,3,4,5\",\"Metrabs, Cams: 1,2,3,4,5\",\"Metrabs, Cams: 1,2,3,4,5\",\"Metrabs, Cams: 1,2,3,4,5\",\"Metrabs, Cams: 1,2,3,4,5\",\"Metrabs, Cams: 1,2,3,4,5\",\"Metrabs, Cams: 1,2,3,4,5\",\"Metrabs, Cams: 1,2,3,4,5\",\"Metrabs, Cams: 1,2,3,4,5\",\"Metrabs, Cams: 1,2,3,4,5\",\"Metrabs, Cams: 1,2,3,4,5\",\"Metrabs, Cams: 1,2,3,4,5\",\"Metrabs, Cams: 1,2,3,4,5\",\"Metrabs, Cams: 1,2,3,4,5\",\"Metrabs, Cams: 1,2,3,4,5\",\"Metrabs, Cams: 1,2,3,4,5\",\"Metrabs, Cams: 1,2,3,4,5\",\"Metrabs, Cams: 1,2,3,4,5\",\"Metrabs, Cams: 1,2,3,4,5\",\"Metrabs, Cams: 1,2,3,4,5\",\"Metrabs, Cams: 1,2,3,4,5\",\"Metrabs, Cams: 1,2,3,4,5\",\"Metrabs, Cams: 1,2,3,4,5\",\"Metrabs, Cams: 1,2,3,4,5\",\"Metrabs, Cams: 1,2,3,4,5\",\"Metrabs, Cams: 1,2,3,4,5\",\"Metrabs, Cams: 1,2,3,4,5\",\"Metrabs, Cams: 1,2,3,4,5\",\"Metrabs, Cams: 1,2,3,4,5\",\"Metrabs, Cams: 1,2,3,4,5\",\"Metrabs, Cams: 1,2,3,4,5\",\"Metrabs, Cams: 1,2,3,4,5\",\"Metrabs, Cams: 1,2,3,4,5\",\"Metrabs, Cams: 1,2,3,4,5\",\"Metrabs, Cams: 1,2,3,4,5\",\"Metrabs, Cams: 1,2,3,4,5\",\"Metrabs, Cams: 1,2,3,4,5\",\"Metrabs, Cams: 1,2,3,4,5\",\"Metrabs, Cams: 1,2,3,4,5\",\"Metrabs, Cams: 1,2,3,4,5\",\"Metrabs, Cams: 1,2,3,4,5\",\"Metrabs, Cams: 1,2,3,4,5\",\"Metrabs, Cams: 1,2,3,4,5\",\"Metrabs, Cams: 1,2,3,4,5\",\"Metrabs, Cams: 1,2,3,4,5\",\"Metrabs, Cams: 1,2,3,4,5\",\"Metrabs, Cams: 1,2,3,4,5\",\"Metrabs, Cams: 1,2,3,4,5\",\"Metrabs, Cams: 1,2,3,4,5\",\"Metrabs, Cams: 1,2,3,4,5\",\"Metrabs, Cams: 1,2,3,4,5\",\"Metrabs, Cams: 1,2,3,4,5\",\"Metrabs, Cams: 1,2,3,4,5\",\"Metrabs, Cams: 1,2,3,4,5\",\"Single, Cam: 1, filt\",\"Single, Cam: 1, filt\",\"Single, Cam: 1, filt\",\"Single, Cam: 1, filt\",\"Single, Cam: 1, filt\",\"Single, Cam: 1, filt\",\"Single, Cam: 1, filt\",\"Single, Cam: 1, filt\",\"Single, Cam: 1, filt\",\"Single, Cam: 1, filt\",\"Single, Cam: 1, filt\",\"Single, Cam: 1, filt\",\"Single, Cam: 1, filt\",\"Single, Cam: 1, filt\",\"Single, Cam: 1, filt\",\"Single, Cam: 1, filt\",\"Single, Cam: 1, filt\",\"Single, Cam: 1, filt\",\"Single, Cam: 1, filt\",\"Single, Cam: 1, filt\",\"Single, Cam: 1, filt\",\"Single, Cam: 1, filt\",\"Single, Cam: 1, filt\",\"Single, Cam: 1, filt\",\"Single, Cam: 1, filt\",\"Single, Cam: 1, filt\",\"Single, Cam: 1, filt\",\"Single, Cam: 1, filt\",\"Single, Cam: 1, filt\",\"Single, Cam: 1, filt\",\"Single, Cam: 1, filt\",\"Single, Cam: 1, filt\",\"Single, Cam: 1, filt\",\"Single, Cam: 1, filt\",\"Single, Cam: 1, filt\",\"Single, Cam: 1, filt\",\"Single, Cam: 1, filt\",\"Single, Cam: 1, filt\",\"Single, Cam: 1, filt\",\"Single, Cam: 1, filt\",\"Single, Cam: 1, filt\",\"Single, Cam: 1, filt\",\"Single, Cam: 1, filt\",\"Single, Cam: 1, filt\",\"Single, Cam: 1, filt\",\"Single, Cam: 1, filt\",\"Single, Cam: 1, filt\",\"Single, Cam: 1, filt\",\"Single, Cam: 1, filt\",\"Single, Cam: 1, filt\",\"Single, Cam: 1, filt\",\"Single, Cam: 1, filt\",\"Single, Cam: 1, filt\",\"Single, Cam: 1, filt\",\"Single, Cam: 1, filt\",\"Single, Cam: 1, filt\",\"Single, Cam: 1, filt\",\"Single, Cam: 1, filt\",\"Single, Cam: 1, filt\",\"Single, Cam: 1, filt\",\"Single, Cam: 1, filt\",\"Single, Cam: 1, filt\",\"Single, Cam: 1, filt\",\"Single, Cam: 1, filt\",\"Single, Cam: 1, filt\",\"Single, Cam: 1, filt\",\"Single, Cam: 1, filt\",\"Single, Cam: 1, filt\",\"Single, Cam: 1, filt\",\"Single, Cam: 1, filt\",\"Single, Cam: 1, filt\",\"Single, Cam: 1, filt\",\"Single, Cam: 1, filt\",\"Single, Cam: 1, filt\",\"Single, Cam: 1, filt\",\"Single, Cam: 1, filt\",\"Single, Cam: 1, filt\",\"Single, Cam: 1, filt\",\"Single, Cam: 1, filt\",\"Single, Cam: 1, filt\",\"Single, Cam: 1, filt\",\"Single, Cam: 1, filt\",\"Single, Cam: 1, filt\",\"Single, Cam: 1, filt\",\"Single, Cam: 1, filt\",\"Single, Cam: 1, filt\",\"Single, Cam: 1, filt\",\"Single, Cam: 1, filt\",\"Single, Cam: 1, filt\",\"Single, Cam: 1, filt\",\"Single, Cam: 1, unfilt\",\"Single, Cam: 1, unfilt\",\"Single, Cam: 1, unfilt\",\"Single, Cam: 1, unfilt\",\"Single, Cam: 1, unfilt\",\"Single, Cam: 1, unfilt\",\"Single, Cam: 1, unfilt\",\"Single, Cam: 1, unfilt\",\"Single, Cam: 1, unfilt\",\"Single, Cam: 1, unfilt\",\"Single, Cam: 1, unfilt\",\"Single, Cam: 1, unfilt\",\"Single, Cam: 1, unfilt\",\"Single, Cam: 1, unfilt\",\"Single, Cam: 1, unfilt\",\"Single, Cam: 1, unfilt\",\"Single, Cam: 1, unfilt\",\"Single, Cam: 1, unfilt\",\"Single, Cam: 1, unfilt\",\"Single, Cam: 1, unfilt\",\"Single, Cam: 1, unfilt\",\"Single, Cam: 1, unfilt\",\"Single, Cam: 1, unfilt\",\"Single, Cam: 1, unfilt\",\"Single, Cam: 1, unfilt\",\"Single, Cam: 1, unfilt\",\"Single, Cam: 1, unfilt\",\"Single, Cam: 1, unfilt\",\"Single, Cam: 1, unfilt\",\"Single, Cam: 1, unfilt\",\"Single, Cam: 1, unfilt\",\"Single, Cam: 1, unfilt\",\"Single, Cam: 1, unfilt\",\"Single, Cam: 1, unfilt\",\"Single, Cam: 1, unfilt\",\"Single, Cam: 1, unfilt\",\"Single, Cam: 1, unfilt\",\"Single, Cam: 1, unfilt\",\"Single, Cam: 1, unfilt\",\"Single, Cam: 1, unfilt\",\"Single, Cam: 1, unfilt\",\"Single, Cam: 1, unfilt\",\"Single, Cam: 1, unfilt\",\"Single, Cam: 1, unfilt\",\"Single, Cam: 1, unfilt\",\"Single, Cam: 1, unfilt\",\"Single, Cam: 1, unfilt\",\"Single, Cam: 1, unfilt\",\"Single, Cam: 1, unfilt\",\"Single, Cam: 1, unfilt\",\"Single, Cam: 1, unfilt\",\"Single, Cam: 1, unfilt\",\"Single, Cam: 1, unfilt\",\"Single, Cam: 1, unfilt\",\"Single, Cam: 1, unfilt\",\"Single, Cam: 1, unfilt\",\"Single, Cam: 1, unfilt\",\"Single, Cam: 1, unfilt\",\"Single, Cam: 1, unfilt\",\"Single, Cam: 1, unfilt\",\"Single, Cam: 1, unfilt\",\"Single, Cam: 1, unfilt\",\"Single, Cam: 1, unfilt\",\"Single, Cam: 1, unfilt\",\"Single, Cam: 1, unfilt\",\"Single, Cam: 1, unfilt\",\"Single, Cam: 1, unfilt\",\"Single, Cam: 1, unfilt\",\"Single, Cam: 1, unfilt\",\"Single, Cam: 1, unfilt\",\"Single, Cam: 1, unfilt\",\"Single, Cam: 1, unfilt\",\"Single, Cam: 1, unfilt\",\"Single, Cam: 1, unfilt\",\"Single, Cam: 1, unfilt\",\"Single, Cam: 1, unfilt\",\"Single, Cam: 1, unfilt\",\"Single, Cam: 1, unfilt\",\"Single, Cam: 1, unfilt\",\"Single, Cam: 1, unfilt\",\"Single, Cam: 1, unfilt\",\"Single, Cam: 1, unfilt\",\"Single, Cam: 1, unfilt\",\"Single, Cam: 1, unfilt\",\"Single, Cam: 1, unfilt\",\"Single, Cam: 1, unfilt\",\"Single, Cam: 1, unfilt\",\"Single, Cam: 1, unfilt\",\"Single, Cam: 1, unfilt\",\"Single, Cam: 1, unfilt\"],\"x0\":\" \",\"xaxis\":\"x\",\"y\":[1.1268114982438195,1.026373983364938,1.0531592818029805,2.8708861945461726,1.6024078676317137,2.640264046046596,2.9595494757274503,3.488883664795246,2.3905799199106488,3.041925326999322,0.9204009057798805,0.08362518119049156,-0.43467844379646536,1.9967425059867498,1.6962171202698801,-0.38568287999369044,-0.2808929139968472,-0.3366808586245296,1.870489875558715,-2.9174379076991754,-1.4269676351038325,1.5311439808382847,0.04006864663143566,2.173422038364613,0.64789503629086,-0.014926256779835358,1.5760499296760742,-0.6063199962326128,1.2100135304111308,-1.880002226357836,1.1270900565620363,0.4135543268469521,2.3909425456452604,2.7483842766984288,2.991851509379388,2.1245437359549473,2.3118323145598034,0.8292424700046084,2.198125637979738,3.380974712981237,0.7720019900471493,-0.4278530823336411,4.046257733365138,-3.3966407258775098,-3.6484338563383303,-2.47541279842157,-1.695309938283611,1.7683174718770402,-0.705303826098047,-0.8800500500479599,-1.069673190137411,-1.4806953043062643,-2.3642876629094567,-0.021711800780896812,-2.153135212364252,0.07971760002781177,-0.8231324110851368,-1.8482020979165041,-1.986630737685096,-0.08548089362909879,0.4264035412205421,0.23607827490745115,2.0167556617111893,-0.26352356598028503,1.1916110129790385,4.10426742631141,0.9472455123118652,0.8450731016455763,1.9715925026233763,-1.0516358535514172,-0.014835249135874307,-1.2018249784197579,-0.3455852561186899,0.39274138785399487,0.8316432693503337,-0.5068947082360155,-0.3920817323581846,0.8215428599441464,-1.874031669140809,-0.23767763064470385,-2.0166631752317543,-1.8639196288641935,0.39139302037224405,3.6228198779291247,3.1597829039969483,2.372898868463857,4.457165501370021,1.9624225366990653,0.3063980969005726,-0.6263651188911386,-1.3944712284473937,-1.4109490983743609,-0.5850498648569875,-1.860691176625848,-0.024247402466690732,-0.16564793642357198,-0.9780012052479108,-2.5110712821946803,-2.395696475387946,-2.0221825158704805,-2.774774824515204,-3.2692811552820182,-1.378517276577765,-2.879552653475424,-3.598607424206591,-3.9810603207559474,-2.118891595051821,-2.8796005102616946,-3.777580714985878,-3.5660049757930388,-1.1233748373782675,-0.3386704375702199,-0.763832872916943,-2.070971829827316,-1.3601499763425255,-1.3238595081423024,-1.9007778244926488,0.3424002412378756,-2.306929751937578,0.7939567958705176,-3.4548296773209017,-0.3170218710860079,0.500220126405233,0.26695008959420613,0.2938225527588425,-0.5590287464715328,0.22041545450594077,-1.1305212074551665,0.8088211159811641,-0.32714884250019965,-0.15656591016712623,2.2151351482199346,-3.3101287720213493,-3.6831419998355246,-1.4572987922682943,-1.0544118303028955,-1.4256156559863182,-1.248008082069255,-0.2779425160873946,-1.9344562770117335,-0.8306106363520451,3.279726363550328,-2.475423921524267,-2.564491632390982,-2.1412097718253653,-0.698754257844971,-3.116606756008284,-4.117177484671244,-2.647858189763735,-1.0140765110161496,-2.092847464624637,-1.6488088444386324,-0.05472484470008559,-3.0051500623562064,2.071675553851288,1.0553288860329282,-0.5095093979212725,3.057951185394318,-0.6820746906337748,0.003391916095812538,-0.827668174449863,-1.1560182398392567,-0.010344270033291383,0.09723346759313804,-1.0176734095852527,-0.22704605332242725,-0.04554415325679072,-1.9107761331996136,-1.5144793284797782,-1.173841006558834,-2.4219024552419435,-1.7855118394778948,9.364693447326617,15.586590357204901,-0.3397099431569543,-0.6090108763641524,-4.146746786518385,1.823898189428558,-2.349672423587755,3.170991696469578,-2.3715969190541344,-1.1637754935388327,-1.7898336712817533,-2.3806184166822972,0.8621964909705591,-0.4905596522048003,-1.8656373497836483,-2.1133309513966405,-3.3204783219306586,-2.3486383388466856,-3.9613554307932937,-4.138453413527602,-2.7159797904499094,-2.883908965064847,-2.2394475022541362,-4.1117326294820264,-1.6490070875031435,-2.6087640024613736,-3.0582278881105616,-2.3094589926680484,-3.1038014124537363,-2.0518921203447342,-2.22271093485886,-3.3791717770198235,-3.21440851926577,-3.0529129407016384,-3.250420029001352,-1.3863511935762733,-3.7109734548562194,-2.3386944590487744,-4.150019851502001,-2.407066643888465,-1.6138734786546738,-1.0899834863553468,-1.7702894706262586,-3.377163920702873,-2.3901086199162913,-1.5895341344123952,-0.7761573351152492,-2.4213737954354326,-4.505618943642706,-1.081756951126053,-6.002226519700277,-5.547257713551357,-3.737917012543157,-2.930925979359325,-3.309843619487412,-3.897268514568028,-2.1953499167265096,-3.032329167718018,-3.058756389028491,-4.246570413221153,-1.800116658078014,-3.9120024200736445,-2.440684619433938,-2.629933638584631,-4.064963578431005,-3.7768057231622527,-3.829528202184076,-1.9605519408732914,-3.4019578634332013,-2.169195723190769,-2.05754367170358,-3.4857250938654025,-0.5773631204970654,-1.3814178321972912,-1.406226551290194,-1.3500332325783648,-1.5139718926411507,-1.6372683295102455,-2.0469319453663033,-2.7463524373708714,-3.1407744394528976,-3.0010676977610364,-5.059072868521396,-4.36683051413253,-2.202580874554527,-2.5532221511128634,-3.0703408257679095,-3.1823371647891157,-3.354808085322017,-3.590262846776126,-0.8088688604598033,-0.06843121524546095,-0.34337464769609516,-0.6408468076551195,-1.9183364493014352,-0.2484973983280802,-1.6144584953277672,3.219213938488222,-3.086231243482024,-1.0483157109909707,-1.7342860309840102,-2.3488912031004516,0.8787838974407955,-0.5209401855552643,-0.772653689537106,-2.1153501308701093,-3.30725606190212,-2.315873516322258,-3.9471443433018756,-4.170363663500331,-2.735293240574202,-2.8658841848783205,-2.1619417998025208,-3.5215544941534453,-0.9771657641307622,-2.608346065597977,-2.5274569107653106,-1.2457514197439086,-3.105330115479829,-2.061734761830297,-1.4751141387095974,-2.4810397708283274,-3.166695372073445,-3.010816690649791,-3.2005380840387017,-1.362516661845433,-3.732385872632168,-2.3041399574646255,-4.1054552922963365,-2.400831213215688,-1.6524827145965253,-1.0608443992433163,-1.7377246849321761,-3.3560049097236537,-2.390122487152216,-1.5934965697704209,-0.7747825391194653,-2.4061114406494446,-4.464206484807753,-1.0768309639647902,-5.942866804723713,-5.535450970372225,-3.639630790733308,-2.895542141261785,-3.2958516398898174,-3.7792834345362443,-2.151765397086445,-2.862334369862746,-2.99229427984574,-4.139135228150349,-1.74549172890509,-3.8762645712166504,-2.4328724910177795,-2.6004651198579003,-4.016076948006663,-3.714744403611801,-3.742765746305483,-1.8703370520649645,-3.3424036712017346,-2.126382342345632,-2.0355914590137445,-3.4541763963261576,-0.5773132023242715,-1.3057515101772807,-1.3479269310890571,-1.2701276286852914,-1.4776388537776413,-1.560053161834631,-2.02861198199514,-2.68761147972648,-3.0508686788428045,-2.98948901592003,-5.022781753401626,-4.278754310810975,-2.1545621242772612,-2.4874245180860095,-3.0183685418753887,-3.10909949204391,-3.3108937568346826,-3.526752191090743,-0.7456915261556061,-0.038493441581127996,-0.36818248686409305,-0.5252366981879852,-1.9455084915184955,-0.1744724862840279,-1.5150138075357091],\"y0\":\" \",\"yaxis\":\"y\",\"type\":\"box\"}],                        {\"template\":{\"data\":{\"barpolar\":[{\"marker\":{\"line\":{\"color\":\"#E5ECF6\",\"width\":0.5},\"pattern\":{\"fillmode\":\"overlay\",\"size\":10,\"solidity\":0.2}},\"type\":\"barpolar\"}],\"bar\":[{\"error_x\":{\"color\":\"#2a3f5f\"},\"error_y\":{\"color\":\"#2a3f5f\"},\"marker\":{\"line\":{\"color\":\"#E5ECF6\",\"width\":0.5},\"pattern\":{\"fillmode\":\"overlay\",\"size\":10,\"solidity\":0.2}},\"type\":\"bar\"}],\"carpet\":[{\"aaxis\":{\"endlinecolor\":\"#2a3f5f\",\"gridcolor\":\"white\",\"linecolor\":\"white\",\"minorgridcolor\":\"white\",\"startlinecolor\":\"#2a3f5f\"},\"baxis\":{\"endlinecolor\":\"#2a3f5f\",\"gridcolor\":\"white\",\"linecolor\":\"white\",\"minorgridcolor\":\"white\",\"startlinecolor\":\"#2a3f5f\"},\"type\":\"carpet\"}],\"choropleth\":[{\"colorbar\":{\"outlinewidth\":0,\"ticks\":\"\"},\"type\":\"choropleth\"}],\"contourcarpet\":[{\"colorbar\":{\"outlinewidth\":0,\"ticks\":\"\"},\"type\":\"contourcarpet\"}],\"contour\":[{\"colorbar\":{\"outlinewidth\":0,\"ticks\":\"\"},\"colorscale\":[[0.0,\"#0d0887\"],[0.1111111111111111,\"#46039f\"],[0.2222222222222222,\"#7201a8\"],[0.3333333333333333,\"#9c179e\"],[0.4444444444444444,\"#bd3786\"],[0.5555555555555556,\"#d8576b\"],[0.6666666666666666,\"#ed7953\"],[0.7777777777777778,\"#fb9f3a\"],[0.8888888888888888,\"#fdca26\"],[1.0,\"#f0f921\"]],\"type\":\"contour\"}],\"heatmapgl\":[{\"colorbar\":{\"outlinewidth\":0,\"ticks\":\"\"},\"colorscale\":[[0.0,\"#0d0887\"],[0.1111111111111111,\"#46039f\"],[0.2222222222222222,\"#7201a8\"],[0.3333333333333333,\"#9c179e\"],[0.4444444444444444,\"#bd3786\"],[0.5555555555555556,\"#d8576b\"],[0.6666666666666666,\"#ed7953\"],[0.7777777777777778,\"#fb9f3a\"],[0.8888888888888888,\"#fdca26\"],[1.0,\"#f0f921\"]],\"type\":\"heatmapgl\"}],\"heatmap\":[{\"colorbar\":{\"outlinewidth\":0,\"ticks\":\"\"},\"colorscale\":[[0.0,\"#0d0887\"],[0.1111111111111111,\"#46039f\"],[0.2222222222222222,\"#7201a8\"],[0.3333333333333333,\"#9c179e\"],[0.4444444444444444,\"#bd3786\"],[0.5555555555555556,\"#d8576b\"],[0.6666666666666666,\"#ed7953\"],[0.7777777777777778,\"#fb9f3a\"],[0.8888888888888888,\"#fdca26\"],[1.0,\"#f0f921\"]],\"type\":\"heatmap\"}],\"histogram2dcontour\":[{\"colorbar\":{\"outlinewidth\":0,\"ticks\":\"\"},\"colorscale\":[[0.0,\"#0d0887\"],[0.1111111111111111,\"#46039f\"],[0.2222222222222222,\"#7201a8\"],[0.3333333333333333,\"#9c179e\"],[0.4444444444444444,\"#bd3786\"],[0.5555555555555556,\"#d8576b\"],[0.6666666666666666,\"#ed7953\"],[0.7777777777777778,\"#fb9f3a\"],[0.8888888888888888,\"#fdca26\"],[1.0,\"#f0f921\"]],\"type\":\"histogram2dcontour\"}],\"histogram2d\":[{\"colorbar\":{\"outlinewidth\":0,\"ticks\":\"\"},\"colorscale\":[[0.0,\"#0d0887\"],[0.1111111111111111,\"#46039f\"],[0.2222222222222222,\"#7201a8\"],[0.3333333333333333,\"#9c179e\"],[0.4444444444444444,\"#bd3786\"],[0.5555555555555556,\"#d8576b\"],[0.6666666666666666,\"#ed7953\"],[0.7777777777777778,\"#fb9f3a\"],[0.8888888888888888,\"#fdca26\"],[1.0,\"#f0f921\"]],\"type\":\"histogram2d\"}],\"histogram\":[{\"marker\":{\"pattern\":{\"fillmode\":\"overlay\",\"size\":10,\"solidity\":0.2}},\"type\":\"histogram\"}],\"mesh3d\":[{\"colorbar\":{\"outlinewidth\":0,\"ticks\":\"\"},\"type\":\"mesh3d\"}],\"parcoords\":[{\"line\":{\"colorbar\":{\"outlinewidth\":0,\"ticks\":\"\"}},\"type\":\"parcoords\"}],\"pie\":[{\"automargin\":true,\"type\":\"pie\"}],\"scatter3d\":[{\"line\":{\"colorbar\":{\"outlinewidth\":0,\"ticks\":\"\"}},\"marker\":{\"colorbar\":{\"outlinewidth\":0,\"ticks\":\"\"}},\"type\":\"scatter3d\"}],\"scattercarpet\":[{\"marker\":{\"colorbar\":{\"outlinewidth\":0,\"ticks\":\"\"}},\"type\":\"scattercarpet\"}],\"scattergeo\":[{\"marker\":{\"colorbar\":{\"outlinewidth\":0,\"ticks\":\"\"}},\"type\":\"scattergeo\"}],\"scattergl\":[{\"marker\":{\"colorbar\":{\"outlinewidth\":0,\"ticks\":\"\"}},\"type\":\"scattergl\"}],\"scattermapbox\":[{\"marker\":{\"colorbar\":{\"outlinewidth\":0,\"ticks\":\"\"}},\"type\":\"scattermapbox\"}],\"scatterpolargl\":[{\"marker\":{\"colorbar\":{\"outlinewidth\":0,\"ticks\":\"\"}},\"type\":\"scatterpolargl\"}],\"scatterpolar\":[{\"marker\":{\"colorbar\":{\"outlinewidth\":0,\"ticks\":\"\"}},\"type\":\"scatterpolar\"}],\"scatter\":[{\"fillpattern\":{\"fillmode\":\"overlay\",\"size\":10,\"solidity\":0.2},\"type\":\"scatter\"}],\"scatterternary\":[{\"marker\":{\"colorbar\":{\"outlinewidth\":0,\"ticks\":\"\"}},\"type\":\"scatterternary\"}],\"surface\":[{\"colorbar\":{\"outlinewidth\":0,\"ticks\":\"\"},\"colorscale\":[[0.0,\"#0d0887\"],[0.1111111111111111,\"#46039f\"],[0.2222222222222222,\"#7201a8\"],[0.3333333333333333,\"#9c179e\"],[0.4444444444444444,\"#bd3786\"],[0.5555555555555556,\"#d8576b\"],[0.6666666666666666,\"#ed7953\"],[0.7777777777777778,\"#fb9f3a\"],[0.8888888888888888,\"#fdca26\"],[1.0,\"#f0f921\"]],\"type\":\"surface\"}],\"table\":[{\"cells\":{\"fill\":{\"color\":\"#EBF0F8\"},\"line\":{\"color\":\"white\"}},\"header\":{\"fill\":{\"color\":\"#C8D4E3\"},\"line\":{\"color\":\"white\"}},\"type\":\"table\"}]},\"layout\":{\"annotationdefaults\":{\"arrowcolor\":\"#2a3f5f\",\"arrowhead\":0,\"arrowwidth\":1},\"autotypenumbers\":\"strict\",\"coloraxis\":{\"colorbar\":{\"outlinewidth\":0,\"ticks\":\"\"}},\"colorscale\":{\"diverging\":[[0,\"#8e0152\"],[0.1,\"#c51b7d\"],[0.2,\"#de77ae\"],[0.3,\"#f1b6da\"],[0.4,\"#fde0ef\"],[0.5,\"#f7f7f7\"],[0.6,\"#e6f5d0\"],[0.7,\"#b8e186\"],[0.8,\"#7fbc41\"],[0.9,\"#4d9221\"],[1,\"#276419\"]],\"sequential\":[[0.0,\"#0d0887\"],[0.1111111111111111,\"#46039f\"],[0.2222222222222222,\"#7201a8\"],[0.3333333333333333,\"#9c179e\"],[0.4444444444444444,\"#bd3786\"],[0.5555555555555556,\"#d8576b\"],[0.6666666666666666,\"#ed7953\"],[0.7777777777777778,\"#fb9f3a\"],[0.8888888888888888,\"#fdca26\"],[1.0,\"#f0f921\"]],\"sequentialminus\":[[0.0,\"#0d0887\"],[0.1111111111111111,\"#46039f\"],[0.2222222222222222,\"#7201a8\"],[0.3333333333333333,\"#9c179e\"],[0.4444444444444444,\"#bd3786\"],[0.5555555555555556,\"#d8576b\"],[0.6666666666666666,\"#ed7953\"],[0.7777777777777778,\"#fb9f3a\"],[0.8888888888888888,\"#fdca26\"],[1.0,\"#f0f921\"]]},\"colorway\":[\"#636efa\",\"#EF553B\",\"#00cc96\",\"#ab63fa\",\"#FFA15A\",\"#19d3f3\",\"#FF6692\",\"#B6E880\",\"#FF97FF\",\"#FECB52\"],\"font\":{\"color\":\"#2a3f5f\"},\"geo\":{\"bgcolor\":\"white\",\"lakecolor\":\"white\",\"landcolor\":\"#E5ECF6\",\"showlakes\":true,\"showland\":true,\"subunitcolor\":\"white\"},\"hoverlabel\":{\"align\":\"left\"},\"hovermode\":\"closest\",\"mapbox\":{\"style\":\"light\"},\"paper_bgcolor\":\"white\",\"plot_bgcolor\":\"#E5ECF6\",\"polar\":{\"angularaxis\":{\"gridcolor\":\"white\",\"linecolor\":\"white\",\"ticks\":\"\"},\"bgcolor\":\"#E5ECF6\",\"radialaxis\":{\"gridcolor\":\"white\",\"linecolor\":\"white\",\"ticks\":\"\"}},\"scene\":{\"xaxis\":{\"backgroundcolor\":\"#E5ECF6\",\"gridcolor\":\"white\",\"gridwidth\":2,\"linecolor\":\"white\",\"showbackground\":true,\"ticks\":\"\",\"zerolinecolor\":\"white\"},\"yaxis\":{\"backgroundcolor\":\"#E5ECF6\",\"gridcolor\":\"white\",\"gridwidth\":2,\"linecolor\":\"white\",\"showbackground\":true,\"ticks\":\"\",\"zerolinecolor\":\"white\"},\"zaxis\":{\"backgroundcolor\":\"#E5ECF6\",\"gridcolor\":\"white\",\"gridwidth\":2,\"linecolor\":\"white\",\"showbackground\":true,\"ticks\":\"\",\"zerolinecolor\":\"white\"}},\"shapedefaults\":{\"line\":{\"color\":\"#2a3f5f\"}},\"ternary\":{\"aaxis\":{\"gridcolor\":\"white\",\"linecolor\":\"white\",\"ticks\":\"\"},\"baxis\":{\"gridcolor\":\"white\",\"linecolor\":\"white\",\"ticks\":\"\"},\"bgcolor\":\"#E5ECF6\",\"caxis\":{\"gridcolor\":\"white\",\"linecolor\":\"white\",\"ticks\":\"\"}},\"title\":{\"x\":0.05},\"xaxis\":{\"automargin\":true,\"gridcolor\":\"white\",\"linecolor\":\"white\",\"ticks\":\"\",\"title\":{\"standoff\":15},\"zerolinecolor\":\"white\",\"zerolinewidth\":2},\"yaxis\":{\"automargin\":true,\"gridcolor\":\"white\",\"linecolor\":\"white\",\"ticks\":\"\",\"title\":{\"standoff\":15},\"zerolinecolor\":\"white\",\"zerolinewidth\":2}}},\"xaxis\":{\"anchor\":\"y\",\"domain\":[0.0,1.0],\"title\":{\"text\":\"Settings\"}},\"yaxis\":{\"anchor\":\"x\",\"domain\":[0.0,1.0],\"title\":{\"text\":\"ROM error [deg]\"}},\"legend\":{\"tracegroupgap\":0},\"title\":{\"text\":\"Shoulder Flexion ROM error, cad = 7.82 deg\"},\"boxmode\":\"group\",\"shapes\":[{\"line\":{\"color\":\"red\",\"dash\":\"dash\"},\"name\":\"CAD\",\"type\":\"line\",\"x0\":0,\"x1\":1,\"xref\":\"x domain\",\"y0\":7.82,\"y1\":7.82,\"yref\":\"y\"},{\"line\":{\"color\":\"red\",\"dash\":\"dash\"},\"name\":\"CAD\",\"type\":\"line\",\"x0\":0,\"x1\":1,\"xref\":\"x domain\",\"y0\":-7.82,\"y1\":-7.82,\"yref\":\"y\"}]},                        {\"responsive\": true}                    ).then(function(){\n",
       "                            \n",
       "var gd = document.getElementById('e388b0c2-0258-433b-b486-2ea018ca1211');\n",
       "var x = new MutationObserver(function (mutations, observer) {{\n",
       "        var display = window.getComputedStyle(gd).display;\n",
       "        if (!display || display === 'none') {{\n",
       "            console.log([gd, 'removed!']);\n",
       "            Plotly.purge(gd);\n",
       "            observer.disconnect();\n",
       "        }}\n",
       "}});\n",
       "\n",
       "// Listen for the removal of the full notebook cells\n",
       "var notebookContainer = gd.closest('#notebook-container');\n",
       "if (notebookContainer) {{\n",
       "    x.observe(notebookContainer, {childList: true});\n",
       "}}\n",
       "\n",
       "// Listen for the clearing of the current output cell\n",
       "var outputEl = gd.closest('.output');\n",
       "if (outputEl) {{\n",
       "    x.observe(outputEl, {childList: true});\n",
       "}}\n",
       "\n",
       "                        })                };                });            </script>        </div>"
      ]
     },
     "metadata": {},
     "output_type": "display_data"
    },
    {
     "data": {
      "application/vnd.plotly.v1+json": {
       "data": [
        {
         "alignmentgroup": "True",
         "hovertemplate": "id_s_name=%{x}<br>error=%{y}<extra></extra>",
         "legendgroup": "",
         "marker": {
          "color": "#636efa"
         },
         "name": "",
         "notched": false,
         "offsetgroup": "",
         "orientation": "v",
         "showlegend": false,
         "x": [
          "SimCC, Cams: 1,2,3,4,5",
          "SimCC, Cams: 1,2,3,4,5",
          "SimCC, Cams: 1,2,3,4,5",
          "SimCC, Cams: 1,2,3,4,5",
          "SimCC, Cams: 1,2,3,4,5",
          "SimCC, Cams: 1,2,3,4,5",
          "SimCC, Cams: 1,2,3,4,5",
          "SimCC, Cams: 1,2,3,4,5",
          "SimCC, Cams: 1,2,3,4,5",
          "SimCC, Cams: 1,2,3,4,5",
          "SimCC, Cams: 1,2,3,4,5",
          "SimCC, Cams: 1,2,3,4,5",
          "SimCC, Cams: 1,2,3,4,5",
          "SimCC, Cams: 1,2,3,4,5",
          "SimCC, Cams: 1,2,3,4,5",
          "SimCC, Cams: 1,2,3,4,5",
          "SimCC, Cams: 1,2,3,4,5",
          "SimCC, Cams: 1,2,3,4,5",
          "SimCC, Cams: 1,2,3,4,5",
          "SimCC, Cams: 1,2,3,4,5",
          "SimCC, Cams: 1,2,3,4,5",
          "SimCC, Cams: 1,2,3,4,5",
          "SimCC, Cams: 1,2,3,4,5",
          "SimCC, Cams: 1,2,3,4,5",
          "SimCC, Cams: 1,2,3,4,5",
          "SimCC, Cams: 1,2,3,4,5",
          "SimCC, Cams: 1,2,3,4,5",
          "SimCC, Cams: 1,2,3,4,5",
          "SimCC, Cams: 1,2,3,4,5",
          "SimCC, Cams: 1,2,3,4,5",
          "SimCC, Cams: 1,2,3,4,5",
          "SimCC, Cams: 1,2,3,4,5",
          "SimCC, Cams: 1,2,3,4,5",
          "SimCC, Cams: 1,2,3,4,5",
          "SimCC, Cams: 1,2,3,4,5",
          "SimCC, Cams: 1,2,3,4,5",
          "SimCC, Cams: 1,2,3,4,5",
          "SimCC, Cams: 1,2,3,4,5",
          "SimCC, Cams: 1,2,3,4,5",
          "SimCC, Cams: 1,2,3,4,5",
          "SimCC, Cams: 1,2,3,4,5",
          "SimCC, Cams: 1,2,3,4,5",
          "SimCC, Cams: 1,2,3,4,5",
          "SimCC, Cams: 1,2,3,4,5",
          "SimCC, Cams: 1,2,3,4,5",
          "SimCC, Cams: 1,2,3,4,5",
          "SimCC, Cams: 1,2,3,4,5",
          "SimCC, Cams: 1,2,3,4,5",
          "SimCC, Cams: 1,2,3,4,5",
          "SimCC, Cams: 1,2,3,4,5",
          "SimCC, Cams: 1,2,3,4,5",
          "SimCC, Cams: 1,2,3,4,5",
          "SimCC, Cams: 1,2,3,4,5",
          "SimCC, Cams: 1,2,3,4,5",
          "SimCC, Cams: 1,2,3,4,5",
          "SimCC, Cams: 1,2,3,4,5",
          "SimCC, Cams: 1,2,3,4,5",
          "SimCC, Cams: 1,2,3,4,5",
          "SimCC, Cams: 1,2,3,4,5",
          "SimCC, Cams: 1,2,3,4,5",
          "SimCC, Cams: 1,2,3,4,5",
          "SimCC, Cams: 1,2,3,4,5",
          "SimCC, Cams: 1,2,3,4,5",
          "SimCC, Cams: 1,2,3,4,5",
          "SimCC, Cams: 1,2,3,4,5",
          "SimCC, Cams: 1,2,3,4,5",
          "SimCC, Cams: 1,2,3,4,5",
          "SimCC, Cams: 1,2,3,4,5",
          "SimCC, Cams: 1,2,3,4,5",
          "SimCC, Cams: 1,2,3,4,5",
          "SimCC, Cams: 1,2,3,4,5",
          "SimCC, Cams: 1,2,3,4,5",
          "SimCC, Cams: 1,2,3,4,5",
          "SimCC, Cams: 1,2,3,4,5",
          "SimCC, Cams: 1,2,3,4,5",
          "SimCC, Cams: 1,2,3,4,5",
          "SimCC, Cams: 1,2,3,4,5",
          "SimCC, Cams: 1,2,3,4,5",
          "SimCC, Cams: 1,2,3,4,5",
          "SimCC, Cams: 1,2,3,4,5",
          "SimCC, Cams: 1,2,3,4,5",
          "SimCC, Cams: 1,2,3,4,5",
          "SimCC, Cams: 1,2,3,4,5",
          "SimCC, Cams: 1,2,3,4,5",
          "SimCC, Cams: 1,2,3,4,5",
          "SimCC, Cams: 1,2,3,4,5",
          "SimCC, Cams: 1,2,3,4,5",
          "SimCC, Cams: 1,2,3,4,5",
          "SimCC, Cams: 1,2,3,4,5",
          "Metrabs, Cams: 1,2,3,4,5",
          "Metrabs, Cams: 1,2,3,4,5",
          "Metrabs, Cams: 1,2,3,4,5",
          "Metrabs, Cams: 1,2,3,4,5",
          "Metrabs, Cams: 1,2,3,4,5",
          "Metrabs, Cams: 1,2,3,4,5",
          "Metrabs, Cams: 1,2,3,4,5",
          "Metrabs, Cams: 1,2,3,4,5",
          "Metrabs, Cams: 1,2,3,4,5",
          "Metrabs, Cams: 1,2,3,4,5",
          "Metrabs, Cams: 1,2,3,4,5",
          "Metrabs, Cams: 1,2,3,4,5",
          "Metrabs, Cams: 1,2,3,4,5",
          "Metrabs, Cams: 1,2,3,4,5",
          "Metrabs, Cams: 1,2,3,4,5",
          "Metrabs, Cams: 1,2,3,4,5",
          "Metrabs, Cams: 1,2,3,4,5",
          "Metrabs, Cams: 1,2,3,4,5",
          "Metrabs, Cams: 1,2,3,4,5",
          "Metrabs, Cams: 1,2,3,4,5",
          "Metrabs, Cams: 1,2,3,4,5",
          "Metrabs, Cams: 1,2,3,4,5",
          "Metrabs, Cams: 1,2,3,4,5",
          "Metrabs, Cams: 1,2,3,4,5",
          "Metrabs, Cams: 1,2,3,4,5",
          "Metrabs, Cams: 1,2,3,4,5",
          "Metrabs, Cams: 1,2,3,4,5",
          "Metrabs, Cams: 1,2,3,4,5",
          "Metrabs, Cams: 1,2,3,4,5",
          "Metrabs, Cams: 1,2,3,4,5",
          "Metrabs, Cams: 1,2,3,4,5",
          "Metrabs, Cams: 1,2,3,4,5",
          "Metrabs, Cams: 1,2,3,4,5",
          "Metrabs, Cams: 1,2,3,4,5",
          "Metrabs, Cams: 1,2,3,4,5",
          "Metrabs, Cams: 1,2,3,4,5",
          "Metrabs, Cams: 1,2,3,4,5",
          "Metrabs, Cams: 1,2,3,4,5",
          "Metrabs, Cams: 1,2,3,4,5",
          "Metrabs, Cams: 1,2,3,4,5",
          "Metrabs, Cams: 1,2,3,4,5",
          "Metrabs, Cams: 1,2,3,4,5",
          "Metrabs, Cams: 1,2,3,4,5",
          "Metrabs, Cams: 1,2,3,4,5",
          "Metrabs, Cams: 1,2,3,4,5",
          "Metrabs, Cams: 1,2,3,4,5",
          "Metrabs, Cams: 1,2,3,4,5",
          "Metrabs, Cams: 1,2,3,4,5",
          "Metrabs, Cams: 1,2,3,4,5",
          "Metrabs, Cams: 1,2,3,4,5",
          "Metrabs, Cams: 1,2,3,4,5",
          "Metrabs, Cams: 1,2,3,4,5",
          "Metrabs, Cams: 1,2,3,4,5",
          "Metrabs, Cams: 1,2,3,4,5",
          "Metrabs, Cams: 1,2,3,4,5",
          "Metrabs, Cams: 1,2,3,4,5",
          "Metrabs, Cams: 1,2,3,4,5",
          "Metrabs, Cams: 1,2,3,4,5",
          "Metrabs, Cams: 1,2,3,4,5",
          "Metrabs, Cams: 1,2,3,4,5",
          "Metrabs, Cams: 1,2,3,4,5",
          "Metrabs, Cams: 1,2,3,4,5",
          "Metrabs, Cams: 1,2,3,4,5",
          "Metrabs, Cams: 1,2,3,4,5",
          "Metrabs, Cams: 1,2,3,4,5",
          "Metrabs, Cams: 1,2,3,4,5",
          "Metrabs, Cams: 1,2,3,4,5",
          "Metrabs, Cams: 1,2,3,4,5",
          "Metrabs, Cams: 1,2,3,4,5",
          "Metrabs, Cams: 1,2,3,4,5",
          "Metrabs, Cams: 1,2,3,4,5",
          "Metrabs, Cams: 1,2,3,4,5",
          "Metrabs, Cams: 1,2,3,4,5",
          "Metrabs, Cams: 1,2,3,4,5",
          "Metrabs, Cams: 1,2,3,4,5",
          "Metrabs, Cams: 1,2,3,4,5",
          "Metrabs, Cams: 1,2,3,4,5",
          "Metrabs, Cams: 1,2,3,4,5",
          "Metrabs, Cams: 1,2,3,4,5",
          "Metrabs, Cams: 1,2,3,4,5",
          "Metrabs, Cams: 1,2,3,4,5",
          "Metrabs, Cams: 1,2,3,4,5",
          "Metrabs, Cams: 1,2,3,4,5",
          "Metrabs, Cams: 1,2,3,4,5",
          "Metrabs, Cams: 1,2,3,4,5",
          "Metrabs, Cams: 1,2,3,4,5",
          "Metrabs, Cams: 1,2,3,4,5",
          "Metrabs, Cams: 1,2,3,4,5",
          "Metrabs, Cams: 1,2,3,4,5",
          "Metrabs, Cams: 1,2,3,4,5",
          "Single, Cam: 1, filt",
          "Single, Cam: 1, filt",
          "Single, Cam: 1, filt",
          "Single, Cam: 1, filt",
          "Single, Cam: 1, filt",
          "Single, Cam: 1, filt",
          "Single, Cam: 1, filt",
          "Single, Cam: 1, filt",
          "Single, Cam: 1, filt",
          "Single, Cam: 1, filt",
          "Single, Cam: 1, filt",
          "Single, Cam: 1, filt",
          "Single, Cam: 1, filt",
          "Single, Cam: 1, filt",
          "Single, Cam: 1, filt",
          "Single, Cam: 1, filt",
          "Single, Cam: 1, filt",
          "Single, Cam: 1, filt",
          "Single, Cam: 1, filt",
          "Single, Cam: 1, filt",
          "Single, Cam: 1, filt",
          "Single, Cam: 1, filt",
          "Single, Cam: 1, filt",
          "Single, Cam: 1, filt",
          "Single, Cam: 1, filt",
          "Single, Cam: 1, filt",
          "Single, Cam: 1, filt",
          "Single, Cam: 1, filt",
          "Single, Cam: 1, filt",
          "Single, Cam: 1, filt",
          "Single, Cam: 1, filt",
          "Single, Cam: 1, filt",
          "Single, Cam: 1, filt",
          "Single, Cam: 1, filt",
          "Single, Cam: 1, filt",
          "Single, Cam: 1, filt",
          "Single, Cam: 1, filt",
          "Single, Cam: 1, filt",
          "Single, Cam: 1, filt",
          "Single, Cam: 1, filt",
          "Single, Cam: 1, filt",
          "Single, Cam: 1, filt",
          "Single, Cam: 1, filt",
          "Single, Cam: 1, filt",
          "Single, Cam: 1, filt",
          "Single, Cam: 1, filt",
          "Single, Cam: 1, filt",
          "Single, Cam: 1, filt",
          "Single, Cam: 1, filt",
          "Single, Cam: 1, filt",
          "Single, Cam: 1, filt",
          "Single, Cam: 1, filt",
          "Single, Cam: 1, filt",
          "Single, Cam: 1, filt",
          "Single, Cam: 1, filt",
          "Single, Cam: 1, filt",
          "Single, Cam: 1, filt",
          "Single, Cam: 1, filt",
          "Single, Cam: 1, filt",
          "Single, Cam: 1, filt",
          "Single, Cam: 1, filt",
          "Single, Cam: 1, filt",
          "Single, Cam: 1, filt",
          "Single, Cam: 1, filt",
          "Single, Cam: 1, filt",
          "Single, Cam: 1, filt",
          "Single, Cam: 1, filt",
          "Single, Cam: 1, filt",
          "Single, Cam: 1, filt",
          "Single, Cam: 1, filt",
          "Single, Cam: 1, filt",
          "Single, Cam: 1, filt",
          "Single, Cam: 1, filt",
          "Single, Cam: 1, filt",
          "Single, Cam: 1, filt",
          "Single, Cam: 1, filt",
          "Single, Cam: 1, filt",
          "Single, Cam: 1, filt",
          "Single, Cam: 1, filt",
          "Single, Cam: 1, filt",
          "Single, Cam: 1, filt",
          "Single, Cam: 1, filt",
          "Single, Cam: 1, filt",
          "Single, Cam: 1, filt",
          "Single, Cam: 1, filt",
          "Single, Cam: 1, filt",
          "Single, Cam: 1, filt",
          "Single, Cam: 1, filt",
          "Single, Cam: 1, filt",
          "Single, Cam: 1, filt",
          "Single, Cam: 1, unfilt",
          "Single, Cam: 1, unfilt",
          "Single, Cam: 1, unfilt",
          "Single, Cam: 1, unfilt",
          "Single, Cam: 1, unfilt",
          "Single, Cam: 1, unfilt",
          "Single, Cam: 1, unfilt",
          "Single, Cam: 1, unfilt",
          "Single, Cam: 1, unfilt",
          "Single, Cam: 1, unfilt",
          "Single, Cam: 1, unfilt",
          "Single, Cam: 1, unfilt",
          "Single, Cam: 1, unfilt",
          "Single, Cam: 1, unfilt",
          "Single, Cam: 1, unfilt",
          "Single, Cam: 1, unfilt",
          "Single, Cam: 1, unfilt",
          "Single, Cam: 1, unfilt",
          "Single, Cam: 1, unfilt",
          "Single, Cam: 1, unfilt",
          "Single, Cam: 1, unfilt",
          "Single, Cam: 1, unfilt",
          "Single, Cam: 1, unfilt",
          "Single, Cam: 1, unfilt",
          "Single, Cam: 1, unfilt",
          "Single, Cam: 1, unfilt",
          "Single, Cam: 1, unfilt",
          "Single, Cam: 1, unfilt",
          "Single, Cam: 1, unfilt",
          "Single, Cam: 1, unfilt",
          "Single, Cam: 1, unfilt",
          "Single, Cam: 1, unfilt",
          "Single, Cam: 1, unfilt",
          "Single, Cam: 1, unfilt",
          "Single, Cam: 1, unfilt",
          "Single, Cam: 1, unfilt",
          "Single, Cam: 1, unfilt",
          "Single, Cam: 1, unfilt",
          "Single, Cam: 1, unfilt",
          "Single, Cam: 1, unfilt",
          "Single, Cam: 1, unfilt",
          "Single, Cam: 1, unfilt",
          "Single, Cam: 1, unfilt",
          "Single, Cam: 1, unfilt",
          "Single, Cam: 1, unfilt",
          "Single, Cam: 1, unfilt",
          "Single, Cam: 1, unfilt",
          "Single, Cam: 1, unfilt",
          "Single, Cam: 1, unfilt",
          "Single, Cam: 1, unfilt",
          "Single, Cam: 1, unfilt",
          "Single, Cam: 1, unfilt",
          "Single, Cam: 1, unfilt",
          "Single, Cam: 1, unfilt",
          "Single, Cam: 1, unfilt",
          "Single, Cam: 1, unfilt",
          "Single, Cam: 1, unfilt",
          "Single, Cam: 1, unfilt",
          "Single, Cam: 1, unfilt",
          "Single, Cam: 1, unfilt",
          "Single, Cam: 1, unfilt",
          "Single, Cam: 1, unfilt",
          "Single, Cam: 1, unfilt",
          "Single, Cam: 1, unfilt",
          "Single, Cam: 1, unfilt",
          "Single, Cam: 1, unfilt",
          "Single, Cam: 1, unfilt",
          "Single, Cam: 1, unfilt",
          "Single, Cam: 1, unfilt",
          "Single, Cam: 1, unfilt",
          "Single, Cam: 1, unfilt",
          "Single, Cam: 1, unfilt",
          "Single, Cam: 1, unfilt",
          "Single, Cam: 1, unfilt",
          "Single, Cam: 1, unfilt",
          "Single, Cam: 1, unfilt",
          "Single, Cam: 1, unfilt",
          "Single, Cam: 1, unfilt",
          "Single, Cam: 1, unfilt",
          "Single, Cam: 1, unfilt",
          "Single, Cam: 1, unfilt",
          "Single, Cam: 1, unfilt",
          "Single, Cam: 1, unfilt",
          "Single, Cam: 1, unfilt",
          "Single, Cam: 1, unfilt",
          "Single, Cam: 1, unfilt",
          "Single, Cam: 1, unfilt",
          "Single, Cam: 1, unfilt",
          "Single, Cam: 1, unfilt",
          "Single, Cam: 1, unfilt"
         ],
         "x0": " ",
         "xaxis": "x",
         "y": [
          7.017451676002621,
          1.3631885266676729,
          0.9954202013086503,
          1.8594053484026045,
          0.7117760938398418,
          0.3617803647124053,
          1.7720613198637019,
          1.2041243327798286,
          5.767646457638278,
          3.232935412925957,
          0.3877844250404397,
          0.18745909717466194,
          0.7848877769759134,
          2.1655963128966045,
          1.5111166445899091,
          2.315242063712566,
          0.3926376873497241,
          1.047808776255932,
          1.9131395662540298,
          -1.0667905572127894,
          -0.3298856743396321,
          1.1026175449433977,
          1.3323636796176948,
          0.9896523566777733,
          0.9813971378539394,
          -0.5149908716451093,
          1.1940650456663213,
          2.3266435882027556,
          -0.324406049763097,
          0.18029521678496133,
          1.139731256541226,
          -0.21750604180754157,
          0.30458822979083855,
          2.758326445448163,
          2.389075404323961,
          2.3275556705478957,
          1.8087247783807066,
          3.087655155096441,
          1.827701379623907,
          3.713136311126897,
          0.9870727039120448,
          1.4152256639561915,
          3.134578410192872,
          4.528543485898346,
          5.534478163390298,
          4.659098909408525,
          4.399587775478675,
          2.454474817606738,
          4.73967760393424,
          4.390978784803762,
          6.1494545763442545,
          4.935883348235596,
          2.4100738893841434,
          2.9893246673818807,
          3.526303071289484,
          2.879855602183973,
          0.5783432067999167,
          1.6606424049684174,
          2.323265845979508,
          4.56044133070459,
          0.9503525321334617,
          1.6940499242483504,
          -0.6908223279185131,
          3.2982763015016174,
          2.020793975272189,
          1.342237816112427,
          2.1815588768346617,
          2.9794638655601955,
          2.2990486505713648,
          2.406102462956024,
          0.9456719364547421,
          0.7187373535096562,
          0.7246171248906057,
          2.526188892111432,
          1.4907285331037536,
          1.3651254939861885,
          2.6432080426024727,
          1.1737075666867247,
          0.9206925794770905,
          0.9540026440873296,
          1.0683860678055754,
          1.6211403763170582,
          2.763808635803841,
          -0.02039208039847301,
          -1.297893714638537,
          0.1931145666179254,
          -1.527734176754084,
          -1.008061279714699,
          -0.3164098702868188,
          1.2770122447084193,
          0.3579316167446687,
          1.0743953996751792,
          0.09799355501015643,
          -0.5031859273028644,
          -0.8351378327774563,
          -1.1850521400345122,
          -1.9889946064178872,
          -2.6793680887409765,
          -0.9774117263837969,
          -1.3353325102410536,
          -2.0063688576166245,
          -0.975175198690715,
          -1.5954810465095706,
          -1.1339579341660477,
          -1.6477381282855024,
          -1.4960768740052284,
          -1.7717838554308862,
          0.1386037009140099,
          -2.078938640323204,
          -2.5122393082698546,
          -0.4772342809249025,
          -1.8530264487083163,
          -2.5389658958533183,
          -1.068424364098848,
          -2.46110336702841,
          -2.0908504498518594,
          1.1234661524255187,
          -2.5556102886573386,
          -2.690387718904993,
          -1.1880016451026278,
          -2.553454020058428,
          -2.048213528902232,
          0.6537465614772197,
          -0.28525997743891884,
          -1.7345239511272397,
          -0.7308485840836344,
          -1.0744775257546373,
          -2.687353589886628,
          4.86168439812306,
          -2.066691895527686,
          -0.13544753458184502,
          1.0997311308131275,
          2.028138488453529,
          2.484535793105695,
          2.086259904430161,
          1.4532043697217543,
          2.234829894886396,
          3.5045446421259596,
          4.190192685821118,
          4.258916429807646,
          2.7284734812659224,
          0.8460434316458597,
          1.4190622164146522,
          4.10596524682736,
          5.529307427046276,
          3.6762020088376843,
          2.3281074690856607,
          4.3437130248484985,
          4.70825962382598,
          2.319417045221186,
          2.0988727689917304,
          -1.368760775980115,
          2.291094059876191,
          1.8586367342643948,
          1.7382025120109408,
          0.5719331005448609,
          2.201706752743686,
          0.8376954763361031,
          2.7362435056800583,
          -1.6969313769176344,
          -2.7933823052126363,
          0.13317244609576986,
          0.9377908499060437,
          1.9290556440557864,
          2.1902904628726283,
          2.582700806421987,
          1.43032086062896,
          1.9492629614618373,
          1.7896065295748051,
          2.558146575096507,
          1.8562321466676441,
          2.585538154980996,
          5.37963125346793,
          2.270442781062224,
          -1.5946041748039974,
          5.319037926779828,
          5.487988633642774,
          2.800731315457443,
          18.490377952236287,
          1.7112513490714707,
          -3.6854092725183762,
          -0.9321076639368859,
          -1.663537837854865,
          -0.20990538154785346,
          -2.5825250241530218,
          -3.772136495460745,
          -3.755396036089613,
          -3.563739313437058,
          -3.1738946842501923,
          -4.0658870200771595,
          -5.988890152211185,
          -3.2716227989397524,
          -3.801419690179686,
          -4.029267141133441,
          -2.290172138939868,
          -3.278219736289748,
          -2.431663462232237,
          -1.1565958622105426,
          -3.8739822824027623,
          -4.412326289850735,
          -2.942248200606422,
          -5.672803549185958,
          -4.653586246860534,
          -3.3123105426187465,
          -5.122221952918811,
          -4.334339630645062,
          -3.046210766146971,
          -6.738297752590086,
          -6.313312612558009,
          -4.12083497808827,
          -3.5491396795666788,
          -4.316372037102505,
          -5.833098893643318,
          -5.164088349042148,
          -4.457468905134442,
          -6.343020841274978,
          -5.621863373962414,
          -5.150026288707322,
          -4.016525028051822,
          -4.850980017930945,
          -5.986265748836153,
          -3.028990835751085,
          0.32886472413302975,
          -2.1056182139994477,
          -2.3909006799220394,
          -2.064924732209047,
          -1.5776477285946233,
          -0.37492108284931697,
          -0.1861779808094227,
          -1.2527744591799979,
          -2.352585754029963,
          -3.031162172458014,
          -2.8074728293551052,
          -0.4887970352715734,
          -1.7181757898893342,
          -2.2452076950788675,
          -2.5417551562496774,
          -1.3664205016272104,
          -0.03523079031298134,
          -3.8245900770291246,
          -2.8554005971574297,
          -6.460564490549686,
          -4.3563871705649175,
          -3.4335154559680894,
          -3.9248380972428127,
          -2.61927320348822,
          -3.5686186905926327,
          -3.9657785252983735,
          -3.3023271452230847,
          -5.480312079021714,
          -4.760980417840054,
          -3.8731031421651623,
          -4.258080424902114,
          -4.9824937016187,
          -3.4687114477268683,
          -4.1836416377982895,
          -3.198510640769807,
          -3.550266153773811,
          -3.6486012407949318,
          -3.033625575403967,
          -2.873119507368519,
          -2.3467147950668514,
          -0.869361820286441,
          -2.1898525388660817,
          -1.73739544747207,
          -3.7026879951701526,
          -1.689154865190606,
          -2.465268009482178,
          3.60709576623632,
          1.8552177483916155,
          -4.36804696725444,
          -0.9048557788711035,
          -1.576081570138136,
          -0.25860120842796225,
          -2.4187023268040826,
          -3.6916713637486525,
          -2.421409631978945,
          -3.4635961637216397,
          -3.0944794270940115,
          -3.9852745418723834,
          -5.8618634637085565,
          -3.17821833583845,
          -3.728247073826449,
          -3.8757274322210074,
          -2.1993702909083646,
          -2.150913236835747,
          -1.1618727869305838,
          -1.1912599526390362,
          -3.3124464508204725,
          -3.2962202757827135,
          -2.8607898674772994,
          -5.5993453480811795,
          -3.5293506087354864,
          -3.3436934794907978,
          -5.025302747722408,
          -4.212455254807976,
          -2.936489235271501,
          -6.652395137151873,
          -6.242811685238159,
          -4.020410658739985,
          -3.523126737535698,
          -4.268317048025784,
          -5.699316860393883,
          -5.124952551442942,
          -4.355581017864269,
          -6.269531213081144,
          -5.505119991705764,
          -5.064034507902392,
          -3.8944031993127908,
          -4.76173537962849,
          -5.852833705884244,
          -2.877108981575478,
          0.3791433260544948,
          -2.016175666035555,
          -2.2885614251312396,
          -1.9445802739088258,
          -1.4607980513560557,
          -0.2642350338116352,
          -0.06719878334525221,
          -1.180927260926527,
          -2.242937240818695,
          -2.9295997597991894,
          -2.7150580111723897,
          -0.4394290863365966,
          -1.5908704293511817,
          -2.146224710444073,
          -2.4728188645482803,
          -1.2675591889588282,
          0.05207205980765801,
          -3.6761479165894366,
          -2.7105711400326435,
          -6.364173208025268,
          -4.229309346236083,
          -3.2897049583633984,
          -3.7852701760466787,
          -2.463728517563172,
          -3.445150382940551,
          -3.7883458867142634,
          -3.1403879402270687,
          -5.3584952328174795,
          -4.655725601775944,
          -3.7843754754958714,
          -4.13524404917202,
          -4.82942968861938,
          -3.3519086352435714,
          -4.037032884126441,
          -3.0408453930643193,
          -3.3644079593911256,
          -3.5611333835123378,
          -2.9380814613507407,
          -2.685564026196815,
          -2.294469375480688,
          -0.7282868738388686,
          -1.970719299986584,
          -1.6117790201756916,
          -3.6031855319863784,
          -1.5416273471212936,
          -2.3105812499730094,
          3.763075550529834
         ],
         "y0": " ",
         "yaxis": "y",
         "type": "box"
        }
       ],
       "layout": {
        "template": {
         "data": {
          "barpolar": [
           {
            "marker": {
             "line": {
              "color": "#E5ECF6",
              "width": 0.5
             },
             "pattern": {
              "fillmode": "overlay",
              "size": 10,
              "solidity": 0.2
             }
            },
            "type": "barpolar"
           }
          ],
          "bar": [
           {
            "error_x": {
             "color": "#2a3f5f"
            },
            "error_y": {
             "color": "#2a3f5f"
            },
            "marker": {
             "line": {
              "color": "#E5ECF6",
              "width": 0.5
             },
             "pattern": {
              "fillmode": "overlay",
              "size": 10,
              "solidity": 0.2
             }
            },
            "type": "bar"
           }
          ],
          "carpet": [
           {
            "aaxis": {
             "endlinecolor": "#2a3f5f",
             "gridcolor": "white",
             "linecolor": "white",
             "minorgridcolor": "white",
             "startlinecolor": "#2a3f5f"
            },
            "baxis": {
             "endlinecolor": "#2a3f5f",
             "gridcolor": "white",
             "linecolor": "white",
             "minorgridcolor": "white",
             "startlinecolor": "#2a3f5f"
            },
            "type": "carpet"
           }
          ],
          "choropleth": [
           {
            "colorbar": {
             "outlinewidth": 0,
             "ticks": ""
            },
            "type": "choropleth"
           }
          ],
          "contourcarpet": [
           {
            "colorbar": {
             "outlinewidth": 0,
             "ticks": ""
            },
            "type": "contourcarpet"
           }
          ],
          "contour": [
           {
            "colorbar": {
             "outlinewidth": 0,
             "ticks": ""
            },
            "colorscale": [
             [
              0.0,
              "#0d0887"
             ],
             [
              0.1111111111111111,
              "#46039f"
             ],
             [
              0.2222222222222222,
              "#7201a8"
             ],
             [
              0.3333333333333333,
              "#9c179e"
             ],
             [
              0.4444444444444444,
              "#bd3786"
             ],
             [
              0.5555555555555556,
              "#d8576b"
             ],
             [
              0.6666666666666666,
              "#ed7953"
             ],
             [
              0.7777777777777778,
              "#fb9f3a"
             ],
             [
              0.8888888888888888,
              "#fdca26"
             ],
             [
              1.0,
              "#f0f921"
             ]
            ],
            "type": "contour"
           }
          ],
          "heatmapgl": [
           {
            "colorbar": {
             "outlinewidth": 0,
             "ticks": ""
            },
            "colorscale": [
             [
              0.0,
              "#0d0887"
             ],
             [
              0.1111111111111111,
              "#46039f"
             ],
             [
              0.2222222222222222,
              "#7201a8"
             ],
             [
              0.3333333333333333,
              "#9c179e"
             ],
             [
              0.4444444444444444,
              "#bd3786"
             ],
             [
              0.5555555555555556,
              "#d8576b"
             ],
             [
              0.6666666666666666,
              "#ed7953"
             ],
             [
              0.7777777777777778,
              "#fb9f3a"
             ],
             [
              0.8888888888888888,
              "#fdca26"
             ],
             [
              1.0,
              "#f0f921"
             ]
            ],
            "type": "heatmapgl"
           }
          ],
          "heatmap": [
           {
            "colorbar": {
             "outlinewidth": 0,
             "ticks": ""
            },
            "colorscale": [
             [
              0.0,
              "#0d0887"
             ],
             [
              0.1111111111111111,
              "#46039f"
             ],
             [
              0.2222222222222222,
              "#7201a8"
             ],
             [
              0.3333333333333333,
              "#9c179e"
             ],
             [
              0.4444444444444444,
              "#bd3786"
             ],
             [
              0.5555555555555556,
              "#d8576b"
             ],
             [
              0.6666666666666666,
              "#ed7953"
             ],
             [
              0.7777777777777778,
              "#fb9f3a"
             ],
             [
              0.8888888888888888,
              "#fdca26"
             ],
             [
              1.0,
              "#f0f921"
             ]
            ],
            "type": "heatmap"
           }
          ],
          "histogram2dcontour": [
           {
            "colorbar": {
             "outlinewidth": 0,
             "ticks": ""
            },
            "colorscale": [
             [
              0.0,
              "#0d0887"
             ],
             [
              0.1111111111111111,
              "#46039f"
             ],
             [
              0.2222222222222222,
              "#7201a8"
             ],
             [
              0.3333333333333333,
              "#9c179e"
             ],
             [
              0.4444444444444444,
              "#bd3786"
             ],
             [
              0.5555555555555556,
              "#d8576b"
             ],
             [
              0.6666666666666666,
              "#ed7953"
             ],
             [
              0.7777777777777778,
              "#fb9f3a"
             ],
             [
              0.8888888888888888,
              "#fdca26"
             ],
             [
              1.0,
              "#f0f921"
             ]
            ],
            "type": "histogram2dcontour"
           }
          ],
          "histogram2d": [
           {
            "colorbar": {
             "outlinewidth": 0,
             "ticks": ""
            },
            "colorscale": [
             [
              0.0,
              "#0d0887"
             ],
             [
              0.1111111111111111,
              "#46039f"
             ],
             [
              0.2222222222222222,
              "#7201a8"
             ],
             [
              0.3333333333333333,
              "#9c179e"
             ],
             [
              0.4444444444444444,
              "#bd3786"
             ],
             [
              0.5555555555555556,
              "#d8576b"
             ],
             [
              0.6666666666666666,
              "#ed7953"
             ],
             [
              0.7777777777777778,
              "#fb9f3a"
             ],
             [
              0.8888888888888888,
              "#fdca26"
             ],
             [
              1.0,
              "#f0f921"
             ]
            ],
            "type": "histogram2d"
           }
          ],
          "histogram": [
           {
            "marker": {
             "pattern": {
              "fillmode": "overlay",
              "size": 10,
              "solidity": 0.2
             }
            },
            "type": "histogram"
           }
          ],
          "mesh3d": [
           {
            "colorbar": {
             "outlinewidth": 0,
             "ticks": ""
            },
            "type": "mesh3d"
           }
          ],
          "parcoords": [
           {
            "line": {
             "colorbar": {
              "outlinewidth": 0,
              "ticks": ""
             }
            },
            "type": "parcoords"
           }
          ],
          "pie": [
           {
            "automargin": true,
            "type": "pie"
           }
          ],
          "scatter3d": [
           {
            "line": {
             "colorbar": {
              "outlinewidth": 0,
              "ticks": ""
             }
            },
            "marker": {
             "colorbar": {
              "outlinewidth": 0,
              "ticks": ""
             }
            },
            "type": "scatter3d"
           }
          ],
          "scattercarpet": [
           {
            "marker": {
             "colorbar": {
              "outlinewidth": 0,
              "ticks": ""
             }
            },
            "type": "scattercarpet"
           }
          ],
          "scattergeo": [
           {
            "marker": {
             "colorbar": {
              "outlinewidth": 0,
              "ticks": ""
             }
            },
            "type": "scattergeo"
           }
          ],
          "scattergl": [
           {
            "marker": {
             "colorbar": {
              "outlinewidth": 0,
              "ticks": ""
             }
            },
            "type": "scattergl"
           }
          ],
          "scattermapbox": [
           {
            "marker": {
             "colorbar": {
              "outlinewidth": 0,
              "ticks": ""
             }
            },
            "type": "scattermapbox"
           }
          ],
          "scatterpolargl": [
           {
            "marker": {
             "colorbar": {
              "outlinewidth": 0,
              "ticks": ""
             }
            },
            "type": "scatterpolargl"
           }
          ],
          "scatterpolar": [
           {
            "marker": {
             "colorbar": {
              "outlinewidth": 0,
              "ticks": ""
             }
            },
            "type": "scatterpolar"
           }
          ],
          "scatter": [
           {
            "fillpattern": {
             "fillmode": "overlay",
             "size": 10,
             "solidity": 0.2
            },
            "type": "scatter"
           }
          ],
          "scatterternary": [
           {
            "marker": {
             "colorbar": {
              "outlinewidth": 0,
              "ticks": ""
             }
            },
            "type": "scatterternary"
           }
          ],
          "surface": [
           {
            "colorbar": {
             "outlinewidth": 0,
             "ticks": ""
            },
            "colorscale": [
             [
              0.0,
              "#0d0887"
             ],
             [
              0.1111111111111111,
              "#46039f"
             ],
             [
              0.2222222222222222,
              "#7201a8"
             ],
             [
              0.3333333333333333,
              "#9c179e"
             ],
             [
              0.4444444444444444,
              "#bd3786"
             ],
             [
              0.5555555555555556,
              "#d8576b"
             ],
             [
              0.6666666666666666,
              "#ed7953"
             ],
             [
              0.7777777777777778,
              "#fb9f3a"
             ],
             [
              0.8888888888888888,
              "#fdca26"
             ],
             [
              1.0,
              "#f0f921"
             ]
            ],
            "type": "surface"
           }
          ],
          "table": [
           {
            "cells": {
             "fill": {
              "color": "#EBF0F8"
             },
             "line": {
              "color": "white"
             }
            },
            "header": {
             "fill": {
              "color": "#C8D4E3"
             },
             "line": {
              "color": "white"
             }
            },
            "type": "table"
           }
          ]
         },
         "layout": {
          "annotationdefaults": {
           "arrowcolor": "#2a3f5f",
           "arrowhead": 0,
           "arrowwidth": 1
          },
          "autotypenumbers": "strict",
          "coloraxis": {
           "colorbar": {
            "outlinewidth": 0,
            "ticks": ""
           }
          },
          "colorscale": {
           "diverging": [
            [
             0,
             "#8e0152"
            ],
            [
             0.1,
             "#c51b7d"
            ],
            [
             0.2,
             "#de77ae"
            ],
            [
             0.3,
             "#f1b6da"
            ],
            [
             0.4,
             "#fde0ef"
            ],
            [
             0.5,
             "#f7f7f7"
            ],
            [
             0.6,
             "#e6f5d0"
            ],
            [
             0.7,
             "#b8e186"
            ],
            [
             0.8,
             "#7fbc41"
            ],
            [
             0.9,
             "#4d9221"
            ],
            [
             1,
             "#276419"
            ]
           ],
           "sequential": [
            [
             0.0,
             "#0d0887"
            ],
            [
             0.1111111111111111,
             "#46039f"
            ],
            [
             0.2222222222222222,
             "#7201a8"
            ],
            [
             0.3333333333333333,
             "#9c179e"
            ],
            [
             0.4444444444444444,
             "#bd3786"
            ],
            [
             0.5555555555555556,
             "#d8576b"
            ],
            [
             0.6666666666666666,
             "#ed7953"
            ],
            [
             0.7777777777777778,
             "#fb9f3a"
            ],
            [
             0.8888888888888888,
             "#fdca26"
            ],
            [
             1.0,
             "#f0f921"
            ]
           ],
           "sequentialminus": [
            [
             0.0,
             "#0d0887"
            ],
            [
             0.1111111111111111,
             "#46039f"
            ],
            [
             0.2222222222222222,
             "#7201a8"
            ],
            [
             0.3333333333333333,
             "#9c179e"
            ],
            [
             0.4444444444444444,
             "#bd3786"
            ],
            [
             0.5555555555555556,
             "#d8576b"
            ],
            [
             0.6666666666666666,
             "#ed7953"
            ],
            [
             0.7777777777777778,
             "#fb9f3a"
            ],
            [
             0.8888888888888888,
             "#fdca26"
            ],
            [
             1.0,
             "#f0f921"
            ]
           ]
          },
          "colorway": [
           "#636efa",
           "#EF553B",
           "#00cc96",
           "#ab63fa",
           "#FFA15A",
           "#19d3f3",
           "#FF6692",
           "#B6E880",
           "#FF97FF",
           "#FECB52"
          ],
          "font": {
           "color": "#2a3f5f"
          },
          "geo": {
           "bgcolor": "white",
           "lakecolor": "white",
           "landcolor": "#E5ECF6",
           "showlakes": true,
           "showland": true,
           "subunitcolor": "white"
          },
          "hoverlabel": {
           "align": "left"
          },
          "hovermode": "closest",
          "mapbox": {
           "style": "light"
          },
          "paper_bgcolor": "white",
          "plot_bgcolor": "#E5ECF6",
          "polar": {
           "angularaxis": {
            "gridcolor": "white",
            "linecolor": "white",
            "ticks": ""
           },
           "bgcolor": "#E5ECF6",
           "radialaxis": {
            "gridcolor": "white",
            "linecolor": "white",
            "ticks": ""
           }
          },
          "scene": {
           "xaxis": {
            "backgroundcolor": "#E5ECF6",
            "gridcolor": "white",
            "gridwidth": 2,
            "linecolor": "white",
            "showbackground": true,
            "ticks": "",
            "zerolinecolor": "white"
           },
           "yaxis": {
            "backgroundcolor": "#E5ECF6",
            "gridcolor": "white",
            "gridwidth": 2,
            "linecolor": "white",
            "showbackground": true,
            "ticks": "",
            "zerolinecolor": "white"
           },
           "zaxis": {
            "backgroundcolor": "#E5ECF6",
            "gridcolor": "white",
            "gridwidth": 2,
            "linecolor": "white",
            "showbackground": true,
            "ticks": "",
            "zerolinecolor": "white"
           }
          },
          "shapedefaults": {
           "line": {
            "color": "#2a3f5f"
           }
          },
          "ternary": {
           "aaxis": {
            "gridcolor": "white",
            "linecolor": "white",
            "ticks": ""
           },
           "baxis": {
            "gridcolor": "white",
            "linecolor": "white",
            "ticks": ""
           },
           "bgcolor": "#E5ECF6",
           "caxis": {
            "gridcolor": "white",
            "linecolor": "white",
            "ticks": ""
           }
          },
          "title": {
           "x": 0.05
          },
          "xaxis": {
           "automargin": true,
           "gridcolor": "white",
           "linecolor": "white",
           "ticks": "",
           "title": {
            "standoff": 15
           },
           "zerolinecolor": "white",
           "zerolinewidth": 2
          },
          "yaxis": {
           "automargin": true,
           "gridcolor": "white",
           "linecolor": "white",
           "ticks": "",
           "title": {
            "standoff": 15
           },
           "zerolinecolor": "white",
           "zerolinewidth": 2
          }
         }
        },
        "xaxis": {
         "anchor": "y",
         "domain": [
          0.0,
          1.0
         ],
         "title": {
          "text": "Settings"
         }
        },
        "yaxis": {
         "anchor": "x",
         "domain": [
          0.0,
          1.0
         ],
         "title": {
          "text": "ROM error [deg]"
         }
        },
        "legend": {
         "tracegroupgap": 0
        },
        "title": {
         "text": "Shoulder Abduction ROM error, cad = 9.99 deg"
        },
        "boxmode": "group",
        "shapes": [
         {
          "line": {
           "color": "red",
           "dash": "dash"
          },
          "name": "CAD",
          "type": "line",
          "x0": 0,
          "x1": 1,
          "xref": "x domain",
          "y0": 9.99,
          "y1": 9.99,
          "yref": "y"
         },
         {
          "line": {
           "color": "red",
           "dash": "dash"
          },
          "name": "CAD",
          "type": "line",
          "x0": 0,
          "x1": 1,
          "xref": "x domain",
          "y0": -9.99,
          "y1": -9.99,
          "yref": "y"
         }
        ]
       },
       "config": {
        "plotlyServerURL": "https://plot.ly"
       }
      },
      "text/html": [
       "<div>                            <div id=\"21845bd7-199f-400b-bbbb-79d52bae905c\" class=\"plotly-graph-div\" style=\"height:525px; width:100%;\"></div>            <script type=\"text/javascript\">                require([\"plotly\"], function(Plotly) {                    window.PLOTLYENV=window.PLOTLYENV || {};                                    if (document.getElementById(\"21845bd7-199f-400b-bbbb-79d52bae905c\")) {                    Plotly.newPlot(                        \"21845bd7-199f-400b-bbbb-79d52bae905c\",                        [{\"alignmentgroup\":\"True\",\"hovertemplate\":\"id_s_name=%{x}\\u003cbr\\u003eerror=%{y}\\u003cextra\\u003e\\u003c\\u002fextra\\u003e\",\"legendgroup\":\"\",\"marker\":{\"color\":\"#636efa\"},\"name\":\"\",\"notched\":false,\"offsetgroup\":\"\",\"orientation\":\"v\",\"showlegend\":false,\"x\":[\"SimCC, Cams: 1,2,3,4,5\",\"SimCC, Cams: 1,2,3,4,5\",\"SimCC, Cams: 1,2,3,4,5\",\"SimCC, Cams: 1,2,3,4,5\",\"SimCC, Cams: 1,2,3,4,5\",\"SimCC, Cams: 1,2,3,4,5\",\"SimCC, Cams: 1,2,3,4,5\",\"SimCC, Cams: 1,2,3,4,5\",\"SimCC, Cams: 1,2,3,4,5\",\"SimCC, Cams: 1,2,3,4,5\",\"SimCC, Cams: 1,2,3,4,5\",\"SimCC, Cams: 1,2,3,4,5\",\"SimCC, Cams: 1,2,3,4,5\",\"SimCC, Cams: 1,2,3,4,5\",\"SimCC, Cams: 1,2,3,4,5\",\"SimCC, Cams: 1,2,3,4,5\",\"SimCC, Cams: 1,2,3,4,5\",\"SimCC, Cams: 1,2,3,4,5\",\"SimCC, Cams: 1,2,3,4,5\",\"SimCC, Cams: 1,2,3,4,5\",\"SimCC, Cams: 1,2,3,4,5\",\"SimCC, Cams: 1,2,3,4,5\",\"SimCC, Cams: 1,2,3,4,5\",\"SimCC, Cams: 1,2,3,4,5\",\"SimCC, Cams: 1,2,3,4,5\",\"SimCC, Cams: 1,2,3,4,5\",\"SimCC, Cams: 1,2,3,4,5\",\"SimCC, Cams: 1,2,3,4,5\",\"SimCC, Cams: 1,2,3,4,5\",\"SimCC, Cams: 1,2,3,4,5\",\"SimCC, Cams: 1,2,3,4,5\",\"SimCC, Cams: 1,2,3,4,5\",\"SimCC, Cams: 1,2,3,4,5\",\"SimCC, Cams: 1,2,3,4,5\",\"SimCC, Cams: 1,2,3,4,5\",\"SimCC, Cams: 1,2,3,4,5\",\"SimCC, Cams: 1,2,3,4,5\",\"SimCC, Cams: 1,2,3,4,5\",\"SimCC, Cams: 1,2,3,4,5\",\"SimCC, Cams: 1,2,3,4,5\",\"SimCC, Cams: 1,2,3,4,5\",\"SimCC, Cams: 1,2,3,4,5\",\"SimCC, Cams: 1,2,3,4,5\",\"SimCC, Cams: 1,2,3,4,5\",\"SimCC, Cams: 1,2,3,4,5\",\"SimCC, Cams: 1,2,3,4,5\",\"SimCC, Cams: 1,2,3,4,5\",\"SimCC, Cams: 1,2,3,4,5\",\"SimCC, Cams: 1,2,3,4,5\",\"SimCC, Cams: 1,2,3,4,5\",\"SimCC, Cams: 1,2,3,4,5\",\"SimCC, Cams: 1,2,3,4,5\",\"SimCC, Cams: 1,2,3,4,5\",\"SimCC, Cams: 1,2,3,4,5\",\"SimCC, Cams: 1,2,3,4,5\",\"SimCC, Cams: 1,2,3,4,5\",\"SimCC, Cams: 1,2,3,4,5\",\"SimCC, Cams: 1,2,3,4,5\",\"SimCC, Cams: 1,2,3,4,5\",\"SimCC, Cams: 1,2,3,4,5\",\"SimCC, Cams: 1,2,3,4,5\",\"SimCC, Cams: 1,2,3,4,5\",\"SimCC, Cams: 1,2,3,4,5\",\"SimCC, Cams: 1,2,3,4,5\",\"SimCC, Cams: 1,2,3,4,5\",\"SimCC, Cams: 1,2,3,4,5\",\"SimCC, Cams: 1,2,3,4,5\",\"SimCC, Cams: 1,2,3,4,5\",\"SimCC, Cams: 1,2,3,4,5\",\"SimCC, Cams: 1,2,3,4,5\",\"SimCC, Cams: 1,2,3,4,5\",\"SimCC, Cams: 1,2,3,4,5\",\"SimCC, Cams: 1,2,3,4,5\",\"SimCC, Cams: 1,2,3,4,5\",\"SimCC, Cams: 1,2,3,4,5\",\"SimCC, Cams: 1,2,3,4,5\",\"SimCC, Cams: 1,2,3,4,5\",\"SimCC, Cams: 1,2,3,4,5\",\"SimCC, Cams: 1,2,3,4,5\",\"SimCC, Cams: 1,2,3,4,5\",\"SimCC, Cams: 1,2,3,4,5\",\"SimCC, Cams: 1,2,3,4,5\",\"SimCC, Cams: 1,2,3,4,5\",\"SimCC, Cams: 1,2,3,4,5\",\"SimCC, Cams: 1,2,3,4,5\",\"SimCC, Cams: 1,2,3,4,5\",\"SimCC, Cams: 1,2,3,4,5\",\"SimCC, Cams: 1,2,3,4,5\",\"SimCC, Cams: 1,2,3,4,5\",\"Metrabs, Cams: 1,2,3,4,5\",\"Metrabs, Cams: 1,2,3,4,5\",\"Metrabs, Cams: 1,2,3,4,5\",\"Metrabs, Cams: 1,2,3,4,5\",\"Metrabs, Cams: 1,2,3,4,5\",\"Metrabs, Cams: 1,2,3,4,5\",\"Metrabs, Cams: 1,2,3,4,5\",\"Metrabs, Cams: 1,2,3,4,5\",\"Metrabs, Cams: 1,2,3,4,5\",\"Metrabs, Cams: 1,2,3,4,5\",\"Metrabs, Cams: 1,2,3,4,5\",\"Metrabs, Cams: 1,2,3,4,5\",\"Metrabs, Cams: 1,2,3,4,5\",\"Metrabs, Cams: 1,2,3,4,5\",\"Metrabs, Cams: 1,2,3,4,5\",\"Metrabs, Cams: 1,2,3,4,5\",\"Metrabs, Cams: 1,2,3,4,5\",\"Metrabs, Cams: 1,2,3,4,5\",\"Metrabs, Cams: 1,2,3,4,5\",\"Metrabs, Cams: 1,2,3,4,5\",\"Metrabs, Cams: 1,2,3,4,5\",\"Metrabs, Cams: 1,2,3,4,5\",\"Metrabs, Cams: 1,2,3,4,5\",\"Metrabs, Cams: 1,2,3,4,5\",\"Metrabs, Cams: 1,2,3,4,5\",\"Metrabs, Cams: 1,2,3,4,5\",\"Metrabs, Cams: 1,2,3,4,5\",\"Metrabs, Cams: 1,2,3,4,5\",\"Metrabs, Cams: 1,2,3,4,5\",\"Metrabs, Cams: 1,2,3,4,5\",\"Metrabs, Cams: 1,2,3,4,5\",\"Metrabs, Cams: 1,2,3,4,5\",\"Metrabs, Cams: 1,2,3,4,5\",\"Metrabs, Cams: 1,2,3,4,5\",\"Metrabs, Cams: 1,2,3,4,5\",\"Metrabs, Cams: 1,2,3,4,5\",\"Metrabs, Cams: 1,2,3,4,5\",\"Metrabs, Cams: 1,2,3,4,5\",\"Metrabs, Cams: 1,2,3,4,5\",\"Metrabs, Cams: 1,2,3,4,5\",\"Metrabs, Cams: 1,2,3,4,5\",\"Metrabs, Cams: 1,2,3,4,5\",\"Metrabs, Cams: 1,2,3,4,5\",\"Metrabs, Cams: 1,2,3,4,5\",\"Metrabs, Cams: 1,2,3,4,5\",\"Metrabs, Cams: 1,2,3,4,5\",\"Metrabs, Cams: 1,2,3,4,5\",\"Metrabs, Cams: 1,2,3,4,5\",\"Metrabs, Cams: 1,2,3,4,5\",\"Metrabs, Cams: 1,2,3,4,5\",\"Metrabs, Cams: 1,2,3,4,5\",\"Metrabs, Cams: 1,2,3,4,5\",\"Metrabs, Cams: 1,2,3,4,5\",\"Metrabs, Cams: 1,2,3,4,5\",\"Metrabs, Cams: 1,2,3,4,5\",\"Metrabs, Cams: 1,2,3,4,5\",\"Metrabs, Cams: 1,2,3,4,5\",\"Metrabs, Cams: 1,2,3,4,5\",\"Metrabs, Cams: 1,2,3,4,5\",\"Metrabs, Cams: 1,2,3,4,5\",\"Metrabs, Cams: 1,2,3,4,5\",\"Metrabs, Cams: 1,2,3,4,5\",\"Metrabs, Cams: 1,2,3,4,5\",\"Metrabs, Cams: 1,2,3,4,5\",\"Metrabs, Cams: 1,2,3,4,5\",\"Metrabs, Cams: 1,2,3,4,5\",\"Metrabs, Cams: 1,2,3,4,5\",\"Metrabs, Cams: 1,2,3,4,5\",\"Metrabs, Cams: 1,2,3,4,5\",\"Metrabs, Cams: 1,2,3,4,5\",\"Metrabs, Cams: 1,2,3,4,5\",\"Metrabs, Cams: 1,2,3,4,5\",\"Metrabs, Cams: 1,2,3,4,5\",\"Metrabs, Cams: 1,2,3,4,5\",\"Metrabs, Cams: 1,2,3,4,5\",\"Metrabs, Cams: 1,2,3,4,5\",\"Metrabs, Cams: 1,2,3,4,5\",\"Metrabs, Cams: 1,2,3,4,5\",\"Metrabs, Cams: 1,2,3,4,5\",\"Metrabs, Cams: 1,2,3,4,5\",\"Metrabs, Cams: 1,2,3,4,5\",\"Metrabs, Cams: 1,2,3,4,5\",\"Metrabs, Cams: 1,2,3,4,5\",\"Metrabs, Cams: 1,2,3,4,5\",\"Metrabs, Cams: 1,2,3,4,5\",\"Metrabs, Cams: 1,2,3,4,5\",\"Metrabs, Cams: 1,2,3,4,5\",\"Metrabs, Cams: 1,2,3,4,5\",\"Metrabs, Cams: 1,2,3,4,5\",\"Metrabs, Cams: 1,2,3,4,5\",\"Single, Cam: 1, filt\",\"Single, Cam: 1, filt\",\"Single, Cam: 1, filt\",\"Single, Cam: 1, filt\",\"Single, Cam: 1, filt\",\"Single, Cam: 1, filt\",\"Single, Cam: 1, filt\",\"Single, Cam: 1, filt\",\"Single, Cam: 1, filt\",\"Single, Cam: 1, filt\",\"Single, Cam: 1, filt\",\"Single, Cam: 1, filt\",\"Single, Cam: 1, filt\",\"Single, Cam: 1, filt\",\"Single, Cam: 1, filt\",\"Single, Cam: 1, filt\",\"Single, Cam: 1, filt\",\"Single, Cam: 1, filt\",\"Single, Cam: 1, filt\",\"Single, Cam: 1, filt\",\"Single, Cam: 1, filt\",\"Single, Cam: 1, filt\",\"Single, Cam: 1, filt\",\"Single, Cam: 1, filt\",\"Single, Cam: 1, filt\",\"Single, Cam: 1, filt\",\"Single, Cam: 1, filt\",\"Single, Cam: 1, filt\",\"Single, Cam: 1, filt\",\"Single, Cam: 1, filt\",\"Single, Cam: 1, filt\",\"Single, Cam: 1, filt\",\"Single, Cam: 1, filt\",\"Single, Cam: 1, filt\",\"Single, Cam: 1, filt\",\"Single, Cam: 1, filt\",\"Single, Cam: 1, filt\",\"Single, Cam: 1, filt\",\"Single, Cam: 1, filt\",\"Single, Cam: 1, filt\",\"Single, Cam: 1, filt\",\"Single, Cam: 1, filt\",\"Single, Cam: 1, filt\",\"Single, Cam: 1, filt\",\"Single, Cam: 1, filt\",\"Single, Cam: 1, filt\",\"Single, Cam: 1, filt\",\"Single, Cam: 1, filt\",\"Single, Cam: 1, filt\",\"Single, Cam: 1, filt\",\"Single, Cam: 1, filt\",\"Single, Cam: 1, filt\",\"Single, Cam: 1, filt\",\"Single, Cam: 1, filt\",\"Single, Cam: 1, filt\",\"Single, Cam: 1, filt\",\"Single, Cam: 1, filt\",\"Single, Cam: 1, filt\",\"Single, Cam: 1, filt\",\"Single, Cam: 1, filt\",\"Single, Cam: 1, filt\",\"Single, Cam: 1, filt\",\"Single, Cam: 1, filt\",\"Single, Cam: 1, filt\",\"Single, Cam: 1, filt\",\"Single, Cam: 1, filt\",\"Single, Cam: 1, filt\",\"Single, Cam: 1, filt\",\"Single, Cam: 1, filt\",\"Single, Cam: 1, filt\",\"Single, Cam: 1, filt\",\"Single, Cam: 1, filt\",\"Single, Cam: 1, filt\",\"Single, Cam: 1, filt\",\"Single, Cam: 1, filt\",\"Single, Cam: 1, filt\",\"Single, Cam: 1, filt\",\"Single, Cam: 1, filt\",\"Single, Cam: 1, filt\",\"Single, Cam: 1, filt\",\"Single, Cam: 1, filt\",\"Single, Cam: 1, filt\",\"Single, Cam: 1, filt\",\"Single, Cam: 1, filt\",\"Single, Cam: 1, filt\",\"Single, Cam: 1, filt\",\"Single, Cam: 1, filt\",\"Single, Cam: 1, filt\",\"Single, Cam: 1, filt\",\"Single, Cam: 1, filt\",\"Single, Cam: 1, unfilt\",\"Single, Cam: 1, unfilt\",\"Single, Cam: 1, unfilt\",\"Single, Cam: 1, unfilt\",\"Single, Cam: 1, unfilt\",\"Single, Cam: 1, unfilt\",\"Single, Cam: 1, unfilt\",\"Single, Cam: 1, unfilt\",\"Single, Cam: 1, unfilt\",\"Single, Cam: 1, unfilt\",\"Single, Cam: 1, unfilt\",\"Single, Cam: 1, unfilt\",\"Single, Cam: 1, unfilt\",\"Single, Cam: 1, unfilt\",\"Single, Cam: 1, unfilt\",\"Single, Cam: 1, unfilt\",\"Single, Cam: 1, unfilt\",\"Single, Cam: 1, unfilt\",\"Single, Cam: 1, unfilt\",\"Single, Cam: 1, unfilt\",\"Single, Cam: 1, unfilt\",\"Single, Cam: 1, unfilt\",\"Single, Cam: 1, unfilt\",\"Single, Cam: 1, unfilt\",\"Single, Cam: 1, unfilt\",\"Single, Cam: 1, unfilt\",\"Single, Cam: 1, unfilt\",\"Single, Cam: 1, unfilt\",\"Single, Cam: 1, unfilt\",\"Single, Cam: 1, unfilt\",\"Single, Cam: 1, unfilt\",\"Single, Cam: 1, unfilt\",\"Single, Cam: 1, unfilt\",\"Single, Cam: 1, unfilt\",\"Single, Cam: 1, unfilt\",\"Single, Cam: 1, unfilt\",\"Single, Cam: 1, unfilt\",\"Single, Cam: 1, unfilt\",\"Single, Cam: 1, unfilt\",\"Single, Cam: 1, unfilt\",\"Single, Cam: 1, unfilt\",\"Single, Cam: 1, unfilt\",\"Single, Cam: 1, unfilt\",\"Single, Cam: 1, unfilt\",\"Single, Cam: 1, unfilt\",\"Single, Cam: 1, unfilt\",\"Single, Cam: 1, unfilt\",\"Single, Cam: 1, unfilt\",\"Single, Cam: 1, unfilt\",\"Single, Cam: 1, unfilt\",\"Single, Cam: 1, unfilt\",\"Single, Cam: 1, unfilt\",\"Single, Cam: 1, unfilt\",\"Single, Cam: 1, unfilt\",\"Single, Cam: 1, unfilt\",\"Single, Cam: 1, unfilt\",\"Single, Cam: 1, unfilt\",\"Single, Cam: 1, unfilt\",\"Single, Cam: 1, unfilt\",\"Single, Cam: 1, unfilt\",\"Single, Cam: 1, unfilt\",\"Single, Cam: 1, unfilt\",\"Single, Cam: 1, unfilt\",\"Single, Cam: 1, unfilt\",\"Single, Cam: 1, unfilt\",\"Single, Cam: 1, unfilt\",\"Single, Cam: 1, unfilt\",\"Single, Cam: 1, unfilt\",\"Single, Cam: 1, unfilt\",\"Single, Cam: 1, unfilt\",\"Single, Cam: 1, unfilt\",\"Single, Cam: 1, unfilt\",\"Single, Cam: 1, unfilt\",\"Single, Cam: 1, unfilt\",\"Single, Cam: 1, unfilt\",\"Single, Cam: 1, unfilt\",\"Single, Cam: 1, unfilt\",\"Single, Cam: 1, unfilt\",\"Single, Cam: 1, unfilt\",\"Single, Cam: 1, unfilt\",\"Single, Cam: 1, unfilt\",\"Single, Cam: 1, unfilt\",\"Single, Cam: 1, unfilt\",\"Single, Cam: 1, unfilt\",\"Single, Cam: 1, unfilt\",\"Single, Cam: 1, unfilt\",\"Single, Cam: 1, unfilt\",\"Single, Cam: 1, unfilt\",\"Single, Cam: 1, unfilt\",\"Single, Cam: 1, unfilt\"],\"x0\":\" \",\"xaxis\":\"x\",\"y\":[7.017451676002621,1.3631885266676729,0.9954202013086503,1.8594053484026045,0.7117760938398418,0.3617803647124053,1.7720613198637019,1.2041243327798286,5.767646457638278,3.232935412925957,0.3877844250404397,0.18745909717466194,0.7848877769759134,2.1655963128966045,1.5111166445899091,2.315242063712566,0.3926376873497241,1.047808776255932,1.9131395662540298,-1.0667905572127894,-0.3298856743396321,1.1026175449433977,1.3323636796176948,0.9896523566777733,0.9813971378539394,-0.5149908716451093,1.1940650456663213,2.3266435882027556,-0.324406049763097,0.18029521678496133,1.139731256541226,-0.21750604180754157,0.30458822979083855,2.758326445448163,2.389075404323961,2.3275556705478957,1.8087247783807066,3.087655155096441,1.827701379623907,3.713136311126897,0.9870727039120448,1.4152256639561915,3.134578410192872,4.528543485898346,5.534478163390298,4.659098909408525,4.399587775478675,2.454474817606738,4.73967760393424,4.390978784803762,6.1494545763442545,4.935883348235596,2.4100738893841434,2.9893246673818807,3.526303071289484,2.879855602183973,0.5783432067999167,1.6606424049684174,2.323265845979508,4.56044133070459,0.9503525321334617,1.6940499242483504,-0.6908223279185131,3.2982763015016174,2.020793975272189,1.342237816112427,2.1815588768346617,2.9794638655601955,2.2990486505713648,2.406102462956024,0.9456719364547421,0.7187373535096562,0.7246171248906057,2.526188892111432,1.4907285331037536,1.3651254939861885,2.6432080426024727,1.1737075666867247,0.9206925794770905,0.9540026440873296,1.0683860678055754,1.6211403763170582,2.763808635803841,-0.02039208039847301,-1.297893714638537,0.1931145666179254,-1.527734176754084,-1.008061279714699,-0.3164098702868188,1.2770122447084193,0.3579316167446687,1.0743953996751792,0.09799355501015643,-0.5031859273028644,-0.8351378327774563,-1.1850521400345122,-1.9889946064178872,-2.6793680887409765,-0.9774117263837969,-1.3353325102410536,-2.0063688576166245,-0.975175198690715,-1.5954810465095706,-1.1339579341660477,-1.6477381282855024,-1.4960768740052284,-1.7717838554308862,0.1386037009140099,-2.078938640323204,-2.5122393082698546,-0.4772342809249025,-1.8530264487083163,-2.5389658958533183,-1.068424364098848,-2.46110336702841,-2.0908504498518594,1.1234661524255187,-2.5556102886573386,-2.690387718904993,-1.1880016451026278,-2.553454020058428,-2.048213528902232,0.6537465614772197,-0.28525997743891884,-1.7345239511272397,-0.7308485840836344,-1.0744775257546373,-2.687353589886628,4.86168439812306,-2.066691895527686,-0.13544753458184502,1.0997311308131275,2.028138488453529,2.484535793105695,2.086259904430161,1.4532043697217543,2.234829894886396,3.5045446421259596,4.190192685821118,4.258916429807646,2.7284734812659224,0.8460434316458597,1.4190622164146522,4.10596524682736,5.529307427046276,3.6762020088376843,2.3281074690856607,4.3437130248484985,4.70825962382598,2.319417045221186,2.0988727689917304,-1.368760775980115,2.291094059876191,1.8586367342643948,1.7382025120109408,0.5719331005448609,2.201706752743686,0.8376954763361031,2.7362435056800583,-1.6969313769176344,-2.7933823052126363,0.13317244609576986,0.9377908499060437,1.9290556440557864,2.1902904628726283,2.582700806421987,1.43032086062896,1.9492629614618373,1.7896065295748051,2.558146575096507,1.8562321466676441,2.585538154980996,5.37963125346793,2.270442781062224,-1.5946041748039974,5.319037926779828,5.487988633642774,2.800731315457443,18.490377952236287,1.7112513490714707,-3.6854092725183762,-0.9321076639368859,-1.663537837854865,-0.20990538154785346,-2.5825250241530218,-3.772136495460745,-3.755396036089613,-3.563739313437058,-3.1738946842501923,-4.0658870200771595,-5.988890152211185,-3.2716227989397524,-3.801419690179686,-4.029267141133441,-2.290172138939868,-3.278219736289748,-2.431663462232237,-1.1565958622105426,-3.8739822824027623,-4.412326289850735,-2.942248200606422,-5.672803549185958,-4.653586246860534,-3.3123105426187465,-5.122221952918811,-4.334339630645062,-3.046210766146971,-6.738297752590086,-6.313312612558009,-4.12083497808827,-3.5491396795666788,-4.316372037102505,-5.833098893643318,-5.164088349042148,-4.457468905134442,-6.343020841274978,-5.621863373962414,-5.150026288707322,-4.016525028051822,-4.850980017930945,-5.986265748836153,-3.028990835751085,0.32886472413302975,-2.1056182139994477,-2.3909006799220394,-2.064924732209047,-1.5776477285946233,-0.37492108284931697,-0.1861779808094227,-1.2527744591799979,-2.352585754029963,-3.031162172458014,-2.8074728293551052,-0.4887970352715734,-1.7181757898893342,-2.2452076950788675,-2.5417551562496774,-1.3664205016272104,-0.03523079031298134,-3.8245900770291246,-2.8554005971574297,-6.460564490549686,-4.3563871705649175,-3.4335154559680894,-3.9248380972428127,-2.61927320348822,-3.5686186905926327,-3.9657785252983735,-3.3023271452230847,-5.480312079021714,-4.760980417840054,-3.8731031421651623,-4.258080424902114,-4.9824937016187,-3.4687114477268683,-4.1836416377982895,-3.198510640769807,-3.550266153773811,-3.6486012407949318,-3.033625575403967,-2.873119507368519,-2.3467147950668514,-0.869361820286441,-2.1898525388660817,-1.73739544747207,-3.7026879951701526,-1.689154865190606,-2.465268009482178,3.60709576623632,1.8552177483916155,-4.36804696725444,-0.9048557788711035,-1.576081570138136,-0.25860120842796225,-2.4187023268040826,-3.6916713637486525,-2.421409631978945,-3.4635961637216397,-3.0944794270940115,-3.9852745418723834,-5.8618634637085565,-3.17821833583845,-3.728247073826449,-3.8757274322210074,-2.1993702909083646,-2.150913236835747,-1.1618727869305838,-1.1912599526390362,-3.3124464508204725,-3.2962202757827135,-2.8607898674772994,-5.5993453480811795,-3.5293506087354864,-3.3436934794907978,-5.025302747722408,-4.212455254807976,-2.936489235271501,-6.652395137151873,-6.242811685238159,-4.020410658739985,-3.523126737535698,-4.268317048025784,-5.699316860393883,-5.124952551442942,-4.355581017864269,-6.269531213081144,-5.505119991705764,-5.064034507902392,-3.8944031993127908,-4.76173537962849,-5.852833705884244,-2.877108981575478,0.3791433260544948,-2.016175666035555,-2.2885614251312396,-1.9445802739088258,-1.4607980513560557,-0.2642350338116352,-0.06719878334525221,-1.180927260926527,-2.242937240818695,-2.9295997597991894,-2.7150580111723897,-0.4394290863365966,-1.5908704293511817,-2.146224710444073,-2.4728188645482803,-1.2675591889588282,0.05207205980765801,-3.6761479165894366,-2.7105711400326435,-6.364173208025268,-4.229309346236083,-3.2897049583633984,-3.7852701760466787,-2.463728517563172,-3.445150382940551,-3.7883458867142634,-3.1403879402270687,-5.3584952328174795,-4.655725601775944,-3.7843754754958714,-4.13524404917202,-4.82942968861938,-3.3519086352435714,-4.037032884126441,-3.0408453930643193,-3.3644079593911256,-3.5611333835123378,-2.9380814613507407,-2.685564026196815,-2.294469375480688,-0.7282868738388686,-1.970719299986584,-1.6117790201756916,-3.6031855319863784,-1.5416273471212936,-2.3105812499730094,3.763075550529834],\"y0\":\" \",\"yaxis\":\"y\",\"type\":\"box\"}],                        {\"template\":{\"data\":{\"barpolar\":[{\"marker\":{\"line\":{\"color\":\"#E5ECF6\",\"width\":0.5},\"pattern\":{\"fillmode\":\"overlay\",\"size\":10,\"solidity\":0.2}},\"type\":\"barpolar\"}],\"bar\":[{\"error_x\":{\"color\":\"#2a3f5f\"},\"error_y\":{\"color\":\"#2a3f5f\"},\"marker\":{\"line\":{\"color\":\"#E5ECF6\",\"width\":0.5},\"pattern\":{\"fillmode\":\"overlay\",\"size\":10,\"solidity\":0.2}},\"type\":\"bar\"}],\"carpet\":[{\"aaxis\":{\"endlinecolor\":\"#2a3f5f\",\"gridcolor\":\"white\",\"linecolor\":\"white\",\"minorgridcolor\":\"white\",\"startlinecolor\":\"#2a3f5f\"},\"baxis\":{\"endlinecolor\":\"#2a3f5f\",\"gridcolor\":\"white\",\"linecolor\":\"white\",\"minorgridcolor\":\"white\",\"startlinecolor\":\"#2a3f5f\"},\"type\":\"carpet\"}],\"choropleth\":[{\"colorbar\":{\"outlinewidth\":0,\"ticks\":\"\"},\"type\":\"choropleth\"}],\"contourcarpet\":[{\"colorbar\":{\"outlinewidth\":0,\"ticks\":\"\"},\"type\":\"contourcarpet\"}],\"contour\":[{\"colorbar\":{\"outlinewidth\":0,\"ticks\":\"\"},\"colorscale\":[[0.0,\"#0d0887\"],[0.1111111111111111,\"#46039f\"],[0.2222222222222222,\"#7201a8\"],[0.3333333333333333,\"#9c179e\"],[0.4444444444444444,\"#bd3786\"],[0.5555555555555556,\"#d8576b\"],[0.6666666666666666,\"#ed7953\"],[0.7777777777777778,\"#fb9f3a\"],[0.8888888888888888,\"#fdca26\"],[1.0,\"#f0f921\"]],\"type\":\"contour\"}],\"heatmapgl\":[{\"colorbar\":{\"outlinewidth\":0,\"ticks\":\"\"},\"colorscale\":[[0.0,\"#0d0887\"],[0.1111111111111111,\"#46039f\"],[0.2222222222222222,\"#7201a8\"],[0.3333333333333333,\"#9c179e\"],[0.4444444444444444,\"#bd3786\"],[0.5555555555555556,\"#d8576b\"],[0.6666666666666666,\"#ed7953\"],[0.7777777777777778,\"#fb9f3a\"],[0.8888888888888888,\"#fdca26\"],[1.0,\"#f0f921\"]],\"type\":\"heatmapgl\"}],\"heatmap\":[{\"colorbar\":{\"outlinewidth\":0,\"ticks\":\"\"},\"colorscale\":[[0.0,\"#0d0887\"],[0.1111111111111111,\"#46039f\"],[0.2222222222222222,\"#7201a8\"],[0.3333333333333333,\"#9c179e\"],[0.4444444444444444,\"#bd3786\"],[0.5555555555555556,\"#d8576b\"],[0.6666666666666666,\"#ed7953\"],[0.7777777777777778,\"#fb9f3a\"],[0.8888888888888888,\"#fdca26\"],[1.0,\"#f0f921\"]],\"type\":\"heatmap\"}],\"histogram2dcontour\":[{\"colorbar\":{\"outlinewidth\":0,\"ticks\":\"\"},\"colorscale\":[[0.0,\"#0d0887\"],[0.1111111111111111,\"#46039f\"],[0.2222222222222222,\"#7201a8\"],[0.3333333333333333,\"#9c179e\"],[0.4444444444444444,\"#bd3786\"],[0.5555555555555556,\"#d8576b\"],[0.6666666666666666,\"#ed7953\"],[0.7777777777777778,\"#fb9f3a\"],[0.8888888888888888,\"#fdca26\"],[1.0,\"#f0f921\"]],\"type\":\"histogram2dcontour\"}],\"histogram2d\":[{\"colorbar\":{\"outlinewidth\":0,\"ticks\":\"\"},\"colorscale\":[[0.0,\"#0d0887\"],[0.1111111111111111,\"#46039f\"],[0.2222222222222222,\"#7201a8\"],[0.3333333333333333,\"#9c179e\"],[0.4444444444444444,\"#bd3786\"],[0.5555555555555556,\"#d8576b\"],[0.6666666666666666,\"#ed7953\"],[0.7777777777777778,\"#fb9f3a\"],[0.8888888888888888,\"#fdca26\"],[1.0,\"#f0f921\"]],\"type\":\"histogram2d\"}],\"histogram\":[{\"marker\":{\"pattern\":{\"fillmode\":\"overlay\",\"size\":10,\"solidity\":0.2}},\"type\":\"histogram\"}],\"mesh3d\":[{\"colorbar\":{\"outlinewidth\":0,\"ticks\":\"\"},\"type\":\"mesh3d\"}],\"parcoords\":[{\"line\":{\"colorbar\":{\"outlinewidth\":0,\"ticks\":\"\"}},\"type\":\"parcoords\"}],\"pie\":[{\"automargin\":true,\"type\":\"pie\"}],\"scatter3d\":[{\"line\":{\"colorbar\":{\"outlinewidth\":0,\"ticks\":\"\"}},\"marker\":{\"colorbar\":{\"outlinewidth\":0,\"ticks\":\"\"}},\"type\":\"scatter3d\"}],\"scattercarpet\":[{\"marker\":{\"colorbar\":{\"outlinewidth\":0,\"ticks\":\"\"}},\"type\":\"scattercarpet\"}],\"scattergeo\":[{\"marker\":{\"colorbar\":{\"outlinewidth\":0,\"ticks\":\"\"}},\"type\":\"scattergeo\"}],\"scattergl\":[{\"marker\":{\"colorbar\":{\"outlinewidth\":0,\"ticks\":\"\"}},\"type\":\"scattergl\"}],\"scattermapbox\":[{\"marker\":{\"colorbar\":{\"outlinewidth\":0,\"ticks\":\"\"}},\"type\":\"scattermapbox\"}],\"scatterpolargl\":[{\"marker\":{\"colorbar\":{\"outlinewidth\":0,\"ticks\":\"\"}},\"type\":\"scatterpolargl\"}],\"scatterpolar\":[{\"marker\":{\"colorbar\":{\"outlinewidth\":0,\"ticks\":\"\"}},\"type\":\"scatterpolar\"}],\"scatter\":[{\"fillpattern\":{\"fillmode\":\"overlay\",\"size\":10,\"solidity\":0.2},\"type\":\"scatter\"}],\"scatterternary\":[{\"marker\":{\"colorbar\":{\"outlinewidth\":0,\"ticks\":\"\"}},\"type\":\"scatterternary\"}],\"surface\":[{\"colorbar\":{\"outlinewidth\":0,\"ticks\":\"\"},\"colorscale\":[[0.0,\"#0d0887\"],[0.1111111111111111,\"#46039f\"],[0.2222222222222222,\"#7201a8\"],[0.3333333333333333,\"#9c179e\"],[0.4444444444444444,\"#bd3786\"],[0.5555555555555556,\"#d8576b\"],[0.6666666666666666,\"#ed7953\"],[0.7777777777777778,\"#fb9f3a\"],[0.8888888888888888,\"#fdca26\"],[1.0,\"#f0f921\"]],\"type\":\"surface\"}],\"table\":[{\"cells\":{\"fill\":{\"color\":\"#EBF0F8\"},\"line\":{\"color\":\"white\"}},\"header\":{\"fill\":{\"color\":\"#C8D4E3\"},\"line\":{\"color\":\"white\"}},\"type\":\"table\"}]},\"layout\":{\"annotationdefaults\":{\"arrowcolor\":\"#2a3f5f\",\"arrowhead\":0,\"arrowwidth\":1},\"autotypenumbers\":\"strict\",\"coloraxis\":{\"colorbar\":{\"outlinewidth\":0,\"ticks\":\"\"}},\"colorscale\":{\"diverging\":[[0,\"#8e0152\"],[0.1,\"#c51b7d\"],[0.2,\"#de77ae\"],[0.3,\"#f1b6da\"],[0.4,\"#fde0ef\"],[0.5,\"#f7f7f7\"],[0.6,\"#e6f5d0\"],[0.7,\"#b8e186\"],[0.8,\"#7fbc41\"],[0.9,\"#4d9221\"],[1,\"#276419\"]],\"sequential\":[[0.0,\"#0d0887\"],[0.1111111111111111,\"#46039f\"],[0.2222222222222222,\"#7201a8\"],[0.3333333333333333,\"#9c179e\"],[0.4444444444444444,\"#bd3786\"],[0.5555555555555556,\"#d8576b\"],[0.6666666666666666,\"#ed7953\"],[0.7777777777777778,\"#fb9f3a\"],[0.8888888888888888,\"#fdca26\"],[1.0,\"#f0f921\"]],\"sequentialminus\":[[0.0,\"#0d0887\"],[0.1111111111111111,\"#46039f\"],[0.2222222222222222,\"#7201a8\"],[0.3333333333333333,\"#9c179e\"],[0.4444444444444444,\"#bd3786\"],[0.5555555555555556,\"#d8576b\"],[0.6666666666666666,\"#ed7953\"],[0.7777777777777778,\"#fb9f3a\"],[0.8888888888888888,\"#fdca26\"],[1.0,\"#f0f921\"]]},\"colorway\":[\"#636efa\",\"#EF553B\",\"#00cc96\",\"#ab63fa\",\"#FFA15A\",\"#19d3f3\",\"#FF6692\",\"#B6E880\",\"#FF97FF\",\"#FECB52\"],\"font\":{\"color\":\"#2a3f5f\"},\"geo\":{\"bgcolor\":\"white\",\"lakecolor\":\"white\",\"landcolor\":\"#E5ECF6\",\"showlakes\":true,\"showland\":true,\"subunitcolor\":\"white\"},\"hoverlabel\":{\"align\":\"left\"},\"hovermode\":\"closest\",\"mapbox\":{\"style\":\"light\"},\"paper_bgcolor\":\"white\",\"plot_bgcolor\":\"#E5ECF6\",\"polar\":{\"angularaxis\":{\"gridcolor\":\"white\",\"linecolor\":\"white\",\"ticks\":\"\"},\"bgcolor\":\"#E5ECF6\",\"radialaxis\":{\"gridcolor\":\"white\",\"linecolor\":\"white\",\"ticks\":\"\"}},\"scene\":{\"xaxis\":{\"backgroundcolor\":\"#E5ECF6\",\"gridcolor\":\"white\",\"gridwidth\":2,\"linecolor\":\"white\",\"showbackground\":true,\"ticks\":\"\",\"zerolinecolor\":\"white\"},\"yaxis\":{\"backgroundcolor\":\"#E5ECF6\",\"gridcolor\":\"white\",\"gridwidth\":2,\"linecolor\":\"white\",\"showbackground\":true,\"ticks\":\"\",\"zerolinecolor\":\"white\"},\"zaxis\":{\"backgroundcolor\":\"#E5ECF6\",\"gridcolor\":\"white\",\"gridwidth\":2,\"linecolor\":\"white\",\"showbackground\":true,\"ticks\":\"\",\"zerolinecolor\":\"white\"}},\"shapedefaults\":{\"line\":{\"color\":\"#2a3f5f\"}},\"ternary\":{\"aaxis\":{\"gridcolor\":\"white\",\"linecolor\":\"white\",\"ticks\":\"\"},\"baxis\":{\"gridcolor\":\"white\",\"linecolor\":\"white\",\"ticks\":\"\"},\"bgcolor\":\"#E5ECF6\",\"caxis\":{\"gridcolor\":\"white\",\"linecolor\":\"white\",\"ticks\":\"\"}},\"title\":{\"x\":0.05},\"xaxis\":{\"automargin\":true,\"gridcolor\":\"white\",\"linecolor\":\"white\",\"ticks\":\"\",\"title\":{\"standoff\":15},\"zerolinecolor\":\"white\",\"zerolinewidth\":2},\"yaxis\":{\"automargin\":true,\"gridcolor\":\"white\",\"linecolor\":\"white\",\"ticks\":\"\",\"title\":{\"standoff\":15},\"zerolinecolor\":\"white\",\"zerolinewidth\":2}}},\"xaxis\":{\"anchor\":\"y\",\"domain\":[0.0,1.0],\"title\":{\"text\":\"Settings\"}},\"yaxis\":{\"anchor\":\"x\",\"domain\":[0.0,1.0],\"title\":{\"text\":\"ROM error [deg]\"}},\"legend\":{\"tracegroupgap\":0},\"title\":{\"text\":\"Shoulder Abduction ROM error, cad = 9.99 deg\"},\"boxmode\":\"group\",\"shapes\":[{\"line\":{\"color\":\"red\",\"dash\":\"dash\"},\"name\":\"CAD\",\"type\":\"line\",\"x0\":0,\"x1\":1,\"xref\":\"x domain\",\"y0\":9.99,\"y1\":9.99,\"yref\":\"y\"},{\"line\":{\"color\":\"red\",\"dash\":\"dash\"},\"name\":\"CAD\",\"type\":\"line\",\"x0\":0,\"x1\":1,\"xref\":\"x domain\",\"y0\":-9.99,\"y1\":-9.99,\"yref\":\"y\"}]},                        {\"responsive\": true}                    ).then(function(){\n",
       "                            \n",
       "var gd = document.getElementById('21845bd7-199f-400b-bbbb-79d52bae905c');\n",
       "var x = new MutationObserver(function (mutations, observer) {{\n",
       "        var display = window.getComputedStyle(gd).display;\n",
       "        if (!display || display === 'none') {{\n",
       "            console.log([gd, 'removed!']);\n",
       "            Plotly.purge(gd);\n",
       "            observer.disconnect();\n",
       "        }}\n",
       "}});\n",
       "\n",
       "// Listen for the removal of the full notebook cells\n",
       "var notebookContainer = gd.closest('#notebook-container');\n",
       "if (notebookContainer) {{\n",
       "    x.observe(notebookContainer, {childList: true});\n",
       "}}\n",
       "\n",
       "// Listen for the clearing of the current output cell\n",
       "var outputEl = gd.closest('.output');\n",
       "if (outputEl) {{\n",
       "    x.observe(outputEl, {childList: true});\n",
       "}}\n",
       "\n",
       "                        })                };                });            </script>        </div>"
      ]
     },
     "metadata": {},
     "output_type": "display_data"
    }
   ],
   "execution_count": 116
  },
  {
   "metadata": {},
   "cell_type": "markdown",
   "source": "## ROM RMSE\n",
   "id": "366eb9bcd79d9cd9"
  },
  {
   "metadata": {
    "ExecuteTime": {
     "end_time": "2024-12-29T22:14:54.794664Z",
     "start_time": "2024-12-29T22:14:54.768455Z"
    }
   },
   "cell_type": "code",
   "source": [
    "dir_stat_cont = os.path.join(root_stat, '01_continuous')\n",
    "dir_results = os.path.join(dir_stat_cont, '01_results')\n",
    "dir_plots = os.path.join(dir_stat_cont, '02_plots')\n",
    "\n",
    "csv_rom_rmse = os.path.join(dir_results, 'omc_mmc_rom_rmse.csv')\n",
    "df_rom_rmse = pd.read_csv(csv_rom_rmse, sep=';')\n",
    "\n",
    "metrics = ['hand_vel', 'elbow_vel', 'trunk_disp', 'elbow_flex_pos', 'shoulder_flex_pos',\n",
    "           'shoulder_abduction_pos']"
   ],
   "id": "82a21219a608362e",
   "outputs": [],
   "execution_count": 18
  },
  {
   "metadata": {
    "ExecuteTime": {
     "end_time": "2024-12-29T22:14:55.426887Z",
     "start_time": "2024-12-29T22:14:55.424881Z"
    }
   },
   "cell_type": "code",
   "source": "",
   "id": "c40603f1a0b06935",
   "outputs": [],
   "execution_count": null
  },
  {
   "metadata": {
    "ExecuteTime": {
     "end_time": "2024-12-29T22:14:56.092400Z",
     "start_time": "2024-12-29T22:14:56.084881Z"
    }
   },
   "cell_type": "code",
   "source": [
    "\"\"\"df_rom_rmse['id_s']= df_rom_rmse['id'].str.split('_').str[0]\n",
    "df_rom_rmse['id_p']= df_rom_rmse['id'].str.split('_').str[1]\n",
    "df_rom_rmse['id_p'] = df_rom_rmse['id_p'].fillna(np.nan)\n",
    "\n",
    "df_rom_rmse = df_rom_rmse.drop(columns=['id'])\"\"\""
   ],
   "id": "ff5c1ce13121c796",
   "outputs": [
    {
     "data": {
      "text/plain": [
       "\"df_rom_rmse['id_s']= df_rom_rmse['id'].str.split('_').str[0]\\ndf_rom_rmse['id_p']= df_rom_rmse['id'].str.split('_').str[1]\\ndf_rom_rmse['id_p'] = df_rom_rmse['id_p'].fillna(np.nan)\\n\\ndf_rom_rmse = df_rom_rmse.drop(columns=['id'])\""
      ]
     },
     "execution_count": 19,
     "metadata": {},
     "output_type": "execute_result"
    }
   ],
   "execution_count": 19
  },
  {
   "metadata": {
    "ExecuteTime": {
     "end_time": "2024-12-29T22:14:57.287632Z",
     "start_time": "2024-12-29T22:14:57.271525Z"
    }
   },
   "cell_type": "code",
   "source": "df_rom_rmse",
   "id": "cd8de76194932479",
   "outputs": [
    {
     "data": {
      "text/plain": [
       "      id_s id_p  dynamic   condition                  metric    rom_rmse\n",
       "0     S001  P07    fixed    affected                hand_vel  267.374934\n",
       "1     S001  P07    fixed  unaffected                hand_vel   82.194695\n",
       "2     S001  P07  dynamic    affected                hand_vel  267.424648\n",
       "3     S001  P07  dynamic  unaffected                hand_vel   82.194695\n",
       "4     S001  P07    fixed    affected               elbow_vel    0.952071\n",
       "...    ...  ...      ...         ...                     ...         ...\n",
       "4167  S026  P19  dynamic  unaffected       shoulder_flex_pos    4.999533\n",
       "4168  S026  P19    fixed    affected  shoulder_abduction_pos    3.841105\n",
       "4169  S026  P19    fixed  unaffected  shoulder_abduction_pos    1.996101\n",
       "4170  S026  P19  dynamic    affected  shoulder_abduction_pos    3.831359\n",
       "4171  S026  P19  dynamic  unaffected  shoulder_abduction_pos    2.033830\n",
       "\n",
       "[4172 rows x 6 columns]"
      ],
      "text/html": [
       "<div>\n",
       "<style scoped>\n",
       "    .dataframe tbody tr th:only-of-type {\n",
       "        vertical-align: middle;\n",
       "    }\n",
       "\n",
       "    .dataframe tbody tr th {\n",
       "        vertical-align: top;\n",
       "    }\n",
       "\n",
       "    .dataframe thead th {\n",
       "        text-align: right;\n",
       "    }\n",
       "</style>\n",
       "<table border=\"1\" class=\"dataframe\">\n",
       "  <thead>\n",
       "    <tr style=\"text-align: right;\">\n",
       "      <th></th>\n",
       "      <th>id_s</th>\n",
       "      <th>id_p</th>\n",
       "      <th>dynamic</th>\n",
       "      <th>condition</th>\n",
       "      <th>metric</th>\n",
       "      <th>rom_rmse</th>\n",
       "    </tr>\n",
       "  </thead>\n",
       "  <tbody>\n",
       "    <tr>\n",
       "      <th>0</th>\n",
       "      <td>S001</td>\n",
       "      <td>P07</td>\n",
       "      <td>fixed</td>\n",
       "      <td>affected</td>\n",
       "      <td>hand_vel</td>\n",
       "      <td>267.374934</td>\n",
       "    </tr>\n",
       "    <tr>\n",
       "      <th>1</th>\n",
       "      <td>S001</td>\n",
       "      <td>P07</td>\n",
       "      <td>fixed</td>\n",
       "      <td>unaffected</td>\n",
       "      <td>hand_vel</td>\n",
       "      <td>82.194695</td>\n",
       "    </tr>\n",
       "    <tr>\n",
       "      <th>2</th>\n",
       "      <td>S001</td>\n",
       "      <td>P07</td>\n",
       "      <td>dynamic</td>\n",
       "      <td>affected</td>\n",
       "      <td>hand_vel</td>\n",
       "      <td>267.424648</td>\n",
       "    </tr>\n",
       "    <tr>\n",
       "      <th>3</th>\n",
       "      <td>S001</td>\n",
       "      <td>P07</td>\n",
       "      <td>dynamic</td>\n",
       "      <td>unaffected</td>\n",
       "      <td>hand_vel</td>\n",
       "      <td>82.194695</td>\n",
       "    </tr>\n",
       "    <tr>\n",
       "      <th>4</th>\n",
       "      <td>S001</td>\n",
       "      <td>P07</td>\n",
       "      <td>fixed</td>\n",
       "      <td>affected</td>\n",
       "      <td>elbow_vel</td>\n",
       "      <td>0.952071</td>\n",
       "    </tr>\n",
       "    <tr>\n",
       "      <th>...</th>\n",
       "      <td>...</td>\n",
       "      <td>...</td>\n",
       "      <td>...</td>\n",
       "      <td>...</td>\n",
       "      <td>...</td>\n",
       "      <td>...</td>\n",
       "    </tr>\n",
       "    <tr>\n",
       "      <th>4167</th>\n",
       "      <td>S026</td>\n",
       "      <td>P19</td>\n",
       "      <td>dynamic</td>\n",
       "      <td>unaffected</td>\n",
       "      <td>shoulder_flex_pos</td>\n",
       "      <td>4.999533</td>\n",
       "    </tr>\n",
       "    <tr>\n",
       "      <th>4168</th>\n",
       "      <td>S026</td>\n",
       "      <td>P19</td>\n",
       "      <td>fixed</td>\n",
       "      <td>affected</td>\n",
       "      <td>shoulder_abduction_pos</td>\n",
       "      <td>3.841105</td>\n",
       "    </tr>\n",
       "    <tr>\n",
       "      <th>4169</th>\n",
       "      <td>S026</td>\n",
       "      <td>P19</td>\n",
       "      <td>fixed</td>\n",
       "      <td>unaffected</td>\n",
       "      <td>shoulder_abduction_pos</td>\n",
       "      <td>1.996101</td>\n",
       "    </tr>\n",
       "    <tr>\n",
       "      <th>4170</th>\n",
       "      <td>S026</td>\n",
       "      <td>P19</td>\n",
       "      <td>dynamic</td>\n",
       "      <td>affected</td>\n",
       "      <td>shoulder_abduction_pos</td>\n",
       "      <td>3.831359</td>\n",
       "    </tr>\n",
       "    <tr>\n",
       "      <th>4171</th>\n",
       "      <td>S026</td>\n",
       "      <td>P19</td>\n",
       "      <td>dynamic</td>\n",
       "      <td>unaffected</td>\n",
       "      <td>shoulder_abduction_pos</td>\n",
       "      <td>2.033830</td>\n",
       "    </tr>\n",
       "  </tbody>\n",
       "</table>\n",
       "<p>4172 rows × 6 columns</p>\n",
       "</div>"
      ]
     },
     "execution_count": 20,
     "metadata": {},
     "output_type": "execute_result"
    }
   ],
   "execution_count": 20
  },
  {
   "metadata": {
    "ExecuteTime": {
     "end_time": "2024-12-29T22:14:58.520411Z",
     "start_time": "2024-12-29T22:14:58.489192Z"
    }
   },
   "cell_type": "code",
   "source": [
    "# Detect outlier for ROM errors\n",
    "cols_error = ['hand_vel_rom_error', 'elbow_vel_rom_error', 'trunk_disp_rom_error', 'trunk_ang_rom_error', 'elbow_flex_pos_rom_error', 'shoulder_flex_pos_rom_error', 'shoulder_abduction_pos_rom_error']\n",
    "df_rom = df_rom[(np.abs(stats.zscore(df_rom[cols_error])) < 3).all(axis=1)]\n",
    "\n",
    "df_rom_rmse.dropna(axis=0, inplace=True)\n",
    "dir_barplots_rom_rmse_error = os.path.join(dir_plots, '04_rom', '02_rom_rmse_barplots')\n",
    "\n",
    "\"\"\"for metric in metrics:\n",
    "    mask = np.abs(stats.zscore(df_rom_rmse[df_rom_rmse['metric'] == metric]['rom_rmse'])) < 3\n",
    "    mask = mask.reindex(df_rom_rmse.index, fill_value=True)\n",
    "    df_rom_rmse = df_rom_rmse.loc[mask]\"\"\"\n",
    "\n",
    "df_filtered = df_rom_rmse[(df_rom_rmse['id_s'].isin(idx_s_reduced))&(~df_rom_rmse['id_p'].isin(ignore_id_p))].sort_values(by='id_p')\n",
    "df_filtered = df_filtered[df_filtered['dynamic'] == 'fixed']\n",
    "df_filtered = df_filtered.groupby(['id_s', 'metric']).mean(numeric_only=True)\n",
    "\n",
    "df_for_plot = pd.DataFrame(columns=['id_s', 'id_s_name',  'metric', 'rom_rmse'])\n",
    "joint_metrics = ['elbow_flex_pos', 'shoulder_flex_pos', 'shoulder_abduction_pos']\n",
    "\n",
    "for id in df_filtered.index.to_list():\n",
    "    id_s = id[0]\n",
    "    metric = id[1]\n",
    "    rmse = df_filtered.loc[id, 'rom_rmse']\n",
    "    id_s_name = get_setting_axis_name(id_s)\n",
    "    df_for_plot = pd.concat([df_for_plot, pd.DataFrame({'id_s': id_s, 'id_s_name': id_s_name, 'metric': metric, 'rom_rmse': rmse}, index=[0])], ignore_index=True)"
   ],
   "id": "449decbfb4c3b954",
   "outputs": [],
   "execution_count": 21
  },
  {
   "metadata": {
    "ExecuteTime": {
     "end_time": "2024-12-29T22:28:53.359618Z",
     "start_time": "2024-12-29T22:28:53.041599Z"
    }
   },
   "cell_type": "code",
   "source": [
    "os.makedirs(dir_barplots_rom_rmse_error, exist_ok=True)\n",
    "\n",
    "for metric in metrics:\n",
    "    cad = get_cad(df_cad, metric)\n",
    "    unit = get_unit(metric)\n",
    "    title_name = get_title_measure_name(metric)\n",
    "    fig = px.bar(df_for_plot[df_for_plot['metric'] == metric], x='id_s_name', y='rom_rmse', title=f'{title_name} ROM RMSE, cad = {cad}',\n",
    "                 template='plotly', width=650, height=650)\n",
    "    \n",
    "    \n",
    "    \n",
    "    fig.add_hline(y=cad, line_dash='dash', line_color='red', name='CAD')\n",
    "\n",
    "    fig.update_layout(title= dict(text=f'<b>{title_name} ROM RMSE,<br>cad = {cad} {unit}<b>', font=dict(size=26)),\n",
    "              xaxis_title=dict(text=f'<b>Settings<b>', font=dict(size=22)),\n",
    "              yaxis_title=dict(text=f'<b>ROM RMSE [{unit}]<b>', font=dict(size=22)),\n",
    "                  xaxis=dict(tickfont=dict(size=20))\n",
    "              )\n",
    "    #fig.show()\n",
    "    filepath = os.path.join(dir_barplots_rom_rmse_error, f'{metric}_rom_rmse_barplot.html')\n",
    "    fig.write_html(filepath)\n",
    "\n",
    "    os.makedirs(os.path.join(dir_barplots_rom_rmse_error, 'png'), exist_ok=True)\n",
    "    filepath = os.path.join(dir_barplots_rom_rmse_error, 'png', f'0305-{metric}_rom_rmse_barplot.png')\n",
    "    fig.write_image(filepath)"
   ],
   "id": "6776969d325442dd",
   "outputs": [
    {
     "data": {
      "application/vnd.plotly.v1+json": {
       "data": [
        {
         "alignmentgroup": "True",
         "hovertemplate": "id_s_name=%{x}<br>rom_rmse=%{y}<extra></extra>",
         "legendgroup": "",
         "marker": {
          "color": "#636efa"
         },
         "name": "",
         "notched": false,
         "offsetgroup": "",
         "orientation": "v",
         "showlegend": false,
         "x": [
          "SimCC, Cams: 1,2,3,4,5",
          "SimCC, Cams: 1,2,3,4,5",
          "SimCC, Cams: 1,2,3,4,5",
          "SimCC, Cams: 1,2,3,4,5",
          "SimCC, Cams: 1,2,3,4,5",
          "SimCC, Cams: 1,2,3,4,5",
          "SimCC, Cams: 1,2,3,4,5",
          "SimCC, Cams: 1,2,3,4,5",
          "SimCC, Cams: 1,2,3,4,5",
          "Metrabs, Cams: 1,2,3,4,5",
          "Metrabs, Cams: 1,2,3,4,5",
          "Metrabs, Cams: 1,2,3,4,5",
          "Metrabs, Cams: 1,2,3,4,5",
          "Metrabs, Cams: 1,2,3,4,5",
          "Metrabs, Cams: 1,2,3,4,5",
          "Metrabs, Cams: 1,2,3,4,5",
          "Metrabs, Cams: 1,2,3,4,5",
          "Metrabs, Cams: 1,2,3,4,5",
          "Single, Cam: 1, filt",
          "Single, Cam: 1, filt",
          "Single, Cam: 1, filt",
          "Single, Cam: 1, filt",
          "Single, Cam: 1, filt",
          "Single, Cam: 1, filt",
          "Single, Cam: 1, filt",
          "Single, Cam: 1, filt",
          "Single, Cam: 1, filt",
          "Single, Cam: 1, unfilt",
          "Single, Cam: 1, unfilt",
          "Single, Cam: 1, unfilt",
          "Single, Cam: 1, unfilt",
          "Single, Cam: 1, unfilt",
          "Single, Cam: 1, unfilt",
          "Single, Cam: 1, unfilt",
          "Single, Cam: 1, unfilt",
          "Single, Cam: 1, unfilt"
         ],
         "x0": " ",
         "xaxis": "x",
         "y": [
          174.78481467420548,
          84.1924009385915,
          2316.538051361835,
          531.8699462646962,
          45706.87834728571,
          86.70488956723544,
          95.69393995187326,
          99.23359825267893,
          91.9764028015821,
          179.29999168456425,
          74.00763156625639,
          228.13483115694916,
          18446.259670429863,
          16002.092847837986,
          27680.34173211763,
          6864.873906109104,
          99.60738078686785,
          75.21838249457636,
          190.7585639703217,
          2761.9249879496833,
          1109.5819959843486,
          226.42860623627834,
          241.78162310653627,
          325.54558682370794,
          3136.041325872071,
          153.55944549232908,
          156.34886690920064,
          846.2379521475539,
          12287.637633655142,
          8532.40730469064,
          528.5475700934783,
          1187.7816512500754,
          5497.246901773083,
          557.706070057592,
          1202.5734513855268,
          568.4064354246125
         ],
         "y0": " ",
         "yaxis": "y",
         "type": "box"
        }
       ],
       "layout": {
        "template": {
         "data": {
          "barpolar": [
           {
            "marker": {
             "line": {
              "color": "#E5ECF6",
              "width": 0.5
             },
             "pattern": {
              "fillmode": "overlay",
              "size": 10,
              "solidity": 0.2
             }
            },
            "type": "barpolar"
           }
          ],
          "bar": [
           {
            "error_x": {
             "color": "#2a3f5f"
            },
            "error_y": {
             "color": "#2a3f5f"
            },
            "marker": {
             "line": {
              "color": "#E5ECF6",
              "width": 0.5
             },
             "pattern": {
              "fillmode": "overlay",
              "size": 10,
              "solidity": 0.2
             }
            },
            "type": "bar"
           }
          ],
          "carpet": [
           {
            "aaxis": {
             "endlinecolor": "#2a3f5f",
             "gridcolor": "white",
             "linecolor": "white",
             "minorgridcolor": "white",
             "startlinecolor": "#2a3f5f"
            },
            "baxis": {
             "endlinecolor": "#2a3f5f",
             "gridcolor": "white",
             "linecolor": "white",
             "minorgridcolor": "white",
             "startlinecolor": "#2a3f5f"
            },
            "type": "carpet"
           }
          ],
          "choropleth": [
           {
            "colorbar": {
             "outlinewidth": 0,
             "ticks": ""
            },
            "type": "choropleth"
           }
          ],
          "contourcarpet": [
           {
            "colorbar": {
             "outlinewidth": 0,
             "ticks": ""
            },
            "type": "contourcarpet"
           }
          ],
          "contour": [
           {
            "colorbar": {
             "outlinewidth": 0,
             "ticks": ""
            },
            "colorscale": [
             [
              0.0,
              "#0d0887"
             ],
             [
              0.1111111111111111,
              "#46039f"
             ],
             [
              0.2222222222222222,
              "#7201a8"
             ],
             [
              0.3333333333333333,
              "#9c179e"
             ],
             [
              0.4444444444444444,
              "#bd3786"
             ],
             [
              0.5555555555555556,
              "#d8576b"
             ],
             [
              0.6666666666666666,
              "#ed7953"
             ],
             [
              0.7777777777777778,
              "#fb9f3a"
             ],
             [
              0.8888888888888888,
              "#fdca26"
             ],
             [
              1.0,
              "#f0f921"
             ]
            ],
            "type": "contour"
           }
          ],
          "heatmapgl": [
           {
            "colorbar": {
             "outlinewidth": 0,
             "ticks": ""
            },
            "colorscale": [
             [
              0.0,
              "#0d0887"
             ],
             [
              0.1111111111111111,
              "#46039f"
             ],
             [
              0.2222222222222222,
              "#7201a8"
             ],
             [
              0.3333333333333333,
              "#9c179e"
             ],
             [
              0.4444444444444444,
              "#bd3786"
             ],
             [
              0.5555555555555556,
              "#d8576b"
             ],
             [
              0.6666666666666666,
              "#ed7953"
             ],
             [
              0.7777777777777778,
              "#fb9f3a"
             ],
             [
              0.8888888888888888,
              "#fdca26"
             ],
             [
              1.0,
              "#f0f921"
             ]
            ],
            "type": "heatmapgl"
           }
          ],
          "heatmap": [
           {
            "colorbar": {
             "outlinewidth": 0,
             "ticks": ""
            },
            "colorscale": [
             [
              0.0,
              "#0d0887"
             ],
             [
              0.1111111111111111,
              "#46039f"
             ],
             [
              0.2222222222222222,
              "#7201a8"
             ],
             [
              0.3333333333333333,
              "#9c179e"
             ],
             [
              0.4444444444444444,
              "#bd3786"
             ],
             [
              0.5555555555555556,
              "#d8576b"
             ],
             [
              0.6666666666666666,
              "#ed7953"
             ],
             [
              0.7777777777777778,
              "#fb9f3a"
             ],
             [
              0.8888888888888888,
              "#fdca26"
             ],
             [
              1.0,
              "#f0f921"
             ]
            ],
            "type": "heatmap"
           }
          ],
          "histogram2dcontour": [
           {
            "colorbar": {
             "outlinewidth": 0,
             "ticks": ""
            },
            "colorscale": [
             [
              0.0,
              "#0d0887"
             ],
             [
              0.1111111111111111,
              "#46039f"
             ],
             [
              0.2222222222222222,
              "#7201a8"
             ],
             [
              0.3333333333333333,
              "#9c179e"
             ],
             [
              0.4444444444444444,
              "#bd3786"
             ],
             [
              0.5555555555555556,
              "#d8576b"
             ],
             [
              0.6666666666666666,
              "#ed7953"
             ],
             [
              0.7777777777777778,
              "#fb9f3a"
             ],
             [
              0.8888888888888888,
              "#fdca26"
             ],
             [
              1.0,
              "#f0f921"
             ]
            ],
            "type": "histogram2dcontour"
           }
          ],
          "histogram2d": [
           {
            "colorbar": {
             "outlinewidth": 0,
             "ticks": ""
            },
            "colorscale": [
             [
              0.0,
              "#0d0887"
             ],
             [
              0.1111111111111111,
              "#46039f"
             ],
             [
              0.2222222222222222,
              "#7201a8"
             ],
             [
              0.3333333333333333,
              "#9c179e"
             ],
             [
              0.4444444444444444,
              "#bd3786"
             ],
             [
              0.5555555555555556,
              "#d8576b"
             ],
             [
              0.6666666666666666,
              "#ed7953"
             ],
             [
              0.7777777777777778,
              "#fb9f3a"
             ],
             [
              0.8888888888888888,
              "#fdca26"
             ],
             [
              1.0,
              "#f0f921"
             ]
            ],
            "type": "histogram2d"
           }
          ],
          "histogram": [
           {
            "marker": {
             "pattern": {
              "fillmode": "overlay",
              "size": 10,
              "solidity": 0.2
             }
            },
            "type": "histogram"
           }
          ],
          "mesh3d": [
           {
            "colorbar": {
             "outlinewidth": 0,
             "ticks": ""
            },
            "type": "mesh3d"
           }
          ],
          "parcoords": [
           {
            "line": {
             "colorbar": {
              "outlinewidth": 0,
              "ticks": ""
             }
            },
            "type": "parcoords"
           }
          ],
          "pie": [
           {
            "automargin": true,
            "type": "pie"
           }
          ],
          "scatter3d": [
           {
            "line": {
             "colorbar": {
              "outlinewidth": 0,
              "ticks": ""
             }
            },
            "marker": {
             "colorbar": {
              "outlinewidth": 0,
              "ticks": ""
             }
            },
            "type": "scatter3d"
           }
          ],
          "scattercarpet": [
           {
            "marker": {
             "colorbar": {
              "outlinewidth": 0,
              "ticks": ""
             }
            },
            "type": "scattercarpet"
           }
          ],
          "scattergeo": [
           {
            "marker": {
             "colorbar": {
              "outlinewidth": 0,
              "ticks": ""
             }
            },
            "type": "scattergeo"
           }
          ],
          "scattergl": [
           {
            "marker": {
             "colorbar": {
              "outlinewidth": 0,
              "ticks": ""
             }
            },
            "type": "scattergl"
           }
          ],
          "scattermapbox": [
           {
            "marker": {
             "colorbar": {
              "outlinewidth": 0,
              "ticks": ""
             }
            },
            "type": "scattermapbox"
           }
          ],
          "scatterpolargl": [
           {
            "marker": {
             "colorbar": {
              "outlinewidth": 0,
              "ticks": ""
             }
            },
            "type": "scatterpolargl"
           }
          ],
          "scatterpolar": [
           {
            "marker": {
             "colorbar": {
              "outlinewidth": 0,
              "ticks": ""
             }
            },
            "type": "scatterpolar"
           }
          ],
          "scatter": [
           {
            "fillpattern": {
             "fillmode": "overlay",
             "size": 10,
             "solidity": 0.2
            },
            "type": "scatter"
           }
          ],
          "scatterternary": [
           {
            "marker": {
             "colorbar": {
              "outlinewidth": 0,
              "ticks": ""
             }
            },
            "type": "scatterternary"
           }
          ],
          "surface": [
           {
            "colorbar": {
             "outlinewidth": 0,
             "ticks": ""
            },
            "colorscale": [
             [
              0.0,
              "#0d0887"
             ],
             [
              0.1111111111111111,
              "#46039f"
             ],
             [
              0.2222222222222222,
              "#7201a8"
             ],
             [
              0.3333333333333333,
              "#9c179e"
             ],
             [
              0.4444444444444444,
              "#bd3786"
             ],
             [
              0.5555555555555556,
              "#d8576b"
             ],
             [
              0.6666666666666666,
              "#ed7953"
             ],
             [
              0.7777777777777778,
              "#fb9f3a"
             ],
             [
              0.8888888888888888,
              "#fdca26"
             ],
             [
              1.0,
              "#f0f921"
             ]
            ],
            "type": "surface"
           }
          ],
          "table": [
           {
            "cells": {
             "fill": {
              "color": "#EBF0F8"
             },
             "line": {
              "color": "white"
             }
            },
            "header": {
             "fill": {
              "color": "#C8D4E3"
             },
             "line": {
              "color": "white"
             }
            },
            "type": "table"
           }
          ]
         },
         "layout": {
          "annotationdefaults": {
           "arrowcolor": "#2a3f5f",
           "arrowhead": 0,
           "arrowwidth": 1
          },
          "autotypenumbers": "strict",
          "coloraxis": {
           "colorbar": {
            "outlinewidth": 0,
            "ticks": ""
           }
          },
          "colorscale": {
           "diverging": [
            [
             0,
             "#8e0152"
            ],
            [
             0.1,
             "#c51b7d"
            ],
            [
             0.2,
             "#de77ae"
            ],
            [
             0.3,
             "#f1b6da"
            ],
            [
             0.4,
             "#fde0ef"
            ],
            [
             0.5,
             "#f7f7f7"
            ],
            [
             0.6,
             "#e6f5d0"
            ],
            [
             0.7,
             "#b8e186"
            ],
            [
             0.8,
             "#7fbc41"
            ],
            [
             0.9,
             "#4d9221"
            ],
            [
             1,
             "#276419"
            ]
           ],
           "sequential": [
            [
             0.0,
             "#0d0887"
            ],
            [
             0.1111111111111111,
             "#46039f"
            ],
            [
             0.2222222222222222,
             "#7201a8"
            ],
            [
             0.3333333333333333,
             "#9c179e"
            ],
            [
             0.4444444444444444,
             "#bd3786"
            ],
            [
             0.5555555555555556,
             "#d8576b"
            ],
            [
             0.6666666666666666,
             "#ed7953"
            ],
            [
             0.7777777777777778,
             "#fb9f3a"
            ],
            [
             0.8888888888888888,
             "#fdca26"
            ],
            [
             1.0,
             "#f0f921"
            ]
           ],
           "sequentialminus": [
            [
             0.0,
             "#0d0887"
            ],
            [
             0.1111111111111111,
             "#46039f"
            ],
            [
             0.2222222222222222,
             "#7201a8"
            ],
            [
             0.3333333333333333,
             "#9c179e"
            ],
            [
             0.4444444444444444,
             "#bd3786"
            ],
            [
             0.5555555555555556,
             "#d8576b"
            ],
            [
             0.6666666666666666,
             "#ed7953"
            ],
            [
             0.7777777777777778,
             "#fb9f3a"
            ],
            [
             0.8888888888888888,
             "#fdca26"
            ],
            [
             1.0,
             "#f0f921"
            ]
           ]
          },
          "colorway": [
           "#636efa",
           "#EF553B",
           "#00cc96",
           "#ab63fa",
           "#FFA15A",
           "#19d3f3",
           "#FF6692",
           "#B6E880",
           "#FF97FF",
           "#FECB52"
          ],
          "font": {
           "color": "#2a3f5f"
          },
          "geo": {
           "bgcolor": "white",
           "lakecolor": "white",
           "landcolor": "#E5ECF6",
           "showlakes": true,
           "showland": true,
           "subunitcolor": "white"
          },
          "hoverlabel": {
           "align": "left"
          },
          "hovermode": "closest",
          "mapbox": {
           "style": "light"
          },
          "paper_bgcolor": "white",
          "plot_bgcolor": "#E5ECF6",
          "polar": {
           "angularaxis": {
            "gridcolor": "white",
            "linecolor": "white",
            "ticks": ""
           },
           "bgcolor": "#E5ECF6",
           "radialaxis": {
            "gridcolor": "white",
            "linecolor": "white",
            "ticks": ""
           }
          },
          "scene": {
           "xaxis": {
            "backgroundcolor": "#E5ECF6",
            "gridcolor": "white",
            "gridwidth": 2,
            "linecolor": "white",
            "showbackground": true,
            "ticks": "",
            "zerolinecolor": "white"
           },
           "yaxis": {
            "backgroundcolor": "#E5ECF6",
            "gridcolor": "white",
            "gridwidth": 2,
            "linecolor": "white",
            "showbackground": true,
            "ticks": "",
            "zerolinecolor": "white"
           },
           "zaxis": {
            "backgroundcolor": "#E5ECF6",
            "gridcolor": "white",
            "gridwidth": 2,
            "linecolor": "white",
            "showbackground": true,
            "ticks": "",
            "zerolinecolor": "white"
           }
          },
          "shapedefaults": {
           "line": {
            "color": "#2a3f5f"
           }
          },
          "ternary": {
           "aaxis": {
            "gridcolor": "white",
            "linecolor": "white",
            "ticks": ""
           },
           "baxis": {
            "gridcolor": "white",
            "linecolor": "white",
            "ticks": ""
           },
           "bgcolor": "#E5ECF6",
           "caxis": {
            "gridcolor": "white",
            "linecolor": "white",
            "ticks": ""
           }
          },
          "title": {
           "x": 0.05
          },
          "xaxis": {
           "automargin": true,
           "gridcolor": "white",
           "linecolor": "white",
           "ticks": "",
           "title": {
            "standoff": 15
           },
           "zerolinecolor": "white",
           "zerolinewidth": 2
          },
          "yaxis": {
           "automargin": true,
           "gridcolor": "white",
           "linecolor": "white",
           "ticks": "",
           "title": {
            "standoff": 15
           },
           "zerolinecolor": "white",
           "zerolinewidth": 2
          }
         }
        },
        "xaxis": {
         "anchor": "y",
         "domain": [
          0.0,
          1.0
         ],
         "title": {
          "text": "<b>Settings<b>",
          "font": {
           "size": 22
          }
         },
         "tickfont": {
          "size": 20
         }
        },
        "yaxis": {
         "anchor": "x",
         "domain": [
          0.0,
          1.0
         ],
         "title": {
          "text": "<b>ROM RMSE [mm/s]<b>",
          "font": {
           "size": 22
          }
         }
        },
        "legend": {
         "tracegroupgap": 0
        },
        "title": {
         "text": "<b>Hand Velocity ROM RMSE,<br>cad = 78.96 mm/s<b>",
         "font": {
          "size": 26
         }
        },
        "boxmode": "group",
        "height": 650,
        "width": 650,
        "shapes": [
         {
          "line": {
           "color": "red",
           "dash": "dash"
          },
          "name": "CAD",
          "type": "line",
          "x0": 0,
          "x1": 1,
          "xref": "x domain",
          "y0": 78.96,
          "y1": 78.96,
          "yref": "y"
         }
        ]
       },
       "config": {
        "plotlyServerURL": "https://plot.ly"
       }
      },
      "text/html": [
       "<div>                            <div id=\"e7971742-c99a-4a48-b386-78509156aaf7\" class=\"plotly-graph-div\" style=\"height:650px; width:650px;\"></div>            <script type=\"text/javascript\">                require([\"plotly\"], function(Plotly) {                    window.PLOTLYENV=window.PLOTLYENV || {};                                    if (document.getElementById(\"e7971742-c99a-4a48-b386-78509156aaf7\")) {                    Plotly.newPlot(                        \"e7971742-c99a-4a48-b386-78509156aaf7\",                        [{\"alignmentgroup\":\"True\",\"hovertemplate\":\"id_s_name=%{x}\\u003cbr\\u003erom_rmse=%{y}\\u003cextra\\u003e\\u003c\\u002fextra\\u003e\",\"legendgroup\":\"\",\"marker\":{\"color\":\"#636efa\"},\"name\":\"\",\"notched\":false,\"offsetgroup\":\"\",\"orientation\":\"v\",\"showlegend\":false,\"x\":[\"SimCC, Cams: 1,2,3,4,5\",\"SimCC, Cams: 1,2,3,4,5\",\"SimCC, Cams: 1,2,3,4,5\",\"SimCC, Cams: 1,2,3,4,5\",\"SimCC, Cams: 1,2,3,4,5\",\"SimCC, Cams: 1,2,3,4,5\",\"SimCC, Cams: 1,2,3,4,5\",\"SimCC, Cams: 1,2,3,4,5\",\"SimCC, Cams: 1,2,3,4,5\",\"Metrabs, Cams: 1,2,3,4,5\",\"Metrabs, Cams: 1,2,3,4,5\",\"Metrabs, Cams: 1,2,3,4,5\",\"Metrabs, Cams: 1,2,3,4,5\",\"Metrabs, Cams: 1,2,3,4,5\",\"Metrabs, Cams: 1,2,3,4,5\",\"Metrabs, Cams: 1,2,3,4,5\",\"Metrabs, Cams: 1,2,3,4,5\",\"Metrabs, Cams: 1,2,3,4,5\",\"Single, Cam: 1, filt\",\"Single, Cam: 1, filt\",\"Single, Cam: 1, filt\",\"Single, Cam: 1, filt\",\"Single, Cam: 1, filt\",\"Single, Cam: 1, filt\",\"Single, Cam: 1, filt\",\"Single, Cam: 1, filt\",\"Single, Cam: 1, filt\",\"Single, Cam: 1, unfilt\",\"Single, Cam: 1, unfilt\",\"Single, Cam: 1, unfilt\",\"Single, Cam: 1, unfilt\",\"Single, Cam: 1, unfilt\",\"Single, Cam: 1, unfilt\",\"Single, Cam: 1, unfilt\",\"Single, Cam: 1, unfilt\",\"Single, Cam: 1, unfilt\"],\"x0\":\" \",\"xaxis\":\"x\",\"y\":[174.78481467420548,84.1924009385915,2316.538051361835,531.8699462646962,45706.87834728571,86.70488956723544,95.69393995187326,99.23359825267893,91.9764028015821,179.29999168456425,74.00763156625639,228.13483115694916,18446.259670429863,16002.092847837986,27680.34173211763,6864.873906109104,99.60738078686785,75.21838249457636,190.7585639703217,2761.9249879496833,1109.5819959843486,226.42860623627834,241.78162310653627,325.54558682370794,3136.041325872071,153.55944549232908,156.34886690920064,846.2379521475539,12287.637633655142,8532.40730469064,528.5475700934783,1187.7816512500754,5497.246901773083,557.706070057592,1202.5734513855268,568.4064354246125],\"y0\":\" \",\"yaxis\":\"y\",\"type\":\"box\"}],                        {\"template\":{\"data\":{\"barpolar\":[{\"marker\":{\"line\":{\"color\":\"#E5ECF6\",\"width\":0.5},\"pattern\":{\"fillmode\":\"overlay\",\"size\":10,\"solidity\":0.2}},\"type\":\"barpolar\"}],\"bar\":[{\"error_x\":{\"color\":\"#2a3f5f\"},\"error_y\":{\"color\":\"#2a3f5f\"},\"marker\":{\"line\":{\"color\":\"#E5ECF6\",\"width\":0.5},\"pattern\":{\"fillmode\":\"overlay\",\"size\":10,\"solidity\":0.2}},\"type\":\"bar\"}],\"carpet\":[{\"aaxis\":{\"endlinecolor\":\"#2a3f5f\",\"gridcolor\":\"white\",\"linecolor\":\"white\",\"minorgridcolor\":\"white\",\"startlinecolor\":\"#2a3f5f\"},\"baxis\":{\"endlinecolor\":\"#2a3f5f\",\"gridcolor\":\"white\",\"linecolor\":\"white\",\"minorgridcolor\":\"white\",\"startlinecolor\":\"#2a3f5f\"},\"type\":\"carpet\"}],\"choropleth\":[{\"colorbar\":{\"outlinewidth\":0,\"ticks\":\"\"},\"type\":\"choropleth\"}],\"contourcarpet\":[{\"colorbar\":{\"outlinewidth\":0,\"ticks\":\"\"},\"type\":\"contourcarpet\"}],\"contour\":[{\"colorbar\":{\"outlinewidth\":0,\"ticks\":\"\"},\"colorscale\":[[0.0,\"#0d0887\"],[0.1111111111111111,\"#46039f\"],[0.2222222222222222,\"#7201a8\"],[0.3333333333333333,\"#9c179e\"],[0.4444444444444444,\"#bd3786\"],[0.5555555555555556,\"#d8576b\"],[0.6666666666666666,\"#ed7953\"],[0.7777777777777778,\"#fb9f3a\"],[0.8888888888888888,\"#fdca26\"],[1.0,\"#f0f921\"]],\"type\":\"contour\"}],\"heatmapgl\":[{\"colorbar\":{\"outlinewidth\":0,\"ticks\":\"\"},\"colorscale\":[[0.0,\"#0d0887\"],[0.1111111111111111,\"#46039f\"],[0.2222222222222222,\"#7201a8\"],[0.3333333333333333,\"#9c179e\"],[0.4444444444444444,\"#bd3786\"],[0.5555555555555556,\"#d8576b\"],[0.6666666666666666,\"#ed7953\"],[0.7777777777777778,\"#fb9f3a\"],[0.8888888888888888,\"#fdca26\"],[1.0,\"#f0f921\"]],\"type\":\"heatmapgl\"}],\"heatmap\":[{\"colorbar\":{\"outlinewidth\":0,\"ticks\":\"\"},\"colorscale\":[[0.0,\"#0d0887\"],[0.1111111111111111,\"#46039f\"],[0.2222222222222222,\"#7201a8\"],[0.3333333333333333,\"#9c179e\"],[0.4444444444444444,\"#bd3786\"],[0.5555555555555556,\"#d8576b\"],[0.6666666666666666,\"#ed7953\"],[0.7777777777777778,\"#fb9f3a\"],[0.8888888888888888,\"#fdca26\"],[1.0,\"#f0f921\"]],\"type\":\"heatmap\"}],\"histogram2dcontour\":[{\"colorbar\":{\"outlinewidth\":0,\"ticks\":\"\"},\"colorscale\":[[0.0,\"#0d0887\"],[0.1111111111111111,\"#46039f\"],[0.2222222222222222,\"#7201a8\"],[0.3333333333333333,\"#9c179e\"],[0.4444444444444444,\"#bd3786\"],[0.5555555555555556,\"#d8576b\"],[0.6666666666666666,\"#ed7953\"],[0.7777777777777778,\"#fb9f3a\"],[0.8888888888888888,\"#fdca26\"],[1.0,\"#f0f921\"]],\"type\":\"histogram2dcontour\"}],\"histogram2d\":[{\"colorbar\":{\"outlinewidth\":0,\"ticks\":\"\"},\"colorscale\":[[0.0,\"#0d0887\"],[0.1111111111111111,\"#46039f\"],[0.2222222222222222,\"#7201a8\"],[0.3333333333333333,\"#9c179e\"],[0.4444444444444444,\"#bd3786\"],[0.5555555555555556,\"#d8576b\"],[0.6666666666666666,\"#ed7953\"],[0.7777777777777778,\"#fb9f3a\"],[0.8888888888888888,\"#fdca26\"],[1.0,\"#f0f921\"]],\"type\":\"histogram2d\"}],\"histogram\":[{\"marker\":{\"pattern\":{\"fillmode\":\"overlay\",\"size\":10,\"solidity\":0.2}},\"type\":\"histogram\"}],\"mesh3d\":[{\"colorbar\":{\"outlinewidth\":0,\"ticks\":\"\"},\"type\":\"mesh3d\"}],\"parcoords\":[{\"line\":{\"colorbar\":{\"outlinewidth\":0,\"ticks\":\"\"}},\"type\":\"parcoords\"}],\"pie\":[{\"automargin\":true,\"type\":\"pie\"}],\"scatter3d\":[{\"line\":{\"colorbar\":{\"outlinewidth\":0,\"ticks\":\"\"}},\"marker\":{\"colorbar\":{\"outlinewidth\":0,\"ticks\":\"\"}},\"type\":\"scatter3d\"}],\"scattercarpet\":[{\"marker\":{\"colorbar\":{\"outlinewidth\":0,\"ticks\":\"\"}},\"type\":\"scattercarpet\"}],\"scattergeo\":[{\"marker\":{\"colorbar\":{\"outlinewidth\":0,\"ticks\":\"\"}},\"type\":\"scattergeo\"}],\"scattergl\":[{\"marker\":{\"colorbar\":{\"outlinewidth\":0,\"ticks\":\"\"}},\"type\":\"scattergl\"}],\"scattermapbox\":[{\"marker\":{\"colorbar\":{\"outlinewidth\":0,\"ticks\":\"\"}},\"type\":\"scattermapbox\"}],\"scatterpolargl\":[{\"marker\":{\"colorbar\":{\"outlinewidth\":0,\"ticks\":\"\"}},\"type\":\"scatterpolargl\"}],\"scatterpolar\":[{\"marker\":{\"colorbar\":{\"outlinewidth\":0,\"ticks\":\"\"}},\"type\":\"scatterpolar\"}],\"scatter\":[{\"fillpattern\":{\"fillmode\":\"overlay\",\"size\":10,\"solidity\":0.2},\"type\":\"scatter\"}],\"scatterternary\":[{\"marker\":{\"colorbar\":{\"outlinewidth\":0,\"ticks\":\"\"}},\"type\":\"scatterternary\"}],\"surface\":[{\"colorbar\":{\"outlinewidth\":0,\"ticks\":\"\"},\"colorscale\":[[0.0,\"#0d0887\"],[0.1111111111111111,\"#46039f\"],[0.2222222222222222,\"#7201a8\"],[0.3333333333333333,\"#9c179e\"],[0.4444444444444444,\"#bd3786\"],[0.5555555555555556,\"#d8576b\"],[0.6666666666666666,\"#ed7953\"],[0.7777777777777778,\"#fb9f3a\"],[0.8888888888888888,\"#fdca26\"],[1.0,\"#f0f921\"]],\"type\":\"surface\"}],\"table\":[{\"cells\":{\"fill\":{\"color\":\"#EBF0F8\"},\"line\":{\"color\":\"white\"}},\"header\":{\"fill\":{\"color\":\"#C8D4E3\"},\"line\":{\"color\":\"white\"}},\"type\":\"table\"}]},\"layout\":{\"annotationdefaults\":{\"arrowcolor\":\"#2a3f5f\",\"arrowhead\":0,\"arrowwidth\":1},\"autotypenumbers\":\"strict\",\"coloraxis\":{\"colorbar\":{\"outlinewidth\":0,\"ticks\":\"\"}},\"colorscale\":{\"diverging\":[[0,\"#8e0152\"],[0.1,\"#c51b7d\"],[0.2,\"#de77ae\"],[0.3,\"#f1b6da\"],[0.4,\"#fde0ef\"],[0.5,\"#f7f7f7\"],[0.6,\"#e6f5d0\"],[0.7,\"#b8e186\"],[0.8,\"#7fbc41\"],[0.9,\"#4d9221\"],[1,\"#276419\"]],\"sequential\":[[0.0,\"#0d0887\"],[0.1111111111111111,\"#46039f\"],[0.2222222222222222,\"#7201a8\"],[0.3333333333333333,\"#9c179e\"],[0.4444444444444444,\"#bd3786\"],[0.5555555555555556,\"#d8576b\"],[0.6666666666666666,\"#ed7953\"],[0.7777777777777778,\"#fb9f3a\"],[0.8888888888888888,\"#fdca26\"],[1.0,\"#f0f921\"]],\"sequentialminus\":[[0.0,\"#0d0887\"],[0.1111111111111111,\"#46039f\"],[0.2222222222222222,\"#7201a8\"],[0.3333333333333333,\"#9c179e\"],[0.4444444444444444,\"#bd3786\"],[0.5555555555555556,\"#d8576b\"],[0.6666666666666666,\"#ed7953\"],[0.7777777777777778,\"#fb9f3a\"],[0.8888888888888888,\"#fdca26\"],[1.0,\"#f0f921\"]]},\"colorway\":[\"#636efa\",\"#EF553B\",\"#00cc96\",\"#ab63fa\",\"#FFA15A\",\"#19d3f3\",\"#FF6692\",\"#B6E880\",\"#FF97FF\",\"#FECB52\"],\"font\":{\"color\":\"#2a3f5f\"},\"geo\":{\"bgcolor\":\"white\",\"lakecolor\":\"white\",\"landcolor\":\"#E5ECF6\",\"showlakes\":true,\"showland\":true,\"subunitcolor\":\"white\"},\"hoverlabel\":{\"align\":\"left\"},\"hovermode\":\"closest\",\"mapbox\":{\"style\":\"light\"},\"paper_bgcolor\":\"white\",\"plot_bgcolor\":\"#E5ECF6\",\"polar\":{\"angularaxis\":{\"gridcolor\":\"white\",\"linecolor\":\"white\",\"ticks\":\"\"},\"bgcolor\":\"#E5ECF6\",\"radialaxis\":{\"gridcolor\":\"white\",\"linecolor\":\"white\",\"ticks\":\"\"}},\"scene\":{\"xaxis\":{\"backgroundcolor\":\"#E5ECF6\",\"gridcolor\":\"white\",\"gridwidth\":2,\"linecolor\":\"white\",\"showbackground\":true,\"ticks\":\"\",\"zerolinecolor\":\"white\"},\"yaxis\":{\"backgroundcolor\":\"#E5ECF6\",\"gridcolor\":\"white\",\"gridwidth\":2,\"linecolor\":\"white\",\"showbackground\":true,\"ticks\":\"\",\"zerolinecolor\":\"white\"},\"zaxis\":{\"backgroundcolor\":\"#E5ECF6\",\"gridcolor\":\"white\",\"gridwidth\":2,\"linecolor\":\"white\",\"showbackground\":true,\"ticks\":\"\",\"zerolinecolor\":\"white\"}},\"shapedefaults\":{\"line\":{\"color\":\"#2a3f5f\"}},\"ternary\":{\"aaxis\":{\"gridcolor\":\"white\",\"linecolor\":\"white\",\"ticks\":\"\"},\"baxis\":{\"gridcolor\":\"white\",\"linecolor\":\"white\",\"ticks\":\"\"},\"bgcolor\":\"#E5ECF6\",\"caxis\":{\"gridcolor\":\"white\",\"linecolor\":\"white\",\"ticks\":\"\"}},\"title\":{\"x\":0.05},\"xaxis\":{\"automargin\":true,\"gridcolor\":\"white\",\"linecolor\":\"white\",\"ticks\":\"\",\"title\":{\"standoff\":15},\"zerolinecolor\":\"white\",\"zerolinewidth\":2},\"yaxis\":{\"automargin\":true,\"gridcolor\":\"white\",\"linecolor\":\"white\",\"ticks\":\"\",\"title\":{\"standoff\":15},\"zerolinecolor\":\"white\",\"zerolinewidth\":2}}},\"xaxis\":{\"anchor\":\"y\",\"domain\":[0.0,1.0],\"title\":{\"text\":\"\\u003cb\\u003eSettings\\u003cb\\u003e\",\"font\":{\"size\":22}},\"tickfont\":{\"size\":20}},\"yaxis\":{\"anchor\":\"x\",\"domain\":[0.0,1.0],\"title\":{\"text\":\"\\u003cb\\u003eROM RMSE [mm\\u002fs]\\u003cb\\u003e\",\"font\":{\"size\":22}}},\"legend\":{\"tracegroupgap\":0},\"title\":{\"text\":\"\\u003cb\\u003eHand Velocity ROM RMSE,\\u003cbr\\u003ecad = 78.96 mm\\u002fs\\u003cb\\u003e\",\"font\":{\"size\":26}},\"boxmode\":\"group\",\"height\":650,\"width\":650,\"shapes\":[{\"line\":{\"color\":\"red\",\"dash\":\"dash\"},\"name\":\"CAD\",\"type\":\"line\",\"x0\":0,\"x1\":1,\"xref\":\"x domain\",\"y0\":78.96,\"y1\":78.96,\"yref\":\"y\"}]},                        {\"responsive\": true}                    ).then(function(){\n",
       "                            \n",
       "var gd = document.getElementById('e7971742-c99a-4a48-b386-78509156aaf7');\n",
       "var x = new MutationObserver(function (mutations, observer) {{\n",
       "        var display = window.getComputedStyle(gd).display;\n",
       "        if (!display || display === 'none') {{\n",
       "            console.log([gd, 'removed!']);\n",
       "            Plotly.purge(gd);\n",
       "            observer.disconnect();\n",
       "        }}\n",
       "}});\n",
       "\n",
       "// Listen for the removal of the full notebook cells\n",
       "var notebookContainer = gd.closest('#notebook-container');\n",
       "if (notebookContainer) {{\n",
       "    x.observe(notebookContainer, {childList: true});\n",
       "}}\n",
       "\n",
       "// Listen for the clearing of the current output cell\n",
       "var outputEl = gd.closest('.output');\n",
       "if (outputEl) {{\n",
       "    x.observe(outputEl, {childList: true});\n",
       "}}\n",
       "\n",
       "                        })                };                });            </script>        </div>"
      ]
     },
     "metadata": {},
     "output_type": "display_data"
    },
    {
     "data": {
      "application/vnd.plotly.v1+json": {
       "data": [
        {
         "alignmentgroup": "True",
         "hovertemplate": "id_s_name=%{x}<br>rom_rmse=%{y}<extra></extra>",
         "legendgroup": "",
         "marker": {
          "color": "#636efa"
         },
         "name": "",
         "notched": false,
         "offsetgroup": "",
         "orientation": "v",
         "showlegend": false,
         "x": [
          "SimCC, Cams: 1,2,3,4,5",
          "SimCC, Cams: 1,2,3,4,5",
          "SimCC, Cams: 1,2,3,4,5",
          "SimCC, Cams: 1,2,3,4,5",
          "SimCC, Cams: 1,2,3,4,5",
          "SimCC, Cams: 1,2,3,4,5",
          "SimCC, Cams: 1,2,3,4,5",
          "SimCC, Cams: 1,2,3,4,5",
          "SimCC, Cams: 1,2,3,4,5",
          "Metrabs, Cams: 1,2,3,4,5",
          "Metrabs, Cams: 1,2,3,4,5",
          "Metrabs, Cams: 1,2,3,4,5",
          "Metrabs, Cams: 1,2,3,4,5",
          "Metrabs, Cams: 1,2,3,4,5",
          "Metrabs, Cams: 1,2,3,4,5",
          "Metrabs, Cams: 1,2,3,4,5",
          "Metrabs, Cams: 1,2,3,4,5",
          "Metrabs, Cams: 1,2,3,4,5",
          "Single, Cam: 1, filt",
          "Single, Cam: 1, filt",
          "Single, Cam: 1, filt",
          "Single, Cam: 1, filt",
          "Single, Cam: 1, filt",
          "Single, Cam: 1, filt",
          "Single, Cam: 1, filt",
          "Single, Cam: 1, filt",
          "Single, Cam: 1, filt",
          "Single, Cam: 1, unfilt",
          "Single, Cam: 1, unfilt",
          "Single, Cam: 1, unfilt",
          "Single, Cam: 1, unfilt",
          "Single, Cam: 1, unfilt",
          "Single, Cam: 1, unfilt",
          "Single, Cam: 1, unfilt",
          "Single, Cam: 1, unfilt",
          "Single, Cam: 1, unfilt"
         ],
         "x0": " ",
         "xaxis": "x",
         "y": [
          1.0721862956741064,
          0.7906912131071803,
          1.991481691169203,
          2.477644129329944,
          18.036137480263022,
          1.023588039312574,
          1.2843782612282646,
          0.9452007773847109,
          0.9401298021118902,
          1.2268608538623242,
          1.1166328670461114,
          1.8319612726726147,
          2.9488534318604023,
          11.816488332574346,
          0.8892640501301625,
          1.3286276343167123,
          1.1453487808598453,
          1.1028283561951553,
          1.46969002494447,
          1.3561306569405867,
          1.286401420431254,
          1.6030634560423573,
          1.3297216298966927,
          1.3305182219329992,
          1.26999598303146,
          1.1199510510376032,
          1.18628728628791,
          1.4768308546795286,
          1.3732885951420908,
          1.6540958469242761,
          1.6284184435482854,
          1.3208383243851223,
          1.3742067421168234,
          1.278846849373774,
          1.1092280557685164,
          1.1904427358822045
         ],
         "y0": " ",
         "yaxis": "y",
         "type": "box"
        }
       ],
       "layout": {
        "template": {
         "data": {
          "barpolar": [
           {
            "marker": {
             "line": {
              "color": "#E5ECF6",
              "width": 0.5
             },
             "pattern": {
              "fillmode": "overlay",
              "size": 10,
              "solidity": 0.2
             }
            },
            "type": "barpolar"
           }
          ],
          "bar": [
           {
            "error_x": {
             "color": "#2a3f5f"
            },
            "error_y": {
             "color": "#2a3f5f"
            },
            "marker": {
             "line": {
              "color": "#E5ECF6",
              "width": 0.5
             },
             "pattern": {
              "fillmode": "overlay",
              "size": 10,
              "solidity": 0.2
             }
            },
            "type": "bar"
           }
          ],
          "carpet": [
           {
            "aaxis": {
             "endlinecolor": "#2a3f5f",
             "gridcolor": "white",
             "linecolor": "white",
             "minorgridcolor": "white",
             "startlinecolor": "#2a3f5f"
            },
            "baxis": {
             "endlinecolor": "#2a3f5f",
             "gridcolor": "white",
             "linecolor": "white",
             "minorgridcolor": "white",
             "startlinecolor": "#2a3f5f"
            },
            "type": "carpet"
           }
          ],
          "choropleth": [
           {
            "colorbar": {
             "outlinewidth": 0,
             "ticks": ""
            },
            "type": "choropleth"
           }
          ],
          "contourcarpet": [
           {
            "colorbar": {
             "outlinewidth": 0,
             "ticks": ""
            },
            "type": "contourcarpet"
           }
          ],
          "contour": [
           {
            "colorbar": {
             "outlinewidth": 0,
             "ticks": ""
            },
            "colorscale": [
             [
              0.0,
              "#0d0887"
             ],
             [
              0.1111111111111111,
              "#46039f"
             ],
             [
              0.2222222222222222,
              "#7201a8"
             ],
             [
              0.3333333333333333,
              "#9c179e"
             ],
             [
              0.4444444444444444,
              "#bd3786"
             ],
             [
              0.5555555555555556,
              "#d8576b"
             ],
             [
              0.6666666666666666,
              "#ed7953"
             ],
             [
              0.7777777777777778,
              "#fb9f3a"
             ],
             [
              0.8888888888888888,
              "#fdca26"
             ],
             [
              1.0,
              "#f0f921"
             ]
            ],
            "type": "contour"
           }
          ],
          "heatmapgl": [
           {
            "colorbar": {
             "outlinewidth": 0,
             "ticks": ""
            },
            "colorscale": [
             [
              0.0,
              "#0d0887"
             ],
             [
              0.1111111111111111,
              "#46039f"
             ],
             [
              0.2222222222222222,
              "#7201a8"
             ],
             [
              0.3333333333333333,
              "#9c179e"
             ],
             [
              0.4444444444444444,
              "#bd3786"
             ],
             [
              0.5555555555555556,
              "#d8576b"
             ],
             [
              0.6666666666666666,
              "#ed7953"
             ],
             [
              0.7777777777777778,
              "#fb9f3a"
             ],
             [
              0.8888888888888888,
              "#fdca26"
             ],
             [
              1.0,
              "#f0f921"
             ]
            ],
            "type": "heatmapgl"
           }
          ],
          "heatmap": [
           {
            "colorbar": {
             "outlinewidth": 0,
             "ticks": ""
            },
            "colorscale": [
             [
              0.0,
              "#0d0887"
             ],
             [
              0.1111111111111111,
              "#46039f"
             ],
             [
              0.2222222222222222,
              "#7201a8"
             ],
             [
              0.3333333333333333,
              "#9c179e"
             ],
             [
              0.4444444444444444,
              "#bd3786"
             ],
             [
              0.5555555555555556,
              "#d8576b"
             ],
             [
              0.6666666666666666,
              "#ed7953"
             ],
             [
              0.7777777777777778,
              "#fb9f3a"
             ],
             [
              0.8888888888888888,
              "#fdca26"
             ],
             [
              1.0,
              "#f0f921"
             ]
            ],
            "type": "heatmap"
           }
          ],
          "histogram2dcontour": [
           {
            "colorbar": {
             "outlinewidth": 0,
             "ticks": ""
            },
            "colorscale": [
             [
              0.0,
              "#0d0887"
             ],
             [
              0.1111111111111111,
              "#46039f"
             ],
             [
              0.2222222222222222,
              "#7201a8"
             ],
             [
              0.3333333333333333,
              "#9c179e"
             ],
             [
              0.4444444444444444,
              "#bd3786"
             ],
             [
              0.5555555555555556,
              "#d8576b"
             ],
             [
              0.6666666666666666,
              "#ed7953"
             ],
             [
              0.7777777777777778,
              "#fb9f3a"
             ],
             [
              0.8888888888888888,
              "#fdca26"
             ],
             [
              1.0,
              "#f0f921"
             ]
            ],
            "type": "histogram2dcontour"
           }
          ],
          "histogram2d": [
           {
            "colorbar": {
             "outlinewidth": 0,
             "ticks": ""
            },
            "colorscale": [
             [
              0.0,
              "#0d0887"
             ],
             [
              0.1111111111111111,
              "#46039f"
             ],
             [
              0.2222222222222222,
              "#7201a8"
             ],
             [
              0.3333333333333333,
              "#9c179e"
             ],
             [
              0.4444444444444444,
              "#bd3786"
             ],
             [
              0.5555555555555556,
              "#d8576b"
             ],
             [
              0.6666666666666666,
              "#ed7953"
             ],
             [
              0.7777777777777778,
              "#fb9f3a"
             ],
             [
              0.8888888888888888,
              "#fdca26"
             ],
             [
              1.0,
              "#f0f921"
             ]
            ],
            "type": "histogram2d"
           }
          ],
          "histogram": [
           {
            "marker": {
             "pattern": {
              "fillmode": "overlay",
              "size": 10,
              "solidity": 0.2
             }
            },
            "type": "histogram"
           }
          ],
          "mesh3d": [
           {
            "colorbar": {
             "outlinewidth": 0,
             "ticks": ""
            },
            "type": "mesh3d"
           }
          ],
          "parcoords": [
           {
            "line": {
             "colorbar": {
              "outlinewidth": 0,
              "ticks": ""
             }
            },
            "type": "parcoords"
           }
          ],
          "pie": [
           {
            "automargin": true,
            "type": "pie"
           }
          ],
          "scatter3d": [
           {
            "line": {
             "colorbar": {
              "outlinewidth": 0,
              "ticks": ""
             }
            },
            "marker": {
             "colorbar": {
              "outlinewidth": 0,
              "ticks": ""
             }
            },
            "type": "scatter3d"
           }
          ],
          "scattercarpet": [
           {
            "marker": {
             "colorbar": {
              "outlinewidth": 0,
              "ticks": ""
             }
            },
            "type": "scattercarpet"
           }
          ],
          "scattergeo": [
           {
            "marker": {
             "colorbar": {
              "outlinewidth": 0,
              "ticks": ""
             }
            },
            "type": "scattergeo"
           }
          ],
          "scattergl": [
           {
            "marker": {
             "colorbar": {
              "outlinewidth": 0,
              "ticks": ""
             }
            },
            "type": "scattergl"
           }
          ],
          "scattermapbox": [
           {
            "marker": {
             "colorbar": {
              "outlinewidth": 0,
              "ticks": ""
             }
            },
            "type": "scattermapbox"
           }
          ],
          "scatterpolargl": [
           {
            "marker": {
             "colorbar": {
              "outlinewidth": 0,
              "ticks": ""
             }
            },
            "type": "scatterpolargl"
           }
          ],
          "scatterpolar": [
           {
            "marker": {
             "colorbar": {
              "outlinewidth": 0,
              "ticks": ""
             }
            },
            "type": "scatterpolar"
           }
          ],
          "scatter": [
           {
            "fillpattern": {
             "fillmode": "overlay",
             "size": 10,
             "solidity": 0.2
            },
            "type": "scatter"
           }
          ],
          "scatterternary": [
           {
            "marker": {
             "colorbar": {
              "outlinewidth": 0,
              "ticks": ""
             }
            },
            "type": "scatterternary"
           }
          ],
          "surface": [
           {
            "colorbar": {
             "outlinewidth": 0,
             "ticks": ""
            },
            "colorscale": [
             [
              0.0,
              "#0d0887"
             ],
             [
              0.1111111111111111,
              "#46039f"
             ],
             [
              0.2222222222222222,
              "#7201a8"
             ],
             [
              0.3333333333333333,
              "#9c179e"
             ],
             [
              0.4444444444444444,
              "#bd3786"
             ],
             [
              0.5555555555555556,
              "#d8576b"
             ],
             [
              0.6666666666666666,
              "#ed7953"
             ],
             [
              0.7777777777777778,
              "#fb9f3a"
             ],
             [
              0.8888888888888888,
              "#fdca26"
             ],
             [
              1.0,
              "#f0f921"
             ]
            ],
            "type": "surface"
           }
          ],
          "table": [
           {
            "cells": {
             "fill": {
              "color": "#EBF0F8"
             },
             "line": {
              "color": "white"
             }
            },
            "header": {
             "fill": {
              "color": "#C8D4E3"
             },
             "line": {
              "color": "white"
             }
            },
            "type": "table"
           }
          ]
         },
         "layout": {
          "annotationdefaults": {
           "arrowcolor": "#2a3f5f",
           "arrowhead": 0,
           "arrowwidth": 1
          },
          "autotypenumbers": "strict",
          "coloraxis": {
           "colorbar": {
            "outlinewidth": 0,
            "ticks": ""
           }
          },
          "colorscale": {
           "diverging": [
            [
             0,
             "#8e0152"
            ],
            [
             0.1,
             "#c51b7d"
            ],
            [
             0.2,
             "#de77ae"
            ],
            [
             0.3,
             "#f1b6da"
            ],
            [
             0.4,
             "#fde0ef"
            ],
            [
             0.5,
             "#f7f7f7"
            ],
            [
             0.6,
             "#e6f5d0"
            ],
            [
             0.7,
             "#b8e186"
            ],
            [
             0.8,
             "#7fbc41"
            ],
            [
             0.9,
             "#4d9221"
            ],
            [
             1,
             "#276419"
            ]
           ],
           "sequential": [
            [
             0.0,
             "#0d0887"
            ],
            [
             0.1111111111111111,
             "#46039f"
            ],
            [
             0.2222222222222222,
             "#7201a8"
            ],
            [
             0.3333333333333333,
             "#9c179e"
            ],
            [
             0.4444444444444444,
             "#bd3786"
            ],
            [
             0.5555555555555556,
             "#d8576b"
            ],
            [
             0.6666666666666666,
             "#ed7953"
            ],
            [
             0.7777777777777778,
             "#fb9f3a"
            ],
            [
             0.8888888888888888,
             "#fdca26"
            ],
            [
             1.0,
             "#f0f921"
            ]
           ],
           "sequentialminus": [
            [
             0.0,
             "#0d0887"
            ],
            [
             0.1111111111111111,
             "#46039f"
            ],
            [
             0.2222222222222222,
             "#7201a8"
            ],
            [
             0.3333333333333333,
             "#9c179e"
            ],
            [
             0.4444444444444444,
             "#bd3786"
            ],
            [
             0.5555555555555556,
             "#d8576b"
            ],
            [
             0.6666666666666666,
             "#ed7953"
            ],
            [
             0.7777777777777778,
             "#fb9f3a"
            ],
            [
             0.8888888888888888,
             "#fdca26"
            ],
            [
             1.0,
             "#f0f921"
            ]
           ]
          },
          "colorway": [
           "#636efa",
           "#EF553B",
           "#00cc96",
           "#ab63fa",
           "#FFA15A",
           "#19d3f3",
           "#FF6692",
           "#B6E880",
           "#FF97FF",
           "#FECB52"
          ],
          "font": {
           "color": "#2a3f5f"
          },
          "geo": {
           "bgcolor": "white",
           "lakecolor": "white",
           "landcolor": "#E5ECF6",
           "showlakes": true,
           "showland": true,
           "subunitcolor": "white"
          },
          "hoverlabel": {
           "align": "left"
          },
          "hovermode": "closest",
          "mapbox": {
           "style": "light"
          },
          "paper_bgcolor": "white",
          "plot_bgcolor": "#E5ECF6",
          "polar": {
           "angularaxis": {
            "gridcolor": "white",
            "linecolor": "white",
            "ticks": ""
           },
           "bgcolor": "#E5ECF6",
           "radialaxis": {
            "gridcolor": "white",
            "linecolor": "white",
            "ticks": ""
           }
          },
          "scene": {
           "xaxis": {
            "backgroundcolor": "#E5ECF6",
            "gridcolor": "white",
            "gridwidth": 2,
            "linecolor": "white",
            "showbackground": true,
            "ticks": "",
            "zerolinecolor": "white"
           },
           "yaxis": {
            "backgroundcolor": "#E5ECF6",
            "gridcolor": "white",
            "gridwidth": 2,
            "linecolor": "white",
            "showbackground": true,
            "ticks": "",
            "zerolinecolor": "white"
           },
           "zaxis": {
            "backgroundcolor": "#E5ECF6",
            "gridcolor": "white",
            "gridwidth": 2,
            "linecolor": "white",
            "showbackground": true,
            "ticks": "",
            "zerolinecolor": "white"
           }
          },
          "shapedefaults": {
           "line": {
            "color": "#2a3f5f"
           }
          },
          "ternary": {
           "aaxis": {
            "gridcolor": "white",
            "linecolor": "white",
            "ticks": ""
           },
           "baxis": {
            "gridcolor": "white",
            "linecolor": "white",
            "ticks": ""
           },
           "bgcolor": "#E5ECF6",
           "caxis": {
            "gridcolor": "white",
            "linecolor": "white",
            "ticks": ""
           }
          },
          "title": {
           "x": 0.05
          },
          "xaxis": {
           "automargin": true,
           "gridcolor": "white",
           "linecolor": "white",
           "ticks": "",
           "title": {
            "standoff": 15
           },
           "zerolinecolor": "white",
           "zerolinewidth": 2
          },
          "yaxis": {
           "automargin": true,
           "gridcolor": "white",
           "linecolor": "white",
           "ticks": "",
           "title": {
            "standoff": 15
           },
           "zerolinecolor": "white",
           "zerolinewidth": 2
          }
         }
        },
        "xaxis": {
         "anchor": "y",
         "domain": [
          0.0,
          1.0
         ],
         "title": {
          "text": "<b>Settings<b>",
          "font": {
           "size": 22
          }
         },
         "tickfont": {
          "size": 20
         }
        },
        "yaxis": {
         "anchor": "x",
         "domain": [
          0.0,
          1.0
         ],
         "title": {
          "text": "<b>ROM RMSE [deg/s]<b>",
          "font": {
           "size": 22
          }
         }
        },
        "legend": {
         "tracegroupgap": 0
        },
        "title": {
         "text": "<b>Elbow Velocity ROM RMSE,<br>cad = 21.71 deg/s<b>",
         "font": {
          "size": 26
         }
        },
        "boxmode": "group",
        "height": 650,
        "width": 650,
        "shapes": [
         {
          "line": {
           "color": "red",
           "dash": "dash"
          },
          "name": "CAD",
          "type": "line",
          "x0": 0,
          "x1": 1,
          "xref": "x domain",
          "y0": 21.71,
          "y1": 21.71,
          "yref": "y"
         }
        ]
       },
       "config": {
        "plotlyServerURL": "https://plot.ly"
       }
      },
      "text/html": [
       "<div>                            <div id=\"73a76166-3065-443e-9ebe-cd172fcb674e\" class=\"plotly-graph-div\" style=\"height:650px; width:650px;\"></div>            <script type=\"text/javascript\">                require([\"plotly\"], function(Plotly) {                    window.PLOTLYENV=window.PLOTLYENV || {};                                    if (document.getElementById(\"73a76166-3065-443e-9ebe-cd172fcb674e\")) {                    Plotly.newPlot(                        \"73a76166-3065-443e-9ebe-cd172fcb674e\",                        [{\"alignmentgroup\":\"True\",\"hovertemplate\":\"id_s_name=%{x}\\u003cbr\\u003erom_rmse=%{y}\\u003cextra\\u003e\\u003c\\u002fextra\\u003e\",\"legendgroup\":\"\",\"marker\":{\"color\":\"#636efa\"},\"name\":\"\",\"notched\":false,\"offsetgroup\":\"\",\"orientation\":\"v\",\"showlegend\":false,\"x\":[\"SimCC, Cams: 1,2,3,4,5\",\"SimCC, Cams: 1,2,3,4,5\",\"SimCC, Cams: 1,2,3,4,5\",\"SimCC, Cams: 1,2,3,4,5\",\"SimCC, Cams: 1,2,3,4,5\",\"SimCC, Cams: 1,2,3,4,5\",\"SimCC, Cams: 1,2,3,4,5\",\"SimCC, Cams: 1,2,3,4,5\",\"SimCC, Cams: 1,2,3,4,5\",\"Metrabs, Cams: 1,2,3,4,5\",\"Metrabs, Cams: 1,2,3,4,5\",\"Metrabs, Cams: 1,2,3,4,5\",\"Metrabs, Cams: 1,2,3,4,5\",\"Metrabs, Cams: 1,2,3,4,5\",\"Metrabs, Cams: 1,2,3,4,5\",\"Metrabs, Cams: 1,2,3,4,5\",\"Metrabs, Cams: 1,2,3,4,5\",\"Metrabs, Cams: 1,2,3,4,5\",\"Single, Cam: 1, filt\",\"Single, Cam: 1, filt\",\"Single, Cam: 1, filt\",\"Single, Cam: 1, filt\",\"Single, Cam: 1, filt\",\"Single, Cam: 1, filt\",\"Single, Cam: 1, filt\",\"Single, Cam: 1, filt\",\"Single, Cam: 1, filt\",\"Single, Cam: 1, unfilt\",\"Single, Cam: 1, unfilt\",\"Single, Cam: 1, unfilt\",\"Single, Cam: 1, unfilt\",\"Single, Cam: 1, unfilt\",\"Single, Cam: 1, unfilt\",\"Single, Cam: 1, unfilt\",\"Single, Cam: 1, unfilt\",\"Single, Cam: 1, unfilt\"],\"x0\":\" \",\"xaxis\":\"x\",\"y\":[1.0721862956741064,0.7906912131071803,1.991481691169203,2.477644129329944,18.036137480263022,1.023588039312574,1.2843782612282646,0.9452007773847109,0.9401298021118902,1.2268608538623242,1.1166328670461114,1.8319612726726147,2.9488534318604023,11.816488332574346,0.8892640501301625,1.3286276343167123,1.1453487808598453,1.1028283561951553,1.46969002494447,1.3561306569405867,1.286401420431254,1.6030634560423573,1.3297216298966927,1.3305182219329992,1.26999598303146,1.1199510510376032,1.18628728628791,1.4768308546795286,1.3732885951420908,1.6540958469242761,1.6284184435482854,1.3208383243851223,1.3742067421168234,1.278846849373774,1.1092280557685164,1.1904427358822045],\"y0\":\" \",\"yaxis\":\"y\",\"type\":\"box\"}],                        {\"template\":{\"data\":{\"barpolar\":[{\"marker\":{\"line\":{\"color\":\"#E5ECF6\",\"width\":0.5},\"pattern\":{\"fillmode\":\"overlay\",\"size\":10,\"solidity\":0.2}},\"type\":\"barpolar\"}],\"bar\":[{\"error_x\":{\"color\":\"#2a3f5f\"},\"error_y\":{\"color\":\"#2a3f5f\"},\"marker\":{\"line\":{\"color\":\"#E5ECF6\",\"width\":0.5},\"pattern\":{\"fillmode\":\"overlay\",\"size\":10,\"solidity\":0.2}},\"type\":\"bar\"}],\"carpet\":[{\"aaxis\":{\"endlinecolor\":\"#2a3f5f\",\"gridcolor\":\"white\",\"linecolor\":\"white\",\"minorgridcolor\":\"white\",\"startlinecolor\":\"#2a3f5f\"},\"baxis\":{\"endlinecolor\":\"#2a3f5f\",\"gridcolor\":\"white\",\"linecolor\":\"white\",\"minorgridcolor\":\"white\",\"startlinecolor\":\"#2a3f5f\"},\"type\":\"carpet\"}],\"choropleth\":[{\"colorbar\":{\"outlinewidth\":0,\"ticks\":\"\"},\"type\":\"choropleth\"}],\"contourcarpet\":[{\"colorbar\":{\"outlinewidth\":0,\"ticks\":\"\"},\"type\":\"contourcarpet\"}],\"contour\":[{\"colorbar\":{\"outlinewidth\":0,\"ticks\":\"\"},\"colorscale\":[[0.0,\"#0d0887\"],[0.1111111111111111,\"#46039f\"],[0.2222222222222222,\"#7201a8\"],[0.3333333333333333,\"#9c179e\"],[0.4444444444444444,\"#bd3786\"],[0.5555555555555556,\"#d8576b\"],[0.6666666666666666,\"#ed7953\"],[0.7777777777777778,\"#fb9f3a\"],[0.8888888888888888,\"#fdca26\"],[1.0,\"#f0f921\"]],\"type\":\"contour\"}],\"heatmapgl\":[{\"colorbar\":{\"outlinewidth\":0,\"ticks\":\"\"},\"colorscale\":[[0.0,\"#0d0887\"],[0.1111111111111111,\"#46039f\"],[0.2222222222222222,\"#7201a8\"],[0.3333333333333333,\"#9c179e\"],[0.4444444444444444,\"#bd3786\"],[0.5555555555555556,\"#d8576b\"],[0.6666666666666666,\"#ed7953\"],[0.7777777777777778,\"#fb9f3a\"],[0.8888888888888888,\"#fdca26\"],[1.0,\"#f0f921\"]],\"type\":\"heatmapgl\"}],\"heatmap\":[{\"colorbar\":{\"outlinewidth\":0,\"ticks\":\"\"},\"colorscale\":[[0.0,\"#0d0887\"],[0.1111111111111111,\"#46039f\"],[0.2222222222222222,\"#7201a8\"],[0.3333333333333333,\"#9c179e\"],[0.4444444444444444,\"#bd3786\"],[0.5555555555555556,\"#d8576b\"],[0.6666666666666666,\"#ed7953\"],[0.7777777777777778,\"#fb9f3a\"],[0.8888888888888888,\"#fdca26\"],[1.0,\"#f0f921\"]],\"type\":\"heatmap\"}],\"histogram2dcontour\":[{\"colorbar\":{\"outlinewidth\":0,\"ticks\":\"\"},\"colorscale\":[[0.0,\"#0d0887\"],[0.1111111111111111,\"#46039f\"],[0.2222222222222222,\"#7201a8\"],[0.3333333333333333,\"#9c179e\"],[0.4444444444444444,\"#bd3786\"],[0.5555555555555556,\"#d8576b\"],[0.6666666666666666,\"#ed7953\"],[0.7777777777777778,\"#fb9f3a\"],[0.8888888888888888,\"#fdca26\"],[1.0,\"#f0f921\"]],\"type\":\"histogram2dcontour\"}],\"histogram2d\":[{\"colorbar\":{\"outlinewidth\":0,\"ticks\":\"\"},\"colorscale\":[[0.0,\"#0d0887\"],[0.1111111111111111,\"#46039f\"],[0.2222222222222222,\"#7201a8\"],[0.3333333333333333,\"#9c179e\"],[0.4444444444444444,\"#bd3786\"],[0.5555555555555556,\"#d8576b\"],[0.6666666666666666,\"#ed7953\"],[0.7777777777777778,\"#fb9f3a\"],[0.8888888888888888,\"#fdca26\"],[1.0,\"#f0f921\"]],\"type\":\"histogram2d\"}],\"histogram\":[{\"marker\":{\"pattern\":{\"fillmode\":\"overlay\",\"size\":10,\"solidity\":0.2}},\"type\":\"histogram\"}],\"mesh3d\":[{\"colorbar\":{\"outlinewidth\":0,\"ticks\":\"\"},\"type\":\"mesh3d\"}],\"parcoords\":[{\"line\":{\"colorbar\":{\"outlinewidth\":0,\"ticks\":\"\"}},\"type\":\"parcoords\"}],\"pie\":[{\"automargin\":true,\"type\":\"pie\"}],\"scatter3d\":[{\"line\":{\"colorbar\":{\"outlinewidth\":0,\"ticks\":\"\"}},\"marker\":{\"colorbar\":{\"outlinewidth\":0,\"ticks\":\"\"}},\"type\":\"scatter3d\"}],\"scattercarpet\":[{\"marker\":{\"colorbar\":{\"outlinewidth\":0,\"ticks\":\"\"}},\"type\":\"scattercarpet\"}],\"scattergeo\":[{\"marker\":{\"colorbar\":{\"outlinewidth\":0,\"ticks\":\"\"}},\"type\":\"scattergeo\"}],\"scattergl\":[{\"marker\":{\"colorbar\":{\"outlinewidth\":0,\"ticks\":\"\"}},\"type\":\"scattergl\"}],\"scattermapbox\":[{\"marker\":{\"colorbar\":{\"outlinewidth\":0,\"ticks\":\"\"}},\"type\":\"scattermapbox\"}],\"scatterpolargl\":[{\"marker\":{\"colorbar\":{\"outlinewidth\":0,\"ticks\":\"\"}},\"type\":\"scatterpolargl\"}],\"scatterpolar\":[{\"marker\":{\"colorbar\":{\"outlinewidth\":0,\"ticks\":\"\"}},\"type\":\"scatterpolar\"}],\"scatter\":[{\"fillpattern\":{\"fillmode\":\"overlay\",\"size\":10,\"solidity\":0.2},\"type\":\"scatter\"}],\"scatterternary\":[{\"marker\":{\"colorbar\":{\"outlinewidth\":0,\"ticks\":\"\"}},\"type\":\"scatterternary\"}],\"surface\":[{\"colorbar\":{\"outlinewidth\":0,\"ticks\":\"\"},\"colorscale\":[[0.0,\"#0d0887\"],[0.1111111111111111,\"#46039f\"],[0.2222222222222222,\"#7201a8\"],[0.3333333333333333,\"#9c179e\"],[0.4444444444444444,\"#bd3786\"],[0.5555555555555556,\"#d8576b\"],[0.6666666666666666,\"#ed7953\"],[0.7777777777777778,\"#fb9f3a\"],[0.8888888888888888,\"#fdca26\"],[1.0,\"#f0f921\"]],\"type\":\"surface\"}],\"table\":[{\"cells\":{\"fill\":{\"color\":\"#EBF0F8\"},\"line\":{\"color\":\"white\"}},\"header\":{\"fill\":{\"color\":\"#C8D4E3\"},\"line\":{\"color\":\"white\"}},\"type\":\"table\"}]},\"layout\":{\"annotationdefaults\":{\"arrowcolor\":\"#2a3f5f\",\"arrowhead\":0,\"arrowwidth\":1},\"autotypenumbers\":\"strict\",\"coloraxis\":{\"colorbar\":{\"outlinewidth\":0,\"ticks\":\"\"}},\"colorscale\":{\"diverging\":[[0,\"#8e0152\"],[0.1,\"#c51b7d\"],[0.2,\"#de77ae\"],[0.3,\"#f1b6da\"],[0.4,\"#fde0ef\"],[0.5,\"#f7f7f7\"],[0.6,\"#e6f5d0\"],[0.7,\"#b8e186\"],[0.8,\"#7fbc41\"],[0.9,\"#4d9221\"],[1,\"#276419\"]],\"sequential\":[[0.0,\"#0d0887\"],[0.1111111111111111,\"#46039f\"],[0.2222222222222222,\"#7201a8\"],[0.3333333333333333,\"#9c179e\"],[0.4444444444444444,\"#bd3786\"],[0.5555555555555556,\"#d8576b\"],[0.6666666666666666,\"#ed7953\"],[0.7777777777777778,\"#fb9f3a\"],[0.8888888888888888,\"#fdca26\"],[1.0,\"#f0f921\"]],\"sequentialminus\":[[0.0,\"#0d0887\"],[0.1111111111111111,\"#46039f\"],[0.2222222222222222,\"#7201a8\"],[0.3333333333333333,\"#9c179e\"],[0.4444444444444444,\"#bd3786\"],[0.5555555555555556,\"#d8576b\"],[0.6666666666666666,\"#ed7953\"],[0.7777777777777778,\"#fb9f3a\"],[0.8888888888888888,\"#fdca26\"],[1.0,\"#f0f921\"]]},\"colorway\":[\"#636efa\",\"#EF553B\",\"#00cc96\",\"#ab63fa\",\"#FFA15A\",\"#19d3f3\",\"#FF6692\",\"#B6E880\",\"#FF97FF\",\"#FECB52\"],\"font\":{\"color\":\"#2a3f5f\"},\"geo\":{\"bgcolor\":\"white\",\"lakecolor\":\"white\",\"landcolor\":\"#E5ECF6\",\"showlakes\":true,\"showland\":true,\"subunitcolor\":\"white\"},\"hoverlabel\":{\"align\":\"left\"},\"hovermode\":\"closest\",\"mapbox\":{\"style\":\"light\"},\"paper_bgcolor\":\"white\",\"plot_bgcolor\":\"#E5ECF6\",\"polar\":{\"angularaxis\":{\"gridcolor\":\"white\",\"linecolor\":\"white\",\"ticks\":\"\"},\"bgcolor\":\"#E5ECF6\",\"radialaxis\":{\"gridcolor\":\"white\",\"linecolor\":\"white\",\"ticks\":\"\"}},\"scene\":{\"xaxis\":{\"backgroundcolor\":\"#E5ECF6\",\"gridcolor\":\"white\",\"gridwidth\":2,\"linecolor\":\"white\",\"showbackground\":true,\"ticks\":\"\",\"zerolinecolor\":\"white\"},\"yaxis\":{\"backgroundcolor\":\"#E5ECF6\",\"gridcolor\":\"white\",\"gridwidth\":2,\"linecolor\":\"white\",\"showbackground\":true,\"ticks\":\"\",\"zerolinecolor\":\"white\"},\"zaxis\":{\"backgroundcolor\":\"#E5ECF6\",\"gridcolor\":\"white\",\"gridwidth\":2,\"linecolor\":\"white\",\"showbackground\":true,\"ticks\":\"\",\"zerolinecolor\":\"white\"}},\"shapedefaults\":{\"line\":{\"color\":\"#2a3f5f\"}},\"ternary\":{\"aaxis\":{\"gridcolor\":\"white\",\"linecolor\":\"white\",\"ticks\":\"\"},\"baxis\":{\"gridcolor\":\"white\",\"linecolor\":\"white\",\"ticks\":\"\"},\"bgcolor\":\"#E5ECF6\",\"caxis\":{\"gridcolor\":\"white\",\"linecolor\":\"white\",\"ticks\":\"\"}},\"title\":{\"x\":0.05},\"xaxis\":{\"automargin\":true,\"gridcolor\":\"white\",\"linecolor\":\"white\",\"ticks\":\"\",\"title\":{\"standoff\":15},\"zerolinecolor\":\"white\",\"zerolinewidth\":2},\"yaxis\":{\"automargin\":true,\"gridcolor\":\"white\",\"linecolor\":\"white\",\"ticks\":\"\",\"title\":{\"standoff\":15},\"zerolinecolor\":\"white\",\"zerolinewidth\":2}}},\"xaxis\":{\"anchor\":\"y\",\"domain\":[0.0,1.0],\"title\":{\"text\":\"\\u003cb\\u003eSettings\\u003cb\\u003e\",\"font\":{\"size\":22}},\"tickfont\":{\"size\":20}},\"yaxis\":{\"anchor\":\"x\",\"domain\":[0.0,1.0],\"title\":{\"text\":\"\\u003cb\\u003eROM RMSE [deg\\u002fs]\\u003cb\\u003e\",\"font\":{\"size\":22}}},\"legend\":{\"tracegroupgap\":0},\"title\":{\"text\":\"\\u003cb\\u003eElbow Velocity ROM RMSE,\\u003cbr\\u003ecad = 21.71 deg\\u002fs\\u003cb\\u003e\",\"font\":{\"size\":26}},\"boxmode\":\"group\",\"height\":650,\"width\":650,\"shapes\":[{\"line\":{\"color\":\"red\",\"dash\":\"dash\"},\"name\":\"CAD\",\"type\":\"line\",\"x0\":0,\"x1\":1,\"xref\":\"x domain\",\"y0\":21.71,\"y1\":21.71,\"yref\":\"y\"}]},                        {\"responsive\": true}                    ).then(function(){\n",
       "                            \n",
       "var gd = document.getElementById('73a76166-3065-443e-9ebe-cd172fcb674e');\n",
       "var x = new MutationObserver(function (mutations, observer) {{\n",
       "        var display = window.getComputedStyle(gd).display;\n",
       "        if (!display || display === 'none') {{\n",
       "            console.log([gd, 'removed!']);\n",
       "            Plotly.purge(gd);\n",
       "            observer.disconnect();\n",
       "        }}\n",
       "}});\n",
       "\n",
       "// Listen for the removal of the full notebook cells\n",
       "var notebookContainer = gd.closest('#notebook-container');\n",
       "if (notebookContainer) {{\n",
       "    x.observe(notebookContainer, {childList: true});\n",
       "}}\n",
       "\n",
       "// Listen for the clearing of the current output cell\n",
       "var outputEl = gd.closest('.output');\n",
       "if (outputEl) {{\n",
       "    x.observe(outputEl, {childList: true});\n",
       "}}\n",
       "\n",
       "                        })                };                });            </script>        </div>"
      ]
     },
     "metadata": {},
     "output_type": "display_data"
    },
    {
     "data": {
      "application/vnd.plotly.v1+json": {
       "data": [
        {
         "alignmentgroup": "True",
         "hovertemplate": "id_s_name=%{x}<br>rom_rmse=%{y}<extra></extra>",
         "legendgroup": "",
         "marker": {
          "color": "#636efa"
         },
         "name": "",
         "notched": false,
         "offsetgroup": "",
         "orientation": "v",
         "showlegend": false,
         "x": [
          "SimCC, Cams: 1,2,3,4,5",
          "SimCC, Cams: 1,2,3,4,5",
          "SimCC, Cams: 1,2,3,4,5",
          "SimCC, Cams: 1,2,3,4,5",
          "SimCC, Cams: 1,2,3,4,5",
          "SimCC, Cams: 1,2,3,4,5",
          "SimCC, Cams: 1,2,3,4,5",
          "SimCC, Cams: 1,2,3,4,5",
          "SimCC, Cams: 1,2,3,4,5",
          "Metrabs, Cams: 1,2,3,4,5",
          "Metrabs, Cams: 1,2,3,4,5",
          "Metrabs, Cams: 1,2,3,4,5",
          "Metrabs, Cams: 1,2,3,4,5",
          "Metrabs, Cams: 1,2,3,4,5",
          "Metrabs, Cams: 1,2,3,4,5",
          "Metrabs, Cams: 1,2,3,4,5",
          "Metrabs, Cams: 1,2,3,4,5",
          "Metrabs, Cams: 1,2,3,4,5",
          "Single, Cam: 1, filt",
          "Single, Cam: 1, filt",
          "Single, Cam: 1, filt",
          "Single, Cam: 1, filt",
          "Single, Cam: 1, filt",
          "Single, Cam: 1, filt",
          "Single, Cam: 1, filt",
          "Single, Cam: 1, filt",
          "Single, Cam: 1, filt",
          "Single, Cam: 1, unfilt",
          "Single, Cam: 1, unfilt",
          "Single, Cam: 1, unfilt",
          "Single, Cam: 1, unfilt",
          "Single, Cam: 1, unfilt",
          "Single, Cam: 1, unfilt",
          "Single, Cam: 1, unfilt",
          "Single, Cam: 1, unfilt",
          "Single, Cam: 1, unfilt"
         ],
         "x0": " ",
         "xaxis": "x",
         "y": [
          2.484243100415678,
          9.4242418996437,
          49.985391671226196,
          24.331539483654275,
          241.15738113474964,
          8.612634512407004,
          6.118343172017273,
          13.308356308059572,
          8.267502053218834,
          7.900060690178771,
          14.384297927498366,
          6.008590453775344,
          66.0924793041242,
          79.08768388543726,
          10.442661370180016,
          4.459042405988182,
          5.081136379407836,
          5.045148104675483,
          37.564139964258885,
          44.883795164091,
          87.65361346292713,
          37.02793731104884,
          24.97987351660481,
          9.448374169024856,
          4.714894782776541,
          8.276449746213693,
          7.551541896907652,
          37.70379807265198,
          45.388046182866,
          101.07464386329335,
          37.151444446582516,
          25.336321046155696,
          9.546795501204214,
          4.735839889612048,
          8.431583203859958,
          7.513046884707884
         ],
         "y0": " ",
         "yaxis": "y",
         "type": "box"
        }
       ],
       "layout": {
        "template": {
         "data": {
          "barpolar": [
           {
            "marker": {
             "line": {
              "color": "#E5ECF6",
              "width": 0.5
             },
             "pattern": {
              "fillmode": "overlay",
              "size": 10,
              "solidity": 0.2
             }
            },
            "type": "barpolar"
           }
          ],
          "bar": [
           {
            "error_x": {
             "color": "#2a3f5f"
            },
            "error_y": {
             "color": "#2a3f5f"
            },
            "marker": {
             "line": {
              "color": "#E5ECF6",
              "width": 0.5
             },
             "pattern": {
              "fillmode": "overlay",
              "size": 10,
              "solidity": 0.2
             }
            },
            "type": "bar"
           }
          ],
          "carpet": [
           {
            "aaxis": {
             "endlinecolor": "#2a3f5f",
             "gridcolor": "white",
             "linecolor": "white",
             "minorgridcolor": "white",
             "startlinecolor": "#2a3f5f"
            },
            "baxis": {
             "endlinecolor": "#2a3f5f",
             "gridcolor": "white",
             "linecolor": "white",
             "minorgridcolor": "white",
             "startlinecolor": "#2a3f5f"
            },
            "type": "carpet"
           }
          ],
          "choropleth": [
           {
            "colorbar": {
             "outlinewidth": 0,
             "ticks": ""
            },
            "type": "choropleth"
           }
          ],
          "contourcarpet": [
           {
            "colorbar": {
             "outlinewidth": 0,
             "ticks": ""
            },
            "type": "contourcarpet"
           }
          ],
          "contour": [
           {
            "colorbar": {
             "outlinewidth": 0,
             "ticks": ""
            },
            "colorscale": [
             [
              0.0,
              "#0d0887"
             ],
             [
              0.1111111111111111,
              "#46039f"
             ],
             [
              0.2222222222222222,
              "#7201a8"
             ],
             [
              0.3333333333333333,
              "#9c179e"
             ],
             [
              0.4444444444444444,
              "#bd3786"
             ],
             [
              0.5555555555555556,
              "#d8576b"
             ],
             [
              0.6666666666666666,
              "#ed7953"
             ],
             [
              0.7777777777777778,
              "#fb9f3a"
             ],
             [
              0.8888888888888888,
              "#fdca26"
             ],
             [
              1.0,
              "#f0f921"
             ]
            ],
            "type": "contour"
           }
          ],
          "heatmapgl": [
           {
            "colorbar": {
             "outlinewidth": 0,
             "ticks": ""
            },
            "colorscale": [
             [
              0.0,
              "#0d0887"
             ],
             [
              0.1111111111111111,
              "#46039f"
             ],
             [
              0.2222222222222222,
              "#7201a8"
             ],
             [
              0.3333333333333333,
              "#9c179e"
             ],
             [
              0.4444444444444444,
              "#bd3786"
             ],
             [
              0.5555555555555556,
              "#d8576b"
             ],
             [
              0.6666666666666666,
              "#ed7953"
             ],
             [
              0.7777777777777778,
              "#fb9f3a"
             ],
             [
              0.8888888888888888,
              "#fdca26"
             ],
             [
              1.0,
              "#f0f921"
             ]
            ],
            "type": "heatmapgl"
           }
          ],
          "heatmap": [
           {
            "colorbar": {
             "outlinewidth": 0,
             "ticks": ""
            },
            "colorscale": [
             [
              0.0,
              "#0d0887"
             ],
             [
              0.1111111111111111,
              "#46039f"
             ],
             [
              0.2222222222222222,
              "#7201a8"
             ],
             [
              0.3333333333333333,
              "#9c179e"
             ],
             [
              0.4444444444444444,
              "#bd3786"
             ],
             [
              0.5555555555555556,
              "#d8576b"
             ],
             [
              0.6666666666666666,
              "#ed7953"
             ],
             [
              0.7777777777777778,
              "#fb9f3a"
             ],
             [
              0.8888888888888888,
              "#fdca26"
             ],
             [
              1.0,
              "#f0f921"
             ]
            ],
            "type": "heatmap"
           }
          ],
          "histogram2dcontour": [
           {
            "colorbar": {
             "outlinewidth": 0,
             "ticks": ""
            },
            "colorscale": [
             [
              0.0,
              "#0d0887"
             ],
             [
              0.1111111111111111,
              "#46039f"
             ],
             [
              0.2222222222222222,
              "#7201a8"
             ],
             [
              0.3333333333333333,
              "#9c179e"
             ],
             [
              0.4444444444444444,
              "#bd3786"
             ],
             [
              0.5555555555555556,
              "#d8576b"
             ],
             [
              0.6666666666666666,
              "#ed7953"
             ],
             [
              0.7777777777777778,
              "#fb9f3a"
             ],
             [
              0.8888888888888888,
              "#fdca26"
             ],
             [
              1.0,
              "#f0f921"
             ]
            ],
            "type": "histogram2dcontour"
           }
          ],
          "histogram2d": [
           {
            "colorbar": {
             "outlinewidth": 0,
             "ticks": ""
            },
            "colorscale": [
             [
              0.0,
              "#0d0887"
             ],
             [
              0.1111111111111111,
              "#46039f"
             ],
             [
              0.2222222222222222,
              "#7201a8"
             ],
             [
              0.3333333333333333,
              "#9c179e"
             ],
             [
              0.4444444444444444,
              "#bd3786"
             ],
             [
              0.5555555555555556,
              "#d8576b"
             ],
             [
              0.6666666666666666,
              "#ed7953"
             ],
             [
              0.7777777777777778,
              "#fb9f3a"
             ],
             [
              0.8888888888888888,
              "#fdca26"
             ],
             [
              1.0,
              "#f0f921"
             ]
            ],
            "type": "histogram2d"
           }
          ],
          "histogram": [
           {
            "marker": {
             "pattern": {
              "fillmode": "overlay",
              "size": 10,
              "solidity": 0.2
             }
            },
            "type": "histogram"
           }
          ],
          "mesh3d": [
           {
            "colorbar": {
             "outlinewidth": 0,
             "ticks": ""
            },
            "type": "mesh3d"
           }
          ],
          "parcoords": [
           {
            "line": {
             "colorbar": {
              "outlinewidth": 0,
              "ticks": ""
             }
            },
            "type": "parcoords"
           }
          ],
          "pie": [
           {
            "automargin": true,
            "type": "pie"
           }
          ],
          "scatter3d": [
           {
            "line": {
             "colorbar": {
              "outlinewidth": 0,
              "ticks": ""
             }
            },
            "marker": {
             "colorbar": {
              "outlinewidth": 0,
              "ticks": ""
             }
            },
            "type": "scatter3d"
           }
          ],
          "scattercarpet": [
           {
            "marker": {
             "colorbar": {
              "outlinewidth": 0,
              "ticks": ""
             }
            },
            "type": "scattercarpet"
           }
          ],
          "scattergeo": [
           {
            "marker": {
             "colorbar": {
              "outlinewidth": 0,
              "ticks": ""
             }
            },
            "type": "scattergeo"
           }
          ],
          "scattergl": [
           {
            "marker": {
             "colorbar": {
              "outlinewidth": 0,
              "ticks": ""
             }
            },
            "type": "scattergl"
           }
          ],
          "scattermapbox": [
           {
            "marker": {
             "colorbar": {
              "outlinewidth": 0,
              "ticks": ""
             }
            },
            "type": "scattermapbox"
           }
          ],
          "scatterpolargl": [
           {
            "marker": {
             "colorbar": {
              "outlinewidth": 0,
              "ticks": ""
             }
            },
            "type": "scatterpolargl"
           }
          ],
          "scatterpolar": [
           {
            "marker": {
             "colorbar": {
              "outlinewidth": 0,
              "ticks": ""
             }
            },
            "type": "scatterpolar"
           }
          ],
          "scatter": [
           {
            "fillpattern": {
             "fillmode": "overlay",
             "size": 10,
             "solidity": 0.2
            },
            "type": "scatter"
           }
          ],
          "scatterternary": [
           {
            "marker": {
             "colorbar": {
              "outlinewidth": 0,
              "ticks": ""
             }
            },
            "type": "scatterternary"
           }
          ],
          "surface": [
           {
            "colorbar": {
             "outlinewidth": 0,
             "ticks": ""
            },
            "colorscale": [
             [
              0.0,
              "#0d0887"
             ],
             [
              0.1111111111111111,
              "#46039f"
             ],
             [
              0.2222222222222222,
              "#7201a8"
             ],
             [
              0.3333333333333333,
              "#9c179e"
             ],
             [
              0.4444444444444444,
              "#bd3786"
             ],
             [
              0.5555555555555556,
              "#d8576b"
             ],
             [
              0.6666666666666666,
              "#ed7953"
             ],
             [
              0.7777777777777778,
              "#fb9f3a"
             ],
             [
              0.8888888888888888,
              "#fdca26"
             ],
             [
              1.0,
              "#f0f921"
             ]
            ],
            "type": "surface"
           }
          ],
          "table": [
           {
            "cells": {
             "fill": {
              "color": "#EBF0F8"
             },
             "line": {
              "color": "white"
             }
            },
            "header": {
             "fill": {
              "color": "#C8D4E3"
             },
             "line": {
              "color": "white"
             }
            },
            "type": "table"
           }
          ]
         },
         "layout": {
          "annotationdefaults": {
           "arrowcolor": "#2a3f5f",
           "arrowhead": 0,
           "arrowwidth": 1
          },
          "autotypenumbers": "strict",
          "coloraxis": {
           "colorbar": {
            "outlinewidth": 0,
            "ticks": ""
           }
          },
          "colorscale": {
           "diverging": [
            [
             0,
             "#8e0152"
            ],
            [
             0.1,
             "#c51b7d"
            ],
            [
             0.2,
             "#de77ae"
            ],
            [
             0.3,
             "#f1b6da"
            ],
            [
             0.4,
             "#fde0ef"
            ],
            [
             0.5,
             "#f7f7f7"
            ],
            [
             0.6,
             "#e6f5d0"
            ],
            [
             0.7,
             "#b8e186"
            ],
            [
             0.8,
             "#7fbc41"
            ],
            [
             0.9,
             "#4d9221"
            ],
            [
             1,
             "#276419"
            ]
           ],
           "sequential": [
            [
             0.0,
             "#0d0887"
            ],
            [
             0.1111111111111111,
             "#46039f"
            ],
            [
             0.2222222222222222,
             "#7201a8"
            ],
            [
             0.3333333333333333,
             "#9c179e"
            ],
            [
             0.4444444444444444,
             "#bd3786"
            ],
            [
             0.5555555555555556,
             "#d8576b"
            ],
            [
             0.6666666666666666,
             "#ed7953"
            ],
            [
             0.7777777777777778,
             "#fb9f3a"
            ],
            [
             0.8888888888888888,
             "#fdca26"
            ],
            [
             1.0,
             "#f0f921"
            ]
           ],
           "sequentialminus": [
            [
             0.0,
             "#0d0887"
            ],
            [
             0.1111111111111111,
             "#46039f"
            ],
            [
             0.2222222222222222,
             "#7201a8"
            ],
            [
             0.3333333333333333,
             "#9c179e"
            ],
            [
             0.4444444444444444,
             "#bd3786"
            ],
            [
             0.5555555555555556,
             "#d8576b"
            ],
            [
             0.6666666666666666,
             "#ed7953"
            ],
            [
             0.7777777777777778,
             "#fb9f3a"
            ],
            [
             0.8888888888888888,
             "#fdca26"
            ],
            [
             1.0,
             "#f0f921"
            ]
           ]
          },
          "colorway": [
           "#636efa",
           "#EF553B",
           "#00cc96",
           "#ab63fa",
           "#FFA15A",
           "#19d3f3",
           "#FF6692",
           "#B6E880",
           "#FF97FF",
           "#FECB52"
          ],
          "font": {
           "color": "#2a3f5f"
          },
          "geo": {
           "bgcolor": "white",
           "lakecolor": "white",
           "landcolor": "#E5ECF6",
           "showlakes": true,
           "showland": true,
           "subunitcolor": "white"
          },
          "hoverlabel": {
           "align": "left"
          },
          "hovermode": "closest",
          "mapbox": {
           "style": "light"
          },
          "paper_bgcolor": "white",
          "plot_bgcolor": "#E5ECF6",
          "polar": {
           "angularaxis": {
            "gridcolor": "white",
            "linecolor": "white",
            "ticks": ""
           },
           "bgcolor": "#E5ECF6",
           "radialaxis": {
            "gridcolor": "white",
            "linecolor": "white",
            "ticks": ""
           }
          },
          "scene": {
           "xaxis": {
            "backgroundcolor": "#E5ECF6",
            "gridcolor": "white",
            "gridwidth": 2,
            "linecolor": "white",
            "showbackground": true,
            "ticks": "",
            "zerolinecolor": "white"
           },
           "yaxis": {
            "backgroundcolor": "#E5ECF6",
            "gridcolor": "white",
            "gridwidth": 2,
            "linecolor": "white",
            "showbackground": true,
            "ticks": "",
            "zerolinecolor": "white"
           },
           "zaxis": {
            "backgroundcolor": "#E5ECF6",
            "gridcolor": "white",
            "gridwidth": 2,
            "linecolor": "white",
            "showbackground": true,
            "ticks": "",
            "zerolinecolor": "white"
           }
          },
          "shapedefaults": {
           "line": {
            "color": "#2a3f5f"
           }
          },
          "ternary": {
           "aaxis": {
            "gridcolor": "white",
            "linecolor": "white",
            "ticks": ""
           },
           "baxis": {
            "gridcolor": "white",
            "linecolor": "white",
            "ticks": ""
           },
           "bgcolor": "#E5ECF6",
           "caxis": {
            "gridcolor": "white",
            "linecolor": "white",
            "ticks": ""
           }
          },
          "title": {
           "x": 0.05
          },
          "xaxis": {
           "automargin": true,
           "gridcolor": "white",
           "linecolor": "white",
           "ticks": "",
           "title": {
            "standoff": 15
           },
           "zerolinecolor": "white",
           "zerolinewidth": 2
          },
          "yaxis": {
           "automargin": true,
           "gridcolor": "white",
           "linecolor": "white",
           "ticks": "",
           "title": {
            "standoff": 15
           },
           "zerolinecolor": "white",
           "zerolinewidth": 2
          }
         }
        },
        "xaxis": {
         "anchor": "y",
         "domain": [
          0.0,
          1.0
         ],
         "title": {
          "text": "<b>Settings<b>",
          "font": {
           "size": 22
          }
         },
         "tickfont": {
          "size": 20
         }
        },
        "yaxis": {
         "anchor": "x",
         "domain": [
          0.0,
          1.0
         ],
         "title": {
          "text": "<b>ROM RMSE [mm]<b>",
          "font": {
           "size": 22
          }
         }
        },
        "legend": {
         "tracegroupgap": 0
        },
        "title": {
         "text": "<b>Trunk Displacement ROM RMSE,<br>cad = 31.89 mm<b>",
         "font": {
          "size": 26
         }
        },
        "boxmode": "group",
        "height": 650,
        "width": 650,
        "shapes": [
         {
          "line": {
           "color": "red",
           "dash": "dash"
          },
          "name": "CAD",
          "type": "line",
          "x0": 0,
          "x1": 1,
          "xref": "x domain",
          "y0": 31.89,
          "y1": 31.89,
          "yref": "y"
         }
        ]
       },
       "config": {
        "plotlyServerURL": "https://plot.ly"
       }
      },
      "text/html": [
       "<div>                            <div id=\"92c8f1de-4361-4e11-8e7d-930ce6cbf484\" class=\"plotly-graph-div\" style=\"height:650px; width:650px;\"></div>            <script type=\"text/javascript\">                require([\"plotly\"], function(Plotly) {                    window.PLOTLYENV=window.PLOTLYENV || {};                                    if (document.getElementById(\"92c8f1de-4361-4e11-8e7d-930ce6cbf484\")) {                    Plotly.newPlot(                        \"92c8f1de-4361-4e11-8e7d-930ce6cbf484\",                        [{\"alignmentgroup\":\"True\",\"hovertemplate\":\"id_s_name=%{x}\\u003cbr\\u003erom_rmse=%{y}\\u003cextra\\u003e\\u003c\\u002fextra\\u003e\",\"legendgroup\":\"\",\"marker\":{\"color\":\"#636efa\"},\"name\":\"\",\"notched\":false,\"offsetgroup\":\"\",\"orientation\":\"v\",\"showlegend\":false,\"x\":[\"SimCC, Cams: 1,2,3,4,5\",\"SimCC, Cams: 1,2,3,4,5\",\"SimCC, Cams: 1,2,3,4,5\",\"SimCC, Cams: 1,2,3,4,5\",\"SimCC, Cams: 1,2,3,4,5\",\"SimCC, Cams: 1,2,3,4,5\",\"SimCC, Cams: 1,2,3,4,5\",\"SimCC, Cams: 1,2,3,4,5\",\"SimCC, Cams: 1,2,3,4,5\",\"Metrabs, Cams: 1,2,3,4,5\",\"Metrabs, Cams: 1,2,3,4,5\",\"Metrabs, Cams: 1,2,3,4,5\",\"Metrabs, Cams: 1,2,3,4,5\",\"Metrabs, Cams: 1,2,3,4,5\",\"Metrabs, Cams: 1,2,3,4,5\",\"Metrabs, Cams: 1,2,3,4,5\",\"Metrabs, Cams: 1,2,3,4,5\",\"Metrabs, Cams: 1,2,3,4,5\",\"Single, Cam: 1, filt\",\"Single, Cam: 1, filt\",\"Single, Cam: 1, filt\",\"Single, Cam: 1, filt\",\"Single, Cam: 1, filt\",\"Single, Cam: 1, filt\",\"Single, Cam: 1, filt\",\"Single, Cam: 1, filt\",\"Single, Cam: 1, filt\",\"Single, Cam: 1, unfilt\",\"Single, Cam: 1, unfilt\",\"Single, Cam: 1, unfilt\",\"Single, Cam: 1, unfilt\",\"Single, Cam: 1, unfilt\",\"Single, Cam: 1, unfilt\",\"Single, Cam: 1, unfilt\",\"Single, Cam: 1, unfilt\",\"Single, Cam: 1, unfilt\"],\"x0\":\" \",\"xaxis\":\"x\",\"y\":[2.484243100415678,9.4242418996437,49.985391671226196,24.331539483654275,241.15738113474964,8.612634512407004,6.118343172017273,13.308356308059572,8.267502053218834,7.900060690178771,14.384297927498366,6.008590453775344,66.0924793041242,79.08768388543726,10.442661370180016,4.459042405988182,5.081136379407836,5.045148104675483,37.564139964258885,44.883795164091,87.65361346292713,37.02793731104884,24.97987351660481,9.448374169024856,4.714894782776541,8.276449746213693,7.551541896907652,37.70379807265198,45.388046182866,101.07464386329335,37.151444446582516,25.336321046155696,9.546795501204214,4.735839889612048,8.431583203859958,7.513046884707884],\"y0\":\" \",\"yaxis\":\"y\",\"type\":\"box\"}],                        {\"template\":{\"data\":{\"barpolar\":[{\"marker\":{\"line\":{\"color\":\"#E5ECF6\",\"width\":0.5},\"pattern\":{\"fillmode\":\"overlay\",\"size\":10,\"solidity\":0.2}},\"type\":\"barpolar\"}],\"bar\":[{\"error_x\":{\"color\":\"#2a3f5f\"},\"error_y\":{\"color\":\"#2a3f5f\"},\"marker\":{\"line\":{\"color\":\"#E5ECF6\",\"width\":0.5},\"pattern\":{\"fillmode\":\"overlay\",\"size\":10,\"solidity\":0.2}},\"type\":\"bar\"}],\"carpet\":[{\"aaxis\":{\"endlinecolor\":\"#2a3f5f\",\"gridcolor\":\"white\",\"linecolor\":\"white\",\"minorgridcolor\":\"white\",\"startlinecolor\":\"#2a3f5f\"},\"baxis\":{\"endlinecolor\":\"#2a3f5f\",\"gridcolor\":\"white\",\"linecolor\":\"white\",\"minorgridcolor\":\"white\",\"startlinecolor\":\"#2a3f5f\"},\"type\":\"carpet\"}],\"choropleth\":[{\"colorbar\":{\"outlinewidth\":0,\"ticks\":\"\"},\"type\":\"choropleth\"}],\"contourcarpet\":[{\"colorbar\":{\"outlinewidth\":0,\"ticks\":\"\"},\"type\":\"contourcarpet\"}],\"contour\":[{\"colorbar\":{\"outlinewidth\":0,\"ticks\":\"\"},\"colorscale\":[[0.0,\"#0d0887\"],[0.1111111111111111,\"#46039f\"],[0.2222222222222222,\"#7201a8\"],[0.3333333333333333,\"#9c179e\"],[0.4444444444444444,\"#bd3786\"],[0.5555555555555556,\"#d8576b\"],[0.6666666666666666,\"#ed7953\"],[0.7777777777777778,\"#fb9f3a\"],[0.8888888888888888,\"#fdca26\"],[1.0,\"#f0f921\"]],\"type\":\"contour\"}],\"heatmapgl\":[{\"colorbar\":{\"outlinewidth\":0,\"ticks\":\"\"},\"colorscale\":[[0.0,\"#0d0887\"],[0.1111111111111111,\"#46039f\"],[0.2222222222222222,\"#7201a8\"],[0.3333333333333333,\"#9c179e\"],[0.4444444444444444,\"#bd3786\"],[0.5555555555555556,\"#d8576b\"],[0.6666666666666666,\"#ed7953\"],[0.7777777777777778,\"#fb9f3a\"],[0.8888888888888888,\"#fdca26\"],[1.0,\"#f0f921\"]],\"type\":\"heatmapgl\"}],\"heatmap\":[{\"colorbar\":{\"outlinewidth\":0,\"ticks\":\"\"},\"colorscale\":[[0.0,\"#0d0887\"],[0.1111111111111111,\"#46039f\"],[0.2222222222222222,\"#7201a8\"],[0.3333333333333333,\"#9c179e\"],[0.4444444444444444,\"#bd3786\"],[0.5555555555555556,\"#d8576b\"],[0.6666666666666666,\"#ed7953\"],[0.7777777777777778,\"#fb9f3a\"],[0.8888888888888888,\"#fdca26\"],[1.0,\"#f0f921\"]],\"type\":\"heatmap\"}],\"histogram2dcontour\":[{\"colorbar\":{\"outlinewidth\":0,\"ticks\":\"\"},\"colorscale\":[[0.0,\"#0d0887\"],[0.1111111111111111,\"#46039f\"],[0.2222222222222222,\"#7201a8\"],[0.3333333333333333,\"#9c179e\"],[0.4444444444444444,\"#bd3786\"],[0.5555555555555556,\"#d8576b\"],[0.6666666666666666,\"#ed7953\"],[0.7777777777777778,\"#fb9f3a\"],[0.8888888888888888,\"#fdca26\"],[1.0,\"#f0f921\"]],\"type\":\"histogram2dcontour\"}],\"histogram2d\":[{\"colorbar\":{\"outlinewidth\":0,\"ticks\":\"\"},\"colorscale\":[[0.0,\"#0d0887\"],[0.1111111111111111,\"#46039f\"],[0.2222222222222222,\"#7201a8\"],[0.3333333333333333,\"#9c179e\"],[0.4444444444444444,\"#bd3786\"],[0.5555555555555556,\"#d8576b\"],[0.6666666666666666,\"#ed7953\"],[0.7777777777777778,\"#fb9f3a\"],[0.8888888888888888,\"#fdca26\"],[1.0,\"#f0f921\"]],\"type\":\"histogram2d\"}],\"histogram\":[{\"marker\":{\"pattern\":{\"fillmode\":\"overlay\",\"size\":10,\"solidity\":0.2}},\"type\":\"histogram\"}],\"mesh3d\":[{\"colorbar\":{\"outlinewidth\":0,\"ticks\":\"\"},\"type\":\"mesh3d\"}],\"parcoords\":[{\"line\":{\"colorbar\":{\"outlinewidth\":0,\"ticks\":\"\"}},\"type\":\"parcoords\"}],\"pie\":[{\"automargin\":true,\"type\":\"pie\"}],\"scatter3d\":[{\"line\":{\"colorbar\":{\"outlinewidth\":0,\"ticks\":\"\"}},\"marker\":{\"colorbar\":{\"outlinewidth\":0,\"ticks\":\"\"}},\"type\":\"scatter3d\"}],\"scattercarpet\":[{\"marker\":{\"colorbar\":{\"outlinewidth\":0,\"ticks\":\"\"}},\"type\":\"scattercarpet\"}],\"scattergeo\":[{\"marker\":{\"colorbar\":{\"outlinewidth\":0,\"ticks\":\"\"}},\"type\":\"scattergeo\"}],\"scattergl\":[{\"marker\":{\"colorbar\":{\"outlinewidth\":0,\"ticks\":\"\"}},\"type\":\"scattergl\"}],\"scattermapbox\":[{\"marker\":{\"colorbar\":{\"outlinewidth\":0,\"ticks\":\"\"}},\"type\":\"scattermapbox\"}],\"scatterpolargl\":[{\"marker\":{\"colorbar\":{\"outlinewidth\":0,\"ticks\":\"\"}},\"type\":\"scatterpolargl\"}],\"scatterpolar\":[{\"marker\":{\"colorbar\":{\"outlinewidth\":0,\"ticks\":\"\"}},\"type\":\"scatterpolar\"}],\"scatter\":[{\"fillpattern\":{\"fillmode\":\"overlay\",\"size\":10,\"solidity\":0.2},\"type\":\"scatter\"}],\"scatterternary\":[{\"marker\":{\"colorbar\":{\"outlinewidth\":0,\"ticks\":\"\"}},\"type\":\"scatterternary\"}],\"surface\":[{\"colorbar\":{\"outlinewidth\":0,\"ticks\":\"\"},\"colorscale\":[[0.0,\"#0d0887\"],[0.1111111111111111,\"#46039f\"],[0.2222222222222222,\"#7201a8\"],[0.3333333333333333,\"#9c179e\"],[0.4444444444444444,\"#bd3786\"],[0.5555555555555556,\"#d8576b\"],[0.6666666666666666,\"#ed7953\"],[0.7777777777777778,\"#fb9f3a\"],[0.8888888888888888,\"#fdca26\"],[1.0,\"#f0f921\"]],\"type\":\"surface\"}],\"table\":[{\"cells\":{\"fill\":{\"color\":\"#EBF0F8\"},\"line\":{\"color\":\"white\"}},\"header\":{\"fill\":{\"color\":\"#C8D4E3\"},\"line\":{\"color\":\"white\"}},\"type\":\"table\"}]},\"layout\":{\"annotationdefaults\":{\"arrowcolor\":\"#2a3f5f\",\"arrowhead\":0,\"arrowwidth\":1},\"autotypenumbers\":\"strict\",\"coloraxis\":{\"colorbar\":{\"outlinewidth\":0,\"ticks\":\"\"}},\"colorscale\":{\"diverging\":[[0,\"#8e0152\"],[0.1,\"#c51b7d\"],[0.2,\"#de77ae\"],[0.3,\"#f1b6da\"],[0.4,\"#fde0ef\"],[0.5,\"#f7f7f7\"],[0.6,\"#e6f5d0\"],[0.7,\"#b8e186\"],[0.8,\"#7fbc41\"],[0.9,\"#4d9221\"],[1,\"#276419\"]],\"sequential\":[[0.0,\"#0d0887\"],[0.1111111111111111,\"#46039f\"],[0.2222222222222222,\"#7201a8\"],[0.3333333333333333,\"#9c179e\"],[0.4444444444444444,\"#bd3786\"],[0.5555555555555556,\"#d8576b\"],[0.6666666666666666,\"#ed7953\"],[0.7777777777777778,\"#fb9f3a\"],[0.8888888888888888,\"#fdca26\"],[1.0,\"#f0f921\"]],\"sequentialminus\":[[0.0,\"#0d0887\"],[0.1111111111111111,\"#46039f\"],[0.2222222222222222,\"#7201a8\"],[0.3333333333333333,\"#9c179e\"],[0.4444444444444444,\"#bd3786\"],[0.5555555555555556,\"#d8576b\"],[0.6666666666666666,\"#ed7953\"],[0.7777777777777778,\"#fb9f3a\"],[0.8888888888888888,\"#fdca26\"],[1.0,\"#f0f921\"]]},\"colorway\":[\"#636efa\",\"#EF553B\",\"#00cc96\",\"#ab63fa\",\"#FFA15A\",\"#19d3f3\",\"#FF6692\",\"#B6E880\",\"#FF97FF\",\"#FECB52\"],\"font\":{\"color\":\"#2a3f5f\"},\"geo\":{\"bgcolor\":\"white\",\"lakecolor\":\"white\",\"landcolor\":\"#E5ECF6\",\"showlakes\":true,\"showland\":true,\"subunitcolor\":\"white\"},\"hoverlabel\":{\"align\":\"left\"},\"hovermode\":\"closest\",\"mapbox\":{\"style\":\"light\"},\"paper_bgcolor\":\"white\",\"plot_bgcolor\":\"#E5ECF6\",\"polar\":{\"angularaxis\":{\"gridcolor\":\"white\",\"linecolor\":\"white\",\"ticks\":\"\"},\"bgcolor\":\"#E5ECF6\",\"radialaxis\":{\"gridcolor\":\"white\",\"linecolor\":\"white\",\"ticks\":\"\"}},\"scene\":{\"xaxis\":{\"backgroundcolor\":\"#E5ECF6\",\"gridcolor\":\"white\",\"gridwidth\":2,\"linecolor\":\"white\",\"showbackground\":true,\"ticks\":\"\",\"zerolinecolor\":\"white\"},\"yaxis\":{\"backgroundcolor\":\"#E5ECF6\",\"gridcolor\":\"white\",\"gridwidth\":2,\"linecolor\":\"white\",\"showbackground\":true,\"ticks\":\"\",\"zerolinecolor\":\"white\"},\"zaxis\":{\"backgroundcolor\":\"#E5ECF6\",\"gridcolor\":\"white\",\"gridwidth\":2,\"linecolor\":\"white\",\"showbackground\":true,\"ticks\":\"\",\"zerolinecolor\":\"white\"}},\"shapedefaults\":{\"line\":{\"color\":\"#2a3f5f\"}},\"ternary\":{\"aaxis\":{\"gridcolor\":\"white\",\"linecolor\":\"white\",\"ticks\":\"\"},\"baxis\":{\"gridcolor\":\"white\",\"linecolor\":\"white\",\"ticks\":\"\"},\"bgcolor\":\"#E5ECF6\",\"caxis\":{\"gridcolor\":\"white\",\"linecolor\":\"white\",\"ticks\":\"\"}},\"title\":{\"x\":0.05},\"xaxis\":{\"automargin\":true,\"gridcolor\":\"white\",\"linecolor\":\"white\",\"ticks\":\"\",\"title\":{\"standoff\":15},\"zerolinecolor\":\"white\",\"zerolinewidth\":2},\"yaxis\":{\"automargin\":true,\"gridcolor\":\"white\",\"linecolor\":\"white\",\"ticks\":\"\",\"title\":{\"standoff\":15},\"zerolinecolor\":\"white\",\"zerolinewidth\":2}}},\"xaxis\":{\"anchor\":\"y\",\"domain\":[0.0,1.0],\"title\":{\"text\":\"\\u003cb\\u003eSettings\\u003cb\\u003e\",\"font\":{\"size\":22}},\"tickfont\":{\"size\":20}},\"yaxis\":{\"anchor\":\"x\",\"domain\":[0.0,1.0],\"title\":{\"text\":\"\\u003cb\\u003eROM RMSE [mm]\\u003cb\\u003e\",\"font\":{\"size\":22}}},\"legend\":{\"tracegroupgap\":0},\"title\":{\"text\":\"\\u003cb\\u003eTrunk Displacement ROM RMSE,\\u003cbr\\u003ecad = 31.89 mm\\u003cb\\u003e\",\"font\":{\"size\":26}},\"boxmode\":\"group\",\"height\":650,\"width\":650,\"shapes\":[{\"line\":{\"color\":\"red\",\"dash\":\"dash\"},\"name\":\"CAD\",\"type\":\"line\",\"x0\":0,\"x1\":1,\"xref\":\"x domain\",\"y0\":31.89,\"y1\":31.89,\"yref\":\"y\"}]},                        {\"responsive\": true}                    ).then(function(){\n",
       "                            \n",
       "var gd = document.getElementById('92c8f1de-4361-4e11-8e7d-930ce6cbf484');\n",
       "var x = new MutationObserver(function (mutations, observer) {{\n",
       "        var display = window.getComputedStyle(gd).display;\n",
       "        if (!display || display === 'none') {{\n",
       "            console.log([gd, 'removed!']);\n",
       "            Plotly.purge(gd);\n",
       "            observer.disconnect();\n",
       "        }}\n",
       "}});\n",
       "\n",
       "// Listen for the removal of the full notebook cells\n",
       "var notebookContainer = gd.closest('#notebook-container');\n",
       "if (notebookContainer) {{\n",
       "    x.observe(notebookContainer, {childList: true});\n",
       "}}\n",
       "\n",
       "// Listen for the clearing of the current output cell\n",
       "var outputEl = gd.closest('.output');\n",
       "if (outputEl) {{\n",
       "    x.observe(outputEl, {childList: true});\n",
       "}}\n",
       "\n",
       "                        })                };                });            </script>        </div>"
      ]
     },
     "metadata": {},
     "output_type": "display_data"
    },
    {
     "data": {
      "application/vnd.plotly.v1+json": {
       "data": [
        {
         "alignmentgroup": "True",
         "hovertemplate": "id_s_name=%{x}<br>rom_rmse=%{y}<extra></extra>",
         "legendgroup": "",
         "marker": {
          "color": "#636efa"
         },
         "name": "",
         "notched": false,
         "offsetgroup": "",
         "orientation": "v",
         "showlegend": false,
         "x": [
          "SimCC, Cams: 1,2,3,4,5",
          "SimCC, Cams: 1,2,3,4,5",
          "SimCC, Cams: 1,2,3,4,5",
          "SimCC, Cams: 1,2,3,4,5",
          "SimCC, Cams: 1,2,3,4,5",
          "SimCC, Cams: 1,2,3,4,5",
          "SimCC, Cams: 1,2,3,4,5",
          "SimCC, Cams: 1,2,3,4,5",
          "SimCC, Cams: 1,2,3,4,5",
          "Metrabs, Cams: 1,2,3,4,5",
          "Metrabs, Cams: 1,2,3,4,5",
          "Metrabs, Cams: 1,2,3,4,5",
          "Metrabs, Cams: 1,2,3,4,5",
          "Metrabs, Cams: 1,2,3,4,5",
          "Metrabs, Cams: 1,2,3,4,5",
          "Metrabs, Cams: 1,2,3,4,5",
          "Metrabs, Cams: 1,2,3,4,5",
          "Metrabs, Cams: 1,2,3,4,5",
          "Single, Cam: 1, filt",
          "Single, Cam: 1, filt",
          "Single, Cam: 1, filt",
          "Single, Cam: 1, filt",
          "Single, Cam: 1, filt",
          "Single, Cam: 1, filt",
          "Single, Cam: 1, filt",
          "Single, Cam: 1, filt",
          "Single, Cam: 1, filt",
          "Single, Cam: 1, unfilt",
          "Single, Cam: 1, unfilt",
          "Single, Cam: 1, unfilt",
          "Single, Cam: 1, unfilt",
          "Single, Cam: 1, unfilt",
          "Single, Cam: 1, unfilt",
          "Single, Cam: 1, unfilt",
          "Single, Cam: 1, unfilt",
          "Single, Cam: 1, unfilt"
         ],
         "x0": " ",
         "xaxis": "x",
         "y": [
          6.7110506882889025,
          2.045997583064086,
          8.397745036730281,
          7.665172995105663,
          62.58293943385675,
          3.990910910916132,
          2.4504688612654353,
          11.376886969699509,
          15.07969603953437,
          5.484652324668187,
          5.254323217253918,
          6.636447391979505,
          11.653821486598876,
          20.63467608539863,
          1.75126877727252,
          3.894628946765729,
          10.717121334072262,
          15.827665404887323,
          10.228709024238492,
          12.638372587586181,
          9.859157358046495,
          9.001938398496337,
          5.893614662812702,
          5.986777772726822,
          4.3564676985809,
          10.344050832218544,
          15.546083784257416,
          10.264625692449576,
          12.636561759562047,
          9.678242350685304,
          9.004055853834183,
          5.880380149944837,
          5.981783748289713,
          4.328729796115739,
          10.347783964085469,
          15.547085432160404
         ],
         "y0": " ",
         "yaxis": "y",
         "type": "box"
        }
       ],
       "layout": {
        "template": {
         "data": {
          "barpolar": [
           {
            "marker": {
             "line": {
              "color": "#E5ECF6",
              "width": 0.5
             },
             "pattern": {
              "fillmode": "overlay",
              "size": 10,
              "solidity": 0.2
             }
            },
            "type": "barpolar"
           }
          ],
          "bar": [
           {
            "error_x": {
             "color": "#2a3f5f"
            },
            "error_y": {
             "color": "#2a3f5f"
            },
            "marker": {
             "line": {
              "color": "#E5ECF6",
              "width": 0.5
             },
             "pattern": {
              "fillmode": "overlay",
              "size": 10,
              "solidity": 0.2
             }
            },
            "type": "bar"
           }
          ],
          "carpet": [
           {
            "aaxis": {
             "endlinecolor": "#2a3f5f",
             "gridcolor": "white",
             "linecolor": "white",
             "minorgridcolor": "white",
             "startlinecolor": "#2a3f5f"
            },
            "baxis": {
             "endlinecolor": "#2a3f5f",
             "gridcolor": "white",
             "linecolor": "white",
             "minorgridcolor": "white",
             "startlinecolor": "#2a3f5f"
            },
            "type": "carpet"
           }
          ],
          "choropleth": [
           {
            "colorbar": {
             "outlinewidth": 0,
             "ticks": ""
            },
            "type": "choropleth"
           }
          ],
          "contourcarpet": [
           {
            "colorbar": {
             "outlinewidth": 0,
             "ticks": ""
            },
            "type": "contourcarpet"
           }
          ],
          "contour": [
           {
            "colorbar": {
             "outlinewidth": 0,
             "ticks": ""
            },
            "colorscale": [
             [
              0.0,
              "#0d0887"
             ],
             [
              0.1111111111111111,
              "#46039f"
             ],
             [
              0.2222222222222222,
              "#7201a8"
             ],
             [
              0.3333333333333333,
              "#9c179e"
             ],
             [
              0.4444444444444444,
              "#bd3786"
             ],
             [
              0.5555555555555556,
              "#d8576b"
             ],
             [
              0.6666666666666666,
              "#ed7953"
             ],
             [
              0.7777777777777778,
              "#fb9f3a"
             ],
             [
              0.8888888888888888,
              "#fdca26"
             ],
             [
              1.0,
              "#f0f921"
             ]
            ],
            "type": "contour"
           }
          ],
          "heatmapgl": [
           {
            "colorbar": {
             "outlinewidth": 0,
             "ticks": ""
            },
            "colorscale": [
             [
              0.0,
              "#0d0887"
             ],
             [
              0.1111111111111111,
              "#46039f"
             ],
             [
              0.2222222222222222,
              "#7201a8"
             ],
             [
              0.3333333333333333,
              "#9c179e"
             ],
             [
              0.4444444444444444,
              "#bd3786"
             ],
             [
              0.5555555555555556,
              "#d8576b"
             ],
             [
              0.6666666666666666,
              "#ed7953"
             ],
             [
              0.7777777777777778,
              "#fb9f3a"
             ],
             [
              0.8888888888888888,
              "#fdca26"
             ],
             [
              1.0,
              "#f0f921"
             ]
            ],
            "type": "heatmapgl"
           }
          ],
          "heatmap": [
           {
            "colorbar": {
             "outlinewidth": 0,
             "ticks": ""
            },
            "colorscale": [
             [
              0.0,
              "#0d0887"
             ],
             [
              0.1111111111111111,
              "#46039f"
             ],
             [
              0.2222222222222222,
              "#7201a8"
             ],
             [
              0.3333333333333333,
              "#9c179e"
             ],
             [
              0.4444444444444444,
              "#bd3786"
             ],
             [
              0.5555555555555556,
              "#d8576b"
             ],
             [
              0.6666666666666666,
              "#ed7953"
             ],
             [
              0.7777777777777778,
              "#fb9f3a"
             ],
             [
              0.8888888888888888,
              "#fdca26"
             ],
             [
              1.0,
              "#f0f921"
             ]
            ],
            "type": "heatmap"
           }
          ],
          "histogram2dcontour": [
           {
            "colorbar": {
             "outlinewidth": 0,
             "ticks": ""
            },
            "colorscale": [
             [
              0.0,
              "#0d0887"
             ],
             [
              0.1111111111111111,
              "#46039f"
             ],
             [
              0.2222222222222222,
              "#7201a8"
             ],
             [
              0.3333333333333333,
              "#9c179e"
             ],
             [
              0.4444444444444444,
              "#bd3786"
             ],
             [
              0.5555555555555556,
              "#d8576b"
             ],
             [
              0.6666666666666666,
              "#ed7953"
             ],
             [
              0.7777777777777778,
              "#fb9f3a"
             ],
             [
              0.8888888888888888,
              "#fdca26"
             ],
             [
              1.0,
              "#f0f921"
             ]
            ],
            "type": "histogram2dcontour"
           }
          ],
          "histogram2d": [
           {
            "colorbar": {
             "outlinewidth": 0,
             "ticks": ""
            },
            "colorscale": [
             [
              0.0,
              "#0d0887"
             ],
             [
              0.1111111111111111,
              "#46039f"
             ],
             [
              0.2222222222222222,
              "#7201a8"
             ],
             [
              0.3333333333333333,
              "#9c179e"
             ],
             [
              0.4444444444444444,
              "#bd3786"
             ],
             [
              0.5555555555555556,
              "#d8576b"
             ],
             [
              0.6666666666666666,
              "#ed7953"
             ],
             [
              0.7777777777777778,
              "#fb9f3a"
             ],
             [
              0.8888888888888888,
              "#fdca26"
             ],
             [
              1.0,
              "#f0f921"
             ]
            ],
            "type": "histogram2d"
           }
          ],
          "histogram": [
           {
            "marker": {
             "pattern": {
              "fillmode": "overlay",
              "size": 10,
              "solidity": 0.2
             }
            },
            "type": "histogram"
           }
          ],
          "mesh3d": [
           {
            "colorbar": {
             "outlinewidth": 0,
             "ticks": ""
            },
            "type": "mesh3d"
           }
          ],
          "parcoords": [
           {
            "line": {
             "colorbar": {
              "outlinewidth": 0,
              "ticks": ""
             }
            },
            "type": "parcoords"
           }
          ],
          "pie": [
           {
            "automargin": true,
            "type": "pie"
           }
          ],
          "scatter3d": [
           {
            "line": {
             "colorbar": {
              "outlinewidth": 0,
              "ticks": ""
             }
            },
            "marker": {
             "colorbar": {
              "outlinewidth": 0,
              "ticks": ""
             }
            },
            "type": "scatter3d"
           }
          ],
          "scattercarpet": [
           {
            "marker": {
             "colorbar": {
              "outlinewidth": 0,
              "ticks": ""
             }
            },
            "type": "scattercarpet"
           }
          ],
          "scattergeo": [
           {
            "marker": {
             "colorbar": {
              "outlinewidth": 0,
              "ticks": ""
             }
            },
            "type": "scattergeo"
           }
          ],
          "scattergl": [
           {
            "marker": {
             "colorbar": {
              "outlinewidth": 0,
              "ticks": ""
             }
            },
            "type": "scattergl"
           }
          ],
          "scattermapbox": [
           {
            "marker": {
             "colorbar": {
              "outlinewidth": 0,
              "ticks": ""
             }
            },
            "type": "scattermapbox"
           }
          ],
          "scatterpolargl": [
           {
            "marker": {
             "colorbar": {
              "outlinewidth": 0,
              "ticks": ""
             }
            },
            "type": "scatterpolargl"
           }
          ],
          "scatterpolar": [
           {
            "marker": {
             "colorbar": {
              "outlinewidth": 0,
              "ticks": ""
             }
            },
            "type": "scatterpolar"
           }
          ],
          "scatter": [
           {
            "fillpattern": {
             "fillmode": "overlay",
             "size": 10,
             "solidity": 0.2
            },
            "type": "scatter"
           }
          ],
          "scatterternary": [
           {
            "marker": {
             "colorbar": {
              "outlinewidth": 0,
              "ticks": ""
             }
            },
            "type": "scatterternary"
           }
          ],
          "surface": [
           {
            "colorbar": {
             "outlinewidth": 0,
             "ticks": ""
            },
            "colorscale": [
             [
              0.0,
              "#0d0887"
             ],
             [
              0.1111111111111111,
              "#46039f"
             ],
             [
              0.2222222222222222,
              "#7201a8"
             ],
             [
              0.3333333333333333,
              "#9c179e"
             ],
             [
              0.4444444444444444,
              "#bd3786"
             ],
             [
              0.5555555555555556,
              "#d8576b"
             ],
             [
              0.6666666666666666,
              "#ed7953"
             ],
             [
              0.7777777777777778,
              "#fb9f3a"
             ],
             [
              0.8888888888888888,
              "#fdca26"
             ],
             [
              1.0,
              "#f0f921"
             ]
            ],
            "type": "surface"
           }
          ],
          "table": [
           {
            "cells": {
             "fill": {
              "color": "#EBF0F8"
             },
             "line": {
              "color": "white"
             }
            },
            "header": {
             "fill": {
              "color": "#C8D4E3"
             },
             "line": {
              "color": "white"
             }
            },
            "type": "table"
           }
          ]
         },
         "layout": {
          "annotationdefaults": {
           "arrowcolor": "#2a3f5f",
           "arrowhead": 0,
           "arrowwidth": 1
          },
          "autotypenumbers": "strict",
          "coloraxis": {
           "colorbar": {
            "outlinewidth": 0,
            "ticks": ""
           }
          },
          "colorscale": {
           "diverging": [
            [
             0,
             "#8e0152"
            ],
            [
             0.1,
             "#c51b7d"
            ],
            [
             0.2,
             "#de77ae"
            ],
            [
             0.3,
             "#f1b6da"
            ],
            [
             0.4,
             "#fde0ef"
            ],
            [
             0.5,
             "#f7f7f7"
            ],
            [
             0.6,
             "#e6f5d0"
            ],
            [
             0.7,
             "#b8e186"
            ],
            [
             0.8,
             "#7fbc41"
            ],
            [
             0.9,
             "#4d9221"
            ],
            [
             1,
             "#276419"
            ]
           ],
           "sequential": [
            [
             0.0,
             "#0d0887"
            ],
            [
             0.1111111111111111,
             "#46039f"
            ],
            [
             0.2222222222222222,
             "#7201a8"
            ],
            [
             0.3333333333333333,
             "#9c179e"
            ],
            [
             0.4444444444444444,
             "#bd3786"
            ],
            [
             0.5555555555555556,
             "#d8576b"
            ],
            [
             0.6666666666666666,
             "#ed7953"
            ],
            [
             0.7777777777777778,
             "#fb9f3a"
            ],
            [
             0.8888888888888888,
             "#fdca26"
            ],
            [
             1.0,
             "#f0f921"
            ]
           ],
           "sequentialminus": [
            [
             0.0,
             "#0d0887"
            ],
            [
             0.1111111111111111,
             "#46039f"
            ],
            [
             0.2222222222222222,
             "#7201a8"
            ],
            [
             0.3333333333333333,
             "#9c179e"
            ],
            [
             0.4444444444444444,
             "#bd3786"
            ],
            [
             0.5555555555555556,
             "#d8576b"
            ],
            [
             0.6666666666666666,
             "#ed7953"
            ],
            [
             0.7777777777777778,
             "#fb9f3a"
            ],
            [
             0.8888888888888888,
             "#fdca26"
            ],
            [
             1.0,
             "#f0f921"
            ]
           ]
          },
          "colorway": [
           "#636efa",
           "#EF553B",
           "#00cc96",
           "#ab63fa",
           "#FFA15A",
           "#19d3f3",
           "#FF6692",
           "#B6E880",
           "#FF97FF",
           "#FECB52"
          ],
          "font": {
           "color": "#2a3f5f"
          },
          "geo": {
           "bgcolor": "white",
           "lakecolor": "white",
           "landcolor": "#E5ECF6",
           "showlakes": true,
           "showland": true,
           "subunitcolor": "white"
          },
          "hoverlabel": {
           "align": "left"
          },
          "hovermode": "closest",
          "mapbox": {
           "style": "light"
          },
          "paper_bgcolor": "white",
          "plot_bgcolor": "#E5ECF6",
          "polar": {
           "angularaxis": {
            "gridcolor": "white",
            "linecolor": "white",
            "ticks": ""
           },
           "bgcolor": "#E5ECF6",
           "radialaxis": {
            "gridcolor": "white",
            "linecolor": "white",
            "ticks": ""
           }
          },
          "scene": {
           "xaxis": {
            "backgroundcolor": "#E5ECF6",
            "gridcolor": "white",
            "gridwidth": 2,
            "linecolor": "white",
            "showbackground": true,
            "ticks": "",
            "zerolinecolor": "white"
           },
           "yaxis": {
            "backgroundcolor": "#E5ECF6",
            "gridcolor": "white",
            "gridwidth": 2,
            "linecolor": "white",
            "showbackground": true,
            "ticks": "",
            "zerolinecolor": "white"
           },
           "zaxis": {
            "backgroundcolor": "#E5ECF6",
            "gridcolor": "white",
            "gridwidth": 2,
            "linecolor": "white",
            "showbackground": true,
            "ticks": "",
            "zerolinecolor": "white"
           }
          },
          "shapedefaults": {
           "line": {
            "color": "#2a3f5f"
           }
          },
          "ternary": {
           "aaxis": {
            "gridcolor": "white",
            "linecolor": "white",
            "ticks": ""
           },
           "baxis": {
            "gridcolor": "white",
            "linecolor": "white",
            "ticks": ""
           },
           "bgcolor": "#E5ECF6",
           "caxis": {
            "gridcolor": "white",
            "linecolor": "white",
            "ticks": ""
           }
          },
          "title": {
           "x": 0.05
          },
          "xaxis": {
           "automargin": true,
           "gridcolor": "white",
           "linecolor": "white",
           "ticks": "",
           "title": {
            "standoff": 15
           },
           "zerolinecolor": "white",
           "zerolinewidth": 2
          },
          "yaxis": {
           "automargin": true,
           "gridcolor": "white",
           "linecolor": "white",
           "ticks": "",
           "title": {
            "standoff": 15
           },
           "zerolinecolor": "white",
           "zerolinewidth": 2
          }
         }
        },
        "xaxis": {
         "anchor": "y",
         "domain": [
          0.0,
          1.0
         ],
         "title": {
          "text": "<b>Settings<b>",
          "font": {
           "size": 22
          }
         },
         "tickfont": {
          "size": 20
         }
        },
        "yaxis": {
         "anchor": "x",
         "domain": [
          0.0,
          1.0
         ],
         "title": {
          "text": "<b>ROM RMSE [deg]<b>",
          "font": {
           "size": 22
          }
         }
        },
        "legend": {
         "tracegroupgap": 0
        },
        "title": {
         "text": "<b>Elbow Flexion ROM RMSE,<br>cad = 4.48 deg<b>",
         "font": {
          "size": 26
         }
        },
        "boxmode": "group",
        "height": 650,
        "width": 650,
        "shapes": [
         {
          "line": {
           "color": "red",
           "dash": "dash"
          },
          "name": "CAD",
          "type": "line",
          "x0": 0,
          "x1": 1,
          "xref": "x domain",
          "y0": 4.48,
          "y1": 4.48,
          "yref": "y"
         }
        ]
       },
       "config": {
        "plotlyServerURL": "https://plot.ly"
       }
      },
      "text/html": [
       "<div>                            <div id=\"dd3e356a-3c50-4e78-bca7-36170b6c8082\" class=\"plotly-graph-div\" style=\"height:650px; width:650px;\"></div>            <script type=\"text/javascript\">                require([\"plotly\"], function(Plotly) {                    window.PLOTLYENV=window.PLOTLYENV || {};                                    if (document.getElementById(\"dd3e356a-3c50-4e78-bca7-36170b6c8082\")) {                    Plotly.newPlot(                        \"dd3e356a-3c50-4e78-bca7-36170b6c8082\",                        [{\"alignmentgroup\":\"True\",\"hovertemplate\":\"id_s_name=%{x}\\u003cbr\\u003erom_rmse=%{y}\\u003cextra\\u003e\\u003c\\u002fextra\\u003e\",\"legendgroup\":\"\",\"marker\":{\"color\":\"#636efa\"},\"name\":\"\",\"notched\":false,\"offsetgroup\":\"\",\"orientation\":\"v\",\"showlegend\":false,\"x\":[\"SimCC, Cams: 1,2,3,4,5\",\"SimCC, Cams: 1,2,3,4,5\",\"SimCC, Cams: 1,2,3,4,5\",\"SimCC, Cams: 1,2,3,4,5\",\"SimCC, Cams: 1,2,3,4,5\",\"SimCC, Cams: 1,2,3,4,5\",\"SimCC, Cams: 1,2,3,4,5\",\"SimCC, Cams: 1,2,3,4,5\",\"SimCC, Cams: 1,2,3,4,5\",\"Metrabs, Cams: 1,2,3,4,5\",\"Metrabs, Cams: 1,2,3,4,5\",\"Metrabs, Cams: 1,2,3,4,5\",\"Metrabs, Cams: 1,2,3,4,5\",\"Metrabs, Cams: 1,2,3,4,5\",\"Metrabs, Cams: 1,2,3,4,5\",\"Metrabs, Cams: 1,2,3,4,5\",\"Metrabs, Cams: 1,2,3,4,5\",\"Metrabs, Cams: 1,2,3,4,5\",\"Single, Cam: 1, filt\",\"Single, Cam: 1, filt\",\"Single, Cam: 1, filt\",\"Single, Cam: 1, filt\",\"Single, Cam: 1, filt\",\"Single, Cam: 1, filt\",\"Single, Cam: 1, filt\",\"Single, Cam: 1, filt\",\"Single, Cam: 1, filt\",\"Single, Cam: 1, unfilt\",\"Single, Cam: 1, unfilt\",\"Single, Cam: 1, unfilt\",\"Single, Cam: 1, unfilt\",\"Single, Cam: 1, unfilt\",\"Single, Cam: 1, unfilt\",\"Single, Cam: 1, unfilt\",\"Single, Cam: 1, unfilt\",\"Single, Cam: 1, unfilt\"],\"x0\":\" \",\"xaxis\":\"x\",\"y\":[6.7110506882889025,2.045997583064086,8.397745036730281,7.665172995105663,62.58293943385675,3.990910910916132,2.4504688612654353,11.376886969699509,15.07969603953437,5.484652324668187,5.254323217253918,6.636447391979505,11.653821486598876,20.63467608539863,1.75126877727252,3.894628946765729,10.717121334072262,15.827665404887323,10.228709024238492,12.638372587586181,9.859157358046495,9.001938398496337,5.893614662812702,5.986777772726822,4.3564676985809,10.344050832218544,15.546083784257416,10.264625692449576,12.636561759562047,9.678242350685304,9.004055853834183,5.880380149944837,5.981783748289713,4.328729796115739,10.347783964085469,15.547085432160404],\"y0\":\" \",\"yaxis\":\"y\",\"type\":\"box\"}],                        {\"template\":{\"data\":{\"barpolar\":[{\"marker\":{\"line\":{\"color\":\"#E5ECF6\",\"width\":0.5},\"pattern\":{\"fillmode\":\"overlay\",\"size\":10,\"solidity\":0.2}},\"type\":\"barpolar\"}],\"bar\":[{\"error_x\":{\"color\":\"#2a3f5f\"},\"error_y\":{\"color\":\"#2a3f5f\"},\"marker\":{\"line\":{\"color\":\"#E5ECF6\",\"width\":0.5},\"pattern\":{\"fillmode\":\"overlay\",\"size\":10,\"solidity\":0.2}},\"type\":\"bar\"}],\"carpet\":[{\"aaxis\":{\"endlinecolor\":\"#2a3f5f\",\"gridcolor\":\"white\",\"linecolor\":\"white\",\"minorgridcolor\":\"white\",\"startlinecolor\":\"#2a3f5f\"},\"baxis\":{\"endlinecolor\":\"#2a3f5f\",\"gridcolor\":\"white\",\"linecolor\":\"white\",\"minorgridcolor\":\"white\",\"startlinecolor\":\"#2a3f5f\"},\"type\":\"carpet\"}],\"choropleth\":[{\"colorbar\":{\"outlinewidth\":0,\"ticks\":\"\"},\"type\":\"choropleth\"}],\"contourcarpet\":[{\"colorbar\":{\"outlinewidth\":0,\"ticks\":\"\"},\"type\":\"contourcarpet\"}],\"contour\":[{\"colorbar\":{\"outlinewidth\":0,\"ticks\":\"\"},\"colorscale\":[[0.0,\"#0d0887\"],[0.1111111111111111,\"#46039f\"],[0.2222222222222222,\"#7201a8\"],[0.3333333333333333,\"#9c179e\"],[0.4444444444444444,\"#bd3786\"],[0.5555555555555556,\"#d8576b\"],[0.6666666666666666,\"#ed7953\"],[0.7777777777777778,\"#fb9f3a\"],[0.8888888888888888,\"#fdca26\"],[1.0,\"#f0f921\"]],\"type\":\"contour\"}],\"heatmapgl\":[{\"colorbar\":{\"outlinewidth\":0,\"ticks\":\"\"},\"colorscale\":[[0.0,\"#0d0887\"],[0.1111111111111111,\"#46039f\"],[0.2222222222222222,\"#7201a8\"],[0.3333333333333333,\"#9c179e\"],[0.4444444444444444,\"#bd3786\"],[0.5555555555555556,\"#d8576b\"],[0.6666666666666666,\"#ed7953\"],[0.7777777777777778,\"#fb9f3a\"],[0.8888888888888888,\"#fdca26\"],[1.0,\"#f0f921\"]],\"type\":\"heatmapgl\"}],\"heatmap\":[{\"colorbar\":{\"outlinewidth\":0,\"ticks\":\"\"},\"colorscale\":[[0.0,\"#0d0887\"],[0.1111111111111111,\"#46039f\"],[0.2222222222222222,\"#7201a8\"],[0.3333333333333333,\"#9c179e\"],[0.4444444444444444,\"#bd3786\"],[0.5555555555555556,\"#d8576b\"],[0.6666666666666666,\"#ed7953\"],[0.7777777777777778,\"#fb9f3a\"],[0.8888888888888888,\"#fdca26\"],[1.0,\"#f0f921\"]],\"type\":\"heatmap\"}],\"histogram2dcontour\":[{\"colorbar\":{\"outlinewidth\":0,\"ticks\":\"\"},\"colorscale\":[[0.0,\"#0d0887\"],[0.1111111111111111,\"#46039f\"],[0.2222222222222222,\"#7201a8\"],[0.3333333333333333,\"#9c179e\"],[0.4444444444444444,\"#bd3786\"],[0.5555555555555556,\"#d8576b\"],[0.6666666666666666,\"#ed7953\"],[0.7777777777777778,\"#fb9f3a\"],[0.8888888888888888,\"#fdca26\"],[1.0,\"#f0f921\"]],\"type\":\"histogram2dcontour\"}],\"histogram2d\":[{\"colorbar\":{\"outlinewidth\":0,\"ticks\":\"\"},\"colorscale\":[[0.0,\"#0d0887\"],[0.1111111111111111,\"#46039f\"],[0.2222222222222222,\"#7201a8\"],[0.3333333333333333,\"#9c179e\"],[0.4444444444444444,\"#bd3786\"],[0.5555555555555556,\"#d8576b\"],[0.6666666666666666,\"#ed7953\"],[0.7777777777777778,\"#fb9f3a\"],[0.8888888888888888,\"#fdca26\"],[1.0,\"#f0f921\"]],\"type\":\"histogram2d\"}],\"histogram\":[{\"marker\":{\"pattern\":{\"fillmode\":\"overlay\",\"size\":10,\"solidity\":0.2}},\"type\":\"histogram\"}],\"mesh3d\":[{\"colorbar\":{\"outlinewidth\":0,\"ticks\":\"\"},\"type\":\"mesh3d\"}],\"parcoords\":[{\"line\":{\"colorbar\":{\"outlinewidth\":0,\"ticks\":\"\"}},\"type\":\"parcoords\"}],\"pie\":[{\"automargin\":true,\"type\":\"pie\"}],\"scatter3d\":[{\"line\":{\"colorbar\":{\"outlinewidth\":0,\"ticks\":\"\"}},\"marker\":{\"colorbar\":{\"outlinewidth\":0,\"ticks\":\"\"}},\"type\":\"scatter3d\"}],\"scattercarpet\":[{\"marker\":{\"colorbar\":{\"outlinewidth\":0,\"ticks\":\"\"}},\"type\":\"scattercarpet\"}],\"scattergeo\":[{\"marker\":{\"colorbar\":{\"outlinewidth\":0,\"ticks\":\"\"}},\"type\":\"scattergeo\"}],\"scattergl\":[{\"marker\":{\"colorbar\":{\"outlinewidth\":0,\"ticks\":\"\"}},\"type\":\"scattergl\"}],\"scattermapbox\":[{\"marker\":{\"colorbar\":{\"outlinewidth\":0,\"ticks\":\"\"}},\"type\":\"scattermapbox\"}],\"scatterpolargl\":[{\"marker\":{\"colorbar\":{\"outlinewidth\":0,\"ticks\":\"\"}},\"type\":\"scatterpolargl\"}],\"scatterpolar\":[{\"marker\":{\"colorbar\":{\"outlinewidth\":0,\"ticks\":\"\"}},\"type\":\"scatterpolar\"}],\"scatter\":[{\"fillpattern\":{\"fillmode\":\"overlay\",\"size\":10,\"solidity\":0.2},\"type\":\"scatter\"}],\"scatterternary\":[{\"marker\":{\"colorbar\":{\"outlinewidth\":0,\"ticks\":\"\"}},\"type\":\"scatterternary\"}],\"surface\":[{\"colorbar\":{\"outlinewidth\":0,\"ticks\":\"\"},\"colorscale\":[[0.0,\"#0d0887\"],[0.1111111111111111,\"#46039f\"],[0.2222222222222222,\"#7201a8\"],[0.3333333333333333,\"#9c179e\"],[0.4444444444444444,\"#bd3786\"],[0.5555555555555556,\"#d8576b\"],[0.6666666666666666,\"#ed7953\"],[0.7777777777777778,\"#fb9f3a\"],[0.8888888888888888,\"#fdca26\"],[1.0,\"#f0f921\"]],\"type\":\"surface\"}],\"table\":[{\"cells\":{\"fill\":{\"color\":\"#EBF0F8\"},\"line\":{\"color\":\"white\"}},\"header\":{\"fill\":{\"color\":\"#C8D4E3\"},\"line\":{\"color\":\"white\"}},\"type\":\"table\"}]},\"layout\":{\"annotationdefaults\":{\"arrowcolor\":\"#2a3f5f\",\"arrowhead\":0,\"arrowwidth\":1},\"autotypenumbers\":\"strict\",\"coloraxis\":{\"colorbar\":{\"outlinewidth\":0,\"ticks\":\"\"}},\"colorscale\":{\"diverging\":[[0,\"#8e0152\"],[0.1,\"#c51b7d\"],[0.2,\"#de77ae\"],[0.3,\"#f1b6da\"],[0.4,\"#fde0ef\"],[0.5,\"#f7f7f7\"],[0.6,\"#e6f5d0\"],[0.7,\"#b8e186\"],[0.8,\"#7fbc41\"],[0.9,\"#4d9221\"],[1,\"#276419\"]],\"sequential\":[[0.0,\"#0d0887\"],[0.1111111111111111,\"#46039f\"],[0.2222222222222222,\"#7201a8\"],[0.3333333333333333,\"#9c179e\"],[0.4444444444444444,\"#bd3786\"],[0.5555555555555556,\"#d8576b\"],[0.6666666666666666,\"#ed7953\"],[0.7777777777777778,\"#fb9f3a\"],[0.8888888888888888,\"#fdca26\"],[1.0,\"#f0f921\"]],\"sequentialminus\":[[0.0,\"#0d0887\"],[0.1111111111111111,\"#46039f\"],[0.2222222222222222,\"#7201a8\"],[0.3333333333333333,\"#9c179e\"],[0.4444444444444444,\"#bd3786\"],[0.5555555555555556,\"#d8576b\"],[0.6666666666666666,\"#ed7953\"],[0.7777777777777778,\"#fb9f3a\"],[0.8888888888888888,\"#fdca26\"],[1.0,\"#f0f921\"]]},\"colorway\":[\"#636efa\",\"#EF553B\",\"#00cc96\",\"#ab63fa\",\"#FFA15A\",\"#19d3f3\",\"#FF6692\",\"#B6E880\",\"#FF97FF\",\"#FECB52\"],\"font\":{\"color\":\"#2a3f5f\"},\"geo\":{\"bgcolor\":\"white\",\"lakecolor\":\"white\",\"landcolor\":\"#E5ECF6\",\"showlakes\":true,\"showland\":true,\"subunitcolor\":\"white\"},\"hoverlabel\":{\"align\":\"left\"},\"hovermode\":\"closest\",\"mapbox\":{\"style\":\"light\"},\"paper_bgcolor\":\"white\",\"plot_bgcolor\":\"#E5ECF6\",\"polar\":{\"angularaxis\":{\"gridcolor\":\"white\",\"linecolor\":\"white\",\"ticks\":\"\"},\"bgcolor\":\"#E5ECF6\",\"radialaxis\":{\"gridcolor\":\"white\",\"linecolor\":\"white\",\"ticks\":\"\"}},\"scene\":{\"xaxis\":{\"backgroundcolor\":\"#E5ECF6\",\"gridcolor\":\"white\",\"gridwidth\":2,\"linecolor\":\"white\",\"showbackground\":true,\"ticks\":\"\",\"zerolinecolor\":\"white\"},\"yaxis\":{\"backgroundcolor\":\"#E5ECF6\",\"gridcolor\":\"white\",\"gridwidth\":2,\"linecolor\":\"white\",\"showbackground\":true,\"ticks\":\"\",\"zerolinecolor\":\"white\"},\"zaxis\":{\"backgroundcolor\":\"#E5ECF6\",\"gridcolor\":\"white\",\"gridwidth\":2,\"linecolor\":\"white\",\"showbackground\":true,\"ticks\":\"\",\"zerolinecolor\":\"white\"}},\"shapedefaults\":{\"line\":{\"color\":\"#2a3f5f\"}},\"ternary\":{\"aaxis\":{\"gridcolor\":\"white\",\"linecolor\":\"white\",\"ticks\":\"\"},\"baxis\":{\"gridcolor\":\"white\",\"linecolor\":\"white\",\"ticks\":\"\"},\"bgcolor\":\"#E5ECF6\",\"caxis\":{\"gridcolor\":\"white\",\"linecolor\":\"white\",\"ticks\":\"\"}},\"title\":{\"x\":0.05},\"xaxis\":{\"automargin\":true,\"gridcolor\":\"white\",\"linecolor\":\"white\",\"ticks\":\"\",\"title\":{\"standoff\":15},\"zerolinecolor\":\"white\",\"zerolinewidth\":2},\"yaxis\":{\"automargin\":true,\"gridcolor\":\"white\",\"linecolor\":\"white\",\"ticks\":\"\",\"title\":{\"standoff\":15},\"zerolinecolor\":\"white\",\"zerolinewidth\":2}}},\"xaxis\":{\"anchor\":\"y\",\"domain\":[0.0,1.0],\"title\":{\"text\":\"\\u003cb\\u003eSettings\\u003cb\\u003e\",\"font\":{\"size\":22}},\"tickfont\":{\"size\":20}},\"yaxis\":{\"anchor\":\"x\",\"domain\":[0.0,1.0],\"title\":{\"text\":\"\\u003cb\\u003eROM RMSE [deg]\\u003cb\\u003e\",\"font\":{\"size\":22}}},\"legend\":{\"tracegroupgap\":0},\"title\":{\"text\":\"\\u003cb\\u003eElbow Flexion ROM RMSE,\\u003cbr\\u003ecad = 4.48 deg\\u003cb\\u003e\",\"font\":{\"size\":26}},\"boxmode\":\"group\",\"height\":650,\"width\":650,\"shapes\":[{\"line\":{\"color\":\"red\",\"dash\":\"dash\"},\"name\":\"CAD\",\"type\":\"line\",\"x0\":0,\"x1\":1,\"xref\":\"x domain\",\"y0\":4.48,\"y1\":4.48,\"yref\":\"y\"}]},                        {\"responsive\": true}                    ).then(function(){\n",
       "                            \n",
       "var gd = document.getElementById('dd3e356a-3c50-4e78-bca7-36170b6c8082');\n",
       "var x = new MutationObserver(function (mutations, observer) {{\n",
       "        var display = window.getComputedStyle(gd).display;\n",
       "        if (!display || display === 'none') {{\n",
       "            console.log([gd, 'removed!']);\n",
       "            Plotly.purge(gd);\n",
       "            observer.disconnect();\n",
       "        }}\n",
       "}});\n",
       "\n",
       "// Listen for the removal of the full notebook cells\n",
       "var notebookContainer = gd.closest('#notebook-container');\n",
       "if (notebookContainer) {{\n",
       "    x.observe(notebookContainer, {childList: true});\n",
       "}}\n",
       "\n",
       "// Listen for the clearing of the current output cell\n",
       "var outputEl = gd.closest('.output');\n",
       "if (outputEl) {{\n",
       "    x.observe(outputEl, {childList: true});\n",
       "}}\n",
       "\n",
       "                        })                };                });            </script>        </div>"
      ]
     },
     "metadata": {},
     "output_type": "display_data"
    },
    {
     "data": {
      "application/vnd.plotly.v1+json": {
       "data": [
        {
         "alignmentgroup": "True",
         "hovertemplate": "id_s_name=%{x}<br>rom_rmse=%{y}<extra></extra>",
         "legendgroup": "",
         "marker": {
          "color": "#636efa"
         },
         "name": "",
         "notched": false,
         "offsetgroup": "",
         "orientation": "v",
         "showlegend": false,
         "x": [
          "SimCC, Cams: 1,2,3,4,5",
          "SimCC, Cams: 1,2,3,4,5",
          "SimCC, Cams: 1,2,3,4,5",
          "SimCC, Cams: 1,2,3,4,5",
          "SimCC, Cams: 1,2,3,4,5",
          "SimCC, Cams: 1,2,3,4,5",
          "SimCC, Cams: 1,2,3,4,5",
          "SimCC, Cams: 1,2,3,4,5",
          "SimCC, Cams: 1,2,3,4,5",
          "Metrabs, Cams: 1,2,3,4,5",
          "Metrabs, Cams: 1,2,3,4,5",
          "Metrabs, Cams: 1,2,3,4,5",
          "Metrabs, Cams: 1,2,3,4,5",
          "Metrabs, Cams: 1,2,3,4,5",
          "Metrabs, Cams: 1,2,3,4,5",
          "Metrabs, Cams: 1,2,3,4,5",
          "Metrabs, Cams: 1,2,3,4,5",
          "Metrabs, Cams: 1,2,3,4,5",
          "Single, Cam: 1, filt",
          "Single, Cam: 1, filt",
          "Single, Cam: 1, filt",
          "Single, Cam: 1, filt",
          "Single, Cam: 1, filt",
          "Single, Cam: 1, filt",
          "Single, Cam: 1, filt",
          "Single, Cam: 1, filt",
          "Single, Cam: 1, filt",
          "Single, Cam: 1, unfilt",
          "Single, Cam: 1, unfilt",
          "Single, Cam: 1, unfilt",
          "Single, Cam: 1, unfilt",
          "Single, Cam: 1, unfilt",
          "Single, Cam: 1, unfilt",
          "Single, Cam: 1, unfilt",
          "Single, Cam: 1, unfilt",
          "Single, Cam: 1, unfilt"
         ],
         "x0": " ",
         "xaxis": "x",
         "y": [
          7.451649708570321,
          1.7159617324307748,
          8.768482486441144,
          6.140116759740627,
          67.19618922926658,
          5.013593739808972,
          3.1618976300220423,
          6.433891718066044,
          6.770905975833756,
          10.927556065879054,
          2.6261854860586347,
          2.513494155953499,
          10.455567277587718,
          32.15863926530775,
          3.7531233880875847,
          5.298312683864134,
          3.7720537067345266,
          5.17232697620965,
          10.516823320754783,
          4.451408087450487,
          9.460598341223793,
          3.134103065468882,
          2.1591883529070355,
          4.122448827349326,
          4.124692743498242,
          5.515664602247604,
          6.105941031632906,
          10.417151766310688,
          4.416043828748235,
          8.474037914803318,
          3.11833774104194,
          2.1523009467774044,
          4.130588134672008,
          4.08254234838104,
          5.5810939570697755,
          6.13754135581741
         ],
         "y0": " ",
         "yaxis": "y",
         "type": "box"
        }
       ],
       "layout": {
        "template": {
         "data": {
          "barpolar": [
           {
            "marker": {
             "line": {
              "color": "#E5ECF6",
              "width": 0.5
             },
             "pattern": {
              "fillmode": "overlay",
              "size": 10,
              "solidity": 0.2
             }
            },
            "type": "barpolar"
           }
          ],
          "bar": [
           {
            "error_x": {
             "color": "#2a3f5f"
            },
            "error_y": {
             "color": "#2a3f5f"
            },
            "marker": {
             "line": {
              "color": "#E5ECF6",
              "width": 0.5
             },
             "pattern": {
              "fillmode": "overlay",
              "size": 10,
              "solidity": 0.2
             }
            },
            "type": "bar"
           }
          ],
          "carpet": [
           {
            "aaxis": {
             "endlinecolor": "#2a3f5f",
             "gridcolor": "white",
             "linecolor": "white",
             "minorgridcolor": "white",
             "startlinecolor": "#2a3f5f"
            },
            "baxis": {
             "endlinecolor": "#2a3f5f",
             "gridcolor": "white",
             "linecolor": "white",
             "minorgridcolor": "white",
             "startlinecolor": "#2a3f5f"
            },
            "type": "carpet"
           }
          ],
          "choropleth": [
           {
            "colorbar": {
             "outlinewidth": 0,
             "ticks": ""
            },
            "type": "choropleth"
           }
          ],
          "contourcarpet": [
           {
            "colorbar": {
             "outlinewidth": 0,
             "ticks": ""
            },
            "type": "contourcarpet"
           }
          ],
          "contour": [
           {
            "colorbar": {
             "outlinewidth": 0,
             "ticks": ""
            },
            "colorscale": [
             [
              0.0,
              "#0d0887"
             ],
             [
              0.1111111111111111,
              "#46039f"
             ],
             [
              0.2222222222222222,
              "#7201a8"
             ],
             [
              0.3333333333333333,
              "#9c179e"
             ],
             [
              0.4444444444444444,
              "#bd3786"
             ],
             [
              0.5555555555555556,
              "#d8576b"
             ],
             [
              0.6666666666666666,
              "#ed7953"
             ],
             [
              0.7777777777777778,
              "#fb9f3a"
             ],
             [
              0.8888888888888888,
              "#fdca26"
             ],
             [
              1.0,
              "#f0f921"
             ]
            ],
            "type": "contour"
           }
          ],
          "heatmapgl": [
           {
            "colorbar": {
             "outlinewidth": 0,
             "ticks": ""
            },
            "colorscale": [
             [
              0.0,
              "#0d0887"
             ],
             [
              0.1111111111111111,
              "#46039f"
             ],
             [
              0.2222222222222222,
              "#7201a8"
             ],
             [
              0.3333333333333333,
              "#9c179e"
             ],
             [
              0.4444444444444444,
              "#bd3786"
             ],
             [
              0.5555555555555556,
              "#d8576b"
             ],
             [
              0.6666666666666666,
              "#ed7953"
             ],
             [
              0.7777777777777778,
              "#fb9f3a"
             ],
             [
              0.8888888888888888,
              "#fdca26"
             ],
             [
              1.0,
              "#f0f921"
             ]
            ],
            "type": "heatmapgl"
           }
          ],
          "heatmap": [
           {
            "colorbar": {
             "outlinewidth": 0,
             "ticks": ""
            },
            "colorscale": [
             [
              0.0,
              "#0d0887"
             ],
             [
              0.1111111111111111,
              "#46039f"
             ],
             [
              0.2222222222222222,
              "#7201a8"
             ],
             [
              0.3333333333333333,
              "#9c179e"
             ],
             [
              0.4444444444444444,
              "#bd3786"
             ],
             [
              0.5555555555555556,
              "#d8576b"
             ],
             [
              0.6666666666666666,
              "#ed7953"
             ],
             [
              0.7777777777777778,
              "#fb9f3a"
             ],
             [
              0.8888888888888888,
              "#fdca26"
             ],
             [
              1.0,
              "#f0f921"
             ]
            ],
            "type": "heatmap"
           }
          ],
          "histogram2dcontour": [
           {
            "colorbar": {
             "outlinewidth": 0,
             "ticks": ""
            },
            "colorscale": [
             [
              0.0,
              "#0d0887"
             ],
             [
              0.1111111111111111,
              "#46039f"
             ],
             [
              0.2222222222222222,
              "#7201a8"
             ],
             [
              0.3333333333333333,
              "#9c179e"
             ],
             [
              0.4444444444444444,
              "#bd3786"
             ],
             [
              0.5555555555555556,
              "#d8576b"
             ],
             [
              0.6666666666666666,
              "#ed7953"
             ],
             [
              0.7777777777777778,
              "#fb9f3a"
             ],
             [
              0.8888888888888888,
              "#fdca26"
             ],
             [
              1.0,
              "#f0f921"
             ]
            ],
            "type": "histogram2dcontour"
           }
          ],
          "histogram2d": [
           {
            "colorbar": {
             "outlinewidth": 0,
             "ticks": ""
            },
            "colorscale": [
             [
              0.0,
              "#0d0887"
             ],
             [
              0.1111111111111111,
              "#46039f"
             ],
             [
              0.2222222222222222,
              "#7201a8"
             ],
             [
              0.3333333333333333,
              "#9c179e"
             ],
             [
              0.4444444444444444,
              "#bd3786"
             ],
             [
              0.5555555555555556,
              "#d8576b"
             ],
             [
              0.6666666666666666,
              "#ed7953"
             ],
             [
              0.7777777777777778,
              "#fb9f3a"
             ],
             [
              0.8888888888888888,
              "#fdca26"
             ],
             [
              1.0,
              "#f0f921"
             ]
            ],
            "type": "histogram2d"
           }
          ],
          "histogram": [
           {
            "marker": {
             "pattern": {
              "fillmode": "overlay",
              "size": 10,
              "solidity": 0.2
             }
            },
            "type": "histogram"
           }
          ],
          "mesh3d": [
           {
            "colorbar": {
             "outlinewidth": 0,
             "ticks": ""
            },
            "type": "mesh3d"
           }
          ],
          "parcoords": [
           {
            "line": {
             "colorbar": {
              "outlinewidth": 0,
              "ticks": ""
             }
            },
            "type": "parcoords"
           }
          ],
          "pie": [
           {
            "automargin": true,
            "type": "pie"
           }
          ],
          "scatter3d": [
           {
            "line": {
             "colorbar": {
              "outlinewidth": 0,
              "ticks": ""
             }
            },
            "marker": {
             "colorbar": {
              "outlinewidth": 0,
              "ticks": ""
             }
            },
            "type": "scatter3d"
           }
          ],
          "scattercarpet": [
           {
            "marker": {
             "colorbar": {
              "outlinewidth": 0,
              "ticks": ""
             }
            },
            "type": "scattercarpet"
           }
          ],
          "scattergeo": [
           {
            "marker": {
             "colorbar": {
              "outlinewidth": 0,
              "ticks": ""
             }
            },
            "type": "scattergeo"
           }
          ],
          "scattergl": [
           {
            "marker": {
             "colorbar": {
              "outlinewidth": 0,
              "ticks": ""
             }
            },
            "type": "scattergl"
           }
          ],
          "scattermapbox": [
           {
            "marker": {
             "colorbar": {
              "outlinewidth": 0,
              "ticks": ""
             }
            },
            "type": "scattermapbox"
           }
          ],
          "scatterpolargl": [
           {
            "marker": {
             "colorbar": {
              "outlinewidth": 0,
              "ticks": ""
             }
            },
            "type": "scatterpolargl"
           }
          ],
          "scatterpolar": [
           {
            "marker": {
             "colorbar": {
              "outlinewidth": 0,
              "ticks": ""
             }
            },
            "type": "scatterpolar"
           }
          ],
          "scatter": [
           {
            "fillpattern": {
             "fillmode": "overlay",
             "size": 10,
             "solidity": 0.2
            },
            "type": "scatter"
           }
          ],
          "scatterternary": [
           {
            "marker": {
             "colorbar": {
              "outlinewidth": 0,
              "ticks": ""
             }
            },
            "type": "scatterternary"
           }
          ],
          "surface": [
           {
            "colorbar": {
             "outlinewidth": 0,
             "ticks": ""
            },
            "colorscale": [
             [
              0.0,
              "#0d0887"
             ],
             [
              0.1111111111111111,
              "#46039f"
             ],
             [
              0.2222222222222222,
              "#7201a8"
             ],
             [
              0.3333333333333333,
              "#9c179e"
             ],
             [
              0.4444444444444444,
              "#bd3786"
             ],
             [
              0.5555555555555556,
              "#d8576b"
             ],
             [
              0.6666666666666666,
              "#ed7953"
             ],
             [
              0.7777777777777778,
              "#fb9f3a"
             ],
             [
              0.8888888888888888,
              "#fdca26"
             ],
             [
              1.0,
              "#f0f921"
             ]
            ],
            "type": "surface"
           }
          ],
          "table": [
           {
            "cells": {
             "fill": {
              "color": "#EBF0F8"
             },
             "line": {
              "color": "white"
             }
            },
            "header": {
             "fill": {
              "color": "#C8D4E3"
             },
             "line": {
              "color": "white"
             }
            },
            "type": "table"
           }
          ]
         },
         "layout": {
          "annotationdefaults": {
           "arrowcolor": "#2a3f5f",
           "arrowhead": 0,
           "arrowwidth": 1
          },
          "autotypenumbers": "strict",
          "coloraxis": {
           "colorbar": {
            "outlinewidth": 0,
            "ticks": ""
           }
          },
          "colorscale": {
           "diverging": [
            [
             0,
             "#8e0152"
            ],
            [
             0.1,
             "#c51b7d"
            ],
            [
             0.2,
             "#de77ae"
            ],
            [
             0.3,
             "#f1b6da"
            ],
            [
             0.4,
             "#fde0ef"
            ],
            [
             0.5,
             "#f7f7f7"
            ],
            [
             0.6,
             "#e6f5d0"
            ],
            [
             0.7,
             "#b8e186"
            ],
            [
             0.8,
             "#7fbc41"
            ],
            [
             0.9,
             "#4d9221"
            ],
            [
             1,
             "#276419"
            ]
           ],
           "sequential": [
            [
             0.0,
             "#0d0887"
            ],
            [
             0.1111111111111111,
             "#46039f"
            ],
            [
             0.2222222222222222,
             "#7201a8"
            ],
            [
             0.3333333333333333,
             "#9c179e"
            ],
            [
             0.4444444444444444,
             "#bd3786"
            ],
            [
             0.5555555555555556,
             "#d8576b"
            ],
            [
             0.6666666666666666,
             "#ed7953"
            ],
            [
             0.7777777777777778,
             "#fb9f3a"
            ],
            [
             0.8888888888888888,
             "#fdca26"
            ],
            [
             1.0,
             "#f0f921"
            ]
           ],
           "sequentialminus": [
            [
             0.0,
             "#0d0887"
            ],
            [
             0.1111111111111111,
             "#46039f"
            ],
            [
             0.2222222222222222,
             "#7201a8"
            ],
            [
             0.3333333333333333,
             "#9c179e"
            ],
            [
             0.4444444444444444,
             "#bd3786"
            ],
            [
             0.5555555555555556,
             "#d8576b"
            ],
            [
             0.6666666666666666,
             "#ed7953"
            ],
            [
             0.7777777777777778,
             "#fb9f3a"
            ],
            [
             0.8888888888888888,
             "#fdca26"
            ],
            [
             1.0,
             "#f0f921"
            ]
           ]
          },
          "colorway": [
           "#636efa",
           "#EF553B",
           "#00cc96",
           "#ab63fa",
           "#FFA15A",
           "#19d3f3",
           "#FF6692",
           "#B6E880",
           "#FF97FF",
           "#FECB52"
          ],
          "font": {
           "color": "#2a3f5f"
          },
          "geo": {
           "bgcolor": "white",
           "lakecolor": "white",
           "landcolor": "#E5ECF6",
           "showlakes": true,
           "showland": true,
           "subunitcolor": "white"
          },
          "hoverlabel": {
           "align": "left"
          },
          "hovermode": "closest",
          "mapbox": {
           "style": "light"
          },
          "paper_bgcolor": "white",
          "plot_bgcolor": "#E5ECF6",
          "polar": {
           "angularaxis": {
            "gridcolor": "white",
            "linecolor": "white",
            "ticks": ""
           },
           "bgcolor": "#E5ECF6",
           "radialaxis": {
            "gridcolor": "white",
            "linecolor": "white",
            "ticks": ""
           }
          },
          "scene": {
           "xaxis": {
            "backgroundcolor": "#E5ECF6",
            "gridcolor": "white",
            "gridwidth": 2,
            "linecolor": "white",
            "showbackground": true,
            "ticks": "",
            "zerolinecolor": "white"
           },
           "yaxis": {
            "backgroundcolor": "#E5ECF6",
            "gridcolor": "white",
            "gridwidth": 2,
            "linecolor": "white",
            "showbackground": true,
            "ticks": "",
            "zerolinecolor": "white"
           },
           "zaxis": {
            "backgroundcolor": "#E5ECF6",
            "gridcolor": "white",
            "gridwidth": 2,
            "linecolor": "white",
            "showbackground": true,
            "ticks": "",
            "zerolinecolor": "white"
           }
          },
          "shapedefaults": {
           "line": {
            "color": "#2a3f5f"
           }
          },
          "ternary": {
           "aaxis": {
            "gridcolor": "white",
            "linecolor": "white",
            "ticks": ""
           },
           "baxis": {
            "gridcolor": "white",
            "linecolor": "white",
            "ticks": ""
           },
           "bgcolor": "#E5ECF6",
           "caxis": {
            "gridcolor": "white",
            "linecolor": "white",
            "ticks": ""
           }
          },
          "title": {
           "x": 0.05
          },
          "xaxis": {
           "automargin": true,
           "gridcolor": "white",
           "linecolor": "white",
           "ticks": "",
           "title": {
            "standoff": 15
           },
           "zerolinecolor": "white",
           "zerolinewidth": 2
          },
          "yaxis": {
           "automargin": true,
           "gridcolor": "white",
           "linecolor": "white",
           "ticks": "",
           "title": {
            "standoff": 15
           },
           "zerolinecolor": "white",
           "zerolinewidth": 2
          }
         }
        },
        "xaxis": {
         "anchor": "y",
         "domain": [
          0.0,
          1.0
         ],
         "title": {
          "text": "<b>Settings<b>",
          "font": {
           "size": 22
          }
         },
         "tickfont": {
          "size": 20
         }
        },
        "yaxis": {
         "anchor": "x",
         "domain": [
          0.0,
          1.0
         ],
         "title": {
          "text": "<b>ROM RMSE [deg]<b>",
          "font": {
           "size": 22
          }
         }
        },
        "legend": {
         "tracegroupgap": 0
        },
        "title": {
         "text": "<b>Shoulder Flexion ROM RMSE,<br>cad = 7.82 deg<b>",
         "font": {
          "size": 26
         }
        },
        "boxmode": "group",
        "height": 650,
        "width": 650,
        "shapes": [
         {
          "line": {
           "color": "red",
           "dash": "dash"
          },
          "name": "CAD",
          "type": "line",
          "x0": 0,
          "x1": 1,
          "xref": "x domain",
          "y0": 7.82,
          "y1": 7.82,
          "yref": "y"
         }
        ]
       },
       "config": {
        "plotlyServerURL": "https://plot.ly"
       }
      },
      "text/html": [
       "<div>                            <div id=\"66121894-062b-45ce-8735-3140c15e1914\" class=\"plotly-graph-div\" style=\"height:650px; width:650px;\"></div>            <script type=\"text/javascript\">                require([\"plotly\"], function(Plotly) {                    window.PLOTLYENV=window.PLOTLYENV || {};                                    if (document.getElementById(\"66121894-062b-45ce-8735-3140c15e1914\")) {                    Plotly.newPlot(                        \"66121894-062b-45ce-8735-3140c15e1914\",                        [{\"alignmentgroup\":\"True\",\"hovertemplate\":\"id_s_name=%{x}\\u003cbr\\u003erom_rmse=%{y}\\u003cextra\\u003e\\u003c\\u002fextra\\u003e\",\"legendgroup\":\"\",\"marker\":{\"color\":\"#636efa\"},\"name\":\"\",\"notched\":false,\"offsetgroup\":\"\",\"orientation\":\"v\",\"showlegend\":false,\"x\":[\"SimCC, Cams: 1,2,3,4,5\",\"SimCC, Cams: 1,2,3,4,5\",\"SimCC, Cams: 1,2,3,4,5\",\"SimCC, Cams: 1,2,3,4,5\",\"SimCC, Cams: 1,2,3,4,5\",\"SimCC, Cams: 1,2,3,4,5\",\"SimCC, Cams: 1,2,3,4,5\",\"SimCC, Cams: 1,2,3,4,5\",\"SimCC, Cams: 1,2,3,4,5\",\"Metrabs, Cams: 1,2,3,4,5\",\"Metrabs, Cams: 1,2,3,4,5\",\"Metrabs, Cams: 1,2,3,4,5\",\"Metrabs, Cams: 1,2,3,4,5\",\"Metrabs, Cams: 1,2,3,4,5\",\"Metrabs, Cams: 1,2,3,4,5\",\"Metrabs, Cams: 1,2,3,4,5\",\"Metrabs, Cams: 1,2,3,4,5\",\"Metrabs, Cams: 1,2,3,4,5\",\"Single, Cam: 1, filt\",\"Single, Cam: 1, filt\",\"Single, Cam: 1, filt\",\"Single, Cam: 1, filt\",\"Single, Cam: 1, filt\",\"Single, Cam: 1, filt\",\"Single, Cam: 1, filt\",\"Single, Cam: 1, filt\",\"Single, Cam: 1, filt\",\"Single, Cam: 1, unfilt\",\"Single, Cam: 1, unfilt\",\"Single, Cam: 1, unfilt\",\"Single, Cam: 1, unfilt\",\"Single, Cam: 1, unfilt\",\"Single, Cam: 1, unfilt\",\"Single, Cam: 1, unfilt\",\"Single, Cam: 1, unfilt\",\"Single, Cam: 1, unfilt\"],\"x0\":\" \",\"xaxis\":\"x\",\"y\":[7.451649708570321,1.7159617324307748,8.768482486441144,6.140116759740627,67.19618922926658,5.013593739808972,3.1618976300220423,6.433891718066044,6.770905975833756,10.927556065879054,2.6261854860586347,2.513494155953499,10.455567277587718,32.15863926530775,3.7531233880875847,5.298312683864134,3.7720537067345266,5.17232697620965,10.516823320754783,4.451408087450487,9.460598341223793,3.134103065468882,2.1591883529070355,4.122448827349326,4.124692743498242,5.515664602247604,6.105941031632906,10.417151766310688,4.416043828748235,8.474037914803318,3.11833774104194,2.1523009467774044,4.130588134672008,4.08254234838104,5.5810939570697755,6.13754135581741],\"y0\":\" \",\"yaxis\":\"y\",\"type\":\"box\"}],                        {\"template\":{\"data\":{\"barpolar\":[{\"marker\":{\"line\":{\"color\":\"#E5ECF6\",\"width\":0.5},\"pattern\":{\"fillmode\":\"overlay\",\"size\":10,\"solidity\":0.2}},\"type\":\"barpolar\"}],\"bar\":[{\"error_x\":{\"color\":\"#2a3f5f\"},\"error_y\":{\"color\":\"#2a3f5f\"},\"marker\":{\"line\":{\"color\":\"#E5ECF6\",\"width\":0.5},\"pattern\":{\"fillmode\":\"overlay\",\"size\":10,\"solidity\":0.2}},\"type\":\"bar\"}],\"carpet\":[{\"aaxis\":{\"endlinecolor\":\"#2a3f5f\",\"gridcolor\":\"white\",\"linecolor\":\"white\",\"minorgridcolor\":\"white\",\"startlinecolor\":\"#2a3f5f\"},\"baxis\":{\"endlinecolor\":\"#2a3f5f\",\"gridcolor\":\"white\",\"linecolor\":\"white\",\"minorgridcolor\":\"white\",\"startlinecolor\":\"#2a3f5f\"},\"type\":\"carpet\"}],\"choropleth\":[{\"colorbar\":{\"outlinewidth\":0,\"ticks\":\"\"},\"type\":\"choropleth\"}],\"contourcarpet\":[{\"colorbar\":{\"outlinewidth\":0,\"ticks\":\"\"},\"type\":\"contourcarpet\"}],\"contour\":[{\"colorbar\":{\"outlinewidth\":0,\"ticks\":\"\"},\"colorscale\":[[0.0,\"#0d0887\"],[0.1111111111111111,\"#46039f\"],[0.2222222222222222,\"#7201a8\"],[0.3333333333333333,\"#9c179e\"],[0.4444444444444444,\"#bd3786\"],[0.5555555555555556,\"#d8576b\"],[0.6666666666666666,\"#ed7953\"],[0.7777777777777778,\"#fb9f3a\"],[0.8888888888888888,\"#fdca26\"],[1.0,\"#f0f921\"]],\"type\":\"contour\"}],\"heatmapgl\":[{\"colorbar\":{\"outlinewidth\":0,\"ticks\":\"\"},\"colorscale\":[[0.0,\"#0d0887\"],[0.1111111111111111,\"#46039f\"],[0.2222222222222222,\"#7201a8\"],[0.3333333333333333,\"#9c179e\"],[0.4444444444444444,\"#bd3786\"],[0.5555555555555556,\"#d8576b\"],[0.6666666666666666,\"#ed7953\"],[0.7777777777777778,\"#fb9f3a\"],[0.8888888888888888,\"#fdca26\"],[1.0,\"#f0f921\"]],\"type\":\"heatmapgl\"}],\"heatmap\":[{\"colorbar\":{\"outlinewidth\":0,\"ticks\":\"\"},\"colorscale\":[[0.0,\"#0d0887\"],[0.1111111111111111,\"#46039f\"],[0.2222222222222222,\"#7201a8\"],[0.3333333333333333,\"#9c179e\"],[0.4444444444444444,\"#bd3786\"],[0.5555555555555556,\"#d8576b\"],[0.6666666666666666,\"#ed7953\"],[0.7777777777777778,\"#fb9f3a\"],[0.8888888888888888,\"#fdca26\"],[1.0,\"#f0f921\"]],\"type\":\"heatmap\"}],\"histogram2dcontour\":[{\"colorbar\":{\"outlinewidth\":0,\"ticks\":\"\"},\"colorscale\":[[0.0,\"#0d0887\"],[0.1111111111111111,\"#46039f\"],[0.2222222222222222,\"#7201a8\"],[0.3333333333333333,\"#9c179e\"],[0.4444444444444444,\"#bd3786\"],[0.5555555555555556,\"#d8576b\"],[0.6666666666666666,\"#ed7953\"],[0.7777777777777778,\"#fb9f3a\"],[0.8888888888888888,\"#fdca26\"],[1.0,\"#f0f921\"]],\"type\":\"histogram2dcontour\"}],\"histogram2d\":[{\"colorbar\":{\"outlinewidth\":0,\"ticks\":\"\"},\"colorscale\":[[0.0,\"#0d0887\"],[0.1111111111111111,\"#46039f\"],[0.2222222222222222,\"#7201a8\"],[0.3333333333333333,\"#9c179e\"],[0.4444444444444444,\"#bd3786\"],[0.5555555555555556,\"#d8576b\"],[0.6666666666666666,\"#ed7953\"],[0.7777777777777778,\"#fb9f3a\"],[0.8888888888888888,\"#fdca26\"],[1.0,\"#f0f921\"]],\"type\":\"histogram2d\"}],\"histogram\":[{\"marker\":{\"pattern\":{\"fillmode\":\"overlay\",\"size\":10,\"solidity\":0.2}},\"type\":\"histogram\"}],\"mesh3d\":[{\"colorbar\":{\"outlinewidth\":0,\"ticks\":\"\"},\"type\":\"mesh3d\"}],\"parcoords\":[{\"line\":{\"colorbar\":{\"outlinewidth\":0,\"ticks\":\"\"}},\"type\":\"parcoords\"}],\"pie\":[{\"automargin\":true,\"type\":\"pie\"}],\"scatter3d\":[{\"line\":{\"colorbar\":{\"outlinewidth\":0,\"ticks\":\"\"}},\"marker\":{\"colorbar\":{\"outlinewidth\":0,\"ticks\":\"\"}},\"type\":\"scatter3d\"}],\"scattercarpet\":[{\"marker\":{\"colorbar\":{\"outlinewidth\":0,\"ticks\":\"\"}},\"type\":\"scattercarpet\"}],\"scattergeo\":[{\"marker\":{\"colorbar\":{\"outlinewidth\":0,\"ticks\":\"\"}},\"type\":\"scattergeo\"}],\"scattergl\":[{\"marker\":{\"colorbar\":{\"outlinewidth\":0,\"ticks\":\"\"}},\"type\":\"scattergl\"}],\"scattermapbox\":[{\"marker\":{\"colorbar\":{\"outlinewidth\":0,\"ticks\":\"\"}},\"type\":\"scattermapbox\"}],\"scatterpolargl\":[{\"marker\":{\"colorbar\":{\"outlinewidth\":0,\"ticks\":\"\"}},\"type\":\"scatterpolargl\"}],\"scatterpolar\":[{\"marker\":{\"colorbar\":{\"outlinewidth\":0,\"ticks\":\"\"}},\"type\":\"scatterpolar\"}],\"scatter\":[{\"fillpattern\":{\"fillmode\":\"overlay\",\"size\":10,\"solidity\":0.2},\"type\":\"scatter\"}],\"scatterternary\":[{\"marker\":{\"colorbar\":{\"outlinewidth\":0,\"ticks\":\"\"}},\"type\":\"scatterternary\"}],\"surface\":[{\"colorbar\":{\"outlinewidth\":0,\"ticks\":\"\"},\"colorscale\":[[0.0,\"#0d0887\"],[0.1111111111111111,\"#46039f\"],[0.2222222222222222,\"#7201a8\"],[0.3333333333333333,\"#9c179e\"],[0.4444444444444444,\"#bd3786\"],[0.5555555555555556,\"#d8576b\"],[0.6666666666666666,\"#ed7953\"],[0.7777777777777778,\"#fb9f3a\"],[0.8888888888888888,\"#fdca26\"],[1.0,\"#f0f921\"]],\"type\":\"surface\"}],\"table\":[{\"cells\":{\"fill\":{\"color\":\"#EBF0F8\"},\"line\":{\"color\":\"white\"}},\"header\":{\"fill\":{\"color\":\"#C8D4E3\"},\"line\":{\"color\":\"white\"}},\"type\":\"table\"}]},\"layout\":{\"annotationdefaults\":{\"arrowcolor\":\"#2a3f5f\",\"arrowhead\":0,\"arrowwidth\":1},\"autotypenumbers\":\"strict\",\"coloraxis\":{\"colorbar\":{\"outlinewidth\":0,\"ticks\":\"\"}},\"colorscale\":{\"diverging\":[[0,\"#8e0152\"],[0.1,\"#c51b7d\"],[0.2,\"#de77ae\"],[0.3,\"#f1b6da\"],[0.4,\"#fde0ef\"],[0.5,\"#f7f7f7\"],[0.6,\"#e6f5d0\"],[0.7,\"#b8e186\"],[0.8,\"#7fbc41\"],[0.9,\"#4d9221\"],[1,\"#276419\"]],\"sequential\":[[0.0,\"#0d0887\"],[0.1111111111111111,\"#46039f\"],[0.2222222222222222,\"#7201a8\"],[0.3333333333333333,\"#9c179e\"],[0.4444444444444444,\"#bd3786\"],[0.5555555555555556,\"#d8576b\"],[0.6666666666666666,\"#ed7953\"],[0.7777777777777778,\"#fb9f3a\"],[0.8888888888888888,\"#fdca26\"],[1.0,\"#f0f921\"]],\"sequentialminus\":[[0.0,\"#0d0887\"],[0.1111111111111111,\"#46039f\"],[0.2222222222222222,\"#7201a8\"],[0.3333333333333333,\"#9c179e\"],[0.4444444444444444,\"#bd3786\"],[0.5555555555555556,\"#d8576b\"],[0.6666666666666666,\"#ed7953\"],[0.7777777777777778,\"#fb9f3a\"],[0.8888888888888888,\"#fdca26\"],[1.0,\"#f0f921\"]]},\"colorway\":[\"#636efa\",\"#EF553B\",\"#00cc96\",\"#ab63fa\",\"#FFA15A\",\"#19d3f3\",\"#FF6692\",\"#B6E880\",\"#FF97FF\",\"#FECB52\"],\"font\":{\"color\":\"#2a3f5f\"},\"geo\":{\"bgcolor\":\"white\",\"lakecolor\":\"white\",\"landcolor\":\"#E5ECF6\",\"showlakes\":true,\"showland\":true,\"subunitcolor\":\"white\"},\"hoverlabel\":{\"align\":\"left\"},\"hovermode\":\"closest\",\"mapbox\":{\"style\":\"light\"},\"paper_bgcolor\":\"white\",\"plot_bgcolor\":\"#E5ECF6\",\"polar\":{\"angularaxis\":{\"gridcolor\":\"white\",\"linecolor\":\"white\",\"ticks\":\"\"},\"bgcolor\":\"#E5ECF6\",\"radialaxis\":{\"gridcolor\":\"white\",\"linecolor\":\"white\",\"ticks\":\"\"}},\"scene\":{\"xaxis\":{\"backgroundcolor\":\"#E5ECF6\",\"gridcolor\":\"white\",\"gridwidth\":2,\"linecolor\":\"white\",\"showbackground\":true,\"ticks\":\"\",\"zerolinecolor\":\"white\"},\"yaxis\":{\"backgroundcolor\":\"#E5ECF6\",\"gridcolor\":\"white\",\"gridwidth\":2,\"linecolor\":\"white\",\"showbackground\":true,\"ticks\":\"\",\"zerolinecolor\":\"white\"},\"zaxis\":{\"backgroundcolor\":\"#E5ECF6\",\"gridcolor\":\"white\",\"gridwidth\":2,\"linecolor\":\"white\",\"showbackground\":true,\"ticks\":\"\",\"zerolinecolor\":\"white\"}},\"shapedefaults\":{\"line\":{\"color\":\"#2a3f5f\"}},\"ternary\":{\"aaxis\":{\"gridcolor\":\"white\",\"linecolor\":\"white\",\"ticks\":\"\"},\"baxis\":{\"gridcolor\":\"white\",\"linecolor\":\"white\",\"ticks\":\"\"},\"bgcolor\":\"#E5ECF6\",\"caxis\":{\"gridcolor\":\"white\",\"linecolor\":\"white\",\"ticks\":\"\"}},\"title\":{\"x\":0.05},\"xaxis\":{\"automargin\":true,\"gridcolor\":\"white\",\"linecolor\":\"white\",\"ticks\":\"\",\"title\":{\"standoff\":15},\"zerolinecolor\":\"white\",\"zerolinewidth\":2},\"yaxis\":{\"automargin\":true,\"gridcolor\":\"white\",\"linecolor\":\"white\",\"ticks\":\"\",\"title\":{\"standoff\":15},\"zerolinecolor\":\"white\",\"zerolinewidth\":2}}},\"xaxis\":{\"anchor\":\"y\",\"domain\":[0.0,1.0],\"title\":{\"text\":\"\\u003cb\\u003eSettings\\u003cb\\u003e\",\"font\":{\"size\":22}},\"tickfont\":{\"size\":20}},\"yaxis\":{\"anchor\":\"x\",\"domain\":[0.0,1.0],\"title\":{\"text\":\"\\u003cb\\u003eROM RMSE [deg]\\u003cb\\u003e\",\"font\":{\"size\":22}}},\"legend\":{\"tracegroupgap\":0},\"title\":{\"text\":\"\\u003cb\\u003eShoulder Flexion ROM RMSE,\\u003cbr\\u003ecad = 7.82 deg\\u003cb\\u003e\",\"font\":{\"size\":26}},\"boxmode\":\"group\",\"height\":650,\"width\":650,\"shapes\":[{\"line\":{\"color\":\"red\",\"dash\":\"dash\"},\"name\":\"CAD\",\"type\":\"line\",\"x0\":0,\"x1\":1,\"xref\":\"x domain\",\"y0\":7.82,\"y1\":7.82,\"yref\":\"y\"}]},                        {\"responsive\": true}                    ).then(function(){\n",
       "                            \n",
       "var gd = document.getElementById('66121894-062b-45ce-8735-3140c15e1914');\n",
       "var x = new MutationObserver(function (mutations, observer) {{\n",
       "        var display = window.getComputedStyle(gd).display;\n",
       "        if (!display || display === 'none') {{\n",
       "            console.log([gd, 'removed!']);\n",
       "            Plotly.purge(gd);\n",
       "            observer.disconnect();\n",
       "        }}\n",
       "}});\n",
       "\n",
       "// Listen for the removal of the full notebook cells\n",
       "var notebookContainer = gd.closest('#notebook-container');\n",
       "if (notebookContainer) {{\n",
       "    x.observe(notebookContainer, {childList: true});\n",
       "}}\n",
       "\n",
       "// Listen for the clearing of the current output cell\n",
       "var outputEl = gd.closest('.output');\n",
       "if (outputEl) {{\n",
       "    x.observe(outputEl, {childList: true});\n",
       "}}\n",
       "\n",
       "                        })                };                });            </script>        </div>"
      ]
     },
     "metadata": {},
     "output_type": "display_data"
    },
    {
     "data": {
      "application/vnd.plotly.v1+json": {
       "data": [
        {
         "alignmentgroup": "True",
         "hovertemplate": "id_s_name=%{x}<br>rom_rmse=%{y}<extra></extra>",
         "legendgroup": "",
         "marker": {
          "color": "#636efa"
         },
         "name": "",
         "notched": false,
         "offsetgroup": "",
         "orientation": "v",
         "showlegend": false,
         "x": [
          "SimCC, Cams: 1,2,3,4,5",
          "SimCC, Cams: 1,2,3,4,5",
          "SimCC, Cams: 1,2,3,4,5",
          "SimCC, Cams: 1,2,3,4,5",
          "SimCC, Cams: 1,2,3,4,5",
          "SimCC, Cams: 1,2,3,4,5",
          "SimCC, Cams: 1,2,3,4,5",
          "SimCC, Cams: 1,2,3,4,5",
          "SimCC, Cams: 1,2,3,4,5",
          "Metrabs, Cams: 1,2,3,4,5",
          "Metrabs, Cams: 1,2,3,4,5",
          "Metrabs, Cams: 1,2,3,4,5",
          "Metrabs, Cams: 1,2,3,4,5",
          "Metrabs, Cams: 1,2,3,4,5",
          "Metrabs, Cams: 1,2,3,4,5",
          "Metrabs, Cams: 1,2,3,4,5",
          "Metrabs, Cams: 1,2,3,4,5",
          "Metrabs, Cams: 1,2,3,4,5",
          "Single, Cam: 1, filt",
          "Single, Cam: 1, filt",
          "Single, Cam: 1, filt",
          "Single, Cam: 1, filt",
          "Single, Cam: 1, filt",
          "Single, Cam: 1, filt",
          "Single, Cam: 1, filt",
          "Single, Cam: 1, filt",
          "Single, Cam: 1, filt",
          "Single, Cam: 1, unfilt",
          "Single, Cam: 1, unfilt",
          "Single, Cam: 1, unfilt",
          "Single, Cam: 1, unfilt",
          "Single, Cam: 1, unfilt",
          "Single, Cam: 1, unfilt",
          "Single, Cam: 1, unfilt",
          "Single, Cam: 1, unfilt",
          "Single, Cam: 1, unfilt"
         ],
         "x0": " ",
         "xaxis": "x",
         "y": [
          6.426009749517243,
          1.9325862880878548,
          6.617038612096874,
          6.628315962611717,
          30.53486354841308,
          1.8467387555347436,
          2.824713435774947,
          2.032302215457043,
          2.497461013775174,
          4.561443853718359,
          2.286474355967619,
          3.046890097874437,
          12.965539259891628,
          42.719781302893345,
          2.9616309568281363,
          3.6569698526516676,
          2.661088125202145,
          3.360276535173403,
          7.172008707156249,
          7.019323682257184,
          3.2709920670728696,
          4.882771852028538,
          2.5821055228718777,
          5.1758204421926255,
          5.691885383934456,
          6.98728103386129,
          6.856926972870824,
          7.07335189508255,
          6.855037432617527,
          3.3073160241074553,
          4.831379183471581,
          2.6901773202474732,
          5.033736127356395,
          5.714979774775659,
          6.947169462289536,
          6.769341861811052
         ],
         "y0": " ",
         "yaxis": "y",
         "type": "box"
        }
       ],
       "layout": {
        "template": {
         "data": {
          "barpolar": [
           {
            "marker": {
             "line": {
              "color": "#E5ECF6",
              "width": 0.5
             },
             "pattern": {
              "fillmode": "overlay",
              "size": 10,
              "solidity": 0.2
             }
            },
            "type": "barpolar"
           }
          ],
          "bar": [
           {
            "error_x": {
             "color": "#2a3f5f"
            },
            "error_y": {
             "color": "#2a3f5f"
            },
            "marker": {
             "line": {
              "color": "#E5ECF6",
              "width": 0.5
             },
             "pattern": {
              "fillmode": "overlay",
              "size": 10,
              "solidity": 0.2
             }
            },
            "type": "bar"
           }
          ],
          "carpet": [
           {
            "aaxis": {
             "endlinecolor": "#2a3f5f",
             "gridcolor": "white",
             "linecolor": "white",
             "minorgridcolor": "white",
             "startlinecolor": "#2a3f5f"
            },
            "baxis": {
             "endlinecolor": "#2a3f5f",
             "gridcolor": "white",
             "linecolor": "white",
             "minorgridcolor": "white",
             "startlinecolor": "#2a3f5f"
            },
            "type": "carpet"
           }
          ],
          "choropleth": [
           {
            "colorbar": {
             "outlinewidth": 0,
             "ticks": ""
            },
            "type": "choropleth"
           }
          ],
          "contourcarpet": [
           {
            "colorbar": {
             "outlinewidth": 0,
             "ticks": ""
            },
            "type": "contourcarpet"
           }
          ],
          "contour": [
           {
            "colorbar": {
             "outlinewidth": 0,
             "ticks": ""
            },
            "colorscale": [
             [
              0.0,
              "#0d0887"
             ],
             [
              0.1111111111111111,
              "#46039f"
             ],
             [
              0.2222222222222222,
              "#7201a8"
             ],
             [
              0.3333333333333333,
              "#9c179e"
             ],
             [
              0.4444444444444444,
              "#bd3786"
             ],
             [
              0.5555555555555556,
              "#d8576b"
             ],
             [
              0.6666666666666666,
              "#ed7953"
             ],
             [
              0.7777777777777778,
              "#fb9f3a"
             ],
             [
              0.8888888888888888,
              "#fdca26"
             ],
             [
              1.0,
              "#f0f921"
             ]
            ],
            "type": "contour"
           }
          ],
          "heatmapgl": [
           {
            "colorbar": {
             "outlinewidth": 0,
             "ticks": ""
            },
            "colorscale": [
             [
              0.0,
              "#0d0887"
             ],
             [
              0.1111111111111111,
              "#46039f"
             ],
             [
              0.2222222222222222,
              "#7201a8"
             ],
             [
              0.3333333333333333,
              "#9c179e"
             ],
             [
              0.4444444444444444,
              "#bd3786"
             ],
             [
              0.5555555555555556,
              "#d8576b"
             ],
             [
              0.6666666666666666,
              "#ed7953"
             ],
             [
              0.7777777777777778,
              "#fb9f3a"
             ],
             [
              0.8888888888888888,
              "#fdca26"
             ],
             [
              1.0,
              "#f0f921"
             ]
            ],
            "type": "heatmapgl"
           }
          ],
          "heatmap": [
           {
            "colorbar": {
             "outlinewidth": 0,
             "ticks": ""
            },
            "colorscale": [
             [
              0.0,
              "#0d0887"
             ],
             [
              0.1111111111111111,
              "#46039f"
             ],
             [
              0.2222222222222222,
              "#7201a8"
             ],
             [
              0.3333333333333333,
              "#9c179e"
             ],
             [
              0.4444444444444444,
              "#bd3786"
             ],
             [
              0.5555555555555556,
              "#d8576b"
             ],
             [
              0.6666666666666666,
              "#ed7953"
             ],
             [
              0.7777777777777778,
              "#fb9f3a"
             ],
             [
              0.8888888888888888,
              "#fdca26"
             ],
             [
              1.0,
              "#f0f921"
             ]
            ],
            "type": "heatmap"
           }
          ],
          "histogram2dcontour": [
           {
            "colorbar": {
             "outlinewidth": 0,
             "ticks": ""
            },
            "colorscale": [
             [
              0.0,
              "#0d0887"
             ],
             [
              0.1111111111111111,
              "#46039f"
             ],
             [
              0.2222222222222222,
              "#7201a8"
             ],
             [
              0.3333333333333333,
              "#9c179e"
             ],
             [
              0.4444444444444444,
              "#bd3786"
             ],
             [
              0.5555555555555556,
              "#d8576b"
             ],
             [
              0.6666666666666666,
              "#ed7953"
             ],
             [
              0.7777777777777778,
              "#fb9f3a"
             ],
             [
              0.8888888888888888,
              "#fdca26"
             ],
             [
              1.0,
              "#f0f921"
             ]
            ],
            "type": "histogram2dcontour"
           }
          ],
          "histogram2d": [
           {
            "colorbar": {
             "outlinewidth": 0,
             "ticks": ""
            },
            "colorscale": [
             [
              0.0,
              "#0d0887"
             ],
             [
              0.1111111111111111,
              "#46039f"
             ],
             [
              0.2222222222222222,
              "#7201a8"
             ],
             [
              0.3333333333333333,
              "#9c179e"
             ],
             [
              0.4444444444444444,
              "#bd3786"
             ],
             [
              0.5555555555555556,
              "#d8576b"
             ],
             [
              0.6666666666666666,
              "#ed7953"
             ],
             [
              0.7777777777777778,
              "#fb9f3a"
             ],
             [
              0.8888888888888888,
              "#fdca26"
             ],
             [
              1.0,
              "#f0f921"
             ]
            ],
            "type": "histogram2d"
           }
          ],
          "histogram": [
           {
            "marker": {
             "pattern": {
              "fillmode": "overlay",
              "size": 10,
              "solidity": 0.2
             }
            },
            "type": "histogram"
           }
          ],
          "mesh3d": [
           {
            "colorbar": {
             "outlinewidth": 0,
             "ticks": ""
            },
            "type": "mesh3d"
           }
          ],
          "parcoords": [
           {
            "line": {
             "colorbar": {
              "outlinewidth": 0,
              "ticks": ""
             }
            },
            "type": "parcoords"
           }
          ],
          "pie": [
           {
            "automargin": true,
            "type": "pie"
           }
          ],
          "scatter3d": [
           {
            "line": {
             "colorbar": {
              "outlinewidth": 0,
              "ticks": ""
             }
            },
            "marker": {
             "colorbar": {
              "outlinewidth": 0,
              "ticks": ""
             }
            },
            "type": "scatter3d"
           }
          ],
          "scattercarpet": [
           {
            "marker": {
             "colorbar": {
              "outlinewidth": 0,
              "ticks": ""
             }
            },
            "type": "scattercarpet"
           }
          ],
          "scattergeo": [
           {
            "marker": {
             "colorbar": {
              "outlinewidth": 0,
              "ticks": ""
             }
            },
            "type": "scattergeo"
           }
          ],
          "scattergl": [
           {
            "marker": {
             "colorbar": {
              "outlinewidth": 0,
              "ticks": ""
             }
            },
            "type": "scattergl"
           }
          ],
          "scattermapbox": [
           {
            "marker": {
             "colorbar": {
              "outlinewidth": 0,
              "ticks": ""
             }
            },
            "type": "scattermapbox"
           }
          ],
          "scatterpolargl": [
           {
            "marker": {
             "colorbar": {
              "outlinewidth": 0,
              "ticks": ""
             }
            },
            "type": "scatterpolargl"
           }
          ],
          "scatterpolar": [
           {
            "marker": {
             "colorbar": {
              "outlinewidth": 0,
              "ticks": ""
             }
            },
            "type": "scatterpolar"
           }
          ],
          "scatter": [
           {
            "fillpattern": {
             "fillmode": "overlay",
             "size": 10,
             "solidity": 0.2
            },
            "type": "scatter"
           }
          ],
          "scatterternary": [
           {
            "marker": {
             "colorbar": {
              "outlinewidth": 0,
              "ticks": ""
             }
            },
            "type": "scatterternary"
           }
          ],
          "surface": [
           {
            "colorbar": {
             "outlinewidth": 0,
             "ticks": ""
            },
            "colorscale": [
             [
              0.0,
              "#0d0887"
             ],
             [
              0.1111111111111111,
              "#46039f"
             ],
             [
              0.2222222222222222,
              "#7201a8"
             ],
             [
              0.3333333333333333,
              "#9c179e"
             ],
             [
              0.4444444444444444,
              "#bd3786"
             ],
             [
              0.5555555555555556,
              "#d8576b"
             ],
             [
              0.6666666666666666,
              "#ed7953"
             ],
             [
              0.7777777777777778,
              "#fb9f3a"
             ],
             [
              0.8888888888888888,
              "#fdca26"
             ],
             [
              1.0,
              "#f0f921"
             ]
            ],
            "type": "surface"
           }
          ],
          "table": [
           {
            "cells": {
             "fill": {
              "color": "#EBF0F8"
             },
             "line": {
              "color": "white"
             }
            },
            "header": {
             "fill": {
              "color": "#C8D4E3"
             },
             "line": {
              "color": "white"
             }
            },
            "type": "table"
           }
          ]
         },
         "layout": {
          "annotationdefaults": {
           "arrowcolor": "#2a3f5f",
           "arrowhead": 0,
           "arrowwidth": 1
          },
          "autotypenumbers": "strict",
          "coloraxis": {
           "colorbar": {
            "outlinewidth": 0,
            "ticks": ""
           }
          },
          "colorscale": {
           "diverging": [
            [
             0,
             "#8e0152"
            ],
            [
             0.1,
             "#c51b7d"
            ],
            [
             0.2,
             "#de77ae"
            ],
            [
             0.3,
             "#f1b6da"
            ],
            [
             0.4,
             "#fde0ef"
            ],
            [
             0.5,
             "#f7f7f7"
            ],
            [
             0.6,
             "#e6f5d0"
            ],
            [
             0.7,
             "#b8e186"
            ],
            [
             0.8,
             "#7fbc41"
            ],
            [
             0.9,
             "#4d9221"
            ],
            [
             1,
             "#276419"
            ]
           ],
           "sequential": [
            [
             0.0,
             "#0d0887"
            ],
            [
             0.1111111111111111,
             "#46039f"
            ],
            [
             0.2222222222222222,
             "#7201a8"
            ],
            [
             0.3333333333333333,
             "#9c179e"
            ],
            [
             0.4444444444444444,
             "#bd3786"
            ],
            [
             0.5555555555555556,
             "#d8576b"
            ],
            [
             0.6666666666666666,
             "#ed7953"
            ],
            [
             0.7777777777777778,
             "#fb9f3a"
            ],
            [
             0.8888888888888888,
             "#fdca26"
            ],
            [
             1.0,
             "#f0f921"
            ]
           ],
           "sequentialminus": [
            [
             0.0,
             "#0d0887"
            ],
            [
             0.1111111111111111,
             "#46039f"
            ],
            [
             0.2222222222222222,
             "#7201a8"
            ],
            [
             0.3333333333333333,
             "#9c179e"
            ],
            [
             0.4444444444444444,
             "#bd3786"
            ],
            [
             0.5555555555555556,
             "#d8576b"
            ],
            [
             0.6666666666666666,
             "#ed7953"
            ],
            [
             0.7777777777777778,
             "#fb9f3a"
            ],
            [
             0.8888888888888888,
             "#fdca26"
            ],
            [
             1.0,
             "#f0f921"
            ]
           ]
          },
          "colorway": [
           "#636efa",
           "#EF553B",
           "#00cc96",
           "#ab63fa",
           "#FFA15A",
           "#19d3f3",
           "#FF6692",
           "#B6E880",
           "#FF97FF",
           "#FECB52"
          ],
          "font": {
           "color": "#2a3f5f"
          },
          "geo": {
           "bgcolor": "white",
           "lakecolor": "white",
           "landcolor": "#E5ECF6",
           "showlakes": true,
           "showland": true,
           "subunitcolor": "white"
          },
          "hoverlabel": {
           "align": "left"
          },
          "hovermode": "closest",
          "mapbox": {
           "style": "light"
          },
          "paper_bgcolor": "white",
          "plot_bgcolor": "#E5ECF6",
          "polar": {
           "angularaxis": {
            "gridcolor": "white",
            "linecolor": "white",
            "ticks": ""
           },
           "bgcolor": "#E5ECF6",
           "radialaxis": {
            "gridcolor": "white",
            "linecolor": "white",
            "ticks": ""
           }
          },
          "scene": {
           "xaxis": {
            "backgroundcolor": "#E5ECF6",
            "gridcolor": "white",
            "gridwidth": 2,
            "linecolor": "white",
            "showbackground": true,
            "ticks": "",
            "zerolinecolor": "white"
           },
           "yaxis": {
            "backgroundcolor": "#E5ECF6",
            "gridcolor": "white",
            "gridwidth": 2,
            "linecolor": "white",
            "showbackground": true,
            "ticks": "",
            "zerolinecolor": "white"
           },
           "zaxis": {
            "backgroundcolor": "#E5ECF6",
            "gridcolor": "white",
            "gridwidth": 2,
            "linecolor": "white",
            "showbackground": true,
            "ticks": "",
            "zerolinecolor": "white"
           }
          },
          "shapedefaults": {
           "line": {
            "color": "#2a3f5f"
           }
          },
          "ternary": {
           "aaxis": {
            "gridcolor": "white",
            "linecolor": "white",
            "ticks": ""
           },
           "baxis": {
            "gridcolor": "white",
            "linecolor": "white",
            "ticks": ""
           },
           "bgcolor": "#E5ECF6",
           "caxis": {
            "gridcolor": "white",
            "linecolor": "white",
            "ticks": ""
           }
          },
          "title": {
           "x": 0.05
          },
          "xaxis": {
           "automargin": true,
           "gridcolor": "white",
           "linecolor": "white",
           "ticks": "",
           "title": {
            "standoff": 15
           },
           "zerolinecolor": "white",
           "zerolinewidth": 2
          },
          "yaxis": {
           "automargin": true,
           "gridcolor": "white",
           "linecolor": "white",
           "ticks": "",
           "title": {
            "standoff": 15
           },
           "zerolinecolor": "white",
           "zerolinewidth": 2
          }
         }
        },
        "xaxis": {
         "anchor": "y",
         "domain": [
          0.0,
          1.0
         ],
         "title": {
          "text": "<b>Settings<b>",
          "font": {
           "size": 22
          }
         },
         "tickfont": {
          "size": 20
         }
        },
        "yaxis": {
         "anchor": "x",
         "domain": [
          0.0,
          1.0
         ],
         "title": {
          "text": "<b>ROM RMSE [deg]<b>",
          "font": {
           "size": 22
          }
         }
        },
        "legend": {
         "tracegroupgap": 0
        },
        "title": {
         "text": "<b>Shoulder Abduction ROM RMSE,<br>cad = 9.99 deg<b>",
         "font": {
          "size": 26
         }
        },
        "boxmode": "group",
        "height": 650,
        "width": 650,
        "shapes": [
         {
          "line": {
           "color": "red",
           "dash": "dash"
          },
          "name": "CAD",
          "type": "line",
          "x0": 0,
          "x1": 1,
          "xref": "x domain",
          "y0": 9.99,
          "y1": 9.99,
          "yref": "y"
         }
        ]
       },
       "config": {
        "plotlyServerURL": "https://plot.ly"
       }
      },
      "text/html": [
       "<div>                            <div id=\"acb47afa-0be5-48a2-8928-704baf3b9262\" class=\"plotly-graph-div\" style=\"height:650px; width:650px;\"></div>            <script type=\"text/javascript\">                require([\"plotly\"], function(Plotly) {                    window.PLOTLYENV=window.PLOTLYENV || {};                                    if (document.getElementById(\"acb47afa-0be5-48a2-8928-704baf3b9262\")) {                    Plotly.newPlot(                        \"acb47afa-0be5-48a2-8928-704baf3b9262\",                        [{\"alignmentgroup\":\"True\",\"hovertemplate\":\"id_s_name=%{x}\\u003cbr\\u003erom_rmse=%{y}\\u003cextra\\u003e\\u003c\\u002fextra\\u003e\",\"legendgroup\":\"\",\"marker\":{\"color\":\"#636efa\"},\"name\":\"\",\"notched\":false,\"offsetgroup\":\"\",\"orientation\":\"v\",\"showlegend\":false,\"x\":[\"SimCC, Cams: 1,2,3,4,5\",\"SimCC, Cams: 1,2,3,4,5\",\"SimCC, Cams: 1,2,3,4,5\",\"SimCC, Cams: 1,2,3,4,5\",\"SimCC, Cams: 1,2,3,4,5\",\"SimCC, Cams: 1,2,3,4,5\",\"SimCC, Cams: 1,2,3,4,5\",\"SimCC, Cams: 1,2,3,4,5\",\"SimCC, Cams: 1,2,3,4,5\",\"Metrabs, Cams: 1,2,3,4,5\",\"Metrabs, Cams: 1,2,3,4,5\",\"Metrabs, Cams: 1,2,3,4,5\",\"Metrabs, Cams: 1,2,3,4,5\",\"Metrabs, Cams: 1,2,3,4,5\",\"Metrabs, Cams: 1,2,3,4,5\",\"Metrabs, Cams: 1,2,3,4,5\",\"Metrabs, Cams: 1,2,3,4,5\",\"Metrabs, Cams: 1,2,3,4,5\",\"Single, Cam: 1, filt\",\"Single, Cam: 1, filt\",\"Single, Cam: 1, filt\",\"Single, Cam: 1, filt\",\"Single, Cam: 1, filt\",\"Single, Cam: 1, filt\",\"Single, Cam: 1, filt\",\"Single, Cam: 1, filt\",\"Single, Cam: 1, filt\",\"Single, Cam: 1, unfilt\",\"Single, Cam: 1, unfilt\",\"Single, Cam: 1, unfilt\",\"Single, Cam: 1, unfilt\",\"Single, Cam: 1, unfilt\",\"Single, Cam: 1, unfilt\",\"Single, Cam: 1, unfilt\",\"Single, Cam: 1, unfilt\",\"Single, Cam: 1, unfilt\"],\"x0\":\" \",\"xaxis\":\"x\",\"y\":[6.426009749517243,1.9325862880878548,6.617038612096874,6.628315962611717,30.53486354841308,1.8467387555347436,2.824713435774947,2.032302215457043,2.497461013775174,4.561443853718359,2.286474355967619,3.046890097874437,12.965539259891628,42.719781302893345,2.9616309568281363,3.6569698526516676,2.661088125202145,3.360276535173403,7.172008707156249,7.019323682257184,3.2709920670728696,4.882771852028538,2.5821055228718777,5.1758204421926255,5.691885383934456,6.98728103386129,6.856926972870824,7.07335189508255,6.855037432617527,3.3073160241074553,4.831379183471581,2.6901773202474732,5.033736127356395,5.714979774775659,6.947169462289536,6.769341861811052],\"y0\":\" \",\"yaxis\":\"y\",\"type\":\"box\"}],                        {\"template\":{\"data\":{\"barpolar\":[{\"marker\":{\"line\":{\"color\":\"#E5ECF6\",\"width\":0.5},\"pattern\":{\"fillmode\":\"overlay\",\"size\":10,\"solidity\":0.2}},\"type\":\"barpolar\"}],\"bar\":[{\"error_x\":{\"color\":\"#2a3f5f\"},\"error_y\":{\"color\":\"#2a3f5f\"},\"marker\":{\"line\":{\"color\":\"#E5ECF6\",\"width\":0.5},\"pattern\":{\"fillmode\":\"overlay\",\"size\":10,\"solidity\":0.2}},\"type\":\"bar\"}],\"carpet\":[{\"aaxis\":{\"endlinecolor\":\"#2a3f5f\",\"gridcolor\":\"white\",\"linecolor\":\"white\",\"minorgridcolor\":\"white\",\"startlinecolor\":\"#2a3f5f\"},\"baxis\":{\"endlinecolor\":\"#2a3f5f\",\"gridcolor\":\"white\",\"linecolor\":\"white\",\"minorgridcolor\":\"white\",\"startlinecolor\":\"#2a3f5f\"},\"type\":\"carpet\"}],\"choropleth\":[{\"colorbar\":{\"outlinewidth\":0,\"ticks\":\"\"},\"type\":\"choropleth\"}],\"contourcarpet\":[{\"colorbar\":{\"outlinewidth\":0,\"ticks\":\"\"},\"type\":\"contourcarpet\"}],\"contour\":[{\"colorbar\":{\"outlinewidth\":0,\"ticks\":\"\"},\"colorscale\":[[0.0,\"#0d0887\"],[0.1111111111111111,\"#46039f\"],[0.2222222222222222,\"#7201a8\"],[0.3333333333333333,\"#9c179e\"],[0.4444444444444444,\"#bd3786\"],[0.5555555555555556,\"#d8576b\"],[0.6666666666666666,\"#ed7953\"],[0.7777777777777778,\"#fb9f3a\"],[0.8888888888888888,\"#fdca26\"],[1.0,\"#f0f921\"]],\"type\":\"contour\"}],\"heatmapgl\":[{\"colorbar\":{\"outlinewidth\":0,\"ticks\":\"\"},\"colorscale\":[[0.0,\"#0d0887\"],[0.1111111111111111,\"#46039f\"],[0.2222222222222222,\"#7201a8\"],[0.3333333333333333,\"#9c179e\"],[0.4444444444444444,\"#bd3786\"],[0.5555555555555556,\"#d8576b\"],[0.6666666666666666,\"#ed7953\"],[0.7777777777777778,\"#fb9f3a\"],[0.8888888888888888,\"#fdca26\"],[1.0,\"#f0f921\"]],\"type\":\"heatmapgl\"}],\"heatmap\":[{\"colorbar\":{\"outlinewidth\":0,\"ticks\":\"\"},\"colorscale\":[[0.0,\"#0d0887\"],[0.1111111111111111,\"#46039f\"],[0.2222222222222222,\"#7201a8\"],[0.3333333333333333,\"#9c179e\"],[0.4444444444444444,\"#bd3786\"],[0.5555555555555556,\"#d8576b\"],[0.6666666666666666,\"#ed7953\"],[0.7777777777777778,\"#fb9f3a\"],[0.8888888888888888,\"#fdca26\"],[1.0,\"#f0f921\"]],\"type\":\"heatmap\"}],\"histogram2dcontour\":[{\"colorbar\":{\"outlinewidth\":0,\"ticks\":\"\"},\"colorscale\":[[0.0,\"#0d0887\"],[0.1111111111111111,\"#46039f\"],[0.2222222222222222,\"#7201a8\"],[0.3333333333333333,\"#9c179e\"],[0.4444444444444444,\"#bd3786\"],[0.5555555555555556,\"#d8576b\"],[0.6666666666666666,\"#ed7953\"],[0.7777777777777778,\"#fb9f3a\"],[0.8888888888888888,\"#fdca26\"],[1.0,\"#f0f921\"]],\"type\":\"histogram2dcontour\"}],\"histogram2d\":[{\"colorbar\":{\"outlinewidth\":0,\"ticks\":\"\"},\"colorscale\":[[0.0,\"#0d0887\"],[0.1111111111111111,\"#46039f\"],[0.2222222222222222,\"#7201a8\"],[0.3333333333333333,\"#9c179e\"],[0.4444444444444444,\"#bd3786\"],[0.5555555555555556,\"#d8576b\"],[0.6666666666666666,\"#ed7953\"],[0.7777777777777778,\"#fb9f3a\"],[0.8888888888888888,\"#fdca26\"],[1.0,\"#f0f921\"]],\"type\":\"histogram2d\"}],\"histogram\":[{\"marker\":{\"pattern\":{\"fillmode\":\"overlay\",\"size\":10,\"solidity\":0.2}},\"type\":\"histogram\"}],\"mesh3d\":[{\"colorbar\":{\"outlinewidth\":0,\"ticks\":\"\"},\"type\":\"mesh3d\"}],\"parcoords\":[{\"line\":{\"colorbar\":{\"outlinewidth\":0,\"ticks\":\"\"}},\"type\":\"parcoords\"}],\"pie\":[{\"automargin\":true,\"type\":\"pie\"}],\"scatter3d\":[{\"line\":{\"colorbar\":{\"outlinewidth\":0,\"ticks\":\"\"}},\"marker\":{\"colorbar\":{\"outlinewidth\":0,\"ticks\":\"\"}},\"type\":\"scatter3d\"}],\"scattercarpet\":[{\"marker\":{\"colorbar\":{\"outlinewidth\":0,\"ticks\":\"\"}},\"type\":\"scattercarpet\"}],\"scattergeo\":[{\"marker\":{\"colorbar\":{\"outlinewidth\":0,\"ticks\":\"\"}},\"type\":\"scattergeo\"}],\"scattergl\":[{\"marker\":{\"colorbar\":{\"outlinewidth\":0,\"ticks\":\"\"}},\"type\":\"scattergl\"}],\"scattermapbox\":[{\"marker\":{\"colorbar\":{\"outlinewidth\":0,\"ticks\":\"\"}},\"type\":\"scattermapbox\"}],\"scatterpolargl\":[{\"marker\":{\"colorbar\":{\"outlinewidth\":0,\"ticks\":\"\"}},\"type\":\"scatterpolargl\"}],\"scatterpolar\":[{\"marker\":{\"colorbar\":{\"outlinewidth\":0,\"ticks\":\"\"}},\"type\":\"scatterpolar\"}],\"scatter\":[{\"fillpattern\":{\"fillmode\":\"overlay\",\"size\":10,\"solidity\":0.2},\"type\":\"scatter\"}],\"scatterternary\":[{\"marker\":{\"colorbar\":{\"outlinewidth\":0,\"ticks\":\"\"}},\"type\":\"scatterternary\"}],\"surface\":[{\"colorbar\":{\"outlinewidth\":0,\"ticks\":\"\"},\"colorscale\":[[0.0,\"#0d0887\"],[0.1111111111111111,\"#46039f\"],[0.2222222222222222,\"#7201a8\"],[0.3333333333333333,\"#9c179e\"],[0.4444444444444444,\"#bd3786\"],[0.5555555555555556,\"#d8576b\"],[0.6666666666666666,\"#ed7953\"],[0.7777777777777778,\"#fb9f3a\"],[0.8888888888888888,\"#fdca26\"],[1.0,\"#f0f921\"]],\"type\":\"surface\"}],\"table\":[{\"cells\":{\"fill\":{\"color\":\"#EBF0F8\"},\"line\":{\"color\":\"white\"}},\"header\":{\"fill\":{\"color\":\"#C8D4E3\"},\"line\":{\"color\":\"white\"}},\"type\":\"table\"}]},\"layout\":{\"annotationdefaults\":{\"arrowcolor\":\"#2a3f5f\",\"arrowhead\":0,\"arrowwidth\":1},\"autotypenumbers\":\"strict\",\"coloraxis\":{\"colorbar\":{\"outlinewidth\":0,\"ticks\":\"\"}},\"colorscale\":{\"diverging\":[[0,\"#8e0152\"],[0.1,\"#c51b7d\"],[0.2,\"#de77ae\"],[0.3,\"#f1b6da\"],[0.4,\"#fde0ef\"],[0.5,\"#f7f7f7\"],[0.6,\"#e6f5d0\"],[0.7,\"#b8e186\"],[0.8,\"#7fbc41\"],[0.9,\"#4d9221\"],[1,\"#276419\"]],\"sequential\":[[0.0,\"#0d0887\"],[0.1111111111111111,\"#46039f\"],[0.2222222222222222,\"#7201a8\"],[0.3333333333333333,\"#9c179e\"],[0.4444444444444444,\"#bd3786\"],[0.5555555555555556,\"#d8576b\"],[0.6666666666666666,\"#ed7953\"],[0.7777777777777778,\"#fb9f3a\"],[0.8888888888888888,\"#fdca26\"],[1.0,\"#f0f921\"]],\"sequentialminus\":[[0.0,\"#0d0887\"],[0.1111111111111111,\"#46039f\"],[0.2222222222222222,\"#7201a8\"],[0.3333333333333333,\"#9c179e\"],[0.4444444444444444,\"#bd3786\"],[0.5555555555555556,\"#d8576b\"],[0.6666666666666666,\"#ed7953\"],[0.7777777777777778,\"#fb9f3a\"],[0.8888888888888888,\"#fdca26\"],[1.0,\"#f0f921\"]]},\"colorway\":[\"#636efa\",\"#EF553B\",\"#00cc96\",\"#ab63fa\",\"#FFA15A\",\"#19d3f3\",\"#FF6692\",\"#B6E880\",\"#FF97FF\",\"#FECB52\"],\"font\":{\"color\":\"#2a3f5f\"},\"geo\":{\"bgcolor\":\"white\",\"lakecolor\":\"white\",\"landcolor\":\"#E5ECF6\",\"showlakes\":true,\"showland\":true,\"subunitcolor\":\"white\"},\"hoverlabel\":{\"align\":\"left\"},\"hovermode\":\"closest\",\"mapbox\":{\"style\":\"light\"},\"paper_bgcolor\":\"white\",\"plot_bgcolor\":\"#E5ECF6\",\"polar\":{\"angularaxis\":{\"gridcolor\":\"white\",\"linecolor\":\"white\",\"ticks\":\"\"},\"bgcolor\":\"#E5ECF6\",\"radialaxis\":{\"gridcolor\":\"white\",\"linecolor\":\"white\",\"ticks\":\"\"}},\"scene\":{\"xaxis\":{\"backgroundcolor\":\"#E5ECF6\",\"gridcolor\":\"white\",\"gridwidth\":2,\"linecolor\":\"white\",\"showbackground\":true,\"ticks\":\"\",\"zerolinecolor\":\"white\"},\"yaxis\":{\"backgroundcolor\":\"#E5ECF6\",\"gridcolor\":\"white\",\"gridwidth\":2,\"linecolor\":\"white\",\"showbackground\":true,\"ticks\":\"\",\"zerolinecolor\":\"white\"},\"zaxis\":{\"backgroundcolor\":\"#E5ECF6\",\"gridcolor\":\"white\",\"gridwidth\":2,\"linecolor\":\"white\",\"showbackground\":true,\"ticks\":\"\",\"zerolinecolor\":\"white\"}},\"shapedefaults\":{\"line\":{\"color\":\"#2a3f5f\"}},\"ternary\":{\"aaxis\":{\"gridcolor\":\"white\",\"linecolor\":\"white\",\"ticks\":\"\"},\"baxis\":{\"gridcolor\":\"white\",\"linecolor\":\"white\",\"ticks\":\"\"},\"bgcolor\":\"#E5ECF6\",\"caxis\":{\"gridcolor\":\"white\",\"linecolor\":\"white\",\"ticks\":\"\"}},\"title\":{\"x\":0.05},\"xaxis\":{\"automargin\":true,\"gridcolor\":\"white\",\"linecolor\":\"white\",\"ticks\":\"\",\"title\":{\"standoff\":15},\"zerolinecolor\":\"white\",\"zerolinewidth\":2},\"yaxis\":{\"automargin\":true,\"gridcolor\":\"white\",\"linecolor\":\"white\",\"ticks\":\"\",\"title\":{\"standoff\":15},\"zerolinecolor\":\"white\",\"zerolinewidth\":2}}},\"xaxis\":{\"anchor\":\"y\",\"domain\":[0.0,1.0],\"title\":{\"text\":\"\\u003cb\\u003eSettings\\u003cb\\u003e\",\"font\":{\"size\":22}},\"tickfont\":{\"size\":20}},\"yaxis\":{\"anchor\":\"x\",\"domain\":[0.0,1.0],\"title\":{\"text\":\"\\u003cb\\u003eROM RMSE [deg]\\u003cb\\u003e\",\"font\":{\"size\":22}}},\"legend\":{\"tracegroupgap\":0},\"title\":{\"text\":\"\\u003cb\\u003eShoulder Abduction ROM RMSE,\\u003cbr\\u003ecad = 9.99 deg\\u003cb\\u003e\",\"font\":{\"size\":26}},\"boxmode\":\"group\",\"height\":650,\"width\":650,\"shapes\":[{\"line\":{\"color\":\"red\",\"dash\":\"dash\"},\"name\":\"CAD\",\"type\":\"line\",\"x0\":0,\"x1\":1,\"xref\":\"x domain\",\"y0\":9.99,\"y1\":9.99,\"yref\":\"y\"}]},                        {\"responsive\": true}                    ).then(function(){\n",
       "                            \n",
       "var gd = document.getElementById('acb47afa-0be5-48a2-8928-704baf3b9262');\n",
       "var x = new MutationObserver(function (mutations, observer) {{\n",
       "        var display = window.getComputedStyle(gd).display;\n",
       "        if (!display || display === 'none') {{\n",
       "            console.log([gd, 'removed!']);\n",
       "            Plotly.purge(gd);\n",
       "            observer.disconnect();\n",
       "        }}\n",
       "}});\n",
       "\n",
       "// Listen for the removal of the full notebook cells\n",
       "var notebookContainer = gd.closest('#notebook-container');\n",
       "if (notebookContainer) {{\n",
       "    x.observe(notebookContainer, {childList: true});\n",
       "}}\n",
       "\n",
       "// Listen for the clearing of the current output cell\n",
       "var outputEl = gd.closest('.output');\n",
       "if (outputEl) {{\n",
       "    x.observe(outputEl, {childList: true});\n",
       "}}\n",
       "\n",
       "                        })                };                });            </script>        </div>"
      ]
     },
     "metadata": {},
     "output_type": "display_data"
    }
   ],
   "execution_count": 28
  },
  {
   "metadata": {
    "ExecuteTime": {
     "end_time": "2024-12-23T15:29:44.423820Z",
     "start_time": "2024-12-23T15:29:44.420389Z"
    }
   },
   "cell_type": "code",
   "source": [
    "df_for_plot.insert(0, 'Setting', df_for_plot['id_s'].apply(lambda x: get_setting_axis_name(x)))\n",
    "df_for_plot.drop(columns=['id_s_name', 'id_s'], inplace=True)\n",
    "\n"
   ],
   "id": "684d27ab22bbdbc4",
   "outputs": [],
   "execution_count": 122
  },
  {
   "metadata": {
    "ExecuteTime": {
     "end_time": "2024-12-23T15:29:47.372799Z",
     "start_time": "2024-12-23T15:29:47.365424Z"
    }
   },
   "cell_type": "code",
   "source": [
    "df_for_plot['CAD'] = df_for_plot['metric'].apply(lambda x: get_cad(df_cad, x))\n",
    "df_for_plot['metric'] = df_for_plot['metric'].apply(lambda x: get_title_measure_name(x, add_unit = True))\n",
    "\n",
    "df_for_plot['RMSE < CAD'] = df_for_plot.apply(\n",
    "    lambda row: 'Yes' if (row['rom_rmse'] < row['CAD']) else 'No', axis=1)"
   ],
   "id": "91bc2441563ffcaf",
   "outputs": [],
   "execution_count": 123
  },
  {
   "metadata": {
    "ExecuteTime": {
     "end_time": "2024-12-23T15:29:50.342565Z",
     "start_time": "2024-12-23T15:29:50.336732Z"
    }
   },
   "cell_type": "code",
   "source": "df_latex = df_for_plot.round(2)",
   "id": "7fe9e2b9e9c664e2",
   "outputs": [],
   "execution_count": 124
  },
  {
   "metadata": {
    "ExecuteTime": {
     "end_time": "2024-12-23T15:14:46.299302Z",
     "start_time": "2024-12-23T15:14:46.294374Z"
    }
   },
   "cell_type": "code",
   "source": "df_latex = df_for_plot.groupby(['Setting', 'metric']).mean(numeric_only=True).round(2)",
   "id": "4271e04f58c45210",
   "outputs": [],
   "execution_count": 86
  },
  {
   "metadata": {
    "ExecuteTime": {
     "end_time": "2024-12-23T15:29:52.246170Z",
     "start_time": "2024-12-23T15:29:52.240070Z"
    }
   },
   "cell_type": "code",
   "source": [
    "print(df_latex.style.to_latex(label='tab:res:cont:rom_rmse',\n",
    "                              caption=r'ROM RMSE for 5-cam and single-cam settings. The full table can be found in section \\ref{sec:app:plots_ts}'))"
   ],
   "id": "eb8755b5a0160ea5",
   "outputs": [
    {
     "name": "stdout",
     "output_type": "stream",
     "text": [
      "\\begin{table}\n",
      "\\caption{ROM RMSE for 5-cam and single-cam settings. The full table can be found in section \\ref{sec:app:plots_ts}}\n",
      "\\label{tab:res:cont:rom_rmse}\n",
      "\\begin{tabular}{lllrrl}\n",
      " & Setting & metric & rom_rmse & CAD & RMSE < CAD \\\\\n",
      "0 & SimCC, Cams: 1,2,3,4,5 & Elbow Flexion [deg] & 13.370000 & 4.480000 & No \\\\\n",
      "1 & SimCC, Cams: 1,2,3,4,5 & Elbow Velocity [deg/s] & 3.170000 & 21.710000 & Yes \\\\\n",
      "2 & SimCC, Cams: 1,2,3,4,5 & Hand Velocity [mm/s] & 5465.320000 & 78.960000 & No \\\\\n",
      "3 & SimCC, Cams: 1,2,3,4,5 & Shoulder Abduction [deg] & 6.820000 & 9.990000 & Yes \\\\\n",
      "4 & SimCC, Cams: 1,2,3,4,5 & Shoulder Flexion [deg] & 12.520000 & 7.820000 & No \\\\\n",
      "5 & SimCC, Cams: 1,2,3,4,5 & Trunk Angle [deg] & 25.170000 & nan & No \\\\\n",
      "6 & SimCC, Cams: 1,2,3,4,5 & Trunk Displacement [mm] & 40.410000 & 31.890000 & No \\\\\n",
      "7 & Metrabs, Cams: 1,2,3,4,5 & Elbow Flexion [deg] & 9.090000 & 4.480000 & No \\\\\n",
      "8 & Metrabs, Cams: 1,2,3,4,5 & Elbow Velocity [deg/s] & 2.600000 & 21.710000 & Yes \\\\\n",
      "9 & Metrabs, Cams: 1,2,3,4,5 & Hand Velocity [mm/s] & 7738.870000 & 78.960000 & No \\\\\n",
      "10 & Metrabs, Cams: 1,2,3,4,5 & Shoulder Abduction [deg] & 8.690000 & 9.990000 & Yes \\\\\n",
      "11 & Metrabs, Cams: 1,2,3,4,5 & Shoulder Flexion [deg] & 8.520000 & 7.820000 & No \\\\\n",
      "12 & Metrabs, Cams: 1,2,3,4,5 & Trunk Angle [deg] & 23.840000 & nan & No \\\\\n",
      "13 & Metrabs, Cams: 1,2,3,4,5 & Trunk Displacement [mm] & 22.060000 & 31.890000 & Yes \\\\\n",
      "14 & Single, Cam: 1, filt & Elbow Flexion [deg] & 9.320000 & 4.480000 & No \\\\\n",
      "15 & Single, Cam: 1, filt & Elbow Velocity [deg/s] & 1.330000 & 21.710000 & Yes \\\\\n",
      "16 & Single, Cam: 1, filt & Hand Velocity [mm/s] & 922.440000 & 78.960000 & No \\\\\n",
      "17 & Single, Cam: 1, filt & Shoulder Abduction [deg] & 5.520000 & 9.990000 & Yes \\\\\n",
      "18 & Single, Cam: 1, filt & Shoulder Flexion [deg] & 5.510000 & 7.820000 & Yes \\\\\n",
      "19 & Single, Cam: 1, filt & Trunk Angle [deg] & 21.080000 & nan & No \\\\\n",
      "20 & Single, Cam: 1, filt & Trunk Displacement [mm] & 29.120000 & 31.890000 & Yes \\\\\n",
      "21 & Single, Cam: 1, unfilt & Elbow Flexion [deg] & 9.300000 & 4.480000 & No \\\\\n",
      "22 & Single, Cam: 1, unfilt & Elbow Velocity [deg/s] & 1.380000 & 21.710000 & Yes \\\\\n",
      "23 & Single, Cam: 1, unfilt & Hand Velocity [mm/s] & 3467.620000 & 78.960000 & No \\\\\n",
      "24 & Single, Cam: 1, unfilt & Shoulder Abduction [deg] & 5.470000 & 9.990000 & Yes \\\\\n",
      "25 & Single, Cam: 1, unfilt & Shoulder Flexion [deg] & 5.390000 & 7.820000 & Yes \\\\\n",
      "26 & Single, Cam: 1, unfilt & Trunk Angle [deg] & 21.080000 & nan & No \\\\\n",
      "27 & Single, Cam: 1, unfilt & Trunk Displacement [mm] & 30.760000 & 31.890000 & Yes \\\\\n",
      "\\end{tabular}\n",
      "\\end{table}\n",
      "\n"
     ]
    }
   ],
   "execution_count": 125
  },
  {
   "metadata": {
    "ExecuteTime": {
     "end_time": "2024-12-23T15:14:22.536766Z",
     "start_time": "2024-12-23T15:14:22.051545Z"
    }
   },
   "cell_type": "code",
   "source": "df_for_plot.groupby(['id_s', 'metric']).median(numeric_only=True)",
   "id": "f0f72a33925c1e",
   "outputs": [
    {
     "ename": "KeyError",
     "evalue": "'id_s'",
     "output_type": "error",
     "traceback": [
      "\u001B[1;31m---------------------------------------------------------------------------\u001B[0m",
      "\u001B[1;31mKeyError\u001B[0m                                  Traceback (most recent call last)",
      "Cell \u001B[1;32mIn[81], line 1\u001B[0m\n\u001B[1;32m----> 1\u001B[0m df_for_plot\u001B[38;5;241m.\u001B[39mgroupby([\u001B[38;5;124m'\u001B[39m\u001B[38;5;124mid_s\u001B[39m\u001B[38;5;124m'\u001B[39m, \u001B[38;5;124m'\u001B[39m\u001B[38;5;124mmetric\u001B[39m\u001B[38;5;124m'\u001B[39m])\u001B[38;5;241m.\u001B[39mmedian(numeric_only\u001B[38;5;241m=\u001B[39m\u001B[38;5;28;01mTrue\u001B[39;00m)\n",
      "File \u001B[1;32m~\\anaconda3\\envs\\iDrink_GUI\\Lib\\site-packages\\pandas\\core\\frame.py:8402\u001B[0m, in \u001B[0;36mDataFrame.groupby\u001B[1;34m(self, by, axis, level, as_index, sort, group_keys, squeeze, observed, dropna)\u001B[0m\n\u001B[0;32m   8399\u001B[0m     \u001B[38;5;28;01mraise\u001B[39;00m \u001B[38;5;167;01mTypeError\u001B[39;00m(\u001B[38;5;124m\"\u001B[39m\u001B[38;5;124mYou have to supply one of \u001B[39m\u001B[38;5;124m'\u001B[39m\u001B[38;5;124mby\u001B[39m\u001B[38;5;124m'\u001B[39m\u001B[38;5;124m and \u001B[39m\u001B[38;5;124m'\u001B[39m\u001B[38;5;124mlevel\u001B[39m\u001B[38;5;124m'\u001B[39m\u001B[38;5;124m\"\u001B[39m)\n\u001B[0;32m   8400\u001B[0m axis \u001B[38;5;241m=\u001B[39m \u001B[38;5;28mself\u001B[39m\u001B[38;5;241m.\u001B[39m_get_axis_number(axis)\n\u001B[1;32m-> 8402\u001B[0m \u001B[38;5;28;01mreturn\u001B[39;00m DataFrameGroupBy(\n\u001B[0;32m   8403\u001B[0m     obj\u001B[38;5;241m=\u001B[39m\u001B[38;5;28mself\u001B[39m,\n\u001B[0;32m   8404\u001B[0m     keys\u001B[38;5;241m=\u001B[39mby,\n\u001B[0;32m   8405\u001B[0m     axis\u001B[38;5;241m=\u001B[39maxis,\n\u001B[0;32m   8406\u001B[0m     level\u001B[38;5;241m=\u001B[39mlevel,\n\u001B[0;32m   8407\u001B[0m     as_index\u001B[38;5;241m=\u001B[39mas_index,\n\u001B[0;32m   8408\u001B[0m     sort\u001B[38;5;241m=\u001B[39msort,\n\u001B[0;32m   8409\u001B[0m     group_keys\u001B[38;5;241m=\u001B[39mgroup_keys,\n\u001B[0;32m   8410\u001B[0m     squeeze\u001B[38;5;241m=\u001B[39msqueeze,\n\u001B[0;32m   8411\u001B[0m     observed\u001B[38;5;241m=\u001B[39mobserved,\n\u001B[0;32m   8412\u001B[0m     dropna\u001B[38;5;241m=\u001B[39mdropna,\n\u001B[0;32m   8413\u001B[0m )\n",
      "File \u001B[1;32m~\\anaconda3\\envs\\iDrink_GUI\\Lib\\site-packages\\pandas\\core\\groupby\\groupby.py:965\u001B[0m, in \u001B[0;36mGroupBy.__init__\u001B[1;34m(self, obj, keys, axis, level, grouper, exclusions, selection, as_index, sort, group_keys, squeeze, observed, mutated, dropna)\u001B[0m\n\u001B[0;32m    962\u001B[0m \u001B[38;5;28;01mif\u001B[39;00m grouper \u001B[38;5;129;01mis\u001B[39;00m \u001B[38;5;28;01mNone\u001B[39;00m:\n\u001B[0;32m    963\u001B[0m     \u001B[38;5;28;01mfrom\u001B[39;00m \u001B[38;5;21;01mpandas\u001B[39;00m\u001B[38;5;21;01m.\u001B[39;00m\u001B[38;5;21;01mcore\u001B[39;00m\u001B[38;5;21;01m.\u001B[39;00m\u001B[38;5;21;01mgroupby\u001B[39;00m\u001B[38;5;21;01m.\u001B[39;00m\u001B[38;5;21;01mgrouper\u001B[39;00m \u001B[38;5;28;01mimport\u001B[39;00m get_grouper\n\u001B[1;32m--> 965\u001B[0m     grouper, exclusions, obj \u001B[38;5;241m=\u001B[39m get_grouper(\n\u001B[0;32m    966\u001B[0m         obj,\n\u001B[0;32m    967\u001B[0m         keys,\n\u001B[0;32m    968\u001B[0m         axis\u001B[38;5;241m=\u001B[39maxis,\n\u001B[0;32m    969\u001B[0m         level\u001B[38;5;241m=\u001B[39mlevel,\n\u001B[0;32m    970\u001B[0m         sort\u001B[38;5;241m=\u001B[39msort,\n\u001B[0;32m    971\u001B[0m         observed\u001B[38;5;241m=\u001B[39mobserved,\n\u001B[0;32m    972\u001B[0m         mutated\u001B[38;5;241m=\u001B[39m\u001B[38;5;28mself\u001B[39m\u001B[38;5;241m.\u001B[39mmutated,\n\u001B[0;32m    973\u001B[0m         dropna\u001B[38;5;241m=\u001B[39m\u001B[38;5;28mself\u001B[39m\u001B[38;5;241m.\u001B[39mdropna,\n\u001B[0;32m    974\u001B[0m     )\n\u001B[0;32m    976\u001B[0m \u001B[38;5;28mself\u001B[39m\u001B[38;5;241m.\u001B[39mobj \u001B[38;5;241m=\u001B[39m obj\n\u001B[0;32m    977\u001B[0m \u001B[38;5;28mself\u001B[39m\u001B[38;5;241m.\u001B[39maxis \u001B[38;5;241m=\u001B[39m obj\u001B[38;5;241m.\u001B[39m_get_axis_number(axis)\n",
      "File \u001B[1;32m~\\anaconda3\\envs\\iDrink_GUI\\Lib\\site-packages\\pandas\\core\\groupby\\grouper.py:888\u001B[0m, in \u001B[0;36mget_grouper\u001B[1;34m(obj, key, axis, level, sort, observed, mutated, validate, dropna)\u001B[0m\n\u001B[0;32m    886\u001B[0m         in_axis, level, gpr \u001B[38;5;241m=\u001B[39m \u001B[38;5;28;01mFalse\u001B[39;00m, gpr, \u001B[38;5;28;01mNone\u001B[39;00m\n\u001B[0;32m    887\u001B[0m     \u001B[38;5;28;01melse\u001B[39;00m:\n\u001B[1;32m--> 888\u001B[0m         \u001B[38;5;28;01mraise\u001B[39;00m \u001B[38;5;167;01mKeyError\u001B[39;00m(gpr)\n\u001B[0;32m    889\u001B[0m \u001B[38;5;28;01melif\u001B[39;00m \u001B[38;5;28misinstance\u001B[39m(gpr, Grouper) \u001B[38;5;129;01mand\u001B[39;00m gpr\u001B[38;5;241m.\u001B[39mkey \u001B[38;5;129;01mis\u001B[39;00m \u001B[38;5;129;01mnot\u001B[39;00m \u001B[38;5;28;01mNone\u001B[39;00m:\n\u001B[0;32m    890\u001B[0m     \u001B[38;5;66;03m# Add key to exclusions\u001B[39;00m\n\u001B[0;32m    891\u001B[0m     exclusions\u001B[38;5;241m.\u001B[39madd(gpr\u001B[38;5;241m.\u001B[39mkey)\n",
      "\u001B[1;31mKeyError\u001B[0m: 'id_s'"
     ]
    }
   ],
   "execution_count": 81
  },
  {
   "metadata": {
    "ExecuteTime": {
     "end_time": "2024-12-17T19:27:12.021608Z",
     "start_time": "2024-12-17T19:27:11.259249Z"
    }
   },
   "cell_type": "code",
   "source": [
    "df_filtered = df_rom_rmse[~df_rom_rmse['id_s'].isin(ignore_id_s)].sort_values(by='id_p')\n",
    "df_rom_rmse_corr = df_filtered.groupby(['id_s', 'metric']).mean(numeric_only=True)\n",
    "\n",
    "df_for_plot_corr_rmse = pd.DataFrame(columns=['id_s', 'metric', 'rom_rmse'])\n",
    "joint_metrics = ['elbow_flex_pos', 'shoulder_flex_pos', 'shoulder_abduction_pos']\n",
    "\n",
    "for id in df_rom_rmse_corr.index.to_list():\n",
    "    id_s = id[0]\n",
    "    metric = id[1]\n",
    "    rmse = df_rom_rmse_corr.loc[id, 'rom_rmse']\n",
    "    df_for_plot_corr_rmse = pd.concat([df_for_plot_corr_rmse, pd.DataFrame({'id_s': [id_s], 'metric': [metric], 'rom_rmse': [rmse]})], ignore_index=True)\n",
    "\n",
    "os.makedirs(dir_barplots_rom_rmse_error, exist_ok=True)\n",
    "\n",
    "for metric in metrics:\n",
    "    cad = get_cad(df_cad, metric)\n",
    "    unit = get_unit(metric)\n",
    "    title_name = get_title_measure_name(metric)\n",
    "    fig = px.bar(df_for_plot_corr_rmse[df_for_plot_corr_rmse['metric'] == metric], x='id_s', y='rom_rmse', title=f'{title_name} ROM RMSE, cad = {cad}',\n",
    "                 template='plotly')\n",
    "    \n",
    "    fig.add_hline(y=cad, line_dash='dash', line_color='red', name='CAD')\n",
    "    \n",
    "    fig.show()\n",
    "    \n",
    "    fig.update_layout(title= f'{title_name} ROM RMSE, cad = {cad} {unit}',\n",
    "                  xaxis_title=f'Settings',\n",
    "                  yaxis_title=f'ROM RMSE [{unit}]',\n",
    "                  )\n",
    "    \n",
    "    filepath = os.path.join(dir_barplots_rom_rmse_error, f'{metric}_rom_rmse_barplot_corr.html')\n",
    "    fig.write_html(filepath)\n",
    "    \n",
    "    filepath = os.path.join(dir_barplots_rom_rmse_error, f'{metric}_rom_rmse_barplot_corr.png')\n",
    "    fig.write_image(filepath)"
   ],
   "id": "fcc11efb6c126e0d",
   "outputs": [
    {
     "data": {
      "application/vnd.plotly.v1+json": {
       "data": [
        {
         "alignmentgroup": "True",
         "hovertemplate": "id_s=%{x}<br>rom_rmse=%{y}<extra></extra>",
         "legendgroup": "",
         "marker": {
          "color": "#636efa",
          "pattern": {
           "shape": ""
          }
         },
         "name": "",
         "offsetgroup": "",
         "orientation": "v",
         "showlegend": false,
         "textposition": "auto",
         "x": [
          "S001",
          "S002",
          "S004",
          "S009",
          "S010",
          "S011",
          "S012",
          "S013",
          "S014",
          "S015",
          "S016",
          "S017",
          "S018",
          "S019",
          "S020",
          "S021",
          "S022",
          "S023",
          "S024",
          "S025",
          "S026"
         ],
         "xaxis": "x",
         "y": [
          10891.368523239349,
          10498.047968056842,
          30065.51550946249,
          92508.60291077392,
          32629.18190258057,
          37243.58672497454,
          5608.197885927566,
          24012.009208501244,
          89953.90242955122,
          40792.22842524982,
          19136.09498117864,
          5559.252632838611,
          7948.551835651611,
          5560.460996858862,
          7958.09163648056,
          5560.460996858862,
          7958.09163648056,
          210.30079600776787,
          988.0369377716878,
          221.39177452792487,
          1080.370298474677
         ],
         "yaxis": "y",
         "type": "bar"
        }
       ],
       "layout": {
        "template": {
         "data": {
          "barpolar": [
           {
            "marker": {
             "line": {
              "color": "#E5ECF6",
              "width": 0.5
             },
             "pattern": {
              "fillmode": "overlay",
              "size": 10,
              "solidity": 0.2
             }
            },
            "type": "barpolar"
           }
          ],
          "bar": [
           {
            "error_x": {
             "color": "#2a3f5f"
            },
            "error_y": {
             "color": "#2a3f5f"
            },
            "marker": {
             "line": {
              "color": "#E5ECF6",
              "width": 0.5
             },
             "pattern": {
              "fillmode": "overlay",
              "size": 10,
              "solidity": 0.2
             }
            },
            "type": "bar"
           }
          ],
          "carpet": [
           {
            "aaxis": {
             "endlinecolor": "#2a3f5f",
             "gridcolor": "white",
             "linecolor": "white",
             "minorgridcolor": "white",
             "startlinecolor": "#2a3f5f"
            },
            "baxis": {
             "endlinecolor": "#2a3f5f",
             "gridcolor": "white",
             "linecolor": "white",
             "minorgridcolor": "white",
             "startlinecolor": "#2a3f5f"
            },
            "type": "carpet"
           }
          ],
          "choropleth": [
           {
            "colorbar": {
             "outlinewidth": 0,
             "ticks": ""
            },
            "type": "choropleth"
           }
          ],
          "contourcarpet": [
           {
            "colorbar": {
             "outlinewidth": 0,
             "ticks": ""
            },
            "type": "contourcarpet"
           }
          ],
          "contour": [
           {
            "colorbar": {
             "outlinewidth": 0,
             "ticks": ""
            },
            "colorscale": [
             [
              0.0,
              "#0d0887"
             ],
             [
              0.1111111111111111,
              "#46039f"
             ],
             [
              0.2222222222222222,
              "#7201a8"
             ],
             [
              0.3333333333333333,
              "#9c179e"
             ],
             [
              0.4444444444444444,
              "#bd3786"
             ],
             [
              0.5555555555555556,
              "#d8576b"
             ],
             [
              0.6666666666666666,
              "#ed7953"
             ],
             [
              0.7777777777777778,
              "#fb9f3a"
             ],
             [
              0.8888888888888888,
              "#fdca26"
             ],
             [
              1.0,
              "#f0f921"
             ]
            ],
            "type": "contour"
           }
          ],
          "heatmapgl": [
           {
            "colorbar": {
             "outlinewidth": 0,
             "ticks": ""
            },
            "colorscale": [
             [
              0.0,
              "#0d0887"
             ],
             [
              0.1111111111111111,
              "#46039f"
             ],
             [
              0.2222222222222222,
              "#7201a8"
             ],
             [
              0.3333333333333333,
              "#9c179e"
             ],
             [
              0.4444444444444444,
              "#bd3786"
             ],
             [
              0.5555555555555556,
              "#d8576b"
             ],
             [
              0.6666666666666666,
              "#ed7953"
             ],
             [
              0.7777777777777778,
              "#fb9f3a"
             ],
             [
              0.8888888888888888,
              "#fdca26"
             ],
             [
              1.0,
              "#f0f921"
             ]
            ],
            "type": "heatmapgl"
           }
          ],
          "heatmap": [
           {
            "colorbar": {
             "outlinewidth": 0,
             "ticks": ""
            },
            "colorscale": [
             [
              0.0,
              "#0d0887"
             ],
             [
              0.1111111111111111,
              "#46039f"
             ],
             [
              0.2222222222222222,
              "#7201a8"
             ],
             [
              0.3333333333333333,
              "#9c179e"
             ],
             [
              0.4444444444444444,
              "#bd3786"
             ],
             [
              0.5555555555555556,
              "#d8576b"
             ],
             [
              0.6666666666666666,
              "#ed7953"
             ],
             [
              0.7777777777777778,
              "#fb9f3a"
             ],
             [
              0.8888888888888888,
              "#fdca26"
             ],
             [
              1.0,
              "#f0f921"
             ]
            ],
            "type": "heatmap"
           }
          ],
          "histogram2dcontour": [
           {
            "colorbar": {
             "outlinewidth": 0,
             "ticks": ""
            },
            "colorscale": [
             [
              0.0,
              "#0d0887"
             ],
             [
              0.1111111111111111,
              "#46039f"
             ],
             [
              0.2222222222222222,
              "#7201a8"
             ],
             [
              0.3333333333333333,
              "#9c179e"
             ],
             [
              0.4444444444444444,
              "#bd3786"
             ],
             [
              0.5555555555555556,
              "#d8576b"
             ],
             [
              0.6666666666666666,
              "#ed7953"
             ],
             [
              0.7777777777777778,
              "#fb9f3a"
             ],
             [
              0.8888888888888888,
              "#fdca26"
             ],
             [
              1.0,
              "#f0f921"
             ]
            ],
            "type": "histogram2dcontour"
           }
          ],
          "histogram2d": [
           {
            "colorbar": {
             "outlinewidth": 0,
             "ticks": ""
            },
            "colorscale": [
             [
              0.0,
              "#0d0887"
             ],
             [
              0.1111111111111111,
              "#46039f"
             ],
             [
              0.2222222222222222,
              "#7201a8"
             ],
             [
              0.3333333333333333,
              "#9c179e"
             ],
             [
              0.4444444444444444,
              "#bd3786"
             ],
             [
              0.5555555555555556,
              "#d8576b"
             ],
             [
              0.6666666666666666,
              "#ed7953"
             ],
             [
              0.7777777777777778,
              "#fb9f3a"
             ],
             [
              0.8888888888888888,
              "#fdca26"
             ],
             [
              1.0,
              "#f0f921"
             ]
            ],
            "type": "histogram2d"
           }
          ],
          "histogram": [
           {
            "marker": {
             "pattern": {
              "fillmode": "overlay",
              "size": 10,
              "solidity": 0.2
             }
            },
            "type": "histogram"
           }
          ],
          "mesh3d": [
           {
            "colorbar": {
             "outlinewidth": 0,
             "ticks": ""
            },
            "type": "mesh3d"
           }
          ],
          "parcoords": [
           {
            "line": {
             "colorbar": {
              "outlinewidth": 0,
              "ticks": ""
             }
            },
            "type": "parcoords"
           }
          ],
          "pie": [
           {
            "automargin": true,
            "type": "pie"
           }
          ],
          "scatter3d": [
           {
            "line": {
             "colorbar": {
              "outlinewidth": 0,
              "ticks": ""
             }
            },
            "marker": {
             "colorbar": {
              "outlinewidth": 0,
              "ticks": ""
             }
            },
            "type": "scatter3d"
           }
          ],
          "scattercarpet": [
           {
            "marker": {
             "colorbar": {
              "outlinewidth": 0,
              "ticks": ""
             }
            },
            "type": "scattercarpet"
           }
          ],
          "scattergeo": [
           {
            "marker": {
             "colorbar": {
              "outlinewidth": 0,
              "ticks": ""
             }
            },
            "type": "scattergeo"
           }
          ],
          "scattergl": [
           {
            "marker": {
             "colorbar": {
              "outlinewidth": 0,
              "ticks": ""
             }
            },
            "type": "scattergl"
           }
          ],
          "scattermapbox": [
           {
            "marker": {
             "colorbar": {
              "outlinewidth": 0,
              "ticks": ""
             }
            },
            "type": "scattermapbox"
           }
          ],
          "scatterpolargl": [
           {
            "marker": {
             "colorbar": {
              "outlinewidth": 0,
              "ticks": ""
             }
            },
            "type": "scatterpolargl"
           }
          ],
          "scatterpolar": [
           {
            "marker": {
             "colorbar": {
              "outlinewidth": 0,
              "ticks": ""
             }
            },
            "type": "scatterpolar"
           }
          ],
          "scatter": [
           {
            "fillpattern": {
             "fillmode": "overlay",
             "size": 10,
             "solidity": 0.2
            },
            "type": "scatter"
           }
          ],
          "scatterternary": [
           {
            "marker": {
             "colorbar": {
              "outlinewidth": 0,
              "ticks": ""
             }
            },
            "type": "scatterternary"
           }
          ],
          "surface": [
           {
            "colorbar": {
             "outlinewidth": 0,
             "ticks": ""
            },
            "colorscale": [
             [
              0.0,
              "#0d0887"
             ],
             [
              0.1111111111111111,
              "#46039f"
             ],
             [
              0.2222222222222222,
              "#7201a8"
             ],
             [
              0.3333333333333333,
              "#9c179e"
             ],
             [
              0.4444444444444444,
              "#bd3786"
             ],
             [
              0.5555555555555556,
              "#d8576b"
             ],
             [
              0.6666666666666666,
              "#ed7953"
             ],
             [
              0.7777777777777778,
              "#fb9f3a"
             ],
             [
              0.8888888888888888,
              "#fdca26"
             ],
             [
              1.0,
              "#f0f921"
             ]
            ],
            "type": "surface"
           }
          ],
          "table": [
           {
            "cells": {
             "fill": {
              "color": "#EBF0F8"
             },
             "line": {
              "color": "white"
             }
            },
            "header": {
             "fill": {
              "color": "#C8D4E3"
             },
             "line": {
              "color": "white"
             }
            },
            "type": "table"
           }
          ]
         },
         "layout": {
          "annotationdefaults": {
           "arrowcolor": "#2a3f5f",
           "arrowhead": 0,
           "arrowwidth": 1
          },
          "autotypenumbers": "strict",
          "coloraxis": {
           "colorbar": {
            "outlinewidth": 0,
            "ticks": ""
           }
          },
          "colorscale": {
           "diverging": [
            [
             0,
             "#8e0152"
            ],
            [
             0.1,
             "#c51b7d"
            ],
            [
             0.2,
             "#de77ae"
            ],
            [
             0.3,
             "#f1b6da"
            ],
            [
             0.4,
             "#fde0ef"
            ],
            [
             0.5,
             "#f7f7f7"
            ],
            [
             0.6,
             "#e6f5d0"
            ],
            [
             0.7,
             "#b8e186"
            ],
            [
             0.8,
             "#7fbc41"
            ],
            [
             0.9,
             "#4d9221"
            ],
            [
             1,
             "#276419"
            ]
           ],
           "sequential": [
            [
             0.0,
             "#0d0887"
            ],
            [
             0.1111111111111111,
             "#46039f"
            ],
            [
             0.2222222222222222,
             "#7201a8"
            ],
            [
             0.3333333333333333,
             "#9c179e"
            ],
            [
             0.4444444444444444,
             "#bd3786"
            ],
            [
             0.5555555555555556,
             "#d8576b"
            ],
            [
             0.6666666666666666,
             "#ed7953"
            ],
            [
             0.7777777777777778,
             "#fb9f3a"
            ],
            [
             0.8888888888888888,
             "#fdca26"
            ],
            [
             1.0,
             "#f0f921"
            ]
           ],
           "sequentialminus": [
            [
             0.0,
             "#0d0887"
            ],
            [
             0.1111111111111111,
             "#46039f"
            ],
            [
             0.2222222222222222,
             "#7201a8"
            ],
            [
             0.3333333333333333,
             "#9c179e"
            ],
            [
             0.4444444444444444,
             "#bd3786"
            ],
            [
             0.5555555555555556,
             "#d8576b"
            ],
            [
             0.6666666666666666,
             "#ed7953"
            ],
            [
             0.7777777777777778,
             "#fb9f3a"
            ],
            [
             0.8888888888888888,
             "#fdca26"
            ],
            [
             1.0,
             "#f0f921"
            ]
           ]
          },
          "colorway": [
           "#636efa",
           "#EF553B",
           "#00cc96",
           "#ab63fa",
           "#FFA15A",
           "#19d3f3",
           "#FF6692",
           "#B6E880",
           "#FF97FF",
           "#FECB52"
          ],
          "font": {
           "color": "#2a3f5f"
          },
          "geo": {
           "bgcolor": "white",
           "lakecolor": "white",
           "landcolor": "#E5ECF6",
           "showlakes": true,
           "showland": true,
           "subunitcolor": "white"
          },
          "hoverlabel": {
           "align": "left"
          },
          "hovermode": "closest",
          "mapbox": {
           "style": "light"
          },
          "paper_bgcolor": "white",
          "plot_bgcolor": "#E5ECF6",
          "polar": {
           "angularaxis": {
            "gridcolor": "white",
            "linecolor": "white",
            "ticks": ""
           },
           "bgcolor": "#E5ECF6",
           "radialaxis": {
            "gridcolor": "white",
            "linecolor": "white",
            "ticks": ""
           }
          },
          "scene": {
           "xaxis": {
            "backgroundcolor": "#E5ECF6",
            "gridcolor": "white",
            "gridwidth": 2,
            "linecolor": "white",
            "showbackground": true,
            "ticks": "",
            "zerolinecolor": "white"
           },
           "yaxis": {
            "backgroundcolor": "#E5ECF6",
            "gridcolor": "white",
            "gridwidth": 2,
            "linecolor": "white",
            "showbackground": true,
            "ticks": "",
            "zerolinecolor": "white"
           },
           "zaxis": {
            "backgroundcolor": "#E5ECF6",
            "gridcolor": "white",
            "gridwidth": 2,
            "linecolor": "white",
            "showbackground": true,
            "ticks": "",
            "zerolinecolor": "white"
           }
          },
          "shapedefaults": {
           "line": {
            "color": "#2a3f5f"
           }
          },
          "ternary": {
           "aaxis": {
            "gridcolor": "white",
            "linecolor": "white",
            "ticks": ""
           },
           "baxis": {
            "gridcolor": "white",
            "linecolor": "white",
            "ticks": ""
           },
           "bgcolor": "#E5ECF6",
           "caxis": {
            "gridcolor": "white",
            "linecolor": "white",
            "ticks": ""
           }
          },
          "title": {
           "x": 0.05
          },
          "xaxis": {
           "automargin": true,
           "gridcolor": "white",
           "linecolor": "white",
           "ticks": "",
           "title": {
            "standoff": 15
           },
           "zerolinecolor": "white",
           "zerolinewidth": 2
          },
          "yaxis": {
           "automargin": true,
           "gridcolor": "white",
           "linecolor": "white",
           "ticks": "",
           "title": {
            "standoff": 15
           },
           "zerolinecolor": "white",
           "zerolinewidth": 2
          }
         }
        },
        "xaxis": {
         "anchor": "y",
         "domain": [
          0.0,
          1.0
         ],
         "title": {
          "text": "id_s"
         }
        },
        "yaxis": {
         "anchor": "x",
         "domain": [
          0.0,
          1.0
         ],
         "title": {
          "text": "rom_rmse"
         }
        },
        "legend": {
         "tracegroupgap": 0
        },
        "title": {
         "text": "Hand Velocity ROM RMSE, cad = 78.96"
        },
        "barmode": "relative",
        "shapes": [
         {
          "line": {
           "color": "red",
           "dash": "dash"
          },
          "name": "CAD",
          "type": "line",
          "x0": 0,
          "x1": 1,
          "xref": "x domain",
          "y0": 78.96,
          "y1": 78.96,
          "yref": "y"
         }
        ]
       },
       "config": {
        "plotlyServerURL": "https://plot.ly"
       }
      },
      "text/html": [
       "<div>                            <div id=\"1df7bdbd-11bc-415e-9456-e70cd6f52097\" class=\"plotly-graph-div\" style=\"height:525px; width:100%;\"></div>            <script type=\"text/javascript\">                require([\"plotly\"], function(Plotly) {                    window.PLOTLYENV=window.PLOTLYENV || {};                                    if (document.getElementById(\"1df7bdbd-11bc-415e-9456-e70cd6f52097\")) {                    Plotly.newPlot(                        \"1df7bdbd-11bc-415e-9456-e70cd6f52097\",                        [{\"alignmentgroup\":\"True\",\"hovertemplate\":\"id_s=%{x}\\u003cbr\\u003erom_rmse=%{y}\\u003cextra\\u003e\\u003c\\u002fextra\\u003e\",\"legendgroup\":\"\",\"marker\":{\"color\":\"#636efa\",\"pattern\":{\"shape\":\"\"}},\"name\":\"\",\"offsetgroup\":\"\",\"orientation\":\"v\",\"showlegend\":false,\"textposition\":\"auto\",\"x\":[\"S001\",\"S002\",\"S004\",\"S009\",\"S010\",\"S011\",\"S012\",\"S013\",\"S014\",\"S015\",\"S016\",\"S017\",\"S018\",\"S019\",\"S020\",\"S021\",\"S022\",\"S023\",\"S024\",\"S025\",\"S026\"],\"xaxis\":\"x\",\"y\":[10891.368523239349,10498.047968056842,30065.51550946249,92508.60291077392,32629.18190258057,37243.58672497454,5608.197885927566,24012.009208501244,89953.90242955122,40792.22842524982,19136.09498117864,5559.252632838611,7948.551835651611,5560.460996858862,7958.09163648056,5560.460996858862,7958.09163648056,210.30079600776787,988.0369377716878,221.39177452792487,1080.370298474677],\"yaxis\":\"y\",\"type\":\"bar\"}],                        {\"template\":{\"data\":{\"barpolar\":[{\"marker\":{\"line\":{\"color\":\"#E5ECF6\",\"width\":0.5},\"pattern\":{\"fillmode\":\"overlay\",\"size\":10,\"solidity\":0.2}},\"type\":\"barpolar\"}],\"bar\":[{\"error_x\":{\"color\":\"#2a3f5f\"},\"error_y\":{\"color\":\"#2a3f5f\"},\"marker\":{\"line\":{\"color\":\"#E5ECF6\",\"width\":0.5},\"pattern\":{\"fillmode\":\"overlay\",\"size\":10,\"solidity\":0.2}},\"type\":\"bar\"}],\"carpet\":[{\"aaxis\":{\"endlinecolor\":\"#2a3f5f\",\"gridcolor\":\"white\",\"linecolor\":\"white\",\"minorgridcolor\":\"white\",\"startlinecolor\":\"#2a3f5f\"},\"baxis\":{\"endlinecolor\":\"#2a3f5f\",\"gridcolor\":\"white\",\"linecolor\":\"white\",\"minorgridcolor\":\"white\",\"startlinecolor\":\"#2a3f5f\"},\"type\":\"carpet\"}],\"choropleth\":[{\"colorbar\":{\"outlinewidth\":0,\"ticks\":\"\"},\"type\":\"choropleth\"}],\"contourcarpet\":[{\"colorbar\":{\"outlinewidth\":0,\"ticks\":\"\"},\"type\":\"contourcarpet\"}],\"contour\":[{\"colorbar\":{\"outlinewidth\":0,\"ticks\":\"\"},\"colorscale\":[[0.0,\"#0d0887\"],[0.1111111111111111,\"#46039f\"],[0.2222222222222222,\"#7201a8\"],[0.3333333333333333,\"#9c179e\"],[0.4444444444444444,\"#bd3786\"],[0.5555555555555556,\"#d8576b\"],[0.6666666666666666,\"#ed7953\"],[0.7777777777777778,\"#fb9f3a\"],[0.8888888888888888,\"#fdca26\"],[1.0,\"#f0f921\"]],\"type\":\"contour\"}],\"heatmapgl\":[{\"colorbar\":{\"outlinewidth\":0,\"ticks\":\"\"},\"colorscale\":[[0.0,\"#0d0887\"],[0.1111111111111111,\"#46039f\"],[0.2222222222222222,\"#7201a8\"],[0.3333333333333333,\"#9c179e\"],[0.4444444444444444,\"#bd3786\"],[0.5555555555555556,\"#d8576b\"],[0.6666666666666666,\"#ed7953\"],[0.7777777777777778,\"#fb9f3a\"],[0.8888888888888888,\"#fdca26\"],[1.0,\"#f0f921\"]],\"type\":\"heatmapgl\"}],\"heatmap\":[{\"colorbar\":{\"outlinewidth\":0,\"ticks\":\"\"},\"colorscale\":[[0.0,\"#0d0887\"],[0.1111111111111111,\"#46039f\"],[0.2222222222222222,\"#7201a8\"],[0.3333333333333333,\"#9c179e\"],[0.4444444444444444,\"#bd3786\"],[0.5555555555555556,\"#d8576b\"],[0.6666666666666666,\"#ed7953\"],[0.7777777777777778,\"#fb9f3a\"],[0.8888888888888888,\"#fdca26\"],[1.0,\"#f0f921\"]],\"type\":\"heatmap\"}],\"histogram2dcontour\":[{\"colorbar\":{\"outlinewidth\":0,\"ticks\":\"\"},\"colorscale\":[[0.0,\"#0d0887\"],[0.1111111111111111,\"#46039f\"],[0.2222222222222222,\"#7201a8\"],[0.3333333333333333,\"#9c179e\"],[0.4444444444444444,\"#bd3786\"],[0.5555555555555556,\"#d8576b\"],[0.6666666666666666,\"#ed7953\"],[0.7777777777777778,\"#fb9f3a\"],[0.8888888888888888,\"#fdca26\"],[1.0,\"#f0f921\"]],\"type\":\"histogram2dcontour\"}],\"histogram2d\":[{\"colorbar\":{\"outlinewidth\":0,\"ticks\":\"\"},\"colorscale\":[[0.0,\"#0d0887\"],[0.1111111111111111,\"#46039f\"],[0.2222222222222222,\"#7201a8\"],[0.3333333333333333,\"#9c179e\"],[0.4444444444444444,\"#bd3786\"],[0.5555555555555556,\"#d8576b\"],[0.6666666666666666,\"#ed7953\"],[0.7777777777777778,\"#fb9f3a\"],[0.8888888888888888,\"#fdca26\"],[1.0,\"#f0f921\"]],\"type\":\"histogram2d\"}],\"histogram\":[{\"marker\":{\"pattern\":{\"fillmode\":\"overlay\",\"size\":10,\"solidity\":0.2}},\"type\":\"histogram\"}],\"mesh3d\":[{\"colorbar\":{\"outlinewidth\":0,\"ticks\":\"\"},\"type\":\"mesh3d\"}],\"parcoords\":[{\"line\":{\"colorbar\":{\"outlinewidth\":0,\"ticks\":\"\"}},\"type\":\"parcoords\"}],\"pie\":[{\"automargin\":true,\"type\":\"pie\"}],\"scatter3d\":[{\"line\":{\"colorbar\":{\"outlinewidth\":0,\"ticks\":\"\"}},\"marker\":{\"colorbar\":{\"outlinewidth\":0,\"ticks\":\"\"}},\"type\":\"scatter3d\"}],\"scattercarpet\":[{\"marker\":{\"colorbar\":{\"outlinewidth\":0,\"ticks\":\"\"}},\"type\":\"scattercarpet\"}],\"scattergeo\":[{\"marker\":{\"colorbar\":{\"outlinewidth\":0,\"ticks\":\"\"}},\"type\":\"scattergeo\"}],\"scattergl\":[{\"marker\":{\"colorbar\":{\"outlinewidth\":0,\"ticks\":\"\"}},\"type\":\"scattergl\"}],\"scattermapbox\":[{\"marker\":{\"colorbar\":{\"outlinewidth\":0,\"ticks\":\"\"}},\"type\":\"scattermapbox\"}],\"scatterpolargl\":[{\"marker\":{\"colorbar\":{\"outlinewidth\":0,\"ticks\":\"\"}},\"type\":\"scatterpolargl\"}],\"scatterpolar\":[{\"marker\":{\"colorbar\":{\"outlinewidth\":0,\"ticks\":\"\"}},\"type\":\"scatterpolar\"}],\"scatter\":[{\"fillpattern\":{\"fillmode\":\"overlay\",\"size\":10,\"solidity\":0.2},\"type\":\"scatter\"}],\"scatterternary\":[{\"marker\":{\"colorbar\":{\"outlinewidth\":0,\"ticks\":\"\"}},\"type\":\"scatterternary\"}],\"surface\":[{\"colorbar\":{\"outlinewidth\":0,\"ticks\":\"\"},\"colorscale\":[[0.0,\"#0d0887\"],[0.1111111111111111,\"#46039f\"],[0.2222222222222222,\"#7201a8\"],[0.3333333333333333,\"#9c179e\"],[0.4444444444444444,\"#bd3786\"],[0.5555555555555556,\"#d8576b\"],[0.6666666666666666,\"#ed7953\"],[0.7777777777777778,\"#fb9f3a\"],[0.8888888888888888,\"#fdca26\"],[1.0,\"#f0f921\"]],\"type\":\"surface\"}],\"table\":[{\"cells\":{\"fill\":{\"color\":\"#EBF0F8\"},\"line\":{\"color\":\"white\"}},\"header\":{\"fill\":{\"color\":\"#C8D4E3\"},\"line\":{\"color\":\"white\"}},\"type\":\"table\"}]},\"layout\":{\"annotationdefaults\":{\"arrowcolor\":\"#2a3f5f\",\"arrowhead\":0,\"arrowwidth\":1},\"autotypenumbers\":\"strict\",\"coloraxis\":{\"colorbar\":{\"outlinewidth\":0,\"ticks\":\"\"}},\"colorscale\":{\"diverging\":[[0,\"#8e0152\"],[0.1,\"#c51b7d\"],[0.2,\"#de77ae\"],[0.3,\"#f1b6da\"],[0.4,\"#fde0ef\"],[0.5,\"#f7f7f7\"],[0.6,\"#e6f5d0\"],[0.7,\"#b8e186\"],[0.8,\"#7fbc41\"],[0.9,\"#4d9221\"],[1,\"#276419\"]],\"sequential\":[[0.0,\"#0d0887\"],[0.1111111111111111,\"#46039f\"],[0.2222222222222222,\"#7201a8\"],[0.3333333333333333,\"#9c179e\"],[0.4444444444444444,\"#bd3786\"],[0.5555555555555556,\"#d8576b\"],[0.6666666666666666,\"#ed7953\"],[0.7777777777777778,\"#fb9f3a\"],[0.8888888888888888,\"#fdca26\"],[1.0,\"#f0f921\"]],\"sequentialminus\":[[0.0,\"#0d0887\"],[0.1111111111111111,\"#46039f\"],[0.2222222222222222,\"#7201a8\"],[0.3333333333333333,\"#9c179e\"],[0.4444444444444444,\"#bd3786\"],[0.5555555555555556,\"#d8576b\"],[0.6666666666666666,\"#ed7953\"],[0.7777777777777778,\"#fb9f3a\"],[0.8888888888888888,\"#fdca26\"],[1.0,\"#f0f921\"]]},\"colorway\":[\"#636efa\",\"#EF553B\",\"#00cc96\",\"#ab63fa\",\"#FFA15A\",\"#19d3f3\",\"#FF6692\",\"#B6E880\",\"#FF97FF\",\"#FECB52\"],\"font\":{\"color\":\"#2a3f5f\"},\"geo\":{\"bgcolor\":\"white\",\"lakecolor\":\"white\",\"landcolor\":\"#E5ECF6\",\"showlakes\":true,\"showland\":true,\"subunitcolor\":\"white\"},\"hoverlabel\":{\"align\":\"left\"},\"hovermode\":\"closest\",\"mapbox\":{\"style\":\"light\"},\"paper_bgcolor\":\"white\",\"plot_bgcolor\":\"#E5ECF6\",\"polar\":{\"angularaxis\":{\"gridcolor\":\"white\",\"linecolor\":\"white\",\"ticks\":\"\"},\"bgcolor\":\"#E5ECF6\",\"radialaxis\":{\"gridcolor\":\"white\",\"linecolor\":\"white\",\"ticks\":\"\"}},\"scene\":{\"xaxis\":{\"backgroundcolor\":\"#E5ECF6\",\"gridcolor\":\"white\",\"gridwidth\":2,\"linecolor\":\"white\",\"showbackground\":true,\"ticks\":\"\",\"zerolinecolor\":\"white\"},\"yaxis\":{\"backgroundcolor\":\"#E5ECF6\",\"gridcolor\":\"white\",\"gridwidth\":2,\"linecolor\":\"white\",\"showbackground\":true,\"ticks\":\"\",\"zerolinecolor\":\"white\"},\"zaxis\":{\"backgroundcolor\":\"#E5ECF6\",\"gridcolor\":\"white\",\"gridwidth\":2,\"linecolor\":\"white\",\"showbackground\":true,\"ticks\":\"\",\"zerolinecolor\":\"white\"}},\"shapedefaults\":{\"line\":{\"color\":\"#2a3f5f\"}},\"ternary\":{\"aaxis\":{\"gridcolor\":\"white\",\"linecolor\":\"white\",\"ticks\":\"\"},\"baxis\":{\"gridcolor\":\"white\",\"linecolor\":\"white\",\"ticks\":\"\"},\"bgcolor\":\"#E5ECF6\",\"caxis\":{\"gridcolor\":\"white\",\"linecolor\":\"white\",\"ticks\":\"\"}},\"title\":{\"x\":0.05},\"xaxis\":{\"automargin\":true,\"gridcolor\":\"white\",\"linecolor\":\"white\",\"ticks\":\"\",\"title\":{\"standoff\":15},\"zerolinecolor\":\"white\",\"zerolinewidth\":2},\"yaxis\":{\"automargin\":true,\"gridcolor\":\"white\",\"linecolor\":\"white\",\"ticks\":\"\",\"title\":{\"standoff\":15},\"zerolinecolor\":\"white\",\"zerolinewidth\":2}}},\"xaxis\":{\"anchor\":\"y\",\"domain\":[0.0,1.0],\"title\":{\"text\":\"id_s\"}},\"yaxis\":{\"anchor\":\"x\",\"domain\":[0.0,1.0],\"title\":{\"text\":\"rom_rmse\"}},\"legend\":{\"tracegroupgap\":0},\"title\":{\"text\":\"Hand Velocity ROM RMSE, cad = 78.96\"},\"barmode\":\"relative\",\"shapes\":[{\"line\":{\"color\":\"red\",\"dash\":\"dash\"},\"name\":\"CAD\",\"type\":\"line\",\"x0\":0,\"x1\":1,\"xref\":\"x domain\",\"y0\":78.96,\"y1\":78.96,\"yref\":\"y\"}]},                        {\"responsive\": true}                    ).then(function(){\n",
       "                            \n",
       "var gd = document.getElementById('1df7bdbd-11bc-415e-9456-e70cd6f52097');\n",
       "var x = new MutationObserver(function (mutations, observer) {{\n",
       "        var display = window.getComputedStyle(gd).display;\n",
       "        if (!display || display === 'none') {{\n",
       "            console.log([gd, 'removed!']);\n",
       "            Plotly.purge(gd);\n",
       "            observer.disconnect();\n",
       "        }}\n",
       "}});\n",
       "\n",
       "// Listen for the removal of the full notebook cells\n",
       "var notebookContainer = gd.closest('#notebook-container');\n",
       "if (notebookContainer) {{\n",
       "    x.observe(notebookContainer, {childList: true});\n",
       "}}\n",
       "\n",
       "// Listen for the clearing of the current output cell\n",
       "var outputEl = gd.closest('.output');\n",
       "if (outputEl) {{\n",
       "    x.observe(outputEl, {childList: true});\n",
       "}}\n",
       "\n",
       "                        })                };                });            </script>        </div>"
      ]
     },
     "metadata": {},
     "output_type": "display_data"
    },
    {
     "data": {
      "application/vnd.plotly.v1+json": {
       "data": [
        {
         "alignmentgroup": "True",
         "hovertemplate": "id_s=%{x}<br>rom_rmse=%{y}<extra></extra>",
         "legendgroup": "",
         "marker": {
          "color": "#636efa",
          "pattern": {
           "shape": ""
          }
         },
         "name": "",
         "offsetgroup": "",
         "orientation": "v",
         "showlegend": false,
         "textposition": "auto",
         "x": [
          "S001",
          "S002",
          "S004",
          "S009",
          "S010",
          "S011",
          "S012",
          "S013",
          "S014",
          "S015",
          "S016",
          "S017",
          "S018",
          "S019",
          "S020",
          "S021",
          "S022",
          "S023",
          "S024",
          "S025",
          "S026"
         ],
         "xaxis": "x",
         "y": [
          3.992229084275999,
          4.143991700097822,
          5.391019629480951,
          12.15230670024387,
          34.870344180450026,
          11.328035310390437,
          4.2253698486447195,
          6.1778814480417354,
          7.117421834879796,
          8.29128439478467,
          10.892150583894475,
          1.4711599468973284,
          2.46078347240378,
          1.471634986719937,
          2.4618622736746496,
          1.471634986719937,
          2.4618622736746496,
          1.3579412487590128,
          1.3465432543918956,
          1.3078095744720273,
          1.2881469089888107
         ],
         "yaxis": "y",
         "type": "bar"
        }
       ],
       "layout": {
        "template": {
         "data": {
          "barpolar": [
           {
            "marker": {
             "line": {
              "color": "#E5ECF6",
              "width": 0.5
             },
             "pattern": {
              "fillmode": "overlay",
              "size": 10,
              "solidity": 0.2
             }
            },
            "type": "barpolar"
           }
          ],
          "bar": [
           {
            "error_x": {
             "color": "#2a3f5f"
            },
            "error_y": {
             "color": "#2a3f5f"
            },
            "marker": {
             "line": {
              "color": "#E5ECF6",
              "width": 0.5
             },
             "pattern": {
              "fillmode": "overlay",
              "size": 10,
              "solidity": 0.2
             }
            },
            "type": "bar"
           }
          ],
          "carpet": [
           {
            "aaxis": {
             "endlinecolor": "#2a3f5f",
             "gridcolor": "white",
             "linecolor": "white",
             "minorgridcolor": "white",
             "startlinecolor": "#2a3f5f"
            },
            "baxis": {
             "endlinecolor": "#2a3f5f",
             "gridcolor": "white",
             "linecolor": "white",
             "minorgridcolor": "white",
             "startlinecolor": "#2a3f5f"
            },
            "type": "carpet"
           }
          ],
          "choropleth": [
           {
            "colorbar": {
             "outlinewidth": 0,
             "ticks": ""
            },
            "type": "choropleth"
           }
          ],
          "contourcarpet": [
           {
            "colorbar": {
             "outlinewidth": 0,
             "ticks": ""
            },
            "type": "contourcarpet"
           }
          ],
          "contour": [
           {
            "colorbar": {
             "outlinewidth": 0,
             "ticks": ""
            },
            "colorscale": [
             [
              0.0,
              "#0d0887"
             ],
             [
              0.1111111111111111,
              "#46039f"
             ],
             [
              0.2222222222222222,
              "#7201a8"
             ],
             [
              0.3333333333333333,
              "#9c179e"
             ],
             [
              0.4444444444444444,
              "#bd3786"
             ],
             [
              0.5555555555555556,
              "#d8576b"
             ],
             [
              0.6666666666666666,
              "#ed7953"
             ],
             [
              0.7777777777777778,
              "#fb9f3a"
             ],
             [
              0.8888888888888888,
              "#fdca26"
             ],
             [
              1.0,
              "#f0f921"
             ]
            ],
            "type": "contour"
           }
          ],
          "heatmapgl": [
           {
            "colorbar": {
             "outlinewidth": 0,
             "ticks": ""
            },
            "colorscale": [
             [
              0.0,
              "#0d0887"
             ],
             [
              0.1111111111111111,
              "#46039f"
             ],
             [
              0.2222222222222222,
              "#7201a8"
             ],
             [
              0.3333333333333333,
              "#9c179e"
             ],
             [
              0.4444444444444444,
              "#bd3786"
             ],
             [
              0.5555555555555556,
              "#d8576b"
             ],
             [
              0.6666666666666666,
              "#ed7953"
             ],
             [
              0.7777777777777778,
              "#fb9f3a"
             ],
             [
              0.8888888888888888,
              "#fdca26"
             ],
             [
              1.0,
              "#f0f921"
             ]
            ],
            "type": "heatmapgl"
           }
          ],
          "heatmap": [
           {
            "colorbar": {
             "outlinewidth": 0,
             "ticks": ""
            },
            "colorscale": [
             [
              0.0,
              "#0d0887"
             ],
             [
              0.1111111111111111,
              "#46039f"
             ],
             [
              0.2222222222222222,
              "#7201a8"
             ],
             [
              0.3333333333333333,
              "#9c179e"
             ],
             [
              0.4444444444444444,
              "#bd3786"
             ],
             [
              0.5555555555555556,
              "#d8576b"
             ],
             [
              0.6666666666666666,
              "#ed7953"
             ],
             [
              0.7777777777777778,
              "#fb9f3a"
             ],
             [
              0.8888888888888888,
              "#fdca26"
             ],
             [
              1.0,
              "#f0f921"
             ]
            ],
            "type": "heatmap"
           }
          ],
          "histogram2dcontour": [
           {
            "colorbar": {
             "outlinewidth": 0,
             "ticks": ""
            },
            "colorscale": [
             [
              0.0,
              "#0d0887"
             ],
             [
              0.1111111111111111,
              "#46039f"
             ],
             [
              0.2222222222222222,
              "#7201a8"
             ],
             [
              0.3333333333333333,
              "#9c179e"
             ],
             [
              0.4444444444444444,
              "#bd3786"
             ],
             [
              0.5555555555555556,
              "#d8576b"
             ],
             [
              0.6666666666666666,
              "#ed7953"
             ],
             [
              0.7777777777777778,
              "#fb9f3a"
             ],
             [
              0.8888888888888888,
              "#fdca26"
             ],
             [
              1.0,
              "#f0f921"
             ]
            ],
            "type": "histogram2dcontour"
           }
          ],
          "histogram2d": [
           {
            "colorbar": {
             "outlinewidth": 0,
             "ticks": ""
            },
            "colorscale": [
             [
              0.0,
              "#0d0887"
             ],
             [
              0.1111111111111111,
              "#46039f"
             ],
             [
              0.2222222222222222,
              "#7201a8"
             ],
             [
              0.3333333333333333,
              "#9c179e"
             ],
             [
              0.4444444444444444,
              "#bd3786"
             ],
             [
              0.5555555555555556,
              "#d8576b"
             ],
             [
              0.6666666666666666,
              "#ed7953"
             ],
             [
              0.7777777777777778,
              "#fb9f3a"
             ],
             [
              0.8888888888888888,
              "#fdca26"
             ],
             [
              1.0,
              "#f0f921"
             ]
            ],
            "type": "histogram2d"
           }
          ],
          "histogram": [
           {
            "marker": {
             "pattern": {
              "fillmode": "overlay",
              "size": 10,
              "solidity": 0.2
             }
            },
            "type": "histogram"
           }
          ],
          "mesh3d": [
           {
            "colorbar": {
             "outlinewidth": 0,
             "ticks": ""
            },
            "type": "mesh3d"
           }
          ],
          "parcoords": [
           {
            "line": {
             "colorbar": {
              "outlinewidth": 0,
              "ticks": ""
             }
            },
            "type": "parcoords"
           }
          ],
          "pie": [
           {
            "automargin": true,
            "type": "pie"
           }
          ],
          "scatter3d": [
           {
            "line": {
             "colorbar": {
              "outlinewidth": 0,
              "ticks": ""
             }
            },
            "marker": {
             "colorbar": {
              "outlinewidth": 0,
              "ticks": ""
             }
            },
            "type": "scatter3d"
           }
          ],
          "scattercarpet": [
           {
            "marker": {
             "colorbar": {
              "outlinewidth": 0,
              "ticks": ""
             }
            },
            "type": "scattercarpet"
           }
          ],
          "scattergeo": [
           {
            "marker": {
             "colorbar": {
              "outlinewidth": 0,
              "ticks": ""
             }
            },
            "type": "scattergeo"
           }
          ],
          "scattergl": [
           {
            "marker": {
             "colorbar": {
              "outlinewidth": 0,
              "ticks": ""
             }
            },
            "type": "scattergl"
           }
          ],
          "scattermapbox": [
           {
            "marker": {
             "colorbar": {
              "outlinewidth": 0,
              "ticks": ""
             }
            },
            "type": "scattermapbox"
           }
          ],
          "scatterpolargl": [
           {
            "marker": {
             "colorbar": {
              "outlinewidth": 0,
              "ticks": ""
             }
            },
            "type": "scatterpolargl"
           }
          ],
          "scatterpolar": [
           {
            "marker": {
             "colorbar": {
              "outlinewidth": 0,
              "ticks": ""
             }
            },
            "type": "scatterpolar"
           }
          ],
          "scatter": [
           {
            "fillpattern": {
             "fillmode": "overlay",
             "size": 10,
             "solidity": 0.2
            },
            "type": "scatter"
           }
          ],
          "scatterternary": [
           {
            "marker": {
             "colorbar": {
              "outlinewidth": 0,
              "ticks": ""
             }
            },
            "type": "scatterternary"
           }
          ],
          "surface": [
           {
            "colorbar": {
             "outlinewidth": 0,
             "ticks": ""
            },
            "colorscale": [
             [
              0.0,
              "#0d0887"
             ],
             [
              0.1111111111111111,
              "#46039f"
             ],
             [
              0.2222222222222222,
              "#7201a8"
             ],
             [
              0.3333333333333333,
              "#9c179e"
             ],
             [
              0.4444444444444444,
              "#bd3786"
             ],
             [
              0.5555555555555556,
              "#d8576b"
             ],
             [
              0.6666666666666666,
              "#ed7953"
             ],
             [
              0.7777777777777778,
              "#fb9f3a"
             ],
             [
              0.8888888888888888,
              "#fdca26"
             ],
             [
              1.0,
              "#f0f921"
             ]
            ],
            "type": "surface"
           }
          ],
          "table": [
           {
            "cells": {
             "fill": {
              "color": "#EBF0F8"
             },
             "line": {
              "color": "white"
             }
            },
            "header": {
             "fill": {
              "color": "#C8D4E3"
             },
             "line": {
              "color": "white"
             }
            },
            "type": "table"
           }
          ]
         },
         "layout": {
          "annotationdefaults": {
           "arrowcolor": "#2a3f5f",
           "arrowhead": 0,
           "arrowwidth": 1
          },
          "autotypenumbers": "strict",
          "coloraxis": {
           "colorbar": {
            "outlinewidth": 0,
            "ticks": ""
           }
          },
          "colorscale": {
           "diverging": [
            [
             0,
             "#8e0152"
            ],
            [
             0.1,
             "#c51b7d"
            ],
            [
             0.2,
             "#de77ae"
            ],
            [
             0.3,
             "#f1b6da"
            ],
            [
             0.4,
             "#fde0ef"
            ],
            [
             0.5,
             "#f7f7f7"
            ],
            [
             0.6,
             "#e6f5d0"
            ],
            [
             0.7,
             "#b8e186"
            ],
            [
             0.8,
             "#7fbc41"
            ],
            [
             0.9,
             "#4d9221"
            ],
            [
             1,
             "#276419"
            ]
           ],
           "sequential": [
            [
             0.0,
             "#0d0887"
            ],
            [
             0.1111111111111111,
             "#46039f"
            ],
            [
             0.2222222222222222,
             "#7201a8"
            ],
            [
             0.3333333333333333,
             "#9c179e"
            ],
            [
             0.4444444444444444,
             "#bd3786"
            ],
            [
             0.5555555555555556,
             "#d8576b"
            ],
            [
             0.6666666666666666,
             "#ed7953"
            ],
            [
             0.7777777777777778,
             "#fb9f3a"
            ],
            [
             0.8888888888888888,
             "#fdca26"
            ],
            [
             1.0,
             "#f0f921"
            ]
           ],
           "sequentialminus": [
            [
             0.0,
             "#0d0887"
            ],
            [
             0.1111111111111111,
             "#46039f"
            ],
            [
             0.2222222222222222,
             "#7201a8"
            ],
            [
             0.3333333333333333,
             "#9c179e"
            ],
            [
             0.4444444444444444,
             "#bd3786"
            ],
            [
             0.5555555555555556,
             "#d8576b"
            ],
            [
             0.6666666666666666,
             "#ed7953"
            ],
            [
             0.7777777777777778,
             "#fb9f3a"
            ],
            [
             0.8888888888888888,
             "#fdca26"
            ],
            [
             1.0,
             "#f0f921"
            ]
           ]
          },
          "colorway": [
           "#636efa",
           "#EF553B",
           "#00cc96",
           "#ab63fa",
           "#FFA15A",
           "#19d3f3",
           "#FF6692",
           "#B6E880",
           "#FF97FF",
           "#FECB52"
          ],
          "font": {
           "color": "#2a3f5f"
          },
          "geo": {
           "bgcolor": "white",
           "lakecolor": "white",
           "landcolor": "#E5ECF6",
           "showlakes": true,
           "showland": true,
           "subunitcolor": "white"
          },
          "hoverlabel": {
           "align": "left"
          },
          "hovermode": "closest",
          "mapbox": {
           "style": "light"
          },
          "paper_bgcolor": "white",
          "plot_bgcolor": "#E5ECF6",
          "polar": {
           "angularaxis": {
            "gridcolor": "white",
            "linecolor": "white",
            "ticks": ""
           },
           "bgcolor": "#E5ECF6",
           "radialaxis": {
            "gridcolor": "white",
            "linecolor": "white",
            "ticks": ""
           }
          },
          "scene": {
           "xaxis": {
            "backgroundcolor": "#E5ECF6",
            "gridcolor": "white",
            "gridwidth": 2,
            "linecolor": "white",
            "showbackground": true,
            "ticks": "",
            "zerolinecolor": "white"
           },
           "yaxis": {
            "backgroundcolor": "#E5ECF6",
            "gridcolor": "white",
            "gridwidth": 2,
            "linecolor": "white",
            "showbackground": true,
            "ticks": "",
            "zerolinecolor": "white"
           },
           "zaxis": {
            "backgroundcolor": "#E5ECF6",
            "gridcolor": "white",
            "gridwidth": 2,
            "linecolor": "white",
            "showbackground": true,
            "ticks": "",
            "zerolinecolor": "white"
           }
          },
          "shapedefaults": {
           "line": {
            "color": "#2a3f5f"
           }
          },
          "ternary": {
           "aaxis": {
            "gridcolor": "white",
            "linecolor": "white",
            "ticks": ""
           },
           "baxis": {
            "gridcolor": "white",
            "linecolor": "white",
            "ticks": ""
           },
           "bgcolor": "#E5ECF6",
           "caxis": {
            "gridcolor": "white",
            "linecolor": "white",
            "ticks": ""
           }
          },
          "title": {
           "x": 0.05
          },
          "xaxis": {
           "automargin": true,
           "gridcolor": "white",
           "linecolor": "white",
           "ticks": "",
           "title": {
            "standoff": 15
           },
           "zerolinecolor": "white",
           "zerolinewidth": 2
          },
          "yaxis": {
           "automargin": true,
           "gridcolor": "white",
           "linecolor": "white",
           "ticks": "",
           "title": {
            "standoff": 15
           },
           "zerolinecolor": "white",
           "zerolinewidth": 2
          }
         }
        },
        "xaxis": {
         "anchor": "y",
         "domain": [
          0.0,
          1.0
         ],
         "title": {
          "text": "id_s"
         }
        },
        "yaxis": {
         "anchor": "x",
         "domain": [
          0.0,
          1.0
         ],
         "title": {
          "text": "rom_rmse"
         }
        },
        "legend": {
         "tracegroupgap": 0
        },
        "title": {
         "text": "Elbow Velocity ROM RMSE, cad = 21.71"
        },
        "barmode": "relative",
        "shapes": [
         {
          "line": {
           "color": "red",
           "dash": "dash"
          },
          "name": "CAD",
          "type": "line",
          "x0": 0,
          "x1": 1,
          "xref": "x domain",
          "y0": 21.71,
          "y1": 21.71,
          "yref": "y"
         }
        ]
       },
       "config": {
        "plotlyServerURL": "https://plot.ly"
       }
      },
      "text/html": [
       "<div>                            <div id=\"cefc769b-5dfc-487d-af80-44be92a7c4be\" class=\"plotly-graph-div\" style=\"height:525px; width:100%;\"></div>            <script type=\"text/javascript\">                require([\"plotly\"], function(Plotly) {                    window.PLOTLYENV=window.PLOTLYENV || {};                                    if (document.getElementById(\"cefc769b-5dfc-487d-af80-44be92a7c4be\")) {                    Plotly.newPlot(                        \"cefc769b-5dfc-487d-af80-44be92a7c4be\",                        [{\"alignmentgroup\":\"True\",\"hovertemplate\":\"id_s=%{x}\\u003cbr\\u003erom_rmse=%{y}\\u003cextra\\u003e\\u003c\\u002fextra\\u003e\",\"legendgroup\":\"\",\"marker\":{\"color\":\"#636efa\",\"pattern\":{\"shape\":\"\"}},\"name\":\"\",\"offsetgroup\":\"\",\"orientation\":\"v\",\"showlegend\":false,\"textposition\":\"auto\",\"x\":[\"S001\",\"S002\",\"S004\",\"S009\",\"S010\",\"S011\",\"S012\",\"S013\",\"S014\",\"S015\",\"S016\",\"S017\",\"S018\",\"S019\",\"S020\",\"S021\",\"S022\",\"S023\",\"S024\",\"S025\",\"S026\"],\"xaxis\":\"x\",\"y\":[3.992229084275999,4.143991700097822,5.391019629480951,12.15230670024387,34.870344180450026,11.328035310390437,4.2253698486447195,6.1778814480417354,7.117421834879796,8.29128439478467,10.892150583894475,1.4711599468973284,2.46078347240378,1.471634986719937,2.4618622736746496,1.471634986719937,2.4618622736746496,1.3579412487590128,1.3465432543918956,1.3078095744720273,1.2881469089888107],\"yaxis\":\"y\",\"type\":\"bar\"}],                        {\"template\":{\"data\":{\"barpolar\":[{\"marker\":{\"line\":{\"color\":\"#E5ECF6\",\"width\":0.5},\"pattern\":{\"fillmode\":\"overlay\",\"size\":10,\"solidity\":0.2}},\"type\":\"barpolar\"}],\"bar\":[{\"error_x\":{\"color\":\"#2a3f5f\"},\"error_y\":{\"color\":\"#2a3f5f\"},\"marker\":{\"line\":{\"color\":\"#E5ECF6\",\"width\":0.5},\"pattern\":{\"fillmode\":\"overlay\",\"size\":10,\"solidity\":0.2}},\"type\":\"bar\"}],\"carpet\":[{\"aaxis\":{\"endlinecolor\":\"#2a3f5f\",\"gridcolor\":\"white\",\"linecolor\":\"white\",\"minorgridcolor\":\"white\",\"startlinecolor\":\"#2a3f5f\"},\"baxis\":{\"endlinecolor\":\"#2a3f5f\",\"gridcolor\":\"white\",\"linecolor\":\"white\",\"minorgridcolor\":\"white\",\"startlinecolor\":\"#2a3f5f\"},\"type\":\"carpet\"}],\"choropleth\":[{\"colorbar\":{\"outlinewidth\":0,\"ticks\":\"\"},\"type\":\"choropleth\"}],\"contourcarpet\":[{\"colorbar\":{\"outlinewidth\":0,\"ticks\":\"\"},\"type\":\"contourcarpet\"}],\"contour\":[{\"colorbar\":{\"outlinewidth\":0,\"ticks\":\"\"},\"colorscale\":[[0.0,\"#0d0887\"],[0.1111111111111111,\"#46039f\"],[0.2222222222222222,\"#7201a8\"],[0.3333333333333333,\"#9c179e\"],[0.4444444444444444,\"#bd3786\"],[0.5555555555555556,\"#d8576b\"],[0.6666666666666666,\"#ed7953\"],[0.7777777777777778,\"#fb9f3a\"],[0.8888888888888888,\"#fdca26\"],[1.0,\"#f0f921\"]],\"type\":\"contour\"}],\"heatmapgl\":[{\"colorbar\":{\"outlinewidth\":0,\"ticks\":\"\"},\"colorscale\":[[0.0,\"#0d0887\"],[0.1111111111111111,\"#46039f\"],[0.2222222222222222,\"#7201a8\"],[0.3333333333333333,\"#9c179e\"],[0.4444444444444444,\"#bd3786\"],[0.5555555555555556,\"#d8576b\"],[0.6666666666666666,\"#ed7953\"],[0.7777777777777778,\"#fb9f3a\"],[0.8888888888888888,\"#fdca26\"],[1.0,\"#f0f921\"]],\"type\":\"heatmapgl\"}],\"heatmap\":[{\"colorbar\":{\"outlinewidth\":0,\"ticks\":\"\"},\"colorscale\":[[0.0,\"#0d0887\"],[0.1111111111111111,\"#46039f\"],[0.2222222222222222,\"#7201a8\"],[0.3333333333333333,\"#9c179e\"],[0.4444444444444444,\"#bd3786\"],[0.5555555555555556,\"#d8576b\"],[0.6666666666666666,\"#ed7953\"],[0.7777777777777778,\"#fb9f3a\"],[0.8888888888888888,\"#fdca26\"],[1.0,\"#f0f921\"]],\"type\":\"heatmap\"}],\"histogram2dcontour\":[{\"colorbar\":{\"outlinewidth\":0,\"ticks\":\"\"},\"colorscale\":[[0.0,\"#0d0887\"],[0.1111111111111111,\"#46039f\"],[0.2222222222222222,\"#7201a8\"],[0.3333333333333333,\"#9c179e\"],[0.4444444444444444,\"#bd3786\"],[0.5555555555555556,\"#d8576b\"],[0.6666666666666666,\"#ed7953\"],[0.7777777777777778,\"#fb9f3a\"],[0.8888888888888888,\"#fdca26\"],[1.0,\"#f0f921\"]],\"type\":\"histogram2dcontour\"}],\"histogram2d\":[{\"colorbar\":{\"outlinewidth\":0,\"ticks\":\"\"},\"colorscale\":[[0.0,\"#0d0887\"],[0.1111111111111111,\"#46039f\"],[0.2222222222222222,\"#7201a8\"],[0.3333333333333333,\"#9c179e\"],[0.4444444444444444,\"#bd3786\"],[0.5555555555555556,\"#d8576b\"],[0.6666666666666666,\"#ed7953\"],[0.7777777777777778,\"#fb9f3a\"],[0.8888888888888888,\"#fdca26\"],[1.0,\"#f0f921\"]],\"type\":\"histogram2d\"}],\"histogram\":[{\"marker\":{\"pattern\":{\"fillmode\":\"overlay\",\"size\":10,\"solidity\":0.2}},\"type\":\"histogram\"}],\"mesh3d\":[{\"colorbar\":{\"outlinewidth\":0,\"ticks\":\"\"},\"type\":\"mesh3d\"}],\"parcoords\":[{\"line\":{\"colorbar\":{\"outlinewidth\":0,\"ticks\":\"\"}},\"type\":\"parcoords\"}],\"pie\":[{\"automargin\":true,\"type\":\"pie\"}],\"scatter3d\":[{\"line\":{\"colorbar\":{\"outlinewidth\":0,\"ticks\":\"\"}},\"marker\":{\"colorbar\":{\"outlinewidth\":0,\"ticks\":\"\"}},\"type\":\"scatter3d\"}],\"scattercarpet\":[{\"marker\":{\"colorbar\":{\"outlinewidth\":0,\"ticks\":\"\"}},\"type\":\"scattercarpet\"}],\"scattergeo\":[{\"marker\":{\"colorbar\":{\"outlinewidth\":0,\"ticks\":\"\"}},\"type\":\"scattergeo\"}],\"scattergl\":[{\"marker\":{\"colorbar\":{\"outlinewidth\":0,\"ticks\":\"\"}},\"type\":\"scattergl\"}],\"scattermapbox\":[{\"marker\":{\"colorbar\":{\"outlinewidth\":0,\"ticks\":\"\"}},\"type\":\"scattermapbox\"}],\"scatterpolargl\":[{\"marker\":{\"colorbar\":{\"outlinewidth\":0,\"ticks\":\"\"}},\"type\":\"scatterpolargl\"}],\"scatterpolar\":[{\"marker\":{\"colorbar\":{\"outlinewidth\":0,\"ticks\":\"\"}},\"type\":\"scatterpolar\"}],\"scatter\":[{\"fillpattern\":{\"fillmode\":\"overlay\",\"size\":10,\"solidity\":0.2},\"type\":\"scatter\"}],\"scatterternary\":[{\"marker\":{\"colorbar\":{\"outlinewidth\":0,\"ticks\":\"\"}},\"type\":\"scatterternary\"}],\"surface\":[{\"colorbar\":{\"outlinewidth\":0,\"ticks\":\"\"},\"colorscale\":[[0.0,\"#0d0887\"],[0.1111111111111111,\"#46039f\"],[0.2222222222222222,\"#7201a8\"],[0.3333333333333333,\"#9c179e\"],[0.4444444444444444,\"#bd3786\"],[0.5555555555555556,\"#d8576b\"],[0.6666666666666666,\"#ed7953\"],[0.7777777777777778,\"#fb9f3a\"],[0.8888888888888888,\"#fdca26\"],[1.0,\"#f0f921\"]],\"type\":\"surface\"}],\"table\":[{\"cells\":{\"fill\":{\"color\":\"#EBF0F8\"},\"line\":{\"color\":\"white\"}},\"header\":{\"fill\":{\"color\":\"#C8D4E3\"},\"line\":{\"color\":\"white\"}},\"type\":\"table\"}]},\"layout\":{\"annotationdefaults\":{\"arrowcolor\":\"#2a3f5f\",\"arrowhead\":0,\"arrowwidth\":1},\"autotypenumbers\":\"strict\",\"coloraxis\":{\"colorbar\":{\"outlinewidth\":0,\"ticks\":\"\"}},\"colorscale\":{\"diverging\":[[0,\"#8e0152\"],[0.1,\"#c51b7d\"],[0.2,\"#de77ae\"],[0.3,\"#f1b6da\"],[0.4,\"#fde0ef\"],[0.5,\"#f7f7f7\"],[0.6,\"#e6f5d0\"],[0.7,\"#b8e186\"],[0.8,\"#7fbc41\"],[0.9,\"#4d9221\"],[1,\"#276419\"]],\"sequential\":[[0.0,\"#0d0887\"],[0.1111111111111111,\"#46039f\"],[0.2222222222222222,\"#7201a8\"],[0.3333333333333333,\"#9c179e\"],[0.4444444444444444,\"#bd3786\"],[0.5555555555555556,\"#d8576b\"],[0.6666666666666666,\"#ed7953\"],[0.7777777777777778,\"#fb9f3a\"],[0.8888888888888888,\"#fdca26\"],[1.0,\"#f0f921\"]],\"sequentialminus\":[[0.0,\"#0d0887\"],[0.1111111111111111,\"#46039f\"],[0.2222222222222222,\"#7201a8\"],[0.3333333333333333,\"#9c179e\"],[0.4444444444444444,\"#bd3786\"],[0.5555555555555556,\"#d8576b\"],[0.6666666666666666,\"#ed7953\"],[0.7777777777777778,\"#fb9f3a\"],[0.8888888888888888,\"#fdca26\"],[1.0,\"#f0f921\"]]},\"colorway\":[\"#636efa\",\"#EF553B\",\"#00cc96\",\"#ab63fa\",\"#FFA15A\",\"#19d3f3\",\"#FF6692\",\"#B6E880\",\"#FF97FF\",\"#FECB52\"],\"font\":{\"color\":\"#2a3f5f\"},\"geo\":{\"bgcolor\":\"white\",\"lakecolor\":\"white\",\"landcolor\":\"#E5ECF6\",\"showlakes\":true,\"showland\":true,\"subunitcolor\":\"white\"},\"hoverlabel\":{\"align\":\"left\"},\"hovermode\":\"closest\",\"mapbox\":{\"style\":\"light\"},\"paper_bgcolor\":\"white\",\"plot_bgcolor\":\"#E5ECF6\",\"polar\":{\"angularaxis\":{\"gridcolor\":\"white\",\"linecolor\":\"white\",\"ticks\":\"\"},\"bgcolor\":\"#E5ECF6\",\"radialaxis\":{\"gridcolor\":\"white\",\"linecolor\":\"white\",\"ticks\":\"\"}},\"scene\":{\"xaxis\":{\"backgroundcolor\":\"#E5ECF6\",\"gridcolor\":\"white\",\"gridwidth\":2,\"linecolor\":\"white\",\"showbackground\":true,\"ticks\":\"\",\"zerolinecolor\":\"white\"},\"yaxis\":{\"backgroundcolor\":\"#E5ECF6\",\"gridcolor\":\"white\",\"gridwidth\":2,\"linecolor\":\"white\",\"showbackground\":true,\"ticks\":\"\",\"zerolinecolor\":\"white\"},\"zaxis\":{\"backgroundcolor\":\"#E5ECF6\",\"gridcolor\":\"white\",\"gridwidth\":2,\"linecolor\":\"white\",\"showbackground\":true,\"ticks\":\"\",\"zerolinecolor\":\"white\"}},\"shapedefaults\":{\"line\":{\"color\":\"#2a3f5f\"}},\"ternary\":{\"aaxis\":{\"gridcolor\":\"white\",\"linecolor\":\"white\",\"ticks\":\"\"},\"baxis\":{\"gridcolor\":\"white\",\"linecolor\":\"white\",\"ticks\":\"\"},\"bgcolor\":\"#E5ECF6\",\"caxis\":{\"gridcolor\":\"white\",\"linecolor\":\"white\",\"ticks\":\"\"}},\"title\":{\"x\":0.05},\"xaxis\":{\"automargin\":true,\"gridcolor\":\"white\",\"linecolor\":\"white\",\"ticks\":\"\",\"title\":{\"standoff\":15},\"zerolinecolor\":\"white\",\"zerolinewidth\":2},\"yaxis\":{\"automargin\":true,\"gridcolor\":\"white\",\"linecolor\":\"white\",\"ticks\":\"\",\"title\":{\"standoff\":15},\"zerolinecolor\":\"white\",\"zerolinewidth\":2}}},\"xaxis\":{\"anchor\":\"y\",\"domain\":[0.0,1.0],\"title\":{\"text\":\"id_s\"}},\"yaxis\":{\"anchor\":\"x\",\"domain\":[0.0,1.0],\"title\":{\"text\":\"rom_rmse\"}},\"legend\":{\"tracegroupgap\":0},\"title\":{\"text\":\"Elbow Velocity ROM RMSE, cad = 21.71\"},\"barmode\":\"relative\",\"shapes\":[{\"line\":{\"color\":\"red\",\"dash\":\"dash\"},\"name\":\"CAD\",\"type\":\"line\",\"x0\":0,\"x1\":1,\"xref\":\"x domain\",\"y0\":21.71,\"y1\":21.71,\"yref\":\"y\"}]},                        {\"responsive\": true}                    ).then(function(){\n",
       "                            \n",
       "var gd = document.getElementById('cefc769b-5dfc-487d-af80-44be92a7c4be');\n",
       "var x = new MutationObserver(function (mutations, observer) {{\n",
       "        var display = window.getComputedStyle(gd).display;\n",
       "        if (!display || display === 'none') {{\n",
       "            console.log([gd, 'removed!']);\n",
       "            Plotly.purge(gd);\n",
       "            observer.disconnect();\n",
       "        }}\n",
       "}});\n",
       "\n",
       "// Listen for the removal of the full notebook cells\n",
       "var notebookContainer = gd.closest('#notebook-container');\n",
       "if (notebookContainer) {{\n",
       "    x.observe(notebookContainer, {childList: true});\n",
       "}}\n",
       "\n",
       "// Listen for the clearing of the current output cell\n",
       "var outputEl = gd.closest('.output');\n",
       "if (outputEl) {{\n",
       "    x.observe(outputEl, {childList: true});\n",
       "}}\n",
       "\n",
       "                        })                };                });            </script>        </div>"
      ]
     },
     "metadata": {},
     "output_type": "display_data"
    },
    {
     "data": {
      "application/vnd.plotly.v1+json": {
       "data": [
        {
         "alignmentgroup": "True",
         "hovertemplate": "id_s=%{x}<br>rom_rmse=%{y}<extra></extra>",
         "legendgroup": "",
         "marker": {
          "color": "#636efa",
          "pattern": {
           "shape": ""
          }
         },
         "name": "",
         "offsetgroup": "",
         "orientation": "v",
         "showlegend": false,
         "textposition": "auto",
         "x": [
          "S001",
          "S002",
          "S004",
          "S009",
          "S010",
          "S011",
          "S012",
          "S013",
          "S014",
          "S015",
          "S016",
          "S017",
          "S018",
          "S019",
          "S020",
          "S021",
          "S022",
          "S023",
          "S024",
          "S025",
          "S026"
         ],
         "xaxis": "x",
         "y": [
          70.56283051085379,
          22.015125269793707,
          22.064731532745906,
          1054.641526562904,
          81.36946042230898,
          335.381365651994,
          28.497532103434764,
          96.0325885901306,
          272.84828621412896,
          528.2779664543729,
          38.07315005212753,
          79.1150194728379,
          80.4725670851056,
          79.18001116730652,
          80.55616071005328,
          79.18001116730652,
          80.55616071005328,
          37.419691193222256,
          37.71015305562052,
          37.18266172948595,
          37.54813759927644
         ],
         "yaxis": "y",
         "type": "bar"
        }
       ],
       "layout": {
        "template": {
         "data": {
          "barpolar": [
           {
            "marker": {
             "line": {
              "color": "#E5ECF6",
              "width": 0.5
             },
             "pattern": {
              "fillmode": "overlay",
              "size": 10,
              "solidity": 0.2
             }
            },
            "type": "barpolar"
           }
          ],
          "bar": [
           {
            "error_x": {
             "color": "#2a3f5f"
            },
            "error_y": {
             "color": "#2a3f5f"
            },
            "marker": {
             "line": {
              "color": "#E5ECF6",
              "width": 0.5
             },
             "pattern": {
              "fillmode": "overlay",
              "size": 10,
              "solidity": 0.2
             }
            },
            "type": "bar"
           }
          ],
          "carpet": [
           {
            "aaxis": {
             "endlinecolor": "#2a3f5f",
             "gridcolor": "white",
             "linecolor": "white",
             "minorgridcolor": "white",
             "startlinecolor": "#2a3f5f"
            },
            "baxis": {
             "endlinecolor": "#2a3f5f",
             "gridcolor": "white",
             "linecolor": "white",
             "minorgridcolor": "white",
             "startlinecolor": "#2a3f5f"
            },
            "type": "carpet"
           }
          ],
          "choropleth": [
           {
            "colorbar": {
             "outlinewidth": 0,
             "ticks": ""
            },
            "type": "choropleth"
           }
          ],
          "contourcarpet": [
           {
            "colorbar": {
             "outlinewidth": 0,
             "ticks": ""
            },
            "type": "contourcarpet"
           }
          ],
          "contour": [
           {
            "colorbar": {
             "outlinewidth": 0,
             "ticks": ""
            },
            "colorscale": [
             [
              0.0,
              "#0d0887"
             ],
             [
              0.1111111111111111,
              "#46039f"
             ],
             [
              0.2222222222222222,
              "#7201a8"
             ],
             [
              0.3333333333333333,
              "#9c179e"
             ],
             [
              0.4444444444444444,
              "#bd3786"
             ],
             [
              0.5555555555555556,
              "#d8576b"
             ],
             [
              0.6666666666666666,
              "#ed7953"
             ],
             [
              0.7777777777777778,
              "#fb9f3a"
             ],
             [
              0.8888888888888888,
              "#fdca26"
             ],
             [
              1.0,
              "#f0f921"
             ]
            ],
            "type": "contour"
           }
          ],
          "heatmapgl": [
           {
            "colorbar": {
             "outlinewidth": 0,
             "ticks": ""
            },
            "colorscale": [
             [
              0.0,
              "#0d0887"
             ],
             [
              0.1111111111111111,
              "#46039f"
             ],
             [
              0.2222222222222222,
              "#7201a8"
             ],
             [
              0.3333333333333333,
              "#9c179e"
             ],
             [
              0.4444444444444444,
              "#bd3786"
             ],
             [
              0.5555555555555556,
              "#d8576b"
             ],
             [
              0.6666666666666666,
              "#ed7953"
             ],
             [
              0.7777777777777778,
              "#fb9f3a"
             ],
             [
              0.8888888888888888,
              "#fdca26"
             ],
             [
              1.0,
              "#f0f921"
             ]
            ],
            "type": "heatmapgl"
           }
          ],
          "heatmap": [
           {
            "colorbar": {
             "outlinewidth": 0,
             "ticks": ""
            },
            "colorscale": [
             [
              0.0,
              "#0d0887"
             ],
             [
              0.1111111111111111,
              "#46039f"
             ],
             [
              0.2222222222222222,
              "#7201a8"
             ],
             [
              0.3333333333333333,
              "#9c179e"
             ],
             [
              0.4444444444444444,
              "#bd3786"
             ],
             [
              0.5555555555555556,
              "#d8576b"
             ],
             [
              0.6666666666666666,
              "#ed7953"
             ],
             [
              0.7777777777777778,
              "#fb9f3a"
             ],
             [
              0.8888888888888888,
              "#fdca26"
             ],
             [
              1.0,
              "#f0f921"
             ]
            ],
            "type": "heatmap"
           }
          ],
          "histogram2dcontour": [
           {
            "colorbar": {
             "outlinewidth": 0,
             "ticks": ""
            },
            "colorscale": [
             [
              0.0,
              "#0d0887"
             ],
             [
              0.1111111111111111,
              "#46039f"
             ],
             [
              0.2222222222222222,
              "#7201a8"
             ],
             [
              0.3333333333333333,
              "#9c179e"
             ],
             [
              0.4444444444444444,
              "#bd3786"
             ],
             [
              0.5555555555555556,
              "#d8576b"
             ],
             [
              0.6666666666666666,
              "#ed7953"
             ],
             [
              0.7777777777777778,
              "#fb9f3a"
             ],
             [
              0.8888888888888888,
              "#fdca26"
             ],
             [
              1.0,
              "#f0f921"
             ]
            ],
            "type": "histogram2dcontour"
           }
          ],
          "histogram2d": [
           {
            "colorbar": {
             "outlinewidth": 0,
             "ticks": ""
            },
            "colorscale": [
             [
              0.0,
              "#0d0887"
             ],
             [
              0.1111111111111111,
              "#46039f"
             ],
             [
              0.2222222222222222,
              "#7201a8"
             ],
             [
              0.3333333333333333,
              "#9c179e"
             ],
             [
              0.4444444444444444,
              "#bd3786"
             ],
             [
              0.5555555555555556,
              "#d8576b"
             ],
             [
              0.6666666666666666,
              "#ed7953"
             ],
             [
              0.7777777777777778,
              "#fb9f3a"
             ],
             [
              0.8888888888888888,
              "#fdca26"
             ],
             [
              1.0,
              "#f0f921"
             ]
            ],
            "type": "histogram2d"
           }
          ],
          "histogram": [
           {
            "marker": {
             "pattern": {
              "fillmode": "overlay",
              "size": 10,
              "solidity": 0.2
             }
            },
            "type": "histogram"
           }
          ],
          "mesh3d": [
           {
            "colorbar": {
             "outlinewidth": 0,
             "ticks": ""
            },
            "type": "mesh3d"
           }
          ],
          "parcoords": [
           {
            "line": {
             "colorbar": {
              "outlinewidth": 0,
              "ticks": ""
             }
            },
            "type": "parcoords"
           }
          ],
          "pie": [
           {
            "automargin": true,
            "type": "pie"
           }
          ],
          "scatter3d": [
           {
            "line": {
             "colorbar": {
              "outlinewidth": 0,
              "ticks": ""
             }
            },
            "marker": {
             "colorbar": {
              "outlinewidth": 0,
              "ticks": ""
             }
            },
            "type": "scatter3d"
           }
          ],
          "scattercarpet": [
           {
            "marker": {
             "colorbar": {
              "outlinewidth": 0,
              "ticks": ""
             }
            },
            "type": "scattercarpet"
           }
          ],
          "scattergeo": [
           {
            "marker": {
             "colorbar": {
              "outlinewidth": 0,
              "ticks": ""
             }
            },
            "type": "scattergeo"
           }
          ],
          "scattergl": [
           {
            "marker": {
             "colorbar": {
              "outlinewidth": 0,
              "ticks": ""
             }
            },
            "type": "scattergl"
           }
          ],
          "scattermapbox": [
           {
            "marker": {
             "colorbar": {
              "outlinewidth": 0,
              "ticks": ""
             }
            },
            "type": "scattermapbox"
           }
          ],
          "scatterpolargl": [
           {
            "marker": {
             "colorbar": {
              "outlinewidth": 0,
              "ticks": ""
             }
            },
            "type": "scatterpolargl"
           }
          ],
          "scatterpolar": [
           {
            "marker": {
             "colorbar": {
              "outlinewidth": 0,
              "ticks": ""
             }
            },
            "type": "scatterpolar"
           }
          ],
          "scatter": [
           {
            "fillpattern": {
             "fillmode": "overlay",
             "size": 10,
             "solidity": 0.2
            },
            "type": "scatter"
           }
          ],
          "scatterternary": [
           {
            "marker": {
             "colorbar": {
              "outlinewidth": 0,
              "ticks": ""
             }
            },
            "type": "scatterternary"
           }
          ],
          "surface": [
           {
            "colorbar": {
             "outlinewidth": 0,
             "ticks": ""
            },
            "colorscale": [
             [
              0.0,
              "#0d0887"
             ],
             [
              0.1111111111111111,
              "#46039f"
             ],
             [
              0.2222222222222222,
              "#7201a8"
             ],
             [
              0.3333333333333333,
              "#9c179e"
             ],
             [
              0.4444444444444444,
              "#bd3786"
             ],
             [
              0.5555555555555556,
              "#d8576b"
             ],
             [
              0.6666666666666666,
              "#ed7953"
             ],
             [
              0.7777777777777778,
              "#fb9f3a"
             ],
             [
              0.8888888888888888,
              "#fdca26"
             ],
             [
              1.0,
              "#f0f921"
             ]
            ],
            "type": "surface"
           }
          ],
          "table": [
           {
            "cells": {
             "fill": {
              "color": "#EBF0F8"
             },
             "line": {
              "color": "white"
             }
            },
            "header": {
             "fill": {
              "color": "#C8D4E3"
             },
             "line": {
              "color": "white"
             }
            },
            "type": "table"
           }
          ]
         },
         "layout": {
          "annotationdefaults": {
           "arrowcolor": "#2a3f5f",
           "arrowhead": 0,
           "arrowwidth": 1
          },
          "autotypenumbers": "strict",
          "coloraxis": {
           "colorbar": {
            "outlinewidth": 0,
            "ticks": ""
           }
          },
          "colorscale": {
           "diverging": [
            [
             0,
             "#8e0152"
            ],
            [
             0.1,
             "#c51b7d"
            ],
            [
             0.2,
             "#de77ae"
            ],
            [
             0.3,
             "#f1b6da"
            ],
            [
             0.4,
             "#fde0ef"
            ],
            [
             0.5,
             "#f7f7f7"
            ],
            [
             0.6,
             "#e6f5d0"
            ],
            [
             0.7,
             "#b8e186"
            ],
            [
             0.8,
             "#7fbc41"
            ],
            [
             0.9,
             "#4d9221"
            ],
            [
             1,
             "#276419"
            ]
           ],
           "sequential": [
            [
             0.0,
             "#0d0887"
            ],
            [
             0.1111111111111111,
             "#46039f"
            ],
            [
             0.2222222222222222,
             "#7201a8"
            ],
            [
             0.3333333333333333,
             "#9c179e"
            ],
            [
             0.4444444444444444,
             "#bd3786"
            ],
            [
             0.5555555555555556,
             "#d8576b"
            ],
            [
             0.6666666666666666,
             "#ed7953"
            ],
            [
             0.7777777777777778,
             "#fb9f3a"
            ],
            [
             0.8888888888888888,
             "#fdca26"
            ],
            [
             1.0,
             "#f0f921"
            ]
           ],
           "sequentialminus": [
            [
             0.0,
             "#0d0887"
            ],
            [
             0.1111111111111111,
             "#46039f"
            ],
            [
             0.2222222222222222,
             "#7201a8"
            ],
            [
             0.3333333333333333,
             "#9c179e"
            ],
            [
             0.4444444444444444,
             "#bd3786"
            ],
            [
             0.5555555555555556,
             "#d8576b"
            ],
            [
             0.6666666666666666,
             "#ed7953"
            ],
            [
             0.7777777777777778,
             "#fb9f3a"
            ],
            [
             0.8888888888888888,
             "#fdca26"
            ],
            [
             1.0,
             "#f0f921"
            ]
           ]
          },
          "colorway": [
           "#636efa",
           "#EF553B",
           "#00cc96",
           "#ab63fa",
           "#FFA15A",
           "#19d3f3",
           "#FF6692",
           "#B6E880",
           "#FF97FF",
           "#FECB52"
          ],
          "font": {
           "color": "#2a3f5f"
          },
          "geo": {
           "bgcolor": "white",
           "lakecolor": "white",
           "landcolor": "#E5ECF6",
           "showlakes": true,
           "showland": true,
           "subunitcolor": "white"
          },
          "hoverlabel": {
           "align": "left"
          },
          "hovermode": "closest",
          "mapbox": {
           "style": "light"
          },
          "paper_bgcolor": "white",
          "plot_bgcolor": "#E5ECF6",
          "polar": {
           "angularaxis": {
            "gridcolor": "white",
            "linecolor": "white",
            "ticks": ""
           },
           "bgcolor": "#E5ECF6",
           "radialaxis": {
            "gridcolor": "white",
            "linecolor": "white",
            "ticks": ""
           }
          },
          "scene": {
           "xaxis": {
            "backgroundcolor": "#E5ECF6",
            "gridcolor": "white",
            "gridwidth": 2,
            "linecolor": "white",
            "showbackground": true,
            "ticks": "",
            "zerolinecolor": "white"
           },
           "yaxis": {
            "backgroundcolor": "#E5ECF6",
            "gridcolor": "white",
            "gridwidth": 2,
            "linecolor": "white",
            "showbackground": true,
            "ticks": "",
            "zerolinecolor": "white"
           },
           "zaxis": {
            "backgroundcolor": "#E5ECF6",
            "gridcolor": "white",
            "gridwidth": 2,
            "linecolor": "white",
            "showbackground": true,
            "ticks": "",
            "zerolinecolor": "white"
           }
          },
          "shapedefaults": {
           "line": {
            "color": "#2a3f5f"
           }
          },
          "ternary": {
           "aaxis": {
            "gridcolor": "white",
            "linecolor": "white",
            "ticks": ""
           },
           "baxis": {
            "gridcolor": "white",
            "linecolor": "white",
            "ticks": ""
           },
           "bgcolor": "#E5ECF6",
           "caxis": {
            "gridcolor": "white",
            "linecolor": "white",
            "ticks": ""
           }
          },
          "title": {
           "x": 0.05
          },
          "xaxis": {
           "automargin": true,
           "gridcolor": "white",
           "linecolor": "white",
           "ticks": "",
           "title": {
            "standoff": 15
           },
           "zerolinecolor": "white",
           "zerolinewidth": 2
          },
          "yaxis": {
           "automargin": true,
           "gridcolor": "white",
           "linecolor": "white",
           "ticks": "",
           "title": {
            "standoff": 15
           },
           "zerolinecolor": "white",
           "zerolinewidth": 2
          }
         }
        },
        "xaxis": {
         "anchor": "y",
         "domain": [
          0.0,
          1.0
         ],
         "title": {
          "text": "id_s"
         }
        },
        "yaxis": {
         "anchor": "x",
         "domain": [
          0.0,
          1.0
         ],
         "title": {
          "text": "rom_rmse"
         }
        },
        "legend": {
         "tracegroupgap": 0
        },
        "title": {
         "text": "Trunk Displacement ROM RMSE, cad = 31.89"
        },
        "barmode": "relative",
        "shapes": [
         {
          "line": {
           "color": "red",
           "dash": "dash"
          },
          "name": "CAD",
          "type": "line",
          "x0": 0,
          "x1": 1,
          "xref": "x domain",
          "y0": 31.89,
          "y1": 31.89,
          "yref": "y"
         }
        ]
       },
       "config": {
        "plotlyServerURL": "https://plot.ly"
       }
      },
      "text/html": [
       "<div>                            <div id=\"c26167fc-8245-4564-a5c6-74f0ff831d2c\" class=\"plotly-graph-div\" style=\"height:525px; width:100%;\"></div>            <script type=\"text/javascript\">                require([\"plotly\"], function(Plotly) {                    window.PLOTLYENV=window.PLOTLYENV || {};                                    if (document.getElementById(\"c26167fc-8245-4564-a5c6-74f0ff831d2c\")) {                    Plotly.newPlot(                        \"c26167fc-8245-4564-a5c6-74f0ff831d2c\",                        [{\"alignmentgroup\":\"True\",\"hovertemplate\":\"id_s=%{x}\\u003cbr\\u003erom_rmse=%{y}\\u003cextra\\u003e\\u003c\\u002fextra\\u003e\",\"legendgroup\":\"\",\"marker\":{\"color\":\"#636efa\",\"pattern\":{\"shape\":\"\"}},\"name\":\"\",\"offsetgroup\":\"\",\"orientation\":\"v\",\"showlegend\":false,\"textposition\":\"auto\",\"x\":[\"S001\",\"S002\",\"S004\",\"S009\",\"S010\",\"S011\",\"S012\",\"S013\",\"S014\",\"S015\",\"S016\",\"S017\",\"S018\",\"S019\",\"S020\",\"S021\",\"S022\",\"S023\",\"S024\",\"S025\",\"S026\"],\"xaxis\":\"x\",\"y\":[70.56283051085379,22.015125269793707,22.064731532745906,1054.641526562904,81.36946042230898,335.381365651994,28.497532103434764,96.0325885901306,272.84828621412896,528.2779664543729,38.07315005212753,79.1150194728379,80.4725670851056,79.18001116730652,80.55616071005328,79.18001116730652,80.55616071005328,37.419691193222256,37.71015305562052,37.18266172948595,37.54813759927644],\"yaxis\":\"y\",\"type\":\"bar\"}],                        {\"template\":{\"data\":{\"barpolar\":[{\"marker\":{\"line\":{\"color\":\"#E5ECF6\",\"width\":0.5},\"pattern\":{\"fillmode\":\"overlay\",\"size\":10,\"solidity\":0.2}},\"type\":\"barpolar\"}],\"bar\":[{\"error_x\":{\"color\":\"#2a3f5f\"},\"error_y\":{\"color\":\"#2a3f5f\"},\"marker\":{\"line\":{\"color\":\"#E5ECF6\",\"width\":0.5},\"pattern\":{\"fillmode\":\"overlay\",\"size\":10,\"solidity\":0.2}},\"type\":\"bar\"}],\"carpet\":[{\"aaxis\":{\"endlinecolor\":\"#2a3f5f\",\"gridcolor\":\"white\",\"linecolor\":\"white\",\"minorgridcolor\":\"white\",\"startlinecolor\":\"#2a3f5f\"},\"baxis\":{\"endlinecolor\":\"#2a3f5f\",\"gridcolor\":\"white\",\"linecolor\":\"white\",\"minorgridcolor\":\"white\",\"startlinecolor\":\"#2a3f5f\"},\"type\":\"carpet\"}],\"choropleth\":[{\"colorbar\":{\"outlinewidth\":0,\"ticks\":\"\"},\"type\":\"choropleth\"}],\"contourcarpet\":[{\"colorbar\":{\"outlinewidth\":0,\"ticks\":\"\"},\"type\":\"contourcarpet\"}],\"contour\":[{\"colorbar\":{\"outlinewidth\":0,\"ticks\":\"\"},\"colorscale\":[[0.0,\"#0d0887\"],[0.1111111111111111,\"#46039f\"],[0.2222222222222222,\"#7201a8\"],[0.3333333333333333,\"#9c179e\"],[0.4444444444444444,\"#bd3786\"],[0.5555555555555556,\"#d8576b\"],[0.6666666666666666,\"#ed7953\"],[0.7777777777777778,\"#fb9f3a\"],[0.8888888888888888,\"#fdca26\"],[1.0,\"#f0f921\"]],\"type\":\"contour\"}],\"heatmapgl\":[{\"colorbar\":{\"outlinewidth\":0,\"ticks\":\"\"},\"colorscale\":[[0.0,\"#0d0887\"],[0.1111111111111111,\"#46039f\"],[0.2222222222222222,\"#7201a8\"],[0.3333333333333333,\"#9c179e\"],[0.4444444444444444,\"#bd3786\"],[0.5555555555555556,\"#d8576b\"],[0.6666666666666666,\"#ed7953\"],[0.7777777777777778,\"#fb9f3a\"],[0.8888888888888888,\"#fdca26\"],[1.0,\"#f0f921\"]],\"type\":\"heatmapgl\"}],\"heatmap\":[{\"colorbar\":{\"outlinewidth\":0,\"ticks\":\"\"},\"colorscale\":[[0.0,\"#0d0887\"],[0.1111111111111111,\"#46039f\"],[0.2222222222222222,\"#7201a8\"],[0.3333333333333333,\"#9c179e\"],[0.4444444444444444,\"#bd3786\"],[0.5555555555555556,\"#d8576b\"],[0.6666666666666666,\"#ed7953\"],[0.7777777777777778,\"#fb9f3a\"],[0.8888888888888888,\"#fdca26\"],[1.0,\"#f0f921\"]],\"type\":\"heatmap\"}],\"histogram2dcontour\":[{\"colorbar\":{\"outlinewidth\":0,\"ticks\":\"\"},\"colorscale\":[[0.0,\"#0d0887\"],[0.1111111111111111,\"#46039f\"],[0.2222222222222222,\"#7201a8\"],[0.3333333333333333,\"#9c179e\"],[0.4444444444444444,\"#bd3786\"],[0.5555555555555556,\"#d8576b\"],[0.6666666666666666,\"#ed7953\"],[0.7777777777777778,\"#fb9f3a\"],[0.8888888888888888,\"#fdca26\"],[1.0,\"#f0f921\"]],\"type\":\"histogram2dcontour\"}],\"histogram2d\":[{\"colorbar\":{\"outlinewidth\":0,\"ticks\":\"\"},\"colorscale\":[[0.0,\"#0d0887\"],[0.1111111111111111,\"#46039f\"],[0.2222222222222222,\"#7201a8\"],[0.3333333333333333,\"#9c179e\"],[0.4444444444444444,\"#bd3786\"],[0.5555555555555556,\"#d8576b\"],[0.6666666666666666,\"#ed7953\"],[0.7777777777777778,\"#fb9f3a\"],[0.8888888888888888,\"#fdca26\"],[1.0,\"#f0f921\"]],\"type\":\"histogram2d\"}],\"histogram\":[{\"marker\":{\"pattern\":{\"fillmode\":\"overlay\",\"size\":10,\"solidity\":0.2}},\"type\":\"histogram\"}],\"mesh3d\":[{\"colorbar\":{\"outlinewidth\":0,\"ticks\":\"\"},\"type\":\"mesh3d\"}],\"parcoords\":[{\"line\":{\"colorbar\":{\"outlinewidth\":0,\"ticks\":\"\"}},\"type\":\"parcoords\"}],\"pie\":[{\"automargin\":true,\"type\":\"pie\"}],\"scatter3d\":[{\"line\":{\"colorbar\":{\"outlinewidth\":0,\"ticks\":\"\"}},\"marker\":{\"colorbar\":{\"outlinewidth\":0,\"ticks\":\"\"}},\"type\":\"scatter3d\"}],\"scattercarpet\":[{\"marker\":{\"colorbar\":{\"outlinewidth\":0,\"ticks\":\"\"}},\"type\":\"scattercarpet\"}],\"scattergeo\":[{\"marker\":{\"colorbar\":{\"outlinewidth\":0,\"ticks\":\"\"}},\"type\":\"scattergeo\"}],\"scattergl\":[{\"marker\":{\"colorbar\":{\"outlinewidth\":0,\"ticks\":\"\"}},\"type\":\"scattergl\"}],\"scattermapbox\":[{\"marker\":{\"colorbar\":{\"outlinewidth\":0,\"ticks\":\"\"}},\"type\":\"scattermapbox\"}],\"scatterpolargl\":[{\"marker\":{\"colorbar\":{\"outlinewidth\":0,\"ticks\":\"\"}},\"type\":\"scatterpolargl\"}],\"scatterpolar\":[{\"marker\":{\"colorbar\":{\"outlinewidth\":0,\"ticks\":\"\"}},\"type\":\"scatterpolar\"}],\"scatter\":[{\"fillpattern\":{\"fillmode\":\"overlay\",\"size\":10,\"solidity\":0.2},\"type\":\"scatter\"}],\"scatterternary\":[{\"marker\":{\"colorbar\":{\"outlinewidth\":0,\"ticks\":\"\"}},\"type\":\"scatterternary\"}],\"surface\":[{\"colorbar\":{\"outlinewidth\":0,\"ticks\":\"\"},\"colorscale\":[[0.0,\"#0d0887\"],[0.1111111111111111,\"#46039f\"],[0.2222222222222222,\"#7201a8\"],[0.3333333333333333,\"#9c179e\"],[0.4444444444444444,\"#bd3786\"],[0.5555555555555556,\"#d8576b\"],[0.6666666666666666,\"#ed7953\"],[0.7777777777777778,\"#fb9f3a\"],[0.8888888888888888,\"#fdca26\"],[1.0,\"#f0f921\"]],\"type\":\"surface\"}],\"table\":[{\"cells\":{\"fill\":{\"color\":\"#EBF0F8\"},\"line\":{\"color\":\"white\"}},\"header\":{\"fill\":{\"color\":\"#C8D4E3\"},\"line\":{\"color\":\"white\"}},\"type\":\"table\"}]},\"layout\":{\"annotationdefaults\":{\"arrowcolor\":\"#2a3f5f\",\"arrowhead\":0,\"arrowwidth\":1},\"autotypenumbers\":\"strict\",\"coloraxis\":{\"colorbar\":{\"outlinewidth\":0,\"ticks\":\"\"}},\"colorscale\":{\"diverging\":[[0,\"#8e0152\"],[0.1,\"#c51b7d\"],[0.2,\"#de77ae\"],[0.3,\"#f1b6da\"],[0.4,\"#fde0ef\"],[0.5,\"#f7f7f7\"],[0.6,\"#e6f5d0\"],[0.7,\"#b8e186\"],[0.8,\"#7fbc41\"],[0.9,\"#4d9221\"],[1,\"#276419\"]],\"sequential\":[[0.0,\"#0d0887\"],[0.1111111111111111,\"#46039f\"],[0.2222222222222222,\"#7201a8\"],[0.3333333333333333,\"#9c179e\"],[0.4444444444444444,\"#bd3786\"],[0.5555555555555556,\"#d8576b\"],[0.6666666666666666,\"#ed7953\"],[0.7777777777777778,\"#fb9f3a\"],[0.8888888888888888,\"#fdca26\"],[1.0,\"#f0f921\"]],\"sequentialminus\":[[0.0,\"#0d0887\"],[0.1111111111111111,\"#46039f\"],[0.2222222222222222,\"#7201a8\"],[0.3333333333333333,\"#9c179e\"],[0.4444444444444444,\"#bd3786\"],[0.5555555555555556,\"#d8576b\"],[0.6666666666666666,\"#ed7953\"],[0.7777777777777778,\"#fb9f3a\"],[0.8888888888888888,\"#fdca26\"],[1.0,\"#f0f921\"]]},\"colorway\":[\"#636efa\",\"#EF553B\",\"#00cc96\",\"#ab63fa\",\"#FFA15A\",\"#19d3f3\",\"#FF6692\",\"#B6E880\",\"#FF97FF\",\"#FECB52\"],\"font\":{\"color\":\"#2a3f5f\"},\"geo\":{\"bgcolor\":\"white\",\"lakecolor\":\"white\",\"landcolor\":\"#E5ECF6\",\"showlakes\":true,\"showland\":true,\"subunitcolor\":\"white\"},\"hoverlabel\":{\"align\":\"left\"},\"hovermode\":\"closest\",\"mapbox\":{\"style\":\"light\"},\"paper_bgcolor\":\"white\",\"plot_bgcolor\":\"#E5ECF6\",\"polar\":{\"angularaxis\":{\"gridcolor\":\"white\",\"linecolor\":\"white\",\"ticks\":\"\"},\"bgcolor\":\"#E5ECF6\",\"radialaxis\":{\"gridcolor\":\"white\",\"linecolor\":\"white\",\"ticks\":\"\"}},\"scene\":{\"xaxis\":{\"backgroundcolor\":\"#E5ECF6\",\"gridcolor\":\"white\",\"gridwidth\":2,\"linecolor\":\"white\",\"showbackground\":true,\"ticks\":\"\",\"zerolinecolor\":\"white\"},\"yaxis\":{\"backgroundcolor\":\"#E5ECF6\",\"gridcolor\":\"white\",\"gridwidth\":2,\"linecolor\":\"white\",\"showbackground\":true,\"ticks\":\"\",\"zerolinecolor\":\"white\"},\"zaxis\":{\"backgroundcolor\":\"#E5ECF6\",\"gridcolor\":\"white\",\"gridwidth\":2,\"linecolor\":\"white\",\"showbackground\":true,\"ticks\":\"\",\"zerolinecolor\":\"white\"}},\"shapedefaults\":{\"line\":{\"color\":\"#2a3f5f\"}},\"ternary\":{\"aaxis\":{\"gridcolor\":\"white\",\"linecolor\":\"white\",\"ticks\":\"\"},\"baxis\":{\"gridcolor\":\"white\",\"linecolor\":\"white\",\"ticks\":\"\"},\"bgcolor\":\"#E5ECF6\",\"caxis\":{\"gridcolor\":\"white\",\"linecolor\":\"white\",\"ticks\":\"\"}},\"title\":{\"x\":0.05},\"xaxis\":{\"automargin\":true,\"gridcolor\":\"white\",\"linecolor\":\"white\",\"ticks\":\"\",\"title\":{\"standoff\":15},\"zerolinecolor\":\"white\",\"zerolinewidth\":2},\"yaxis\":{\"automargin\":true,\"gridcolor\":\"white\",\"linecolor\":\"white\",\"ticks\":\"\",\"title\":{\"standoff\":15},\"zerolinecolor\":\"white\",\"zerolinewidth\":2}}},\"xaxis\":{\"anchor\":\"y\",\"domain\":[0.0,1.0],\"title\":{\"text\":\"id_s\"}},\"yaxis\":{\"anchor\":\"x\",\"domain\":[0.0,1.0],\"title\":{\"text\":\"rom_rmse\"}},\"legend\":{\"tracegroupgap\":0},\"title\":{\"text\":\"Trunk Displacement ROM RMSE, cad = 31.89\"},\"barmode\":\"relative\",\"shapes\":[{\"line\":{\"color\":\"red\",\"dash\":\"dash\"},\"name\":\"CAD\",\"type\":\"line\",\"x0\":0,\"x1\":1,\"xref\":\"x domain\",\"y0\":31.89,\"y1\":31.89,\"yref\":\"y\"}]},                        {\"responsive\": true}                    ).then(function(){\n",
       "                            \n",
       "var gd = document.getElementById('c26167fc-8245-4564-a5c6-74f0ff831d2c');\n",
       "var x = new MutationObserver(function (mutations, observer) {{\n",
       "        var display = window.getComputedStyle(gd).display;\n",
       "        if (!display || display === 'none') {{\n",
       "            console.log([gd, 'removed!']);\n",
       "            Plotly.purge(gd);\n",
       "            observer.disconnect();\n",
       "        }}\n",
       "}});\n",
       "\n",
       "// Listen for the removal of the full notebook cells\n",
       "var notebookContainer = gd.closest('#notebook-container');\n",
       "if (notebookContainer) {{\n",
       "    x.observe(notebookContainer, {childList: true});\n",
       "}}\n",
       "\n",
       "// Listen for the clearing of the current output cell\n",
       "var outputEl = gd.closest('.output');\n",
       "if (outputEl) {{\n",
       "    x.observe(outputEl, {childList: true});\n",
       "}}\n",
       "\n",
       "                        })                };                });            </script>        </div>"
      ]
     },
     "metadata": {},
     "output_type": "display_data"
    },
    {
     "data": {
      "application/vnd.plotly.v1+json": {
       "data": [
        {
         "alignmentgroup": "True",
         "hovertemplate": "id_s=%{x}<br>rom_rmse=%{y}<extra></extra>",
         "legendgroup": "",
         "marker": {
          "color": "#636efa",
          "pattern": {
           "shape": ""
          }
         },
         "name": "",
         "offsetgroup": "",
         "orientation": "v",
         "showlegend": false,
         "textposition": "auto",
         "x": [
          "S001",
          "S002",
          "S004",
          "S009",
          "S010",
          "S011",
          "S012",
          "S013",
          "S014",
          "S015",
          "S016",
          "S017",
          "S018",
          "S019",
          "S020",
          "S021",
          "S022",
          "S023",
          "S024",
          "S025",
          "S026"
         ],
         "xaxis": "x",
         "y": [
          16.627594726688653,
          16.406852826506466,
          76.87893671254831,
          43.70306727451484,
          28.948235857860066,
          57.44536009711851,
          63.44013532087915,
          21.306086084606665,
          32.4889803725756,
          73.74862154600284,
          41.15555704450262,
          9.910701172419351,
          9.924587148935979,
          9.526143895731568,
          9.520569162989187,
          9.526143895731568,
          9.520569162989187,
          10.188012178544717,
          10.227251844821653,
          10.252383528403636,
          10.293337511025017
         ],
         "yaxis": "y",
         "type": "bar"
        }
       ],
       "layout": {
        "template": {
         "data": {
          "barpolar": [
           {
            "marker": {
             "line": {
              "color": "#E5ECF6",
              "width": 0.5
             },
             "pattern": {
              "fillmode": "overlay",
              "size": 10,
              "solidity": 0.2
             }
            },
            "type": "barpolar"
           }
          ],
          "bar": [
           {
            "error_x": {
             "color": "#2a3f5f"
            },
            "error_y": {
             "color": "#2a3f5f"
            },
            "marker": {
             "line": {
              "color": "#E5ECF6",
              "width": 0.5
             },
             "pattern": {
              "fillmode": "overlay",
              "size": 10,
              "solidity": 0.2
             }
            },
            "type": "bar"
           }
          ],
          "carpet": [
           {
            "aaxis": {
             "endlinecolor": "#2a3f5f",
             "gridcolor": "white",
             "linecolor": "white",
             "minorgridcolor": "white",
             "startlinecolor": "#2a3f5f"
            },
            "baxis": {
             "endlinecolor": "#2a3f5f",
             "gridcolor": "white",
             "linecolor": "white",
             "minorgridcolor": "white",
             "startlinecolor": "#2a3f5f"
            },
            "type": "carpet"
           }
          ],
          "choropleth": [
           {
            "colorbar": {
             "outlinewidth": 0,
             "ticks": ""
            },
            "type": "choropleth"
           }
          ],
          "contourcarpet": [
           {
            "colorbar": {
             "outlinewidth": 0,
             "ticks": ""
            },
            "type": "contourcarpet"
           }
          ],
          "contour": [
           {
            "colorbar": {
             "outlinewidth": 0,
             "ticks": ""
            },
            "colorscale": [
             [
              0.0,
              "#0d0887"
             ],
             [
              0.1111111111111111,
              "#46039f"
             ],
             [
              0.2222222222222222,
              "#7201a8"
             ],
             [
              0.3333333333333333,
              "#9c179e"
             ],
             [
              0.4444444444444444,
              "#bd3786"
             ],
             [
              0.5555555555555556,
              "#d8576b"
             ],
             [
              0.6666666666666666,
              "#ed7953"
             ],
             [
              0.7777777777777778,
              "#fb9f3a"
             ],
             [
              0.8888888888888888,
              "#fdca26"
             ],
             [
              1.0,
              "#f0f921"
             ]
            ],
            "type": "contour"
           }
          ],
          "heatmapgl": [
           {
            "colorbar": {
             "outlinewidth": 0,
             "ticks": ""
            },
            "colorscale": [
             [
              0.0,
              "#0d0887"
             ],
             [
              0.1111111111111111,
              "#46039f"
             ],
             [
              0.2222222222222222,
              "#7201a8"
             ],
             [
              0.3333333333333333,
              "#9c179e"
             ],
             [
              0.4444444444444444,
              "#bd3786"
             ],
             [
              0.5555555555555556,
              "#d8576b"
             ],
             [
              0.6666666666666666,
              "#ed7953"
             ],
             [
              0.7777777777777778,
              "#fb9f3a"
             ],
             [
              0.8888888888888888,
              "#fdca26"
             ],
             [
              1.0,
              "#f0f921"
             ]
            ],
            "type": "heatmapgl"
           }
          ],
          "heatmap": [
           {
            "colorbar": {
             "outlinewidth": 0,
             "ticks": ""
            },
            "colorscale": [
             [
              0.0,
              "#0d0887"
             ],
             [
              0.1111111111111111,
              "#46039f"
             ],
             [
              0.2222222222222222,
              "#7201a8"
             ],
             [
              0.3333333333333333,
              "#9c179e"
             ],
             [
              0.4444444444444444,
              "#bd3786"
             ],
             [
              0.5555555555555556,
              "#d8576b"
             ],
             [
              0.6666666666666666,
              "#ed7953"
             ],
             [
              0.7777777777777778,
              "#fb9f3a"
             ],
             [
              0.8888888888888888,
              "#fdca26"
             ],
             [
              1.0,
              "#f0f921"
             ]
            ],
            "type": "heatmap"
           }
          ],
          "histogram2dcontour": [
           {
            "colorbar": {
             "outlinewidth": 0,
             "ticks": ""
            },
            "colorscale": [
             [
              0.0,
              "#0d0887"
             ],
             [
              0.1111111111111111,
              "#46039f"
             ],
             [
              0.2222222222222222,
              "#7201a8"
             ],
             [
              0.3333333333333333,
              "#9c179e"
             ],
             [
              0.4444444444444444,
              "#bd3786"
             ],
             [
              0.5555555555555556,
              "#d8576b"
             ],
             [
              0.6666666666666666,
              "#ed7953"
             ],
             [
              0.7777777777777778,
              "#fb9f3a"
             ],
             [
              0.8888888888888888,
              "#fdca26"
             ],
             [
              1.0,
              "#f0f921"
             ]
            ],
            "type": "histogram2dcontour"
           }
          ],
          "histogram2d": [
           {
            "colorbar": {
             "outlinewidth": 0,
             "ticks": ""
            },
            "colorscale": [
             [
              0.0,
              "#0d0887"
             ],
             [
              0.1111111111111111,
              "#46039f"
             ],
             [
              0.2222222222222222,
              "#7201a8"
             ],
             [
              0.3333333333333333,
              "#9c179e"
             ],
             [
              0.4444444444444444,
              "#bd3786"
             ],
             [
              0.5555555555555556,
              "#d8576b"
             ],
             [
              0.6666666666666666,
              "#ed7953"
             ],
             [
              0.7777777777777778,
              "#fb9f3a"
             ],
             [
              0.8888888888888888,
              "#fdca26"
             ],
             [
              1.0,
              "#f0f921"
             ]
            ],
            "type": "histogram2d"
           }
          ],
          "histogram": [
           {
            "marker": {
             "pattern": {
              "fillmode": "overlay",
              "size": 10,
              "solidity": 0.2
             }
            },
            "type": "histogram"
           }
          ],
          "mesh3d": [
           {
            "colorbar": {
             "outlinewidth": 0,
             "ticks": ""
            },
            "type": "mesh3d"
           }
          ],
          "parcoords": [
           {
            "line": {
             "colorbar": {
              "outlinewidth": 0,
              "ticks": ""
             }
            },
            "type": "parcoords"
           }
          ],
          "pie": [
           {
            "automargin": true,
            "type": "pie"
           }
          ],
          "scatter3d": [
           {
            "line": {
             "colorbar": {
              "outlinewidth": 0,
              "ticks": ""
             }
            },
            "marker": {
             "colorbar": {
              "outlinewidth": 0,
              "ticks": ""
             }
            },
            "type": "scatter3d"
           }
          ],
          "scattercarpet": [
           {
            "marker": {
             "colorbar": {
              "outlinewidth": 0,
              "ticks": ""
             }
            },
            "type": "scattercarpet"
           }
          ],
          "scattergeo": [
           {
            "marker": {
             "colorbar": {
              "outlinewidth": 0,
              "ticks": ""
             }
            },
            "type": "scattergeo"
           }
          ],
          "scattergl": [
           {
            "marker": {
             "colorbar": {
              "outlinewidth": 0,
              "ticks": ""
             }
            },
            "type": "scattergl"
           }
          ],
          "scattermapbox": [
           {
            "marker": {
             "colorbar": {
              "outlinewidth": 0,
              "ticks": ""
             }
            },
            "type": "scattermapbox"
           }
          ],
          "scatterpolargl": [
           {
            "marker": {
             "colorbar": {
              "outlinewidth": 0,
              "ticks": ""
             }
            },
            "type": "scatterpolargl"
           }
          ],
          "scatterpolar": [
           {
            "marker": {
             "colorbar": {
              "outlinewidth": 0,
              "ticks": ""
             }
            },
            "type": "scatterpolar"
           }
          ],
          "scatter": [
           {
            "fillpattern": {
             "fillmode": "overlay",
             "size": 10,
             "solidity": 0.2
            },
            "type": "scatter"
           }
          ],
          "scatterternary": [
           {
            "marker": {
             "colorbar": {
              "outlinewidth": 0,
              "ticks": ""
             }
            },
            "type": "scatterternary"
           }
          ],
          "surface": [
           {
            "colorbar": {
             "outlinewidth": 0,
             "ticks": ""
            },
            "colorscale": [
             [
              0.0,
              "#0d0887"
             ],
             [
              0.1111111111111111,
              "#46039f"
             ],
             [
              0.2222222222222222,
              "#7201a8"
             ],
             [
              0.3333333333333333,
              "#9c179e"
             ],
             [
              0.4444444444444444,
              "#bd3786"
             ],
             [
              0.5555555555555556,
              "#d8576b"
             ],
             [
              0.6666666666666666,
              "#ed7953"
             ],
             [
              0.7777777777777778,
              "#fb9f3a"
             ],
             [
              0.8888888888888888,
              "#fdca26"
             ],
             [
              1.0,
              "#f0f921"
             ]
            ],
            "type": "surface"
           }
          ],
          "table": [
           {
            "cells": {
             "fill": {
              "color": "#EBF0F8"
             },
             "line": {
              "color": "white"
             }
            },
            "header": {
             "fill": {
              "color": "#C8D4E3"
             },
             "line": {
              "color": "white"
             }
            },
            "type": "table"
           }
          ]
         },
         "layout": {
          "annotationdefaults": {
           "arrowcolor": "#2a3f5f",
           "arrowhead": 0,
           "arrowwidth": 1
          },
          "autotypenumbers": "strict",
          "coloraxis": {
           "colorbar": {
            "outlinewidth": 0,
            "ticks": ""
           }
          },
          "colorscale": {
           "diverging": [
            [
             0,
             "#8e0152"
            ],
            [
             0.1,
             "#c51b7d"
            ],
            [
             0.2,
             "#de77ae"
            ],
            [
             0.3,
             "#f1b6da"
            ],
            [
             0.4,
             "#fde0ef"
            ],
            [
             0.5,
             "#f7f7f7"
            ],
            [
             0.6,
             "#e6f5d0"
            ],
            [
             0.7,
             "#b8e186"
            ],
            [
             0.8,
             "#7fbc41"
            ],
            [
             0.9,
             "#4d9221"
            ],
            [
             1,
             "#276419"
            ]
           ],
           "sequential": [
            [
             0.0,
             "#0d0887"
            ],
            [
             0.1111111111111111,
             "#46039f"
            ],
            [
             0.2222222222222222,
             "#7201a8"
            ],
            [
             0.3333333333333333,
             "#9c179e"
            ],
            [
             0.4444444444444444,
             "#bd3786"
            ],
            [
             0.5555555555555556,
             "#d8576b"
            ],
            [
             0.6666666666666666,
             "#ed7953"
            ],
            [
             0.7777777777777778,
             "#fb9f3a"
            ],
            [
             0.8888888888888888,
             "#fdca26"
            ],
            [
             1.0,
             "#f0f921"
            ]
           ],
           "sequentialminus": [
            [
             0.0,
             "#0d0887"
            ],
            [
             0.1111111111111111,
             "#46039f"
            ],
            [
             0.2222222222222222,
             "#7201a8"
            ],
            [
             0.3333333333333333,
             "#9c179e"
            ],
            [
             0.4444444444444444,
             "#bd3786"
            ],
            [
             0.5555555555555556,
             "#d8576b"
            ],
            [
             0.6666666666666666,
             "#ed7953"
            ],
            [
             0.7777777777777778,
             "#fb9f3a"
            ],
            [
             0.8888888888888888,
             "#fdca26"
            ],
            [
             1.0,
             "#f0f921"
            ]
           ]
          },
          "colorway": [
           "#636efa",
           "#EF553B",
           "#00cc96",
           "#ab63fa",
           "#FFA15A",
           "#19d3f3",
           "#FF6692",
           "#B6E880",
           "#FF97FF",
           "#FECB52"
          ],
          "font": {
           "color": "#2a3f5f"
          },
          "geo": {
           "bgcolor": "white",
           "lakecolor": "white",
           "landcolor": "#E5ECF6",
           "showlakes": true,
           "showland": true,
           "subunitcolor": "white"
          },
          "hoverlabel": {
           "align": "left"
          },
          "hovermode": "closest",
          "mapbox": {
           "style": "light"
          },
          "paper_bgcolor": "white",
          "plot_bgcolor": "#E5ECF6",
          "polar": {
           "angularaxis": {
            "gridcolor": "white",
            "linecolor": "white",
            "ticks": ""
           },
           "bgcolor": "#E5ECF6",
           "radialaxis": {
            "gridcolor": "white",
            "linecolor": "white",
            "ticks": ""
           }
          },
          "scene": {
           "xaxis": {
            "backgroundcolor": "#E5ECF6",
            "gridcolor": "white",
            "gridwidth": 2,
            "linecolor": "white",
            "showbackground": true,
            "ticks": "",
            "zerolinecolor": "white"
           },
           "yaxis": {
            "backgroundcolor": "#E5ECF6",
            "gridcolor": "white",
            "gridwidth": 2,
            "linecolor": "white",
            "showbackground": true,
            "ticks": "",
            "zerolinecolor": "white"
           },
           "zaxis": {
            "backgroundcolor": "#E5ECF6",
            "gridcolor": "white",
            "gridwidth": 2,
            "linecolor": "white",
            "showbackground": true,
            "ticks": "",
            "zerolinecolor": "white"
           }
          },
          "shapedefaults": {
           "line": {
            "color": "#2a3f5f"
           }
          },
          "ternary": {
           "aaxis": {
            "gridcolor": "white",
            "linecolor": "white",
            "ticks": ""
           },
           "baxis": {
            "gridcolor": "white",
            "linecolor": "white",
            "ticks": ""
           },
           "bgcolor": "#E5ECF6",
           "caxis": {
            "gridcolor": "white",
            "linecolor": "white",
            "ticks": ""
           }
          },
          "title": {
           "x": 0.05
          },
          "xaxis": {
           "automargin": true,
           "gridcolor": "white",
           "linecolor": "white",
           "ticks": "",
           "title": {
            "standoff": 15
           },
           "zerolinecolor": "white",
           "zerolinewidth": 2
          },
          "yaxis": {
           "automargin": true,
           "gridcolor": "white",
           "linecolor": "white",
           "ticks": "",
           "title": {
            "standoff": 15
           },
           "zerolinecolor": "white",
           "zerolinewidth": 2
          }
         }
        },
        "xaxis": {
         "anchor": "y",
         "domain": [
          0.0,
          1.0
         ],
         "title": {
          "text": "id_s"
         }
        },
        "yaxis": {
         "anchor": "x",
         "domain": [
          0.0,
          1.0
         ],
         "title": {
          "text": "rom_rmse"
         }
        },
        "legend": {
         "tracegroupgap": 0
        },
        "title": {
         "text": "Elbow Flexion ROM RMSE, cad = 4.48"
        },
        "barmode": "relative",
        "shapes": [
         {
          "line": {
           "color": "red",
           "dash": "dash"
          },
          "name": "CAD",
          "type": "line",
          "x0": 0,
          "x1": 1,
          "xref": "x domain",
          "y0": 4.48,
          "y1": 4.48,
          "yref": "y"
         }
        ]
       },
       "config": {
        "plotlyServerURL": "https://plot.ly"
       }
      },
      "text/html": [
       "<div>                            <div id=\"89855412-5220-476a-97fb-21a4bbee0a3a\" class=\"plotly-graph-div\" style=\"height:525px; width:100%;\"></div>            <script type=\"text/javascript\">                require([\"plotly\"], function(Plotly) {                    window.PLOTLYENV=window.PLOTLYENV || {};                                    if (document.getElementById(\"89855412-5220-476a-97fb-21a4bbee0a3a\")) {                    Plotly.newPlot(                        \"89855412-5220-476a-97fb-21a4bbee0a3a\",                        [{\"alignmentgroup\":\"True\",\"hovertemplate\":\"id_s=%{x}\\u003cbr\\u003erom_rmse=%{y}\\u003cextra\\u003e\\u003c\\u002fextra\\u003e\",\"legendgroup\":\"\",\"marker\":{\"color\":\"#636efa\",\"pattern\":{\"shape\":\"\"}},\"name\":\"\",\"offsetgroup\":\"\",\"orientation\":\"v\",\"showlegend\":false,\"textposition\":\"auto\",\"x\":[\"S001\",\"S002\",\"S004\",\"S009\",\"S010\",\"S011\",\"S012\",\"S013\",\"S014\",\"S015\",\"S016\",\"S017\",\"S018\",\"S019\",\"S020\",\"S021\",\"S022\",\"S023\",\"S024\",\"S025\",\"S026\"],\"xaxis\":\"x\",\"y\":[16.627594726688653,16.406852826506466,76.87893671254831,43.70306727451484,28.948235857860066,57.44536009711851,63.44013532087915,21.306086084606665,32.4889803725756,73.74862154600284,41.15555704450262,9.910701172419351,9.924587148935979,9.526143895731568,9.520569162989187,9.526143895731568,9.520569162989187,10.188012178544717,10.227251844821653,10.252383528403636,10.293337511025017],\"yaxis\":\"y\",\"type\":\"bar\"}],                        {\"template\":{\"data\":{\"barpolar\":[{\"marker\":{\"line\":{\"color\":\"#E5ECF6\",\"width\":0.5},\"pattern\":{\"fillmode\":\"overlay\",\"size\":10,\"solidity\":0.2}},\"type\":\"barpolar\"}],\"bar\":[{\"error_x\":{\"color\":\"#2a3f5f\"},\"error_y\":{\"color\":\"#2a3f5f\"},\"marker\":{\"line\":{\"color\":\"#E5ECF6\",\"width\":0.5},\"pattern\":{\"fillmode\":\"overlay\",\"size\":10,\"solidity\":0.2}},\"type\":\"bar\"}],\"carpet\":[{\"aaxis\":{\"endlinecolor\":\"#2a3f5f\",\"gridcolor\":\"white\",\"linecolor\":\"white\",\"minorgridcolor\":\"white\",\"startlinecolor\":\"#2a3f5f\"},\"baxis\":{\"endlinecolor\":\"#2a3f5f\",\"gridcolor\":\"white\",\"linecolor\":\"white\",\"minorgridcolor\":\"white\",\"startlinecolor\":\"#2a3f5f\"},\"type\":\"carpet\"}],\"choropleth\":[{\"colorbar\":{\"outlinewidth\":0,\"ticks\":\"\"},\"type\":\"choropleth\"}],\"contourcarpet\":[{\"colorbar\":{\"outlinewidth\":0,\"ticks\":\"\"},\"type\":\"contourcarpet\"}],\"contour\":[{\"colorbar\":{\"outlinewidth\":0,\"ticks\":\"\"},\"colorscale\":[[0.0,\"#0d0887\"],[0.1111111111111111,\"#46039f\"],[0.2222222222222222,\"#7201a8\"],[0.3333333333333333,\"#9c179e\"],[0.4444444444444444,\"#bd3786\"],[0.5555555555555556,\"#d8576b\"],[0.6666666666666666,\"#ed7953\"],[0.7777777777777778,\"#fb9f3a\"],[0.8888888888888888,\"#fdca26\"],[1.0,\"#f0f921\"]],\"type\":\"contour\"}],\"heatmapgl\":[{\"colorbar\":{\"outlinewidth\":0,\"ticks\":\"\"},\"colorscale\":[[0.0,\"#0d0887\"],[0.1111111111111111,\"#46039f\"],[0.2222222222222222,\"#7201a8\"],[0.3333333333333333,\"#9c179e\"],[0.4444444444444444,\"#bd3786\"],[0.5555555555555556,\"#d8576b\"],[0.6666666666666666,\"#ed7953\"],[0.7777777777777778,\"#fb9f3a\"],[0.8888888888888888,\"#fdca26\"],[1.0,\"#f0f921\"]],\"type\":\"heatmapgl\"}],\"heatmap\":[{\"colorbar\":{\"outlinewidth\":0,\"ticks\":\"\"},\"colorscale\":[[0.0,\"#0d0887\"],[0.1111111111111111,\"#46039f\"],[0.2222222222222222,\"#7201a8\"],[0.3333333333333333,\"#9c179e\"],[0.4444444444444444,\"#bd3786\"],[0.5555555555555556,\"#d8576b\"],[0.6666666666666666,\"#ed7953\"],[0.7777777777777778,\"#fb9f3a\"],[0.8888888888888888,\"#fdca26\"],[1.0,\"#f0f921\"]],\"type\":\"heatmap\"}],\"histogram2dcontour\":[{\"colorbar\":{\"outlinewidth\":0,\"ticks\":\"\"},\"colorscale\":[[0.0,\"#0d0887\"],[0.1111111111111111,\"#46039f\"],[0.2222222222222222,\"#7201a8\"],[0.3333333333333333,\"#9c179e\"],[0.4444444444444444,\"#bd3786\"],[0.5555555555555556,\"#d8576b\"],[0.6666666666666666,\"#ed7953\"],[0.7777777777777778,\"#fb9f3a\"],[0.8888888888888888,\"#fdca26\"],[1.0,\"#f0f921\"]],\"type\":\"histogram2dcontour\"}],\"histogram2d\":[{\"colorbar\":{\"outlinewidth\":0,\"ticks\":\"\"},\"colorscale\":[[0.0,\"#0d0887\"],[0.1111111111111111,\"#46039f\"],[0.2222222222222222,\"#7201a8\"],[0.3333333333333333,\"#9c179e\"],[0.4444444444444444,\"#bd3786\"],[0.5555555555555556,\"#d8576b\"],[0.6666666666666666,\"#ed7953\"],[0.7777777777777778,\"#fb9f3a\"],[0.8888888888888888,\"#fdca26\"],[1.0,\"#f0f921\"]],\"type\":\"histogram2d\"}],\"histogram\":[{\"marker\":{\"pattern\":{\"fillmode\":\"overlay\",\"size\":10,\"solidity\":0.2}},\"type\":\"histogram\"}],\"mesh3d\":[{\"colorbar\":{\"outlinewidth\":0,\"ticks\":\"\"},\"type\":\"mesh3d\"}],\"parcoords\":[{\"line\":{\"colorbar\":{\"outlinewidth\":0,\"ticks\":\"\"}},\"type\":\"parcoords\"}],\"pie\":[{\"automargin\":true,\"type\":\"pie\"}],\"scatter3d\":[{\"line\":{\"colorbar\":{\"outlinewidth\":0,\"ticks\":\"\"}},\"marker\":{\"colorbar\":{\"outlinewidth\":0,\"ticks\":\"\"}},\"type\":\"scatter3d\"}],\"scattercarpet\":[{\"marker\":{\"colorbar\":{\"outlinewidth\":0,\"ticks\":\"\"}},\"type\":\"scattercarpet\"}],\"scattergeo\":[{\"marker\":{\"colorbar\":{\"outlinewidth\":0,\"ticks\":\"\"}},\"type\":\"scattergeo\"}],\"scattergl\":[{\"marker\":{\"colorbar\":{\"outlinewidth\":0,\"ticks\":\"\"}},\"type\":\"scattergl\"}],\"scattermapbox\":[{\"marker\":{\"colorbar\":{\"outlinewidth\":0,\"ticks\":\"\"}},\"type\":\"scattermapbox\"}],\"scatterpolargl\":[{\"marker\":{\"colorbar\":{\"outlinewidth\":0,\"ticks\":\"\"}},\"type\":\"scatterpolargl\"}],\"scatterpolar\":[{\"marker\":{\"colorbar\":{\"outlinewidth\":0,\"ticks\":\"\"}},\"type\":\"scatterpolar\"}],\"scatter\":[{\"fillpattern\":{\"fillmode\":\"overlay\",\"size\":10,\"solidity\":0.2},\"type\":\"scatter\"}],\"scatterternary\":[{\"marker\":{\"colorbar\":{\"outlinewidth\":0,\"ticks\":\"\"}},\"type\":\"scatterternary\"}],\"surface\":[{\"colorbar\":{\"outlinewidth\":0,\"ticks\":\"\"},\"colorscale\":[[0.0,\"#0d0887\"],[0.1111111111111111,\"#46039f\"],[0.2222222222222222,\"#7201a8\"],[0.3333333333333333,\"#9c179e\"],[0.4444444444444444,\"#bd3786\"],[0.5555555555555556,\"#d8576b\"],[0.6666666666666666,\"#ed7953\"],[0.7777777777777778,\"#fb9f3a\"],[0.8888888888888888,\"#fdca26\"],[1.0,\"#f0f921\"]],\"type\":\"surface\"}],\"table\":[{\"cells\":{\"fill\":{\"color\":\"#EBF0F8\"},\"line\":{\"color\":\"white\"}},\"header\":{\"fill\":{\"color\":\"#C8D4E3\"},\"line\":{\"color\":\"white\"}},\"type\":\"table\"}]},\"layout\":{\"annotationdefaults\":{\"arrowcolor\":\"#2a3f5f\",\"arrowhead\":0,\"arrowwidth\":1},\"autotypenumbers\":\"strict\",\"coloraxis\":{\"colorbar\":{\"outlinewidth\":0,\"ticks\":\"\"}},\"colorscale\":{\"diverging\":[[0,\"#8e0152\"],[0.1,\"#c51b7d\"],[0.2,\"#de77ae\"],[0.3,\"#f1b6da\"],[0.4,\"#fde0ef\"],[0.5,\"#f7f7f7\"],[0.6,\"#e6f5d0\"],[0.7,\"#b8e186\"],[0.8,\"#7fbc41\"],[0.9,\"#4d9221\"],[1,\"#276419\"]],\"sequential\":[[0.0,\"#0d0887\"],[0.1111111111111111,\"#46039f\"],[0.2222222222222222,\"#7201a8\"],[0.3333333333333333,\"#9c179e\"],[0.4444444444444444,\"#bd3786\"],[0.5555555555555556,\"#d8576b\"],[0.6666666666666666,\"#ed7953\"],[0.7777777777777778,\"#fb9f3a\"],[0.8888888888888888,\"#fdca26\"],[1.0,\"#f0f921\"]],\"sequentialminus\":[[0.0,\"#0d0887\"],[0.1111111111111111,\"#46039f\"],[0.2222222222222222,\"#7201a8\"],[0.3333333333333333,\"#9c179e\"],[0.4444444444444444,\"#bd3786\"],[0.5555555555555556,\"#d8576b\"],[0.6666666666666666,\"#ed7953\"],[0.7777777777777778,\"#fb9f3a\"],[0.8888888888888888,\"#fdca26\"],[1.0,\"#f0f921\"]]},\"colorway\":[\"#636efa\",\"#EF553B\",\"#00cc96\",\"#ab63fa\",\"#FFA15A\",\"#19d3f3\",\"#FF6692\",\"#B6E880\",\"#FF97FF\",\"#FECB52\"],\"font\":{\"color\":\"#2a3f5f\"},\"geo\":{\"bgcolor\":\"white\",\"lakecolor\":\"white\",\"landcolor\":\"#E5ECF6\",\"showlakes\":true,\"showland\":true,\"subunitcolor\":\"white\"},\"hoverlabel\":{\"align\":\"left\"},\"hovermode\":\"closest\",\"mapbox\":{\"style\":\"light\"},\"paper_bgcolor\":\"white\",\"plot_bgcolor\":\"#E5ECF6\",\"polar\":{\"angularaxis\":{\"gridcolor\":\"white\",\"linecolor\":\"white\",\"ticks\":\"\"},\"bgcolor\":\"#E5ECF6\",\"radialaxis\":{\"gridcolor\":\"white\",\"linecolor\":\"white\",\"ticks\":\"\"}},\"scene\":{\"xaxis\":{\"backgroundcolor\":\"#E5ECF6\",\"gridcolor\":\"white\",\"gridwidth\":2,\"linecolor\":\"white\",\"showbackground\":true,\"ticks\":\"\",\"zerolinecolor\":\"white\"},\"yaxis\":{\"backgroundcolor\":\"#E5ECF6\",\"gridcolor\":\"white\",\"gridwidth\":2,\"linecolor\":\"white\",\"showbackground\":true,\"ticks\":\"\",\"zerolinecolor\":\"white\"},\"zaxis\":{\"backgroundcolor\":\"#E5ECF6\",\"gridcolor\":\"white\",\"gridwidth\":2,\"linecolor\":\"white\",\"showbackground\":true,\"ticks\":\"\",\"zerolinecolor\":\"white\"}},\"shapedefaults\":{\"line\":{\"color\":\"#2a3f5f\"}},\"ternary\":{\"aaxis\":{\"gridcolor\":\"white\",\"linecolor\":\"white\",\"ticks\":\"\"},\"baxis\":{\"gridcolor\":\"white\",\"linecolor\":\"white\",\"ticks\":\"\"},\"bgcolor\":\"#E5ECF6\",\"caxis\":{\"gridcolor\":\"white\",\"linecolor\":\"white\",\"ticks\":\"\"}},\"title\":{\"x\":0.05},\"xaxis\":{\"automargin\":true,\"gridcolor\":\"white\",\"linecolor\":\"white\",\"ticks\":\"\",\"title\":{\"standoff\":15},\"zerolinecolor\":\"white\",\"zerolinewidth\":2},\"yaxis\":{\"automargin\":true,\"gridcolor\":\"white\",\"linecolor\":\"white\",\"ticks\":\"\",\"title\":{\"standoff\":15},\"zerolinecolor\":\"white\",\"zerolinewidth\":2}}},\"xaxis\":{\"anchor\":\"y\",\"domain\":[0.0,1.0],\"title\":{\"text\":\"id_s\"}},\"yaxis\":{\"anchor\":\"x\",\"domain\":[0.0,1.0],\"title\":{\"text\":\"rom_rmse\"}},\"legend\":{\"tracegroupgap\":0},\"title\":{\"text\":\"Elbow Flexion ROM RMSE, cad = 4.48\"},\"barmode\":\"relative\",\"shapes\":[{\"line\":{\"color\":\"red\",\"dash\":\"dash\"},\"name\":\"CAD\",\"type\":\"line\",\"x0\":0,\"x1\":1,\"xref\":\"x domain\",\"y0\":4.48,\"y1\":4.48,\"yref\":\"y\"}]},                        {\"responsive\": true}                    ).then(function(){\n",
       "                            \n",
       "var gd = document.getElementById('89855412-5220-476a-97fb-21a4bbee0a3a');\n",
       "var x = new MutationObserver(function (mutations, observer) {{\n",
       "        var display = window.getComputedStyle(gd).display;\n",
       "        if (!display || display === 'none') {{\n",
       "            console.log([gd, 'removed!']);\n",
       "            Plotly.purge(gd);\n",
       "            observer.disconnect();\n",
       "        }}\n",
       "}});\n",
       "\n",
       "// Listen for the removal of the full notebook cells\n",
       "var notebookContainer = gd.closest('#notebook-container');\n",
       "if (notebookContainer) {{\n",
       "    x.observe(notebookContainer, {childList: true});\n",
       "}}\n",
       "\n",
       "// Listen for the clearing of the current output cell\n",
       "var outputEl = gd.closest('.output');\n",
       "if (outputEl) {{\n",
       "    x.observe(outputEl, {childList: true});\n",
       "}}\n",
       "\n",
       "                        })                };                });            </script>        </div>"
      ]
     },
     "metadata": {},
     "output_type": "display_data"
    },
    {
     "data": {
      "application/vnd.plotly.v1+json": {
       "data": [
        {
         "alignmentgroup": "True",
         "hovertemplate": "id_s=%{x}<br>rom_rmse=%{y}<extra></extra>",
         "legendgroup": "",
         "marker": {
          "color": "#636efa",
          "pattern": {
           "shape": ""
          }
         },
         "name": "",
         "offsetgroup": "",
         "orientation": "v",
         "showlegend": false,
         "textposition": "auto",
         "x": [
          "S001",
          "S002",
          "S004",
          "S009",
          "S010",
          "S011",
          "S012",
          "S013",
          "S014",
          "S015",
          "S016",
          "S017",
          "S018",
          "S019",
          "S020",
          "S021",
          "S022",
          "S023",
          "S024",
          "S025",
          "S026"
         ],
         "xaxis": "x",
         "y": [
          15.612322498471785,
          15.115769862547403,
          41.32732679446125,
          38.40907960813233,
          29.711782590741947,
          31.917509505743993,
          28.793981121668107,
          25.34328648118431,
          24.43528170236335,
          43.06365479364985,
          24.777058003786536,
          9.06133602581338,
          8.780851363793879,
          8.95641316559812,
          8.635584089731971,
          8.95641316559812,
          8.635584089731971,
          6.344597144691677,
          6.297453380705563,
          4.316015996758716,
          4.294567413344328
         ],
         "yaxis": "y",
         "type": "bar"
        }
       ],
       "layout": {
        "template": {
         "data": {
          "barpolar": [
           {
            "marker": {
             "line": {
              "color": "#E5ECF6",
              "width": 0.5
             },
             "pattern": {
              "fillmode": "overlay",
              "size": 10,
              "solidity": 0.2
             }
            },
            "type": "barpolar"
           }
          ],
          "bar": [
           {
            "error_x": {
             "color": "#2a3f5f"
            },
            "error_y": {
             "color": "#2a3f5f"
            },
            "marker": {
             "line": {
              "color": "#E5ECF6",
              "width": 0.5
             },
             "pattern": {
              "fillmode": "overlay",
              "size": 10,
              "solidity": 0.2
             }
            },
            "type": "bar"
           }
          ],
          "carpet": [
           {
            "aaxis": {
             "endlinecolor": "#2a3f5f",
             "gridcolor": "white",
             "linecolor": "white",
             "minorgridcolor": "white",
             "startlinecolor": "#2a3f5f"
            },
            "baxis": {
             "endlinecolor": "#2a3f5f",
             "gridcolor": "white",
             "linecolor": "white",
             "minorgridcolor": "white",
             "startlinecolor": "#2a3f5f"
            },
            "type": "carpet"
           }
          ],
          "choropleth": [
           {
            "colorbar": {
             "outlinewidth": 0,
             "ticks": ""
            },
            "type": "choropleth"
           }
          ],
          "contourcarpet": [
           {
            "colorbar": {
             "outlinewidth": 0,
             "ticks": ""
            },
            "type": "contourcarpet"
           }
          ],
          "contour": [
           {
            "colorbar": {
             "outlinewidth": 0,
             "ticks": ""
            },
            "colorscale": [
             [
              0.0,
              "#0d0887"
             ],
             [
              0.1111111111111111,
              "#46039f"
             ],
             [
              0.2222222222222222,
              "#7201a8"
             ],
             [
              0.3333333333333333,
              "#9c179e"
             ],
             [
              0.4444444444444444,
              "#bd3786"
             ],
             [
              0.5555555555555556,
              "#d8576b"
             ],
             [
              0.6666666666666666,
              "#ed7953"
             ],
             [
              0.7777777777777778,
              "#fb9f3a"
             ],
             [
              0.8888888888888888,
              "#fdca26"
             ],
             [
              1.0,
              "#f0f921"
             ]
            ],
            "type": "contour"
           }
          ],
          "heatmapgl": [
           {
            "colorbar": {
             "outlinewidth": 0,
             "ticks": ""
            },
            "colorscale": [
             [
              0.0,
              "#0d0887"
             ],
             [
              0.1111111111111111,
              "#46039f"
             ],
             [
              0.2222222222222222,
              "#7201a8"
             ],
             [
              0.3333333333333333,
              "#9c179e"
             ],
             [
              0.4444444444444444,
              "#bd3786"
             ],
             [
              0.5555555555555556,
              "#d8576b"
             ],
             [
              0.6666666666666666,
              "#ed7953"
             ],
             [
              0.7777777777777778,
              "#fb9f3a"
             ],
             [
              0.8888888888888888,
              "#fdca26"
             ],
             [
              1.0,
              "#f0f921"
             ]
            ],
            "type": "heatmapgl"
           }
          ],
          "heatmap": [
           {
            "colorbar": {
             "outlinewidth": 0,
             "ticks": ""
            },
            "colorscale": [
             [
              0.0,
              "#0d0887"
             ],
             [
              0.1111111111111111,
              "#46039f"
             ],
             [
              0.2222222222222222,
              "#7201a8"
             ],
             [
              0.3333333333333333,
              "#9c179e"
             ],
             [
              0.4444444444444444,
              "#bd3786"
             ],
             [
              0.5555555555555556,
              "#d8576b"
             ],
             [
              0.6666666666666666,
              "#ed7953"
             ],
             [
              0.7777777777777778,
              "#fb9f3a"
             ],
             [
              0.8888888888888888,
              "#fdca26"
             ],
             [
              1.0,
              "#f0f921"
             ]
            ],
            "type": "heatmap"
           }
          ],
          "histogram2dcontour": [
           {
            "colorbar": {
             "outlinewidth": 0,
             "ticks": ""
            },
            "colorscale": [
             [
              0.0,
              "#0d0887"
             ],
             [
              0.1111111111111111,
              "#46039f"
             ],
             [
              0.2222222222222222,
              "#7201a8"
             ],
             [
              0.3333333333333333,
              "#9c179e"
             ],
             [
              0.4444444444444444,
              "#bd3786"
             ],
             [
              0.5555555555555556,
              "#d8576b"
             ],
             [
              0.6666666666666666,
              "#ed7953"
             ],
             [
              0.7777777777777778,
              "#fb9f3a"
             ],
             [
              0.8888888888888888,
              "#fdca26"
             ],
             [
              1.0,
              "#f0f921"
             ]
            ],
            "type": "histogram2dcontour"
           }
          ],
          "histogram2d": [
           {
            "colorbar": {
             "outlinewidth": 0,
             "ticks": ""
            },
            "colorscale": [
             [
              0.0,
              "#0d0887"
             ],
             [
              0.1111111111111111,
              "#46039f"
             ],
             [
              0.2222222222222222,
              "#7201a8"
             ],
             [
              0.3333333333333333,
              "#9c179e"
             ],
             [
              0.4444444444444444,
              "#bd3786"
             ],
             [
              0.5555555555555556,
              "#d8576b"
             ],
             [
              0.6666666666666666,
              "#ed7953"
             ],
             [
              0.7777777777777778,
              "#fb9f3a"
             ],
             [
              0.8888888888888888,
              "#fdca26"
             ],
             [
              1.0,
              "#f0f921"
             ]
            ],
            "type": "histogram2d"
           }
          ],
          "histogram": [
           {
            "marker": {
             "pattern": {
              "fillmode": "overlay",
              "size": 10,
              "solidity": 0.2
             }
            },
            "type": "histogram"
           }
          ],
          "mesh3d": [
           {
            "colorbar": {
             "outlinewidth": 0,
             "ticks": ""
            },
            "type": "mesh3d"
           }
          ],
          "parcoords": [
           {
            "line": {
             "colorbar": {
              "outlinewidth": 0,
              "ticks": ""
             }
            },
            "type": "parcoords"
           }
          ],
          "pie": [
           {
            "automargin": true,
            "type": "pie"
           }
          ],
          "scatter3d": [
           {
            "line": {
             "colorbar": {
              "outlinewidth": 0,
              "ticks": ""
             }
            },
            "marker": {
             "colorbar": {
              "outlinewidth": 0,
              "ticks": ""
             }
            },
            "type": "scatter3d"
           }
          ],
          "scattercarpet": [
           {
            "marker": {
             "colorbar": {
              "outlinewidth": 0,
              "ticks": ""
             }
            },
            "type": "scattercarpet"
           }
          ],
          "scattergeo": [
           {
            "marker": {
             "colorbar": {
              "outlinewidth": 0,
              "ticks": ""
             }
            },
            "type": "scattergeo"
           }
          ],
          "scattergl": [
           {
            "marker": {
             "colorbar": {
              "outlinewidth": 0,
              "ticks": ""
             }
            },
            "type": "scattergl"
           }
          ],
          "scattermapbox": [
           {
            "marker": {
             "colorbar": {
              "outlinewidth": 0,
              "ticks": ""
             }
            },
            "type": "scattermapbox"
           }
          ],
          "scatterpolargl": [
           {
            "marker": {
             "colorbar": {
              "outlinewidth": 0,
              "ticks": ""
             }
            },
            "type": "scatterpolargl"
           }
          ],
          "scatterpolar": [
           {
            "marker": {
             "colorbar": {
              "outlinewidth": 0,
              "ticks": ""
             }
            },
            "type": "scatterpolar"
           }
          ],
          "scatter": [
           {
            "fillpattern": {
             "fillmode": "overlay",
             "size": 10,
             "solidity": 0.2
            },
            "type": "scatter"
           }
          ],
          "scatterternary": [
           {
            "marker": {
             "colorbar": {
              "outlinewidth": 0,
              "ticks": ""
             }
            },
            "type": "scatterternary"
           }
          ],
          "surface": [
           {
            "colorbar": {
             "outlinewidth": 0,
             "ticks": ""
            },
            "colorscale": [
             [
              0.0,
              "#0d0887"
             ],
             [
              0.1111111111111111,
              "#46039f"
             ],
             [
              0.2222222222222222,
              "#7201a8"
             ],
             [
              0.3333333333333333,
              "#9c179e"
             ],
             [
              0.4444444444444444,
              "#bd3786"
             ],
             [
              0.5555555555555556,
              "#d8576b"
             ],
             [
              0.6666666666666666,
              "#ed7953"
             ],
             [
              0.7777777777777778,
              "#fb9f3a"
             ],
             [
              0.8888888888888888,
              "#fdca26"
             ],
             [
              1.0,
              "#f0f921"
             ]
            ],
            "type": "surface"
           }
          ],
          "table": [
           {
            "cells": {
             "fill": {
              "color": "#EBF0F8"
             },
             "line": {
              "color": "white"
             }
            },
            "header": {
             "fill": {
              "color": "#C8D4E3"
             },
             "line": {
              "color": "white"
             }
            },
            "type": "table"
           }
          ]
         },
         "layout": {
          "annotationdefaults": {
           "arrowcolor": "#2a3f5f",
           "arrowhead": 0,
           "arrowwidth": 1
          },
          "autotypenumbers": "strict",
          "coloraxis": {
           "colorbar": {
            "outlinewidth": 0,
            "ticks": ""
           }
          },
          "colorscale": {
           "diverging": [
            [
             0,
             "#8e0152"
            ],
            [
             0.1,
             "#c51b7d"
            ],
            [
             0.2,
             "#de77ae"
            ],
            [
             0.3,
             "#f1b6da"
            ],
            [
             0.4,
             "#fde0ef"
            ],
            [
             0.5,
             "#f7f7f7"
            ],
            [
             0.6,
             "#e6f5d0"
            ],
            [
             0.7,
             "#b8e186"
            ],
            [
             0.8,
             "#7fbc41"
            ],
            [
             0.9,
             "#4d9221"
            ],
            [
             1,
             "#276419"
            ]
           ],
           "sequential": [
            [
             0.0,
             "#0d0887"
            ],
            [
             0.1111111111111111,
             "#46039f"
            ],
            [
             0.2222222222222222,
             "#7201a8"
            ],
            [
             0.3333333333333333,
             "#9c179e"
            ],
            [
             0.4444444444444444,
             "#bd3786"
            ],
            [
             0.5555555555555556,
             "#d8576b"
            ],
            [
             0.6666666666666666,
             "#ed7953"
            ],
            [
             0.7777777777777778,
             "#fb9f3a"
            ],
            [
             0.8888888888888888,
             "#fdca26"
            ],
            [
             1.0,
             "#f0f921"
            ]
           ],
           "sequentialminus": [
            [
             0.0,
             "#0d0887"
            ],
            [
             0.1111111111111111,
             "#46039f"
            ],
            [
             0.2222222222222222,
             "#7201a8"
            ],
            [
             0.3333333333333333,
             "#9c179e"
            ],
            [
             0.4444444444444444,
             "#bd3786"
            ],
            [
             0.5555555555555556,
             "#d8576b"
            ],
            [
             0.6666666666666666,
             "#ed7953"
            ],
            [
             0.7777777777777778,
             "#fb9f3a"
            ],
            [
             0.8888888888888888,
             "#fdca26"
            ],
            [
             1.0,
             "#f0f921"
            ]
           ]
          },
          "colorway": [
           "#636efa",
           "#EF553B",
           "#00cc96",
           "#ab63fa",
           "#FFA15A",
           "#19d3f3",
           "#FF6692",
           "#B6E880",
           "#FF97FF",
           "#FECB52"
          ],
          "font": {
           "color": "#2a3f5f"
          },
          "geo": {
           "bgcolor": "white",
           "lakecolor": "white",
           "landcolor": "#E5ECF6",
           "showlakes": true,
           "showland": true,
           "subunitcolor": "white"
          },
          "hoverlabel": {
           "align": "left"
          },
          "hovermode": "closest",
          "mapbox": {
           "style": "light"
          },
          "paper_bgcolor": "white",
          "plot_bgcolor": "#E5ECF6",
          "polar": {
           "angularaxis": {
            "gridcolor": "white",
            "linecolor": "white",
            "ticks": ""
           },
           "bgcolor": "#E5ECF6",
           "radialaxis": {
            "gridcolor": "white",
            "linecolor": "white",
            "ticks": ""
           }
          },
          "scene": {
           "xaxis": {
            "backgroundcolor": "#E5ECF6",
            "gridcolor": "white",
            "gridwidth": 2,
            "linecolor": "white",
            "showbackground": true,
            "ticks": "",
            "zerolinecolor": "white"
           },
           "yaxis": {
            "backgroundcolor": "#E5ECF6",
            "gridcolor": "white",
            "gridwidth": 2,
            "linecolor": "white",
            "showbackground": true,
            "ticks": "",
            "zerolinecolor": "white"
           },
           "zaxis": {
            "backgroundcolor": "#E5ECF6",
            "gridcolor": "white",
            "gridwidth": 2,
            "linecolor": "white",
            "showbackground": true,
            "ticks": "",
            "zerolinecolor": "white"
           }
          },
          "shapedefaults": {
           "line": {
            "color": "#2a3f5f"
           }
          },
          "ternary": {
           "aaxis": {
            "gridcolor": "white",
            "linecolor": "white",
            "ticks": ""
           },
           "baxis": {
            "gridcolor": "white",
            "linecolor": "white",
            "ticks": ""
           },
           "bgcolor": "#E5ECF6",
           "caxis": {
            "gridcolor": "white",
            "linecolor": "white",
            "ticks": ""
           }
          },
          "title": {
           "x": 0.05
          },
          "xaxis": {
           "automargin": true,
           "gridcolor": "white",
           "linecolor": "white",
           "ticks": "",
           "title": {
            "standoff": 15
           },
           "zerolinecolor": "white",
           "zerolinewidth": 2
          },
          "yaxis": {
           "automargin": true,
           "gridcolor": "white",
           "linecolor": "white",
           "ticks": "",
           "title": {
            "standoff": 15
           },
           "zerolinecolor": "white",
           "zerolinewidth": 2
          }
         }
        },
        "xaxis": {
         "anchor": "y",
         "domain": [
          0.0,
          1.0
         ],
         "title": {
          "text": "id_s"
         }
        },
        "yaxis": {
         "anchor": "x",
         "domain": [
          0.0,
          1.0
         ],
         "title": {
          "text": "rom_rmse"
         }
        },
        "legend": {
         "tracegroupgap": 0
        },
        "title": {
         "text": "Shoulder Flexion ROM RMSE, cad = 7.82"
        },
        "barmode": "relative",
        "shapes": [
         {
          "line": {
           "color": "red",
           "dash": "dash"
          },
          "name": "CAD",
          "type": "line",
          "x0": 0,
          "x1": 1,
          "xref": "x domain",
          "y0": 7.82,
          "y1": 7.82,
          "yref": "y"
         }
        ]
       },
       "config": {
        "plotlyServerURL": "https://plot.ly"
       }
      },
      "text/html": [
       "<div>                            <div id=\"28e2f5b4-7790-416f-b0f4-bfae7d76ec58\" class=\"plotly-graph-div\" style=\"height:525px; width:100%;\"></div>            <script type=\"text/javascript\">                require([\"plotly\"], function(Plotly) {                    window.PLOTLYENV=window.PLOTLYENV || {};                                    if (document.getElementById(\"28e2f5b4-7790-416f-b0f4-bfae7d76ec58\")) {                    Plotly.newPlot(                        \"28e2f5b4-7790-416f-b0f4-bfae7d76ec58\",                        [{\"alignmentgroup\":\"True\",\"hovertemplate\":\"id_s=%{x}\\u003cbr\\u003erom_rmse=%{y}\\u003cextra\\u003e\\u003c\\u002fextra\\u003e\",\"legendgroup\":\"\",\"marker\":{\"color\":\"#636efa\",\"pattern\":{\"shape\":\"\"}},\"name\":\"\",\"offsetgroup\":\"\",\"orientation\":\"v\",\"showlegend\":false,\"textposition\":\"auto\",\"x\":[\"S001\",\"S002\",\"S004\",\"S009\",\"S010\",\"S011\",\"S012\",\"S013\",\"S014\",\"S015\",\"S016\",\"S017\",\"S018\",\"S019\",\"S020\",\"S021\",\"S022\",\"S023\",\"S024\",\"S025\",\"S026\"],\"xaxis\":\"x\",\"y\":[15.612322498471785,15.115769862547403,41.32732679446125,38.40907960813233,29.711782590741947,31.917509505743993,28.793981121668107,25.34328648118431,24.43528170236335,43.06365479364985,24.777058003786536,9.06133602581338,8.780851363793879,8.95641316559812,8.635584089731971,8.95641316559812,8.635584089731971,6.344597144691677,6.297453380705563,4.316015996758716,4.294567413344328],\"yaxis\":\"y\",\"type\":\"bar\"}],                        {\"template\":{\"data\":{\"barpolar\":[{\"marker\":{\"line\":{\"color\":\"#E5ECF6\",\"width\":0.5},\"pattern\":{\"fillmode\":\"overlay\",\"size\":10,\"solidity\":0.2}},\"type\":\"barpolar\"}],\"bar\":[{\"error_x\":{\"color\":\"#2a3f5f\"},\"error_y\":{\"color\":\"#2a3f5f\"},\"marker\":{\"line\":{\"color\":\"#E5ECF6\",\"width\":0.5},\"pattern\":{\"fillmode\":\"overlay\",\"size\":10,\"solidity\":0.2}},\"type\":\"bar\"}],\"carpet\":[{\"aaxis\":{\"endlinecolor\":\"#2a3f5f\",\"gridcolor\":\"white\",\"linecolor\":\"white\",\"minorgridcolor\":\"white\",\"startlinecolor\":\"#2a3f5f\"},\"baxis\":{\"endlinecolor\":\"#2a3f5f\",\"gridcolor\":\"white\",\"linecolor\":\"white\",\"minorgridcolor\":\"white\",\"startlinecolor\":\"#2a3f5f\"},\"type\":\"carpet\"}],\"choropleth\":[{\"colorbar\":{\"outlinewidth\":0,\"ticks\":\"\"},\"type\":\"choropleth\"}],\"contourcarpet\":[{\"colorbar\":{\"outlinewidth\":0,\"ticks\":\"\"},\"type\":\"contourcarpet\"}],\"contour\":[{\"colorbar\":{\"outlinewidth\":0,\"ticks\":\"\"},\"colorscale\":[[0.0,\"#0d0887\"],[0.1111111111111111,\"#46039f\"],[0.2222222222222222,\"#7201a8\"],[0.3333333333333333,\"#9c179e\"],[0.4444444444444444,\"#bd3786\"],[0.5555555555555556,\"#d8576b\"],[0.6666666666666666,\"#ed7953\"],[0.7777777777777778,\"#fb9f3a\"],[0.8888888888888888,\"#fdca26\"],[1.0,\"#f0f921\"]],\"type\":\"contour\"}],\"heatmapgl\":[{\"colorbar\":{\"outlinewidth\":0,\"ticks\":\"\"},\"colorscale\":[[0.0,\"#0d0887\"],[0.1111111111111111,\"#46039f\"],[0.2222222222222222,\"#7201a8\"],[0.3333333333333333,\"#9c179e\"],[0.4444444444444444,\"#bd3786\"],[0.5555555555555556,\"#d8576b\"],[0.6666666666666666,\"#ed7953\"],[0.7777777777777778,\"#fb9f3a\"],[0.8888888888888888,\"#fdca26\"],[1.0,\"#f0f921\"]],\"type\":\"heatmapgl\"}],\"heatmap\":[{\"colorbar\":{\"outlinewidth\":0,\"ticks\":\"\"},\"colorscale\":[[0.0,\"#0d0887\"],[0.1111111111111111,\"#46039f\"],[0.2222222222222222,\"#7201a8\"],[0.3333333333333333,\"#9c179e\"],[0.4444444444444444,\"#bd3786\"],[0.5555555555555556,\"#d8576b\"],[0.6666666666666666,\"#ed7953\"],[0.7777777777777778,\"#fb9f3a\"],[0.8888888888888888,\"#fdca26\"],[1.0,\"#f0f921\"]],\"type\":\"heatmap\"}],\"histogram2dcontour\":[{\"colorbar\":{\"outlinewidth\":0,\"ticks\":\"\"},\"colorscale\":[[0.0,\"#0d0887\"],[0.1111111111111111,\"#46039f\"],[0.2222222222222222,\"#7201a8\"],[0.3333333333333333,\"#9c179e\"],[0.4444444444444444,\"#bd3786\"],[0.5555555555555556,\"#d8576b\"],[0.6666666666666666,\"#ed7953\"],[0.7777777777777778,\"#fb9f3a\"],[0.8888888888888888,\"#fdca26\"],[1.0,\"#f0f921\"]],\"type\":\"histogram2dcontour\"}],\"histogram2d\":[{\"colorbar\":{\"outlinewidth\":0,\"ticks\":\"\"},\"colorscale\":[[0.0,\"#0d0887\"],[0.1111111111111111,\"#46039f\"],[0.2222222222222222,\"#7201a8\"],[0.3333333333333333,\"#9c179e\"],[0.4444444444444444,\"#bd3786\"],[0.5555555555555556,\"#d8576b\"],[0.6666666666666666,\"#ed7953\"],[0.7777777777777778,\"#fb9f3a\"],[0.8888888888888888,\"#fdca26\"],[1.0,\"#f0f921\"]],\"type\":\"histogram2d\"}],\"histogram\":[{\"marker\":{\"pattern\":{\"fillmode\":\"overlay\",\"size\":10,\"solidity\":0.2}},\"type\":\"histogram\"}],\"mesh3d\":[{\"colorbar\":{\"outlinewidth\":0,\"ticks\":\"\"},\"type\":\"mesh3d\"}],\"parcoords\":[{\"line\":{\"colorbar\":{\"outlinewidth\":0,\"ticks\":\"\"}},\"type\":\"parcoords\"}],\"pie\":[{\"automargin\":true,\"type\":\"pie\"}],\"scatter3d\":[{\"line\":{\"colorbar\":{\"outlinewidth\":0,\"ticks\":\"\"}},\"marker\":{\"colorbar\":{\"outlinewidth\":0,\"ticks\":\"\"}},\"type\":\"scatter3d\"}],\"scattercarpet\":[{\"marker\":{\"colorbar\":{\"outlinewidth\":0,\"ticks\":\"\"}},\"type\":\"scattercarpet\"}],\"scattergeo\":[{\"marker\":{\"colorbar\":{\"outlinewidth\":0,\"ticks\":\"\"}},\"type\":\"scattergeo\"}],\"scattergl\":[{\"marker\":{\"colorbar\":{\"outlinewidth\":0,\"ticks\":\"\"}},\"type\":\"scattergl\"}],\"scattermapbox\":[{\"marker\":{\"colorbar\":{\"outlinewidth\":0,\"ticks\":\"\"}},\"type\":\"scattermapbox\"}],\"scatterpolargl\":[{\"marker\":{\"colorbar\":{\"outlinewidth\":0,\"ticks\":\"\"}},\"type\":\"scatterpolargl\"}],\"scatterpolar\":[{\"marker\":{\"colorbar\":{\"outlinewidth\":0,\"ticks\":\"\"}},\"type\":\"scatterpolar\"}],\"scatter\":[{\"fillpattern\":{\"fillmode\":\"overlay\",\"size\":10,\"solidity\":0.2},\"type\":\"scatter\"}],\"scatterternary\":[{\"marker\":{\"colorbar\":{\"outlinewidth\":0,\"ticks\":\"\"}},\"type\":\"scatterternary\"}],\"surface\":[{\"colorbar\":{\"outlinewidth\":0,\"ticks\":\"\"},\"colorscale\":[[0.0,\"#0d0887\"],[0.1111111111111111,\"#46039f\"],[0.2222222222222222,\"#7201a8\"],[0.3333333333333333,\"#9c179e\"],[0.4444444444444444,\"#bd3786\"],[0.5555555555555556,\"#d8576b\"],[0.6666666666666666,\"#ed7953\"],[0.7777777777777778,\"#fb9f3a\"],[0.8888888888888888,\"#fdca26\"],[1.0,\"#f0f921\"]],\"type\":\"surface\"}],\"table\":[{\"cells\":{\"fill\":{\"color\":\"#EBF0F8\"},\"line\":{\"color\":\"white\"}},\"header\":{\"fill\":{\"color\":\"#C8D4E3\"},\"line\":{\"color\":\"white\"}},\"type\":\"table\"}]},\"layout\":{\"annotationdefaults\":{\"arrowcolor\":\"#2a3f5f\",\"arrowhead\":0,\"arrowwidth\":1},\"autotypenumbers\":\"strict\",\"coloraxis\":{\"colorbar\":{\"outlinewidth\":0,\"ticks\":\"\"}},\"colorscale\":{\"diverging\":[[0,\"#8e0152\"],[0.1,\"#c51b7d\"],[0.2,\"#de77ae\"],[0.3,\"#f1b6da\"],[0.4,\"#fde0ef\"],[0.5,\"#f7f7f7\"],[0.6,\"#e6f5d0\"],[0.7,\"#b8e186\"],[0.8,\"#7fbc41\"],[0.9,\"#4d9221\"],[1,\"#276419\"]],\"sequential\":[[0.0,\"#0d0887\"],[0.1111111111111111,\"#46039f\"],[0.2222222222222222,\"#7201a8\"],[0.3333333333333333,\"#9c179e\"],[0.4444444444444444,\"#bd3786\"],[0.5555555555555556,\"#d8576b\"],[0.6666666666666666,\"#ed7953\"],[0.7777777777777778,\"#fb9f3a\"],[0.8888888888888888,\"#fdca26\"],[1.0,\"#f0f921\"]],\"sequentialminus\":[[0.0,\"#0d0887\"],[0.1111111111111111,\"#46039f\"],[0.2222222222222222,\"#7201a8\"],[0.3333333333333333,\"#9c179e\"],[0.4444444444444444,\"#bd3786\"],[0.5555555555555556,\"#d8576b\"],[0.6666666666666666,\"#ed7953\"],[0.7777777777777778,\"#fb9f3a\"],[0.8888888888888888,\"#fdca26\"],[1.0,\"#f0f921\"]]},\"colorway\":[\"#636efa\",\"#EF553B\",\"#00cc96\",\"#ab63fa\",\"#FFA15A\",\"#19d3f3\",\"#FF6692\",\"#B6E880\",\"#FF97FF\",\"#FECB52\"],\"font\":{\"color\":\"#2a3f5f\"},\"geo\":{\"bgcolor\":\"white\",\"lakecolor\":\"white\",\"landcolor\":\"#E5ECF6\",\"showlakes\":true,\"showland\":true,\"subunitcolor\":\"white\"},\"hoverlabel\":{\"align\":\"left\"},\"hovermode\":\"closest\",\"mapbox\":{\"style\":\"light\"},\"paper_bgcolor\":\"white\",\"plot_bgcolor\":\"#E5ECF6\",\"polar\":{\"angularaxis\":{\"gridcolor\":\"white\",\"linecolor\":\"white\",\"ticks\":\"\"},\"bgcolor\":\"#E5ECF6\",\"radialaxis\":{\"gridcolor\":\"white\",\"linecolor\":\"white\",\"ticks\":\"\"}},\"scene\":{\"xaxis\":{\"backgroundcolor\":\"#E5ECF6\",\"gridcolor\":\"white\",\"gridwidth\":2,\"linecolor\":\"white\",\"showbackground\":true,\"ticks\":\"\",\"zerolinecolor\":\"white\"},\"yaxis\":{\"backgroundcolor\":\"#E5ECF6\",\"gridcolor\":\"white\",\"gridwidth\":2,\"linecolor\":\"white\",\"showbackground\":true,\"ticks\":\"\",\"zerolinecolor\":\"white\"},\"zaxis\":{\"backgroundcolor\":\"#E5ECF6\",\"gridcolor\":\"white\",\"gridwidth\":2,\"linecolor\":\"white\",\"showbackground\":true,\"ticks\":\"\",\"zerolinecolor\":\"white\"}},\"shapedefaults\":{\"line\":{\"color\":\"#2a3f5f\"}},\"ternary\":{\"aaxis\":{\"gridcolor\":\"white\",\"linecolor\":\"white\",\"ticks\":\"\"},\"baxis\":{\"gridcolor\":\"white\",\"linecolor\":\"white\",\"ticks\":\"\"},\"bgcolor\":\"#E5ECF6\",\"caxis\":{\"gridcolor\":\"white\",\"linecolor\":\"white\",\"ticks\":\"\"}},\"title\":{\"x\":0.05},\"xaxis\":{\"automargin\":true,\"gridcolor\":\"white\",\"linecolor\":\"white\",\"ticks\":\"\",\"title\":{\"standoff\":15},\"zerolinecolor\":\"white\",\"zerolinewidth\":2},\"yaxis\":{\"automargin\":true,\"gridcolor\":\"white\",\"linecolor\":\"white\",\"ticks\":\"\",\"title\":{\"standoff\":15},\"zerolinecolor\":\"white\",\"zerolinewidth\":2}}},\"xaxis\":{\"anchor\":\"y\",\"domain\":[0.0,1.0],\"title\":{\"text\":\"id_s\"}},\"yaxis\":{\"anchor\":\"x\",\"domain\":[0.0,1.0],\"title\":{\"text\":\"rom_rmse\"}},\"legend\":{\"tracegroupgap\":0},\"title\":{\"text\":\"Shoulder Flexion ROM RMSE, cad = 7.82\"},\"barmode\":\"relative\",\"shapes\":[{\"line\":{\"color\":\"red\",\"dash\":\"dash\"},\"name\":\"CAD\",\"type\":\"line\",\"x0\":0,\"x1\":1,\"xref\":\"x domain\",\"y0\":7.82,\"y1\":7.82,\"yref\":\"y\"}]},                        {\"responsive\": true}                    ).then(function(){\n",
       "                            \n",
       "var gd = document.getElementById('28e2f5b4-7790-416f-b0f4-bfae7d76ec58');\n",
       "var x = new MutationObserver(function (mutations, observer) {{\n",
       "        var display = window.getComputedStyle(gd).display;\n",
       "        if (!display || display === 'none') {{\n",
       "            console.log([gd, 'removed!']);\n",
       "            Plotly.purge(gd);\n",
       "            observer.disconnect();\n",
       "        }}\n",
       "}});\n",
       "\n",
       "// Listen for the removal of the full notebook cells\n",
       "var notebookContainer = gd.closest('#notebook-container');\n",
       "if (notebookContainer) {{\n",
       "    x.observe(notebookContainer, {childList: true});\n",
       "}}\n",
       "\n",
       "// Listen for the clearing of the current output cell\n",
       "var outputEl = gd.closest('.output');\n",
       "if (outputEl) {{\n",
       "    x.observe(outputEl, {childList: true});\n",
       "}}\n",
       "\n",
       "                        })                };                });            </script>        </div>"
      ]
     },
     "metadata": {},
     "output_type": "display_data"
    },
    {
     "data": {
      "application/vnd.plotly.v1+json": {
       "data": [
        {
         "alignmentgroup": "True",
         "hovertemplate": "id_s=%{x}<br>rom_rmse=%{y}<extra></extra>",
         "legendgroup": "",
         "marker": {
          "color": "#636efa",
          "pattern": {
           "shape": ""
          }
         },
         "name": "",
         "offsetgroup": "",
         "orientation": "v",
         "showlegend": false,
         "textposition": "auto",
         "x": [
          "S001",
          "S002",
          "S004",
          "S009",
          "S010",
          "S011",
          "S012",
          "S013",
          "S014",
          "S015",
          "S016",
          "S017",
          "S018",
          "S019",
          "S020",
          "S021",
          "S022",
          "S023",
          "S024",
          "S025",
          "S026"
         ],
         "xaxis": "x",
         "y": [
          13.058625467510598,
          14.764400447169674,
          21.686692193479974,
          37.73762205756167,
          60.329990012826656,
          35.472330361031766,
          28.114763313813484,
          24.257023851857337,
          27.711198700186024,
          27.976053055485405,
          42.463179554213205,
          7.629520222521799,
          7.612013525703967,
          7.617481017079945,
          7.6004584239548585,
          7.617481017079945,
          7.6004584239548585,
          4.3190665632369125,
          4.31173154176537,
          2.9027584246577716,
          2.940550044875876
         ],
         "yaxis": "y",
         "type": "bar"
        }
       ],
       "layout": {
        "template": {
         "data": {
          "barpolar": [
           {
            "marker": {
             "line": {
              "color": "#E5ECF6",
              "width": 0.5
             },
             "pattern": {
              "fillmode": "overlay",
              "size": 10,
              "solidity": 0.2
             }
            },
            "type": "barpolar"
           }
          ],
          "bar": [
           {
            "error_x": {
             "color": "#2a3f5f"
            },
            "error_y": {
             "color": "#2a3f5f"
            },
            "marker": {
             "line": {
              "color": "#E5ECF6",
              "width": 0.5
             },
             "pattern": {
              "fillmode": "overlay",
              "size": 10,
              "solidity": 0.2
             }
            },
            "type": "bar"
           }
          ],
          "carpet": [
           {
            "aaxis": {
             "endlinecolor": "#2a3f5f",
             "gridcolor": "white",
             "linecolor": "white",
             "minorgridcolor": "white",
             "startlinecolor": "#2a3f5f"
            },
            "baxis": {
             "endlinecolor": "#2a3f5f",
             "gridcolor": "white",
             "linecolor": "white",
             "minorgridcolor": "white",
             "startlinecolor": "#2a3f5f"
            },
            "type": "carpet"
           }
          ],
          "choropleth": [
           {
            "colorbar": {
             "outlinewidth": 0,
             "ticks": ""
            },
            "type": "choropleth"
           }
          ],
          "contourcarpet": [
           {
            "colorbar": {
             "outlinewidth": 0,
             "ticks": ""
            },
            "type": "contourcarpet"
           }
          ],
          "contour": [
           {
            "colorbar": {
             "outlinewidth": 0,
             "ticks": ""
            },
            "colorscale": [
             [
              0.0,
              "#0d0887"
             ],
             [
              0.1111111111111111,
              "#46039f"
             ],
             [
              0.2222222222222222,
              "#7201a8"
             ],
             [
              0.3333333333333333,
              "#9c179e"
             ],
             [
              0.4444444444444444,
              "#bd3786"
             ],
             [
              0.5555555555555556,
              "#d8576b"
             ],
             [
              0.6666666666666666,
              "#ed7953"
             ],
             [
              0.7777777777777778,
              "#fb9f3a"
             ],
             [
              0.8888888888888888,
              "#fdca26"
             ],
             [
              1.0,
              "#f0f921"
             ]
            ],
            "type": "contour"
           }
          ],
          "heatmapgl": [
           {
            "colorbar": {
             "outlinewidth": 0,
             "ticks": ""
            },
            "colorscale": [
             [
              0.0,
              "#0d0887"
             ],
             [
              0.1111111111111111,
              "#46039f"
             ],
             [
              0.2222222222222222,
              "#7201a8"
             ],
             [
              0.3333333333333333,
              "#9c179e"
             ],
             [
              0.4444444444444444,
              "#bd3786"
             ],
             [
              0.5555555555555556,
              "#d8576b"
             ],
             [
              0.6666666666666666,
              "#ed7953"
             ],
             [
              0.7777777777777778,
              "#fb9f3a"
             ],
             [
              0.8888888888888888,
              "#fdca26"
             ],
             [
              1.0,
              "#f0f921"
             ]
            ],
            "type": "heatmapgl"
           }
          ],
          "heatmap": [
           {
            "colorbar": {
             "outlinewidth": 0,
             "ticks": ""
            },
            "colorscale": [
             [
              0.0,
              "#0d0887"
             ],
             [
              0.1111111111111111,
              "#46039f"
             ],
             [
              0.2222222222222222,
              "#7201a8"
             ],
             [
              0.3333333333333333,
              "#9c179e"
             ],
             [
              0.4444444444444444,
              "#bd3786"
             ],
             [
              0.5555555555555556,
              "#d8576b"
             ],
             [
              0.6666666666666666,
              "#ed7953"
             ],
             [
              0.7777777777777778,
              "#fb9f3a"
             ],
             [
              0.8888888888888888,
              "#fdca26"
             ],
             [
              1.0,
              "#f0f921"
             ]
            ],
            "type": "heatmap"
           }
          ],
          "histogram2dcontour": [
           {
            "colorbar": {
             "outlinewidth": 0,
             "ticks": ""
            },
            "colorscale": [
             [
              0.0,
              "#0d0887"
             ],
             [
              0.1111111111111111,
              "#46039f"
             ],
             [
              0.2222222222222222,
              "#7201a8"
             ],
             [
              0.3333333333333333,
              "#9c179e"
             ],
             [
              0.4444444444444444,
              "#bd3786"
             ],
             [
              0.5555555555555556,
              "#d8576b"
             ],
             [
              0.6666666666666666,
              "#ed7953"
             ],
             [
              0.7777777777777778,
              "#fb9f3a"
             ],
             [
              0.8888888888888888,
              "#fdca26"
             ],
             [
              1.0,
              "#f0f921"
             ]
            ],
            "type": "histogram2dcontour"
           }
          ],
          "histogram2d": [
           {
            "colorbar": {
             "outlinewidth": 0,
             "ticks": ""
            },
            "colorscale": [
             [
              0.0,
              "#0d0887"
             ],
             [
              0.1111111111111111,
              "#46039f"
             ],
             [
              0.2222222222222222,
              "#7201a8"
             ],
             [
              0.3333333333333333,
              "#9c179e"
             ],
             [
              0.4444444444444444,
              "#bd3786"
             ],
             [
              0.5555555555555556,
              "#d8576b"
             ],
             [
              0.6666666666666666,
              "#ed7953"
             ],
             [
              0.7777777777777778,
              "#fb9f3a"
             ],
             [
              0.8888888888888888,
              "#fdca26"
             ],
             [
              1.0,
              "#f0f921"
             ]
            ],
            "type": "histogram2d"
           }
          ],
          "histogram": [
           {
            "marker": {
             "pattern": {
              "fillmode": "overlay",
              "size": 10,
              "solidity": 0.2
             }
            },
            "type": "histogram"
           }
          ],
          "mesh3d": [
           {
            "colorbar": {
             "outlinewidth": 0,
             "ticks": ""
            },
            "type": "mesh3d"
           }
          ],
          "parcoords": [
           {
            "line": {
             "colorbar": {
              "outlinewidth": 0,
              "ticks": ""
             }
            },
            "type": "parcoords"
           }
          ],
          "pie": [
           {
            "automargin": true,
            "type": "pie"
           }
          ],
          "scatter3d": [
           {
            "line": {
             "colorbar": {
              "outlinewidth": 0,
              "ticks": ""
             }
            },
            "marker": {
             "colorbar": {
              "outlinewidth": 0,
              "ticks": ""
             }
            },
            "type": "scatter3d"
           }
          ],
          "scattercarpet": [
           {
            "marker": {
             "colorbar": {
              "outlinewidth": 0,
              "ticks": ""
             }
            },
            "type": "scattercarpet"
           }
          ],
          "scattergeo": [
           {
            "marker": {
             "colorbar": {
              "outlinewidth": 0,
              "ticks": ""
             }
            },
            "type": "scattergeo"
           }
          ],
          "scattergl": [
           {
            "marker": {
             "colorbar": {
              "outlinewidth": 0,
              "ticks": ""
             }
            },
            "type": "scattergl"
           }
          ],
          "scattermapbox": [
           {
            "marker": {
             "colorbar": {
              "outlinewidth": 0,
              "ticks": ""
             }
            },
            "type": "scattermapbox"
           }
          ],
          "scatterpolargl": [
           {
            "marker": {
             "colorbar": {
              "outlinewidth": 0,
              "ticks": ""
             }
            },
            "type": "scatterpolargl"
           }
          ],
          "scatterpolar": [
           {
            "marker": {
             "colorbar": {
              "outlinewidth": 0,
              "ticks": ""
             }
            },
            "type": "scatterpolar"
           }
          ],
          "scatter": [
           {
            "fillpattern": {
             "fillmode": "overlay",
             "size": 10,
             "solidity": 0.2
            },
            "type": "scatter"
           }
          ],
          "scatterternary": [
           {
            "marker": {
             "colorbar": {
              "outlinewidth": 0,
              "ticks": ""
             }
            },
            "type": "scatterternary"
           }
          ],
          "surface": [
           {
            "colorbar": {
             "outlinewidth": 0,
             "ticks": ""
            },
            "colorscale": [
             [
              0.0,
              "#0d0887"
             ],
             [
              0.1111111111111111,
              "#46039f"
             ],
             [
              0.2222222222222222,
              "#7201a8"
             ],
             [
              0.3333333333333333,
              "#9c179e"
             ],
             [
              0.4444444444444444,
              "#bd3786"
             ],
             [
              0.5555555555555556,
              "#d8576b"
             ],
             [
              0.6666666666666666,
              "#ed7953"
             ],
             [
              0.7777777777777778,
              "#fb9f3a"
             ],
             [
              0.8888888888888888,
              "#fdca26"
             ],
             [
              1.0,
              "#f0f921"
             ]
            ],
            "type": "surface"
           }
          ],
          "table": [
           {
            "cells": {
             "fill": {
              "color": "#EBF0F8"
             },
             "line": {
              "color": "white"
             }
            },
            "header": {
             "fill": {
              "color": "#C8D4E3"
             },
             "line": {
              "color": "white"
             }
            },
            "type": "table"
           }
          ]
         },
         "layout": {
          "annotationdefaults": {
           "arrowcolor": "#2a3f5f",
           "arrowhead": 0,
           "arrowwidth": 1
          },
          "autotypenumbers": "strict",
          "coloraxis": {
           "colorbar": {
            "outlinewidth": 0,
            "ticks": ""
           }
          },
          "colorscale": {
           "diverging": [
            [
             0,
             "#8e0152"
            ],
            [
             0.1,
             "#c51b7d"
            ],
            [
             0.2,
             "#de77ae"
            ],
            [
             0.3,
             "#f1b6da"
            ],
            [
             0.4,
             "#fde0ef"
            ],
            [
             0.5,
             "#f7f7f7"
            ],
            [
             0.6,
             "#e6f5d0"
            ],
            [
             0.7,
             "#b8e186"
            ],
            [
             0.8,
             "#7fbc41"
            ],
            [
             0.9,
             "#4d9221"
            ],
            [
             1,
             "#276419"
            ]
           ],
           "sequential": [
            [
             0.0,
             "#0d0887"
            ],
            [
             0.1111111111111111,
             "#46039f"
            ],
            [
             0.2222222222222222,
             "#7201a8"
            ],
            [
             0.3333333333333333,
             "#9c179e"
            ],
            [
             0.4444444444444444,
             "#bd3786"
            ],
            [
             0.5555555555555556,
             "#d8576b"
            ],
            [
             0.6666666666666666,
             "#ed7953"
            ],
            [
             0.7777777777777778,
             "#fb9f3a"
            ],
            [
             0.8888888888888888,
             "#fdca26"
            ],
            [
             1.0,
             "#f0f921"
            ]
           ],
           "sequentialminus": [
            [
             0.0,
             "#0d0887"
            ],
            [
             0.1111111111111111,
             "#46039f"
            ],
            [
             0.2222222222222222,
             "#7201a8"
            ],
            [
             0.3333333333333333,
             "#9c179e"
            ],
            [
             0.4444444444444444,
             "#bd3786"
            ],
            [
             0.5555555555555556,
             "#d8576b"
            ],
            [
             0.6666666666666666,
             "#ed7953"
            ],
            [
             0.7777777777777778,
             "#fb9f3a"
            ],
            [
             0.8888888888888888,
             "#fdca26"
            ],
            [
             1.0,
             "#f0f921"
            ]
           ]
          },
          "colorway": [
           "#636efa",
           "#EF553B",
           "#00cc96",
           "#ab63fa",
           "#FFA15A",
           "#19d3f3",
           "#FF6692",
           "#B6E880",
           "#FF97FF",
           "#FECB52"
          ],
          "font": {
           "color": "#2a3f5f"
          },
          "geo": {
           "bgcolor": "white",
           "lakecolor": "white",
           "landcolor": "#E5ECF6",
           "showlakes": true,
           "showland": true,
           "subunitcolor": "white"
          },
          "hoverlabel": {
           "align": "left"
          },
          "hovermode": "closest",
          "mapbox": {
           "style": "light"
          },
          "paper_bgcolor": "white",
          "plot_bgcolor": "#E5ECF6",
          "polar": {
           "angularaxis": {
            "gridcolor": "white",
            "linecolor": "white",
            "ticks": ""
           },
           "bgcolor": "#E5ECF6",
           "radialaxis": {
            "gridcolor": "white",
            "linecolor": "white",
            "ticks": ""
           }
          },
          "scene": {
           "xaxis": {
            "backgroundcolor": "#E5ECF6",
            "gridcolor": "white",
            "gridwidth": 2,
            "linecolor": "white",
            "showbackground": true,
            "ticks": "",
            "zerolinecolor": "white"
           },
           "yaxis": {
            "backgroundcolor": "#E5ECF6",
            "gridcolor": "white",
            "gridwidth": 2,
            "linecolor": "white",
            "showbackground": true,
            "ticks": "",
            "zerolinecolor": "white"
           },
           "zaxis": {
            "backgroundcolor": "#E5ECF6",
            "gridcolor": "white",
            "gridwidth": 2,
            "linecolor": "white",
            "showbackground": true,
            "ticks": "",
            "zerolinecolor": "white"
           }
          },
          "shapedefaults": {
           "line": {
            "color": "#2a3f5f"
           }
          },
          "ternary": {
           "aaxis": {
            "gridcolor": "white",
            "linecolor": "white",
            "ticks": ""
           },
           "baxis": {
            "gridcolor": "white",
            "linecolor": "white",
            "ticks": ""
           },
           "bgcolor": "#E5ECF6",
           "caxis": {
            "gridcolor": "white",
            "linecolor": "white",
            "ticks": ""
           }
          },
          "title": {
           "x": 0.05
          },
          "xaxis": {
           "automargin": true,
           "gridcolor": "white",
           "linecolor": "white",
           "ticks": "",
           "title": {
            "standoff": 15
           },
           "zerolinecolor": "white",
           "zerolinewidth": 2
          },
          "yaxis": {
           "automargin": true,
           "gridcolor": "white",
           "linecolor": "white",
           "ticks": "",
           "title": {
            "standoff": 15
           },
           "zerolinecolor": "white",
           "zerolinewidth": 2
          }
         }
        },
        "xaxis": {
         "anchor": "y",
         "domain": [
          0.0,
          1.0
         ],
         "title": {
          "text": "id_s"
         }
        },
        "yaxis": {
         "anchor": "x",
         "domain": [
          0.0,
          1.0
         ],
         "title": {
          "text": "rom_rmse"
         }
        },
        "legend": {
         "tracegroupgap": 0
        },
        "title": {
         "text": "Shoulder Abduction ROM RMSE, cad = 9.99"
        },
        "barmode": "relative",
        "shapes": [
         {
          "line": {
           "color": "red",
           "dash": "dash"
          },
          "name": "CAD",
          "type": "line",
          "x0": 0,
          "x1": 1,
          "xref": "x domain",
          "y0": 9.99,
          "y1": 9.99,
          "yref": "y"
         }
        ]
       },
       "config": {
        "plotlyServerURL": "https://plot.ly"
       }
      },
      "text/html": [
       "<div>                            <div id=\"3b2ca2d0-73b0-4109-ae19-2e470f876b15\" class=\"plotly-graph-div\" style=\"height:525px; width:100%;\"></div>            <script type=\"text/javascript\">                require([\"plotly\"], function(Plotly) {                    window.PLOTLYENV=window.PLOTLYENV || {};                                    if (document.getElementById(\"3b2ca2d0-73b0-4109-ae19-2e470f876b15\")) {                    Plotly.newPlot(                        \"3b2ca2d0-73b0-4109-ae19-2e470f876b15\",                        [{\"alignmentgroup\":\"True\",\"hovertemplate\":\"id_s=%{x}\\u003cbr\\u003erom_rmse=%{y}\\u003cextra\\u003e\\u003c\\u002fextra\\u003e\",\"legendgroup\":\"\",\"marker\":{\"color\":\"#636efa\",\"pattern\":{\"shape\":\"\"}},\"name\":\"\",\"offsetgroup\":\"\",\"orientation\":\"v\",\"showlegend\":false,\"textposition\":\"auto\",\"x\":[\"S001\",\"S002\",\"S004\",\"S009\",\"S010\",\"S011\",\"S012\",\"S013\",\"S014\",\"S015\",\"S016\",\"S017\",\"S018\",\"S019\",\"S020\",\"S021\",\"S022\",\"S023\",\"S024\",\"S025\",\"S026\"],\"xaxis\":\"x\",\"y\":[13.058625467510598,14.764400447169674,21.686692193479974,37.73762205756167,60.329990012826656,35.472330361031766,28.114763313813484,24.257023851857337,27.711198700186024,27.976053055485405,42.463179554213205,7.629520222521799,7.612013525703967,7.617481017079945,7.6004584239548585,7.617481017079945,7.6004584239548585,4.3190665632369125,4.31173154176537,2.9027584246577716,2.940550044875876],\"yaxis\":\"y\",\"type\":\"bar\"}],                        {\"template\":{\"data\":{\"barpolar\":[{\"marker\":{\"line\":{\"color\":\"#E5ECF6\",\"width\":0.5},\"pattern\":{\"fillmode\":\"overlay\",\"size\":10,\"solidity\":0.2}},\"type\":\"barpolar\"}],\"bar\":[{\"error_x\":{\"color\":\"#2a3f5f\"},\"error_y\":{\"color\":\"#2a3f5f\"},\"marker\":{\"line\":{\"color\":\"#E5ECF6\",\"width\":0.5},\"pattern\":{\"fillmode\":\"overlay\",\"size\":10,\"solidity\":0.2}},\"type\":\"bar\"}],\"carpet\":[{\"aaxis\":{\"endlinecolor\":\"#2a3f5f\",\"gridcolor\":\"white\",\"linecolor\":\"white\",\"minorgridcolor\":\"white\",\"startlinecolor\":\"#2a3f5f\"},\"baxis\":{\"endlinecolor\":\"#2a3f5f\",\"gridcolor\":\"white\",\"linecolor\":\"white\",\"minorgridcolor\":\"white\",\"startlinecolor\":\"#2a3f5f\"},\"type\":\"carpet\"}],\"choropleth\":[{\"colorbar\":{\"outlinewidth\":0,\"ticks\":\"\"},\"type\":\"choropleth\"}],\"contourcarpet\":[{\"colorbar\":{\"outlinewidth\":0,\"ticks\":\"\"},\"type\":\"contourcarpet\"}],\"contour\":[{\"colorbar\":{\"outlinewidth\":0,\"ticks\":\"\"},\"colorscale\":[[0.0,\"#0d0887\"],[0.1111111111111111,\"#46039f\"],[0.2222222222222222,\"#7201a8\"],[0.3333333333333333,\"#9c179e\"],[0.4444444444444444,\"#bd3786\"],[0.5555555555555556,\"#d8576b\"],[0.6666666666666666,\"#ed7953\"],[0.7777777777777778,\"#fb9f3a\"],[0.8888888888888888,\"#fdca26\"],[1.0,\"#f0f921\"]],\"type\":\"contour\"}],\"heatmapgl\":[{\"colorbar\":{\"outlinewidth\":0,\"ticks\":\"\"},\"colorscale\":[[0.0,\"#0d0887\"],[0.1111111111111111,\"#46039f\"],[0.2222222222222222,\"#7201a8\"],[0.3333333333333333,\"#9c179e\"],[0.4444444444444444,\"#bd3786\"],[0.5555555555555556,\"#d8576b\"],[0.6666666666666666,\"#ed7953\"],[0.7777777777777778,\"#fb9f3a\"],[0.8888888888888888,\"#fdca26\"],[1.0,\"#f0f921\"]],\"type\":\"heatmapgl\"}],\"heatmap\":[{\"colorbar\":{\"outlinewidth\":0,\"ticks\":\"\"},\"colorscale\":[[0.0,\"#0d0887\"],[0.1111111111111111,\"#46039f\"],[0.2222222222222222,\"#7201a8\"],[0.3333333333333333,\"#9c179e\"],[0.4444444444444444,\"#bd3786\"],[0.5555555555555556,\"#d8576b\"],[0.6666666666666666,\"#ed7953\"],[0.7777777777777778,\"#fb9f3a\"],[0.8888888888888888,\"#fdca26\"],[1.0,\"#f0f921\"]],\"type\":\"heatmap\"}],\"histogram2dcontour\":[{\"colorbar\":{\"outlinewidth\":0,\"ticks\":\"\"},\"colorscale\":[[0.0,\"#0d0887\"],[0.1111111111111111,\"#46039f\"],[0.2222222222222222,\"#7201a8\"],[0.3333333333333333,\"#9c179e\"],[0.4444444444444444,\"#bd3786\"],[0.5555555555555556,\"#d8576b\"],[0.6666666666666666,\"#ed7953\"],[0.7777777777777778,\"#fb9f3a\"],[0.8888888888888888,\"#fdca26\"],[1.0,\"#f0f921\"]],\"type\":\"histogram2dcontour\"}],\"histogram2d\":[{\"colorbar\":{\"outlinewidth\":0,\"ticks\":\"\"},\"colorscale\":[[0.0,\"#0d0887\"],[0.1111111111111111,\"#46039f\"],[0.2222222222222222,\"#7201a8\"],[0.3333333333333333,\"#9c179e\"],[0.4444444444444444,\"#bd3786\"],[0.5555555555555556,\"#d8576b\"],[0.6666666666666666,\"#ed7953\"],[0.7777777777777778,\"#fb9f3a\"],[0.8888888888888888,\"#fdca26\"],[1.0,\"#f0f921\"]],\"type\":\"histogram2d\"}],\"histogram\":[{\"marker\":{\"pattern\":{\"fillmode\":\"overlay\",\"size\":10,\"solidity\":0.2}},\"type\":\"histogram\"}],\"mesh3d\":[{\"colorbar\":{\"outlinewidth\":0,\"ticks\":\"\"},\"type\":\"mesh3d\"}],\"parcoords\":[{\"line\":{\"colorbar\":{\"outlinewidth\":0,\"ticks\":\"\"}},\"type\":\"parcoords\"}],\"pie\":[{\"automargin\":true,\"type\":\"pie\"}],\"scatter3d\":[{\"line\":{\"colorbar\":{\"outlinewidth\":0,\"ticks\":\"\"}},\"marker\":{\"colorbar\":{\"outlinewidth\":0,\"ticks\":\"\"}},\"type\":\"scatter3d\"}],\"scattercarpet\":[{\"marker\":{\"colorbar\":{\"outlinewidth\":0,\"ticks\":\"\"}},\"type\":\"scattercarpet\"}],\"scattergeo\":[{\"marker\":{\"colorbar\":{\"outlinewidth\":0,\"ticks\":\"\"}},\"type\":\"scattergeo\"}],\"scattergl\":[{\"marker\":{\"colorbar\":{\"outlinewidth\":0,\"ticks\":\"\"}},\"type\":\"scattergl\"}],\"scattermapbox\":[{\"marker\":{\"colorbar\":{\"outlinewidth\":0,\"ticks\":\"\"}},\"type\":\"scattermapbox\"}],\"scatterpolargl\":[{\"marker\":{\"colorbar\":{\"outlinewidth\":0,\"ticks\":\"\"}},\"type\":\"scatterpolargl\"}],\"scatterpolar\":[{\"marker\":{\"colorbar\":{\"outlinewidth\":0,\"ticks\":\"\"}},\"type\":\"scatterpolar\"}],\"scatter\":[{\"fillpattern\":{\"fillmode\":\"overlay\",\"size\":10,\"solidity\":0.2},\"type\":\"scatter\"}],\"scatterternary\":[{\"marker\":{\"colorbar\":{\"outlinewidth\":0,\"ticks\":\"\"}},\"type\":\"scatterternary\"}],\"surface\":[{\"colorbar\":{\"outlinewidth\":0,\"ticks\":\"\"},\"colorscale\":[[0.0,\"#0d0887\"],[0.1111111111111111,\"#46039f\"],[0.2222222222222222,\"#7201a8\"],[0.3333333333333333,\"#9c179e\"],[0.4444444444444444,\"#bd3786\"],[0.5555555555555556,\"#d8576b\"],[0.6666666666666666,\"#ed7953\"],[0.7777777777777778,\"#fb9f3a\"],[0.8888888888888888,\"#fdca26\"],[1.0,\"#f0f921\"]],\"type\":\"surface\"}],\"table\":[{\"cells\":{\"fill\":{\"color\":\"#EBF0F8\"},\"line\":{\"color\":\"white\"}},\"header\":{\"fill\":{\"color\":\"#C8D4E3\"},\"line\":{\"color\":\"white\"}},\"type\":\"table\"}]},\"layout\":{\"annotationdefaults\":{\"arrowcolor\":\"#2a3f5f\",\"arrowhead\":0,\"arrowwidth\":1},\"autotypenumbers\":\"strict\",\"coloraxis\":{\"colorbar\":{\"outlinewidth\":0,\"ticks\":\"\"}},\"colorscale\":{\"diverging\":[[0,\"#8e0152\"],[0.1,\"#c51b7d\"],[0.2,\"#de77ae\"],[0.3,\"#f1b6da\"],[0.4,\"#fde0ef\"],[0.5,\"#f7f7f7\"],[0.6,\"#e6f5d0\"],[0.7,\"#b8e186\"],[0.8,\"#7fbc41\"],[0.9,\"#4d9221\"],[1,\"#276419\"]],\"sequential\":[[0.0,\"#0d0887\"],[0.1111111111111111,\"#46039f\"],[0.2222222222222222,\"#7201a8\"],[0.3333333333333333,\"#9c179e\"],[0.4444444444444444,\"#bd3786\"],[0.5555555555555556,\"#d8576b\"],[0.6666666666666666,\"#ed7953\"],[0.7777777777777778,\"#fb9f3a\"],[0.8888888888888888,\"#fdca26\"],[1.0,\"#f0f921\"]],\"sequentialminus\":[[0.0,\"#0d0887\"],[0.1111111111111111,\"#46039f\"],[0.2222222222222222,\"#7201a8\"],[0.3333333333333333,\"#9c179e\"],[0.4444444444444444,\"#bd3786\"],[0.5555555555555556,\"#d8576b\"],[0.6666666666666666,\"#ed7953\"],[0.7777777777777778,\"#fb9f3a\"],[0.8888888888888888,\"#fdca26\"],[1.0,\"#f0f921\"]]},\"colorway\":[\"#636efa\",\"#EF553B\",\"#00cc96\",\"#ab63fa\",\"#FFA15A\",\"#19d3f3\",\"#FF6692\",\"#B6E880\",\"#FF97FF\",\"#FECB52\"],\"font\":{\"color\":\"#2a3f5f\"},\"geo\":{\"bgcolor\":\"white\",\"lakecolor\":\"white\",\"landcolor\":\"#E5ECF6\",\"showlakes\":true,\"showland\":true,\"subunitcolor\":\"white\"},\"hoverlabel\":{\"align\":\"left\"},\"hovermode\":\"closest\",\"mapbox\":{\"style\":\"light\"},\"paper_bgcolor\":\"white\",\"plot_bgcolor\":\"#E5ECF6\",\"polar\":{\"angularaxis\":{\"gridcolor\":\"white\",\"linecolor\":\"white\",\"ticks\":\"\"},\"bgcolor\":\"#E5ECF6\",\"radialaxis\":{\"gridcolor\":\"white\",\"linecolor\":\"white\",\"ticks\":\"\"}},\"scene\":{\"xaxis\":{\"backgroundcolor\":\"#E5ECF6\",\"gridcolor\":\"white\",\"gridwidth\":2,\"linecolor\":\"white\",\"showbackground\":true,\"ticks\":\"\",\"zerolinecolor\":\"white\"},\"yaxis\":{\"backgroundcolor\":\"#E5ECF6\",\"gridcolor\":\"white\",\"gridwidth\":2,\"linecolor\":\"white\",\"showbackground\":true,\"ticks\":\"\",\"zerolinecolor\":\"white\"},\"zaxis\":{\"backgroundcolor\":\"#E5ECF6\",\"gridcolor\":\"white\",\"gridwidth\":2,\"linecolor\":\"white\",\"showbackground\":true,\"ticks\":\"\",\"zerolinecolor\":\"white\"}},\"shapedefaults\":{\"line\":{\"color\":\"#2a3f5f\"}},\"ternary\":{\"aaxis\":{\"gridcolor\":\"white\",\"linecolor\":\"white\",\"ticks\":\"\"},\"baxis\":{\"gridcolor\":\"white\",\"linecolor\":\"white\",\"ticks\":\"\"},\"bgcolor\":\"#E5ECF6\",\"caxis\":{\"gridcolor\":\"white\",\"linecolor\":\"white\",\"ticks\":\"\"}},\"title\":{\"x\":0.05},\"xaxis\":{\"automargin\":true,\"gridcolor\":\"white\",\"linecolor\":\"white\",\"ticks\":\"\",\"title\":{\"standoff\":15},\"zerolinecolor\":\"white\",\"zerolinewidth\":2},\"yaxis\":{\"automargin\":true,\"gridcolor\":\"white\",\"linecolor\":\"white\",\"ticks\":\"\",\"title\":{\"standoff\":15},\"zerolinecolor\":\"white\",\"zerolinewidth\":2}}},\"xaxis\":{\"anchor\":\"y\",\"domain\":[0.0,1.0],\"title\":{\"text\":\"id_s\"}},\"yaxis\":{\"anchor\":\"x\",\"domain\":[0.0,1.0],\"title\":{\"text\":\"rom_rmse\"}},\"legend\":{\"tracegroupgap\":0},\"title\":{\"text\":\"Shoulder Abduction ROM RMSE, cad = 9.99\"},\"barmode\":\"relative\",\"shapes\":[{\"line\":{\"color\":\"red\",\"dash\":\"dash\"},\"name\":\"CAD\",\"type\":\"line\",\"x0\":0,\"x1\":1,\"xref\":\"x domain\",\"y0\":9.99,\"y1\":9.99,\"yref\":\"y\"}]},                        {\"responsive\": true}                    ).then(function(){\n",
       "                            \n",
       "var gd = document.getElementById('3b2ca2d0-73b0-4109-ae19-2e470f876b15');\n",
       "var x = new MutationObserver(function (mutations, observer) {{\n",
       "        var display = window.getComputedStyle(gd).display;\n",
       "        if (!display || display === 'none') {{\n",
       "            console.log([gd, 'removed!']);\n",
       "            Plotly.purge(gd);\n",
       "            observer.disconnect();\n",
       "        }}\n",
       "}});\n",
       "\n",
       "// Listen for the removal of the full notebook cells\n",
       "var notebookContainer = gd.closest('#notebook-container');\n",
       "if (notebookContainer) {{\n",
       "    x.observe(notebookContainer, {childList: true});\n",
       "}}\n",
       "\n",
       "// Listen for the clearing of the current output cell\n",
       "var outputEl = gd.closest('.output');\n",
       "if (outputEl) {{\n",
       "    x.observe(outputEl, {childList: true});\n",
       "}}\n",
       "\n",
       "                        })                };                });            </script>        </div>"
      ]
     },
     "metadata": {},
     "output_type": "display_data"
    }
   ],
   "execution_count": 15
  },
  {
   "metadata": {
    "ExecuteTime": {
     "end_time": "2024-12-17T19:27:12.060504Z",
     "start_time": "2024-12-17T19:27:12.052949Z"
    }
   },
   "cell_type": "code",
   "source": "df_for_plot_corr_rmse",
   "id": "81a2b59a7e7fbd53",
   "outputs": [
    {
     "data": {
      "text/plain": [
       "     id_s                  metric      rom_rmse\n",
       "0    S001          elbow_flex_pos     16.627595\n",
       "1    S001               elbow_vel      3.992229\n",
       "2    S001                hand_vel  10891.368523\n",
       "3    S001  shoulder_abduction_pos     13.058625\n",
       "4    S001       shoulder_flex_pos     15.612322\n",
       "..    ...                     ...           ...\n",
       "142  S026                hand_vel   1080.370298\n",
       "143  S026  shoulder_abduction_pos      2.940550\n",
       "144  S026       shoulder_flex_pos      4.294567\n",
       "145  S026               trunk_ang      3.881742\n",
       "146  S026              trunk_disp     37.548138\n",
       "\n",
       "[147 rows x 3 columns]"
      ],
      "text/html": [
       "<div>\n",
       "<style scoped>\n",
       "    .dataframe tbody tr th:only-of-type {\n",
       "        vertical-align: middle;\n",
       "    }\n",
       "\n",
       "    .dataframe tbody tr th {\n",
       "        vertical-align: top;\n",
       "    }\n",
       "\n",
       "    .dataframe thead th {\n",
       "        text-align: right;\n",
       "    }\n",
       "</style>\n",
       "<table border=\"1\" class=\"dataframe\">\n",
       "  <thead>\n",
       "    <tr style=\"text-align: right;\">\n",
       "      <th></th>\n",
       "      <th>id_s</th>\n",
       "      <th>metric</th>\n",
       "      <th>rom_rmse</th>\n",
       "    </tr>\n",
       "  </thead>\n",
       "  <tbody>\n",
       "    <tr>\n",
       "      <th>0</th>\n",
       "      <td>S001</td>\n",
       "      <td>elbow_flex_pos</td>\n",
       "      <td>16.627595</td>\n",
       "    </tr>\n",
       "    <tr>\n",
       "      <th>1</th>\n",
       "      <td>S001</td>\n",
       "      <td>elbow_vel</td>\n",
       "      <td>3.992229</td>\n",
       "    </tr>\n",
       "    <tr>\n",
       "      <th>2</th>\n",
       "      <td>S001</td>\n",
       "      <td>hand_vel</td>\n",
       "      <td>10891.368523</td>\n",
       "    </tr>\n",
       "    <tr>\n",
       "      <th>3</th>\n",
       "      <td>S001</td>\n",
       "      <td>shoulder_abduction_pos</td>\n",
       "      <td>13.058625</td>\n",
       "    </tr>\n",
       "    <tr>\n",
       "      <th>4</th>\n",
       "      <td>S001</td>\n",
       "      <td>shoulder_flex_pos</td>\n",
       "      <td>15.612322</td>\n",
       "    </tr>\n",
       "    <tr>\n",
       "      <th>...</th>\n",
       "      <td>...</td>\n",
       "      <td>...</td>\n",
       "      <td>...</td>\n",
       "    </tr>\n",
       "    <tr>\n",
       "      <th>142</th>\n",
       "      <td>S026</td>\n",
       "      <td>hand_vel</td>\n",
       "      <td>1080.370298</td>\n",
       "    </tr>\n",
       "    <tr>\n",
       "      <th>143</th>\n",
       "      <td>S026</td>\n",
       "      <td>shoulder_abduction_pos</td>\n",
       "      <td>2.940550</td>\n",
       "    </tr>\n",
       "    <tr>\n",
       "      <th>144</th>\n",
       "      <td>S026</td>\n",
       "      <td>shoulder_flex_pos</td>\n",
       "      <td>4.294567</td>\n",
       "    </tr>\n",
       "    <tr>\n",
       "      <th>145</th>\n",
       "      <td>S026</td>\n",
       "      <td>trunk_ang</td>\n",
       "      <td>3.881742</td>\n",
       "    </tr>\n",
       "    <tr>\n",
       "      <th>146</th>\n",
       "      <td>S026</td>\n",
       "      <td>trunk_disp</td>\n",
       "      <td>37.548138</td>\n",
       "    </tr>\n",
       "  </tbody>\n",
       "</table>\n",
       "<p>147 rows × 3 columns</p>\n",
       "</div>"
      ]
     },
     "execution_count": 16,
     "metadata": {},
     "output_type": "execute_result"
    }
   ],
   "execution_count": 16
  },
  {
   "metadata": {
    "ExecuteTime": {
     "end_time": "2024-12-17T19:27:12.152018Z",
     "start_time": "2024-12-17T19:27:12.139975Z"
    }
   },
   "cell_type": "code",
   "source": "df_for_plot_corr_rmse.groupby(['id_s', 'metric']).mean(numeric_only=True)",
   "id": "8cd59d2feda57c36",
   "outputs": [
    {
     "data": {
      "text/plain": [
       "                                 rom_rmse\n",
       "id_s metric                              \n",
       "S001 elbow_flex_pos             16.627595\n",
       "     elbow_vel                   3.992229\n",
       "     hand_vel                10891.368523\n",
       "     shoulder_abduction_pos     13.058625\n",
       "     shoulder_flex_pos          15.612322\n",
       "...                                   ...\n",
       "S026 hand_vel                 1080.370298\n",
       "     shoulder_abduction_pos      2.940550\n",
       "     shoulder_flex_pos           4.294567\n",
       "     trunk_ang                   3.881742\n",
       "     trunk_disp                 37.548138\n",
       "\n",
       "[147 rows x 1 columns]"
      ],
      "text/html": [
       "<div>\n",
       "<style scoped>\n",
       "    .dataframe tbody tr th:only-of-type {\n",
       "        vertical-align: middle;\n",
       "    }\n",
       "\n",
       "    .dataframe tbody tr th {\n",
       "        vertical-align: top;\n",
       "    }\n",
       "\n",
       "    .dataframe thead th {\n",
       "        text-align: right;\n",
       "    }\n",
       "</style>\n",
       "<table border=\"1\" class=\"dataframe\">\n",
       "  <thead>\n",
       "    <tr style=\"text-align: right;\">\n",
       "      <th></th>\n",
       "      <th></th>\n",
       "      <th>rom_rmse</th>\n",
       "    </tr>\n",
       "    <tr>\n",
       "      <th>id_s</th>\n",
       "      <th>metric</th>\n",
       "      <th></th>\n",
       "    </tr>\n",
       "  </thead>\n",
       "  <tbody>\n",
       "    <tr>\n",
       "      <th rowspan=\"5\" valign=\"top\">S001</th>\n",
       "      <th>elbow_flex_pos</th>\n",
       "      <td>16.627595</td>\n",
       "    </tr>\n",
       "    <tr>\n",
       "      <th>elbow_vel</th>\n",
       "      <td>3.992229</td>\n",
       "    </tr>\n",
       "    <tr>\n",
       "      <th>hand_vel</th>\n",
       "      <td>10891.368523</td>\n",
       "    </tr>\n",
       "    <tr>\n",
       "      <th>shoulder_abduction_pos</th>\n",
       "      <td>13.058625</td>\n",
       "    </tr>\n",
       "    <tr>\n",
       "      <th>shoulder_flex_pos</th>\n",
       "      <td>15.612322</td>\n",
       "    </tr>\n",
       "    <tr>\n",
       "      <th>...</th>\n",
       "      <th>...</th>\n",
       "      <td>...</td>\n",
       "    </tr>\n",
       "    <tr>\n",
       "      <th rowspan=\"5\" valign=\"top\">S026</th>\n",
       "      <th>hand_vel</th>\n",
       "      <td>1080.370298</td>\n",
       "    </tr>\n",
       "    <tr>\n",
       "      <th>shoulder_abduction_pos</th>\n",
       "      <td>2.940550</td>\n",
       "    </tr>\n",
       "    <tr>\n",
       "      <th>shoulder_flex_pos</th>\n",
       "      <td>4.294567</td>\n",
       "    </tr>\n",
       "    <tr>\n",
       "      <th>trunk_ang</th>\n",
       "      <td>3.881742</td>\n",
       "    </tr>\n",
       "    <tr>\n",
       "      <th>trunk_disp</th>\n",
       "      <td>37.548138</td>\n",
       "    </tr>\n",
       "  </tbody>\n",
       "</table>\n",
       "<p>147 rows × 1 columns</p>\n",
       "</div>"
      ]
     },
     "execution_count": 17,
     "metadata": {},
     "output_type": "execute_result"
    }
   ],
   "execution_count": 17
  },
  {
   "metadata": {},
   "cell_type": "markdown",
   "source": "# Correlation\n",
   "id": "5801262c95da9943"
  },
  {
   "metadata": {
    "ExecuteTime": {
     "end_time": "2024-12-17T19:27:12.439987Z",
     "start_time": "2024-12-17T19:27:12.436401Z"
    }
   },
   "cell_type": "code",
   "source": "",
   "id": "ed73a9360e7064c2",
   "outputs": [],
   "execution_count": null
  }
 ],
 "metadata": {
  "kernelspec": {
   "display_name": "Python 3",
   "language": "python",
   "name": "python3"
  },
  "language_info": {
   "codemirror_mode": {
    "name": "ipython",
    "version": 2
   },
   "file_extension": ".py",
   "mimetype": "text/x-python",
   "name": "python",
   "nbconvert_exporter": "python",
   "pygments_lexer": "ipython2",
   "version": "2.7.6"
  }
 },
 "nbformat": 4,
 "nbformat_minor": 5
}
