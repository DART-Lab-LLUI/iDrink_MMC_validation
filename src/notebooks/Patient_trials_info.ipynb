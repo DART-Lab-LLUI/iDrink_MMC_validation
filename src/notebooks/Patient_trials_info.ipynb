{
 "cells": [
  {
   "metadata": {
    "ExecuteTime": {
     "end_time": "2024-12-13T02:06:42.668937Z",
     "start_time": "2024-12-13T02:06:41.571641Z"
    }
   },
   "cell_type": "code",
   "source": [
    "import os\n",
    "import sys\n",
    "import glob\n",
    "from os import write\n",
    "\n",
    "from tqdm import tqdm\n",
    "import pandas as pd\n",
    "import numpy as np\n",
    "import ast\n",
    "\n",
    "import plotly as py\n",
    "import plotly.express as px\n",
    "import plotly.graph_objects as go\n",
    "from plotly.subplots import make_subplots\n",
    "\n",
    "sys.path.append(os.path.realpath(os.path.abspath('..')))\n",
    "from iDrink import iDrinkUtilities\n",
    "\n",
    "\n",
    "drive = iDrinkUtilities.get_drivepath()\n",
    "\n",
    "root_iDrink = os.path.join(drive, 'iDrink')\n",
    "root_val = os.path.join(root_iDrink, \"validation_root\")\n",
    "root_stat = os.path.join(root_val, '04_Statistics')\n",
    "root_omc = os.path.join(root_val, '03_data', 'OMC_new', 'S15133')\n",
    "root_data = os.path.join(root_val, \"03_data\")\n",
    "root_logs = os.path.join(root_val, \"05_logs\")\n",
    "\n",
    "csv_val_trials = os.path.join(root_logs, 'validation_trials.csv')\n",
    "df_val_trials = pd.read_csv(csv_val_trials, sep=';')\n",
    "\n",
    "csv_settings = os.path.join(root_logs, 'validation_settings.csv')\n",
    "df_settings = pd.read_csv(csv_settings, sep=';')\n",
    "\n",
    "csv_calib_error = os.path.join(root_logs, 'calib_errors.csv')\n",
    "df_calib_error = pd.read_csv(csv_calib_error, sep=';')\n",
    "\n",
    "csv_murphy = os.path.join(root_stat, '02_categorical', 'murphy_measures.csv')\n",
    "df_murphy = pd.read_csv(csv_murphy, sep=';')\n",
    "\n",
    "csv_failed_trials = os.path.join(root_stat, '04_failed_trials', 'failed_trials.csv')\n",
    "df_failed_trials = pd.read_csv(csv_failed_trials, sep=';')\n",
    "\n",
    "list_identifier = sorted(df_val_trials['identifier'].tolist())"
   ],
   "id": "88cad41096fc087c",
   "outputs": [],
   "execution_count": 1
  },
  {
   "metadata": {
    "ExecuteTime": {
     "end_time": "2024-12-13T02:06:44.064395Z",
     "start_time": "2024-12-13T02:06:44.057393Z"
    }
   },
   "cell_type": "code",
   "source": "df_failed_trials.columns",
   "id": "af040522baa368e",
   "outputs": [
    {
     "data": {
      "text/plain": [
       "Index(['id_s', 'id_p', 'id_t', 'affected', 'side', 'calib_error', 'HPE', 'P2S',\n",
       "       'OS', 'murphy', 'murphy_omc', 'success', 'fail', 'failed_at', 'reason'],\n",
       "      dtype='object')"
      ]
     },
     "execution_count": 2,
     "metadata": {},
     "output_type": "execute_result"
    }
   ],
   "execution_count": 2
  },
  {
   "metadata": {
    "ExecuteTime": {
     "end_time": "2024-12-13T02:06:46.287313Z",
     "start_time": "2024-12-13T02:06:46.279479Z"
    }
   },
   "cell_type": "code",
   "source": "trials_count = df_failed_trials[df_failed_trials['id_s'] =='S001'].groupby(['id_p', 'affected']).size().reset_index(name='count')",
   "id": "9e4856a4ab4a5327",
   "outputs": [],
   "execution_count": 3
  },
  {
   "metadata": {
    "ExecuteTime": {
     "end_time": "2024-12-13T00:01:32.950952Z",
     "start_time": "2024-12-13T00:01:32.948459Z"
    }
   },
   "cell_type": "code",
   "source": "",
   "id": "2c1bb10cf9e8887a",
   "outputs": [],
   "execution_count": null
  },
  {
   "metadata": {
    "ExecuteTime": {
     "end_time": "2024-12-13T02:06:47.545363Z",
     "start_time": "2024-12-13T02:06:47.527535Z"
    }
   },
   "cell_type": "code",
   "source": [
    "df_failed_trials[df_failed_trials['id_s'] == 'S001'].groupby(['failed_at']).size().reset_index(\n",
    "    name='count')"
   ],
   "id": "235106a4a05e3822",
   "outputs": [
    {
     "data": {
      "text/plain": [
       "  failed_at  count\n",
       "0       HPE      1\n",
       "1    Murphy     21\n",
       "2        OS     20"
      ],
      "text/html": [
       "<div>\n",
       "<style scoped>\n",
       "    .dataframe tbody tr th:only-of-type {\n",
       "        vertical-align: middle;\n",
       "    }\n",
       "\n",
       "    .dataframe tbody tr th {\n",
       "        vertical-align: top;\n",
       "    }\n",
       "\n",
       "    .dataframe thead th {\n",
       "        text-align: right;\n",
       "    }\n",
       "</style>\n",
       "<table border=\"1\" class=\"dataframe\">\n",
       "  <thead>\n",
       "    <tr style=\"text-align: right;\">\n",
       "      <th></th>\n",
       "      <th>failed_at</th>\n",
       "      <th>count</th>\n",
       "    </tr>\n",
       "  </thead>\n",
       "  <tbody>\n",
       "    <tr>\n",
       "      <th>0</th>\n",
       "      <td>HPE</td>\n",
       "      <td>1</td>\n",
       "    </tr>\n",
       "    <tr>\n",
       "      <th>1</th>\n",
       "      <td>Murphy</td>\n",
       "      <td>21</td>\n",
       "    </tr>\n",
       "    <tr>\n",
       "      <th>2</th>\n",
       "      <td>OS</td>\n",
       "      <td>20</td>\n",
       "    </tr>\n",
       "  </tbody>\n",
       "</table>\n",
       "</div>"
      ]
     },
     "execution_count": 4,
     "metadata": {},
     "output_type": "execute_result"
    }
   ],
   "execution_count": 4
  },
  {
   "metadata": {
    "ExecuteTime": {
     "end_time": "2024-12-13T02:06:57.755954Z",
     "start_time": "2024-12-13T02:06:57.746443Z"
    }
   },
   "cell_type": "code",
   "source": "print(trials_count.style.to_latex())",
   "id": "1a54bd831f0f3a4b",
   "outputs": [
    {
     "name": "stdout",
     "output_type": "stream",
     "text": [
      "\\begin{tabular}{lllr}\n",
      " & id_p & affected & count \\\\\n",
      "0 & P07 & affected & 41 \\\\\n",
      "1 & P07 & unaffected & 42 \\\\\n",
      "2 & P08 & affected & 41 \\\\\n",
      "3 & P08 & unaffected & 48 \\\\\n",
      "4 & P10 & affected & 43 \\\\\n",
      "5 & P10 & unaffected & 40 \\\\\n",
      "6 & P11 & affected & 41 \\\\\n",
      "7 & P11 & unaffected & 41 \\\\\n",
      "8 & P12 & affected & 42 \\\\\n",
      "9 & P12 & unaffected & 40 \\\\\n",
      "10 & P15 & affected & 45 \\\\\n",
      "11 & P15 & unaffected & 45 \\\\\n",
      "12 & P19 & affected & 49 \\\\\n",
      "13 & P19 & unaffected & 45 \\\\\n",
      "14 & P241 & affected & 21 \\\\\n",
      "15 & P241 & unaffected & 22 \\\\\n",
      "16 & P242 & affected & 21 \\\\\n",
      "17 & P242 & unaffected & 20 \\\\\n",
      "18 & P251 & affected & 20 \\\\\n",
      "19 & P251 & unaffected & 21 \\\\\n",
      "20 & P252 & affected & 21 \\\\\n",
      "21 & P252 & unaffected & 21 \\\\\n",
      "\\end{tabular}\n",
      "\n"
     ]
    }
   ],
   "execution_count": 6
  },
  {
   "metadata": {
    "ExecuteTime": {
     "end_time": "2024-12-13T02:07:01.020646Z",
     "start_time": "2024-12-13T02:07:01.004986Z"
    }
   },
   "cell_type": "code",
   "source": "df_failed_trials",
   "id": "ea81d21d64bb9559",
   "outputs": [
    {
     "data": {
      "text/plain": [
       "       id_s id_p  id_t    affected side  calib_error  HPE  P2S   OS  murphy  \\\n",
       "0      S001  P07  T001  unaffected    L       1.3857    1  1.0  1.0     0.0   \n",
       "1      S001  P07  T002  unaffected    L       1.3857    1  1.0  1.0     1.0   \n",
       "2      S001  P07  T003  unaffected    L       1.3857    1  1.0  1.0     1.0   \n",
       "3      S001  P07  T004  unaffected    L       1.3857    1  1.0  1.0     1.0   \n",
       "4      S001  P07  T005  unaffected    L       1.3857    1  1.0  1.0     1.0   \n",
       "...     ...  ...   ...         ...  ...          ...  ...  ...  ...     ...   \n",
       "13315  S026  P19  T090    affected    R      -2.0000    1  1.0  1.0     1.0   \n",
       "13316  S026  P19  T091    affected    R      -2.0000    1  1.0  1.0     1.0   \n",
       "13317  S026  P19  T092    affected    R      -2.0000    1  1.0  1.0     0.0   \n",
       "13318  S026  P19  T093    affected    R      -2.0000    1  1.0  1.0     1.0   \n",
       "13319  S026  P19  T094    affected    R      -2.0000    1  1.0  1.0     1.0   \n",
       "\n",
       "       murphy_omc  success  fail failed_at  \\\n",
       "0             0.0        0     1    Murphy   \n",
       "1             1.0        1     0       NaN   \n",
       "2             1.0        1     0       NaN   \n",
       "3             1.0        1     0       NaN   \n",
       "4             1.0        1     0       NaN   \n",
       "...           ...      ...   ...       ...   \n",
       "13315         1.0        1     0       NaN   \n",
       "13316         1.0        1     0       NaN   \n",
       "13317         0.0        0     1    Murphy   \n",
       "13318         1.0        1     0       NaN   \n",
       "13319         1.0        1     0       NaN   \n",
       "\n",
       "                                                  reason  \n",
       "0      time-series for measures not found in preproce...  \n",
       "1                                                    NaN  \n",
       "2                                                    NaN  \n",
       "3                                                    NaN  \n",
       "4                                                    NaN  \n",
       "...                                                  ...  \n",
       "13315                                                NaN  \n",
       "13316                                                NaN  \n",
       "13317  time-series for measures not found in preproce...  \n",
       "13318                                                NaN  \n",
       "13319                                                NaN  \n",
       "\n",
       "[13320 rows x 15 columns]"
      ],
      "text/html": [
       "<div>\n",
       "<style scoped>\n",
       "    .dataframe tbody tr th:only-of-type {\n",
       "        vertical-align: middle;\n",
       "    }\n",
       "\n",
       "    .dataframe tbody tr th {\n",
       "        vertical-align: top;\n",
       "    }\n",
       "\n",
       "    .dataframe thead th {\n",
       "        text-align: right;\n",
       "    }\n",
       "</style>\n",
       "<table border=\"1\" class=\"dataframe\">\n",
       "  <thead>\n",
       "    <tr style=\"text-align: right;\">\n",
       "      <th></th>\n",
       "      <th>id_s</th>\n",
       "      <th>id_p</th>\n",
       "      <th>id_t</th>\n",
       "      <th>affected</th>\n",
       "      <th>side</th>\n",
       "      <th>calib_error</th>\n",
       "      <th>HPE</th>\n",
       "      <th>P2S</th>\n",
       "      <th>OS</th>\n",
       "      <th>murphy</th>\n",
       "      <th>murphy_omc</th>\n",
       "      <th>success</th>\n",
       "      <th>fail</th>\n",
       "      <th>failed_at</th>\n",
       "      <th>reason</th>\n",
       "    </tr>\n",
       "  </thead>\n",
       "  <tbody>\n",
       "    <tr>\n",
       "      <th>0</th>\n",
       "      <td>S001</td>\n",
       "      <td>P07</td>\n",
       "      <td>T001</td>\n",
       "      <td>unaffected</td>\n",
       "      <td>L</td>\n",
       "      <td>1.3857</td>\n",
       "      <td>1</td>\n",
       "      <td>1.0</td>\n",
       "      <td>1.0</td>\n",
       "      <td>0.0</td>\n",
       "      <td>0.0</td>\n",
       "      <td>0</td>\n",
       "      <td>1</td>\n",
       "      <td>Murphy</td>\n",
       "      <td>time-series for measures not found in preproce...</td>\n",
       "    </tr>\n",
       "    <tr>\n",
       "      <th>1</th>\n",
       "      <td>S001</td>\n",
       "      <td>P07</td>\n",
       "      <td>T002</td>\n",
       "      <td>unaffected</td>\n",
       "      <td>L</td>\n",
       "      <td>1.3857</td>\n",
       "      <td>1</td>\n",
       "      <td>1.0</td>\n",
       "      <td>1.0</td>\n",
       "      <td>1.0</td>\n",
       "      <td>1.0</td>\n",
       "      <td>1</td>\n",
       "      <td>0</td>\n",
       "      <td>NaN</td>\n",
       "      <td>NaN</td>\n",
       "    </tr>\n",
       "    <tr>\n",
       "      <th>2</th>\n",
       "      <td>S001</td>\n",
       "      <td>P07</td>\n",
       "      <td>T003</td>\n",
       "      <td>unaffected</td>\n",
       "      <td>L</td>\n",
       "      <td>1.3857</td>\n",
       "      <td>1</td>\n",
       "      <td>1.0</td>\n",
       "      <td>1.0</td>\n",
       "      <td>1.0</td>\n",
       "      <td>1.0</td>\n",
       "      <td>1</td>\n",
       "      <td>0</td>\n",
       "      <td>NaN</td>\n",
       "      <td>NaN</td>\n",
       "    </tr>\n",
       "    <tr>\n",
       "      <th>3</th>\n",
       "      <td>S001</td>\n",
       "      <td>P07</td>\n",
       "      <td>T004</td>\n",
       "      <td>unaffected</td>\n",
       "      <td>L</td>\n",
       "      <td>1.3857</td>\n",
       "      <td>1</td>\n",
       "      <td>1.0</td>\n",
       "      <td>1.0</td>\n",
       "      <td>1.0</td>\n",
       "      <td>1.0</td>\n",
       "      <td>1</td>\n",
       "      <td>0</td>\n",
       "      <td>NaN</td>\n",
       "      <td>NaN</td>\n",
       "    </tr>\n",
       "    <tr>\n",
       "      <th>4</th>\n",
       "      <td>S001</td>\n",
       "      <td>P07</td>\n",
       "      <td>T005</td>\n",
       "      <td>unaffected</td>\n",
       "      <td>L</td>\n",
       "      <td>1.3857</td>\n",
       "      <td>1</td>\n",
       "      <td>1.0</td>\n",
       "      <td>1.0</td>\n",
       "      <td>1.0</td>\n",
       "      <td>1.0</td>\n",
       "      <td>1</td>\n",
       "      <td>0</td>\n",
       "      <td>NaN</td>\n",
       "      <td>NaN</td>\n",
       "    </tr>\n",
       "    <tr>\n",
       "      <th>...</th>\n",
       "      <td>...</td>\n",
       "      <td>...</td>\n",
       "      <td>...</td>\n",
       "      <td>...</td>\n",
       "      <td>...</td>\n",
       "      <td>...</td>\n",
       "      <td>...</td>\n",
       "      <td>...</td>\n",
       "      <td>...</td>\n",
       "      <td>...</td>\n",
       "      <td>...</td>\n",
       "      <td>...</td>\n",
       "      <td>...</td>\n",
       "      <td>...</td>\n",
       "      <td>...</td>\n",
       "    </tr>\n",
       "    <tr>\n",
       "      <th>13315</th>\n",
       "      <td>S026</td>\n",
       "      <td>P19</td>\n",
       "      <td>T090</td>\n",
       "      <td>affected</td>\n",
       "      <td>R</td>\n",
       "      <td>-2.0000</td>\n",
       "      <td>1</td>\n",
       "      <td>1.0</td>\n",
       "      <td>1.0</td>\n",
       "      <td>1.0</td>\n",
       "      <td>1.0</td>\n",
       "      <td>1</td>\n",
       "      <td>0</td>\n",
       "      <td>NaN</td>\n",
       "      <td>NaN</td>\n",
       "    </tr>\n",
       "    <tr>\n",
       "      <th>13316</th>\n",
       "      <td>S026</td>\n",
       "      <td>P19</td>\n",
       "      <td>T091</td>\n",
       "      <td>affected</td>\n",
       "      <td>R</td>\n",
       "      <td>-2.0000</td>\n",
       "      <td>1</td>\n",
       "      <td>1.0</td>\n",
       "      <td>1.0</td>\n",
       "      <td>1.0</td>\n",
       "      <td>1.0</td>\n",
       "      <td>1</td>\n",
       "      <td>0</td>\n",
       "      <td>NaN</td>\n",
       "      <td>NaN</td>\n",
       "    </tr>\n",
       "    <tr>\n",
       "      <th>13317</th>\n",
       "      <td>S026</td>\n",
       "      <td>P19</td>\n",
       "      <td>T092</td>\n",
       "      <td>affected</td>\n",
       "      <td>R</td>\n",
       "      <td>-2.0000</td>\n",
       "      <td>1</td>\n",
       "      <td>1.0</td>\n",
       "      <td>1.0</td>\n",
       "      <td>0.0</td>\n",
       "      <td>0.0</td>\n",
       "      <td>0</td>\n",
       "      <td>1</td>\n",
       "      <td>Murphy</td>\n",
       "      <td>time-series for measures not found in preproce...</td>\n",
       "    </tr>\n",
       "    <tr>\n",
       "      <th>13318</th>\n",
       "      <td>S026</td>\n",
       "      <td>P19</td>\n",
       "      <td>T093</td>\n",
       "      <td>affected</td>\n",
       "      <td>R</td>\n",
       "      <td>-2.0000</td>\n",
       "      <td>1</td>\n",
       "      <td>1.0</td>\n",
       "      <td>1.0</td>\n",
       "      <td>1.0</td>\n",
       "      <td>1.0</td>\n",
       "      <td>1</td>\n",
       "      <td>0</td>\n",
       "      <td>NaN</td>\n",
       "      <td>NaN</td>\n",
       "    </tr>\n",
       "    <tr>\n",
       "      <th>13319</th>\n",
       "      <td>S026</td>\n",
       "      <td>P19</td>\n",
       "      <td>T094</td>\n",
       "      <td>affected</td>\n",
       "      <td>R</td>\n",
       "      <td>-2.0000</td>\n",
       "      <td>1</td>\n",
       "      <td>1.0</td>\n",
       "      <td>1.0</td>\n",
       "      <td>1.0</td>\n",
       "      <td>1.0</td>\n",
       "      <td>1</td>\n",
       "      <td>0</td>\n",
       "      <td>NaN</td>\n",
       "      <td>NaN</td>\n",
       "    </tr>\n",
       "  </tbody>\n",
       "</table>\n",
       "<p>13320 rows × 15 columns</p>\n",
       "</div>"
      ]
     },
     "execution_count": 7,
     "metadata": {},
     "output_type": "execute_result"
    }
   ],
   "execution_count": 7
  },
  {
   "metadata": {
    "ExecuteTime": {
     "end_time": "2024-12-13T02:07:03.973503Z",
     "start_time": "2024-12-13T02:07:03.968851Z"
    }
   },
   "cell_type": "code",
   "source": "len(df_failed_trials)",
   "id": "3e3020f0da3ea8e1",
   "outputs": [
    {
     "data": {
      "text/plain": [
       "13320"
      ]
     },
     "execution_count": 8,
     "metadata": {},
     "output_type": "execute_result"
    }
   ],
   "execution_count": 8
  },
  {
   "metadata": {
    "ExecuteTime": {
     "end_time": "2024-12-13T02:07:05.832164Z",
     "start_time": "2024-12-13T02:07:05.825671Z"
    }
   },
   "cell_type": "code",
   "source": "len(df_failed_trials[df_failed_trials['success'] == 0])",
   "id": "ea89ae819d8917d7",
   "outputs": [
    {
     "data": {
      "text/plain": [
       "4239"
      ]
     },
     "execution_count": 9,
     "metadata": {},
     "output_type": "execute_result"
    }
   ],
   "execution_count": 9
  },
  {
   "metadata": {
    "ExecuteTime": {
     "end_time": "2024-12-13T02:09:47.048387Z",
     "start_time": "2024-12-13T02:09:47.040961Z"
    }
   },
   "cell_type": "code",
   "source": [
    "print(f'Total number: \\t{len(df_failed_trials)}\\n'\n",
    "      f'Failed trials: \\t{len(df_failed_trials[df_failed_trials[\"success\"] == 0])}\\n'\n",
    "      f'Successful trials: \\t{len(df_failed_trials[df_failed_trials[\"success\"] == 1])}\\n'\n",
    "      f'Quota = {len(df_failed_trials[df_failed_trials[\"success\"] == 1])/len(df_failed_trials)}\\n'\n",
    "      f'Quota Failed = {len(df_failed_trials[df_failed_trials[\"success\"] == 0])/len(df_failed_trials)}')"
   ],
   "id": "51a8bae9cb1ad9c5",
   "outputs": [
    {
     "name": "stdout",
     "output_type": "stream",
     "text": [
      "Total number: \t13320\n",
      "Failed trials: \t4239\n",
      "Successful trials: \t9081\n",
      "Quota = 0.6817567567567567\n",
      "Quota Failed = 0.31824324324324327\n"
     ]
    }
   ],
   "execution_count": 13
  },
  {
   "metadata": {
    "ExecuteTime": {
     "end_time": "2024-12-13T02:17:23.917199Z",
     "start_time": "2024-12-13T02:17:23.905847Z"
    }
   },
   "cell_type": "code",
   "source": [
    "print(r'\\begin{table}')\n",
    "print('\\t\\\\centering')\n",
    "print(df_failed_trials.groupby(['id_s']).sum(numeric_only=True).reset_index()[['id_s', 'success', 'fail',]].style.to_latex())\n",
    "print('\\t\\\\caption{Number of successful and failed trials per setting}')\n",
    "print('\\t\\\\label{tab:res:failed_trials_per_setting}')\n",
    "print(r'\\end{table}')"
   ],
   "id": "e52027329bffa6ba",
   "outputs": [
    {
     "name": "stdout",
     "output_type": "stream",
     "text": [
      "\\begin{table}\n",
      "\t\\centering\n",
      "\\begin{tabular}{llrr}\n",
      " & id_s & success & fail \\\\\n",
      "0 & S001 & 728 & 42 \\\\\n",
      "1 & S002 & 684 & 86 \\\\\n",
      "2 & S003 & 167 & 17 \\\\\n",
      "3 & S004 & 12 & 172 \\\\\n",
      "4 & S005 & 269 & 501 \\\\\n",
      "5 & S006 & 363 & 407 \\\\\n",
      "6 & S007 & 393 & 377 \\\\\n",
      "7 & S008 & 417 & 353 \\\\\n",
      "8 & S009 & 89 & 95 \\\\\n",
      "9 & S010 & 1 & 183 \\\\\n",
      "10 & S011 & 36 & 148 \\\\\n",
      "11 & S012 & 19 & 165 \\\\\n",
      "12 & S013 & 187 & 583 \\\\\n",
      "13 & S014 & 229 & 541 \\\\\n",
      "14 & S015 & 125 & 142 \\\\\n",
      "15 & S016 & 76 & 191 \\\\\n",
      "16 & S017 & 744 & 26 \\\\\n",
      "17 & S018 & 744 & 26 \\\\\n",
      "18 & S019 & 743 & 27 \\\\\n",
      "19 & S020 & 743 & 27 \\\\\n",
      "20 & S021 & 743 & 27 \\\\\n",
      "21 & S022 & 743 & 27 \\\\\n",
      "22 & S023 & 249 & 18 \\\\\n",
      "23 & S024 & 249 & 18 \\\\\n",
      "24 & S025 & 164 & 20 \\\\\n",
      "25 & S026 & 164 & 20 \\\\\n",
      "\\end{tabular}\n",
      "\n",
      "\t\\caption{Number of successful and failed trials per setting}\n",
      "\t\\label{tab:res:failed_trials_per_setting}\n",
      "\\end{table}\n"
     ]
    }
   ],
   "execution_count": 23
  },
  {
   "metadata": {
    "ExecuteTime": {
     "end_time": "2024-12-13T02:11:22.029333Z",
     "start_time": "2024-12-13T02:11:22.018Z"
    }
   },
   "cell_type": "code",
   "source": "print(df_failed_trials.groupby(['id_s']).sum(numeric_only=True).reset_index()[['id_s', 'success', 'fail',]].style.to_latex()) ",
   "id": "86fa1da171f7b150",
   "outputs": [
    {
     "name": "stdout",
     "output_type": "stream",
     "text": [
      "\\begin{tabular}{llrr}\n",
      " & id_s & success & fail \\\\\n",
      "0 & S001 & 728 & 42 \\\\\n",
      "1 & S002 & 684 & 86 \\\\\n",
      "2 & S003 & 167 & 17 \\\\\n",
      "3 & S004 & 12 & 172 \\\\\n",
      "4 & S005 & 269 & 501 \\\\\n",
      "5 & S006 & 363 & 407 \\\\\n",
      "6 & S007 & 393 & 377 \\\\\n",
      "7 & S008 & 417 & 353 \\\\\n",
      "8 & S009 & 89 & 95 \\\\\n",
      "9 & S010 & 1 & 183 \\\\\n",
      "10 & S011 & 36 & 148 \\\\\n",
      "11 & S012 & 19 & 165 \\\\\n",
      "12 & S013 & 187 & 583 \\\\\n",
      "13 & S014 & 229 & 541 \\\\\n",
      "14 & S015 & 125 & 142 \\\\\n",
      "15 & S016 & 76 & 191 \\\\\n",
      "16 & S017 & 744 & 26 \\\\\n",
      "17 & S018 & 744 & 26 \\\\\n",
      "18 & S019 & 743 & 27 \\\\\n",
      "19 & S020 & 743 & 27 \\\\\n",
      "20 & S021 & 743 & 27 \\\\\n",
      "21 & S022 & 743 & 27 \\\\\n",
      "22 & S023 & 249 & 18 \\\\\n",
      "23 & S024 & 249 & 18 \\\\\n",
      "24 & S025 & 164 & 20 \\\\\n",
      "25 & S026 & 164 & 20 \\\\\n",
      "\\end{tabular}\n",
      "\n"
     ]
    }
   ],
   "execution_count": 20
  },
  {
   "metadata": {
    "ExecuteTime": {
     "end_time": "2024-12-13T02:22:23.333890Z",
     "start_time": "2024-12-13T02:22:23.325257Z"
    }
   },
   "cell_type": "code",
   "source": "df_to_plot = df_failed_trials.groupby(['id_s']).sum(numeric_only=True).reset_index()[['id_s', 'success', 'fail',]].sort_values(by='fail', ascending=True)",
   "id": "54672f07ce70bed8",
   "outputs": [],
   "execution_count": 27
  },
  {
   "metadata": {
    "ExecuteTime": {
     "end_time": "2024-12-13T02:25:37.867790Z",
     "start_time": "2024-12-13T02:25:37.251049Z"
    }
   },
   "cell_type": "code",
   "source": [
    "fig = px.bar(df_to_plot, x='id_s', y=['success', 'fail'], barmode='group', title='Number of successful and failed trials per setting', template = 'plotly')\n",
    "\n",
    "fig.update_layout(height=600, width=1000,\n",
    "                  xaxis_title='Setting ID', yaxis_title='Number of trials', legend_title='Outcome')\n",
    "\n",
    "dir = os.path.join(root_stat, '04_failed_trials', '02_plots')\n",
    "os.makedirs(dir, exist_ok=True)\n",
    "fig.write_html(os.path.join(dir, 'failed_trials_per_setting.html'))\n",
    "fig.write_image(os.path.join(dir, 'failed_trials_per_setting.svg'), scale=5)\n",
    "fig.write_image(os.path.join(dir, 'failed_trials_per_setting.png'), scale=5)"
   ],
   "id": "3c15f8120c24def1",
   "outputs": [],
   "execution_count": 32
  },
  {
   "metadata": {
    "ExecuteTime": {
     "end_time": "2024-12-13T02:09:53.408256Z",
     "start_time": "2024-12-13T02:09:53.393267Z"
    }
   },
   "cell_type": "code",
   "source": "df_failed_trials",
   "id": "9f716d2a078bc890",
   "outputs": [
    {
     "data": {
      "text/plain": [
       "       id_s id_p  id_t    affected side  calib_error  HPE  P2S   OS  murphy  \\\n",
       "0      S001  P07  T001  unaffected    L       1.3857    1  1.0  1.0     0.0   \n",
       "1      S001  P07  T002  unaffected    L       1.3857    1  1.0  1.0     1.0   \n",
       "2      S001  P07  T003  unaffected    L       1.3857    1  1.0  1.0     1.0   \n",
       "3      S001  P07  T004  unaffected    L       1.3857    1  1.0  1.0     1.0   \n",
       "4      S001  P07  T005  unaffected    L       1.3857    1  1.0  1.0     1.0   \n",
       "...     ...  ...   ...         ...  ...          ...  ...  ...  ...     ...   \n",
       "13315  S026  P19  T090    affected    R      -2.0000    1  1.0  1.0     1.0   \n",
       "13316  S026  P19  T091    affected    R      -2.0000    1  1.0  1.0     1.0   \n",
       "13317  S026  P19  T092    affected    R      -2.0000    1  1.0  1.0     0.0   \n",
       "13318  S026  P19  T093    affected    R      -2.0000    1  1.0  1.0     1.0   \n",
       "13319  S026  P19  T094    affected    R      -2.0000    1  1.0  1.0     1.0   \n",
       "\n",
       "       murphy_omc  success  fail failed_at  \\\n",
       "0             0.0        0     1    Murphy   \n",
       "1             1.0        1     0       NaN   \n",
       "2             1.0        1     0       NaN   \n",
       "3             1.0        1     0       NaN   \n",
       "4             1.0        1     0       NaN   \n",
       "...           ...      ...   ...       ...   \n",
       "13315         1.0        1     0       NaN   \n",
       "13316         1.0        1     0       NaN   \n",
       "13317         0.0        0     1    Murphy   \n",
       "13318         1.0        1     0       NaN   \n",
       "13319         1.0        1     0       NaN   \n",
       "\n",
       "                                                  reason  \n",
       "0      time-series for measures not found in preproce...  \n",
       "1                                                    NaN  \n",
       "2                                                    NaN  \n",
       "3                                                    NaN  \n",
       "4                                                    NaN  \n",
       "...                                                  ...  \n",
       "13315                                                NaN  \n",
       "13316                                                NaN  \n",
       "13317  time-series for measures not found in preproce...  \n",
       "13318                                                NaN  \n",
       "13319                                                NaN  \n",
       "\n",
       "[13320 rows x 15 columns]"
      ],
      "text/html": [
       "<div>\n",
       "<style scoped>\n",
       "    .dataframe tbody tr th:only-of-type {\n",
       "        vertical-align: middle;\n",
       "    }\n",
       "\n",
       "    .dataframe tbody tr th {\n",
       "        vertical-align: top;\n",
       "    }\n",
       "\n",
       "    .dataframe thead th {\n",
       "        text-align: right;\n",
       "    }\n",
       "</style>\n",
       "<table border=\"1\" class=\"dataframe\">\n",
       "  <thead>\n",
       "    <tr style=\"text-align: right;\">\n",
       "      <th></th>\n",
       "      <th>id_s</th>\n",
       "      <th>id_p</th>\n",
       "      <th>id_t</th>\n",
       "      <th>affected</th>\n",
       "      <th>side</th>\n",
       "      <th>calib_error</th>\n",
       "      <th>HPE</th>\n",
       "      <th>P2S</th>\n",
       "      <th>OS</th>\n",
       "      <th>murphy</th>\n",
       "      <th>murphy_omc</th>\n",
       "      <th>success</th>\n",
       "      <th>fail</th>\n",
       "      <th>failed_at</th>\n",
       "      <th>reason</th>\n",
       "    </tr>\n",
       "  </thead>\n",
       "  <tbody>\n",
       "    <tr>\n",
       "      <th>0</th>\n",
       "      <td>S001</td>\n",
       "      <td>P07</td>\n",
       "      <td>T001</td>\n",
       "      <td>unaffected</td>\n",
       "      <td>L</td>\n",
       "      <td>1.3857</td>\n",
       "      <td>1</td>\n",
       "      <td>1.0</td>\n",
       "      <td>1.0</td>\n",
       "      <td>0.0</td>\n",
       "      <td>0.0</td>\n",
       "      <td>0</td>\n",
       "      <td>1</td>\n",
       "      <td>Murphy</td>\n",
       "      <td>time-series for measures not found in preproce...</td>\n",
       "    </tr>\n",
       "    <tr>\n",
       "      <th>1</th>\n",
       "      <td>S001</td>\n",
       "      <td>P07</td>\n",
       "      <td>T002</td>\n",
       "      <td>unaffected</td>\n",
       "      <td>L</td>\n",
       "      <td>1.3857</td>\n",
       "      <td>1</td>\n",
       "      <td>1.0</td>\n",
       "      <td>1.0</td>\n",
       "      <td>1.0</td>\n",
       "      <td>1.0</td>\n",
       "      <td>1</td>\n",
       "      <td>0</td>\n",
       "      <td>NaN</td>\n",
       "      <td>NaN</td>\n",
       "    </tr>\n",
       "    <tr>\n",
       "      <th>2</th>\n",
       "      <td>S001</td>\n",
       "      <td>P07</td>\n",
       "      <td>T003</td>\n",
       "      <td>unaffected</td>\n",
       "      <td>L</td>\n",
       "      <td>1.3857</td>\n",
       "      <td>1</td>\n",
       "      <td>1.0</td>\n",
       "      <td>1.0</td>\n",
       "      <td>1.0</td>\n",
       "      <td>1.0</td>\n",
       "      <td>1</td>\n",
       "      <td>0</td>\n",
       "      <td>NaN</td>\n",
       "      <td>NaN</td>\n",
       "    </tr>\n",
       "    <tr>\n",
       "      <th>3</th>\n",
       "      <td>S001</td>\n",
       "      <td>P07</td>\n",
       "      <td>T004</td>\n",
       "      <td>unaffected</td>\n",
       "      <td>L</td>\n",
       "      <td>1.3857</td>\n",
       "      <td>1</td>\n",
       "      <td>1.0</td>\n",
       "      <td>1.0</td>\n",
       "      <td>1.0</td>\n",
       "      <td>1.0</td>\n",
       "      <td>1</td>\n",
       "      <td>0</td>\n",
       "      <td>NaN</td>\n",
       "      <td>NaN</td>\n",
       "    </tr>\n",
       "    <tr>\n",
       "      <th>4</th>\n",
       "      <td>S001</td>\n",
       "      <td>P07</td>\n",
       "      <td>T005</td>\n",
       "      <td>unaffected</td>\n",
       "      <td>L</td>\n",
       "      <td>1.3857</td>\n",
       "      <td>1</td>\n",
       "      <td>1.0</td>\n",
       "      <td>1.0</td>\n",
       "      <td>1.0</td>\n",
       "      <td>1.0</td>\n",
       "      <td>1</td>\n",
       "      <td>0</td>\n",
       "      <td>NaN</td>\n",
       "      <td>NaN</td>\n",
       "    </tr>\n",
       "    <tr>\n",
       "      <th>...</th>\n",
       "      <td>...</td>\n",
       "      <td>...</td>\n",
       "      <td>...</td>\n",
       "      <td>...</td>\n",
       "      <td>...</td>\n",
       "      <td>...</td>\n",
       "      <td>...</td>\n",
       "      <td>...</td>\n",
       "      <td>...</td>\n",
       "      <td>...</td>\n",
       "      <td>...</td>\n",
       "      <td>...</td>\n",
       "      <td>...</td>\n",
       "      <td>...</td>\n",
       "      <td>...</td>\n",
       "    </tr>\n",
       "    <tr>\n",
       "      <th>13315</th>\n",
       "      <td>S026</td>\n",
       "      <td>P19</td>\n",
       "      <td>T090</td>\n",
       "      <td>affected</td>\n",
       "      <td>R</td>\n",
       "      <td>-2.0000</td>\n",
       "      <td>1</td>\n",
       "      <td>1.0</td>\n",
       "      <td>1.0</td>\n",
       "      <td>1.0</td>\n",
       "      <td>1.0</td>\n",
       "      <td>1</td>\n",
       "      <td>0</td>\n",
       "      <td>NaN</td>\n",
       "      <td>NaN</td>\n",
       "    </tr>\n",
       "    <tr>\n",
       "      <th>13316</th>\n",
       "      <td>S026</td>\n",
       "      <td>P19</td>\n",
       "      <td>T091</td>\n",
       "      <td>affected</td>\n",
       "      <td>R</td>\n",
       "      <td>-2.0000</td>\n",
       "      <td>1</td>\n",
       "      <td>1.0</td>\n",
       "      <td>1.0</td>\n",
       "      <td>1.0</td>\n",
       "      <td>1.0</td>\n",
       "      <td>1</td>\n",
       "      <td>0</td>\n",
       "      <td>NaN</td>\n",
       "      <td>NaN</td>\n",
       "    </tr>\n",
       "    <tr>\n",
       "      <th>13317</th>\n",
       "      <td>S026</td>\n",
       "      <td>P19</td>\n",
       "      <td>T092</td>\n",
       "      <td>affected</td>\n",
       "      <td>R</td>\n",
       "      <td>-2.0000</td>\n",
       "      <td>1</td>\n",
       "      <td>1.0</td>\n",
       "      <td>1.0</td>\n",
       "      <td>0.0</td>\n",
       "      <td>0.0</td>\n",
       "      <td>0</td>\n",
       "      <td>1</td>\n",
       "      <td>Murphy</td>\n",
       "      <td>time-series for measures not found in preproce...</td>\n",
       "    </tr>\n",
       "    <tr>\n",
       "      <th>13318</th>\n",
       "      <td>S026</td>\n",
       "      <td>P19</td>\n",
       "      <td>T093</td>\n",
       "      <td>affected</td>\n",
       "      <td>R</td>\n",
       "      <td>-2.0000</td>\n",
       "      <td>1</td>\n",
       "      <td>1.0</td>\n",
       "      <td>1.0</td>\n",
       "      <td>1.0</td>\n",
       "      <td>1.0</td>\n",
       "      <td>1</td>\n",
       "      <td>0</td>\n",
       "      <td>NaN</td>\n",
       "      <td>NaN</td>\n",
       "    </tr>\n",
       "    <tr>\n",
       "      <th>13319</th>\n",
       "      <td>S026</td>\n",
       "      <td>P19</td>\n",
       "      <td>T094</td>\n",
       "      <td>affected</td>\n",
       "      <td>R</td>\n",
       "      <td>-2.0000</td>\n",
       "      <td>1</td>\n",
       "      <td>1.0</td>\n",
       "      <td>1.0</td>\n",
       "      <td>1.0</td>\n",
       "      <td>1.0</td>\n",
       "      <td>1</td>\n",
       "      <td>0</td>\n",
       "      <td>NaN</td>\n",
       "      <td>NaN</td>\n",
       "    </tr>\n",
       "  </tbody>\n",
       "</table>\n",
       "<p>13320 rows × 15 columns</p>\n",
       "</div>"
      ]
     },
     "execution_count": 14,
     "metadata": {},
     "output_type": "execute_result"
    }
   ],
   "execution_count": 14
  },
  {
   "metadata": {
    "ExecuteTime": {
     "end_time": "2024-12-13T02:06:31.152829400Z",
     "start_time": "2024-12-13T01:28:54.012857Z"
    }
   },
   "cell_type": "code",
   "source": "print(df_failed_trials.groupby(['failed_at']).size().reset_index(name='count').style.to_latex())",
   "id": "736292ae11faae7",
   "outputs": [
    {
     "name": "stdout",
     "output_type": "stream",
     "text": [
      "\\begin{tabular}{llr}\n",
      " & failed_at & count \\\\\n",
      "0 & HPE & 72 \\\\\n",
      "1 & Murphy & 388 \\\\\n",
      "2 & OS & 2517 \\\\\n",
      "3 & P2S & 1262 \\\\\n",
      "\\end{tabular}\n",
      "\n"
     ]
    }
   ],
   "execution_count": 23
  },
  {
   "metadata": {
    "ExecuteTime": {
     "end_time": "2024-12-13T00:01:41.363301Z",
     "start_time": "2024-12-13T00:01:41.349666Z"
    }
   },
   "cell_type": "code",
   "source": "df_calib_error",
   "id": "643171e83f58b5a3",
   "outputs": [
    {
     "data": {
      "text/plain": [
       "          date      time  id_s  id_p                       cam_used      error\n",
       "0   08.11.2024  11:55:56  S001   P15   cam1, cam2, cam3, cam4, cam5   1.730408\n",
       "1   08.11.2024  12:15:35  S003   P15  cam6, cam7, cam8, cam9, cam10   1.736733\n",
       "2   08.11.2024  12:26:16  S005   P15               cam1, cam3, cam5   1.651214\n",
       "3   08.11.2024  12:36:50  S007   P15               cam2, cam3, cam4   1.648930\n",
       "4   08.11.2024  12:47:11  S009   P15              cam6, cam8, cam10   1.647874\n",
       "5   08.11.2024  12:57:30  S011   P15               cam7, cam8, cam9   1.645155\n",
       "6   08.11.2024  13:03:08  S013   P15                     cam2, cam4   0.754633\n",
       "7   08.11.2024  13:08:51  S015   P15                     cam7, cam9   0.736514\n",
       "8   08.11.2024  14:18:59  S001   P19   cam1, cam2, cam3, cam4, cam5   7.267665\n",
       "9   08.11.2024  14:41:44  S003   P19  cam6, cam7, cam8, cam9, cam10   7.283054\n",
       "10  08.11.2024  14:54:21  S005   P19               cam1, cam3, cam5   7.696826\n",
       "11  08.11.2024  15:06:48  S007   P19               cam2, cam3, cam4   7.907884\n",
       "12  08.11.2024  15:19:25  S009   P19              cam6, cam8, cam10   7.697961\n",
       "13  08.11.2024  15:31:58  S011   P19               cam7, cam8, cam9   8.021960\n",
       "14  08.11.2024  15:39:14  S013   P19                     cam2, cam4   6.712056\n",
       "15  08.11.2024  15:46:33  S015   P19                     cam7, cam9   6.246702\n",
       "16  08.11.2024  16:56:26  S001  P241   cam1, cam2, cam3, cam4, cam5   2.545337\n",
       "17  08.11.2024  17:15:31  S005  P241               cam1, cam3, cam5   0.885035\n",
       "18  08.11.2024  17:34:45  S007  P241               cam2, cam3, cam4   0.861323\n",
       "19  08.11.2024  17:45:44  S013  P241                     cam2, cam4   0.575685\n",
       "20  08.11.2024  19:03:43  S001  P242   cam1, cam2, cam3, cam4, cam5   2.525373\n",
       "21  08.11.2024  19:26:18  S005  P242               cam1, cam3, cam5   0.760580\n",
       "22  08.11.2024  19:48:51  S007  P242               cam2, cam3, cam4   0.792664\n",
       "23  08.11.2024  20:02:00  S013  P242                     cam2, cam4   0.599889\n",
       "24  08.11.2024  22:43:54  S001  P251   cam1, cam2, cam3, cam4, cam5   0.469230\n",
       "25  08.11.2024  23:28:08  S005  P251               cam1, cam3, cam5   0.370609\n",
       "26  09.11.2024  00:14:04  S007  P251               cam2, cam3, cam4   0.384466\n",
       "27  09.11.2024  00:40:23  S013  P251                     cam2, cam4   0.194517\n",
       "28  09.11.2024  01:27:46  S001  P252   cam1, cam2, cam3, cam4, cam5   3.183073\n",
       "29  09.11.2024  01:42:10  S005  P252               cam1, cam3, cam5   0.758476\n",
       "30  09.11.2024  01:56:34  S007  P252               cam2, cam3, cam4   0.747517\n",
       "31  09.11.2024  02:05:22  S013  P252                     cam2, cam4   0.432021\n",
       "32  08.11.2024  11:19:52  S001   P07   cam1, cam2, cam3, cam4, cam5   1.385700\n",
       "33  08.11.2024  11:23:34  S005   P07               cam1, cam3, cam5   1.462317\n",
       "34  08.11.2024  11:27:14  S007   P07               cam2, cam3, cam4   1.452339\n",
       "35  08.11.2024  11:29:31  S013   P07                     cam2, cam4   0.587715\n",
       "36  08.11.2024  11:31:50  S015   P07                     cam7, cam9   0.589697\n",
       "37  08.11.2024  11:51:22  S001   P08   cam1, cam2, cam3, cam4, cam5   1.132042\n",
       "38  08.11.2024  11:56:16  S005   P08               cam1, cam3, cam5   0.758549\n",
       "39  08.11.2024  12:01:09  S007   P08               cam2, cam3, cam4   0.737334\n",
       "40  08.11.2024  12:04:21  S013   P08                     cam2, cam4   0.287760\n",
       "41  08.11.2024  12:40:31  S001   P10   cam1, cam2, cam3, cam4, cam5   5.603799\n",
       "42  08.11.2024  12:51:20  S005   P10               cam1, cam3, cam5   0.969596\n",
       "43  08.11.2024  13:02:10  S007   P10               cam2, cam3, cam4   0.959856\n",
       "44  08.11.2024  13:08:40  S013   P10                     cam2, cam4   0.528535\n",
       "45  08.11.2024  13:40:22  S001   P11   cam1, cam2, cam3, cam4, cam5  19.981685\n",
       "46  08.11.2024  13:49:26  S005   P11               cam1, cam3, cam5  19.971588\n",
       "47  08.11.2024  13:58:27  S007   P11               cam2, cam3, cam4  20.848321\n",
       "48  08.11.2024  14:03:20  S013   P11                     cam2, cam4  12.103493\n",
       "49  08.11.2024  14:43:10  S001   P12   cam1, cam2, cam3, cam4, cam5   4.753502\n",
       "50  08.11.2024  14:55:06  S005   P12               cam1, cam3, cam5   1.415610\n",
       "51  08.11.2024  15:06:54  S007   P12               cam2, cam3, cam4   1.405195\n",
       "52  08.11.2024  15:13:47  S013   P12                     cam2, cam4   0.844891"
      ],
      "text/html": [
       "<div>\n",
       "<style scoped>\n",
       "    .dataframe tbody tr th:only-of-type {\n",
       "        vertical-align: middle;\n",
       "    }\n",
       "\n",
       "    .dataframe tbody tr th {\n",
       "        vertical-align: top;\n",
       "    }\n",
       "\n",
       "    .dataframe thead th {\n",
       "        text-align: right;\n",
       "    }\n",
       "</style>\n",
       "<table border=\"1\" class=\"dataframe\">\n",
       "  <thead>\n",
       "    <tr style=\"text-align: right;\">\n",
       "      <th></th>\n",
       "      <th>date</th>\n",
       "      <th>time</th>\n",
       "      <th>id_s</th>\n",
       "      <th>id_p</th>\n",
       "      <th>cam_used</th>\n",
       "      <th>error</th>\n",
       "    </tr>\n",
       "  </thead>\n",
       "  <tbody>\n",
       "    <tr>\n",
       "      <th>0</th>\n",
       "      <td>08.11.2024</td>\n",
       "      <td>11:55:56</td>\n",
       "      <td>S001</td>\n",
       "      <td>P15</td>\n",
       "      <td>cam1, cam2, cam3, cam4, cam5</td>\n",
       "      <td>1.730408</td>\n",
       "    </tr>\n",
       "    <tr>\n",
       "      <th>1</th>\n",
       "      <td>08.11.2024</td>\n",
       "      <td>12:15:35</td>\n",
       "      <td>S003</td>\n",
       "      <td>P15</td>\n",
       "      <td>cam6, cam7, cam8, cam9, cam10</td>\n",
       "      <td>1.736733</td>\n",
       "    </tr>\n",
       "    <tr>\n",
       "      <th>2</th>\n",
       "      <td>08.11.2024</td>\n",
       "      <td>12:26:16</td>\n",
       "      <td>S005</td>\n",
       "      <td>P15</td>\n",
       "      <td>cam1, cam3, cam5</td>\n",
       "      <td>1.651214</td>\n",
       "    </tr>\n",
       "    <tr>\n",
       "      <th>3</th>\n",
       "      <td>08.11.2024</td>\n",
       "      <td>12:36:50</td>\n",
       "      <td>S007</td>\n",
       "      <td>P15</td>\n",
       "      <td>cam2, cam3, cam4</td>\n",
       "      <td>1.648930</td>\n",
       "    </tr>\n",
       "    <tr>\n",
       "      <th>4</th>\n",
       "      <td>08.11.2024</td>\n",
       "      <td>12:47:11</td>\n",
       "      <td>S009</td>\n",
       "      <td>P15</td>\n",
       "      <td>cam6, cam8, cam10</td>\n",
       "      <td>1.647874</td>\n",
       "    </tr>\n",
       "    <tr>\n",
       "      <th>5</th>\n",
       "      <td>08.11.2024</td>\n",
       "      <td>12:57:30</td>\n",
       "      <td>S011</td>\n",
       "      <td>P15</td>\n",
       "      <td>cam7, cam8, cam9</td>\n",
       "      <td>1.645155</td>\n",
       "    </tr>\n",
       "    <tr>\n",
       "      <th>6</th>\n",
       "      <td>08.11.2024</td>\n",
       "      <td>13:03:08</td>\n",
       "      <td>S013</td>\n",
       "      <td>P15</td>\n",
       "      <td>cam2, cam4</td>\n",
       "      <td>0.754633</td>\n",
       "    </tr>\n",
       "    <tr>\n",
       "      <th>7</th>\n",
       "      <td>08.11.2024</td>\n",
       "      <td>13:08:51</td>\n",
       "      <td>S015</td>\n",
       "      <td>P15</td>\n",
       "      <td>cam7, cam9</td>\n",
       "      <td>0.736514</td>\n",
       "    </tr>\n",
       "    <tr>\n",
       "      <th>8</th>\n",
       "      <td>08.11.2024</td>\n",
       "      <td>14:18:59</td>\n",
       "      <td>S001</td>\n",
       "      <td>P19</td>\n",
       "      <td>cam1, cam2, cam3, cam4, cam5</td>\n",
       "      <td>7.267665</td>\n",
       "    </tr>\n",
       "    <tr>\n",
       "      <th>9</th>\n",
       "      <td>08.11.2024</td>\n",
       "      <td>14:41:44</td>\n",
       "      <td>S003</td>\n",
       "      <td>P19</td>\n",
       "      <td>cam6, cam7, cam8, cam9, cam10</td>\n",
       "      <td>7.283054</td>\n",
       "    </tr>\n",
       "    <tr>\n",
       "      <th>10</th>\n",
       "      <td>08.11.2024</td>\n",
       "      <td>14:54:21</td>\n",
       "      <td>S005</td>\n",
       "      <td>P19</td>\n",
       "      <td>cam1, cam3, cam5</td>\n",
       "      <td>7.696826</td>\n",
       "    </tr>\n",
       "    <tr>\n",
       "      <th>11</th>\n",
       "      <td>08.11.2024</td>\n",
       "      <td>15:06:48</td>\n",
       "      <td>S007</td>\n",
       "      <td>P19</td>\n",
       "      <td>cam2, cam3, cam4</td>\n",
       "      <td>7.907884</td>\n",
       "    </tr>\n",
       "    <tr>\n",
       "      <th>12</th>\n",
       "      <td>08.11.2024</td>\n",
       "      <td>15:19:25</td>\n",
       "      <td>S009</td>\n",
       "      <td>P19</td>\n",
       "      <td>cam6, cam8, cam10</td>\n",
       "      <td>7.697961</td>\n",
       "    </tr>\n",
       "    <tr>\n",
       "      <th>13</th>\n",
       "      <td>08.11.2024</td>\n",
       "      <td>15:31:58</td>\n",
       "      <td>S011</td>\n",
       "      <td>P19</td>\n",
       "      <td>cam7, cam8, cam9</td>\n",
       "      <td>8.021960</td>\n",
       "    </tr>\n",
       "    <tr>\n",
       "      <th>14</th>\n",
       "      <td>08.11.2024</td>\n",
       "      <td>15:39:14</td>\n",
       "      <td>S013</td>\n",
       "      <td>P19</td>\n",
       "      <td>cam2, cam4</td>\n",
       "      <td>6.712056</td>\n",
       "    </tr>\n",
       "    <tr>\n",
       "      <th>15</th>\n",
       "      <td>08.11.2024</td>\n",
       "      <td>15:46:33</td>\n",
       "      <td>S015</td>\n",
       "      <td>P19</td>\n",
       "      <td>cam7, cam9</td>\n",
       "      <td>6.246702</td>\n",
       "    </tr>\n",
       "    <tr>\n",
       "      <th>16</th>\n",
       "      <td>08.11.2024</td>\n",
       "      <td>16:56:26</td>\n",
       "      <td>S001</td>\n",
       "      <td>P241</td>\n",
       "      <td>cam1, cam2, cam3, cam4, cam5</td>\n",
       "      <td>2.545337</td>\n",
       "    </tr>\n",
       "    <tr>\n",
       "      <th>17</th>\n",
       "      <td>08.11.2024</td>\n",
       "      <td>17:15:31</td>\n",
       "      <td>S005</td>\n",
       "      <td>P241</td>\n",
       "      <td>cam1, cam3, cam5</td>\n",
       "      <td>0.885035</td>\n",
       "    </tr>\n",
       "    <tr>\n",
       "      <th>18</th>\n",
       "      <td>08.11.2024</td>\n",
       "      <td>17:34:45</td>\n",
       "      <td>S007</td>\n",
       "      <td>P241</td>\n",
       "      <td>cam2, cam3, cam4</td>\n",
       "      <td>0.861323</td>\n",
       "    </tr>\n",
       "    <tr>\n",
       "      <th>19</th>\n",
       "      <td>08.11.2024</td>\n",
       "      <td>17:45:44</td>\n",
       "      <td>S013</td>\n",
       "      <td>P241</td>\n",
       "      <td>cam2, cam4</td>\n",
       "      <td>0.575685</td>\n",
       "    </tr>\n",
       "    <tr>\n",
       "      <th>20</th>\n",
       "      <td>08.11.2024</td>\n",
       "      <td>19:03:43</td>\n",
       "      <td>S001</td>\n",
       "      <td>P242</td>\n",
       "      <td>cam1, cam2, cam3, cam4, cam5</td>\n",
       "      <td>2.525373</td>\n",
       "    </tr>\n",
       "    <tr>\n",
       "      <th>21</th>\n",
       "      <td>08.11.2024</td>\n",
       "      <td>19:26:18</td>\n",
       "      <td>S005</td>\n",
       "      <td>P242</td>\n",
       "      <td>cam1, cam3, cam5</td>\n",
       "      <td>0.760580</td>\n",
       "    </tr>\n",
       "    <tr>\n",
       "      <th>22</th>\n",
       "      <td>08.11.2024</td>\n",
       "      <td>19:48:51</td>\n",
       "      <td>S007</td>\n",
       "      <td>P242</td>\n",
       "      <td>cam2, cam3, cam4</td>\n",
       "      <td>0.792664</td>\n",
       "    </tr>\n",
       "    <tr>\n",
       "      <th>23</th>\n",
       "      <td>08.11.2024</td>\n",
       "      <td>20:02:00</td>\n",
       "      <td>S013</td>\n",
       "      <td>P242</td>\n",
       "      <td>cam2, cam4</td>\n",
       "      <td>0.599889</td>\n",
       "    </tr>\n",
       "    <tr>\n",
       "      <th>24</th>\n",
       "      <td>08.11.2024</td>\n",
       "      <td>22:43:54</td>\n",
       "      <td>S001</td>\n",
       "      <td>P251</td>\n",
       "      <td>cam1, cam2, cam3, cam4, cam5</td>\n",
       "      <td>0.469230</td>\n",
       "    </tr>\n",
       "    <tr>\n",
       "      <th>25</th>\n",
       "      <td>08.11.2024</td>\n",
       "      <td>23:28:08</td>\n",
       "      <td>S005</td>\n",
       "      <td>P251</td>\n",
       "      <td>cam1, cam3, cam5</td>\n",
       "      <td>0.370609</td>\n",
       "    </tr>\n",
       "    <tr>\n",
       "      <th>26</th>\n",
       "      <td>09.11.2024</td>\n",
       "      <td>00:14:04</td>\n",
       "      <td>S007</td>\n",
       "      <td>P251</td>\n",
       "      <td>cam2, cam3, cam4</td>\n",
       "      <td>0.384466</td>\n",
       "    </tr>\n",
       "    <tr>\n",
       "      <th>27</th>\n",
       "      <td>09.11.2024</td>\n",
       "      <td>00:40:23</td>\n",
       "      <td>S013</td>\n",
       "      <td>P251</td>\n",
       "      <td>cam2, cam4</td>\n",
       "      <td>0.194517</td>\n",
       "    </tr>\n",
       "    <tr>\n",
       "      <th>28</th>\n",
       "      <td>09.11.2024</td>\n",
       "      <td>01:27:46</td>\n",
       "      <td>S001</td>\n",
       "      <td>P252</td>\n",
       "      <td>cam1, cam2, cam3, cam4, cam5</td>\n",
       "      <td>3.183073</td>\n",
       "    </tr>\n",
       "    <tr>\n",
       "      <th>29</th>\n",
       "      <td>09.11.2024</td>\n",
       "      <td>01:42:10</td>\n",
       "      <td>S005</td>\n",
       "      <td>P252</td>\n",
       "      <td>cam1, cam3, cam5</td>\n",
       "      <td>0.758476</td>\n",
       "    </tr>\n",
       "    <tr>\n",
       "      <th>30</th>\n",
       "      <td>09.11.2024</td>\n",
       "      <td>01:56:34</td>\n",
       "      <td>S007</td>\n",
       "      <td>P252</td>\n",
       "      <td>cam2, cam3, cam4</td>\n",
       "      <td>0.747517</td>\n",
       "    </tr>\n",
       "    <tr>\n",
       "      <th>31</th>\n",
       "      <td>09.11.2024</td>\n",
       "      <td>02:05:22</td>\n",
       "      <td>S013</td>\n",
       "      <td>P252</td>\n",
       "      <td>cam2, cam4</td>\n",
       "      <td>0.432021</td>\n",
       "    </tr>\n",
       "    <tr>\n",
       "      <th>32</th>\n",
       "      <td>08.11.2024</td>\n",
       "      <td>11:19:52</td>\n",
       "      <td>S001</td>\n",
       "      <td>P07</td>\n",
       "      <td>cam1, cam2, cam3, cam4, cam5</td>\n",
       "      <td>1.385700</td>\n",
       "    </tr>\n",
       "    <tr>\n",
       "      <th>33</th>\n",
       "      <td>08.11.2024</td>\n",
       "      <td>11:23:34</td>\n",
       "      <td>S005</td>\n",
       "      <td>P07</td>\n",
       "      <td>cam1, cam3, cam5</td>\n",
       "      <td>1.462317</td>\n",
       "    </tr>\n",
       "    <tr>\n",
       "      <th>34</th>\n",
       "      <td>08.11.2024</td>\n",
       "      <td>11:27:14</td>\n",
       "      <td>S007</td>\n",
       "      <td>P07</td>\n",
       "      <td>cam2, cam3, cam4</td>\n",
       "      <td>1.452339</td>\n",
       "    </tr>\n",
       "    <tr>\n",
       "      <th>35</th>\n",
       "      <td>08.11.2024</td>\n",
       "      <td>11:29:31</td>\n",
       "      <td>S013</td>\n",
       "      <td>P07</td>\n",
       "      <td>cam2, cam4</td>\n",
       "      <td>0.587715</td>\n",
       "    </tr>\n",
       "    <tr>\n",
       "      <th>36</th>\n",
       "      <td>08.11.2024</td>\n",
       "      <td>11:31:50</td>\n",
       "      <td>S015</td>\n",
       "      <td>P07</td>\n",
       "      <td>cam7, cam9</td>\n",
       "      <td>0.589697</td>\n",
       "    </tr>\n",
       "    <tr>\n",
       "      <th>37</th>\n",
       "      <td>08.11.2024</td>\n",
       "      <td>11:51:22</td>\n",
       "      <td>S001</td>\n",
       "      <td>P08</td>\n",
       "      <td>cam1, cam2, cam3, cam4, cam5</td>\n",
       "      <td>1.132042</td>\n",
       "    </tr>\n",
       "    <tr>\n",
       "      <th>38</th>\n",
       "      <td>08.11.2024</td>\n",
       "      <td>11:56:16</td>\n",
       "      <td>S005</td>\n",
       "      <td>P08</td>\n",
       "      <td>cam1, cam3, cam5</td>\n",
       "      <td>0.758549</td>\n",
       "    </tr>\n",
       "    <tr>\n",
       "      <th>39</th>\n",
       "      <td>08.11.2024</td>\n",
       "      <td>12:01:09</td>\n",
       "      <td>S007</td>\n",
       "      <td>P08</td>\n",
       "      <td>cam2, cam3, cam4</td>\n",
       "      <td>0.737334</td>\n",
       "    </tr>\n",
       "    <tr>\n",
       "      <th>40</th>\n",
       "      <td>08.11.2024</td>\n",
       "      <td>12:04:21</td>\n",
       "      <td>S013</td>\n",
       "      <td>P08</td>\n",
       "      <td>cam2, cam4</td>\n",
       "      <td>0.287760</td>\n",
       "    </tr>\n",
       "    <tr>\n",
       "      <th>41</th>\n",
       "      <td>08.11.2024</td>\n",
       "      <td>12:40:31</td>\n",
       "      <td>S001</td>\n",
       "      <td>P10</td>\n",
       "      <td>cam1, cam2, cam3, cam4, cam5</td>\n",
       "      <td>5.603799</td>\n",
       "    </tr>\n",
       "    <tr>\n",
       "      <th>42</th>\n",
       "      <td>08.11.2024</td>\n",
       "      <td>12:51:20</td>\n",
       "      <td>S005</td>\n",
       "      <td>P10</td>\n",
       "      <td>cam1, cam3, cam5</td>\n",
       "      <td>0.969596</td>\n",
       "    </tr>\n",
       "    <tr>\n",
       "      <th>43</th>\n",
       "      <td>08.11.2024</td>\n",
       "      <td>13:02:10</td>\n",
       "      <td>S007</td>\n",
       "      <td>P10</td>\n",
       "      <td>cam2, cam3, cam4</td>\n",
       "      <td>0.959856</td>\n",
       "    </tr>\n",
       "    <tr>\n",
       "      <th>44</th>\n",
       "      <td>08.11.2024</td>\n",
       "      <td>13:08:40</td>\n",
       "      <td>S013</td>\n",
       "      <td>P10</td>\n",
       "      <td>cam2, cam4</td>\n",
       "      <td>0.528535</td>\n",
       "    </tr>\n",
       "    <tr>\n",
       "      <th>45</th>\n",
       "      <td>08.11.2024</td>\n",
       "      <td>13:40:22</td>\n",
       "      <td>S001</td>\n",
       "      <td>P11</td>\n",
       "      <td>cam1, cam2, cam3, cam4, cam5</td>\n",
       "      <td>19.981685</td>\n",
       "    </tr>\n",
       "    <tr>\n",
       "      <th>46</th>\n",
       "      <td>08.11.2024</td>\n",
       "      <td>13:49:26</td>\n",
       "      <td>S005</td>\n",
       "      <td>P11</td>\n",
       "      <td>cam1, cam3, cam5</td>\n",
       "      <td>19.971588</td>\n",
       "    </tr>\n",
       "    <tr>\n",
       "      <th>47</th>\n",
       "      <td>08.11.2024</td>\n",
       "      <td>13:58:27</td>\n",
       "      <td>S007</td>\n",
       "      <td>P11</td>\n",
       "      <td>cam2, cam3, cam4</td>\n",
       "      <td>20.848321</td>\n",
       "    </tr>\n",
       "    <tr>\n",
       "      <th>48</th>\n",
       "      <td>08.11.2024</td>\n",
       "      <td>14:03:20</td>\n",
       "      <td>S013</td>\n",
       "      <td>P11</td>\n",
       "      <td>cam2, cam4</td>\n",
       "      <td>12.103493</td>\n",
       "    </tr>\n",
       "    <tr>\n",
       "      <th>49</th>\n",
       "      <td>08.11.2024</td>\n",
       "      <td>14:43:10</td>\n",
       "      <td>S001</td>\n",
       "      <td>P12</td>\n",
       "      <td>cam1, cam2, cam3, cam4, cam5</td>\n",
       "      <td>4.753502</td>\n",
       "    </tr>\n",
       "    <tr>\n",
       "      <th>50</th>\n",
       "      <td>08.11.2024</td>\n",
       "      <td>14:55:06</td>\n",
       "      <td>S005</td>\n",
       "      <td>P12</td>\n",
       "      <td>cam1, cam3, cam5</td>\n",
       "      <td>1.415610</td>\n",
       "    </tr>\n",
       "    <tr>\n",
       "      <th>51</th>\n",
       "      <td>08.11.2024</td>\n",
       "      <td>15:06:54</td>\n",
       "      <td>S007</td>\n",
       "      <td>P12</td>\n",
       "      <td>cam2, cam3, cam4</td>\n",
       "      <td>1.405195</td>\n",
       "    </tr>\n",
       "    <tr>\n",
       "      <th>52</th>\n",
       "      <td>08.11.2024</td>\n",
       "      <td>15:13:47</td>\n",
       "      <td>S013</td>\n",
       "      <td>P12</td>\n",
       "      <td>cam2, cam4</td>\n",
       "      <td>0.844891</td>\n",
       "    </tr>\n",
       "  </tbody>\n",
       "</table>\n",
       "</div>"
      ]
     },
     "execution_count": 8,
     "metadata": {},
     "output_type": "execute_result"
    }
   ],
   "execution_count": 8
  },
  {
   "metadata": {
    "ExecuteTime": {
     "end_time": "2024-12-13T00:01:44.525787Z",
     "start_time": "2024-12-13T00:01:44.514750Z"
    }
   },
   "cell_type": "code",
   "source": "df_calib_error.groupby(['id_p']).mean().reset_index()",
   "id": "7533c7c4a4cf673a",
   "outputs": [
    {
     "name": "stderr",
     "output_type": "stream",
     "text": [
      "C:\\Users\\johan\\AppData\\Local\\Temp\\ipykernel_3516\\4071383271.py:1: FutureWarning: The default value of numeric_only in DataFrameGroupBy.mean is deprecated. In a future version, numeric_only will default to False. Either specify numeric_only or select only columns which should be valid for the function.\n",
      "  df_calib_error.groupby(['id_p']).mean().reset_index()\n"
     ]
    },
    {
     "data": {
      "text/plain": [
       "    id_p      error\n",
       "0    P07   1.095553\n",
       "1    P08   0.728921\n",
       "2    P10   2.015446\n",
       "3    P11  18.226272\n",
       "4    P12   2.104800\n",
       "5    P15   1.443933\n",
       "6    P19   7.354264\n",
       "7   P241   1.216845\n",
       "8   P242   1.169626\n",
       "9   P251   0.354706\n",
       "10  P252   1.280272"
      ],
      "text/html": [
       "<div>\n",
       "<style scoped>\n",
       "    .dataframe tbody tr th:only-of-type {\n",
       "        vertical-align: middle;\n",
       "    }\n",
       "\n",
       "    .dataframe tbody tr th {\n",
       "        vertical-align: top;\n",
       "    }\n",
       "\n",
       "    .dataframe thead th {\n",
       "        text-align: right;\n",
       "    }\n",
       "</style>\n",
       "<table border=\"1\" class=\"dataframe\">\n",
       "  <thead>\n",
       "    <tr style=\"text-align: right;\">\n",
       "      <th></th>\n",
       "      <th>id_p</th>\n",
       "      <th>error</th>\n",
       "    </tr>\n",
       "  </thead>\n",
       "  <tbody>\n",
       "    <tr>\n",
       "      <th>0</th>\n",
       "      <td>P07</td>\n",
       "      <td>1.095553</td>\n",
       "    </tr>\n",
       "    <tr>\n",
       "      <th>1</th>\n",
       "      <td>P08</td>\n",
       "      <td>0.728921</td>\n",
       "    </tr>\n",
       "    <tr>\n",
       "      <th>2</th>\n",
       "      <td>P10</td>\n",
       "      <td>2.015446</td>\n",
       "    </tr>\n",
       "    <tr>\n",
       "      <th>3</th>\n",
       "      <td>P11</td>\n",
       "      <td>18.226272</td>\n",
       "    </tr>\n",
       "    <tr>\n",
       "      <th>4</th>\n",
       "      <td>P12</td>\n",
       "      <td>2.104800</td>\n",
       "    </tr>\n",
       "    <tr>\n",
       "      <th>5</th>\n",
       "      <td>P15</td>\n",
       "      <td>1.443933</td>\n",
       "    </tr>\n",
       "    <tr>\n",
       "      <th>6</th>\n",
       "      <td>P19</td>\n",
       "      <td>7.354264</td>\n",
       "    </tr>\n",
       "    <tr>\n",
       "      <th>7</th>\n",
       "      <td>P241</td>\n",
       "      <td>1.216845</td>\n",
       "    </tr>\n",
       "    <tr>\n",
       "      <th>8</th>\n",
       "      <td>P242</td>\n",
       "      <td>1.169626</td>\n",
       "    </tr>\n",
       "    <tr>\n",
       "      <th>9</th>\n",
       "      <td>P251</td>\n",
       "      <td>0.354706</td>\n",
       "    </tr>\n",
       "    <tr>\n",
       "      <th>10</th>\n",
       "      <td>P252</td>\n",
       "      <td>1.280272</td>\n",
       "    </tr>\n",
       "  </tbody>\n",
       "</table>\n",
       "</div>"
      ]
     },
     "execution_count": 9,
     "metadata": {},
     "output_type": "execute_result"
    }
   ],
   "execution_count": 9
  },
  {
   "metadata": {
    "ExecuteTime": {
     "end_time": "2024-12-13T00:04:39.314338Z",
     "start_time": "2024-12-13T00:04:36.280736Z"
    }
   },
   "cell_type": "code",
   "source": [
    "\n",
    "\n",
    "fig = px.box(df_calib_error.sort_values(by='id_p'), x='id_p', y='error',\n",
    "           title='Calibration errors of patients',\n",
    "           labels={'error': 'Reprojection error (px)', 'id_p': 'Patient ID'}, template = 'plotly')\n",
    "\n",
    "fig.update_layout(height=600, width=1000)\n",
    "\n",
    "fig.show()\n",
    "\n",
    "dir_dst = os.path.join(root_stat, '05_calibration')\n",
    "os.makedirs(dir_dst, exist_ok=True)\n",
    "fig.write_html(os.path.join(dir_dst, 'calib_error.html'))\n",
    "\n",
    "fig.write_image(os.path.join(dir_dst, 'calib_error.svg'), scale=5)\n",
    "fig.write_image(os.path.join(dir_dst, 'calib_error.png'), scale=5)"
   ],
   "id": "ec414bab5511f5a",
   "outputs": [
    {
     "data": {
      "application/vnd.plotly.v1+json": {
       "data": [
        {
         "alignmentgroup": "True",
         "hovertemplate": "Patient ID=%{x}<br>Reprojection error (px)=%{y}<extra></extra>",
         "legendgroup": "",
         "marker": {
          "color": "#636efa"
         },
         "name": "",
         "notched": false,
         "offsetgroup": "",
         "orientation": "v",
         "showlegend": false,
         "x": [
          "P07",
          "P07",
          "P07",
          "P07",
          "P07",
          "P08",
          "P08",
          "P08",
          "P08",
          "P10",
          "P10",
          "P10",
          "P10",
          "P11",
          "P11",
          "P11",
          "P11",
          "P12",
          "P12",
          "P12",
          "P12",
          "P15",
          "P15",
          "P15",
          "P15",
          "P15",
          "P15",
          "P15",
          "P15",
          "P19",
          "P19",
          "P19",
          "P19",
          "P19",
          "P19",
          "P19",
          "P19",
          "P241",
          "P241",
          "P241",
          "P241",
          "P242",
          "P242",
          "P242",
          "P242",
          "P251",
          "P251",
          "P251",
          "P251",
          "P252",
          "P252",
          "P252",
          "P252"
         ],
         "x0": " ",
         "xaxis": "x",
         "y": [
          0.5877149980743823,
          1.4623168789131638,
          1.452339071,
          1.3856998244070415,
          0.5896965025150871,
          1.132041664508491,
          0.7585488956505331,
          0.7373341750485854,
          0.287759823,
          5.603798834800886,
          0.5285352136094463,
          0.969595663,
          0.9598558765026692,
          19.98168538578729,
          19.971587873754725,
          20.84832116353782,
          12.103492991008787,
          0.8448913460241703,
          1.4156095618868552,
          4.753502019186575,
          1.4051951267127227,
          1.730408491868073,
          1.7367328125815646,
          1.6512135123870213,
          1.648929527712487,
          1.6478737746882477,
          1.6451552534350582,
          0.7546332462574536,
          0.7365135014097596,
          6.712056212710561,
          8.021960271265396,
          7.696826269613687,
          6.2467024165139176,
          7.283054153062226,
          7.697960651901122,
          7.267664633556111,
          7.907883622,
          0.8850350447548564,
          2.5453370903476875,
          0.5756849189331235,
          0.8613228237466151,
          0.7926636955784211,
          2.5253731800473043,
          0.5998886646935133,
          0.7605801982043499,
          0.1945172919916582,
          0.3706091119763433,
          0.4692301812111543,
          0.3844656955935694,
          0.4320205142804827,
          0.7475174944206365,
          0.7584760658388333,
          3.1830728067029423
         ],
         "y0": " ",
         "yaxis": "y",
         "type": "box"
        }
       ],
       "layout": {
        "template": {
         "data": {
          "barpolar": [
           {
            "marker": {
             "line": {
              "color": "#E5ECF6",
              "width": 0.5
             },
             "pattern": {
              "fillmode": "overlay",
              "size": 10,
              "solidity": 0.2
             }
            },
            "type": "barpolar"
           }
          ],
          "bar": [
           {
            "error_x": {
             "color": "#2a3f5f"
            },
            "error_y": {
             "color": "#2a3f5f"
            },
            "marker": {
             "line": {
              "color": "#E5ECF6",
              "width": 0.5
             },
             "pattern": {
              "fillmode": "overlay",
              "size": 10,
              "solidity": 0.2
             }
            },
            "type": "bar"
           }
          ],
          "carpet": [
           {
            "aaxis": {
             "endlinecolor": "#2a3f5f",
             "gridcolor": "white",
             "linecolor": "white",
             "minorgridcolor": "white",
             "startlinecolor": "#2a3f5f"
            },
            "baxis": {
             "endlinecolor": "#2a3f5f",
             "gridcolor": "white",
             "linecolor": "white",
             "minorgridcolor": "white",
             "startlinecolor": "#2a3f5f"
            },
            "type": "carpet"
           }
          ],
          "choropleth": [
           {
            "colorbar": {
             "outlinewidth": 0,
             "ticks": ""
            },
            "type": "choropleth"
           }
          ],
          "contourcarpet": [
           {
            "colorbar": {
             "outlinewidth": 0,
             "ticks": ""
            },
            "type": "contourcarpet"
           }
          ],
          "contour": [
           {
            "colorbar": {
             "outlinewidth": 0,
             "ticks": ""
            },
            "colorscale": [
             [
              0.0,
              "#0d0887"
             ],
             [
              0.1111111111111111,
              "#46039f"
             ],
             [
              0.2222222222222222,
              "#7201a8"
             ],
             [
              0.3333333333333333,
              "#9c179e"
             ],
             [
              0.4444444444444444,
              "#bd3786"
             ],
             [
              0.5555555555555556,
              "#d8576b"
             ],
             [
              0.6666666666666666,
              "#ed7953"
             ],
             [
              0.7777777777777778,
              "#fb9f3a"
             ],
             [
              0.8888888888888888,
              "#fdca26"
             ],
             [
              1.0,
              "#f0f921"
             ]
            ],
            "type": "contour"
           }
          ],
          "heatmapgl": [
           {
            "colorbar": {
             "outlinewidth": 0,
             "ticks": ""
            },
            "colorscale": [
             [
              0.0,
              "#0d0887"
             ],
             [
              0.1111111111111111,
              "#46039f"
             ],
             [
              0.2222222222222222,
              "#7201a8"
             ],
             [
              0.3333333333333333,
              "#9c179e"
             ],
             [
              0.4444444444444444,
              "#bd3786"
             ],
             [
              0.5555555555555556,
              "#d8576b"
             ],
             [
              0.6666666666666666,
              "#ed7953"
             ],
             [
              0.7777777777777778,
              "#fb9f3a"
             ],
             [
              0.8888888888888888,
              "#fdca26"
             ],
             [
              1.0,
              "#f0f921"
             ]
            ],
            "type": "heatmapgl"
           }
          ],
          "heatmap": [
           {
            "colorbar": {
             "outlinewidth": 0,
             "ticks": ""
            },
            "colorscale": [
             [
              0.0,
              "#0d0887"
             ],
             [
              0.1111111111111111,
              "#46039f"
             ],
             [
              0.2222222222222222,
              "#7201a8"
             ],
             [
              0.3333333333333333,
              "#9c179e"
             ],
             [
              0.4444444444444444,
              "#bd3786"
             ],
             [
              0.5555555555555556,
              "#d8576b"
             ],
             [
              0.6666666666666666,
              "#ed7953"
             ],
             [
              0.7777777777777778,
              "#fb9f3a"
             ],
             [
              0.8888888888888888,
              "#fdca26"
             ],
             [
              1.0,
              "#f0f921"
             ]
            ],
            "type": "heatmap"
           }
          ],
          "histogram2dcontour": [
           {
            "colorbar": {
             "outlinewidth": 0,
             "ticks": ""
            },
            "colorscale": [
             [
              0.0,
              "#0d0887"
             ],
             [
              0.1111111111111111,
              "#46039f"
             ],
             [
              0.2222222222222222,
              "#7201a8"
             ],
             [
              0.3333333333333333,
              "#9c179e"
             ],
             [
              0.4444444444444444,
              "#bd3786"
             ],
             [
              0.5555555555555556,
              "#d8576b"
             ],
             [
              0.6666666666666666,
              "#ed7953"
             ],
             [
              0.7777777777777778,
              "#fb9f3a"
             ],
             [
              0.8888888888888888,
              "#fdca26"
             ],
             [
              1.0,
              "#f0f921"
             ]
            ],
            "type": "histogram2dcontour"
           }
          ],
          "histogram2d": [
           {
            "colorbar": {
             "outlinewidth": 0,
             "ticks": ""
            },
            "colorscale": [
             [
              0.0,
              "#0d0887"
             ],
             [
              0.1111111111111111,
              "#46039f"
             ],
             [
              0.2222222222222222,
              "#7201a8"
             ],
             [
              0.3333333333333333,
              "#9c179e"
             ],
             [
              0.4444444444444444,
              "#bd3786"
             ],
             [
              0.5555555555555556,
              "#d8576b"
             ],
             [
              0.6666666666666666,
              "#ed7953"
             ],
             [
              0.7777777777777778,
              "#fb9f3a"
             ],
             [
              0.8888888888888888,
              "#fdca26"
             ],
             [
              1.0,
              "#f0f921"
             ]
            ],
            "type": "histogram2d"
           }
          ],
          "histogram": [
           {
            "marker": {
             "pattern": {
              "fillmode": "overlay",
              "size": 10,
              "solidity": 0.2
             }
            },
            "type": "histogram"
           }
          ],
          "mesh3d": [
           {
            "colorbar": {
             "outlinewidth": 0,
             "ticks": ""
            },
            "type": "mesh3d"
           }
          ],
          "parcoords": [
           {
            "line": {
             "colorbar": {
              "outlinewidth": 0,
              "ticks": ""
             }
            },
            "type": "parcoords"
           }
          ],
          "pie": [
           {
            "automargin": true,
            "type": "pie"
           }
          ],
          "scatter3d": [
           {
            "line": {
             "colorbar": {
              "outlinewidth": 0,
              "ticks": ""
             }
            },
            "marker": {
             "colorbar": {
              "outlinewidth": 0,
              "ticks": ""
             }
            },
            "type": "scatter3d"
           }
          ],
          "scattercarpet": [
           {
            "marker": {
             "colorbar": {
              "outlinewidth": 0,
              "ticks": ""
             }
            },
            "type": "scattercarpet"
           }
          ],
          "scattergeo": [
           {
            "marker": {
             "colorbar": {
              "outlinewidth": 0,
              "ticks": ""
             }
            },
            "type": "scattergeo"
           }
          ],
          "scattergl": [
           {
            "marker": {
             "colorbar": {
              "outlinewidth": 0,
              "ticks": ""
             }
            },
            "type": "scattergl"
           }
          ],
          "scattermapbox": [
           {
            "marker": {
             "colorbar": {
              "outlinewidth": 0,
              "ticks": ""
             }
            },
            "type": "scattermapbox"
           }
          ],
          "scatterpolargl": [
           {
            "marker": {
             "colorbar": {
              "outlinewidth": 0,
              "ticks": ""
             }
            },
            "type": "scatterpolargl"
           }
          ],
          "scatterpolar": [
           {
            "marker": {
             "colorbar": {
              "outlinewidth": 0,
              "ticks": ""
             }
            },
            "type": "scatterpolar"
           }
          ],
          "scatter": [
           {
            "fillpattern": {
             "fillmode": "overlay",
             "size": 10,
             "solidity": 0.2
            },
            "type": "scatter"
           }
          ],
          "scatterternary": [
           {
            "marker": {
             "colorbar": {
              "outlinewidth": 0,
              "ticks": ""
             }
            },
            "type": "scatterternary"
           }
          ],
          "surface": [
           {
            "colorbar": {
             "outlinewidth": 0,
             "ticks": ""
            },
            "colorscale": [
             [
              0.0,
              "#0d0887"
             ],
             [
              0.1111111111111111,
              "#46039f"
             ],
             [
              0.2222222222222222,
              "#7201a8"
             ],
             [
              0.3333333333333333,
              "#9c179e"
             ],
             [
              0.4444444444444444,
              "#bd3786"
             ],
             [
              0.5555555555555556,
              "#d8576b"
             ],
             [
              0.6666666666666666,
              "#ed7953"
             ],
             [
              0.7777777777777778,
              "#fb9f3a"
             ],
             [
              0.8888888888888888,
              "#fdca26"
             ],
             [
              1.0,
              "#f0f921"
             ]
            ],
            "type": "surface"
           }
          ],
          "table": [
           {
            "cells": {
             "fill": {
              "color": "#EBF0F8"
             },
             "line": {
              "color": "white"
             }
            },
            "header": {
             "fill": {
              "color": "#C8D4E3"
             },
             "line": {
              "color": "white"
             }
            },
            "type": "table"
           }
          ]
         },
         "layout": {
          "annotationdefaults": {
           "arrowcolor": "#2a3f5f",
           "arrowhead": 0,
           "arrowwidth": 1
          },
          "autotypenumbers": "strict",
          "coloraxis": {
           "colorbar": {
            "outlinewidth": 0,
            "ticks": ""
           }
          },
          "colorscale": {
           "diverging": [
            [
             0,
             "#8e0152"
            ],
            [
             0.1,
             "#c51b7d"
            ],
            [
             0.2,
             "#de77ae"
            ],
            [
             0.3,
             "#f1b6da"
            ],
            [
             0.4,
             "#fde0ef"
            ],
            [
             0.5,
             "#f7f7f7"
            ],
            [
             0.6,
             "#e6f5d0"
            ],
            [
             0.7,
             "#b8e186"
            ],
            [
             0.8,
             "#7fbc41"
            ],
            [
             0.9,
             "#4d9221"
            ],
            [
             1,
             "#276419"
            ]
           ],
           "sequential": [
            [
             0.0,
             "#0d0887"
            ],
            [
             0.1111111111111111,
             "#46039f"
            ],
            [
             0.2222222222222222,
             "#7201a8"
            ],
            [
             0.3333333333333333,
             "#9c179e"
            ],
            [
             0.4444444444444444,
             "#bd3786"
            ],
            [
             0.5555555555555556,
             "#d8576b"
            ],
            [
             0.6666666666666666,
             "#ed7953"
            ],
            [
             0.7777777777777778,
             "#fb9f3a"
            ],
            [
             0.8888888888888888,
             "#fdca26"
            ],
            [
             1.0,
             "#f0f921"
            ]
           ],
           "sequentialminus": [
            [
             0.0,
             "#0d0887"
            ],
            [
             0.1111111111111111,
             "#46039f"
            ],
            [
             0.2222222222222222,
             "#7201a8"
            ],
            [
             0.3333333333333333,
             "#9c179e"
            ],
            [
             0.4444444444444444,
             "#bd3786"
            ],
            [
             0.5555555555555556,
             "#d8576b"
            ],
            [
             0.6666666666666666,
             "#ed7953"
            ],
            [
             0.7777777777777778,
             "#fb9f3a"
            ],
            [
             0.8888888888888888,
             "#fdca26"
            ],
            [
             1.0,
             "#f0f921"
            ]
           ]
          },
          "colorway": [
           "#636efa",
           "#EF553B",
           "#00cc96",
           "#ab63fa",
           "#FFA15A",
           "#19d3f3",
           "#FF6692",
           "#B6E880",
           "#FF97FF",
           "#FECB52"
          ],
          "font": {
           "color": "#2a3f5f"
          },
          "geo": {
           "bgcolor": "white",
           "lakecolor": "white",
           "landcolor": "#E5ECF6",
           "showlakes": true,
           "showland": true,
           "subunitcolor": "white"
          },
          "hoverlabel": {
           "align": "left"
          },
          "hovermode": "closest",
          "mapbox": {
           "style": "light"
          },
          "paper_bgcolor": "white",
          "plot_bgcolor": "#E5ECF6",
          "polar": {
           "angularaxis": {
            "gridcolor": "white",
            "linecolor": "white",
            "ticks": ""
           },
           "bgcolor": "#E5ECF6",
           "radialaxis": {
            "gridcolor": "white",
            "linecolor": "white",
            "ticks": ""
           }
          },
          "scene": {
           "xaxis": {
            "backgroundcolor": "#E5ECF6",
            "gridcolor": "white",
            "gridwidth": 2,
            "linecolor": "white",
            "showbackground": true,
            "ticks": "",
            "zerolinecolor": "white"
           },
           "yaxis": {
            "backgroundcolor": "#E5ECF6",
            "gridcolor": "white",
            "gridwidth": 2,
            "linecolor": "white",
            "showbackground": true,
            "ticks": "",
            "zerolinecolor": "white"
           },
           "zaxis": {
            "backgroundcolor": "#E5ECF6",
            "gridcolor": "white",
            "gridwidth": 2,
            "linecolor": "white",
            "showbackground": true,
            "ticks": "",
            "zerolinecolor": "white"
           }
          },
          "shapedefaults": {
           "line": {
            "color": "#2a3f5f"
           }
          },
          "ternary": {
           "aaxis": {
            "gridcolor": "white",
            "linecolor": "white",
            "ticks": ""
           },
           "baxis": {
            "gridcolor": "white",
            "linecolor": "white",
            "ticks": ""
           },
           "bgcolor": "#E5ECF6",
           "caxis": {
            "gridcolor": "white",
            "linecolor": "white",
            "ticks": ""
           }
          },
          "title": {
           "x": 0.05
          },
          "xaxis": {
           "automargin": true,
           "gridcolor": "white",
           "linecolor": "white",
           "ticks": "",
           "title": {
            "standoff": 15
           },
           "zerolinecolor": "white",
           "zerolinewidth": 2
          },
          "yaxis": {
           "automargin": true,
           "gridcolor": "white",
           "linecolor": "white",
           "ticks": "",
           "title": {
            "standoff": 15
           },
           "zerolinecolor": "white",
           "zerolinewidth": 2
          }
         }
        },
        "xaxis": {
         "anchor": "y",
         "domain": [
          0.0,
          1.0
         ],
         "title": {
          "text": "Patient ID"
         }
        },
        "yaxis": {
         "anchor": "x",
         "domain": [
          0.0,
          1.0
         ],
         "title": {
          "text": "Reprojection error (px)"
         }
        },
        "legend": {
         "tracegroupgap": 0
        },
        "title": {
         "text": "Calibration errors of patients"
        },
        "boxmode": "group",
        "height": 600,
        "width": 1000
       },
       "config": {
        "plotlyServerURL": "https://plot.ly"
       }
      },
      "text/html": [
       "<div>                            <div id=\"a1a5393c-b5a3-4069-9168-6c40167890c6\" class=\"plotly-graph-div\" style=\"height:600px; width:1000px;\"></div>            <script type=\"text/javascript\">                require([\"plotly\"], function(Plotly) {                    window.PLOTLYENV=window.PLOTLYENV || {};                                    if (document.getElementById(\"a1a5393c-b5a3-4069-9168-6c40167890c6\")) {                    Plotly.newPlot(                        \"a1a5393c-b5a3-4069-9168-6c40167890c6\",                        [{\"alignmentgroup\":\"True\",\"hovertemplate\":\"Patient ID=%{x}\\u003cbr\\u003eReprojection error (px)=%{y}\\u003cextra\\u003e\\u003c\\u002fextra\\u003e\",\"legendgroup\":\"\",\"marker\":{\"color\":\"#636efa\"},\"name\":\"\",\"notched\":false,\"offsetgroup\":\"\",\"orientation\":\"v\",\"showlegend\":false,\"x\":[\"P07\",\"P07\",\"P07\",\"P07\",\"P07\",\"P08\",\"P08\",\"P08\",\"P08\",\"P10\",\"P10\",\"P10\",\"P10\",\"P11\",\"P11\",\"P11\",\"P11\",\"P12\",\"P12\",\"P12\",\"P12\",\"P15\",\"P15\",\"P15\",\"P15\",\"P15\",\"P15\",\"P15\",\"P15\",\"P19\",\"P19\",\"P19\",\"P19\",\"P19\",\"P19\",\"P19\",\"P19\",\"P241\",\"P241\",\"P241\",\"P241\",\"P242\",\"P242\",\"P242\",\"P242\",\"P251\",\"P251\",\"P251\",\"P251\",\"P252\",\"P252\",\"P252\",\"P252\"],\"x0\":\" \",\"xaxis\":\"x\",\"y\":[0.5877149980743823,1.4623168789131638,1.452339071,1.3856998244070415,0.5896965025150871,1.132041664508491,0.7585488956505331,0.7373341750485854,0.287759823,5.603798834800886,0.5285352136094463,0.969595663,0.9598558765026692,19.98168538578729,19.971587873754725,20.84832116353782,12.103492991008787,0.8448913460241703,1.4156095618868552,4.753502019186575,1.4051951267127227,1.730408491868073,1.7367328125815646,1.6512135123870213,1.648929527712487,1.6478737746882477,1.6451552534350582,0.7546332462574536,0.7365135014097596,6.712056212710561,8.021960271265396,7.696826269613687,6.2467024165139176,7.283054153062226,7.697960651901122,7.267664633556111,7.907883622,0.8850350447548564,2.5453370903476875,0.5756849189331235,0.8613228237466151,0.7926636955784211,2.5253731800473043,0.5998886646935133,0.7605801982043499,0.1945172919916582,0.3706091119763433,0.4692301812111543,0.3844656955935694,0.4320205142804827,0.7475174944206365,0.7584760658388333,3.1830728067029423],\"y0\":\" \",\"yaxis\":\"y\",\"type\":\"box\"}],                        {\"template\":{\"data\":{\"barpolar\":[{\"marker\":{\"line\":{\"color\":\"#E5ECF6\",\"width\":0.5},\"pattern\":{\"fillmode\":\"overlay\",\"size\":10,\"solidity\":0.2}},\"type\":\"barpolar\"}],\"bar\":[{\"error_x\":{\"color\":\"#2a3f5f\"},\"error_y\":{\"color\":\"#2a3f5f\"},\"marker\":{\"line\":{\"color\":\"#E5ECF6\",\"width\":0.5},\"pattern\":{\"fillmode\":\"overlay\",\"size\":10,\"solidity\":0.2}},\"type\":\"bar\"}],\"carpet\":[{\"aaxis\":{\"endlinecolor\":\"#2a3f5f\",\"gridcolor\":\"white\",\"linecolor\":\"white\",\"minorgridcolor\":\"white\",\"startlinecolor\":\"#2a3f5f\"},\"baxis\":{\"endlinecolor\":\"#2a3f5f\",\"gridcolor\":\"white\",\"linecolor\":\"white\",\"minorgridcolor\":\"white\",\"startlinecolor\":\"#2a3f5f\"},\"type\":\"carpet\"}],\"choropleth\":[{\"colorbar\":{\"outlinewidth\":0,\"ticks\":\"\"},\"type\":\"choropleth\"}],\"contourcarpet\":[{\"colorbar\":{\"outlinewidth\":0,\"ticks\":\"\"},\"type\":\"contourcarpet\"}],\"contour\":[{\"colorbar\":{\"outlinewidth\":0,\"ticks\":\"\"},\"colorscale\":[[0.0,\"#0d0887\"],[0.1111111111111111,\"#46039f\"],[0.2222222222222222,\"#7201a8\"],[0.3333333333333333,\"#9c179e\"],[0.4444444444444444,\"#bd3786\"],[0.5555555555555556,\"#d8576b\"],[0.6666666666666666,\"#ed7953\"],[0.7777777777777778,\"#fb9f3a\"],[0.8888888888888888,\"#fdca26\"],[1.0,\"#f0f921\"]],\"type\":\"contour\"}],\"heatmapgl\":[{\"colorbar\":{\"outlinewidth\":0,\"ticks\":\"\"},\"colorscale\":[[0.0,\"#0d0887\"],[0.1111111111111111,\"#46039f\"],[0.2222222222222222,\"#7201a8\"],[0.3333333333333333,\"#9c179e\"],[0.4444444444444444,\"#bd3786\"],[0.5555555555555556,\"#d8576b\"],[0.6666666666666666,\"#ed7953\"],[0.7777777777777778,\"#fb9f3a\"],[0.8888888888888888,\"#fdca26\"],[1.0,\"#f0f921\"]],\"type\":\"heatmapgl\"}],\"heatmap\":[{\"colorbar\":{\"outlinewidth\":0,\"ticks\":\"\"},\"colorscale\":[[0.0,\"#0d0887\"],[0.1111111111111111,\"#46039f\"],[0.2222222222222222,\"#7201a8\"],[0.3333333333333333,\"#9c179e\"],[0.4444444444444444,\"#bd3786\"],[0.5555555555555556,\"#d8576b\"],[0.6666666666666666,\"#ed7953\"],[0.7777777777777778,\"#fb9f3a\"],[0.8888888888888888,\"#fdca26\"],[1.0,\"#f0f921\"]],\"type\":\"heatmap\"}],\"histogram2dcontour\":[{\"colorbar\":{\"outlinewidth\":0,\"ticks\":\"\"},\"colorscale\":[[0.0,\"#0d0887\"],[0.1111111111111111,\"#46039f\"],[0.2222222222222222,\"#7201a8\"],[0.3333333333333333,\"#9c179e\"],[0.4444444444444444,\"#bd3786\"],[0.5555555555555556,\"#d8576b\"],[0.6666666666666666,\"#ed7953\"],[0.7777777777777778,\"#fb9f3a\"],[0.8888888888888888,\"#fdca26\"],[1.0,\"#f0f921\"]],\"type\":\"histogram2dcontour\"}],\"histogram2d\":[{\"colorbar\":{\"outlinewidth\":0,\"ticks\":\"\"},\"colorscale\":[[0.0,\"#0d0887\"],[0.1111111111111111,\"#46039f\"],[0.2222222222222222,\"#7201a8\"],[0.3333333333333333,\"#9c179e\"],[0.4444444444444444,\"#bd3786\"],[0.5555555555555556,\"#d8576b\"],[0.6666666666666666,\"#ed7953\"],[0.7777777777777778,\"#fb9f3a\"],[0.8888888888888888,\"#fdca26\"],[1.0,\"#f0f921\"]],\"type\":\"histogram2d\"}],\"histogram\":[{\"marker\":{\"pattern\":{\"fillmode\":\"overlay\",\"size\":10,\"solidity\":0.2}},\"type\":\"histogram\"}],\"mesh3d\":[{\"colorbar\":{\"outlinewidth\":0,\"ticks\":\"\"},\"type\":\"mesh3d\"}],\"parcoords\":[{\"line\":{\"colorbar\":{\"outlinewidth\":0,\"ticks\":\"\"}},\"type\":\"parcoords\"}],\"pie\":[{\"automargin\":true,\"type\":\"pie\"}],\"scatter3d\":[{\"line\":{\"colorbar\":{\"outlinewidth\":0,\"ticks\":\"\"}},\"marker\":{\"colorbar\":{\"outlinewidth\":0,\"ticks\":\"\"}},\"type\":\"scatter3d\"}],\"scattercarpet\":[{\"marker\":{\"colorbar\":{\"outlinewidth\":0,\"ticks\":\"\"}},\"type\":\"scattercarpet\"}],\"scattergeo\":[{\"marker\":{\"colorbar\":{\"outlinewidth\":0,\"ticks\":\"\"}},\"type\":\"scattergeo\"}],\"scattergl\":[{\"marker\":{\"colorbar\":{\"outlinewidth\":0,\"ticks\":\"\"}},\"type\":\"scattergl\"}],\"scattermapbox\":[{\"marker\":{\"colorbar\":{\"outlinewidth\":0,\"ticks\":\"\"}},\"type\":\"scattermapbox\"}],\"scatterpolargl\":[{\"marker\":{\"colorbar\":{\"outlinewidth\":0,\"ticks\":\"\"}},\"type\":\"scatterpolargl\"}],\"scatterpolar\":[{\"marker\":{\"colorbar\":{\"outlinewidth\":0,\"ticks\":\"\"}},\"type\":\"scatterpolar\"}],\"scatter\":[{\"fillpattern\":{\"fillmode\":\"overlay\",\"size\":10,\"solidity\":0.2},\"type\":\"scatter\"}],\"scatterternary\":[{\"marker\":{\"colorbar\":{\"outlinewidth\":0,\"ticks\":\"\"}},\"type\":\"scatterternary\"}],\"surface\":[{\"colorbar\":{\"outlinewidth\":0,\"ticks\":\"\"},\"colorscale\":[[0.0,\"#0d0887\"],[0.1111111111111111,\"#46039f\"],[0.2222222222222222,\"#7201a8\"],[0.3333333333333333,\"#9c179e\"],[0.4444444444444444,\"#bd3786\"],[0.5555555555555556,\"#d8576b\"],[0.6666666666666666,\"#ed7953\"],[0.7777777777777778,\"#fb9f3a\"],[0.8888888888888888,\"#fdca26\"],[1.0,\"#f0f921\"]],\"type\":\"surface\"}],\"table\":[{\"cells\":{\"fill\":{\"color\":\"#EBF0F8\"},\"line\":{\"color\":\"white\"}},\"header\":{\"fill\":{\"color\":\"#C8D4E3\"},\"line\":{\"color\":\"white\"}},\"type\":\"table\"}]},\"layout\":{\"annotationdefaults\":{\"arrowcolor\":\"#2a3f5f\",\"arrowhead\":0,\"arrowwidth\":1},\"autotypenumbers\":\"strict\",\"coloraxis\":{\"colorbar\":{\"outlinewidth\":0,\"ticks\":\"\"}},\"colorscale\":{\"diverging\":[[0,\"#8e0152\"],[0.1,\"#c51b7d\"],[0.2,\"#de77ae\"],[0.3,\"#f1b6da\"],[0.4,\"#fde0ef\"],[0.5,\"#f7f7f7\"],[0.6,\"#e6f5d0\"],[0.7,\"#b8e186\"],[0.8,\"#7fbc41\"],[0.9,\"#4d9221\"],[1,\"#276419\"]],\"sequential\":[[0.0,\"#0d0887\"],[0.1111111111111111,\"#46039f\"],[0.2222222222222222,\"#7201a8\"],[0.3333333333333333,\"#9c179e\"],[0.4444444444444444,\"#bd3786\"],[0.5555555555555556,\"#d8576b\"],[0.6666666666666666,\"#ed7953\"],[0.7777777777777778,\"#fb9f3a\"],[0.8888888888888888,\"#fdca26\"],[1.0,\"#f0f921\"]],\"sequentialminus\":[[0.0,\"#0d0887\"],[0.1111111111111111,\"#46039f\"],[0.2222222222222222,\"#7201a8\"],[0.3333333333333333,\"#9c179e\"],[0.4444444444444444,\"#bd3786\"],[0.5555555555555556,\"#d8576b\"],[0.6666666666666666,\"#ed7953\"],[0.7777777777777778,\"#fb9f3a\"],[0.8888888888888888,\"#fdca26\"],[1.0,\"#f0f921\"]]},\"colorway\":[\"#636efa\",\"#EF553B\",\"#00cc96\",\"#ab63fa\",\"#FFA15A\",\"#19d3f3\",\"#FF6692\",\"#B6E880\",\"#FF97FF\",\"#FECB52\"],\"font\":{\"color\":\"#2a3f5f\"},\"geo\":{\"bgcolor\":\"white\",\"lakecolor\":\"white\",\"landcolor\":\"#E5ECF6\",\"showlakes\":true,\"showland\":true,\"subunitcolor\":\"white\"},\"hoverlabel\":{\"align\":\"left\"},\"hovermode\":\"closest\",\"mapbox\":{\"style\":\"light\"},\"paper_bgcolor\":\"white\",\"plot_bgcolor\":\"#E5ECF6\",\"polar\":{\"angularaxis\":{\"gridcolor\":\"white\",\"linecolor\":\"white\",\"ticks\":\"\"},\"bgcolor\":\"#E5ECF6\",\"radialaxis\":{\"gridcolor\":\"white\",\"linecolor\":\"white\",\"ticks\":\"\"}},\"scene\":{\"xaxis\":{\"backgroundcolor\":\"#E5ECF6\",\"gridcolor\":\"white\",\"gridwidth\":2,\"linecolor\":\"white\",\"showbackground\":true,\"ticks\":\"\",\"zerolinecolor\":\"white\"},\"yaxis\":{\"backgroundcolor\":\"#E5ECF6\",\"gridcolor\":\"white\",\"gridwidth\":2,\"linecolor\":\"white\",\"showbackground\":true,\"ticks\":\"\",\"zerolinecolor\":\"white\"},\"zaxis\":{\"backgroundcolor\":\"#E5ECF6\",\"gridcolor\":\"white\",\"gridwidth\":2,\"linecolor\":\"white\",\"showbackground\":true,\"ticks\":\"\",\"zerolinecolor\":\"white\"}},\"shapedefaults\":{\"line\":{\"color\":\"#2a3f5f\"}},\"ternary\":{\"aaxis\":{\"gridcolor\":\"white\",\"linecolor\":\"white\",\"ticks\":\"\"},\"baxis\":{\"gridcolor\":\"white\",\"linecolor\":\"white\",\"ticks\":\"\"},\"bgcolor\":\"#E5ECF6\",\"caxis\":{\"gridcolor\":\"white\",\"linecolor\":\"white\",\"ticks\":\"\"}},\"title\":{\"x\":0.05},\"xaxis\":{\"automargin\":true,\"gridcolor\":\"white\",\"linecolor\":\"white\",\"ticks\":\"\",\"title\":{\"standoff\":15},\"zerolinecolor\":\"white\",\"zerolinewidth\":2},\"yaxis\":{\"automargin\":true,\"gridcolor\":\"white\",\"linecolor\":\"white\",\"ticks\":\"\",\"title\":{\"standoff\":15},\"zerolinecolor\":\"white\",\"zerolinewidth\":2}}},\"xaxis\":{\"anchor\":\"y\",\"domain\":[0.0,1.0],\"title\":{\"text\":\"Patient ID\"}},\"yaxis\":{\"anchor\":\"x\",\"domain\":[0.0,1.0],\"title\":{\"text\":\"Reprojection error (px)\"}},\"legend\":{\"tracegroupgap\":0},\"title\":{\"text\":\"Calibration errors of patients\"},\"boxmode\":\"group\",\"height\":600,\"width\":1000},                        {\"responsive\": true}                    ).then(function(){\n",
       "                            \n",
       "var gd = document.getElementById('a1a5393c-b5a3-4069-9168-6c40167890c6');\n",
       "var x = new MutationObserver(function (mutations, observer) {{\n",
       "        var display = window.getComputedStyle(gd).display;\n",
       "        if (!display || display === 'none') {{\n",
       "            console.log([gd, 'removed!']);\n",
       "            Plotly.purge(gd);\n",
       "            observer.disconnect();\n",
       "        }}\n",
       "}});\n",
       "\n",
       "// Listen for the removal of the full notebook cells\n",
       "var notebookContainer = gd.closest('#notebook-container');\n",
       "if (notebookContainer) {{\n",
       "    x.observe(notebookContainer, {childList: true});\n",
       "}}\n",
       "\n",
       "// Listen for the clearing of the current output cell\n",
       "var outputEl = gd.closest('.output');\n",
       "if (outputEl) {{\n",
       "    x.observe(outputEl, {childList: true});\n",
       "}}\n",
       "\n",
       "                        })                };                });            </script>        </div>"
      ]
     },
     "metadata": {},
     "output_type": "display_data"
    }
   ],
   "execution_count": 14
  },
  {
   "metadata": {
    "ExecuteTime": {
     "end_time": "2024-12-08T15:42:04.175546Z",
     "start_time": "2024-12-08T15:42:04.171662Z"
    }
   },
   "cell_type": "code",
   "source": "df_failed_trials['success'].sum()",
   "id": "f0536d66c975ac20",
   "outputs": [
    {
     "data": {
      "text/plain": [
       "9081"
      ]
     },
     "execution_count": 31,
     "metadata": {},
     "output_type": "execute_result"
    }
   ],
   "execution_count": 31
  },
  {
   "metadata": {
    "ExecuteTime": {
     "end_time": "2024-12-08T15:36:37.607155Z",
     "start_time": "2024-12-08T15:36:37.602540Z"
    }
   },
   "cell_type": "code",
   "source": "df_failed_trials['fail'].sum()",
   "id": "4252692973d3d12",
   "outputs": [
    {
     "data": {
      "text/plain": [
       "4239"
      ]
     },
     "execution_count": 11,
     "metadata": {},
     "output_type": "execute_result"
    }
   ],
   "execution_count": 11
  },
  {
   "metadata": {
    "ExecuteTime": {
     "end_time": "2024-12-08T15:36:38.634525Z",
     "start_time": "2024-12-08T15:36:38.619731Z"
    }
   },
   "cell_type": "code",
   "source": [
    "df_temp = df_failed_trials[['id_p', 'id_s', 'HPE']]\n",
    "df_temp.loc['HPE'] = df_temp['HPE'].apply(lambda x: 0 if x == 1 else 1 if x == 0 else x)"
   ],
   "id": "ab98a0fc246edb5a",
   "outputs": [
    {
     "name": "stderr",
     "output_type": "stream",
     "text": [
      "C:\\Users\\johan\\AppData\\Local\\Temp\\ipykernel_10048\\2525283356.py:2: SettingWithCopyWarning: \n",
      "A value is trying to be set on a copy of a slice from a DataFrame\n",
      "\n",
      "See the caveats in the documentation: https://pandas.pydata.org/pandas-docs/stable/user_guide/indexing.html#returning-a-view-versus-a-copy\n",
      "  df_temp.loc['HPE'] = df_temp['HPE'].apply(lambda x: 0 if x == 1 else 1 if x == 0 else x)\n"
     ]
    }
   ],
   "execution_count": 12
  },
  {
   "metadata": {
    "ExecuteTime": {
     "end_time": "2024-12-08T15:36:40.192453Z",
     "start_time": "2024-12-08T15:36:40.183073Z"
    }
   },
   "cell_type": "code",
   "source": [
    "df_temp = df_failed_trials[['id_s', 'id_p', 'calib_error']].drop_duplicates()\n",
    "df_temp = df_temp [df_temp['calib_error'] != -2]"
   ],
   "id": "bbb9a0609ed028fb",
   "outputs": [],
   "execution_count": 13
  },
  {
   "metadata": {
    "ExecuteTime": {
     "end_time": "2024-12-07T12:09:00.337968Z",
     "start_time": "2024-12-07T12:09:00.330956Z"
    }
   },
   "cell_type": "code",
   "source": "df_temp.groupby(['id_p'])['calib_error'].mean().reset_index()",
   "id": "2b4b129373686e77",
   "outputs": [
    {
     "data": {
      "text/plain": [
       "    id_p  calib_error\n",
       "0    P07     1.095553\n",
       "1    P08     0.728921\n",
       "2    P10     2.015446\n",
       "3    P11    18.226272\n",
       "4    P12     2.104800\n",
       "5    P15     1.443933\n",
       "6    P19     7.354264\n",
       "7   P241     1.216845\n",
       "8   P242     1.169626\n",
       "9   P251     0.354706\n",
       "10  P252     1.280272"
      ],
      "text/html": [
       "<div>\n",
       "<style scoped>\n",
       "    .dataframe tbody tr th:only-of-type {\n",
       "        vertical-align: middle;\n",
       "    }\n",
       "\n",
       "    .dataframe tbody tr th {\n",
       "        vertical-align: top;\n",
       "    }\n",
       "\n",
       "    .dataframe thead th {\n",
       "        text-align: right;\n",
       "    }\n",
       "</style>\n",
       "<table border=\"1\" class=\"dataframe\">\n",
       "  <thead>\n",
       "    <tr style=\"text-align: right;\">\n",
       "      <th></th>\n",
       "      <th>id_p</th>\n",
       "      <th>calib_error</th>\n",
       "    </tr>\n",
       "  </thead>\n",
       "  <tbody>\n",
       "    <tr>\n",
       "      <th>0</th>\n",
       "      <td>P07</td>\n",
       "      <td>1.095553</td>\n",
       "    </tr>\n",
       "    <tr>\n",
       "      <th>1</th>\n",
       "      <td>P08</td>\n",
       "      <td>0.728921</td>\n",
       "    </tr>\n",
       "    <tr>\n",
       "      <th>2</th>\n",
       "      <td>P10</td>\n",
       "      <td>2.015446</td>\n",
       "    </tr>\n",
       "    <tr>\n",
       "      <th>3</th>\n",
       "      <td>P11</td>\n",
       "      <td>18.226272</td>\n",
       "    </tr>\n",
       "    <tr>\n",
       "      <th>4</th>\n",
       "      <td>P12</td>\n",
       "      <td>2.104800</td>\n",
       "    </tr>\n",
       "    <tr>\n",
       "      <th>5</th>\n",
       "      <td>P15</td>\n",
       "      <td>1.443933</td>\n",
       "    </tr>\n",
       "    <tr>\n",
       "      <th>6</th>\n",
       "      <td>P19</td>\n",
       "      <td>7.354264</td>\n",
       "    </tr>\n",
       "    <tr>\n",
       "      <th>7</th>\n",
       "      <td>P241</td>\n",
       "      <td>1.216845</td>\n",
       "    </tr>\n",
       "    <tr>\n",
       "      <th>8</th>\n",
       "      <td>P242</td>\n",
       "      <td>1.169626</td>\n",
       "    </tr>\n",
       "    <tr>\n",
       "      <th>9</th>\n",
       "      <td>P251</td>\n",
       "      <td>0.354706</td>\n",
       "    </tr>\n",
       "    <tr>\n",
       "      <th>10</th>\n",
       "      <td>P252</td>\n",
       "      <td>1.280272</td>\n",
       "    </tr>\n",
       "  </tbody>\n",
       "</table>\n",
       "</div>"
      ]
     },
     "execution_count": 52,
     "metadata": {},
     "output_type": "execute_result"
    }
   ],
   "execution_count": 52
  },
  {
   "metadata": {
    "ExecuteTime": {
     "end_time": "2024-12-07T12:11:38.645230Z",
     "start_time": "2024-12-07T12:11:38.638041Z"
    }
   },
   "cell_type": "code",
   "source": "df_temp.groupby(['id_p'])['calib_error'].mean().reset_index().style.to_latex()",
   "id": "358cfce8b61858fe",
   "outputs": [
    {
     "data": {
      "text/plain": [
       "'\\\\begin{tabular}{llr}\\n & id_p & calib_error \\\\\\\\\\n0 & P07 & 1.095553 \\\\\\\\\\n1 & P08 & 0.728921 \\\\\\\\\\n2 & P10 & 2.015446 \\\\\\\\\\n3 & P11 & 18.226272 \\\\\\\\\\n4 & P12 & 2.104800 \\\\\\\\\\n5 & P15 & 1.443933 \\\\\\\\\\n6 & P19 & 7.354264 \\\\\\\\\\n7 & P241 & 1.216845 \\\\\\\\\\n8 & P242 & 1.169626 \\\\\\\\\\n9 & P251 & 0.354706 \\\\\\\\\\n10 & P252 & 1.280272 \\\\\\\\\\n\\\\end{tabular}\\n'"
      ]
     },
     "execution_count": 58,
     "metadata": {},
     "output_type": "execute_result"
    }
   ],
   "execution_count": 58
  },
  {
   "metadata": {
    "ExecuteTime": {
     "end_time": "2024-12-07T12:07:51.203067Z",
     "start_time": "2024-12-07T12:07:51.197852Z"
    }
   },
   "cell_type": "code",
   "source": "df_temp[df_temp['id_p'] == 'P19']['calib_error'].mean()",
   "id": "4f9054cb13386b5",
   "outputs": [
    {
     "data": {
      "text/plain": [
       "7.354263528827877"
      ]
     },
     "execution_count": 46,
     "metadata": {},
     "output_type": "execute_result"
    }
   ],
   "execution_count": 46
  },
  {
   "metadata": {
    "ExecuteTime": {
     "end_time": "2024-12-07T12:09:13.085236Z",
     "start_time": "2024-12-07T12:09:13.079216Z"
    }
   },
   "cell_type": "code",
   "source": "df_temp[df_temp['id_p'] == 'P19']['calib_error'].max()",
   "id": "56b8b5cab21f276d",
   "outputs": [
    {
     "data": {
      "text/plain": [
       "8.021960271265396"
      ]
     },
     "execution_count": 55,
     "metadata": {},
     "output_type": "execute_result"
    }
   ],
   "execution_count": 55
  },
  {
   "metadata": {
    "ExecuteTime": {
     "end_time": "2024-12-07T12:09:07.932904Z",
     "start_time": "2024-12-07T12:09:07.926416Z"
    }
   },
   "cell_type": "code",
   "source": "df_temp[df_temp['id_p'] == 'P19']['calib_error']",
   "id": "bf81cb57f1828d3a",
   "outputs": [
    {
     "data": {
      "text/plain": [
       "509     7.267665\n",
       "1279    7.267665\n",
       "1630    7.283054\n",
       "1814    7.283054\n",
       "2417    7.696826\n",
       "3187    7.696826\n",
       "3957    7.907884\n",
       "4727    7.907884\n",
       "5078    7.697961\n",
       "5262    7.697961\n",
       "5446    8.021960\n",
       "5630    8.021960\n",
       "6233    6.712056\n",
       "7003    6.712056\n",
       "7437    6.246702\n",
       "7704    6.246702\n",
       "Name: calib_error, dtype: float64"
      ]
     },
     "execution_count": 54,
     "metadata": {},
     "output_type": "execute_result"
    }
   ],
   "execution_count": 54
  },
  {
   "metadata": {
    "ExecuteTime": {
     "end_time": "2024-12-07T11:27:04.682337Z",
     "start_time": "2024-12-07T11:27:04.672122Z"
    }
   },
   "cell_type": "code",
   "source": "df_temp.style.to_latex()",
   "id": "c6e634d71cbd40a9",
   "outputs": [
    {
     "data": {
      "text/plain": [
       "'\\\\begin{tabular}{lllr}\\n & id_s & id_p & calib_error \\\\\\\\\\n0 & S001 & P07 & 1.385700 \\\\\\\\\\n83 & S001 & P08 & 1.132042 \\\\\\\\\\n172 & S001 & P10 & 5.603799 \\\\\\\\\\n255 & S001 & P11 & 19.981685 \\\\\\\\\\n337 & S001 & P12 & 4.753502 \\\\\\\\\\n419 & S001 & P15 & 1.730408 \\\\\\\\\\n509 & S001 & P19 & 7.267665 \\\\\\\\\\n603 & S001 & P241 & 2.545337 \\\\\\\\\\n646 & S001 & P242 & 2.525373 \\\\\\\\\\n687 & S001 & P251 & 0.469230 \\\\\\\\\\n728 & S001 & P252 & 3.183073 \\\\\\\\\\n770 & S002 & P07 & 1.385700 \\\\\\\\\\n853 & S002 & P08 & 1.132042 \\\\\\\\\\n942 & S002 & P10 & 5.603799 \\\\\\\\\\n1025 & S002 & P11 & 19.981685 \\\\\\\\\\n1107 & S002 & P12 & 4.753502 \\\\\\\\\\n1189 & S002 & P15 & 1.730408 \\\\\\\\\\n1279 & S002 & P19 & 7.267665 \\\\\\\\\\n1373 & S002 & P241 & 2.545337 \\\\\\\\\\n1416 & S002 & P242 & 2.525373 \\\\\\\\\\n1457 & S002 & P251 & 0.469230 \\\\\\\\\\n1498 & S002 & P252 & 3.183073 \\\\\\\\\\n1540 & S003 & P15 & 1.736733 \\\\\\\\\\n1630 & S003 & P19 & 7.283054 \\\\\\\\\\n1724 & S004 & P15 & 1.736733 \\\\\\\\\\n1814 & S004 & P19 & 7.283054 \\\\\\\\\\n1908 & S005 & P07 & 1.462317 \\\\\\\\\\n1991 & S005 & P08 & 0.758549 \\\\\\\\\\n2080 & S005 & P10 & 0.969596 \\\\\\\\\\n2163 & S005 & P11 & 19.971588 \\\\\\\\\\n2245 & S005 & P12 & 1.415610 \\\\\\\\\\n2327 & S005 & P15 & 1.651214 \\\\\\\\\\n2417 & S005 & P19 & 7.696826 \\\\\\\\\\n2511 & S005 & P241 & 0.885035 \\\\\\\\\\n2554 & S005 & P242 & 0.760580 \\\\\\\\\\n2595 & S005 & P251 & 0.370609 \\\\\\\\\\n2636 & S005 & P252 & 0.758476 \\\\\\\\\\n2678 & S006 & P07 & 1.462317 \\\\\\\\\\n2761 & S006 & P08 & 0.758549 \\\\\\\\\\n2850 & S006 & P10 & 0.969596 \\\\\\\\\\n2933 & S006 & P11 & 19.971588 \\\\\\\\\\n3015 & S006 & P12 & 1.415610 \\\\\\\\\\n3097 & S006 & P15 & 1.651214 \\\\\\\\\\n3187 & S006 & P19 & 7.696826 \\\\\\\\\\n3281 & S006 & P241 & 0.885035 \\\\\\\\\\n3324 & S006 & P242 & 0.760580 \\\\\\\\\\n3365 & S006 & P251 & 0.370609 \\\\\\\\\\n3406 & S006 & P252 & 0.758476 \\\\\\\\\\n3448 & S007 & P07 & 1.452339 \\\\\\\\\\n3531 & S007 & P08 & 0.737334 \\\\\\\\\\n3620 & S007 & P10 & 0.959856 \\\\\\\\\\n3703 & S007 & P11 & 20.848321 \\\\\\\\\\n3785 & S007 & P12 & 1.405195 \\\\\\\\\\n3867 & S007 & P15 & 1.648930 \\\\\\\\\\n3957 & S007 & P19 & 7.907884 \\\\\\\\\\n4051 & S007 & P241 & 0.861323 \\\\\\\\\\n4094 & S007 & P242 & 0.792664 \\\\\\\\\\n4135 & S007 & P251 & 0.384466 \\\\\\\\\\n4176 & S007 & P252 & 0.747517 \\\\\\\\\\n4218 & S008 & P07 & 1.452339 \\\\\\\\\\n4301 & S008 & P08 & 0.737334 \\\\\\\\\\n4390 & S008 & P10 & 0.959856 \\\\\\\\\\n4473 & S008 & P11 & 20.848321 \\\\\\\\\\n4555 & S008 & P12 & 1.405195 \\\\\\\\\\n4637 & S008 & P15 & 1.648930 \\\\\\\\\\n4727 & S008 & P19 & 7.907884 \\\\\\\\\\n4821 & S008 & P241 & 0.861323 \\\\\\\\\\n4864 & S008 & P242 & 0.792664 \\\\\\\\\\n4905 & S008 & P251 & 0.384466 \\\\\\\\\\n4946 & S008 & P252 & 0.747517 \\\\\\\\\\n4988 & S009 & P15 & 1.647874 \\\\\\\\\\n5078 & S009 & P19 & 7.697961 \\\\\\\\\\n5172 & S010 & P15 & 1.647874 \\\\\\\\\\n5262 & S010 & P19 & 7.697961 \\\\\\\\\\n5356 & S011 & P15 & 1.645155 \\\\\\\\\\n5446 & S011 & P19 & 8.021960 \\\\\\\\\\n5540 & S012 & P15 & 1.645155 \\\\\\\\\\n5630 & S012 & P19 & 8.021960 \\\\\\\\\\n5724 & S013 & P07 & 0.587715 \\\\\\\\\\n5807 & S013 & P08 & 0.287760 \\\\\\\\\\n5896 & S013 & P10 & 0.528535 \\\\\\\\\\n5979 & S013 & P11 & 12.103493 \\\\\\\\\\n6061 & S013 & P12 & 0.844891 \\\\\\\\\\n6143 & S013 & P15 & 0.754633 \\\\\\\\\\n6233 & S013 & P19 & 6.712056 \\\\\\\\\\n6327 & S013 & P241 & 0.575685 \\\\\\\\\\n6370 & S013 & P242 & 0.599889 \\\\\\\\\\n6411 & S013 & P251 & 0.194517 \\\\\\\\\\n6452 & S013 & P252 & 0.432021 \\\\\\\\\\n6494 & S014 & P07 & 0.587715 \\\\\\\\\\n6577 & S014 & P08 & 0.287760 \\\\\\\\\\n6666 & S014 & P10 & 0.528535 \\\\\\\\\\n6749 & S014 & P11 & 12.103493 \\\\\\\\\\n6831 & S014 & P12 & 0.844891 \\\\\\\\\\n6913 & S014 & P15 & 0.754633 \\\\\\\\\\n7003 & S014 & P19 & 6.712056 \\\\\\\\\\n7097 & S014 & P241 & 0.575685 \\\\\\\\\\n7140 & S014 & P242 & 0.599889 \\\\\\\\\\n7181 & S014 & P251 & 0.194517 \\\\\\\\\\n7222 & S014 & P252 & 0.432021 \\\\\\\\\\n7264 & S015 & P07 & 0.589697 \\\\\\\\\\n7347 & S015 & P15 & 0.736514 \\\\\\\\\\n7437 & S015 & P19 & 6.246702 \\\\\\\\\\n7531 & S016 & P07 & 0.589697 \\\\\\\\\\n7614 & S016 & P15 & 0.736514 \\\\\\\\\\n7704 & S016 & P19 & 6.246702 \\\\\\\\\\n\\\\end{tabular}\\n'"
      ]
     },
     "execution_count": 40,
     "metadata": {},
     "output_type": "execute_result"
    }
   ],
   "execution_count": 40
  },
  {
   "metadata": {
    "ExecuteTime": {
     "end_time": "2024-12-08T14:53:48.600927Z",
     "start_time": "2024-12-08T14:53:47.962248Z"
    }
   },
   "cell_type": "code",
   "source": "df_calib_error[df_calib_error['id_p']=='p15']",
   "id": "4826bf67c254bc86",
   "outputs": [
    {
     "ename": "NameError",
     "evalue": "name 'df_calib_error' is not defined",
     "output_type": "error",
     "traceback": [
      "\u001B[1;31m---------------------------------------------------------------------------\u001B[0m",
      "\u001B[1;31mNameError\u001B[0m                                 Traceback (most recent call last)",
      "Cell \u001B[1;32mIn[1], line 1\u001B[0m\n\u001B[1;32m----> 1\u001B[0m df_calib_error[df_calib_error[\u001B[38;5;124m'\u001B[39m\u001B[38;5;124mid_p\u001B[39m\u001B[38;5;124m'\u001B[39m]\u001B[38;5;241m==\u001B[39m\u001B[38;5;124m'\u001B[39m\u001B[38;5;124mp15\u001B[39m\u001B[38;5;124m'\u001B[39m]\n",
      "\u001B[1;31mNameError\u001B[0m: name 'df_calib_error' is not defined"
     ]
    }
   ],
   "execution_count": 1
  },
  {
   "metadata": {
    "ExecuteTime": {
     "end_time": "2024-12-07T11:07:07.379860Z",
     "start_time": "2024-12-07T11:07:07.364498Z"
    }
   },
   "cell_type": "code",
   "source": "df_failed_trials[df_failed_trials['id_p'] in ['P15', 'P19']].groupby(['id_s', 'id_p'])['calib_error'].sum().reset_index()",
   "id": "4c2bec8cc8943e66",
   "outputs": [
    {
     "data": {
      "text/plain": [
       "     id_s id_p  calib_error\n",
       "0    S001  P07   115.013085\n",
       "1    S001  P08   100.751708\n",
       "2    S001  P10   465.115303\n",
       "3    S001  P11  1638.498202\n",
       "4    S001  P12   389.787166\n",
       "..    ...  ...          ...\n",
       "177  S024  P19  -188.000000\n",
       "178  S025  P15  -180.000000\n",
       "179  S025  P19  -188.000000\n",
       "180  S026  P15  -180.000000\n",
       "181  S026  P19  -188.000000\n",
       "\n",
       "[182 rows x 3 columns]"
      ],
      "text/html": [
       "<div>\n",
       "<style scoped>\n",
       "    .dataframe tbody tr th:only-of-type {\n",
       "        vertical-align: middle;\n",
       "    }\n",
       "\n",
       "    .dataframe tbody tr th {\n",
       "        vertical-align: top;\n",
       "    }\n",
       "\n",
       "    .dataframe thead th {\n",
       "        text-align: right;\n",
       "    }\n",
       "</style>\n",
       "<table border=\"1\" class=\"dataframe\">\n",
       "  <thead>\n",
       "    <tr style=\"text-align: right;\">\n",
       "      <th></th>\n",
       "      <th>id_s</th>\n",
       "      <th>id_p</th>\n",
       "      <th>calib_error</th>\n",
       "    </tr>\n",
       "  </thead>\n",
       "  <tbody>\n",
       "    <tr>\n",
       "      <th>0</th>\n",
       "      <td>S001</td>\n",
       "      <td>P07</td>\n",
       "      <td>115.013085</td>\n",
       "    </tr>\n",
       "    <tr>\n",
       "      <th>1</th>\n",
       "      <td>S001</td>\n",
       "      <td>P08</td>\n",
       "      <td>100.751708</td>\n",
       "    </tr>\n",
       "    <tr>\n",
       "      <th>2</th>\n",
       "      <td>S001</td>\n",
       "      <td>P10</td>\n",
       "      <td>465.115303</td>\n",
       "    </tr>\n",
       "    <tr>\n",
       "      <th>3</th>\n",
       "      <td>S001</td>\n",
       "      <td>P11</td>\n",
       "      <td>1638.498202</td>\n",
       "    </tr>\n",
       "    <tr>\n",
       "      <th>4</th>\n",
       "      <td>S001</td>\n",
       "      <td>P12</td>\n",
       "      <td>389.787166</td>\n",
       "    </tr>\n",
       "    <tr>\n",
       "      <th>...</th>\n",
       "      <td>...</td>\n",
       "      <td>...</td>\n",
       "      <td>...</td>\n",
       "    </tr>\n",
       "    <tr>\n",
       "      <th>177</th>\n",
       "      <td>S024</td>\n",
       "      <td>P19</td>\n",
       "      <td>-188.000000</td>\n",
       "    </tr>\n",
       "    <tr>\n",
       "      <th>178</th>\n",
       "      <td>S025</td>\n",
       "      <td>P15</td>\n",
       "      <td>-180.000000</td>\n",
       "    </tr>\n",
       "    <tr>\n",
       "      <th>179</th>\n",
       "      <td>S025</td>\n",
       "      <td>P19</td>\n",
       "      <td>-188.000000</td>\n",
       "    </tr>\n",
       "    <tr>\n",
       "      <th>180</th>\n",
       "      <td>S026</td>\n",
       "      <td>P15</td>\n",
       "      <td>-180.000000</td>\n",
       "    </tr>\n",
       "    <tr>\n",
       "      <th>181</th>\n",
       "      <td>S026</td>\n",
       "      <td>P19</td>\n",
       "      <td>-188.000000</td>\n",
       "    </tr>\n",
       "  </tbody>\n",
       "</table>\n",
       "<p>182 rows × 3 columns</p>\n",
       "</div>"
      ]
     },
     "execution_count": 33,
     "metadata": {},
     "output_type": "execute_result"
    }
   ],
   "execution_count": 33
  },
  {
   "metadata": {
    "ExecuteTime": {
     "end_time": "2024-12-07T09:42:36.013251Z",
     "start_time": "2024-12-07T09:42:36.006697Z"
    }
   },
   "cell_type": "code",
   "source": "df_failed_trials['HPE']",
   "id": "98d54dd4b8616d81",
   "outputs": [
    {
     "data": {
      "text/plain": [
       "0        1\n",
       "1        1\n",
       "2        1\n",
       "3        1\n",
       "4        1\n",
       "        ..\n",
       "13315    1\n",
       "13316    1\n",
       "13317    1\n",
       "13318    1\n",
       "13319    1\n",
       "Name: HPE, Length: 13320, dtype: int64"
      ]
     },
     "execution_count": 26,
     "metadata": {},
     "output_type": "execute_result"
    }
   ],
   "execution_count": 26
  },
  {
   "metadata": {
    "ExecuteTime": {
     "end_time": "2024-12-07T09:42:17.946888Z",
     "start_time": "2024-12-07T09:42:17.941688Z"
    }
   },
   "cell_type": "code",
   "source": "df_temp['HPE']",
   "id": "a66fce84603e2016",
   "outputs": [
    {
     "data": {
      "text/plain": [
       "0        0\n",
       "1        0\n",
       "2        0\n",
       "3        0\n",
       "4        0\n",
       "        ..\n",
       "13315    0\n",
       "13316    0\n",
       "13317    0\n",
       "13318    0\n",
       "13319    0\n",
       "Name: HPE, Length: 13320, dtype: int64"
      ]
     },
     "execution_count": 25,
     "metadata": {},
     "output_type": "execute_result"
    }
   ],
   "execution_count": 25
  },
  {
   "metadata": {},
   "cell_type": "code",
   "outputs": [],
   "execution_count": null,
   "source": [
    "\\begin{tabular}{lllr}\n",
    "id\\_s & id\\_p & calib\\_error \\\\\n",
    "S001, S002 & P07 & 1.385700 \\\\\n",
    "S001, S002 & P08 & 1.132042 \\\\\n",
    "S001, S002 & P10 & 5.603799 \\\\\n",
    "S001, S002 & P11 & 19.981685 \\\\\n",
    "S001, S002 & P12 & 4.753502 \\\\\n",
    "S001, S002 & P15 & 1.730408 \\\\\n",
    "S001, S002 & P19 & 7.267665 \\\\\n",
    "S001, S002 & P241 & 2.545337 \\\\\n",
    "S001, S002 & P242 & 2.525373 \\\\\n",
    "S001, S002 & P251 & 0.469230 \\\\\n",
    "S001, S002 & P252 & 3.183073 \\\\\n",
    "S003, S004 & P15 & 1.736733 \\\\\n",
    "S003, S004 & P19 & 7.283054 \\\\\n",
    "S005, S006 & P07 & 1.462317 \\\\\n",
    "S005, S006 & P08 & 0.758549 \\\\\n",
    "S005, S006 & P10 & 0.969596 \\\\\n",
    "S005, S006 & P11 & 19.971588 \\\\\n",
    "S005, S006 & P12 & 1.415610 \\\\\n",
    "S005, S006 & P15 & 1.651214 \\\\\n",
    "S005, S006 & P19 & 7.696826 \\\\\n",
    "S005, S006 & P241 & 0.885035 \\\\\n",
    "S005, S006 & P242 & 0.760580 \\\\\n",
    "S005, S006 & P251 & 0.370609 \\\\\n",
    "S005, S006 & P252 & 0.758476 \\\\\n",
    "S007, S008 & P07 & 1.452339 \\\\\n",
    "S007, S008 & P08 & 0.737334 \\\\\n",
    "S007, S008 & P10 & 0.959856 \\\\\n",
    "S007, S008 & P11 & 20.848321 \\\\\n",
    "S007, S008 & P12 & 1.405195 \\\\\n",
    "S007, S008 & P15 & 1.648930 \\\\\n",
    "S007, S008 & P19 & 7.907884 \\\\\n",
    "S007, S008 & P241 & 0.861323 \\\\\n",
    "S007, S008 & P242 & 0.792664 \\\\\n",
    "S007, S008 & P251 & 0.384466 \\\\\n",
    "S007, S008 & P252 & 0.747517 \\\\\n",
    "S009, S010 & P15 & 1.647874 \\\\\n",
    "S009, S010 & P19 & 7.697961 \\\\\n",
    "S011, S012 & P15 & 1.645155 \\\\\n",
    "S011, S012 & P19 & 8.021960 \\\\\n",
    "S013, S014 & P07 & 0.587715 \\\\\n",
    "S013, S014 & P08 & 0.287760 \\\\\n",
    "S013, S014 & P10 & 0.528535 \\\\\n",
    "S013, S014 & P11 & 12.103493 \\\\\n",
    "S013, S014 & P12 & 0.844891 \\\\\n",
    "S013, S014 & P15 & 0.754633 \\\\\n",
    "S013, S014 & P19 & 6.712056 \\\\\n",
    "S013, S014 & P241 & 0.575685 \\\\\n",
    "S013, S014 & P242 & 0.599889 \\\\\n",
    "S013, S014 & P251 & 0.194517 \\\\\n",
    "S013, S014 & P252 & 0.432021 \\\\\n",
    "S015, S016 & P07 & 0.589697 \\\\\n",
    "S015, S016 & P15 & 0.736514 \\\\\n",
    "S015, S016 & P19 & 6.246702 \\\\\n",
    "\\end{tabular}"
   ],
   "id": "5850c8199ade853a"
  },
  {
   "metadata": {},
   "cell_type": "code",
   "outputs": [],
   "execution_count": null,
   "source": [
    "\\begin{tabular}{lllr}\n",
    "id\\_s & id\\_p & calib\\_error & id\\_s & id\\_p & calib\\_error \\\\\n",
    "S001, S002 & P07 & 1.385700 & S009, S010 & P15 & 1.647874 \\\\\n",
    "S001, S002 & P08 & 1.132042 & S009, S010 & P19 & 7.697961 \\\\\n",
    "S001, S002 & P10 & 5.603799 & S011, S012 & P15 & 1.645155 \\\\\n",
    "S001, S002 & P11 & 19.981685 & S011, S012 & P19 & 8.021960 \\\\\n",
    "S001, S002 & P12 & 4.753502 & S013, S014 & P07 & 0.587715 \\\\\n",
    "S001, S002 & P15 & 1.730408 & S013, S014 & P08 & 0.287760 \\\\\n",
    "S001, S002 & P19 & 7.267665 & S013, S014 & P10 & 0.528535 \\\\\n",
    "S001, S002 & P241 & 2.545337 & S013, S014 & P11 & 12.103493 \\\\\n",
    "S001, S002 & P242 & 2.525373 & S013, S014 & P12 & 0.844891 \\\\\n",
    "S001, S002 & P251 & 0.469230 & S013, S014 & P15 & 0.754633 \\\\\n",
    "S001, S002 & P252 & 3.183073 & S013, S014 & P19 & 6.712056 \\\\\n",
    "S003, S004 & P15 & 1.736733 & S013, S014 & P241 & 0.575685 \\\\\n",
    "S003, S004 & P19 & 7.283054 & S013, S014 & P242 & 0.599889 \\\\\n",
    "S005, S006 & P07 & 1.462317 & S013, S014 & P251 & 0.194517 \\\\\n",
    "S005, S006 & P08 & 0.758549 & S013, S014 & P252 & 0.432021 \\\\\n",
    "S005, S006 & P10 & 0.969596 & S015, S016 & P07 & 0.589697 \\\\\n",
    "S005, S006 & P11 & 19.971588 & S015, S016 & P15 & 0.736514 \\\\\n",
    "S005, S006 & P12 & 1.415610 & S015, S016 & P19 & 6.246702 \\\\\n",
    "S005, S006 & P15 & 1.651214 & & & \\\\\n",
    "S005, S006 & P19 & 7.696826 & & & \\\\\n",
    "S005, S006 & P241 & 0.885035 & & & \\\\\n",
    "S005, S006 & P242 & 0.760580 & & & \\\\\n",
    "S005, S006 & P251 & 0.370609 & & & \\\\\n",
    "S005, S006 & P252 & 0.758476 & & & \\\\\n",
    "S007, S008 & P07 & 1.452339 & & & \\\\\n",
    "S007, S008 & P08 & 0.737334 & & & \\\\\n",
    "S007, S008 & P10 & 0.959856 & & & \\\\\n",
    "S007, S008 & P11 & 20.848321 & & & \\\\\n",
    "S007, S008 & P12 & 1.405195 & & & \\\\\n",
    "S007, S008 & P15 & 1.648930 & & & \\\\\n",
    "S007, S008 & P19 & 7.907884 & & & \\\\\n",
    "S007, S008 & P241 & 0.861323 & & & \\\\\n",
    "S007, S008 & P242 & 0.792664 & & & \\\\\n",
    "S007, S008 & P251 & 0.384466 & & & \\\\\n",
    "S007, S008 & P252 & 0.747517 & & & \\\\\n",
    "\\end{tabular}"
   ],
   "id": "60f61c80417e65b"
  }
 ],
 "metadata": {
  "kernelspec": {
   "display_name": "Python 3",
   "language": "python",
   "name": "python3"
  },
  "language_info": {
   "codemirror_mode": {
    "name": "ipython",
    "version": 2
   },
   "file_extension": ".py",
   "mimetype": "text/x-python",
   "name": "python",
   "nbconvert_exporter": "python",
   "pygments_lexer": "ipython2",
   "version": "2.7.6"
  }
 },
 "nbformat": 4,
 "nbformat_minor": 5
}
